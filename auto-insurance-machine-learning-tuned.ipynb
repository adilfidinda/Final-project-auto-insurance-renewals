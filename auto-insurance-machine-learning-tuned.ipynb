{
 "cells": [
  {
   "cell_type": "code",
   "execution_count": 28,
   "metadata": {
    "id": "Lv_8ciqcjVhL"
   },
   "outputs": [],
   "source": [
    "import pandas as pd\n",
    "import numpy as np\n",
    "from sklearn.preprocessing import OneHotEncoder\n",
    "from sklearn.model_selection import train_test_split, RandomizedSearchCV\n",
    "from sklearn.preprocessing import MinMaxScaler, RobustScaler, StandardScaler\n",
    "from sklearn.utils import resample\n",
    "import imblearn\n",
    "from imblearn.over_sampling import SMOTE\n",
    "from sklearn.linear_model import LogisticRegression\n",
    "from sklearn.svm import SVC\n",
    "from sklearn.tree import DecisionTreeClassifier\n",
    "from sklearn.ensemble import RandomForestClassifier\n",
    "from xgboost import XGBClassifier\n",
    "from sklearn.metrics import confusion_matrix, classification_report, accuracy_score, precision_score, recall_score, f1_score\n",
    "import warnings\n",
    "warnings.filterwarnings('ignore')"
   ]
  },
  {
   "cell_type": "markdown",
   "metadata": {
    "id": "veCll5vXNYXN"
   },
   "source": [
    "## Dataset"
   ]
  },
  {
   "cell_type": "code",
   "execution_count": 29,
   "metadata": {
    "colab": {
     "base_uri": "https://localhost:8080/",
     "height": 461
    },
    "id": "X7er3DJjm_Bh",
    "outputId": "28d172d2-1751-40c1-8cd0-f0c077cb9c97",
    "scrolled": true
   },
   "outputs": [
    {
     "data": {
      "text/html": [
       "<div>\n",
       "<style scoped>\n",
       "    .dataframe tbody tr th:only-of-type {\n",
       "        vertical-align: middle;\n",
       "    }\n",
       "\n",
       "    .dataframe tbody tr th {\n",
       "        vertical-align: top;\n",
       "    }\n",
       "\n",
       "    .dataframe thead th {\n",
       "        text-align: right;\n",
       "    }\n",
       "</style>\n",
       "<table border=\"1\" class=\"dataframe\">\n",
       "  <thead>\n",
       "    <tr style=\"text-align: right;\">\n",
       "      <th></th>\n",
       "      <th>Customer Lifetime Value</th>\n",
       "      <th>Response</th>\n",
       "      <th>Coverage</th>\n",
       "      <th>Education</th>\n",
       "      <th>Gender</th>\n",
       "      <th>Income</th>\n",
       "      <th>Monthly Premium Auto</th>\n",
       "      <th>Number of Policies</th>\n",
       "      <th>Total Claim Amount</th>\n",
       "      <th>Vehicle Size</th>\n",
       "      <th>...</th>\n",
       "      <th>Sales Channel_Agent</th>\n",
       "      <th>Sales Channel_Branch</th>\n",
       "      <th>Sales Channel_Call Center</th>\n",
       "      <th>Sales Channel_Web</th>\n",
       "      <th>Vehicle Class_Four-Door Car</th>\n",
       "      <th>Vehicle Class_Luxury Car</th>\n",
       "      <th>Vehicle Class_Luxury SUV</th>\n",
       "      <th>Vehicle Class_SUV</th>\n",
       "      <th>Vehicle Class_Sports Car</th>\n",
       "      <th>Vehicle Class_Two-Door Car</th>\n",
       "    </tr>\n",
       "    <tr>\n",
       "      <th>Customer</th>\n",
       "      <th></th>\n",
       "      <th></th>\n",
       "      <th></th>\n",
       "      <th></th>\n",
       "      <th></th>\n",
       "      <th></th>\n",
       "      <th></th>\n",
       "      <th></th>\n",
       "      <th></th>\n",
       "      <th></th>\n",
       "      <th></th>\n",
       "      <th></th>\n",
       "      <th></th>\n",
       "      <th></th>\n",
       "      <th></th>\n",
       "      <th></th>\n",
       "      <th></th>\n",
       "      <th></th>\n",
       "      <th></th>\n",
       "      <th></th>\n",
       "      <th></th>\n",
       "    </tr>\n",
       "  </thead>\n",
       "  <tbody>\n",
       "    <tr>\n",
       "      <th>BU79786</th>\n",
       "      <td>2763.519279</td>\n",
       "      <td>0</td>\n",
       "      <td>0</td>\n",
       "      <td>2</td>\n",
       "      <td>1</td>\n",
       "      <td>56274</td>\n",
       "      <td>69</td>\n",
       "      <td>1</td>\n",
       "      <td>384.811147</td>\n",
       "      <td>1</td>\n",
       "      <td>...</td>\n",
       "      <td>1</td>\n",
       "      <td>0</td>\n",
       "      <td>0</td>\n",
       "      <td>0</td>\n",
       "      <td>0</td>\n",
       "      <td>0</td>\n",
       "      <td>0</td>\n",
       "      <td>0</td>\n",
       "      <td>0</td>\n",
       "      <td>1</td>\n",
       "    </tr>\n",
       "    <tr>\n",
       "      <th>QZ44356</th>\n",
       "      <td>6979.535903</td>\n",
       "      <td>0</td>\n",
       "      <td>1</td>\n",
       "      <td>2</td>\n",
       "      <td>1</td>\n",
       "      <td>0</td>\n",
       "      <td>94</td>\n",
       "      <td>8</td>\n",
       "      <td>1131.464935</td>\n",
       "      <td>1</td>\n",
       "      <td>...</td>\n",
       "      <td>1</td>\n",
       "      <td>0</td>\n",
       "      <td>0</td>\n",
       "      <td>0</td>\n",
       "      <td>1</td>\n",
       "      <td>0</td>\n",
       "      <td>0</td>\n",
       "      <td>0</td>\n",
       "      <td>0</td>\n",
       "      <td>0</td>\n",
       "    </tr>\n",
       "    <tr>\n",
       "      <th>AI49188</th>\n",
       "      <td>12887.431650</td>\n",
       "      <td>0</td>\n",
       "      <td>2</td>\n",
       "      <td>2</td>\n",
       "      <td>1</td>\n",
       "      <td>48767</td>\n",
       "      <td>108</td>\n",
       "      <td>2</td>\n",
       "      <td>566.472247</td>\n",
       "      <td>1</td>\n",
       "      <td>...</td>\n",
       "      <td>1</td>\n",
       "      <td>0</td>\n",
       "      <td>0</td>\n",
       "      <td>0</td>\n",
       "      <td>0</td>\n",
       "      <td>0</td>\n",
       "      <td>0</td>\n",
       "      <td>0</td>\n",
       "      <td>0</td>\n",
       "      <td>1</td>\n",
       "    </tr>\n",
       "    <tr>\n",
       "      <th>WW63253</th>\n",
       "      <td>7645.861827</td>\n",
       "      <td>0</td>\n",
       "      <td>0</td>\n",
       "      <td>2</td>\n",
       "      <td>0</td>\n",
       "      <td>0</td>\n",
       "      <td>106</td>\n",
       "      <td>7</td>\n",
       "      <td>529.881344</td>\n",
       "      <td>1</td>\n",
       "      <td>...</td>\n",
       "      <td>0</td>\n",
       "      <td>0</td>\n",
       "      <td>1</td>\n",
       "      <td>0</td>\n",
       "      <td>0</td>\n",
       "      <td>0</td>\n",
       "      <td>0</td>\n",
       "      <td>1</td>\n",
       "      <td>0</td>\n",
       "      <td>0</td>\n",
       "    </tr>\n",
       "    <tr>\n",
       "      <th>HB64268</th>\n",
       "      <td>2813.692575</td>\n",
       "      <td>0</td>\n",
       "      <td>0</td>\n",
       "      <td>2</td>\n",
       "      <td>0</td>\n",
       "      <td>43836</td>\n",
       "      <td>73</td>\n",
       "      <td>1</td>\n",
       "      <td>138.130879</td>\n",
       "      <td>1</td>\n",
       "      <td>...</td>\n",
       "      <td>1</td>\n",
       "      <td>0</td>\n",
       "      <td>0</td>\n",
       "      <td>0</td>\n",
       "      <td>1</td>\n",
       "      <td>0</td>\n",
       "      <td>0</td>\n",
       "      <td>0</td>\n",
       "      <td>0</td>\n",
       "      <td>0</td>\n",
       "    </tr>\n",
       "  </tbody>\n",
       "</table>\n",
       "<p>5 rows × 49 columns</p>\n",
       "</div>"
      ],
      "text/plain": [
       "          Customer Lifetime Value  Response  Coverage  Education  Gender  \\\n",
       "Customer                                                                   \n",
       "BU79786               2763.519279         0         0          2       1   \n",
       "QZ44356               6979.535903         0         1          2       1   \n",
       "AI49188              12887.431650         0         2          2       1   \n",
       "WW63253               7645.861827         0         0          2       0   \n",
       "HB64268               2813.692575         0         0          2       0   \n",
       "\n",
       "          Income  Monthly Premium Auto  Number of Policies  \\\n",
       "Customer                                                     \n",
       "BU79786    56274                    69                   1   \n",
       "QZ44356        0                    94                   8   \n",
       "AI49188    48767                   108                   2   \n",
       "WW63253        0                   106                   7   \n",
       "HB64268    43836                    73                   1   \n",
       "\n",
       "          Total Claim Amount  Vehicle Size  ...  Sales Channel_Agent  \\\n",
       "Customer                                    ...                        \n",
       "BU79786           384.811147             1  ...                    1   \n",
       "QZ44356          1131.464935             1  ...                    1   \n",
       "AI49188           566.472247             1  ...                    1   \n",
       "WW63253           529.881344             1  ...                    0   \n",
       "HB64268           138.130879             1  ...                    1   \n",
       "\n",
       "          Sales Channel_Branch  Sales Channel_Call Center  Sales Channel_Web  \\\n",
       "Customer                                                                       \n",
       "BU79786                      0                          0                  0   \n",
       "QZ44356                      0                          0                  0   \n",
       "AI49188                      0                          0                  0   \n",
       "WW63253                      0                          1                  0   \n",
       "HB64268                      0                          0                  0   \n",
       "\n",
       "          Vehicle Class_Four-Door Car  Vehicle Class_Luxury Car  \\\n",
       "Customer                                                          \n",
       "BU79786                             0                         0   \n",
       "QZ44356                             1                         0   \n",
       "AI49188                             0                         0   \n",
       "WW63253                             0                         0   \n",
       "HB64268                             1                         0   \n",
       "\n",
       "          Vehicle Class_Luxury SUV  Vehicle Class_SUV  \\\n",
       "Customer                                                \n",
       "BU79786                          0                  0   \n",
       "QZ44356                          0                  0   \n",
       "AI49188                          0                  0   \n",
       "WW63253                          0                  1   \n",
       "HB64268                          0                  0   \n",
       "\n",
       "          Vehicle Class_Sports Car  Vehicle Class_Two-Door Car  \n",
       "Customer                                                        \n",
       "BU79786                          0                           1  \n",
       "QZ44356                          0                           0  \n",
       "AI49188                          0                           1  \n",
       "WW63253                          0                           0  \n",
       "HB64268                          0                           0  \n",
       "\n",
       "[5 rows x 49 columns]"
      ]
     },
     "execution_count": 29,
     "metadata": {},
     "output_type": "execute_result"
    }
   ],
   "source": [
    "df_processed = pd.read_csv(\"data_ml.csv\", index_col = 0)\n",
    "df_processed.head()"
   ]
  },
  {
   "cell_type": "markdown",
   "metadata": {
    "id": "9emzY1N4LEU8"
   },
   "source": [
    "# Splitting Data"
   ]
  },
  {
   "cell_type": "code",
   "execution_count": 30,
   "metadata": {
    "id": "8YZnNnkXLDzp"
   },
   "outputs": [],
   "source": [
    "x = df_processed.drop(columns = ['Response'] , axis = 1)\n",
    "y = df_processed['Response']"
   ]
  },
  {
   "cell_type": "code",
   "execution_count": 31,
   "metadata": {
    "id": "AwkYUTgFMCLU"
   },
   "outputs": [],
   "source": [
    "x_train, x_test, y_train, y_test = train_test_split(x, y, train_size=.8, stratify= y, random_state = 42)"
   ]
  },
  {
   "cell_type": "markdown",
   "metadata": {
    "id": "0Yj7ozxSMMmi"
   },
   "source": [
    "# Handling Imbalance Data"
   ]
  },
  {
   "cell_type": "code",
   "execution_count": 32,
   "metadata": {
    "colab": {
     "base_uri": "https://localhost:8080/"
    },
    "id": "i20dCbkRM9TK",
    "outputId": "de7742b5-6087-48b1-9f32-9529bcbf3939"
   },
   "outputs": [
    {
     "data": {
      "text/plain": [
       "0    6194\n",
       "1    1042\n",
       "Name: Response, dtype: int64"
      ]
     },
     "execution_count": 32,
     "metadata": {},
     "output_type": "execute_result"
    }
   ],
   "source": [
    "y_train.value_counts()"
   ]
  },
  {
   "cell_type": "markdown",
   "metadata": {
    "id": "SuwjIX1JMVta"
   },
   "source": [
    "#### Random Over Sampling"
   ]
  },
  {
   "cell_type": "code",
   "execution_count": 33,
   "metadata": {
    "colab": {
     "base_uri": "https://localhost:8080/"
    },
    "id": "X0bWeSkZMPhl",
    "outputId": "e9fdf446-fad4-4152-9197-8622ae1396b7"
   },
   "outputs": [
    {
     "data": {
      "text/plain": [
       "1    6194\n",
       "0    6194\n",
       "Name: Response, dtype: int64"
      ]
     },
     "execution_count": 33,
     "metadata": {},
     "output_type": "execute_result"
    }
   ],
   "source": [
    "df_train = pd.concat([x_train, y_train], axis=1)\n",
    "not_renewal = df_train[df_train['Response'] == 0]\n",
    "renewal = df_train[df_train['Response'] == 1]\n",
    "\n",
    "renewal_oversample = resample(renewal, replace=True, n_samples = len(not_renewal), random_state = 42)\n",
    "df_OverSampled = pd.concat([not_renewal, renewal_oversample])\n",
    "df_OverSampled['Response'].value_counts()"
   ]
  },
  {
   "cell_type": "code",
   "execution_count": 34,
   "metadata": {
    "id": "mzYilLaeN-jQ"
   },
   "outputs": [],
   "source": [
    "x_train_os = df_OverSampled.drop(columns = ['Response'])\n",
    "y_train_os = df_OverSampled['Response']"
   ]
  },
  {
   "cell_type": "markdown",
   "metadata": {
    "id": "CMSbi3WuOdhl"
   },
   "source": [
    "#### Smote"
   ]
  },
  {
   "cell_type": "code",
   "execution_count": 35,
   "metadata": {
    "colab": {
     "base_uri": "https://localhost:8080/"
    },
    "id": "UdXTHZtFOf1M",
    "outputId": "5f1355cf-ae55-43cf-bf4c-9d3ff0e99a54"
   },
   "outputs": [
    {
     "data": {
      "text/plain": [
       "1    6194\n",
       "0    6194\n",
       "Name: Response, dtype: int64"
      ]
     },
     "execution_count": 35,
     "metadata": {},
     "output_type": "execute_result"
    }
   ],
   "source": [
    "sm = SMOTE(random_state=42)\n",
    "x_train_sm, y_train_sm = sm.fit_sample(x_train, y_train)\n",
    "\n",
    "x = pd.DataFrame(data = x_train_sm, columns = x_train.columns)\n",
    "y = pd.DataFrame(data = y_train_sm, columns = ['Response'])\n",
    "df_smote = x.join(y)\n",
    "# df_smote = pd.concat([x_train_sm, y_train_sm], axis = 1)\n",
    "df_smote['Response'].value_counts()"
   ]
  },
  {
   "cell_type": "code",
   "execution_count": 36,
   "metadata": {},
   "outputs": [],
   "source": [
    "columns_continuous = ['Customer Lifetime Value', 'Income', 'Monthly Premium Auto', 'Number of Policies', 'Total Claim Amount']"
   ]
  },
  {
   "cell_type": "code",
   "execution_count": 37,
   "metadata": {},
   "outputs": [],
   "source": [
    "std_scale = StandardScaler()\n",
    "mm_scale = MinMaxScaler()\n",
    "rb_scale = RobustScaler()"
   ]
  },
  {
   "cell_type": "markdown",
   "metadata": {
    "id": "A2ABFHUaP5kn"
   },
   "source": [
    "# Tuning Model"
   ]
  },
  {
   "cell_type": "markdown",
   "metadata": {},
   "source": [
    "## SVM"
   ]
  },
  {
   "cell_type": "code",
   "execution_count": 38,
   "metadata": {},
   "outputs": [],
   "source": [
    "svm = SVC(max_iter = 1000)"
   ]
  },
  {
   "cell_type": "code",
   "execution_count": 39,
   "metadata": {},
   "outputs": [],
   "source": [
    "param_svm = {'C' : np.linspace(0.00001, 10, 1000),\n",
    "             'kernel' : ['linear', 'rbf'],\n",
    "             \"gamma\" : np.arange(0.0001, 100)}"
   ]
  },
  {
   "cell_type": "markdown",
   "metadata": {},
   "source": [
    "#### Random Over Sampling without Scaling"
   ]
  },
  {
   "cell_type": "code",
   "execution_count": 40,
   "metadata": {},
   "outputs": [
    {
     "name": "stdout",
     "output_type": "stream",
     "text": [
      "Fitting 3 folds for each of 300 candidates, totalling 900 fits\n"
     ]
    },
    {
     "name": "stderr",
     "output_type": "stream",
     "text": [
      "[Parallel(n_jobs=-1)]: Using backend LokyBackend with 4 concurrent workers.\n",
      "[Parallel(n_jobs=-1)]: Done  42 tasks      | elapsed:  1.2min\n",
      "[Parallel(n_jobs=-1)]: Done 192 tasks      | elapsed:  5.1min\n",
      "[Parallel(n_jobs=-1)]: Done 442 tasks      | elapsed:  9.9min\n",
      "[Parallel(n_jobs=-1)]: Done 792 tasks      | elapsed: 16.5min\n",
      "[Parallel(n_jobs=-1)]: Done 900 out of 900 | elapsed: 19.0min finished\n"
     ]
    },
    {
     "data": {
      "text/plain": [
       "RandomizedSearchCV(cv=3, estimator=SVC(max_iter=1000), n_iter=300, n_jobs=-1,\n",
       "                   param_distributions={'C': array([1.00000e-05, 1.00200e-02, 2.00300e-02, 3.00400e-02, 4.00500e-02,\n",
       "       5.00600e-02, 6.00700e-02, 7.00800e-02, 8.00900e-02, 9.01000e-02,\n",
       "       1.00110e-01, 1.10120e-01, 1.20130e-01, 1.30140e-01, 1.40150e-01,\n",
       "       1.50160e-01, 1.60170e-01, 1.70180e-01, 1.80190e-01, 1.90200e-01,\n",
       "       2.00...\n",
       "       7.50001e+01, 7.60001e+01, 7.70001e+01, 7.80001e+01, 7.90001e+01,\n",
       "       8.00001e+01, 8.10001e+01, 8.20001e+01, 8.30001e+01, 8.40001e+01,\n",
       "       8.50001e+01, 8.60001e+01, 8.70001e+01, 8.80001e+01, 8.90001e+01,\n",
       "       9.00001e+01, 9.10001e+01, 9.20001e+01, 9.30001e+01, 9.40001e+01,\n",
       "       9.50001e+01, 9.60001e+01, 9.70001e+01, 9.80001e+01, 9.90001e+01]),\n",
       "                                        'kernel': ['linear', 'rbf']},\n",
       "                   scoring='f1', verbose=1)"
      ]
     },
     "execution_count": 40,
     "metadata": {},
     "output_type": "execute_result"
    }
   ],
   "source": [
    "svm_os = RandomizedSearchCV(estimator = svm, param_distributions = param_svm, cv = 3, n_jobs = -1 , n_iter=300, verbose = 1, scoring = 'f1')\n",
    "svm_os.fit(x_train_os, y_train_os)"
   ]
  },
  {
   "cell_type": "code",
   "execution_count": 41,
   "metadata": {},
   "outputs": [
    {
     "data": {
      "text/plain": [
       "SVC(C=9.659659999999999, gamma=1.0001, max_iter=1000)"
      ]
     },
     "execution_count": 41,
     "metadata": {},
     "output_type": "execute_result"
    }
   ],
   "source": [
    "svm_os_tuned = svm_os.best_estimator_\n",
    "pred_train_os = svm_os_tuned.predict(x_train_os)\n",
    "pred_test_os = svm_os_tuned.predict(x_test)\n",
    "svm_os_tuned"
   ]
  },
  {
   "cell_type": "code",
   "execution_count": 42,
   "metadata": {},
   "outputs": [],
   "source": [
    "svm_acc_tuned_train_os = accuracy_score(y_train_os, pred_train_os)\n",
    "svm_acc_tuned_test_os = accuracy_score(y_test, pred_test_os)\n",
    "svm_recall_tuned_train_os = recall_score(y_train_os, pred_train_os)\n",
    "svm_recall_tuned_test_os = recall_score(y_test, pred_test_os)\n",
    "svm_prec_tuned_train_os = precision_score(y_train_os, pred_train_os)\n",
    "svm_prec_tuned_test_os = precision_score(y_test, pred_test_os)\n",
    "svm_f1_tuned_train_os = f1_score(y_train_os, pred_train_os)\n",
    "svm_f1_tuned_test_os = f1_score(y_test, pred_test_os)"
   ]
  },
  {
   "cell_type": "code",
   "execution_count": 43,
   "metadata": {},
   "outputs": [
    {
     "data": {
      "text/html": [
       "<div>\n",
       "<style scoped>\n",
       "    .dataframe tbody tr th:only-of-type {\n",
       "        vertical-align: middle;\n",
       "    }\n",
       "\n",
       "    .dataframe tbody tr th {\n",
       "        vertical-align: top;\n",
       "    }\n",
       "\n",
       "    .dataframe thead th {\n",
       "        text-align: right;\n",
       "    }\n",
       "</style>\n",
       "<table border=\"1\" class=\"dataframe\">\n",
       "  <thead>\n",
       "    <tr style=\"text-align: right;\">\n",
       "      <th></th>\n",
       "      <th>Pred 1</th>\n",
       "      <th>Pred 0</th>\n",
       "    </tr>\n",
       "  </thead>\n",
       "  <tbody>\n",
       "    <tr>\n",
       "      <th>Akt 1</th>\n",
       "      <td>221</td>\n",
       "      <td>39</td>\n",
       "    </tr>\n",
       "    <tr>\n",
       "      <th>Akt 0</th>\n",
       "      <td>0</td>\n",
       "      <td>1549</td>\n",
       "    </tr>\n",
       "  </tbody>\n",
       "</table>\n",
       "</div>"
      ],
      "text/plain": [
       "       Pred 1  Pred 0\n",
       "Akt 1     221      39\n",
       "Akt 0       0    1549"
      ]
     },
     "execution_count": 43,
     "metadata": {},
     "output_type": "execute_result"
    }
   ],
   "source": [
    "cm_svm_tuned_os = confusion_matrix(y_test, pred_test_os, labels=[1, 0])\n",
    "cm_svm_tuned_os = pd.DataFrame(data=cm_svm_tuned_os, index=['Akt 1', 'Akt 0'], columns=['Pred 1', 'Pred 0'])\n",
    "cm_svm_tuned_os"
   ]
  },
  {
   "cell_type": "code",
   "execution_count": 44,
   "metadata": {},
   "outputs": [
    {
     "name": "stdout",
     "output_type": "stream",
     "text": [
      "              precision    recall  f1-score   support\n",
      "\n",
      "           0       0.98      1.00      0.99      1549\n",
      "           1       1.00      0.85      0.92       260\n",
      "\n",
      "    accuracy                           0.98      1809\n",
      "   macro avg       0.99      0.93      0.95      1809\n",
      "weighted avg       0.98      0.98      0.98      1809\n",
      "\n"
     ]
    }
   ],
   "source": [
    "print(classification_report(y_test, pred_test_os))"
   ]
  },
  {
   "cell_type": "code",
   "execution_count": 45,
   "metadata": {},
   "outputs": [],
   "source": [
    "tp_svm_os = cm_svm_tuned_os['Pred 1'][0]\n",
    "tn_svm_os = cm_svm_tuned_os['Pred 0'][1]\n",
    "fp_svm_os = cm_svm_tuned_os['Pred 1'][1]\n",
    "fn_svm_os = cm_svm_tuned_os['Pred 0'][0]"
   ]
  },
  {
   "cell_type": "markdown",
   "metadata": {},
   "source": [
    "#### Smote without Scaling"
   ]
  },
  {
   "cell_type": "code",
   "execution_count": 46,
   "metadata": {},
   "outputs": [
    {
     "name": "stdout",
     "output_type": "stream",
     "text": [
      "Fitting 3 folds for each of 300 candidates, totalling 900 fits\n"
     ]
    },
    {
     "name": "stderr",
     "output_type": "stream",
     "text": [
      "[Parallel(n_jobs=-1)]: Using backend LokyBackend with 4 concurrent workers.\n",
      "[Parallel(n_jobs=-1)]: Done  42 tasks      | elapsed:  1.0min\n",
      "[Parallel(n_jobs=-1)]: Done 192 tasks      | elapsed:  4.1min\n",
      "[Parallel(n_jobs=-1)]: Done 442 tasks      | elapsed: 10.3min\n",
      "[Parallel(n_jobs=-1)]: Done 792 tasks      | elapsed: 16.8min\n",
      "[Parallel(n_jobs=-1)]: Done 900 out of 900 | elapsed: 19.0min finished\n"
     ]
    },
    {
     "data": {
      "text/plain": [
       "RandomizedSearchCV(cv=3, estimator=SVC(max_iter=1000), n_iter=300, n_jobs=-1,\n",
       "                   param_distributions={'C': array([1.00000e-05, 1.00200e-02, 2.00300e-02, 3.00400e-02, 4.00500e-02,\n",
       "       5.00600e-02, 6.00700e-02, 7.00800e-02, 8.00900e-02, 9.01000e-02,\n",
       "       1.00110e-01, 1.10120e-01, 1.20130e-01, 1.30140e-01, 1.40150e-01,\n",
       "       1.50160e-01, 1.60170e-01, 1.70180e-01, 1.80190e-01, 1.90200e-01,\n",
       "       2.00...\n",
       "       7.50001e+01, 7.60001e+01, 7.70001e+01, 7.80001e+01, 7.90001e+01,\n",
       "       8.00001e+01, 8.10001e+01, 8.20001e+01, 8.30001e+01, 8.40001e+01,\n",
       "       8.50001e+01, 8.60001e+01, 8.70001e+01, 8.80001e+01, 8.90001e+01,\n",
       "       9.00001e+01, 9.10001e+01, 9.20001e+01, 9.30001e+01, 9.40001e+01,\n",
       "       9.50001e+01, 9.60001e+01, 9.70001e+01, 9.80001e+01, 9.90001e+01]),\n",
       "                                        'kernel': ['linear', 'rbf']},\n",
       "                   scoring='f1', verbose=1)"
      ]
     },
     "execution_count": 46,
     "metadata": {},
     "output_type": "execute_result"
    }
   ],
   "source": [
    "svm_sm = RandomizedSearchCV(estimator = svm, param_distributions = param_svm, cv = 3, n_jobs = -1 , n_iter=300, verbose = 1, scoring = 'f1')\n",
    "svm_sm.fit(x_train_sm, y_train_sm)"
   ]
  },
  {
   "cell_type": "code",
   "execution_count": 47,
   "metadata": {},
   "outputs": [
    {
     "data": {
      "text/plain": [
       "SVC(C=1.61162, gamma=0.0001, max_iter=1000)"
      ]
     },
     "execution_count": 47,
     "metadata": {},
     "output_type": "execute_result"
    }
   ],
   "source": [
    "svm_sm_tuned = svm_sm.best_estimator_\n",
    "pred_train_sm = svm_sm_tuned.predict(x_train_sm)\n",
    "pred_test_sm = svm_sm_tuned.predict(x_test)\n",
    "svm_sm_tuned"
   ]
  },
  {
   "cell_type": "code",
   "execution_count": 48,
   "metadata": {},
   "outputs": [],
   "source": [
    "svm_acc_tuned_train_sm = accuracy_score(y_train_sm, pred_train_sm)\n",
    "svm_acc_tuned_test_sm = accuracy_score(y_test, pred_test_sm)\n",
    "svm_recall_tuned_train_sm = recall_score(y_train_sm, pred_train_sm)\n",
    "svm_recall_tuned_test_sm = recall_score(y_test, pred_test_sm)\n",
    "svm_prec_tuned_train_sm = precision_score(y_train_sm, pred_train_sm)\n",
    "svm_prec_tuned_test_sm = precision_score(y_test, pred_test_sm)\n",
    "svm_f1_tuned_train_sm = f1_score(y_train_sm, pred_train_sm)\n",
    "svm_f1_tuned_test_sm = f1_score(y_test, pred_test_sm)"
   ]
  },
  {
   "cell_type": "code",
   "execution_count": 49,
   "metadata": {},
   "outputs": [
    {
     "data": {
      "text/html": [
       "<div>\n",
       "<style scoped>\n",
       "    .dataframe tbody tr th:only-of-type {\n",
       "        vertical-align: middle;\n",
       "    }\n",
       "\n",
       "    .dataframe tbody tr th {\n",
       "        vertical-align: top;\n",
       "    }\n",
       "\n",
       "    .dataframe thead th {\n",
       "        text-align: right;\n",
       "    }\n",
       "</style>\n",
       "<table border=\"1\" class=\"dataframe\">\n",
       "  <thead>\n",
       "    <tr style=\"text-align: right;\">\n",
       "      <th></th>\n",
       "      <th>Pred 1</th>\n",
       "      <th>Pred 0</th>\n",
       "    </tr>\n",
       "  </thead>\n",
       "  <tbody>\n",
       "    <tr>\n",
       "      <th>Akt 1</th>\n",
       "      <td>260</td>\n",
       "      <td>0</td>\n",
       "    </tr>\n",
       "    <tr>\n",
       "      <th>Akt 0</th>\n",
       "      <td>29</td>\n",
       "      <td>1520</td>\n",
       "    </tr>\n",
       "  </tbody>\n",
       "</table>\n",
       "</div>"
      ],
      "text/plain": [
       "       Pred 1  Pred 0\n",
       "Akt 1     260       0\n",
       "Akt 0      29    1520"
      ]
     },
     "execution_count": 49,
     "metadata": {},
     "output_type": "execute_result"
    }
   ],
   "source": [
    "cm_svm_tuned_sm = confusion_matrix(y_test, pred_test_sm, labels=[1, 0])\n",
    "cm_svm_tuned_sm = pd.DataFrame(data=cm_svm_tuned_sm, index=['Akt 1', 'Akt 0'], columns=['Pred 1', 'Pred 0'])\n",
    "cm_svm_tuned_sm"
   ]
  },
  {
   "cell_type": "code",
   "execution_count": 50,
   "metadata": {},
   "outputs": [
    {
     "name": "stdout",
     "output_type": "stream",
     "text": [
      "              precision    recall  f1-score   support\n",
      "\n",
      "           0       1.00      0.98      0.99      1549\n",
      "           1       0.90      1.00      0.95       260\n",
      "\n",
      "    accuracy                           0.98      1809\n",
      "   macro avg       0.95      0.99      0.97      1809\n",
      "weighted avg       0.99      0.98      0.98      1809\n",
      "\n"
     ]
    }
   ],
   "source": [
    "print(classification_report(y_test, pred_test_sm))"
   ]
  },
  {
   "cell_type": "code",
   "execution_count": 51,
   "metadata": {},
   "outputs": [],
   "source": [
    "tp_svm_sm = cm_svm_tuned_sm['Pred 1'][0]\n",
    "tn_svm_sm = cm_svm_tuned_sm['Pred 0'][1]\n",
    "fp_svm_sm = cm_svm_tuned_sm['Pred 1'][1]\n",
    "fn_svm_sm = cm_svm_tuned_sm['Pred 0'][0]"
   ]
  },
  {
   "cell_type": "markdown",
   "metadata": {},
   "source": [
    "#### Random Over Sampling with Standard Scaler"
   ]
  },
  {
   "cell_type": "code",
   "execution_count": 52,
   "metadata": {},
   "outputs": [
    {
     "name": "stdout",
     "output_type": "stream",
     "text": [
      "Fitting 3 folds for each of 300 candidates, totalling 900 fits\n"
     ]
    },
    {
     "name": "stderr",
     "output_type": "stream",
     "text": [
      "[Parallel(n_jobs=-1)]: Using backend LokyBackend with 4 concurrent workers.\n",
      "[Parallel(n_jobs=-1)]: Done  42 tasks      | elapsed:   41.5s\n",
      "[Parallel(n_jobs=-1)]: Done 192 tasks      | elapsed:  3.4min\n",
      "[Parallel(n_jobs=-1)]: Done 442 tasks      | elapsed:  8.2min\n",
      "[Parallel(n_jobs=-1)]: Done 792 tasks      | elapsed: 14.7min\n",
      "[Parallel(n_jobs=-1)]: Done 900 out of 900 | elapsed: 16.5min finished\n"
     ]
    },
    {
     "data": {
      "text/plain": [
       "RandomizedSearchCV(cv=3, estimator=SVC(max_iter=1000), n_iter=300, n_jobs=-1,\n",
       "                   param_distributions={'C': array([1.00000e-05, 1.00200e-02, 2.00300e-02, 3.00400e-02, 4.00500e-02,\n",
       "       5.00600e-02, 6.00700e-02, 7.00800e-02, 8.00900e-02, 9.01000e-02,\n",
       "       1.00110e-01, 1.10120e-01, 1.20130e-01, 1.30140e-01, 1.40150e-01,\n",
       "       1.50160e-01, 1.60170e-01, 1.70180e-01, 1.80190e-01, 1.90200e-01,\n",
       "       2.00...\n",
       "       7.50001e+01, 7.60001e+01, 7.70001e+01, 7.80001e+01, 7.90001e+01,\n",
       "       8.00001e+01, 8.10001e+01, 8.20001e+01, 8.30001e+01, 8.40001e+01,\n",
       "       8.50001e+01, 8.60001e+01, 8.70001e+01, 8.80001e+01, 8.90001e+01,\n",
       "       9.00001e+01, 9.10001e+01, 9.20001e+01, 9.30001e+01, 9.40001e+01,\n",
       "       9.50001e+01, 9.60001e+01, 9.70001e+01, 9.80001e+01, 9.90001e+01]),\n",
       "                                        'kernel': ['linear', 'rbf']},\n",
       "                   scoring='f1', verbose=1)"
      ]
     },
     "execution_count": 52,
     "metadata": {},
     "output_type": "execute_result"
    }
   ],
   "source": [
    "svm_os_std = RandomizedSearchCV(estimator = svm, param_distributions = param_svm, cv = 3, n_jobs = -1 , n_iter=300, verbose = 1, scoring = 'f1')\n",
    "x_train_os[columns_continuous] = std_scale.fit_transform(x_train_os[columns_continuous])\n",
    "svm_os_std.fit(x_train_os, y_train_os)"
   ]
  },
  {
   "cell_type": "code",
   "execution_count": 53,
   "metadata": {},
   "outputs": [
    {
     "data": {
      "text/plain": [
       "SVC(C=4.904909999999999, gamma=1.0001, max_iter=1000)"
      ]
     },
     "execution_count": 53,
     "metadata": {},
     "output_type": "execute_result"
    }
   ],
   "source": [
    "svm_os_std_tuned = svm_os_std.best_estimator_\n",
    "pred_train_os_std = svm_os_std_tuned.predict(x_train_os)\n",
    "x_test[columns_continuous] = std_scale.fit_transform(x_test[columns_continuous])\n",
    "pred_test_os_std = svm_os_std_tuned.predict(x_test)\n",
    "svm_os_std_tuned"
   ]
  },
  {
   "cell_type": "code",
   "execution_count": 54,
   "metadata": {},
   "outputs": [],
   "source": [
    "svm_acc_tuned_train_os_std = accuracy_score(y_train_os, pred_train_os_std)\n",
    "svm_acc_tuned_test_os_std = accuracy_score(y_test, pred_test_os_std)\n",
    "svm_recall_tuned_train_os_std = recall_score(y_train_os, pred_train_os_std)\n",
    "svm_recall_tuned_test_os_std = recall_score(y_test, pred_test_os_std)\n",
    "svm_prec_tuned_train_os_std = precision_score(y_train_os, pred_train_os_std)\n",
    "svm_prec_tuned_test_os_std = precision_score(y_test, pred_test_os_std)\n",
    "svm_f1_tuned_train_os_std = f1_score(y_train_os, pred_train_os_std)\n",
    "svm_f1_tuned_test_os_std = f1_score(y_test, pred_test_os_std)"
   ]
  },
  {
   "cell_type": "code",
   "execution_count": 55,
   "metadata": {},
   "outputs": [
    {
     "data": {
      "text/html": [
       "<div>\n",
       "<style scoped>\n",
       "    .dataframe tbody tr th:only-of-type {\n",
       "        vertical-align: middle;\n",
       "    }\n",
       "\n",
       "    .dataframe tbody tr th {\n",
       "        vertical-align: top;\n",
       "    }\n",
       "\n",
       "    .dataframe thead th {\n",
       "        text-align: right;\n",
       "    }\n",
       "</style>\n",
       "<table border=\"1\" class=\"dataframe\">\n",
       "  <thead>\n",
       "    <tr style=\"text-align: right;\">\n",
       "      <th></th>\n",
       "      <th>Pred 1</th>\n",
       "      <th>Pred 0</th>\n",
       "    </tr>\n",
       "  </thead>\n",
       "  <tbody>\n",
       "    <tr>\n",
       "      <th>Akt 1</th>\n",
       "      <td>213</td>\n",
       "      <td>47</td>\n",
       "    </tr>\n",
       "    <tr>\n",
       "      <th>Akt 0</th>\n",
       "      <td>7</td>\n",
       "      <td>1542</td>\n",
       "    </tr>\n",
       "  </tbody>\n",
       "</table>\n",
       "</div>"
      ],
      "text/plain": [
       "       Pred 1  Pred 0\n",
       "Akt 1     213      47\n",
       "Akt 0       7    1542"
      ]
     },
     "execution_count": 55,
     "metadata": {},
     "output_type": "execute_result"
    }
   ],
   "source": [
    "cm_svm_tuned_os_std = confusion_matrix(y_test, pred_test_os_std, labels=[1, 0])\n",
    "cm_svm_tuned_os_std = pd.DataFrame(data=cm_svm_tuned_os_std, index=['Akt 1', 'Akt 0'], columns=['Pred 1', 'Pred 0'])\n",
    "cm_svm_tuned_os_std"
   ]
  },
  {
   "cell_type": "code",
   "execution_count": 56,
   "metadata": {},
   "outputs": [
    {
     "name": "stdout",
     "output_type": "stream",
     "text": [
      "              precision    recall  f1-score   support\n",
      "\n",
      "           0       0.97      1.00      0.98      1549\n",
      "           1       0.97      0.82      0.89       260\n",
      "\n",
      "    accuracy                           0.97      1809\n",
      "   macro avg       0.97      0.91      0.94      1809\n",
      "weighted avg       0.97      0.97      0.97      1809\n",
      "\n"
     ]
    }
   ],
   "source": [
    "print(classification_report(y_test, pred_test_os_std))"
   ]
  },
  {
   "cell_type": "code",
   "execution_count": 57,
   "metadata": {},
   "outputs": [],
   "source": [
    "tp_svm_os_std = cm_svm_tuned_os_std['Pred 1'][0]\n",
    "tn_svm_os_std = cm_svm_tuned_os_std['Pred 0'][1]\n",
    "fp_svm_os_std = cm_svm_tuned_os_std['Pred 1'][1]\n",
    "fn_svm_os_std = cm_svm_tuned_os_std['Pred 0'][0]"
   ]
  },
  {
   "cell_type": "markdown",
   "metadata": {},
   "source": [
    "#### Random Over Sampling with MinMax Scaler"
   ]
  },
  {
   "cell_type": "code",
   "execution_count": 58,
   "metadata": {},
   "outputs": [
    {
     "name": "stdout",
     "output_type": "stream",
     "text": [
      "Fitting 3 folds for each of 300 candidates, totalling 900 fits\n"
     ]
    },
    {
     "name": "stderr",
     "output_type": "stream",
     "text": [
      "[Parallel(n_jobs=-1)]: Using backend LokyBackend with 4 concurrent workers.\n",
      "[Parallel(n_jobs=-1)]: Done  42 tasks      | elapsed:   36.1s\n",
      "[Parallel(n_jobs=-1)]: Done 192 tasks      | elapsed:  4.0min\n",
      "[Parallel(n_jobs=-1)]: Done 442 tasks      | elapsed:  9.1min\n",
      "[Parallel(n_jobs=-1)]: Done 792 tasks      | elapsed: 15.6min\n",
      "[Parallel(n_jobs=-1)]: Done 900 out of 900 | elapsed: 17.4min finished\n"
     ]
    },
    {
     "data": {
      "text/plain": [
       "RandomizedSearchCV(cv=3, estimator=SVC(max_iter=1000), n_iter=300, n_jobs=-1,\n",
       "                   param_distributions={'C': array([1.00000e-05, 1.00200e-02, 2.00300e-02, 3.00400e-02, 4.00500e-02,\n",
       "       5.00600e-02, 6.00700e-02, 7.00800e-02, 8.00900e-02, 9.01000e-02,\n",
       "       1.00110e-01, 1.10120e-01, 1.20130e-01, 1.30140e-01, 1.40150e-01,\n",
       "       1.50160e-01, 1.60170e-01, 1.70180e-01, 1.80190e-01, 1.90200e-01,\n",
       "       2.00...\n",
       "       7.50001e+01, 7.60001e+01, 7.70001e+01, 7.80001e+01, 7.90001e+01,\n",
       "       8.00001e+01, 8.10001e+01, 8.20001e+01, 8.30001e+01, 8.40001e+01,\n",
       "       8.50001e+01, 8.60001e+01, 8.70001e+01, 8.80001e+01, 8.90001e+01,\n",
       "       9.00001e+01, 9.10001e+01, 9.20001e+01, 9.30001e+01, 9.40001e+01,\n",
       "       9.50001e+01, 9.60001e+01, 9.70001e+01, 9.80001e+01, 9.90001e+01]),\n",
       "                                        'kernel': ['linear', 'rbf']},\n",
       "                   scoring='f1', verbose=1)"
      ]
     },
     "execution_count": 58,
     "metadata": {},
     "output_type": "execute_result"
    }
   ],
   "source": [
    "svm_os_mm = RandomizedSearchCV(estimator = svm, param_distributions = param_svm, cv = 3, n_jobs = -1 , n_iter=300, verbose = 1, scoring = 'f1')\n",
    "x_train_os[columns_continuous] = mm_scale.fit_transform(x_train_os[columns_continuous])\n",
    "svm_os_mm.fit(x_train_os, y_train_os)"
   ]
  },
  {
   "cell_type": "code",
   "execution_count": 59,
   "metadata": {},
   "outputs": [
    {
     "data": {
      "text/plain": [
       "SVC(C=0.96097, gamma=68.0001, max_iter=1000)"
      ]
     },
     "execution_count": 59,
     "metadata": {},
     "output_type": "execute_result"
    }
   ],
   "source": [
    "svm_os_mm_tuned = svm_os_mm.best_estimator_\n",
    "pred_train_os_mm = svm_os_mm_tuned.predict(x_train_os)\n",
    "x_test[columns_continuous] = mm_scale.fit_transform(x_test[columns_continuous])\n",
    "pred_test_os_mm = svm_os_mm_tuned.predict(x_test)\n",
    "svm_os_mm_tuned"
   ]
  },
  {
   "cell_type": "code",
   "execution_count": 60,
   "metadata": {},
   "outputs": [],
   "source": [
    "svm_acc_tuned_train_os_mm = accuracy_score(y_train_os, pred_train_os_mm)\n",
    "svm_acc_tuned_test_os_mm = accuracy_score(y_test, pred_test_os_mm)\n",
    "svm_recall_tuned_train_os_mm = recall_score(y_train_os, pred_train_os_mm)\n",
    "svm_recall_tuned_test_os_mm = recall_score(y_test, pred_test_os_mm)\n",
    "svm_prec_tuned_train_os_mm = precision_score(y_train_os, pred_train_os_mm)\n",
    "svm_prec_tuned_test_os_mm = precision_score(y_test, pred_test_os_mm)\n",
    "svm_f1_tuned_train_os_mm = f1_score(y_train_os, pred_train_os_mm)\n",
    "svm_f1_tuned_test_os_mm = f1_score(y_test, pred_test_os_mm)"
   ]
  },
  {
   "cell_type": "code",
   "execution_count": 61,
   "metadata": {},
   "outputs": [
    {
     "data": {
      "text/html": [
       "<div>\n",
       "<style scoped>\n",
       "    .dataframe tbody tr th:only-of-type {\n",
       "        vertical-align: middle;\n",
       "    }\n",
       "\n",
       "    .dataframe tbody tr th {\n",
       "        vertical-align: top;\n",
       "    }\n",
       "\n",
       "    .dataframe thead th {\n",
       "        text-align: right;\n",
       "    }\n",
       "</style>\n",
       "<table border=\"1\" class=\"dataframe\">\n",
       "  <thead>\n",
       "    <tr style=\"text-align: right;\">\n",
       "      <th></th>\n",
       "      <th>Pred 1</th>\n",
       "      <th>Pred 0</th>\n",
       "    </tr>\n",
       "  </thead>\n",
       "  <tbody>\n",
       "    <tr>\n",
       "      <th>Akt 1</th>\n",
       "      <td>57</td>\n",
       "      <td>203</td>\n",
       "    </tr>\n",
       "    <tr>\n",
       "      <th>Akt 0</th>\n",
       "      <td>0</td>\n",
       "      <td>1549</td>\n",
       "    </tr>\n",
       "  </tbody>\n",
       "</table>\n",
       "</div>"
      ],
      "text/plain": [
       "       Pred 1  Pred 0\n",
       "Akt 1      57     203\n",
       "Akt 0       0    1549"
      ]
     },
     "execution_count": 61,
     "metadata": {},
     "output_type": "execute_result"
    }
   ],
   "source": [
    "cm_svm_tuned_os_mm = confusion_matrix(y_test, pred_test_os_mm, labels=[1, 0])\n",
    "cm_svm_tuned_os_mm = pd.DataFrame(data=cm_svm_tuned_os_mm, index=['Akt 1', 'Akt 0'], columns=['Pred 1', 'Pred 0'])\n",
    "cm_svm_tuned_os_mm"
   ]
  },
  {
   "cell_type": "code",
   "execution_count": 62,
   "metadata": {},
   "outputs": [
    {
     "name": "stdout",
     "output_type": "stream",
     "text": [
      "              precision    recall  f1-score   support\n",
      "\n",
      "           0       0.88      1.00      0.94      1549\n",
      "           1       1.00      0.22      0.36       260\n",
      "\n",
      "    accuracy                           0.89      1809\n",
      "   macro avg       0.94      0.61      0.65      1809\n",
      "weighted avg       0.90      0.89      0.86      1809\n",
      "\n"
     ]
    }
   ],
   "source": [
    "print(classification_report(y_test, pred_test_os_mm))"
   ]
  },
  {
   "cell_type": "code",
   "execution_count": 63,
   "metadata": {},
   "outputs": [],
   "source": [
    "tp_svm_os_mm = cm_svm_tuned_os_mm['Pred 1'][0]\n",
    "tn_svm_os_mm = cm_svm_tuned_os_mm['Pred 0'][1]\n",
    "fp_svm_os_mm = cm_svm_tuned_os_mm['Pred 1'][1]\n",
    "fn_svm_os_mm = cm_svm_tuned_os_mm['Pred 0'][0]"
   ]
  },
  {
   "cell_type": "markdown",
   "metadata": {},
   "source": [
    "#### Random Over Sampling with Robust Scaler"
   ]
  },
  {
   "cell_type": "code",
   "execution_count": 64,
   "metadata": {},
   "outputs": [
    {
     "name": "stdout",
     "output_type": "stream",
     "text": [
      "Fitting 3 folds for each of 300 candidates, totalling 900 fits\n"
     ]
    },
    {
     "name": "stderr",
     "output_type": "stream",
     "text": [
      "[Parallel(n_jobs=-1)]: Using backend LokyBackend with 4 concurrent workers.\n",
      "[Parallel(n_jobs=-1)]: Done  42 tasks      | elapsed:   49.3s\n",
      "[Parallel(n_jobs=-1)]: Done 192 tasks      | elapsed:  3.5min\n",
      "[Parallel(n_jobs=-1)]: Done 442 tasks      | elapsed:  8.2min\n",
      "[Parallel(n_jobs=-1)]: Done 792 tasks      | elapsed: 15.3min\n",
      "[Parallel(n_jobs=-1)]: Done 900 out of 900 | elapsed: 17.8min finished\n"
     ]
    },
    {
     "data": {
      "text/plain": [
       "RandomizedSearchCV(cv=3, estimator=SVC(max_iter=1000), n_iter=300, n_jobs=-1,\n",
       "                   param_distributions={'C': array([1.00000e-05, 1.00200e-02, 2.00300e-02, 3.00400e-02, 4.00500e-02,\n",
       "       5.00600e-02, 6.00700e-02, 7.00800e-02, 8.00900e-02, 9.01000e-02,\n",
       "       1.00110e-01, 1.10120e-01, 1.20130e-01, 1.30140e-01, 1.40150e-01,\n",
       "       1.50160e-01, 1.60170e-01, 1.70180e-01, 1.80190e-01, 1.90200e-01,\n",
       "       2.00...\n",
       "       7.50001e+01, 7.60001e+01, 7.70001e+01, 7.80001e+01, 7.90001e+01,\n",
       "       8.00001e+01, 8.10001e+01, 8.20001e+01, 8.30001e+01, 8.40001e+01,\n",
       "       8.50001e+01, 8.60001e+01, 8.70001e+01, 8.80001e+01, 8.90001e+01,\n",
       "       9.00001e+01, 9.10001e+01, 9.20001e+01, 9.30001e+01, 9.40001e+01,\n",
       "       9.50001e+01, 9.60001e+01, 9.70001e+01, 9.80001e+01, 9.90001e+01]),\n",
       "                                        'kernel': ['linear', 'rbf']},\n",
       "                   scoring='f1', verbose=1)"
      ]
     },
     "execution_count": 64,
     "metadata": {},
     "output_type": "execute_result"
    }
   ],
   "source": [
    "svm_os_rb = RandomizedSearchCV(estimator = svm, param_distributions = param_svm, cv = 3, n_jobs = -1 , n_iter=300, verbose = 1, scoring = 'f1')\n",
    "x_train_os[columns_continuous] = rb_scale.fit_transform(x_train_os[columns_continuous])\n",
    "svm_os_rb.fit(x_train_os, y_train_os)"
   ]
  },
  {
   "cell_type": "code",
   "execution_count": 65,
   "metadata": {},
   "outputs": [
    {
     "data": {
      "text/plain": [
       "SVC(C=9.749749999999999, gamma=1.0001, max_iter=1000)"
      ]
     },
     "execution_count": 65,
     "metadata": {},
     "output_type": "execute_result"
    }
   ],
   "source": [
    "svm_os_rb_tuned = svm_os_rb.best_estimator_\n",
    "pred_train_os_rb = svm_os_rb_tuned.predict(x_train_os)\n",
    "x_test[columns_continuous] = rb_scale.fit_transform(x_test[columns_continuous])\n",
    "pred_test_os_rb = svm_os_rb_tuned.predict(x_test)\n",
    "svm_os_rb_tuned"
   ]
  },
  {
   "cell_type": "code",
   "execution_count": 66,
   "metadata": {},
   "outputs": [],
   "source": [
    "svm_acc_tuned_train_os_rb = accuracy_score(y_train_os, pred_train_os_rb)\n",
    "svm_acc_tuned_test_os_rb = accuracy_score(y_test, pred_test_os_rb)\n",
    "svm_recall_tuned_train_os_rb = recall_score(y_train_os, pred_train_os_rb)\n",
    "svm_recall_tuned_test_os_rb = recall_score(y_test, pred_test_os_rb)\n",
    "svm_prec_tuned_train_os_rb = precision_score(y_train_os, pred_train_os_rb)\n",
    "svm_prec_tuned_test_os_rb = precision_score(y_test, pred_test_os_rb)\n",
    "svm_f1_tuned_train_os_rb = f1_score(y_train_os, pred_train_os_rb)\n",
    "svm_f1_tuned_test_os_rb = f1_score(y_test, pred_test_os_rb)"
   ]
  },
  {
   "cell_type": "code",
   "execution_count": 67,
   "metadata": {},
   "outputs": [
    {
     "data": {
      "text/html": [
       "<div>\n",
       "<style scoped>\n",
       "    .dataframe tbody tr th:only-of-type {\n",
       "        vertical-align: middle;\n",
       "    }\n",
       "\n",
       "    .dataframe tbody tr th {\n",
       "        vertical-align: top;\n",
       "    }\n",
       "\n",
       "    .dataframe thead th {\n",
       "        text-align: right;\n",
       "    }\n",
       "</style>\n",
       "<table border=\"1\" class=\"dataframe\">\n",
       "  <thead>\n",
       "    <tr style=\"text-align: right;\">\n",
       "      <th></th>\n",
       "      <th>Pred 1</th>\n",
       "      <th>Pred 0</th>\n",
       "    </tr>\n",
       "  </thead>\n",
       "  <tbody>\n",
       "    <tr>\n",
       "      <th>Akt 1</th>\n",
       "      <td>210</td>\n",
       "      <td>50</td>\n",
       "    </tr>\n",
       "    <tr>\n",
       "      <th>Akt 0</th>\n",
       "      <td>10</td>\n",
       "      <td>1539</td>\n",
       "    </tr>\n",
       "  </tbody>\n",
       "</table>\n",
       "</div>"
      ],
      "text/plain": [
       "       Pred 1  Pred 0\n",
       "Akt 1     210      50\n",
       "Akt 0      10    1539"
      ]
     },
     "execution_count": 67,
     "metadata": {},
     "output_type": "execute_result"
    }
   ],
   "source": [
    "cm_svm_tuned_os_rb = confusion_matrix(y_test, pred_test_os_rb, labels=[1, 0])\n",
    "cm_svm_tuned_os_rb = pd.DataFrame(data=cm_svm_tuned_os_rb, index=['Akt 1', 'Akt 0'], columns=['Pred 1', 'Pred 0'])\n",
    "cm_svm_tuned_os_rb"
   ]
  },
  {
   "cell_type": "code",
   "execution_count": 68,
   "metadata": {},
   "outputs": [
    {
     "name": "stdout",
     "output_type": "stream",
     "text": [
      "              precision    recall  f1-score   support\n",
      "\n",
      "           0       0.97      0.99      0.98      1549\n",
      "           1       0.95      0.81      0.88       260\n",
      "\n",
      "    accuracy                           0.97      1809\n",
      "   macro avg       0.96      0.90      0.93      1809\n",
      "weighted avg       0.97      0.97      0.97      1809\n",
      "\n"
     ]
    }
   ],
   "source": [
    "print(classification_report(y_test, pred_test_os_rb))"
   ]
  },
  {
   "cell_type": "code",
   "execution_count": 69,
   "metadata": {},
   "outputs": [],
   "source": [
    "tp_svm_os_rb = cm_svm_tuned_os_rb['Pred 1'][0]\n",
    "tn_svm_os_rb = cm_svm_tuned_os_rb['Pred 0'][1]\n",
    "fp_svm_os_rb = cm_svm_tuned_os_rb['Pred 1'][1]\n",
    "fn_svm_os_rb = cm_svm_tuned_os_rb['Pred 0'][0]"
   ]
  },
  {
   "cell_type": "markdown",
   "metadata": {},
   "source": [
    "#### Smote with Standard Scaler"
   ]
  },
  {
   "cell_type": "code",
   "execution_count": 70,
   "metadata": {},
   "outputs": [
    {
     "name": "stdout",
     "output_type": "stream",
     "text": [
      "Fitting 3 folds for each of 300 candidates, totalling 900 fits\n"
     ]
    },
    {
     "name": "stderr",
     "output_type": "stream",
     "text": [
      "[Parallel(n_jobs=-1)]: Using backend LokyBackend with 4 concurrent workers.\n",
      "[Parallel(n_jobs=-1)]: Done  42 tasks      | elapsed:  1.1min\n",
      "[Parallel(n_jobs=-1)]: Done 192 tasks      | elapsed:  3.8min\n",
      "[Parallel(n_jobs=-1)]: Done 442 tasks      | elapsed:  8.9min\n",
      "[Parallel(n_jobs=-1)]: Done 792 tasks      | elapsed: 15.7min\n",
      "[Parallel(n_jobs=-1)]: Done 900 out of 900 | elapsed: 17.7min finished\n"
     ]
    },
    {
     "data": {
      "text/plain": [
       "RandomizedSearchCV(cv=3, estimator=SVC(max_iter=1000), n_iter=300, n_jobs=-1,\n",
       "                   param_distributions={'C': array([1.00000e-05, 1.00200e-02, 2.00300e-02, 3.00400e-02, 4.00500e-02,\n",
       "       5.00600e-02, 6.00700e-02, 7.00800e-02, 8.00900e-02, 9.01000e-02,\n",
       "       1.00110e-01, 1.10120e-01, 1.20130e-01, 1.30140e-01, 1.40150e-01,\n",
       "       1.50160e-01, 1.60170e-01, 1.70180e-01, 1.80190e-01, 1.90200e-01,\n",
       "       2.00...\n",
       "       7.50001e+01, 7.60001e+01, 7.70001e+01, 7.80001e+01, 7.90001e+01,\n",
       "       8.00001e+01, 8.10001e+01, 8.20001e+01, 8.30001e+01, 8.40001e+01,\n",
       "       8.50001e+01, 8.60001e+01, 8.70001e+01, 8.80001e+01, 8.90001e+01,\n",
       "       9.00001e+01, 9.10001e+01, 9.20001e+01, 9.30001e+01, 9.40001e+01,\n",
       "       9.50001e+01, 9.60001e+01, 9.70001e+01, 9.80001e+01, 9.90001e+01]),\n",
       "                                        'kernel': ['linear', 'rbf']},\n",
       "                   scoring='f1', verbose=1)"
      ]
     },
     "execution_count": 70,
     "metadata": {},
     "output_type": "execute_result"
    }
   ],
   "source": [
    "svm_sm_std = RandomizedSearchCV(estimator = svm, param_distributions = param_svm, cv = 3, n_jobs = -1 , n_iter=300, verbose = 1, scoring = 'f1')\n",
    "x_train_sm[columns_continuous] = std_scale.fit_transform(x_train_sm[columns_continuous])\n",
    "svm_sm_std.fit(x_train_sm, y_train_sm)"
   ]
  },
  {
   "cell_type": "code",
   "execution_count": 71,
   "metadata": {},
   "outputs": [
    {
     "data": {
      "text/plain": [
       "SVC(C=2.98299, gamma=1.0001, max_iter=1000)"
      ]
     },
     "execution_count": 71,
     "metadata": {},
     "output_type": "execute_result"
    }
   ],
   "source": [
    "svm_sm_std_tuned = svm_sm_std.best_estimator_\n",
    "pred_train_sm_std = svm_sm_std_tuned.predict(x_train_sm)\n",
    "x_test[columns_continuous] = std_scale.fit_transform(x_test[columns_continuous])\n",
    "pred_test_sm_std = svm_sm_std_tuned.predict(x_test)\n",
    "svm_sm_std_tuned"
   ]
  },
  {
   "cell_type": "code",
   "execution_count": 72,
   "metadata": {},
   "outputs": [],
   "source": [
    "svm_acc_tuned_train_sm_std = accuracy_score(y_train_sm, pred_train_sm_std)\n",
    "svm_acc_tuned_test_sm_std = accuracy_score(y_test, pred_test_sm_std)\n",
    "svm_recall_tuned_train_sm_std = recall_score(y_train_sm, pred_train_sm_std)\n",
    "svm_recall_tuned_test_sm_std = recall_score(y_test, pred_test_sm_std)\n",
    "svm_prec_tuned_train_sm_std = precision_score(y_train_sm, pred_train_sm_std)\n",
    "svm_prec_tuned_test_sm_std = precision_score(y_test, pred_test_sm_std)\n",
    "svm_f1_tuned_train_sm_std = f1_score(y_train_sm, pred_train_sm_std)\n",
    "svm_f1_tuned_test_sm_std = f1_score(y_test, pred_test_sm_std)"
   ]
  },
  {
   "cell_type": "code",
   "execution_count": 73,
   "metadata": {},
   "outputs": [
    {
     "data": {
      "text/html": [
       "<div>\n",
       "<style scoped>\n",
       "    .dataframe tbody tr th:only-of-type {\n",
       "        vertical-align: middle;\n",
       "    }\n",
       "\n",
       "    .dataframe tbody tr th {\n",
       "        vertical-align: top;\n",
       "    }\n",
       "\n",
       "    .dataframe thead th {\n",
       "        text-align: right;\n",
       "    }\n",
       "</style>\n",
       "<table border=\"1\" class=\"dataframe\">\n",
       "  <thead>\n",
       "    <tr style=\"text-align: right;\">\n",
       "      <th></th>\n",
       "      <th>Pred 1</th>\n",
       "      <th>Pred 0</th>\n",
       "    </tr>\n",
       "  </thead>\n",
       "  <tbody>\n",
       "    <tr>\n",
       "      <th>Akt 1</th>\n",
       "      <td>227</td>\n",
       "      <td>33</td>\n",
       "    </tr>\n",
       "    <tr>\n",
       "      <th>Akt 0</th>\n",
       "      <td>15</td>\n",
       "      <td>1534</td>\n",
       "    </tr>\n",
       "  </tbody>\n",
       "</table>\n",
       "</div>"
      ],
      "text/plain": [
       "       Pred 1  Pred 0\n",
       "Akt 1     227      33\n",
       "Akt 0      15    1534"
      ]
     },
     "execution_count": 73,
     "metadata": {},
     "output_type": "execute_result"
    }
   ],
   "source": [
    "cm_svm_tuned_sm_std = confusion_matrix(y_test, pred_test_sm_std, labels=[1, 0])\n",
    "cm_svm_tuned_sm_std = pd.DataFrame(data=cm_svm_tuned_sm_std, index=['Akt 1', 'Akt 0'], columns=['Pred 1', 'Pred 0'])\n",
    "cm_svm_tuned_sm_std"
   ]
  },
  {
   "cell_type": "code",
   "execution_count": 74,
   "metadata": {},
   "outputs": [
    {
     "name": "stdout",
     "output_type": "stream",
     "text": [
      "              precision    recall  f1-score   support\n",
      "\n",
      "           0       0.98      0.99      0.98      1549\n",
      "           1       0.94      0.87      0.90       260\n",
      "\n",
      "    accuracy                           0.97      1809\n",
      "   macro avg       0.96      0.93      0.94      1809\n",
      "weighted avg       0.97      0.97      0.97      1809\n",
      "\n"
     ]
    }
   ],
   "source": [
    "print(classification_report(y_test, pred_test_sm_std))"
   ]
  },
  {
   "cell_type": "code",
   "execution_count": 75,
   "metadata": {},
   "outputs": [],
   "source": [
    "tp_svm_sm_std = cm_svm_tuned_sm_std['Pred 1'][0]\n",
    "tn_svm_sm_std = cm_svm_tuned_sm_std['Pred 0'][1]\n",
    "fp_svm_sm_std = cm_svm_tuned_sm_std['Pred 1'][1]\n",
    "fn_svm_sm_std = cm_svm_tuned_sm_std['Pred 0'][0]"
   ]
  },
  {
   "cell_type": "markdown",
   "metadata": {},
   "source": [
    "#### Smote with MinMax Scaler"
   ]
  },
  {
   "cell_type": "code",
   "execution_count": 76,
   "metadata": {},
   "outputs": [
    {
     "name": "stdout",
     "output_type": "stream",
     "text": [
      "Fitting 3 folds for each of 300 candidates, totalling 900 fits\n"
     ]
    },
    {
     "name": "stderr",
     "output_type": "stream",
     "text": [
      "[Parallel(n_jobs=-1)]: Using backend LokyBackend with 4 concurrent workers.\n",
      "[Parallel(n_jobs=-1)]: Done  42 tasks      | elapsed:   50.8s\n",
      "[Parallel(n_jobs=-1)]: Done 192 tasks      | elapsed:  3.5min\n",
      "[Parallel(n_jobs=-1)]: Done 442 tasks      | elapsed:  8.5min\n",
      "[Parallel(n_jobs=-1)]: Done 792 tasks      | elapsed: 14.9min\n",
      "[Parallel(n_jobs=-1)]: Done 900 out of 900 | elapsed: 16.9min finished\n"
     ]
    },
    {
     "data": {
      "text/plain": [
       "RandomizedSearchCV(cv=3, estimator=SVC(max_iter=1000), n_iter=300, n_jobs=-1,\n",
       "                   param_distributions={'C': array([1.00000e-05, 1.00200e-02, 2.00300e-02, 3.00400e-02, 4.00500e-02,\n",
       "       5.00600e-02, 6.00700e-02, 7.00800e-02, 8.00900e-02, 9.01000e-02,\n",
       "       1.00110e-01, 1.10120e-01, 1.20130e-01, 1.30140e-01, 1.40150e-01,\n",
       "       1.50160e-01, 1.60170e-01, 1.70180e-01, 1.80190e-01, 1.90200e-01,\n",
       "       2.00...\n",
       "       7.50001e+01, 7.60001e+01, 7.70001e+01, 7.80001e+01, 7.90001e+01,\n",
       "       8.00001e+01, 8.10001e+01, 8.20001e+01, 8.30001e+01, 8.40001e+01,\n",
       "       8.50001e+01, 8.60001e+01, 8.70001e+01, 8.80001e+01, 8.90001e+01,\n",
       "       9.00001e+01, 9.10001e+01, 9.20001e+01, 9.30001e+01, 9.40001e+01,\n",
       "       9.50001e+01, 9.60001e+01, 9.70001e+01, 9.80001e+01, 9.90001e+01]),\n",
       "                                        'kernel': ['linear', 'rbf']},\n",
       "                   scoring='f1', verbose=1)"
      ]
     },
     "execution_count": 76,
     "metadata": {},
     "output_type": "execute_result"
    }
   ],
   "source": [
    "svm_sm_mm = RandomizedSearchCV(estimator = svm, param_distributions = param_svm, cv = 3, n_jobs = -1 , n_iter=300, verbose = 1, scoring = 'f1')\n",
    "x_train_sm[columns_continuous] = mm_scale.fit_transform(x_train_sm[columns_continuous])\n",
    "svm_sm_mm.fit(x_train_sm, y_train_sm)"
   ]
  },
  {
   "cell_type": "code",
   "execution_count": 77,
   "metadata": {},
   "outputs": [
    {
     "data": {
      "text/plain": [
       "SVC(C=6.00601, gamma=3.0001, max_iter=1000)"
      ]
     },
     "execution_count": 77,
     "metadata": {},
     "output_type": "execute_result"
    }
   ],
   "source": [
    "svm_sm_mm_tuned = svm_sm_mm.best_estimator_\n",
    "pred_train_sm_mm = svm_sm_mm_tuned.predict(x_train_sm)\n",
    "x_test[columns_continuous] = mm_scale.fit_transform(x_test[columns_continuous])\n",
    "pred_test_sm_mm = svm_sm_mm_tuned.predict(x_test)\n",
    "svm_sm_mm_tuned"
   ]
  },
  {
   "cell_type": "code",
   "execution_count": 78,
   "metadata": {},
   "outputs": [],
   "source": [
    "svm_acc_tuned_train_sm_mm = accuracy_score(y_train_sm, pred_train_sm_mm)\n",
    "svm_acc_tuned_test_sm_mm = accuracy_score(y_test, pred_test_sm_mm)\n",
    "svm_recall_tuned_train_sm_mm = recall_score(y_train_sm, pred_train_sm_mm)\n",
    "svm_recall_tuned_test_sm_mm = recall_score(y_test, pred_test_sm_mm)\n",
    "svm_prec_tuned_train_sm_mm = precision_score(y_train_sm, pred_train_sm_mm)\n",
    "svm_prec_tuned_test_sm_mm = precision_score(y_test, pred_test_sm_mm)\n",
    "svm_f1_tuned_train_sm_mm = f1_score(y_train_sm, pred_train_sm_mm)\n",
    "svm_f1_tuned_test_sm_mm = f1_score(y_test, pred_test_sm_mm)"
   ]
  },
  {
   "cell_type": "code",
   "execution_count": 79,
   "metadata": {},
   "outputs": [
    {
     "data": {
      "text/html": [
       "<div>\n",
       "<style scoped>\n",
       "    .dataframe tbody tr th:only-of-type {\n",
       "        vertical-align: middle;\n",
       "    }\n",
       "\n",
       "    .dataframe tbody tr th {\n",
       "        vertical-align: top;\n",
       "    }\n",
       "\n",
       "    .dataframe thead th {\n",
       "        text-align: right;\n",
       "    }\n",
       "</style>\n",
       "<table border=\"1\" class=\"dataframe\">\n",
       "  <thead>\n",
       "    <tr style=\"text-align: right;\">\n",
       "      <th></th>\n",
       "      <th>Pred 1</th>\n",
       "      <th>Pred 0</th>\n",
       "    </tr>\n",
       "  </thead>\n",
       "  <tbody>\n",
       "    <tr>\n",
       "      <th>Akt 1</th>\n",
       "      <td>129</td>\n",
       "      <td>131</td>\n",
       "    </tr>\n",
       "    <tr>\n",
       "      <th>Akt 0</th>\n",
       "      <td>16</td>\n",
       "      <td>1533</td>\n",
       "    </tr>\n",
       "  </tbody>\n",
       "</table>\n",
       "</div>"
      ],
      "text/plain": [
       "       Pred 1  Pred 0\n",
       "Akt 1     129     131\n",
       "Akt 0      16    1533"
      ]
     },
     "execution_count": 79,
     "metadata": {},
     "output_type": "execute_result"
    }
   ],
   "source": [
    "cm_svm_tuned_sm_mm = confusion_matrix(y_test, pred_test_sm_mm, labels=[1, 0])\n",
    "cm_svm_tuned_sm_mm = pd.DataFrame(data=cm_svm_tuned_sm_mm, index=['Akt 1', 'Akt 0'], columns=['Pred 1', 'Pred 0'])\n",
    "cm_svm_tuned_sm_mm"
   ]
  },
  {
   "cell_type": "code",
   "execution_count": 80,
   "metadata": {},
   "outputs": [
    {
     "name": "stdout",
     "output_type": "stream",
     "text": [
      "              precision    recall  f1-score   support\n",
      "\n",
      "           0       0.92      0.99      0.95      1549\n",
      "           1       0.89      0.50      0.64       260\n",
      "\n",
      "    accuracy                           0.92      1809\n",
      "   macro avg       0.91      0.74      0.80      1809\n",
      "weighted avg       0.92      0.92      0.91      1809\n",
      "\n"
     ]
    }
   ],
   "source": [
    "print(classification_report(y_test, pred_test_sm_mm))"
   ]
  },
  {
   "cell_type": "code",
   "execution_count": 81,
   "metadata": {},
   "outputs": [],
   "source": [
    "tp_svm_sm_mm = cm_svm_tuned_sm_mm['Pred 1'][0]\n",
    "tn_svm_sm_mm = cm_svm_tuned_sm_mm['Pred 0'][1]\n",
    "fp_svm_sm_mm = cm_svm_tuned_sm_mm['Pred 1'][1]\n",
    "fn_svm_sm_mm = cm_svm_tuned_sm_mm['Pred 0'][0]"
   ]
  },
  {
   "cell_type": "markdown",
   "metadata": {},
   "source": [
    "#### Smote with Robust Scaler"
   ]
  },
  {
   "cell_type": "code",
   "execution_count": 82,
   "metadata": {},
   "outputs": [
    {
     "name": "stdout",
     "output_type": "stream",
     "text": [
      "Fitting 3 folds for each of 300 candidates, totalling 900 fits\n"
     ]
    },
    {
     "name": "stderr",
     "output_type": "stream",
     "text": [
      "[Parallel(n_jobs=-1)]: Using backend LokyBackend with 4 concurrent workers.\n",
      "[Parallel(n_jobs=-1)]: Done  42 tasks      | elapsed:   48.1s\n",
      "[Parallel(n_jobs=-1)]: Done 192 tasks      | elapsed:  3.5min\n",
      "[Parallel(n_jobs=-1)]: Done 442 tasks      | elapsed:  8.2min\n",
      "[Parallel(n_jobs=-1)]: Done 792 tasks      | elapsed: 14.1min\n",
      "[Parallel(n_jobs=-1)]: Done 900 out of 900 | elapsed: 16.2min finished\n"
     ]
    },
    {
     "data": {
      "text/plain": [
       "RandomizedSearchCV(cv=3, estimator=SVC(max_iter=1000), n_iter=300, n_jobs=-1,\n",
       "                   param_distributions={'C': array([1.00000e-05, 1.00200e-02, 2.00300e-02, 3.00400e-02, 4.00500e-02,\n",
       "       5.00600e-02, 6.00700e-02, 7.00800e-02, 8.00900e-02, 9.01000e-02,\n",
       "       1.00110e-01, 1.10120e-01, 1.20130e-01, 1.30140e-01, 1.40150e-01,\n",
       "       1.50160e-01, 1.60170e-01, 1.70180e-01, 1.80190e-01, 1.90200e-01,\n",
       "       2.00...\n",
       "       7.50001e+01, 7.60001e+01, 7.70001e+01, 7.80001e+01, 7.90001e+01,\n",
       "       8.00001e+01, 8.10001e+01, 8.20001e+01, 8.30001e+01, 8.40001e+01,\n",
       "       8.50001e+01, 8.60001e+01, 8.70001e+01, 8.80001e+01, 8.90001e+01,\n",
       "       9.00001e+01, 9.10001e+01, 9.20001e+01, 9.30001e+01, 9.40001e+01,\n",
       "       9.50001e+01, 9.60001e+01, 9.70001e+01, 9.80001e+01, 9.90001e+01]),\n",
       "                                        'kernel': ['linear', 'rbf']},\n",
       "                   scoring='f1', verbose=1)"
      ]
     },
     "execution_count": 82,
     "metadata": {},
     "output_type": "execute_result"
    }
   ],
   "source": [
    "svm_sm_rb = RandomizedSearchCV(estimator = svm, param_distributions = param_svm, cv = 3, n_jobs = -1 , n_iter=300, verbose = 1, scoring = 'f1')\n",
    "x_train_sm[columns_continuous] = rb_scale.fit_transform(x_train_sm[columns_continuous])\n",
    "svm_sm_rb.fit(x_train_sm, y_train_sm)"
   ]
  },
  {
   "cell_type": "code",
   "execution_count": 83,
   "metadata": {},
   "outputs": [
    {
     "data": {
      "text/plain": [
       "SVC(C=7.68769, gamma=1.0001, max_iter=1000)"
      ]
     },
     "execution_count": 83,
     "metadata": {},
     "output_type": "execute_result"
    }
   ],
   "source": [
    "svm_sm_rb_tuned = svm_sm_rb.best_estimator_\n",
    "pred_train_sm_rb = svm_sm_rb_tuned.predict(x_train_sm)\n",
    "x_test[columns_continuous] = rb_scale.fit_transform(x_test[columns_continuous])\n",
    "pred_test_sm_rb = svm_sm_rb_tuned.predict(x_test)\n",
    "svm_sm_rb_tuned"
   ]
  },
  {
   "cell_type": "code",
   "execution_count": 84,
   "metadata": {},
   "outputs": [],
   "source": [
    "svm_acc_tuned_train_sm_rb = accuracy_score(y_train_sm, pred_train_sm_rb)\n",
    "svm_acc_tuned_test_sm_rb = accuracy_score(y_test, pred_test_sm_rb)\n",
    "svm_recall_tuned_train_sm_rb = recall_score(y_train_sm, pred_train_sm_rb)\n",
    "svm_recall_tuned_test_sm_rb = recall_score(y_test, pred_test_sm_rb)\n",
    "svm_prec_tuned_train_sm_rb = precision_score(y_train_sm, pred_train_sm_rb)\n",
    "svm_prec_tuned_test_sm_rb = precision_score(y_test, pred_test_sm_rb)\n",
    "svm_f1_tuned_train_sm_rb = f1_score(y_train_sm, pred_train_sm_rb)\n",
    "svm_f1_tuned_test_sm_rb = f1_score(y_test, pred_test_sm_rb)"
   ]
  },
  {
   "cell_type": "code",
   "execution_count": 85,
   "metadata": {},
   "outputs": [
    {
     "data": {
      "text/html": [
       "<div>\n",
       "<style scoped>\n",
       "    .dataframe tbody tr th:only-of-type {\n",
       "        vertical-align: middle;\n",
       "    }\n",
       "\n",
       "    .dataframe tbody tr th {\n",
       "        vertical-align: top;\n",
       "    }\n",
       "\n",
       "    .dataframe thead th {\n",
       "        text-align: right;\n",
       "    }\n",
       "</style>\n",
       "<table border=\"1\" class=\"dataframe\">\n",
       "  <thead>\n",
       "    <tr style=\"text-align: right;\">\n",
       "      <th></th>\n",
       "      <th>Pred 1</th>\n",
       "      <th>Pred 0</th>\n",
       "    </tr>\n",
       "  </thead>\n",
       "  <tbody>\n",
       "    <tr>\n",
       "      <th>Akt 1</th>\n",
       "      <td>225</td>\n",
       "      <td>35</td>\n",
       "    </tr>\n",
       "    <tr>\n",
       "      <th>Akt 0</th>\n",
       "      <td>30</td>\n",
       "      <td>1519</td>\n",
       "    </tr>\n",
       "  </tbody>\n",
       "</table>\n",
       "</div>"
      ],
      "text/plain": [
       "       Pred 1  Pred 0\n",
       "Akt 1     225      35\n",
       "Akt 0      30    1519"
      ]
     },
     "execution_count": 85,
     "metadata": {},
     "output_type": "execute_result"
    }
   ],
   "source": [
    "cm_svm_tuned_sm_rb = confusion_matrix(y_test, pred_test_sm_rb, labels=[1, 0])\n",
    "cm_svm_tuned_sm_rb = pd.DataFrame(data=cm_svm_tuned_sm_rb, index=['Akt 1', 'Akt 0'], columns=['Pred 1', 'Pred 0'])\n",
    "cm_svm_tuned_sm_rb"
   ]
  },
  {
   "cell_type": "code",
   "execution_count": 86,
   "metadata": {},
   "outputs": [
    {
     "name": "stdout",
     "output_type": "stream",
     "text": [
      "              precision    recall  f1-score   support\n",
      "\n",
      "           0       0.98      0.98      0.98      1549\n",
      "           1       0.88      0.87      0.87       260\n",
      "\n",
      "    accuracy                           0.96      1809\n",
      "   macro avg       0.93      0.92      0.93      1809\n",
      "weighted avg       0.96      0.96      0.96      1809\n",
      "\n"
     ]
    }
   ],
   "source": [
    "print(classification_report(y_test, pred_test_sm_rb))"
   ]
  },
  {
   "cell_type": "code",
   "execution_count": 87,
   "metadata": {},
   "outputs": [],
   "source": [
    "tp_svm_sm_rb = cm_svm_tuned_sm_rb['Pred 1'][0]\n",
    "tn_svm_sm_rb = cm_svm_tuned_sm_rb['Pred 0'][1]\n",
    "fp_svm_sm_rb = cm_svm_tuned_sm_rb['Pred 1'][1]\n",
    "fn_svm_sm_rb = cm_svm_tuned_sm_rb['Pred 0'][0]"
   ]
  },
  {
   "cell_type": "markdown",
   "metadata": {
    "id": "XfRTwLbGP872"
   },
   "source": [
    "## Logistic Regression"
   ]
  },
  {
   "cell_type": "code",
   "execution_count": 88,
   "metadata": {},
   "outputs": [],
   "source": [
    "logreg = LogisticRegression()"
   ]
  },
  {
   "cell_type": "code",
   "execution_count": 89,
   "metadata": {},
   "outputs": [],
   "source": [
    "param_logreg = {'C' : np.linspace(0.00001, 10, 1000),\n",
    "                'penalty' : ['l1', 'l2', 'elasticnet', None],\n",
    "                'class_weight': [None, 'weight'],\n",
    "                'fit_intercept' : [True, False]}"
   ]
  },
  {
   "cell_type": "markdown",
   "metadata": {
    "id": "kcTtXGLPyYZ3"
   },
   "source": [
    "#### Random Over Sampling without Scaling"
   ]
  },
  {
   "cell_type": "code",
   "execution_count": 90,
   "metadata": {
    "id": "MhVgT38_eXkD"
   },
   "outputs": [
    {
     "name": "stdout",
     "output_type": "stream",
     "text": [
      "Fitting 3 folds for each of 300 candidates, totalling 900 fits\n"
     ]
    },
    {
     "name": "stderr",
     "output_type": "stream",
     "text": [
      "[Parallel(n_jobs=-1)]: Using backend LokyBackend with 4 concurrent workers.\n",
      "[Parallel(n_jobs=-1)]: Done  42 tasks      | elapsed:    3.1s\n",
      "[Parallel(n_jobs=-1)]: Done 236 tasks      | elapsed:   14.5s\n",
      "[Parallel(n_jobs=-1)]: Done 756 tasks      | elapsed:   39.0s\n",
      "[Parallel(n_jobs=-1)]: Done 893 out of 900 | elapsed:   44.9s remaining:    0.3s\n",
      "[Parallel(n_jobs=-1)]: Done 900 out of 900 | elapsed:   45.6s finished\n"
     ]
    },
    {
     "data": {
      "text/plain": [
       "RandomizedSearchCV(cv=3, estimator=LogisticRegression(), n_iter=300, n_jobs=-1,\n",
       "                   param_distributions={'C': array([1.00000e-05, 1.00200e-02, 2.00300e-02, 3.00400e-02, 4.00500e-02,\n",
       "       5.00600e-02, 6.00700e-02, 7.00800e-02, 8.00900e-02, 9.01000e-02,\n",
       "       1.00110e-01, 1.10120e-01, 1.20130e-01, 1.30140e-01, 1.40150e-01,\n",
       "       1.50160e-01, 1.60170e-01, 1.70180e-01, 1.80190e-01, 1.90200e-01,\n",
       "       2....\n",
       "       9.80981e+00, 9.81982e+00, 9.82983e+00, 9.83984e+00, 9.84985e+00,\n",
       "       9.85986e+00, 9.86987e+00, 9.87988e+00, 9.88989e+00, 9.89990e+00,\n",
       "       9.90991e+00, 9.91992e+00, 9.92993e+00, 9.93994e+00, 9.94995e+00,\n",
       "       9.95996e+00, 9.96997e+00, 9.97998e+00, 9.98999e+00, 1.00000e+01]),\n",
       "                                        'class_weight': [None, 'weight'],\n",
       "                                        'fit_intercept': [True, False],\n",
       "                                        'penalty': ['l1', 'l2', 'elasticnet',\n",
       "                                                    None]},\n",
       "                   scoring='f1', verbose=1)"
      ]
     },
     "execution_count": 90,
     "metadata": {},
     "output_type": "execute_result"
    }
   ],
   "source": [
    "logreg_os = RandomizedSearchCV(estimator = logreg, param_distributions = param_logreg, cv = 3, n_jobs = -1 , n_iter=300, verbose = 1, scoring = 'f1')\n",
    "logreg_os.fit(x_train_os, y_train_os)"
   ]
  },
  {
   "cell_type": "code",
   "execution_count": 91,
   "metadata": {},
   "outputs": [
    {
     "data": {
      "text/plain": [
       "LogisticRegression(C=0.3904, class_weight='weight', fit_intercept=False)"
      ]
     },
     "execution_count": 91,
     "metadata": {},
     "output_type": "execute_result"
    }
   ],
   "source": [
    "logreg_os_tuned = logreg_os.best_estimator_\n",
    "pred_train_os = logreg_os_tuned.predict(x_train_os)\n",
    "pred_test_os = logreg_os_tuned.predict(x_test)\n",
    "logreg_os_tuned"
   ]
  },
  {
   "cell_type": "code",
   "execution_count": 92,
   "metadata": {
    "id": "2rufw1COyEB2"
   },
   "outputs": [],
   "source": [
    "logreg_acc_tuned_train_os = accuracy_score(y_train_os, pred_train_os)\n",
    "logreg_acc_tuned_test_os = accuracy_score(y_test, pred_test_os)\n",
    "logreg_recall_tuned_train_os = recall_score(y_train_os, pred_train_os)\n",
    "logreg_recall_tuned_test_os = recall_score(y_test, pred_test_os)\n",
    "logreg_prec_tuned_train_os = precision_score(y_train_os, pred_train_os)\n",
    "logreg_prec_tuned_test_os = precision_score(y_test, pred_test_os)\n",
    "logreg_f1_tuned_train_os = f1_score(y_train_os, pred_train_os)\n",
    "logreg_f1_tuned_test_os = f1_score(y_test, pred_test_os)"
   ]
  },
  {
   "cell_type": "code",
   "execution_count": 93,
   "metadata": {
    "colab": {
     "base_uri": "https://localhost:8080/",
     "height": 110
    },
    "id": "kbqgXsbze4Ge",
    "outputId": "ff647596-2097-409c-af88-a6936296d32c"
   },
   "outputs": [
    {
     "data": {
      "text/html": [
       "<div>\n",
       "<style scoped>\n",
       "    .dataframe tbody tr th:only-of-type {\n",
       "        vertical-align: middle;\n",
       "    }\n",
       "\n",
       "    .dataframe tbody tr th {\n",
       "        vertical-align: top;\n",
       "    }\n",
       "\n",
       "    .dataframe thead th {\n",
       "        text-align: right;\n",
       "    }\n",
       "</style>\n",
       "<table border=\"1\" class=\"dataframe\">\n",
       "  <thead>\n",
       "    <tr style=\"text-align: right;\">\n",
       "      <th></th>\n",
       "      <th>Pred 1</th>\n",
       "      <th>Pred 0</th>\n",
       "    </tr>\n",
       "  </thead>\n",
       "  <tbody>\n",
       "    <tr>\n",
       "      <th>Akt 1</th>\n",
       "      <td>191</td>\n",
       "      <td>69</td>\n",
       "    </tr>\n",
       "    <tr>\n",
       "      <th>Akt 0</th>\n",
       "      <td>453</td>\n",
       "      <td>1096</td>\n",
       "    </tr>\n",
       "  </tbody>\n",
       "</table>\n",
       "</div>"
      ],
      "text/plain": [
       "       Pred 1  Pred 0\n",
       "Akt 1     191      69\n",
       "Akt 0     453    1096"
      ]
     },
     "execution_count": 93,
     "metadata": {},
     "output_type": "execute_result"
    }
   ],
   "source": [
    "cm_logreg_tuned_os = confusion_matrix(y_test, pred_test_os, labels=[1, 0])\n",
    "cm_logreg_tuned_os = pd.DataFrame(data=cm_logreg_tuned_os, index=['Akt 1', 'Akt 0'], columns=['Pred 1', 'Pred 0'])\n",
    "cm_logreg_tuned_os"
   ]
  },
  {
   "cell_type": "code",
   "execution_count": 94,
   "metadata": {},
   "outputs": [
    {
     "name": "stdout",
     "output_type": "stream",
     "text": [
      "              precision    recall  f1-score   support\n",
      "\n",
      "           0       0.94      0.71      0.81      1549\n",
      "           1       0.30      0.73      0.42       260\n",
      "\n",
      "    accuracy                           0.71      1809\n",
      "   macro avg       0.62      0.72      0.62      1809\n",
      "weighted avg       0.85      0.71      0.75      1809\n",
      "\n"
     ]
    }
   ],
   "source": [
    "print(classification_report(y_test, pred_test_os))"
   ]
  },
  {
   "cell_type": "code",
   "execution_count": 95,
   "metadata": {},
   "outputs": [],
   "source": [
    "tp_logreg_os = cm_logreg_tuned_os['Pred 1'][0]\n",
    "tn_logreg_os = cm_logreg_tuned_os['Pred 0'][1]\n",
    "fp_logreg_os = cm_logreg_tuned_os['Pred 1'][1]\n",
    "fn_logreg_os = cm_logreg_tuned_os['Pred 0'][0]"
   ]
  },
  {
   "cell_type": "markdown",
   "metadata": {
    "id": "WNYSXEepyvNr"
   },
   "source": [
    "#### Smote Sampling without Scaling"
   ]
  },
  {
   "cell_type": "code",
   "execution_count": 96,
   "metadata": {},
   "outputs": [
    {
     "name": "stdout",
     "output_type": "stream",
     "text": [
      "Fitting 3 folds for each of 300 candidates, totalling 900 fits\n"
     ]
    },
    {
     "name": "stderr",
     "output_type": "stream",
     "text": [
      "[Parallel(n_jobs=-1)]: Using backend LokyBackend with 4 concurrent workers.\n",
      "[Parallel(n_jobs=-1)]: Done 128 tasks      | elapsed:    6.1s\n",
      "[Parallel(n_jobs=-1)]: Done 496 tasks      | elapsed:   22.6s\n",
      "[Parallel(n_jobs=-1)]: Done 893 out of 900 | elapsed:   37.6s remaining:    0.2s\n",
      "[Parallel(n_jobs=-1)]: Done 900 out of 900 | elapsed:   38.2s finished\n"
     ]
    },
    {
     "data": {
      "text/plain": [
       "RandomizedSearchCV(cv=3, estimator=LogisticRegression(), n_iter=300, n_jobs=-1,\n",
       "                   param_distributions={'C': array([1.00000e-05, 1.00200e-02, 2.00300e-02, 3.00400e-02, 4.00500e-02,\n",
       "       5.00600e-02, 6.00700e-02, 7.00800e-02, 8.00900e-02, 9.01000e-02,\n",
       "       1.00110e-01, 1.10120e-01, 1.20130e-01, 1.30140e-01, 1.40150e-01,\n",
       "       1.50160e-01, 1.60170e-01, 1.70180e-01, 1.80190e-01, 1.90200e-01,\n",
       "       2....\n",
       "       9.80981e+00, 9.81982e+00, 9.82983e+00, 9.83984e+00, 9.84985e+00,\n",
       "       9.85986e+00, 9.86987e+00, 9.87988e+00, 9.88989e+00, 9.89990e+00,\n",
       "       9.90991e+00, 9.91992e+00, 9.92993e+00, 9.93994e+00, 9.94995e+00,\n",
       "       9.95996e+00, 9.96997e+00, 9.97998e+00, 9.98999e+00, 1.00000e+01]),\n",
       "                                        'class_weight': [None, 'weight'],\n",
       "                                        'fit_intercept': [True, False],\n",
       "                                        'penalty': ['l1', 'l2', 'elasticnet',\n",
       "                                                    None]},\n",
       "                   scoring='f1', verbose=1)"
      ]
     },
     "execution_count": 96,
     "metadata": {},
     "output_type": "execute_result"
    }
   ],
   "source": [
    "logreg_sm = RandomizedSearchCV(estimator = logreg, param_distributions = param_logreg, cv = 3, n_jobs = -1 , n_iter=300, verbose = 1, scoring = 'f1')\n",
    "logreg_sm.fit(x_train_sm, y_train_sm)"
   ]
  },
  {
   "cell_type": "code",
   "execution_count": 97,
   "metadata": {
    "id": "6-xViluxy2S6"
   },
   "outputs": [
    {
     "data": {
      "text/plain": [
       "LogisticRegression(C=7.38739)"
      ]
     },
     "execution_count": 97,
     "metadata": {},
     "output_type": "execute_result"
    }
   ],
   "source": [
    "logreg_sm_tuned = logreg_sm.best_estimator_\n",
    "pred_train_sm = logreg_sm_tuned.predict(x_train_sm)\n",
    "pred_test_sm = logreg_sm_tuned.predict(x_test)\n",
    "logreg_sm_tuned"
   ]
  },
  {
   "cell_type": "code",
   "execution_count": 98,
   "metadata": {
    "id": "s388Zy4azKFy"
   },
   "outputs": [],
   "source": [
    "logreg_acc_tuned_train_sm = accuracy_score(y_train_sm, pred_train_sm)\n",
    "logreg_acc_tuned_test_sm = accuracy_score(y_test, pred_test_sm)\n",
    "logreg_recall_tuned_train_sm = recall_score(y_train_sm, pred_train_sm)\n",
    "logreg_recall_tuned_test_sm = recall_score(y_test, pred_test_sm)\n",
    "logreg_prec_tuned_train_sm = precision_score(y_train_sm, pred_train_sm)\n",
    "logreg_prec_tuned_test_sm = precision_score(y_test, pred_test_sm)\n",
    "logreg_f1_tuned_train_sm = f1_score(y_train_sm, pred_train_sm)\n",
    "logreg_f1_tuned_test_sm = f1_score(y_test, pred_test_sm)"
   ]
  },
  {
   "cell_type": "code",
   "execution_count": 99,
   "metadata": {
    "colab": {
     "base_uri": "https://localhost:8080/",
     "height": 110
    },
    "id": "xOSZ3pqQzVtU",
    "outputId": "bce6b216-511b-4ea3-8d34-7be6a872b649"
   },
   "outputs": [
    {
     "data": {
      "text/html": [
       "<div>\n",
       "<style scoped>\n",
       "    .dataframe tbody tr th:only-of-type {\n",
       "        vertical-align: middle;\n",
       "    }\n",
       "\n",
       "    .dataframe tbody tr th {\n",
       "        vertical-align: top;\n",
       "    }\n",
       "\n",
       "    .dataframe thead th {\n",
       "        text-align: right;\n",
       "    }\n",
       "</style>\n",
       "<table border=\"1\" class=\"dataframe\">\n",
       "  <thead>\n",
       "    <tr style=\"text-align: right;\">\n",
       "      <th></th>\n",
       "      <th>Pred 1</th>\n",
       "      <th>Pred 0</th>\n",
       "    </tr>\n",
       "  </thead>\n",
       "  <tbody>\n",
       "    <tr>\n",
       "      <th>Akt 1</th>\n",
       "      <td>48</td>\n",
       "      <td>212</td>\n",
       "    </tr>\n",
       "    <tr>\n",
       "      <th>Akt 0</th>\n",
       "      <td>26</td>\n",
       "      <td>1523</td>\n",
       "    </tr>\n",
       "  </tbody>\n",
       "</table>\n",
       "</div>"
      ],
      "text/plain": [
       "       Pred 1  Pred 0\n",
       "Akt 1      48     212\n",
       "Akt 0      26    1523"
      ]
     },
     "execution_count": 99,
     "metadata": {},
     "output_type": "execute_result"
    }
   ],
   "source": [
    "cm_logreg_tuned_sm = confusion_matrix(y_test, pred_test_sm, labels=[1, 0])\n",
    "cm_logreg_tuned_sm = pd.DataFrame(data=cm_logreg_tuned_sm, index=['Akt 1', 'Akt 0'], columns=['Pred 1', 'Pred 0'])\n",
    "cm_logreg_tuned_sm"
   ]
  },
  {
   "cell_type": "code",
   "execution_count": 100,
   "metadata": {},
   "outputs": [
    {
     "name": "stdout",
     "output_type": "stream",
     "text": [
      "              precision    recall  f1-score   support\n",
      "\n",
      "           0       0.88      0.98      0.93      1549\n",
      "           1       0.65      0.18      0.29       260\n",
      "\n",
      "    accuracy                           0.87      1809\n",
      "   macro avg       0.76      0.58      0.61      1809\n",
      "weighted avg       0.84      0.87      0.84      1809\n",
      "\n"
     ]
    }
   ],
   "source": [
    "print(classification_report(y_test, pred_test_sm))"
   ]
  },
  {
   "cell_type": "code",
   "execution_count": 101,
   "metadata": {},
   "outputs": [],
   "source": [
    "tp_logreg_sm = cm_logreg_tuned_sm['Pred 1'][0]\n",
    "tn_logreg_sm = cm_logreg_tuned_sm['Pred 0'][1]\n",
    "fp_logreg_sm = cm_logreg_tuned_sm['Pred 1'][1]\n",
    "fn_logreg_sm = cm_logreg_tuned_sm['Pred 0'][0]"
   ]
  },
  {
   "cell_type": "markdown",
   "metadata": {
    "id": "7vKA3SRyIGZG"
   },
   "source": [
    "#### Standard Scaling with Random Over Sampling"
   ]
  },
  {
   "cell_type": "code",
   "execution_count": 102,
   "metadata": {
    "id": "MI5S9M17GiZL"
   },
   "outputs": [
    {
     "name": "stdout",
     "output_type": "stream",
     "text": [
      "Fitting 3 folds for each of 300 candidates, totalling 900 fits\n"
     ]
    },
    {
     "name": "stderr",
     "output_type": "stream",
     "text": [
      "[Parallel(n_jobs=-1)]: Using backend LokyBackend with 4 concurrent workers.\n",
      "[Parallel(n_jobs=-1)]: Done 128 tasks      | elapsed:    7.1s\n",
      "[Parallel(n_jobs=-1)]: Done 360 tasks      | elapsed:   19.7s\n",
      "[Parallel(n_jobs=-1)]: Done 860 tasks      | elapsed:   43.1s\n",
      "[Parallel(n_jobs=-1)]: Done 900 out of 900 | elapsed:   46.4s finished\n"
     ]
    },
    {
     "data": {
      "text/plain": [
       "RandomizedSearchCV(cv=3, estimator=LogisticRegression(), n_iter=300, n_jobs=-1,\n",
       "                   param_distributions={'C': array([1.00000e-05, 1.00200e-02, 2.00300e-02, 3.00400e-02, 4.00500e-02,\n",
       "       5.00600e-02, 6.00700e-02, 7.00800e-02, 8.00900e-02, 9.01000e-02,\n",
       "       1.00110e-01, 1.10120e-01, 1.20130e-01, 1.30140e-01, 1.40150e-01,\n",
       "       1.50160e-01, 1.60170e-01, 1.70180e-01, 1.80190e-01, 1.90200e-01,\n",
       "       2....\n",
       "       9.80981e+00, 9.81982e+00, 9.82983e+00, 9.83984e+00, 9.84985e+00,\n",
       "       9.85986e+00, 9.86987e+00, 9.87988e+00, 9.88989e+00, 9.89990e+00,\n",
       "       9.90991e+00, 9.91992e+00, 9.92993e+00, 9.93994e+00, 9.94995e+00,\n",
       "       9.95996e+00, 9.96997e+00, 9.97998e+00, 9.98999e+00, 1.00000e+01]),\n",
       "                                        'class_weight': [None, 'weight'],\n",
       "                                        'fit_intercept': [True, False],\n",
       "                                        'penalty': ['l1', 'l2', 'elasticnet',\n",
       "                                                    None]},\n",
       "                   scoring='f1', verbose=1)"
      ]
     },
     "execution_count": 102,
     "metadata": {},
     "output_type": "execute_result"
    }
   ],
   "source": [
    "logreg_os_std = RandomizedSearchCV(estimator = logreg, param_distributions = param_logreg, cv = 3, n_jobs = -1 , n_iter=300, verbose = 1, scoring = 'f1')\n",
    "x_train_os[columns_continuous] = std_scale.fit_transform(x_train_os[columns_continuous])\n",
    "logreg_os_std.fit(x_train_os, y_train_os)"
   ]
  },
  {
   "cell_type": "code",
   "execution_count": 103,
   "metadata": {},
   "outputs": [
    {
     "data": {
      "text/plain": [
       "LogisticRegression(C=0.25026, class_weight='weight', fit_intercept=False)"
      ]
     },
     "execution_count": 103,
     "metadata": {},
     "output_type": "execute_result"
    }
   ],
   "source": [
    "logreg_os_std_tuned = logreg_os_std.best_estimator_\n",
    "pred_train_os_std = logreg_os_std_tuned.predict(x_train_os)\n",
    "x_test[columns_continuous] = std_scale.fit_transform(x_test[columns_continuous])\n",
    "pred_test_os_std = logreg_os_std_tuned.predict(x_test)\n",
    "logreg_os_std_tuned"
   ]
  },
  {
   "cell_type": "code",
   "execution_count": 104,
   "metadata": {
    "id": "e0IlJnw8Yp6f"
   },
   "outputs": [],
   "source": [
    "logreg_acc_tuned_train_os_std = accuracy_score(y_train_os, pred_train_os_std)\n",
    "logreg_acc_tuned_test_os_std = accuracy_score(y_test, pred_test_os_std)\n",
    "logreg_recall_tuned_train_os_std = recall_score(y_train_os, pred_train_os_std)\n",
    "logreg_recall_tuned_test_os_std = recall_score(y_test, pred_test_os_std)\n",
    "logreg_prec_tuned_train_os_std = precision_score(y_train_os, pred_train_os_std)\n",
    "logreg_prec_tuned_test_os_std = precision_score(y_test, pred_test_os_std)\n",
    "logreg_f1_tuned_train_os_std = f1_score(y_train_os, pred_train_os_std)\n",
    "logreg_f1_tuned_test_os_std = f1_score(y_test, pred_test_os_std)"
   ]
  },
  {
   "cell_type": "code",
   "execution_count": 105,
   "metadata": {
    "colab": {
     "base_uri": "https://localhost:8080/",
     "height": 110
    },
    "id": "QzD8vKCwamHC",
    "outputId": "9cffc245-cc4c-4c58-de7e-622b665c5d58"
   },
   "outputs": [
    {
     "data": {
      "text/html": [
       "<div>\n",
       "<style scoped>\n",
       "    .dataframe tbody tr th:only-of-type {\n",
       "        vertical-align: middle;\n",
       "    }\n",
       "\n",
       "    .dataframe tbody tr th {\n",
       "        vertical-align: top;\n",
       "    }\n",
       "\n",
       "    .dataframe thead th {\n",
       "        text-align: right;\n",
       "    }\n",
       "</style>\n",
       "<table border=\"1\" class=\"dataframe\">\n",
       "  <thead>\n",
       "    <tr style=\"text-align: right;\">\n",
       "      <th></th>\n",
       "      <th>Pred 1</th>\n",
       "      <th>Pred 0</th>\n",
       "    </tr>\n",
       "  </thead>\n",
       "  <tbody>\n",
       "    <tr>\n",
       "      <th>Akt 1</th>\n",
       "      <td>194</td>\n",
       "      <td>66</td>\n",
       "    </tr>\n",
       "    <tr>\n",
       "      <th>Akt 0</th>\n",
       "      <td>459</td>\n",
       "      <td>1090</td>\n",
       "    </tr>\n",
       "  </tbody>\n",
       "</table>\n",
       "</div>"
      ],
      "text/plain": [
       "       Pred 1  Pred 0\n",
       "Akt 1     194      66\n",
       "Akt 0     459    1090"
      ]
     },
     "execution_count": 105,
     "metadata": {},
     "output_type": "execute_result"
    }
   ],
   "source": [
    "cm_logreg_tuned_os_std = confusion_matrix(y_test, pred_test_os_std, labels=[1, 0])\n",
    "cm_logreg_tuned_os_std = pd.DataFrame(data=cm_logreg_tuned_os_std, index=['Akt 1', 'Akt 0'], columns=['Pred 1', 'Pred 0'])\n",
    "cm_logreg_tuned_os_std"
   ]
  },
  {
   "cell_type": "code",
   "execution_count": 106,
   "metadata": {},
   "outputs": [
    {
     "name": "stdout",
     "output_type": "stream",
     "text": [
      "              precision    recall  f1-score   support\n",
      "\n",
      "           0       0.94      0.70      0.81      1549\n",
      "           1       0.30      0.75      0.42       260\n",
      "\n",
      "    accuracy                           0.71      1809\n",
      "   macro avg       0.62      0.72      0.62      1809\n",
      "weighted avg       0.85      0.71      0.75      1809\n",
      "\n"
     ]
    }
   ],
   "source": [
    "print(classification_report(y_test, pred_test_os_std))"
   ]
  },
  {
   "cell_type": "code",
   "execution_count": 107,
   "metadata": {},
   "outputs": [],
   "source": [
    "tp_logreg_os_std = cm_logreg_tuned_os_std['Pred 1'][0]\n",
    "tn_logreg_os_std = cm_logreg_tuned_os_std['Pred 0'][1]\n",
    "fp_logreg_os_std = cm_logreg_tuned_os_std['Pred 1'][1]\n",
    "fn_logreg_os_std = cm_logreg_tuned_os_std['Pred 0'][0]"
   ]
  },
  {
   "cell_type": "markdown",
   "metadata": {
    "id": "Ypip9bAwnOyx"
   },
   "source": [
    "#### MinMax Scaling with Random Over Sampling"
   ]
  },
  {
   "cell_type": "code",
   "execution_count": 108,
   "metadata": {
    "id": "5leyNV5Tldxq"
   },
   "outputs": [
    {
     "name": "stdout",
     "output_type": "stream",
     "text": [
      "Fitting 3 folds for each of 300 candidates, totalling 900 fits\n"
     ]
    },
    {
     "name": "stderr",
     "output_type": "stream",
     "text": [
      "[Parallel(n_jobs=-1)]: Using backend LokyBackend with 4 concurrent workers.\n",
      "[Parallel(n_jobs=-1)]: Done  76 tasks      | elapsed:    5.2s\n",
      "[Parallel(n_jobs=-1)]: Done 376 tasks      | elapsed:   18.4s\n",
      "[Parallel(n_jobs=-1)]: Done 876 tasks      | elapsed:   41.9s\n",
      "[Parallel(n_jobs=-1)]: Done 893 out of 900 | elapsed:   42.7s remaining:    0.2s\n",
      "[Parallel(n_jobs=-1)]: Done 900 out of 900 | elapsed:   43.2s finished\n"
     ]
    },
    {
     "data": {
      "text/plain": [
       "RandomizedSearchCV(cv=3, estimator=LogisticRegression(), n_iter=300, n_jobs=-1,\n",
       "                   param_distributions={'C': array([1.00000e-05, 1.00200e-02, 2.00300e-02, 3.00400e-02, 4.00500e-02,\n",
       "       5.00600e-02, 6.00700e-02, 7.00800e-02, 8.00900e-02, 9.01000e-02,\n",
       "       1.00110e-01, 1.10120e-01, 1.20130e-01, 1.30140e-01, 1.40150e-01,\n",
       "       1.50160e-01, 1.60170e-01, 1.70180e-01, 1.80190e-01, 1.90200e-01,\n",
       "       2....\n",
       "       9.80981e+00, 9.81982e+00, 9.82983e+00, 9.83984e+00, 9.84985e+00,\n",
       "       9.85986e+00, 9.86987e+00, 9.87988e+00, 9.88989e+00, 9.89990e+00,\n",
       "       9.90991e+00, 9.91992e+00, 9.92993e+00, 9.93994e+00, 9.94995e+00,\n",
       "       9.95996e+00, 9.96997e+00, 9.97998e+00, 9.98999e+00, 1.00000e+01]),\n",
       "                                        'class_weight': [None, 'weight'],\n",
       "                                        'fit_intercept': [True, False],\n",
       "                                        'penalty': ['l1', 'l2', 'elasticnet',\n",
       "                                                    None]},\n",
       "                   scoring='f1', verbose=1)"
      ]
     },
     "execution_count": 108,
     "metadata": {},
     "output_type": "execute_result"
    }
   ],
   "source": [
    "logreg_os_mm = RandomizedSearchCV(estimator = logreg, param_distributions = param_logreg, cv = 3, n_jobs = -1 , n_iter=300, verbose = 1, scoring = 'f1')\n",
    "x_train_os[columns_continuous] = mm_scale.fit_transform(x_train_os[columns_continuous])\n",
    "logreg_os_mm.fit(x_train_os, y_train_os)"
   ]
  },
  {
   "cell_type": "code",
   "execution_count": 109,
   "metadata": {},
   "outputs": [
    {
     "data": {
      "text/plain": [
       "LogisticRegression(C=4.53454, class_weight='weight', fit_intercept=False)"
      ]
     },
     "execution_count": 109,
     "metadata": {},
     "output_type": "execute_result"
    }
   ],
   "source": [
    "logreg_os_mm_tuned = logreg_os_mm.best_estimator_\n",
    "pred_train_os_mm = logreg_os_mm_tuned.predict(x_train_os)\n",
    "x_test[columns_continuous] = mm_scale.fit_transform(x_test[columns_continuous])\n",
    "pred_test_os_mm = logreg_os_mm_tuned.predict(x_test)\n",
    "logreg_os_mm_tuned"
   ]
  },
  {
   "cell_type": "code",
   "execution_count": 110,
   "metadata": {
    "id": "M_TThASbnqBI"
   },
   "outputs": [],
   "source": [
    "logreg_acc_tuned_train_os_mm = accuracy_score(y_train_os, pred_train_os_mm)\n",
    "logreg_acc_tuned_test_os_mm = accuracy_score(y_test, pred_test_os_mm)\n",
    "logreg_recall_tuned_train_os_mm = recall_score(y_train_os, pred_train_os_mm)\n",
    "logreg_recall_tuned_test_os_mm = recall_score(y_test, pred_test_os_mm)\n",
    "logreg_prec_tuned_train_os_mm = precision_score(y_train_os, pred_train_os_mm)\n",
    "logreg_prec_tuned_test_os_mm = precision_score(y_test, pred_test_os_mm)\n",
    "logreg_f1_tuned_train_os_mm = f1_score(y_train_os, pred_train_os_mm)\n",
    "logreg_f1_tuned_test_os_mm = f1_score(y_test, pred_test_os_mm)"
   ]
  },
  {
   "cell_type": "code",
   "execution_count": 111,
   "metadata": {
    "colab": {
     "base_uri": "https://localhost:8080/",
     "height": 110
    },
    "id": "FDXaeQzVoH_Q",
    "outputId": "6ea2361c-3f0a-4cb6-dafc-fd27ebdcd0c4"
   },
   "outputs": [
    {
     "data": {
      "text/html": [
       "<div>\n",
       "<style scoped>\n",
       "    .dataframe tbody tr th:only-of-type {\n",
       "        vertical-align: middle;\n",
       "    }\n",
       "\n",
       "    .dataframe tbody tr th {\n",
       "        vertical-align: top;\n",
       "    }\n",
       "\n",
       "    .dataframe thead th {\n",
       "        text-align: right;\n",
       "    }\n",
       "</style>\n",
       "<table border=\"1\" class=\"dataframe\">\n",
       "  <thead>\n",
       "    <tr style=\"text-align: right;\">\n",
       "      <th></th>\n",
       "      <th>Pred 1</th>\n",
       "      <th>Pred 0</th>\n",
       "    </tr>\n",
       "  </thead>\n",
       "  <tbody>\n",
       "    <tr>\n",
       "      <th>Akt 1</th>\n",
       "      <td>183</td>\n",
       "      <td>77</td>\n",
       "    </tr>\n",
       "    <tr>\n",
       "      <th>Akt 0</th>\n",
       "      <td>421</td>\n",
       "      <td>1128</td>\n",
       "    </tr>\n",
       "  </tbody>\n",
       "</table>\n",
       "</div>"
      ],
      "text/plain": [
       "       Pred 1  Pred 0\n",
       "Akt 1     183      77\n",
       "Akt 0     421    1128"
      ]
     },
     "execution_count": 111,
     "metadata": {},
     "output_type": "execute_result"
    }
   ],
   "source": [
    "cm_logreg_tuned_os_mm = confusion_matrix(y_test, pred_test_os_mm, labels=[1, 0])\n",
    "cm_logreg_tuned_os_mm = pd.DataFrame(data=cm_logreg_tuned_os_mm, index=['Akt 1', 'Akt 0'], columns=['Pred 1', 'Pred 0'])\n",
    "cm_logreg_tuned_os_mm"
   ]
  },
  {
   "cell_type": "code",
   "execution_count": 112,
   "metadata": {},
   "outputs": [
    {
     "name": "stdout",
     "output_type": "stream",
     "text": [
      "              precision    recall  f1-score   support\n",
      "\n",
      "           0       0.94      0.73      0.82      1549\n",
      "           1       0.30      0.70      0.42       260\n",
      "\n",
      "    accuracy                           0.72      1809\n",
      "   macro avg       0.62      0.72      0.62      1809\n",
      "weighted avg       0.85      0.72      0.76      1809\n",
      "\n"
     ]
    }
   ],
   "source": [
    "print(classification_report(y_test, pred_test_os_mm))"
   ]
  },
  {
   "cell_type": "code",
   "execution_count": 113,
   "metadata": {},
   "outputs": [],
   "source": [
    "tp_logreg_os_mm = cm_logreg_tuned_os_mm['Pred 1'][0]\n",
    "tn_logreg_os_mm = cm_logreg_tuned_os_mm['Pred 0'][1]\n",
    "fp_logreg_os_mm = cm_logreg_tuned_os_mm['Pred 1'][1]\n",
    "fn_logreg_os_mm = cm_logreg_tuned_os_mm['Pred 0'][0]"
   ]
  },
  {
   "cell_type": "markdown",
   "metadata": {
    "id": "TfM9k0MWoebl"
   },
   "source": [
    "#### Robust Scaling with Random Over Sampling"
   ]
  },
  {
   "cell_type": "code",
   "execution_count": 114,
   "metadata": {
    "id": "dYdYjFDsoast"
   },
   "outputs": [
    {
     "name": "stdout",
     "output_type": "stream",
     "text": [
      "Fitting 3 folds for each of 300 candidates, totalling 900 fits\n"
     ]
    },
    {
     "name": "stderr",
     "output_type": "stream",
     "text": [
      "[Parallel(n_jobs=-1)]: Using backend LokyBackend with 4 concurrent workers.\n",
      "[Parallel(n_jobs=-1)]: Done  76 tasks      | elapsed:    6.0s\n",
      "[Parallel(n_jobs=-1)]: Done 376 tasks      | elapsed:   21.5s\n",
      "[Parallel(n_jobs=-1)]: Done 876 tasks      | elapsed:   44.1s\n",
      "[Parallel(n_jobs=-1)]: Done 893 out of 900 | elapsed:   44.4s remaining:    0.2s\n",
      "[Parallel(n_jobs=-1)]: Done 900 out of 900 | elapsed:   45.2s finished\n"
     ]
    },
    {
     "data": {
      "text/plain": [
       "RandomizedSearchCV(cv=3, estimator=LogisticRegression(), n_iter=300, n_jobs=-1,\n",
       "                   param_distributions={'C': array([1.00000e-05, 1.00200e-02, 2.00300e-02, 3.00400e-02, 4.00500e-02,\n",
       "       5.00600e-02, 6.00700e-02, 7.00800e-02, 8.00900e-02, 9.01000e-02,\n",
       "       1.00110e-01, 1.10120e-01, 1.20130e-01, 1.30140e-01, 1.40150e-01,\n",
       "       1.50160e-01, 1.60170e-01, 1.70180e-01, 1.80190e-01, 1.90200e-01,\n",
       "       2....\n",
       "       9.80981e+00, 9.81982e+00, 9.82983e+00, 9.83984e+00, 9.84985e+00,\n",
       "       9.85986e+00, 9.86987e+00, 9.87988e+00, 9.88989e+00, 9.89990e+00,\n",
       "       9.90991e+00, 9.91992e+00, 9.92993e+00, 9.93994e+00, 9.94995e+00,\n",
       "       9.95996e+00, 9.96997e+00, 9.97998e+00, 9.98999e+00, 1.00000e+01]),\n",
       "                                        'class_weight': [None, 'weight'],\n",
       "                                        'fit_intercept': [True, False],\n",
       "                                        'penalty': ['l1', 'l2', 'elasticnet',\n",
       "                                                    None]},\n",
       "                   scoring='f1', verbose=1)"
      ]
     },
     "execution_count": 114,
     "metadata": {},
     "output_type": "execute_result"
    }
   ],
   "source": [
    "logreg_os_rb = RandomizedSearchCV(estimator = logreg, param_distributions = param_logreg, cv = 3, n_jobs = -1 , n_iter=300, verbose = 1, scoring = 'f1')\n",
    "x_train_os[columns_continuous] = rb_scale.fit_transform(x_train_os[columns_continuous])\n",
    "logreg_os_rb.fit(x_train_os, y_train_os)"
   ]
  },
  {
   "cell_type": "code",
   "execution_count": 115,
   "metadata": {},
   "outputs": [
    {
     "data": {
      "text/plain": [
       "LogisticRegression(C=0.35036, class_weight='weight', fit_intercept=False)"
      ]
     },
     "execution_count": 115,
     "metadata": {},
     "output_type": "execute_result"
    }
   ],
   "source": [
    "logreg_os_rb_tuned = logreg_os_rb.best_estimator_\n",
    "pred_train_os_rb = logreg_os_rb_tuned.predict(x_train_os)\n",
    "x_test[columns_continuous] = rb_scale.fit_transform(x_test[columns_continuous])\n",
    "pred_test_os_rb = logreg_os_rb_tuned.predict(x_test)\n",
    "logreg_os_rb_tuned"
   ]
  },
  {
   "cell_type": "code",
   "execution_count": 116,
   "metadata": {
    "id": "9aCDdeXxow4n"
   },
   "outputs": [],
   "source": [
    "logreg_acc_tuned_train_os_rb = accuracy_score(y_train_os, pred_train_os_rb)\n",
    "logreg_acc_tuned_test_os_rb = accuracy_score(y_test, pred_test_os_rb)\n",
    "logreg_recall_tuned_train_os_rb = recall_score(y_train_os, pred_train_os_rb)\n",
    "logreg_recall_tuned_test_os_rb = recall_score(y_test, pred_test_os_rb)\n",
    "logreg_prec_tuned_train_os_rb = precision_score(y_train_os, pred_train_os_rb)\n",
    "logreg_prec_tuned_test_os_rb = precision_score(y_test, pred_test_os_rb)\n",
    "logreg_f1_tuned_train_os_rb = f1_score(y_train_os, pred_train_os_rb)\n",
    "logreg_f1_tuned_test_os_rb = f1_score(y_test, pred_test_os_rb)"
   ]
  },
  {
   "cell_type": "code",
   "execution_count": 117,
   "metadata": {
    "colab": {
     "base_uri": "https://localhost:8080/",
     "height": 110
    },
    "id": "VjJEx91uo8C9",
    "outputId": "32d0835b-02a9-40e4-874e-2d6d32399d0e"
   },
   "outputs": [
    {
     "data": {
      "text/html": [
       "<div>\n",
       "<style scoped>\n",
       "    .dataframe tbody tr th:only-of-type {\n",
       "        vertical-align: middle;\n",
       "    }\n",
       "\n",
       "    .dataframe tbody tr th {\n",
       "        vertical-align: top;\n",
       "    }\n",
       "\n",
       "    .dataframe thead th {\n",
       "        text-align: right;\n",
       "    }\n",
       "</style>\n",
       "<table border=\"1\" class=\"dataframe\">\n",
       "  <thead>\n",
       "    <tr style=\"text-align: right;\">\n",
       "      <th></th>\n",
       "      <th>Pred 1</th>\n",
       "      <th>Pred 0</th>\n",
       "    </tr>\n",
       "  </thead>\n",
       "  <tbody>\n",
       "    <tr>\n",
       "      <th>Akt 1</th>\n",
       "      <td>191</td>\n",
       "      <td>69</td>\n",
       "    </tr>\n",
       "    <tr>\n",
       "      <th>Akt 0</th>\n",
       "      <td>453</td>\n",
       "      <td>1096</td>\n",
       "    </tr>\n",
       "  </tbody>\n",
       "</table>\n",
       "</div>"
      ],
      "text/plain": [
       "       Pred 1  Pred 0\n",
       "Akt 1     191      69\n",
       "Akt 0     453    1096"
      ]
     },
     "execution_count": 117,
     "metadata": {},
     "output_type": "execute_result"
    }
   ],
   "source": [
    "cm_logreg_tuned_os_rb = confusion_matrix(y_test, pred_test_os_rb, labels=[1, 0])\n",
    "cm_logreg_tuned_os_rb = pd.DataFrame(data=cm_logreg_tuned_os_rb, index=['Akt 1', 'Akt 0'], columns=['Pred 1', 'Pred 0'])\n",
    "cm_logreg_tuned_os_rb"
   ]
  },
  {
   "cell_type": "code",
   "execution_count": 118,
   "metadata": {},
   "outputs": [
    {
     "name": "stdout",
     "output_type": "stream",
     "text": [
      "              precision    recall  f1-score   support\n",
      "\n",
      "           0       0.94      0.71      0.81      1549\n",
      "           1       0.30      0.73      0.42       260\n",
      "\n",
      "    accuracy                           0.71      1809\n",
      "   macro avg       0.62      0.72      0.62      1809\n",
      "weighted avg       0.85      0.71      0.75      1809\n",
      "\n"
     ]
    }
   ],
   "source": [
    "print(classification_report(y_test, pred_test_os_rb))"
   ]
  },
  {
   "cell_type": "code",
   "execution_count": 119,
   "metadata": {},
   "outputs": [],
   "source": [
    "tp_logreg_os_rb = cm_logreg_tuned_os_rb['Pred 1'][0]\n",
    "tn_logreg_os_rb = cm_logreg_tuned_os_rb['Pred 0'][1]\n",
    "fp_logreg_os_rb = cm_logreg_tuned_os_rb['Pred 1'][1]\n",
    "fn_logreg_os_rb = cm_logreg_tuned_os_rb['Pred 0'][0]"
   ]
  },
  {
   "cell_type": "markdown",
   "metadata": {
    "id": "-vEeoct9sjm6"
   },
   "source": [
    "#### Standard Scaling with Smote"
   ]
  },
  {
   "cell_type": "code",
   "execution_count": 120,
   "metadata": {
    "id": "E-ih8kpxq1Xw"
   },
   "outputs": [
    {
     "name": "stdout",
     "output_type": "stream",
     "text": [
      "Fitting 3 folds for each of 300 candidates, totalling 900 fits\n"
     ]
    },
    {
     "name": "stderr",
     "output_type": "stream",
     "text": [
      "[Parallel(n_jobs=-1)]: Using backend LokyBackend with 4 concurrent workers.\n",
      "[Parallel(n_jobs=-1)]: Done 172 tasks      | elapsed:    7.6s\n",
      "[Parallel(n_jobs=-1)]: Done 629 tasks      | elapsed:   27.1s\n",
      "[Parallel(n_jobs=-1)]: Done 900 out of 900 | elapsed:   38.6s finished\n"
     ]
    },
    {
     "data": {
      "text/plain": [
       "RandomizedSearchCV(cv=3, estimator=LogisticRegression(), n_iter=300, n_jobs=-1,\n",
       "                   param_distributions={'C': array([1.00000e-05, 1.00200e-02, 2.00300e-02, 3.00400e-02, 4.00500e-02,\n",
       "       5.00600e-02, 6.00700e-02, 7.00800e-02, 8.00900e-02, 9.01000e-02,\n",
       "       1.00110e-01, 1.10120e-01, 1.20130e-01, 1.30140e-01, 1.40150e-01,\n",
       "       1.50160e-01, 1.60170e-01, 1.70180e-01, 1.80190e-01, 1.90200e-01,\n",
       "       2....\n",
       "       9.80981e+00, 9.81982e+00, 9.82983e+00, 9.83984e+00, 9.84985e+00,\n",
       "       9.85986e+00, 9.86987e+00, 9.87988e+00, 9.88989e+00, 9.89990e+00,\n",
       "       9.90991e+00, 9.91992e+00, 9.92993e+00, 9.93994e+00, 9.94995e+00,\n",
       "       9.95996e+00, 9.96997e+00, 9.97998e+00, 9.98999e+00, 1.00000e+01]),\n",
       "                                        'class_weight': [None, 'weight'],\n",
       "                                        'fit_intercept': [True, False],\n",
       "                                        'penalty': ['l1', 'l2', 'elasticnet',\n",
       "                                                    None]},\n",
       "                   scoring='f1', verbose=1)"
      ]
     },
     "execution_count": 120,
     "metadata": {},
     "output_type": "execute_result"
    }
   ],
   "source": [
    "logreg_sm_std = RandomizedSearchCV(estimator = logreg, param_distributions = param_logreg, cv = 3, n_jobs = -1 , n_iter=300, verbose = 1, scoring = 'f1')\n",
    "x_train_sm[columns_continuous] = std_scale.fit_transform(x_train_sm[columns_continuous])\n",
    "logreg_sm_std.fit(x_train_sm, y_train_sm)"
   ]
  },
  {
   "cell_type": "code",
   "execution_count": 121,
   "metadata": {},
   "outputs": [
    {
     "data": {
      "text/plain": [
       "LogisticRegression(C=9.51952, class_weight='weight')"
      ]
     },
     "execution_count": 121,
     "metadata": {},
     "output_type": "execute_result"
    }
   ],
   "source": [
    "logreg_sm_std_tuned = logreg_sm_std.best_estimator_\n",
    "pred_train_sm_std = logreg_sm_std_tuned.predict(x_train_sm)\n",
    "x_test[columns_continuous] = std_scale.fit_transform(x_test[columns_continuous])\n",
    "pred_test_sm_std = logreg_sm_std_tuned.predict(x_test)\n",
    "logreg_sm_std_tuned"
   ]
  },
  {
   "cell_type": "code",
   "execution_count": 122,
   "metadata": {
    "id": "aW8itP9vtIDu"
   },
   "outputs": [],
   "source": [
    "logreg_acc_tuned_train_sm_std = accuracy_score(y_train_sm, pred_train_sm_std)\n",
    "logreg_acc_tuned_test_sm_std = accuracy_score(y_test, pred_test_sm_std)\n",
    "logreg_recall_tuned_train_sm_std = recall_score(y_train_sm, pred_train_sm_std)\n",
    "logreg_recall_tuned_test_sm_std = recall_score(y_test, pred_test_sm_std)\n",
    "logreg_prec_tuned_train_sm_std = precision_score(y_train_sm, pred_train_sm_std)\n",
    "logreg_prec_tuned_test_sm_std = precision_score(y_test, pred_test_sm_std)\n",
    "logreg_f1_tuned_train_sm_std = f1_score(y_train_sm, pred_train_sm_std)\n",
    "logreg_f1_tuned_test_sm_std = f1_score(y_test, pred_test_sm_std)"
   ]
  },
  {
   "cell_type": "code",
   "execution_count": 123,
   "metadata": {
    "colab": {
     "base_uri": "https://localhost:8080/",
     "height": 110
    },
    "id": "fS7nTf7_tbtJ",
    "outputId": "6d48d119-418a-4689-883e-d963698815c9"
   },
   "outputs": [
    {
     "data": {
      "text/html": [
       "<div>\n",
       "<style scoped>\n",
       "    .dataframe tbody tr th:only-of-type {\n",
       "        vertical-align: middle;\n",
       "    }\n",
       "\n",
       "    .dataframe tbody tr th {\n",
       "        vertical-align: top;\n",
       "    }\n",
       "\n",
       "    .dataframe thead th {\n",
       "        text-align: right;\n",
       "    }\n",
       "</style>\n",
       "<table border=\"1\" class=\"dataframe\">\n",
       "  <thead>\n",
       "    <tr style=\"text-align: right;\">\n",
       "      <th></th>\n",
       "      <th>Pred 1</th>\n",
       "      <th>Pred 0</th>\n",
       "    </tr>\n",
       "  </thead>\n",
       "  <tbody>\n",
       "    <tr>\n",
       "      <th>Akt 1</th>\n",
       "      <td>51</td>\n",
       "      <td>209</td>\n",
       "    </tr>\n",
       "    <tr>\n",
       "      <th>Akt 0</th>\n",
       "      <td>33</td>\n",
       "      <td>1516</td>\n",
       "    </tr>\n",
       "  </tbody>\n",
       "</table>\n",
       "</div>"
      ],
      "text/plain": [
       "       Pred 1  Pred 0\n",
       "Akt 1      51     209\n",
       "Akt 0      33    1516"
      ]
     },
     "execution_count": 123,
     "metadata": {},
     "output_type": "execute_result"
    }
   ],
   "source": [
    "cm_logreg_tuned_sm_std = confusion_matrix(y_test, pred_test_sm_std, labels=[1, 0])\n",
    "cm_logreg_tuned_sm_std = pd.DataFrame(data=cm_logreg_tuned_sm_std, index=['Akt 1', 'Akt 0'], columns=['Pred 1', 'Pred 0'])\n",
    "cm_logreg_tuned_sm_std"
   ]
  },
  {
   "cell_type": "code",
   "execution_count": 124,
   "metadata": {},
   "outputs": [
    {
     "name": "stdout",
     "output_type": "stream",
     "text": [
      "              precision    recall  f1-score   support\n",
      "\n",
      "           0       0.88      0.98      0.93      1549\n",
      "           1       0.61      0.20      0.30       260\n",
      "\n",
      "    accuracy                           0.87      1809\n",
      "   macro avg       0.74      0.59      0.61      1809\n",
      "weighted avg       0.84      0.87      0.84      1809\n",
      "\n"
     ]
    }
   ],
   "source": [
    "print(classification_report(y_test, pred_test_sm_std))"
   ]
  },
  {
   "cell_type": "code",
   "execution_count": 125,
   "metadata": {},
   "outputs": [],
   "source": [
    "tp_logreg_sm_std = cm_logreg_tuned_sm_std['Pred 1'][0]\n",
    "tn_logreg_sm_std = cm_logreg_tuned_sm_std['Pred 0'][1]\n",
    "fp_logreg_sm_std = cm_logreg_tuned_sm_std['Pred 1'][1]\n",
    "fn_logreg_sm_std = cm_logreg_tuned_sm_std['Pred 0'][0]"
   ]
  },
  {
   "cell_type": "markdown",
   "metadata": {
    "id": "GTH6hxRptxmr"
   },
   "source": [
    "#### MinMax Scaling with Smote"
   ]
  },
  {
   "cell_type": "code",
   "execution_count": 126,
   "metadata": {
    "id": "cJb_jJOktkgT"
   },
   "outputs": [
    {
     "name": "stdout",
     "output_type": "stream",
     "text": [
      "Fitting 3 folds for each of 300 candidates, totalling 900 fits\n"
     ]
    },
    {
     "name": "stderr",
     "output_type": "stream",
     "text": [
      "[Parallel(n_jobs=-1)]: Using backend LokyBackend with 4 concurrent workers.\n",
      "[Parallel(n_jobs=-1)]: Done 128 tasks      | elapsed:    5.7s\n",
      "[Parallel(n_jobs=-1)]: Done 436 tasks      | elapsed:   21.0s\n",
      "[Parallel(n_jobs=-1)]: Done 900 out of 900 | elapsed:   39.4s finished\n"
     ]
    },
    {
     "data": {
      "text/plain": [
       "RandomizedSearchCV(cv=3, estimator=LogisticRegression(), n_iter=300, n_jobs=-1,\n",
       "                   param_distributions={'C': array([1.00000e-05, 1.00200e-02, 2.00300e-02, 3.00400e-02, 4.00500e-02,\n",
       "       5.00600e-02, 6.00700e-02, 7.00800e-02, 8.00900e-02, 9.01000e-02,\n",
       "       1.00110e-01, 1.10120e-01, 1.20130e-01, 1.30140e-01, 1.40150e-01,\n",
       "       1.50160e-01, 1.60170e-01, 1.70180e-01, 1.80190e-01, 1.90200e-01,\n",
       "       2....\n",
       "       9.80981e+00, 9.81982e+00, 9.82983e+00, 9.83984e+00, 9.84985e+00,\n",
       "       9.85986e+00, 9.86987e+00, 9.87988e+00, 9.88989e+00, 9.89990e+00,\n",
       "       9.90991e+00, 9.91992e+00, 9.92993e+00, 9.93994e+00, 9.94995e+00,\n",
       "       9.95996e+00, 9.96997e+00, 9.97998e+00, 9.98999e+00, 1.00000e+01]),\n",
       "                                        'class_weight': [None, 'weight'],\n",
       "                                        'fit_intercept': [True, False],\n",
       "                                        'penalty': ['l1', 'l2', 'elasticnet',\n",
       "                                                    None]},\n",
       "                   scoring='f1', verbose=1)"
      ]
     },
     "execution_count": 126,
     "metadata": {},
     "output_type": "execute_result"
    }
   ],
   "source": [
    "logreg_sm_mm = RandomizedSearchCV(estimator = logreg, param_distributions = param_logreg, cv = 3, n_jobs = -1 , n_iter=300, verbose = 1, scoring = 'f1')\n",
    "x_train_sm[columns_continuous] = mm_scale.fit_transform(x_train_sm[columns_continuous])\n",
    "logreg_sm_mm.fit(x_train_sm, y_train_sm)"
   ]
  },
  {
   "cell_type": "code",
   "execution_count": 127,
   "metadata": {},
   "outputs": [
    {
     "data": {
      "text/plain": [
       "LogisticRegression(C=5.8758799999999995, class_weight='weight')"
      ]
     },
     "execution_count": 127,
     "metadata": {},
     "output_type": "execute_result"
    }
   ],
   "source": [
    "logreg_sm_mm_tuned = logreg_sm_mm.best_estimator_\n",
    "pred_train_sm_mm = logreg_sm_mm_tuned.predict(x_train_sm)\n",
    "x_test[columns_continuous] = mm_scale.fit_transform(x_test[columns_continuous])\n",
    "pred_test_sm_mm = logreg_sm_mm_tuned.predict(x_test)\n",
    "logreg_sm_mm_tuned"
   ]
  },
  {
   "cell_type": "code",
   "execution_count": 128,
   "metadata": {
    "id": "4RFEOT6NuBhv"
   },
   "outputs": [],
   "source": [
    "logreg_acc_tuned_train_sm_mm = accuracy_score(y_train_sm, pred_train_sm_mm)\n",
    "logreg_acc_tuned_test_sm_mm = accuracy_score(y_test, pred_test_sm_mm)\n",
    "logreg_recall_tuned_train_sm_mm = recall_score(y_train_sm, pred_train_sm_mm)\n",
    "logreg_recall_tuned_test_sm_mm = recall_score(y_test, pred_test_sm_mm)\n",
    "logreg_prec_tuned_train_sm_mm = precision_score(y_train_sm, pred_train_sm_mm)\n",
    "logreg_prec_tuned_test_sm_mm = precision_score(y_test, pred_test_sm_mm)\n",
    "logreg_f1_tuned_train_sm_mm = f1_score(y_train_sm, pred_train_sm_mm)\n",
    "logreg_f1_tuned_test_sm_mm = f1_score(y_test, pred_test_sm_mm)"
   ]
  },
  {
   "cell_type": "code",
   "execution_count": 129,
   "metadata": {
    "colab": {
     "base_uri": "https://localhost:8080/",
     "height": 110
    },
    "id": "3e9hYPkYub6W",
    "outputId": "8bd53708-3e33-40e1-a2a3-cdcb82836edc"
   },
   "outputs": [
    {
     "data": {
      "text/html": [
       "<div>\n",
       "<style scoped>\n",
       "    .dataframe tbody tr th:only-of-type {\n",
       "        vertical-align: middle;\n",
       "    }\n",
       "\n",
       "    .dataframe tbody tr th {\n",
       "        vertical-align: top;\n",
       "    }\n",
       "\n",
       "    .dataframe thead th {\n",
       "        text-align: right;\n",
       "    }\n",
       "</style>\n",
       "<table border=\"1\" class=\"dataframe\">\n",
       "  <thead>\n",
       "    <tr style=\"text-align: right;\">\n",
       "      <th></th>\n",
       "      <th>Pred 1</th>\n",
       "      <th>Pred 0</th>\n",
       "    </tr>\n",
       "  </thead>\n",
       "  <tbody>\n",
       "    <tr>\n",
       "      <th>Akt 1</th>\n",
       "      <td>45</td>\n",
       "      <td>215</td>\n",
       "    </tr>\n",
       "    <tr>\n",
       "      <th>Akt 0</th>\n",
       "      <td>25</td>\n",
       "      <td>1524</td>\n",
       "    </tr>\n",
       "  </tbody>\n",
       "</table>\n",
       "</div>"
      ],
      "text/plain": [
       "       Pred 1  Pred 0\n",
       "Akt 1      45     215\n",
       "Akt 0      25    1524"
      ]
     },
     "execution_count": 129,
     "metadata": {},
     "output_type": "execute_result"
    }
   ],
   "source": [
    "cm_logreg_tuned_sm_mm = confusion_matrix(y_test, pred_test_sm_mm, labels=[1, 0])\n",
    "cm_logreg_tuned_sm_mm = pd.DataFrame(data=cm_logreg_tuned_sm_mm, index=['Akt 1', 'Akt 0'], columns=['Pred 1', 'Pred 0'])\n",
    "cm_logreg_tuned_sm_mm"
   ]
  },
  {
   "cell_type": "code",
   "execution_count": 130,
   "metadata": {},
   "outputs": [
    {
     "name": "stdout",
     "output_type": "stream",
     "text": [
      "              precision    recall  f1-score   support\n",
      "\n",
      "           0       0.88      0.98      0.93      1549\n",
      "           1       0.64      0.17      0.27       260\n",
      "\n",
      "    accuracy                           0.87      1809\n",
      "   macro avg       0.76      0.58      0.60      1809\n",
      "weighted avg       0.84      0.87      0.83      1809\n",
      "\n"
     ]
    }
   ],
   "source": [
    "print(classification_report(y_test, pred_test_sm_mm))"
   ]
  },
  {
   "cell_type": "code",
   "execution_count": 131,
   "metadata": {},
   "outputs": [],
   "source": [
    "tp_logreg_sm_mm = cm_logreg_tuned_sm_mm['Pred 1'][0]\n",
    "tn_logreg_sm_mm = cm_logreg_tuned_sm_mm['Pred 0'][1]\n",
    "fp_logreg_sm_mm = cm_logreg_tuned_sm_mm['Pred 1'][1]\n",
    "fn_logreg_sm_mm = cm_logreg_tuned_sm_mm['Pred 0'][0]"
   ]
  },
  {
   "cell_type": "markdown",
   "metadata": {
    "id": "5db8l9RXu0xf"
   },
   "source": [
    "#### Robust Scaling with Smote"
   ]
  },
  {
   "cell_type": "code",
   "execution_count": 132,
   "metadata": {
    "id": "7TUz3cbrujOy"
   },
   "outputs": [
    {
     "name": "stdout",
     "output_type": "stream",
     "text": [
      "Fitting 3 folds for each of 300 candidates, totalling 900 fits\n"
     ]
    },
    {
     "name": "stderr",
     "output_type": "stream",
     "text": [
      "[Parallel(n_jobs=-1)]: Using backend LokyBackend with 4 concurrent workers.\n",
      "[Parallel(n_jobs=-1)]: Done 128 tasks      | elapsed:    4.8s\n",
      "[Parallel(n_jobs=-1)]: Done 516 tasks      | elapsed:   24.7s\n",
      "[Parallel(n_jobs=-1)]: Done 900 out of 900 | elapsed:   41.3s finished\n"
     ]
    },
    {
     "data": {
      "text/plain": [
       "RandomizedSearchCV(cv=3, estimator=LogisticRegression(), n_iter=300, n_jobs=-1,\n",
       "                   param_distributions={'C': array([1.00000e-05, 1.00200e-02, 2.00300e-02, 3.00400e-02, 4.00500e-02,\n",
       "       5.00600e-02, 6.00700e-02, 7.00800e-02, 8.00900e-02, 9.01000e-02,\n",
       "       1.00110e-01, 1.10120e-01, 1.20130e-01, 1.30140e-01, 1.40150e-01,\n",
       "       1.50160e-01, 1.60170e-01, 1.70180e-01, 1.80190e-01, 1.90200e-01,\n",
       "       2....\n",
       "       9.80981e+00, 9.81982e+00, 9.82983e+00, 9.83984e+00, 9.84985e+00,\n",
       "       9.85986e+00, 9.86987e+00, 9.87988e+00, 9.88989e+00, 9.89990e+00,\n",
       "       9.90991e+00, 9.91992e+00, 9.92993e+00, 9.93994e+00, 9.94995e+00,\n",
       "       9.95996e+00, 9.96997e+00, 9.97998e+00, 9.98999e+00, 1.00000e+01]),\n",
       "                                        'class_weight': [None, 'weight'],\n",
       "                                        'fit_intercept': [True, False],\n",
       "                                        'penalty': ['l1', 'l2', 'elasticnet',\n",
       "                                                    None]},\n",
       "                   scoring='f1', verbose=1)"
      ]
     },
     "execution_count": 132,
     "metadata": {},
     "output_type": "execute_result"
    }
   ],
   "source": [
    "logreg_sm_rb = RandomizedSearchCV(estimator = logreg, param_distributions = param_logreg, cv = 3, n_jobs = -1 , n_iter=300, verbose = 1, scoring = 'f1')\n",
    "x_train_sm[columns_continuous] = rb_scale.fit_transform(x_train_sm[columns_continuous])\n",
    "logreg_sm_rb.fit(x_train_sm, y_train_sm)"
   ]
  },
  {
   "cell_type": "code",
   "execution_count": 133,
   "metadata": {},
   "outputs": [
    {
     "data": {
      "text/plain": [
       "LogisticRegression(C=6.11612)"
      ]
     },
     "execution_count": 133,
     "metadata": {},
     "output_type": "execute_result"
    }
   ],
   "source": [
    "logreg_sm_rb_tuned = logreg_sm_rb.best_estimator_\n",
    "pred_train_sm_rb = logreg_sm_rb_tuned.predict(x_train_sm)\n",
    "x_test[columns_continuous] = rb_scale.fit_transform(x_test[columns_continuous])\n",
    "pred_test_sm_rb = logreg_sm_rb_tuned.predict(x_test)\n",
    "logreg_sm_rb_tuned"
   ]
  },
  {
   "cell_type": "code",
   "execution_count": 134,
   "metadata": {
    "id": "YFFI65T9vEP1"
   },
   "outputs": [],
   "source": [
    "logreg_acc_tuned_train_sm_rb = accuracy_score(y_train_sm, pred_train_sm_rb)\n",
    "logreg_acc_tuned_test_sm_rb = accuracy_score(y_test, pred_test_sm_rb)\n",
    "logreg_recall_tuned_train_sm_rb = recall_score(y_train_sm, pred_train_sm_rb)\n",
    "logreg_recall_tuned_test_sm_rb = recall_score(y_test, pred_test_sm_rb)\n",
    "logreg_prec_tuned_train_sm_rb = precision_score(y_train_sm, pred_train_sm_rb)\n",
    "logreg_prec_tuned_test_sm_rb = precision_score(y_test, pred_test_sm_rb)\n",
    "logreg_f1_tuned_train_sm_rb = f1_score(y_train_sm, pred_train_sm_rb)\n",
    "logreg_f1_tuned_test_sm_rb = f1_score(y_test, pred_test_sm_rb)"
   ]
  },
  {
   "cell_type": "code",
   "execution_count": 135,
   "metadata": {
    "colab": {
     "base_uri": "https://localhost:8080/",
     "height": 110
    },
    "id": "p5W8n4ejvY1U",
    "outputId": "aa86b1ae-4ed5-436e-b6f1-40f2798f1040"
   },
   "outputs": [
    {
     "data": {
      "text/html": [
       "<div>\n",
       "<style scoped>\n",
       "    .dataframe tbody tr th:only-of-type {\n",
       "        vertical-align: middle;\n",
       "    }\n",
       "\n",
       "    .dataframe tbody tr th {\n",
       "        vertical-align: top;\n",
       "    }\n",
       "\n",
       "    .dataframe thead th {\n",
       "        text-align: right;\n",
       "    }\n",
       "</style>\n",
       "<table border=\"1\" class=\"dataframe\">\n",
       "  <thead>\n",
       "    <tr style=\"text-align: right;\">\n",
       "      <th></th>\n",
       "      <th>Pred 1</th>\n",
       "      <th>Pred 0</th>\n",
       "    </tr>\n",
       "  </thead>\n",
       "  <tbody>\n",
       "    <tr>\n",
       "      <th>Akt 1</th>\n",
       "      <td>49</td>\n",
       "      <td>211</td>\n",
       "    </tr>\n",
       "    <tr>\n",
       "      <th>Akt 0</th>\n",
       "      <td>28</td>\n",
       "      <td>1521</td>\n",
       "    </tr>\n",
       "  </tbody>\n",
       "</table>\n",
       "</div>"
      ],
      "text/plain": [
       "       Pred 1  Pred 0\n",
       "Akt 1      49     211\n",
       "Akt 0      28    1521"
      ]
     },
     "execution_count": 135,
     "metadata": {},
     "output_type": "execute_result"
    }
   ],
   "source": [
    "cm_logreg_tuned_sm_rb = confusion_matrix(y_test, pred_test_sm_rb, labels=[1, 0])\n",
    "cm_logreg_tuned_sm_rb = pd.DataFrame(data=cm_logreg_tuned_sm_rb, index=['Akt 1', 'Akt 0'], columns=['Pred 1', 'Pred 0'])\n",
    "cm_logreg_tuned_sm_rb"
   ]
  },
  {
   "cell_type": "code",
   "execution_count": 136,
   "metadata": {},
   "outputs": [
    {
     "name": "stdout",
     "output_type": "stream",
     "text": [
      "              precision    recall  f1-score   support\n",
      "\n",
      "           0       0.88      0.98      0.93      1549\n",
      "           1       0.64      0.19      0.29       260\n",
      "\n",
      "    accuracy                           0.87      1809\n",
      "   macro avg       0.76      0.59      0.61      1809\n",
      "weighted avg       0.84      0.87      0.84      1809\n",
      "\n"
     ]
    }
   ],
   "source": [
    "print(classification_report(y_test, pred_test_sm_rb))"
   ]
  },
  {
   "cell_type": "code",
   "execution_count": 137,
   "metadata": {},
   "outputs": [],
   "source": [
    "tp_logreg_sm_rb = cm_logreg_tuned_sm_rb['Pred 1'][0]\n",
    "tn_logreg_sm_rb = cm_logreg_tuned_sm_rb['Pred 0'][1]\n",
    "fp_logreg_sm_rb = cm_logreg_tuned_sm_rb['Pred 1'][1]\n",
    "fn_logreg_sm_rb = cm_logreg_tuned_sm_rb['Pred 0'][0]"
   ]
  },
  {
   "cell_type": "markdown",
   "metadata": {
    "id": "3h5MNZXa2u_4"
   },
   "source": [
    "### Evaluation For Logistic Regression and Support Vector Classifier"
   ]
  },
  {
   "cell_type": "code",
   "execution_count": 138,
   "metadata": {
    "id": "yjRXgKyI224M"
   },
   "outputs": [],
   "source": [
    "distance_tuned = {\n",
    "    \"SVM_OS_Train\": [svm_acc_tuned_train_os, svm_recall_tuned_train_os, svm_prec_tuned_train_os, svm_f1_tuned_train_os],\n",
    "    \"SVM_OS_Test\" : [svm_acc_tuned_test_os, svm_recall_tuned_test_os, svm_prec_tuned_test_os, svm_f1_tuned_test_os],\n",
    "    \"SVM_SM_Train\": [svm_acc_tuned_train_sm, svm_recall_tuned_train_sm, svm_prec_tuned_train_sm, svm_f1_tuned_train_sm],\n",
    "    \"SVM_SM_Test\" : [svm_acc_tuned_test_sm, svm_recall_tuned_test_sm, svm_prec_tuned_test_sm, svm_f1_tuned_test_sm],\n",
    "    \"Logreg_OS_Train\": [logreg_acc_tuned_train_os, logreg_recall_tuned_train_os, logreg_prec_tuned_train_os, logreg_f1_tuned_train_os],\n",
    "    \"Logreg_OS_Test\" : [logreg_acc_tuned_test_os, logreg_recall_tuned_test_os, logreg_prec_tuned_test_os, logreg_f1_tuned_test_os],\n",
    "    \"Logreg_SM_Train\": [logreg_acc_tuned_train_sm, logreg_recall_tuned_train_sm, logreg_prec_tuned_train_sm, logreg_f1_tuned_train_sm],\n",
    "    \"Logreg_SM_Test\" : [logreg_acc_tuned_test_sm, logreg_recall_tuned_test_sm, logreg_prec_tuned_test_sm, logreg_f1_tuned_test_sm]\n",
    "    }\n",
    "tuned_matrix = pd.DataFrame(data = distance_tuned, index = ['Accuracy', 'Recall', 'Precision', 'F1 Score'])\n",
    "\n",
    "dictance_tuned_os = {\n",
    "    \"SVM Standard_OS_Train\": [svm_acc_tuned_train_os_std, svm_recall_tuned_train_os_std, svm_prec_tuned_train_os_std, svm_f1_tuned_train_os_std],\n",
    "    \"SVM Standard_OS_Test\" : [svm_acc_tuned_test_os_std, svm_recall_tuned_test_os_std, svm_prec_tuned_test_os_std, svm_f1_tuned_test_os_std],\n",
    "    \"SVM MinMax_OS_Train\": [svm_acc_tuned_train_os_mm, svm_recall_tuned_train_os_mm, svm_prec_tuned_train_os_mm, svm_f1_tuned_train_os_mm],\n",
    "    \"SVM MinMax_OS_Test\" : [svm_acc_tuned_test_os_mm, svm_recall_tuned_test_os_mm, svm_prec_tuned_test_os_mm, svm_f1_tuned_test_os_mm],\n",
    "    \"SVM Robust_OS_Train\": [svm_acc_tuned_train_os_rb, svm_recall_tuned_train_os_rb, svm_prec_tuned_train_os_rb, svm_f1_tuned_train_os_rb],\n",
    "    \"SVM Robust_OS_Test\" : [svm_acc_tuned_test_os_rb, svm_recall_tuned_test_os_rb, svm_prec_tuned_test_os_rb, svm_f1_tuned_test_os_rb],\n",
    "    \"Logreg Standard_OS_Train\": [logreg_acc_tuned_train_os_std, logreg_recall_tuned_train_os_std, logreg_prec_tuned_train_os_std, logreg_f1_tuned_train_os_std],\n",
    "    \"Logreg Standard_OS_Test\" : [logreg_acc_tuned_test_os_std, logreg_recall_tuned_test_os_std, logreg_prec_tuned_test_os_std, logreg_f1_tuned_test_os_std],\n",
    "    \"Logreg MinMax_OS_Train\": [logreg_acc_tuned_train_os_mm, logreg_recall_tuned_train_os_mm, logreg_prec_tuned_train_os_mm, logreg_f1_tuned_train_os_mm],\n",
    "    \"Logreg MinMax_OS_Test\" : [logreg_acc_tuned_test_os_mm, logreg_recall_tuned_test_os_mm, logreg_prec_tuned_test_os_mm, logreg_f1_tuned_test_os_mm],\n",
    "    \"Logreg Robust_OS_Train\": [logreg_acc_tuned_train_os_rb, logreg_recall_tuned_train_os_rb, logreg_prec_tuned_train_os_rb, logreg_f1_tuned_train_os_rb],\n",
    "    \"Logreg Robust_OS_Test\" : [logreg_acc_tuned_test_os_rb, logreg_recall_tuned_test_os_rb, logreg_prec_tuned_test_os_rb, logreg_f1_tuned_test_os_rb]\n",
    "    }\n",
    "distance_tuned_os_matrix = pd.DataFrame(data = dictance_tuned_os, index = ['Accuracy', 'Recall', 'Precision', 'F1 Score'])\n",
    "\n",
    "distance_tuned_sm = {\n",
    "    \"SVM Standard_SM_Train\": [svm_acc_tuned_train_sm_std, svm_recall_tuned_train_sm_std, svm_prec_tuned_train_sm_std, svm_f1_tuned_train_sm_std],\n",
    "    \"SVM Standard_SM_Test\" : [svm_acc_tuned_test_sm_std, svm_recall_tuned_test_sm_std, svm_prec_tuned_test_sm_std, svm_f1_tuned_test_sm_std],\n",
    "    \"SVM MinMax_SM_Train\": [svm_acc_tuned_train_sm_mm, svm_recall_tuned_train_sm_mm, svm_prec_tuned_train_sm_mm, svm_f1_tuned_train_sm_mm],\n",
    "    \"SVM MinMax_SM_Test\" : [svm_acc_tuned_test_sm_mm, svm_recall_tuned_test_sm_mm, svm_prec_tuned_test_sm_mm, svm_f1_tuned_test_sm_mm],\n",
    "    \"SVM Robust_SM_Train\": [svm_acc_tuned_train_sm_rb, svm_recall_tuned_train_sm_rb, svm_prec_tuned_train_sm_rb, svm_f1_tuned_train_sm_rb],\n",
    "    \"SVM Robust_SM_Test\" : [svm_acc_tuned_test_sm_rb, svm_recall_tuned_test_sm_rb, svm_prec_tuned_test_sm_rb, svm_f1_tuned_test_sm_rb],\n",
    "    \"Logreg Standard_SM_Train\": [logreg_acc_tuned_train_sm_std, logreg_recall_tuned_train_sm_std, logreg_prec_tuned_train_sm_std, logreg_f1_tuned_train_sm_std],\n",
    "    \"Logreg Standard_SM_Test\" : [logreg_acc_tuned_test_sm_std, logreg_recall_tuned_test_sm_std, logreg_prec_tuned_test_sm_std, logreg_f1_tuned_test_sm_std],\n",
    "    \"Logreg MinMax_SM_Train\": [logreg_acc_tuned_train_sm_mm, logreg_recall_tuned_train_sm_mm, logreg_prec_tuned_train_sm_mm, logreg_f1_tuned_train_sm_mm],\n",
    "    \"Logreg MinMax_SM_Test\" : [logreg_acc_tuned_test_sm_mm, logreg_recall_tuned_test_sm_mm, logreg_prec_tuned_test_sm_mm, logreg_f1_tuned_test_sm_mm],\n",
    "    \"Logreg Robust_SM_Train\": [logreg_acc_tuned_train_sm_rb, logreg_recall_tuned_train_sm_rb, logreg_prec_tuned_train_sm_rb, logreg_f1_tuned_train_sm_rb],\n",
    "    \"Logreg Robust_SM_Test\" : [logreg_acc_tuned_test_sm_rb, logreg_recall_tuned_test_sm_rb, logreg_prec_tuned_test_sm_rb, logreg_f1_tuned_test_sm_rb]\n",
    "    }\n",
    "distance_tuned_sm_matrix = pd.DataFrame(data = distance_tuned_sm, index = ['Accuracy', 'Recall', 'Precision', 'F1 Score'])"
   ]
  },
  {
   "cell_type": "code",
   "execution_count": 139,
   "metadata": {
    "colab": {
     "base_uri": "https://localhost:8080/",
     "height": 141
    },
    "id": "ddEppG_4vf7P",
    "outputId": "c8ffef20-b6f1-4ccc-b8dd-6f85bb8f4e22"
   },
   "outputs": [
    {
     "data": {
      "text/html": [
       "<div>\n",
       "<style scoped>\n",
       "    .dataframe tbody tr th:only-of-type {\n",
       "        vertical-align: middle;\n",
       "    }\n",
       "\n",
       "    .dataframe tbody tr th {\n",
       "        vertical-align: top;\n",
       "    }\n",
       "\n",
       "    .dataframe thead th {\n",
       "        text-align: right;\n",
       "    }\n",
       "</style>\n",
       "<table border=\"1\" class=\"dataframe\">\n",
       "  <thead>\n",
       "    <tr style=\"text-align: right;\">\n",
       "      <th></th>\n",
       "      <th>SVM_OS_Train</th>\n",
       "      <th>SVM_OS_Test</th>\n",
       "      <th>SVM_SM_Train</th>\n",
       "      <th>SVM_SM_Test</th>\n",
       "      <th>Logreg_OS_Train</th>\n",
       "      <th>Logreg_OS_Test</th>\n",
       "      <th>Logreg_SM_Train</th>\n",
       "      <th>Logreg_SM_Test</th>\n",
       "    </tr>\n",
       "  </thead>\n",
       "  <tbody>\n",
       "    <tr>\n",
       "      <th>Accuracy</th>\n",
       "      <td>1.0</td>\n",
       "      <td>0.978441</td>\n",
       "      <td>0.992735</td>\n",
       "      <td>0.983969</td>\n",
       "      <td>0.742896</td>\n",
       "      <td>0.711443</td>\n",
       "      <td>0.909106</td>\n",
       "      <td>0.868436</td>\n",
       "    </tr>\n",
       "    <tr>\n",
       "      <th>Recall</th>\n",
       "      <td>1.0</td>\n",
       "      <td>0.850000</td>\n",
       "      <td>0.997255</td>\n",
       "      <td>1.000000</td>\n",
       "      <td>0.784630</td>\n",
       "      <td>0.734615</td>\n",
       "      <td>0.835809</td>\n",
       "      <td>0.184615</td>\n",
       "    </tr>\n",
       "    <tr>\n",
       "      <th>Precision</th>\n",
       "      <td>1.0</td>\n",
       "      <td>1.000000</td>\n",
       "      <td>0.988320</td>\n",
       "      <td>0.899654</td>\n",
       "      <td>0.724184</td>\n",
       "      <td>0.296584</td>\n",
       "      <td>0.979379</td>\n",
       "      <td>0.648649</td>\n",
       "    </tr>\n",
       "    <tr>\n",
       "      <th>F1 Score</th>\n",
       "      <td>1.0</td>\n",
       "      <td>0.918919</td>\n",
       "      <td>0.992768</td>\n",
       "      <td>0.947177</td>\n",
       "      <td>0.753196</td>\n",
       "      <td>0.422566</td>\n",
       "      <td>0.901916</td>\n",
       "      <td>0.287425</td>\n",
       "    </tr>\n",
       "  </tbody>\n",
       "</table>\n",
       "</div>"
      ],
      "text/plain": [
       "           SVM_OS_Train  SVM_OS_Test  SVM_SM_Train  SVM_SM_Test  \\\n",
       "Accuracy            1.0     0.978441      0.992735     0.983969   \n",
       "Recall              1.0     0.850000      0.997255     1.000000   \n",
       "Precision           1.0     1.000000      0.988320     0.899654   \n",
       "F1 Score            1.0     0.918919      0.992768     0.947177   \n",
       "\n",
       "           Logreg_OS_Train  Logreg_OS_Test  Logreg_SM_Train  Logreg_SM_Test  \n",
       "Accuracy          0.742896        0.711443         0.909106        0.868436  \n",
       "Recall            0.784630        0.734615         0.835809        0.184615  \n",
       "Precision         0.724184        0.296584         0.979379        0.648649  \n",
       "F1 Score          0.753196        0.422566         0.901916        0.287425  "
      ]
     },
     "execution_count": 139,
     "metadata": {},
     "output_type": "execute_result"
    }
   ],
   "source": [
    "tuned_matrix"
   ]
  },
  {
   "cell_type": "code",
   "execution_count": 140,
   "metadata": {
    "colab": {
     "base_uri": "https://localhost:8080/",
     "height": 141
    },
    "id": "F1Cpf49Pvndf",
    "outputId": "3f194a08-2de0-4b84-abb4-3339f11ac008",
    "scrolled": true
   },
   "outputs": [
    {
     "data": {
      "text/html": [
       "<div>\n",
       "<style scoped>\n",
       "    .dataframe tbody tr th:only-of-type {\n",
       "        vertical-align: middle;\n",
       "    }\n",
       "\n",
       "    .dataframe tbody tr th {\n",
       "        vertical-align: top;\n",
       "    }\n",
       "\n",
       "    .dataframe thead th {\n",
       "        text-align: right;\n",
       "    }\n",
       "</style>\n",
       "<table border=\"1\" class=\"dataframe\">\n",
       "  <thead>\n",
       "    <tr style=\"text-align: right;\">\n",
       "      <th></th>\n",
       "      <th>SVM Standard_OS_Train</th>\n",
       "      <th>SVM Standard_OS_Test</th>\n",
       "      <th>SVM MinMax_OS_Train</th>\n",
       "      <th>SVM MinMax_OS_Test</th>\n",
       "      <th>SVM Robust_OS_Train</th>\n",
       "      <th>SVM Robust_OS_Test</th>\n",
       "      <th>Logreg Standard_OS_Train</th>\n",
       "      <th>Logreg Standard_OS_Test</th>\n",
       "      <th>Logreg MinMax_OS_Train</th>\n",
       "      <th>Logreg MinMax_OS_Test</th>\n",
       "      <th>Logreg Robust_OS_Train</th>\n",
       "      <th>Logreg Robust_OS_Test</th>\n",
       "    </tr>\n",
       "  </thead>\n",
       "  <tbody>\n",
       "    <tr>\n",
       "      <th>Accuracy</th>\n",
       "      <td>0.999919</td>\n",
       "      <td>0.970149</td>\n",
       "      <td>0.999919</td>\n",
       "      <td>0.887783</td>\n",
       "      <td>0.999919</td>\n",
       "      <td>0.966833</td>\n",
       "      <td>0.743058</td>\n",
       "      <td>0.709784</td>\n",
       "      <td>0.742896</td>\n",
       "      <td>0.724710</td>\n",
       "      <td>0.742896</td>\n",
       "      <td>0.711443</td>\n",
       "    </tr>\n",
       "    <tr>\n",
       "      <th>Recall</th>\n",
       "      <td>1.000000</td>\n",
       "      <td>0.819231</td>\n",
       "      <td>1.000000</td>\n",
       "      <td>0.219231</td>\n",
       "      <td>1.000000</td>\n",
       "      <td>0.807692</td>\n",
       "      <td>0.784630</td>\n",
       "      <td>0.746154</td>\n",
       "      <td>0.785115</td>\n",
       "      <td>0.703846</td>\n",
       "      <td>0.784630</td>\n",
       "      <td>0.734615</td>\n",
       "    </tr>\n",
       "    <tr>\n",
       "      <th>Precision</th>\n",
       "      <td>0.999839</td>\n",
       "      <td>0.968182</td>\n",
       "      <td>0.999839</td>\n",
       "      <td>1.000000</td>\n",
       "      <td>0.999839</td>\n",
       "      <td>0.954545</td>\n",
       "      <td>0.724400</td>\n",
       "      <td>0.297090</td>\n",
       "      <td>0.723984</td>\n",
       "      <td>0.302980</td>\n",
       "      <td>0.724184</td>\n",
       "      <td>0.296584</td>\n",
       "    </tr>\n",
       "    <tr>\n",
       "      <th>F1 Score</th>\n",
       "      <td>0.999919</td>\n",
       "      <td>0.887500</td>\n",
       "      <td>0.999919</td>\n",
       "      <td>0.359621</td>\n",
       "      <td>0.999919</td>\n",
       "      <td>0.875000</td>\n",
       "      <td>0.753313</td>\n",
       "      <td>0.424973</td>\n",
       "      <td>0.753311</td>\n",
       "      <td>0.423611</td>\n",
       "      <td>0.753196</td>\n",
       "      <td>0.422566</td>\n",
       "    </tr>\n",
       "  </tbody>\n",
       "</table>\n",
       "</div>"
      ],
      "text/plain": [
       "           SVM Standard_OS_Train  SVM Standard_OS_Test  SVM MinMax_OS_Train  \\\n",
       "Accuracy                0.999919              0.970149             0.999919   \n",
       "Recall                  1.000000              0.819231             1.000000   \n",
       "Precision               0.999839              0.968182             0.999839   \n",
       "F1 Score                0.999919              0.887500             0.999919   \n",
       "\n",
       "           SVM MinMax_OS_Test  SVM Robust_OS_Train  SVM Robust_OS_Test  \\\n",
       "Accuracy             0.887783             0.999919            0.966833   \n",
       "Recall               0.219231             1.000000            0.807692   \n",
       "Precision            1.000000             0.999839            0.954545   \n",
       "F1 Score             0.359621             0.999919            0.875000   \n",
       "\n",
       "           Logreg Standard_OS_Train  Logreg Standard_OS_Test  \\\n",
       "Accuracy                   0.743058                 0.709784   \n",
       "Recall                     0.784630                 0.746154   \n",
       "Precision                  0.724400                 0.297090   \n",
       "F1 Score                   0.753313                 0.424973   \n",
       "\n",
       "           Logreg MinMax_OS_Train  Logreg MinMax_OS_Test  \\\n",
       "Accuracy                 0.742896               0.724710   \n",
       "Recall                   0.785115               0.703846   \n",
       "Precision                0.723984               0.302980   \n",
       "F1 Score                 0.753311               0.423611   \n",
       "\n",
       "           Logreg Robust_OS_Train  Logreg Robust_OS_Test  \n",
       "Accuracy                 0.742896               0.711443  \n",
       "Recall                   0.784630               0.734615  \n",
       "Precision                0.724184               0.296584  \n",
       "F1 Score                 0.753196               0.422566  "
      ]
     },
     "execution_count": 140,
     "metadata": {},
     "output_type": "execute_result"
    }
   ],
   "source": [
    "distance_tuned_os_matrix"
   ]
  },
  {
   "cell_type": "code",
   "execution_count": 141,
   "metadata": {
    "colab": {
     "base_uri": "https://localhost:8080/",
     "height": 141
    },
    "id": "XNL_wRqW36dJ",
    "outputId": "c12f1350-a96c-4f13-b50a-7fd838981285"
   },
   "outputs": [
    {
     "data": {
      "text/html": [
       "<div>\n",
       "<style scoped>\n",
       "    .dataframe tbody tr th:only-of-type {\n",
       "        vertical-align: middle;\n",
       "    }\n",
       "\n",
       "    .dataframe tbody tr th {\n",
       "        vertical-align: top;\n",
       "    }\n",
       "\n",
       "    .dataframe thead th {\n",
       "        text-align: right;\n",
       "    }\n",
       "</style>\n",
       "<table border=\"1\" class=\"dataframe\">\n",
       "  <thead>\n",
       "    <tr style=\"text-align: right;\">\n",
       "      <th></th>\n",
       "      <th>SVM Standard_SM_Train</th>\n",
       "      <th>SVM Standard_SM_Test</th>\n",
       "      <th>SVM MinMax_SM_Train</th>\n",
       "      <th>SVM MinMax_SM_Test</th>\n",
       "      <th>SVM Robust_SM_Train</th>\n",
       "      <th>SVM Robust_SM_Test</th>\n",
       "      <th>Logreg Standard_SM_Train</th>\n",
       "      <th>Logreg Standard_SM_Test</th>\n",
       "      <th>Logreg MinMax_SM_Train</th>\n",
       "      <th>Logreg MinMax_SM_Test</th>\n",
       "      <th>Logreg Robust_SM_Train</th>\n",
       "      <th>Logreg Robust_SM_Test</th>\n",
       "    </tr>\n",
       "  </thead>\n",
       "  <tbody>\n",
       "    <tr>\n",
       "      <th>Accuracy</th>\n",
       "      <td>1.0</td>\n",
       "      <td>0.973466</td>\n",
       "      <td>0.998224</td>\n",
       "      <td>0.918740</td>\n",
       "      <td>1.0</td>\n",
       "      <td>0.964069</td>\n",
       "      <td>0.909832</td>\n",
       "      <td>0.866224</td>\n",
       "      <td>0.908783</td>\n",
       "      <td>0.867330</td>\n",
       "      <td>0.909025</td>\n",
       "      <td>0.867883</td>\n",
       "    </tr>\n",
       "    <tr>\n",
       "      <th>Recall</th>\n",
       "      <td>1.0</td>\n",
       "      <td>0.873077</td>\n",
       "      <td>0.996448</td>\n",
       "      <td>0.496154</td>\n",
       "      <td>1.0</td>\n",
       "      <td>0.865385</td>\n",
       "      <td>0.837100</td>\n",
       "      <td>0.196154</td>\n",
       "      <td>0.835163</td>\n",
       "      <td>0.173077</td>\n",
       "      <td>0.835970</td>\n",
       "      <td>0.188462</td>\n",
       "    </tr>\n",
       "    <tr>\n",
       "      <th>Precision</th>\n",
       "      <td>1.0</td>\n",
       "      <td>0.938017</td>\n",
       "      <td>1.000000</td>\n",
       "      <td>0.889655</td>\n",
       "      <td>1.0</td>\n",
       "      <td>0.882353</td>\n",
       "      <td>0.979596</td>\n",
       "      <td>0.607143</td>\n",
       "      <td>0.979364</td>\n",
       "      <td>0.642857</td>\n",
       "      <td>0.979013</td>\n",
       "      <td>0.636364</td>\n",
       "    </tr>\n",
       "    <tr>\n",
       "      <th>F1 Score</th>\n",
       "      <td>1.0</td>\n",
       "      <td>0.904382</td>\n",
       "      <td>0.998221</td>\n",
       "      <td>0.637037</td>\n",
       "      <td>1.0</td>\n",
       "      <td>0.873786</td>\n",
       "      <td>0.902760</td>\n",
       "      <td>0.296512</td>\n",
       "      <td>0.901534</td>\n",
       "      <td>0.272727</td>\n",
       "      <td>0.901855</td>\n",
       "      <td>0.290801</td>\n",
       "    </tr>\n",
       "  </tbody>\n",
       "</table>\n",
       "</div>"
      ],
      "text/plain": [
       "           SVM Standard_SM_Train  SVM Standard_SM_Test  SVM MinMax_SM_Train  \\\n",
       "Accuracy                     1.0              0.973466             0.998224   \n",
       "Recall                       1.0              0.873077             0.996448   \n",
       "Precision                    1.0              0.938017             1.000000   \n",
       "F1 Score                     1.0              0.904382             0.998221   \n",
       "\n",
       "           SVM MinMax_SM_Test  SVM Robust_SM_Train  SVM Robust_SM_Test  \\\n",
       "Accuracy             0.918740                  1.0            0.964069   \n",
       "Recall               0.496154                  1.0            0.865385   \n",
       "Precision            0.889655                  1.0            0.882353   \n",
       "F1 Score             0.637037                  1.0            0.873786   \n",
       "\n",
       "           Logreg Standard_SM_Train  Logreg Standard_SM_Test  \\\n",
       "Accuracy                   0.909832                 0.866224   \n",
       "Recall                     0.837100                 0.196154   \n",
       "Precision                  0.979596                 0.607143   \n",
       "F1 Score                   0.902760                 0.296512   \n",
       "\n",
       "           Logreg MinMax_SM_Train  Logreg MinMax_SM_Test  \\\n",
       "Accuracy                 0.908783               0.867330   \n",
       "Recall                   0.835163               0.173077   \n",
       "Precision                0.979364               0.642857   \n",
       "F1 Score                 0.901534               0.272727   \n",
       "\n",
       "           Logreg Robust_SM_Train  Logreg Robust_SM_Test  \n",
       "Accuracy                 0.909025               0.867883  \n",
       "Recall                   0.835970               0.188462  \n",
       "Precision                0.979013               0.636364  \n",
       "F1 Score                 0.901855               0.290801  "
      ]
     },
     "execution_count": 141,
     "metadata": {},
     "output_type": "execute_result"
    }
   ],
   "source": [
    "distance_tuned_sm_matrix"
   ]
  },
  {
   "cell_type": "markdown",
   "metadata": {
    "id": "VI1092yjKtNt"
   },
   "source": [
    "## Decision Tree"
   ]
  },
  {
   "cell_type": "code",
   "execution_count": 142,
   "metadata": {},
   "outputs": [],
   "source": [
    "decision_tree = DecisionTreeClassifier()"
   ]
  },
  {
   "cell_type": "code",
   "execution_count": 143,
   "metadata": {},
   "outputs": [],
   "source": [
    "param_dt =  {\"criterion\" : ['gini', 'entropy'],\n",
    "             \"max_depth\": [None, 2, 3, 4, 5, 6, 7, 8, 9, 10, 11, 12, 13, 14, 15, 16, 17, 18, 19, 20, 21, 22, 23, 24, 25, 26, 27, 28, 29, 30, 31, 32, 33, 34, 35, 36, 37, 38, 39, 40, 41, 42, 43, 44, 45, 46, 47, 48, 49, 50], \n",
    "             \"min_samples_split\": [2, 3, 4, 5, 6, 7, 8, 9, 10, 11, 12, 13, 14, 15, 16, 17, 18, 19, 20, 21, 22, 23, 24, 25, 26, 27, 28, 29, 30, 31, 32, 33, 34, 35, 36, 37, 38, 39, 40, 41, 42, 43, 44, 45, 46, 47, 48, 49, 50],\n",
    "             \"min_samples_leaf\":[1, 2, 3, 4, 5, 6, 7, 8, 9, 10, 11, 12, 13, 14, 15, 16, 17, 18, 19, 20, 21, 22, 23, 24, 25, 26, 27, 28, 29, 30, 31, 32, 33, 34, 35, 36, 37, 38, 39, 40, 41, 42, 43, 44, 45, 46, 47, 48, 49, 50], \n",
    "             \"max_features\" : ['auto', 'sqrt', 'log2']}"
   ]
  },
  {
   "cell_type": "markdown",
   "metadata": {
    "id": "L3ZeYf-gMS6A"
   },
   "source": [
    "### Random Over Sampling"
   ]
  },
  {
   "cell_type": "code",
   "execution_count": 144,
   "metadata": {
    "id": "53ZE2_HcK0U5"
   },
   "outputs": [
    {
     "name": "stdout",
     "output_type": "stream",
     "text": [
      "Fitting 3 folds for each of 300 candidates, totalling 900 fits\n"
     ]
    },
    {
     "name": "stderr",
     "output_type": "stream",
     "text": [
      "[Parallel(n_jobs=-1)]: Using backend LokyBackend with 4 concurrent workers.\n",
      "[Parallel(n_jobs=-1)]: Done  42 tasks      | elapsed:    3.6s\n",
      "[Parallel(n_jobs=-1)]: Done 192 tasks      | elapsed:    9.8s\n",
      "[Parallel(n_jobs=-1)]: Done 640 tasks      | elapsed:   25.3s\n",
      "[Parallel(n_jobs=-1)]: Done 900 out of 900 | elapsed:   33.6s finished\n"
     ]
    },
    {
     "data": {
      "text/plain": [
       "RandomizedSearchCV(cv=3, estimator=DecisionTreeClassifier(), n_iter=300,\n",
       "                   n_jobs=-1,\n",
       "                   param_distributions={'criterion': ['gini', 'entropy'],\n",
       "                                        'max_depth': [None, 2, 3, 4, 5, 6, 7, 8,\n",
       "                                                      9, 10, 11, 12, 13, 14, 15,\n",
       "                                                      16, 17, 18, 19, 20, 21,\n",
       "                                                      22, 23, 24, 25, 26, 27,\n",
       "                                                      28, 29, 30, ...],\n",
       "                                        'max_features': ['auto', 'sqrt',\n",
       "                                                         'log2'],\n",
       "                                        'min_samples_leaf': [1, 2, 3, 4, 5, 6,\n",
       "                                                             7, 8, 9, 10, 11,\n",
       "                                                             12, 13, 14, 15, 16,\n",
       "                                                             17, 18, 19, 20, 21,\n",
       "                                                             22, 23, 24, 25, 26,\n",
       "                                                             27, 28, 29, 30, ...],\n",
       "                                        'min_samples_split': [2, 3, 4, 5, 6, 7,\n",
       "                                                              8, 9, 10, 11, 12,\n",
       "                                                              13, 14, 15, 16,\n",
       "                                                              17, 18, 19, 20,\n",
       "                                                              21, 22, 23, 24,\n",
       "                                                              25, 26, 27, 28,\n",
       "                                                              29, 30, 31, ...]},\n",
       "                   scoring='f1', verbose=1)"
      ]
     },
     "execution_count": 144,
     "metadata": {},
     "output_type": "execute_result"
    }
   ],
   "source": [
    "dt_os = RandomizedSearchCV(estimator = decision_tree, param_distributions = param_dt, cv = 3, n_jobs = -1 , n_iter=300, verbose = 1, scoring = 'f1')\n",
    "dt_os.fit(x_train_os, y_train_os)"
   ]
  },
  {
   "cell_type": "code",
   "execution_count": 145,
   "metadata": {},
   "outputs": [
    {
     "data": {
      "text/plain": [
       "DecisionTreeClassifier(criterion='entropy', max_depth=45, max_features='sqrt',\n",
       "                       min_samples_split=16)"
      ]
     },
     "execution_count": 145,
     "metadata": {},
     "output_type": "execute_result"
    }
   ],
   "source": [
    "dt_tuned_os = dt_os.best_estimator_\n",
    "pred_train_os = dt_tuned_os.predict(x_train_os)\n",
    "pred_test_os = dt_tuned_os.predict(x_test)\n",
    "dt_tuned_os"
   ]
  },
  {
   "cell_type": "code",
   "execution_count": 146,
   "metadata": {
    "id": "wcBzmHgsMCvh"
   },
   "outputs": [],
   "source": [
    "dt_acc_tuned_train_os = accuracy_score(y_train_os, pred_train_os)\n",
    "dt_acc_tuned_test_os = accuracy_score(y_test, pred_test_os)\n",
    "dt_recall_tuned_train_os = recall_score(y_train_os, pred_train_os)\n",
    "dt_recall_tuned_test_os = recall_score(y_test, pred_test_os)\n",
    "dt_prec_tuned_train_os = precision_score(y_train_os, pred_train_os)\n",
    "dt_prec_tuned_test_os = precision_score(y_test, pred_test_os)\n",
    "dt_f1_tuned_train_os = f1_score(y_train_os, pred_train_os)\n",
    "dt_f1_tuned_test_os = f1_score(y_test, pred_test_os)"
   ]
  },
  {
   "cell_type": "code",
   "execution_count": 147,
   "metadata": {
    "colab": {
     "base_uri": "https://localhost:8080/",
     "height": 110
    },
    "id": "h1oxahW6MH9x",
    "outputId": "55b32918-7896-44c3-cde1-5a97c8398093"
   },
   "outputs": [
    {
     "data": {
      "text/html": [
       "<div>\n",
       "<style scoped>\n",
       "    .dataframe tbody tr th:only-of-type {\n",
       "        vertical-align: middle;\n",
       "    }\n",
       "\n",
       "    .dataframe tbody tr th {\n",
       "        vertical-align: top;\n",
       "    }\n",
       "\n",
       "    .dataframe thead th {\n",
       "        text-align: right;\n",
       "    }\n",
       "</style>\n",
       "<table border=\"1\" class=\"dataframe\">\n",
       "  <thead>\n",
       "    <tr style=\"text-align: right;\">\n",
       "      <th></th>\n",
       "      <th>Pred 1</th>\n",
       "      <th>Pred 0</th>\n",
       "    </tr>\n",
       "  </thead>\n",
       "  <tbody>\n",
       "    <tr>\n",
       "      <th>Akt 1</th>\n",
       "      <td>160</td>\n",
       "      <td>100</td>\n",
       "    </tr>\n",
       "    <tr>\n",
       "      <th>Akt 0</th>\n",
       "      <td>89</td>\n",
       "      <td>1460</td>\n",
       "    </tr>\n",
       "  </tbody>\n",
       "</table>\n",
       "</div>"
      ],
      "text/plain": [
       "       Pred 1  Pred 0\n",
       "Akt 1     160     100\n",
       "Akt 0      89    1460"
      ]
     },
     "execution_count": 147,
     "metadata": {},
     "output_type": "execute_result"
    }
   ],
   "source": [
    "cm_dt_tuned_os = confusion_matrix(y_test, pred_test_os, labels=[1, 0])\n",
    "cm_dt_tuned_os = pd.DataFrame(data=cm_dt_tuned_os, index=['Akt 1', 'Akt 0'], columns=['Pred 1', 'Pred 0'])\n",
    "cm_dt_tuned_os"
   ]
  },
  {
   "cell_type": "code",
   "execution_count": 148,
   "metadata": {},
   "outputs": [
    {
     "name": "stdout",
     "output_type": "stream",
     "text": [
      "              precision    recall  f1-score   support\n",
      "\n",
      "           0       0.94      0.94      0.94      1549\n",
      "           1       0.64      0.62      0.63       260\n",
      "\n",
      "    accuracy                           0.90      1809\n",
      "   macro avg       0.79      0.78      0.78      1809\n",
      "weighted avg       0.89      0.90      0.89      1809\n",
      "\n"
     ]
    }
   ],
   "source": [
    "print(classification_report(y_test, pred_test_os))"
   ]
  },
  {
   "cell_type": "code",
   "execution_count": 149,
   "metadata": {},
   "outputs": [],
   "source": [
    "tp_dt_os = cm_dt_tuned_os['Pred 1'][0]\n",
    "tn_dt_os = cm_dt_tuned_os['Pred 0'][1]\n",
    "fp_dt_os = cm_dt_tuned_os['Pred 1'][1]\n",
    "fn_dt_os = cm_dt_tuned_os['Pred 0'][0]"
   ]
  },
  {
   "cell_type": "markdown",
   "metadata": {
    "id": "PTmULUgjeg-E"
   },
   "source": [
    "### Smote"
   ]
  },
  {
   "cell_type": "code",
   "execution_count": 150,
   "metadata": {
    "id": "3K0grtLUei-6"
   },
   "outputs": [
    {
     "name": "stdout",
     "output_type": "stream",
     "text": [
      "Fitting 3 folds for each of 300 candidates, totalling 900 fits\n"
     ]
    },
    {
     "name": "stderr",
     "output_type": "stream",
     "text": [
      "[Parallel(n_jobs=-1)]: Using backend LokyBackend with 4 concurrent workers.\n",
      "[Parallel(n_jobs=-1)]: Done  76 tasks      | elapsed:    2.1s\n",
      "[Parallel(n_jobs=-1)]: Done 376 tasks      | elapsed:   11.0s\n",
      "[Parallel(n_jobs=-1)]: Done 876 tasks      | elapsed:   25.8s\n",
      "[Parallel(n_jobs=-1)]: Done 893 out of 900 | elapsed:   26.3s remaining:    0.1s\n",
      "[Parallel(n_jobs=-1)]: Done 900 out of 900 | elapsed:   26.5s finished\n"
     ]
    },
    {
     "data": {
      "text/plain": [
       "RandomizedSearchCV(cv=3, estimator=DecisionTreeClassifier(), n_iter=300,\n",
       "                   n_jobs=-1,\n",
       "                   param_distributions={'criterion': ['gini', 'entropy'],\n",
       "                                        'max_depth': [None, 2, 3, 4, 5, 6, 7, 8,\n",
       "                                                      9, 10, 11, 12, 13, 14, 15,\n",
       "                                                      16, 17, 18, 19, 20, 21,\n",
       "                                                      22, 23, 24, 25, 26, 27,\n",
       "                                                      28, 29, 30, ...],\n",
       "                                        'max_features': ['auto', 'sqrt',\n",
       "                                                         'log2'],\n",
       "                                        'min_samples_leaf': [1, 2, 3, 4, 5, 6,\n",
       "                                                             7, 8, 9, 10, 11,\n",
       "                                                             12, 13, 14, 15, 16,\n",
       "                                                             17, 18, 19, 20, 21,\n",
       "                                                             22, 23, 24, 25, 26,\n",
       "                                                             27, 28, 29, 30, ...],\n",
       "                                        'min_samples_split': [2, 3, 4, 5, 6, 7,\n",
       "                                                              8, 9, 10, 11, 12,\n",
       "                                                              13, 14, 15, 16,\n",
       "                                                              17, 18, 19, 20,\n",
       "                                                              21, 22, 23, 24,\n",
       "                                                              25, 26, 27, 28,\n",
       "                                                              29, 30, 31, ...]},\n",
       "                   scoring='f1', verbose=1)"
      ]
     },
     "execution_count": 150,
     "metadata": {},
     "output_type": "execute_result"
    }
   ],
   "source": [
    "dt_sm = RandomizedSearchCV(estimator = decision_tree, param_distributions = param_dt, cv = 3, n_jobs = -1 , n_iter=300, verbose = 1, scoring = 'f1')\n",
    "dt_sm.fit(x_train_sm, y_train_sm)"
   ]
  },
  {
   "cell_type": "code",
   "execution_count": 151,
   "metadata": {},
   "outputs": [
    {
     "data": {
      "text/plain": [
       "DecisionTreeClassifier(criterion='entropy', max_depth=49, max_features='sqrt',\n",
       "                       min_samples_leaf=2, min_samples_split=4)"
      ]
     },
     "execution_count": 151,
     "metadata": {},
     "output_type": "execute_result"
    }
   ],
   "source": [
    "dt_tuned_sm = dt_sm.best_estimator_\n",
    "pred_train_sm = dt_tuned_sm.predict(x_train_sm)\n",
    "pred_test_sm = dt_tuned_sm.predict(x_test)\n",
    "dt_tuned_sm"
   ]
  },
  {
   "cell_type": "code",
   "execution_count": 152,
   "metadata": {
    "id": "W1w28afRexFE"
   },
   "outputs": [],
   "source": [
    "dt_acc_tuned_train_sm = accuracy_score(y_train_sm, pred_train_sm)\n",
    "dt_acc_tuned_test_sm = accuracy_score(y_test, pred_test_sm)\n",
    "dt_recall_tuned_train_sm = recall_score(y_train_sm, pred_train_sm)\n",
    "dt_recall_tuned_test_sm = recall_score(y_test, pred_test_sm)\n",
    "dt_prec_tuned_train_sm = precision_score(y_train_sm, pred_train_sm)\n",
    "dt_prec_tuned_test_sm = precision_score(y_test, pred_test_sm)\n",
    "dt_f1_tuned_train_sm = f1_score(y_train_sm, pred_train_sm)\n",
    "dt_f1_tuned_test_sm = f1_score(y_test, pred_test_sm)"
   ]
  },
  {
   "cell_type": "code",
   "execution_count": 153,
   "metadata": {
    "colab": {
     "base_uri": "https://localhost:8080/",
     "height": 110
    },
    "id": "CCiO8imTe_20",
    "outputId": "071b8df1-13d0-4ca8-b92d-d80584c72d57"
   },
   "outputs": [
    {
     "data": {
      "text/html": [
       "<div>\n",
       "<style scoped>\n",
       "    .dataframe tbody tr th:only-of-type {\n",
       "        vertical-align: middle;\n",
       "    }\n",
       "\n",
       "    .dataframe tbody tr th {\n",
       "        vertical-align: top;\n",
       "    }\n",
       "\n",
       "    .dataframe thead th {\n",
       "        text-align: right;\n",
       "    }\n",
       "</style>\n",
       "<table border=\"1\" class=\"dataframe\">\n",
       "  <thead>\n",
       "    <tr style=\"text-align: right;\">\n",
       "      <th></th>\n",
       "      <th>Pred 1</th>\n",
       "      <th>Pred 0</th>\n",
       "    </tr>\n",
       "  </thead>\n",
       "  <tbody>\n",
       "    <tr>\n",
       "      <th>Akt 1</th>\n",
       "      <td>119</td>\n",
       "      <td>141</td>\n",
       "    </tr>\n",
       "    <tr>\n",
       "      <th>Akt 0</th>\n",
       "      <td>177</td>\n",
       "      <td>1372</td>\n",
       "    </tr>\n",
       "  </tbody>\n",
       "</table>\n",
       "</div>"
      ],
      "text/plain": [
       "       Pred 1  Pred 0\n",
       "Akt 1     119     141\n",
       "Akt 0     177    1372"
      ]
     },
     "execution_count": 153,
     "metadata": {},
     "output_type": "execute_result"
    }
   ],
   "source": [
    "cm_dt_tuned_sm = confusion_matrix(y_test, pred_test_sm, labels=[1, 0])\n",
    "cm_dt_tuned_sm = pd.DataFrame(data=cm_dt_tuned_sm, index=['Akt 1', 'Akt 0'], columns=['Pred 1', 'Pred 0'])\n",
    "cm_dt_tuned_sm"
   ]
  },
  {
   "cell_type": "code",
   "execution_count": 154,
   "metadata": {},
   "outputs": [
    {
     "name": "stdout",
     "output_type": "stream",
     "text": [
      "              precision    recall  f1-score   support\n",
      "\n",
      "           0       0.91      0.89      0.90      1549\n",
      "           1       0.40      0.46      0.43       260\n",
      "\n",
      "    accuracy                           0.82      1809\n",
      "   macro avg       0.65      0.67      0.66      1809\n",
      "weighted avg       0.83      0.82      0.83      1809\n",
      "\n"
     ]
    }
   ],
   "source": [
    "print(classification_report(y_test, pred_test_sm))"
   ]
  },
  {
   "cell_type": "code",
   "execution_count": 155,
   "metadata": {},
   "outputs": [],
   "source": [
    "tp_dt_sm = cm_dt_tuned_sm['Pred 1'][0]\n",
    "tn_dt_sm = cm_dt_tuned_sm['Pred 0'][1]\n",
    "fp_dt_sm = cm_dt_tuned_sm['Pred 1'][1]\n",
    "fn_dt_sm = cm_dt_tuned_sm['Pred 0'][0]"
   ]
  },
  {
   "cell_type": "markdown",
   "metadata": {
    "id": "k4gmSwwRFMZw"
   },
   "source": [
    "## Random Forest"
   ]
  },
  {
   "cell_type": "code",
   "execution_count": 156,
   "metadata": {},
   "outputs": [],
   "source": [
    "random_forest = RandomForestClassifier()"
   ]
  },
  {
   "cell_type": "code",
   "execution_count": 157,
   "metadata": {},
   "outputs": [],
   "source": [
    "param_rf =  {\"n_estimators\":np.arange(100, 2000),\n",
    "             \"criterion\" : ['gini', 'entropy'],\n",
    "             \"max_depth\": [None, 2, 3, 4, 5, 6, 7, 8, 9, 10, 11, 12, 13, 14, 15, 16, 17, 18, 19, 20, 21, 22, 23, 24, 25, 26, 27, 28, 29, 30, 31, 32, 33, 34, 35, 36, 37, 38, 39, 40, 41, 42, 43, 44, 45, 46, 47, 48, 49, 50], \n",
    "             \"min_samples_split\": [2, 3, 4, 5, 6, 7, 8, 9, 10, 11, 12, 13, 14, 15, 16, 17, 18, 19, 20, 21, 22, 23, 24, 25, 26, 27, 28, 29, 30, 31, 32, 33, 34, 35, 36, 37, 38, 39, 40, 41, 42, 43, 44, 45, 46, 47, 48, 49, 50],\n",
    "             \"min_samples_leaf\":[1, 2, 3, 4, 5, 6, 7, 8, 9, 10, 11, 12, 13, 14, 15, 16, 17, 18, 19, 20, 21, 22, 23, 24, 25, 26, 27, 28, 29, 30, 31, 32, 33, 34, 35, 36, 37, 38, 39, 40, 41, 42, 43, 44, 45, 46, 47, 48, 49, 50], \n",
    "             \"max_features\" : ['auto', 'sqrt', 'log2']}"
   ]
  },
  {
   "cell_type": "markdown",
   "metadata": {
    "id": "g5TX7jSNFXzz"
   },
   "source": [
    "### Random Over Sampling"
   ]
  },
  {
   "cell_type": "code",
   "execution_count": 158,
   "metadata": {
    "id": "edYkr7oHE4zX"
   },
   "outputs": [
    {
     "name": "stdout",
     "output_type": "stream",
     "text": [
      "Fitting 3 folds for each of 300 candidates, totalling 900 fits\n"
     ]
    },
    {
     "name": "stderr",
     "output_type": "stream",
     "text": [
      "[Parallel(n_jobs=-1)]: Using backend LokyBackend with 4 concurrent workers.\n",
      "[Parallel(n_jobs=-1)]: Done  42 tasks      | elapsed:  4.9min\n",
      "[Parallel(n_jobs=-1)]: Done 192 tasks      | elapsed: 20.0min\n",
      "[Parallel(n_jobs=-1)]: Done 442 tasks      | elapsed: 48.3min\n",
      "[Parallel(n_jobs=-1)]: Done 792 tasks      | elapsed: 86.4min\n",
      "[Parallel(n_jobs=-1)]: Done 900 out of 900 | elapsed: 96.2min finished\n"
     ]
    },
    {
     "data": {
      "text/plain": [
       "RandomizedSearchCV(cv=3, estimator=RandomForestClassifier(), n_iter=300,\n",
       "                   n_jobs=-1,\n",
       "                   param_distributions={'criterion': ['gini', 'entropy'],\n",
       "                                        'max_depth': [None, 2, 3, 4, 5, 6, 7, 8,\n",
       "                                                      9, 10, 11, 12, 13, 14, 15,\n",
       "                                                      16, 17, 18, 19, 20, 21,\n",
       "                                                      22, 23, 24, 25, 26, 27,\n",
       "                                                      28, 29, 30, ...],\n",
       "                                        'max_features': ['auto', 'sqrt',\n",
       "                                                         'log2'],\n",
       "                                        'min_samples_leaf': [1, 2, 3, 4, 5, 6,\n",
       "                                                             7, 8, 9, 10, 11,\n",
       "                                                             12, 13, 14, 15, 16,\n",
       "                                                             17, 18, 19, 20, 21,\n",
       "                                                             22, 23, 24, 25, 26,\n",
       "                                                             27, 28, 29, 30, ...],\n",
       "                                        'min_samples_split': [2, 3, 4, 5, 6, 7,\n",
       "                                                              8, 9, 10, 11, 12,\n",
       "                                                              13, 14, 15, 16,\n",
       "                                                              17, 18, 19, 20,\n",
       "                                                              21, 22, 23, 24,\n",
       "                                                              25, 26, 27, 28,\n",
       "                                                              29, 30, 31, ...],\n",
       "                                        'n_estimators': array([ 100,  101,  102, ..., 1997, 1998, 1999])},\n",
       "                   scoring='f1', verbose=1)"
      ]
     },
     "execution_count": 158,
     "metadata": {},
     "output_type": "execute_result"
    }
   ],
   "source": [
    "rf_os = RandomizedSearchCV(estimator = random_forest, param_distributions = param_rf, cv = 3, n_jobs = -1 , n_iter=300, verbose = 1, scoring = 'f1')\n",
    "rf_os.fit(x_train_os, y_train_os)"
   ]
  },
  {
   "cell_type": "code",
   "execution_count": 159,
   "metadata": {},
   "outputs": [
    {
     "data": {
      "text/plain": [
       "RandomForestClassifier(max_depth=43, min_samples_split=6, n_estimators=933)"
      ]
     },
     "execution_count": 159,
     "metadata": {},
     "output_type": "execute_result"
    }
   ],
   "source": [
    "rf_tuned_os = rf_os.best_estimator_\n",
    "pred_train_os = rf_tuned_os.predict(x_train_os)\n",
    "pred_test_os = rf_tuned_os.predict(x_test)\n",
    "rf_tuned_os"
   ]
  },
  {
   "cell_type": "code",
   "execution_count": 160,
   "metadata": {
    "id": "FzJB4zMKHHYB"
   },
   "outputs": [],
   "source": [
    "rf_acc_tuned_train_os = accuracy_score(y_train_os, pred_train_os)\n",
    "rf_acc_tuned_test_os = accuracy_score(y_test, pred_test_os)\n",
    "rf_recall_tuned_train_os = recall_score(y_train_os, pred_train_os)\n",
    "rf_recall_tuned_test_os = recall_score(y_test, pred_test_os)\n",
    "rf_prec_tuned_train_os = precision_score(y_train_os, pred_train_os)\n",
    "rf_prec_tuned_test_os = precision_score(y_test, pred_test_os)\n",
    "rf_f1_tuned_train_os = f1_score(y_train_os, pred_train_os)\n",
    "rf_f1_tuned_test_os = f1_score(y_test, pred_test_os)"
   ]
  },
  {
   "cell_type": "code",
   "execution_count": 161,
   "metadata": {
    "colab": {
     "base_uri": "https://localhost:8080/",
     "height": 110
    },
    "id": "SY90tjG3HRox",
    "outputId": "9812c647-5b9e-44a8-cb15-5cd65c586ac0"
   },
   "outputs": [
    {
     "data": {
      "text/html": [
       "<div>\n",
       "<style scoped>\n",
       "    .dataframe tbody tr th:only-of-type {\n",
       "        vertical-align: middle;\n",
       "    }\n",
       "\n",
       "    .dataframe tbody tr th {\n",
       "        vertical-align: top;\n",
       "    }\n",
       "\n",
       "    .dataframe thead th {\n",
       "        text-align: right;\n",
       "    }\n",
       "</style>\n",
       "<table border=\"1\" class=\"dataframe\">\n",
       "  <thead>\n",
       "    <tr style=\"text-align: right;\">\n",
       "      <th></th>\n",
       "      <th>Pred 1</th>\n",
       "      <th>Pred 0</th>\n",
       "    </tr>\n",
       "  </thead>\n",
       "  <tbody>\n",
       "    <tr>\n",
       "      <th>Akt 1</th>\n",
       "      <td>201</td>\n",
       "      <td>59</td>\n",
       "    </tr>\n",
       "    <tr>\n",
       "      <th>Akt 0</th>\n",
       "      <td>4</td>\n",
       "      <td>1545</td>\n",
       "    </tr>\n",
       "  </tbody>\n",
       "</table>\n",
       "</div>"
      ],
      "text/plain": [
       "       Pred 1  Pred 0\n",
       "Akt 1     201      59\n",
       "Akt 0       4    1545"
      ]
     },
     "execution_count": 161,
     "metadata": {},
     "output_type": "execute_result"
    }
   ],
   "source": [
    "cm_rf_tuned_os = confusion_matrix(y_test, pred_test_os, labels=[1, 0])\n",
    "cm_rf_tuned_os = pd.DataFrame(data=cm_rf_tuned_os, index=['Akt 1', 'Akt 0'], columns=['Pred 1', 'Pred 0'])\n",
    "cm_rf_tuned_os"
   ]
  },
  {
   "cell_type": "code",
   "execution_count": 162,
   "metadata": {},
   "outputs": [
    {
     "name": "stdout",
     "output_type": "stream",
     "text": [
      "              precision    recall  f1-score   support\n",
      "\n",
      "           0       0.96      1.00      0.98      1549\n",
      "           1       0.98      0.77      0.86       260\n",
      "\n",
      "    accuracy                           0.97      1809\n",
      "   macro avg       0.97      0.89      0.92      1809\n",
      "weighted avg       0.97      0.97      0.96      1809\n",
      "\n"
     ]
    }
   ],
   "source": [
    "print(classification_report(y_test, pred_test_os))"
   ]
  },
  {
   "cell_type": "code",
   "execution_count": 163,
   "metadata": {},
   "outputs": [],
   "source": [
    "tp_rf_os = cm_rf_tuned_os['Pred 1'][0]\n",
    "tn_rf_os = cm_rf_tuned_os['Pred 0'][1]\n",
    "fp_rf_os = cm_rf_tuned_os['Pred 1'][1]\n",
    "fn_rf_os = cm_rf_tuned_os['Pred 0'][0]"
   ]
  },
  {
   "cell_type": "markdown",
   "metadata": {
    "id": "XosiHszUfUoL"
   },
   "source": [
    "### Smote"
   ]
  },
  {
   "cell_type": "code",
   "execution_count": 164,
   "metadata": {
    "id": "_1-d-TnifV0m"
   },
   "outputs": [
    {
     "name": "stdout",
     "output_type": "stream",
     "text": [
      "Fitting 3 folds for each of 300 candidates, totalling 900 fits\n"
     ]
    },
    {
     "name": "stderr",
     "output_type": "stream",
     "text": [
      "[Parallel(n_jobs=-1)]: Using backend LokyBackend with 4 concurrent workers.\n",
      "[Parallel(n_jobs=-1)]: Done  42 tasks      | elapsed:  4.9min\n",
      "[Parallel(n_jobs=-1)]: Done 192 tasks      | elapsed: 20.0min\n",
      "[Parallel(n_jobs=-1)]: Done 442 tasks      | elapsed: 47.3min\n",
      "[Parallel(n_jobs=-1)]: Done 792 tasks      | elapsed: 89.9min\n",
      "[Parallel(n_jobs=-1)]: Done 900 out of 900 | elapsed: 103.9min finished\n"
     ]
    },
    {
     "data": {
      "text/plain": [
       "RandomizedSearchCV(cv=3, estimator=RandomForestClassifier(), n_iter=300,\n",
       "                   n_jobs=-1,\n",
       "                   param_distributions={'criterion': ['gini', 'entropy'],\n",
       "                                        'max_depth': [None, 2, 3, 4, 5, 6, 7, 8,\n",
       "                                                      9, 10, 11, 12, 13, 14, 15,\n",
       "                                                      16, 17, 18, 19, 20, 21,\n",
       "                                                      22, 23, 24, 25, 26, 27,\n",
       "                                                      28, 29, 30, ...],\n",
       "                                        'max_features': ['auto', 'sqrt',\n",
       "                                                         'log2'],\n",
       "                                        'min_samples_leaf': [1, 2, 3, 4, 5, 6,\n",
       "                                                             7, 8, 9, 10, 11,\n",
       "                                                             12, 13, 14, 15, 16,\n",
       "                                                             17, 18, 19, 20, 21,\n",
       "                                                             22, 23, 24, 25, 26,\n",
       "                                                             27, 28, 29, 30, ...],\n",
       "                                        'min_samples_split': [2, 3, 4, 5, 6, 7,\n",
       "                                                              8, 9, 10, 11, 12,\n",
       "                                                              13, 14, 15, 16,\n",
       "                                                              17, 18, 19, 20,\n",
       "                                                              21, 22, 23, 24,\n",
       "                                                              25, 26, 27, 28,\n",
       "                                                              29, 30, 31, ...],\n",
       "                                        'n_estimators': array([ 100,  101,  102, ..., 1997, 1998, 1999])},\n",
       "                   scoring='f1', verbose=1)"
      ]
     },
     "execution_count": 164,
     "metadata": {},
     "output_type": "execute_result"
    }
   ],
   "source": [
    "rf_sm = RandomizedSearchCV(estimator = random_forest, param_distributions = param_rf, cv = 3, n_jobs = -1 , n_iter=300, verbose = 1, scoring = 'f1')\n",
    "rf_sm.fit(x_train_sm, y_train_sm)"
   ]
  },
  {
   "cell_type": "code",
   "execution_count": 165,
   "metadata": {},
   "outputs": [
    {
     "data": {
      "text/plain": [
       "RandomForestClassifier(max_depth=19, max_features='log2', min_samples_split=7,\n",
       "                       n_estimators=1893)"
      ]
     },
     "execution_count": 165,
     "metadata": {},
     "output_type": "execute_result"
    }
   ],
   "source": [
    "rf_tuned_sm = rf_sm.best_estimator_\n",
    "pred_train_sm = rf_tuned_sm.predict(x_train_sm)\n",
    "pred_test_sm = rf_tuned_sm.predict(x_test)\n",
    "rf_tuned_sm"
   ]
  },
  {
   "cell_type": "code",
   "execution_count": 166,
   "metadata": {
    "id": "oJcykPsrfcBV"
   },
   "outputs": [],
   "source": [
    "rf_acc_tuned_train_sm = accuracy_score(y_train_sm, pred_train_sm)\n",
    "rf_acc_tuned_test_sm = accuracy_score(y_test, pred_test_sm)\n",
    "rf_recall_tuned_train_sm = recall_score(y_train_sm, pred_train_sm)\n",
    "rf_recall_tuned_test_sm = recall_score(y_test, pred_test_sm)\n",
    "rf_prec_tuned_train_sm = precision_score(y_train_sm, pred_train_sm)\n",
    "rf_prec_tuned_test_sm = precision_score(y_test, pred_test_sm)\n",
    "rf_f1_tuned_train_sm = f1_score(y_train_sm, pred_train_sm)\n",
    "rf_f1_tuned_test_sm = f1_score(y_test, pred_test_sm)"
   ]
  },
  {
   "cell_type": "code",
   "execution_count": 167,
   "metadata": {
    "colab": {
     "base_uri": "https://localhost:8080/",
     "height": 110
    },
    "id": "bq5oVum-fueT",
    "outputId": "b740a1b1-5b5d-4b00-d43f-e8f3cc163e68"
   },
   "outputs": [
    {
     "data": {
      "text/html": [
       "<div>\n",
       "<style scoped>\n",
       "    .dataframe tbody tr th:only-of-type {\n",
       "        vertical-align: middle;\n",
       "    }\n",
       "\n",
       "    .dataframe tbody tr th {\n",
       "        vertical-align: top;\n",
       "    }\n",
       "\n",
       "    .dataframe thead th {\n",
       "        text-align: right;\n",
       "    }\n",
       "</style>\n",
       "<table border=\"1\" class=\"dataframe\">\n",
       "  <thead>\n",
       "    <tr style=\"text-align: right;\">\n",
       "      <th></th>\n",
       "      <th>Pred 1</th>\n",
       "      <th>Pred 0</th>\n",
       "    </tr>\n",
       "  </thead>\n",
       "  <tbody>\n",
       "    <tr>\n",
       "      <th>Akt 1</th>\n",
       "      <td>87</td>\n",
       "      <td>173</td>\n",
       "    </tr>\n",
       "    <tr>\n",
       "      <th>Akt 0</th>\n",
       "      <td>16</td>\n",
       "      <td>1533</td>\n",
       "    </tr>\n",
       "  </tbody>\n",
       "</table>\n",
       "</div>"
      ],
      "text/plain": [
       "       Pred 1  Pred 0\n",
       "Akt 1      87     173\n",
       "Akt 0      16    1533"
      ]
     },
     "execution_count": 167,
     "metadata": {},
     "output_type": "execute_result"
    }
   ],
   "source": [
    "cm_rf_tuned_sm = confusion_matrix(y_test, pred_test_sm, labels=[1, 0])\n",
    "cm_rf_tuned_sm = pd.DataFrame(data=cm_rf_tuned_sm, index=['Akt 1', 'Akt 0'], columns=['Pred 1', 'Pred 0'])\n",
    "cm_rf_tuned_sm"
   ]
  },
  {
   "cell_type": "code",
   "execution_count": 168,
   "metadata": {},
   "outputs": [
    {
     "name": "stdout",
     "output_type": "stream",
     "text": [
      "              precision    recall  f1-score   support\n",
      "\n",
      "           0       0.90      0.99      0.94      1549\n",
      "           1       0.84      0.33      0.48       260\n",
      "\n",
      "    accuracy                           0.90      1809\n",
      "   macro avg       0.87      0.66      0.71      1809\n",
      "weighted avg       0.89      0.90      0.88      1809\n",
      "\n"
     ]
    }
   ],
   "source": [
    "print(classification_report(y_test, pred_test_sm))"
   ]
  },
  {
   "cell_type": "code",
   "execution_count": 169,
   "metadata": {},
   "outputs": [],
   "source": [
    "tp_rf_sm = cm_rf_tuned_sm['Pred 1'][0]\n",
    "tn_rf_sm = cm_rf_tuned_sm['Pred 0'][1]\n",
    "fp_rf_sm = cm_rf_tuned_sm['Pred 1'][1]\n",
    "fn_rf_sm = cm_rf_tuned_sm['Pred 0'][0]"
   ]
  },
  {
   "cell_type": "markdown",
   "metadata": {
    "id": "XguosidogXFU"
   },
   "source": [
    "## Evaluation Matrix For Decision Tree and Random Forest"
   ]
  },
  {
   "cell_type": "code",
   "execution_count": 170,
   "metadata": {
    "id": "PTvHNsTwgSa7"
   },
   "outputs": [],
   "source": [
    "tuned_os = {\n",
    "    \"DT OS Train\": [dt_acc_tuned_train_os, dt_recall_tuned_train_os, dt_prec_tuned_train_os, dt_f1_tuned_train_os],\n",
    "    \"DT OS Test\" : [dt_acc_tuned_test_os, dt_recall_tuned_test_os, dt_prec_tuned_test_os, dt_f1_tuned_test_os],\n",
    "    \"RF OS Train\": [rf_acc_tuned_train_os, rf_recall_tuned_train_os, rf_prec_tuned_train_os, rf_f1_tuned_train_os],\n",
    "    \"RF OS Test\" : [rf_acc_tuned_test_os, rf_recall_tuned_test_os, rf_prec_tuned_test_os, rf_f1_tuned_test_os]}\n",
    "\n",
    "tuned_os_matrix = pd.DataFrame(data = tuned_os, index = ['Accuracy', 'Recall', 'Precision', 'F1 Score'])\n",
    "\n",
    "tuned_sm = {\n",
    "    \"DT SM Train\": [dt_acc_tuned_train_sm, dt_recall_tuned_train_sm, dt_prec_tuned_train_sm, dt_f1_tuned_train_sm],\n",
    "    \"DT SM Test\" : [dt_acc_tuned_test_sm, dt_recall_tuned_test_sm, dt_prec_tuned_test_sm, dt_f1_tuned_test_sm],\n",
    "    \"RF SM Train\": [rf_acc_tuned_train_sm, rf_recall_tuned_train_sm, rf_prec_tuned_train_sm, rf_f1_tuned_train_sm],\n",
    "    \"RF SM Test\" : [rf_acc_tuned_test_sm, rf_recall_tuned_test_sm, rf_prec_tuned_test_sm, rf_f1_tuned_test_sm]}\n",
    "\n",
    "tuned_sm_matrix = pd.DataFrame(data = tuned_sm, index = ['Accuracy', 'Recall', 'Precision', 'F1 Score'])\n"
   ]
  },
  {
   "cell_type": "code",
   "execution_count": 171,
   "metadata": {},
   "outputs": [
    {
     "data": {
      "text/html": [
       "<div>\n",
       "<style scoped>\n",
       "    .dataframe tbody tr th:only-of-type {\n",
       "        vertical-align: middle;\n",
       "    }\n",
       "\n",
       "    .dataframe tbody tr th {\n",
       "        vertical-align: top;\n",
       "    }\n",
       "\n",
       "    .dataframe thead th {\n",
       "        text-align: right;\n",
       "    }\n",
       "</style>\n",
       "<table border=\"1\" class=\"dataframe\">\n",
       "  <thead>\n",
       "    <tr style=\"text-align: right;\">\n",
       "      <th></th>\n",
       "      <th>DT OS Train</th>\n",
       "      <th>DT OS Test</th>\n",
       "      <th>RF OS Train</th>\n",
       "      <th>RF OS Test</th>\n",
       "    </tr>\n",
       "  </thead>\n",
       "  <tbody>\n",
       "    <tr>\n",
       "      <th>Accuracy</th>\n",
       "      <td>0.988457</td>\n",
       "      <td>0.895522</td>\n",
       "      <td>1.0</td>\n",
       "      <td>0.965174</td>\n",
       "    </tr>\n",
       "    <tr>\n",
       "      <th>Recall</th>\n",
       "      <td>0.995157</td>\n",
       "      <td>0.615385</td>\n",
       "      <td>1.0</td>\n",
       "      <td>0.773077</td>\n",
       "    </tr>\n",
       "    <tr>\n",
       "      <th>Precision</th>\n",
       "      <td>0.981998</td>\n",
       "      <td>0.642570</td>\n",
       "      <td>1.0</td>\n",
       "      <td>0.980488</td>\n",
       "    </tr>\n",
       "    <tr>\n",
       "      <th>F1 Score</th>\n",
       "      <td>0.988533</td>\n",
       "      <td>0.628684</td>\n",
       "      <td>1.0</td>\n",
       "      <td>0.864516</td>\n",
       "    </tr>\n",
       "  </tbody>\n",
       "</table>\n",
       "</div>"
      ],
      "text/plain": [
       "           DT OS Train  DT OS Test  RF OS Train  RF OS Test\n",
       "Accuracy      0.988457    0.895522          1.0    0.965174\n",
       "Recall        0.995157    0.615385          1.0    0.773077\n",
       "Precision     0.981998    0.642570          1.0    0.980488\n",
       "F1 Score      0.988533    0.628684          1.0    0.864516"
      ]
     },
     "execution_count": 171,
     "metadata": {},
     "output_type": "execute_result"
    }
   ],
   "source": [
    "tuned_os_matrix"
   ]
  },
  {
   "cell_type": "code",
   "execution_count": 172,
   "metadata": {},
   "outputs": [
    {
     "data": {
      "text/html": [
       "<div>\n",
       "<style scoped>\n",
       "    .dataframe tbody tr th:only-of-type {\n",
       "        vertical-align: middle;\n",
       "    }\n",
       "\n",
       "    .dataframe tbody tr th {\n",
       "        vertical-align: top;\n",
       "    }\n",
       "\n",
       "    .dataframe thead th {\n",
       "        text-align: right;\n",
       "    }\n",
       "</style>\n",
       "<table border=\"1\" class=\"dataframe\">\n",
       "  <thead>\n",
       "    <tr style=\"text-align: right;\">\n",
       "      <th></th>\n",
       "      <th>DT SM Train</th>\n",
       "      <th>DT SM Test</th>\n",
       "      <th>RF SM Train</th>\n",
       "      <th>RF SM Test</th>\n",
       "    </tr>\n",
       "  </thead>\n",
       "  <tbody>\n",
       "    <tr>\n",
       "      <th>Accuracy</th>\n",
       "      <td>0.964078</td>\n",
       "      <td>0.824212</td>\n",
       "      <td>0.994914</td>\n",
       "      <td>0.895522</td>\n",
       "    </tr>\n",
       "    <tr>\n",
       "      <th>Recall</th>\n",
       "      <td>0.956087</td>\n",
       "      <td>0.457692</td>\n",
       "      <td>0.989829</td>\n",
       "      <td>0.334615</td>\n",
       "    </tr>\n",
       "    <tr>\n",
       "      <th>Precision</th>\n",
       "      <td>0.971616</td>\n",
       "      <td>0.402027</td>\n",
       "      <td>1.000000</td>\n",
       "      <td>0.844660</td>\n",
       "    </tr>\n",
       "    <tr>\n",
       "      <th>F1 Score</th>\n",
       "      <td>0.963789</td>\n",
       "      <td>0.428058</td>\n",
       "      <td>0.994888</td>\n",
       "      <td>0.479339</td>\n",
       "    </tr>\n",
       "  </tbody>\n",
       "</table>\n",
       "</div>"
      ],
      "text/plain": [
       "           DT SM Train  DT SM Test  RF SM Train  RF SM Test\n",
       "Accuracy      0.964078    0.824212     0.994914    0.895522\n",
       "Recall        0.956087    0.457692     0.989829    0.334615\n",
       "Precision     0.971616    0.402027     1.000000    0.844660\n",
       "F1 Score      0.963789    0.428058     0.994888    0.479339"
      ]
     },
     "execution_count": 172,
     "metadata": {},
     "output_type": "execute_result"
    }
   ],
   "source": [
    "tuned_sm_matrix"
   ]
  },
  {
   "cell_type": "code",
   "execution_count": 173,
   "metadata": {},
   "outputs": [
    {
     "data": {
      "text/html": [
       "<div>\n",
       "<style scoped>\n",
       "    .dataframe tbody tr th:only-of-type {\n",
       "        vertical-align: middle;\n",
       "    }\n",
       "\n",
       "    .dataframe tbody tr th {\n",
       "        vertical-align: top;\n",
       "    }\n",
       "\n",
       "    .dataframe thead th {\n",
       "        text-align: right;\n",
       "    }\n",
       "</style>\n",
       "<table border=\"1\" class=\"dataframe\">\n",
       "  <thead>\n",
       "    <tr style=\"text-align: right;\">\n",
       "      <th></th>\n",
       "      <th>True Positive</th>\n",
       "      <th>True Negative</th>\n",
       "      <th>False Positive</th>\n",
       "      <th>False Negative</th>\n",
       "    </tr>\n",
       "  </thead>\n",
       "  <tbody>\n",
       "    <tr>\n",
       "      <th>SVM SM</th>\n",
       "      <td>260</td>\n",
       "      <td>1520</td>\n",
       "      <td>29</td>\n",
       "      <td>0</td>\n",
       "    </tr>\n",
       "    <tr>\n",
       "      <th>SVM SM Standard</th>\n",
       "      <td>227</td>\n",
       "      <td>1534</td>\n",
       "      <td>15</td>\n",
       "      <td>33</td>\n",
       "    </tr>\n",
       "    <tr>\n",
       "      <th>SVM SM Robust</th>\n",
       "      <td>225</td>\n",
       "      <td>1519</td>\n",
       "      <td>30</td>\n",
       "      <td>35</td>\n",
       "    </tr>\n",
       "    <tr>\n",
       "      <th>SVM OS</th>\n",
       "      <td>221</td>\n",
       "      <td>1549</td>\n",
       "      <td>0</td>\n",
       "      <td>39</td>\n",
       "    </tr>\n",
       "    <tr>\n",
       "      <th>SVM OS Standard</th>\n",
       "      <td>213</td>\n",
       "      <td>1542</td>\n",
       "      <td>7</td>\n",
       "      <td>47</td>\n",
       "    </tr>\n",
       "    <tr>\n",
       "      <th>SVM OS Robust</th>\n",
       "      <td>210</td>\n",
       "      <td>1539</td>\n",
       "      <td>10</td>\n",
       "      <td>50</td>\n",
       "    </tr>\n",
       "    <tr>\n",
       "      <th>Random Forest OS</th>\n",
       "      <td>201</td>\n",
       "      <td>1545</td>\n",
       "      <td>4</td>\n",
       "      <td>59</td>\n",
       "    </tr>\n",
       "    <tr>\n",
       "      <th>Logreg OS Standard</th>\n",
       "      <td>194</td>\n",
       "      <td>1090</td>\n",
       "      <td>459</td>\n",
       "      <td>66</td>\n",
       "    </tr>\n",
       "    <tr>\n",
       "      <th>LogReg OS</th>\n",
       "      <td>191</td>\n",
       "      <td>1096</td>\n",
       "      <td>453</td>\n",
       "      <td>69</td>\n",
       "    </tr>\n",
       "    <tr>\n",
       "      <th>Logreg OS Robust</th>\n",
       "      <td>191</td>\n",
       "      <td>1096</td>\n",
       "      <td>453</td>\n",
       "      <td>69</td>\n",
       "    </tr>\n",
       "    <tr>\n",
       "      <th>Logreg OS MinMax</th>\n",
       "      <td>183</td>\n",
       "      <td>1128</td>\n",
       "      <td>421</td>\n",
       "      <td>77</td>\n",
       "    </tr>\n",
       "    <tr>\n",
       "      <th>Decision Tree OS</th>\n",
       "      <td>160</td>\n",
       "      <td>1460</td>\n",
       "      <td>89</td>\n",
       "      <td>100</td>\n",
       "    </tr>\n",
       "    <tr>\n",
       "      <th>SVM SM MinMax</th>\n",
       "      <td>129</td>\n",
       "      <td>1533</td>\n",
       "      <td>16</td>\n",
       "      <td>131</td>\n",
       "    </tr>\n",
       "    <tr>\n",
       "      <th>Decision Tree SM</th>\n",
       "      <td>119</td>\n",
       "      <td>1372</td>\n",
       "      <td>177</td>\n",
       "      <td>141</td>\n",
       "    </tr>\n",
       "    <tr>\n",
       "      <th>Random Forest SM</th>\n",
       "      <td>87</td>\n",
       "      <td>1533</td>\n",
       "      <td>16</td>\n",
       "      <td>173</td>\n",
       "    </tr>\n",
       "    <tr>\n",
       "      <th>SVM OS MinMax</th>\n",
       "      <td>57</td>\n",
       "      <td>1549</td>\n",
       "      <td>0</td>\n",
       "      <td>203</td>\n",
       "    </tr>\n",
       "    <tr>\n",
       "      <th>Logreg SM Standard</th>\n",
       "      <td>51</td>\n",
       "      <td>1516</td>\n",
       "      <td>33</td>\n",
       "      <td>209</td>\n",
       "    </tr>\n",
       "    <tr>\n",
       "      <th>Logreg SM Robust</th>\n",
       "      <td>49</td>\n",
       "      <td>1521</td>\n",
       "      <td>28</td>\n",
       "      <td>211</td>\n",
       "    </tr>\n",
       "    <tr>\n",
       "      <th>LogReg SM</th>\n",
       "      <td>48</td>\n",
       "      <td>1523</td>\n",
       "      <td>26</td>\n",
       "      <td>212</td>\n",
       "    </tr>\n",
       "    <tr>\n",
       "      <th>Logreg SM MinMax</th>\n",
       "      <td>45</td>\n",
       "      <td>1524</td>\n",
       "      <td>25</td>\n",
       "      <td>215</td>\n",
       "    </tr>\n",
       "  </tbody>\n",
       "</table>\n",
       "</div>"
      ],
      "text/plain": [
       "                    True Positive  True Negative  False Positive  \\\n",
       "SVM SM                        260           1520              29   \n",
       "SVM SM Standard               227           1534              15   \n",
       "SVM SM Robust                 225           1519              30   \n",
       "SVM OS                        221           1549               0   \n",
       "SVM OS Standard               213           1542               7   \n",
       "SVM OS Robust                 210           1539              10   \n",
       "Random Forest OS              201           1545               4   \n",
       "Logreg OS Standard            194           1090             459   \n",
       "LogReg OS                     191           1096             453   \n",
       "Logreg OS Robust              191           1096             453   \n",
       "Logreg OS MinMax              183           1128             421   \n",
       "Decision Tree OS              160           1460              89   \n",
       "SVM SM MinMax                 129           1533              16   \n",
       "Decision Tree SM              119           1372             177   \n",
       "Random Forest SM               87           1533              16   \n",
       "SVM OS MinMax                  57           1549               0   \n",
       "Logreg SM Standard             51           1516              33   \n",
       "Logreg SM Robust               49           1521              28   \n",
       "LogReg SM                      48           1523              26   \n",
       "Logreg SM MinMax               45           1524              25   \n",
       "\n",
       "                    False Negative  \n",
       "SVM SM                           0  \n",
       "SVM SM Standard                 33  \n",
       "SVM SM Robust                   35  \n",
       "SVM OS                          39  \n",
       "SVM OS Standard                 47  \n",
       "SVM OS Robust                   50  \n",
       "Random Forest OS                59  \n",
       "Logreg OS Standard              66  \n",
       "LogReg OS                       69  \n",
       "Logreg OS Robust                69  \n",
       "Logreg OS MinMax                77  \n",
       "Decision Tree OS               100  \n",
       "SVM SM MinMax                  131  \n",
       "Decision Tree SM               141  \n",
       "Random Forest SM               173  \n",
       "SVM OS MinMax                  203  \n",
       "Logreg SM Standard             209  \n",
       "Logreg SM Robust               211  \n",
       "LogReg SM                      212  \n",
       "Logreg SM MinMax               215  "
      ]
     },
     "execution_count": 173,
     "metadata": {},
     "output_type": "execute_result"
    }
   ],
   "source": [
    "cm = {\n",
    "    \"True Positive\" : [tp_svm_os, tp_svm_os_std, tp_svm_os_mm, tp_svm_os_rb, \n",
    "                       tp_svm_sm, tp_svm_sm_std, tp_svm_sm_mm, tp_svm_sm_rb,\n",
    "                       tp_logreg_os, tp_logreg_os_std, tp_logreg_os_mm, tp_logreg_os_rb, \n",
    "                       tp_logreg_sm, tp_logreg_sm_std, tp_logreg_sm_mm, tp_logreg_sm_rb,\n",
    "                       tp_dt_os, tp_dt_sm, tp_rf_os, tp_rf_sm],\n",
    "    \n",
    "    \"True Negative\" : [tn_svm_os, tn_svm_os_std, tn_svm_os_mm, tn_svm_os_rb, \n",
    "                       tn_svm_sm, tn_svm_sm_std, tn_svm_sm_mm, tn_svm_sm_rb,\n",
    "                       tn_logreg_os, tn_logreg_os_std, tn_logreg_os_mm, tn_logreg_os_rb, \n",
    "                       tn_logreg_sm, tn_logreg_sm_std, tn_logreg_sm_mm, tn_logreg_sm_rb,\n",
    "                       tn_dt_os, tn_dt_sm, tn_rf_os, tn_rf_sm],\n",
    "    \n",
    "    \"False Positive\": [fp_svm_os, fp_svm_os_std, fp_svm_os_mm, fp_svm_os_rb, \n",
    "                       fp_svm_sm, fp_svm_sm_std, fp_svm_sm_mm, fp_svm_sm_rb,\n",
    "                       fp_logreg_os, fp_logreg_os_std, fp_logreg_os_mm, fp_logreg_os_rb, \n",
    "                       fp_logreg_sm, fp_logreg_sm_std, fp_logreg_sm_mm, fp_logreg_sm_rb,\n",
    "                       fp_dt_os, fp_dt_sm, fp_rf_os, fp_rf_sm],\n",
    "    \n",
    "    \"False Negative\": [fn_svm_os, fn_svm_os_std, fn_svm_os_mm, fn_svm_os_rb, \n",
    "                       fn_svm_sm, fn_svm_sm_std, fn_svm_sm_mm, fn_svm_sm_rb,\n",
    "                       fn_logreg_os, fn_logreg_os_std, fn_logreg_os_mm, fn_logreg_os_rb, \n",
    "                       fn_logreg_sm, fn_logreg_sm_std, fn_logreg_sm_mm, fn_logreg_sm_rb,\n",
    "                       fn_dt_os, fn_dt_sm, fn_rf_os, fn_rf_sm]\n",
    "}\n",
    "    \n",
    "cm_matrix = pd.DataFrame(data = cm, index = ['SVM OS', 'SVM OS Standard', 'SVM OS MinMax', 'SVM OS Robust',\n",
    "                                             'SVM SM', 'SVM SM Standard', 'SVM SM MinMax', 'SVM SM Robust',\n",
    "                                             'LogReg OS', 'Logreg OS Standard', 'Logreg OS MinMax', 'Logreg OS Robust',\n",
    "                                             'LogReg SM', 'Logreg SM Standard', 'Logreg SM MinMax', 'Logreg SM Robust',\n",
    "                                             'Decision Tree OS', 'Decision Tree SM', 'Random Forest OS', 'Random Forest SM'])\n",
    "cm_matrix.sort_values('False Negative')"
   ]
  },
  {
   "cell_type": "code",
   "execution_count": 174,
   "metadata": {},
   "outputs": [],
   "source": [
    "import joblib"
   ]
  },
  {
   "cell_type": "code",
   "execution_count": 178,
   "metadata": {
    "scrolled": true
   },
   "outputs": [
    {
     "data": {
      "text/plain": [
       "['Support Vector Machine with Smote']"
      ]
     },
     "execution_count": 178,
     "metadata": {},
     "output_type": "execute_result"
    }
   ],
   "source": [
    "import joblib\n",
    "joblib.dump(rf_os, 'Support Vector Machine with Smote')"
   ]
  },
  {
   "cell_type": "code",
   "execution_count": 179,
   "metadata": {},
   "outputs": [
    {
     "data": {
      "text/plain": [
       "array([[0.67817588, 0.32182412]])"
      ]
     },
     "execution_count": 179,
     "metadata": {},
     "output_type": "execute_result"
    }
   ],
   "source": [
    "x = rf_os.predict_proba([[3826, 0, 2, 1, 25000, 54, 2, 5200, 2, 0, 1, 0, 0, 0, 0, 0, 0, 1, 0, 0, 1, 0, 0, 1, 0, 0, 0, 0, 0, 0, 1, 0, 0, 0, 0, 1, 0, 0, 1, 0, 0, 0, 0, 0, 0, 1, 0, 0]])\n",
    "x"
   ]
  },
  {
   "cell_type": "code",
   "execution_count": 177,
   "metadata": {},
   "outputs": [
    {
     "data": {
      "text/plain": [
       "array([0], dtype=int64)"
      ]
     },
     "execution_count": 177,
     "metadata": {},
     "output_type": "execute_result"
    }
   ],
   "source": [
    "y = rf_os.predict([[3826, 0, 2, 1, 25000, 54, 2, 5200, 2, 0, 1, 0, 0, 0, 0, 0, 0, 1, 0, 0, 1, 0, 0, 1, 0, 0, 0, 0, 0, 0, 1, 0, 0, 0, 0, 1, 0, 0, 1, 0, 0, 0, 0, 0, 0, 1, 0, 0]])\n",
    "y"
   ]
  }
 ],
 "metadata": {
  "accelerator": "GPU",
  "colab": {
   "collapsed_sections": [],
   "name": "machine learning",
   "provenance": []
  },
  "kernelspec": {
   "display_name": "Python 3",
   "language": "python",
   "name": "python3"
  },
  "language_info": {
   "codemirror_mode": {
    "name": "ipython",
    "version": 3
   },
   "file_extension": ".py",
   "mimetype": "text/x-python",
   "name": "python",
   "nbconvert_exporter": "python",
   "pygments_lexer": "ipython3",
   "version": "3.8.3"
  }
 },
 "nbformat": 4,
 "nbformat_minor": 1
}
