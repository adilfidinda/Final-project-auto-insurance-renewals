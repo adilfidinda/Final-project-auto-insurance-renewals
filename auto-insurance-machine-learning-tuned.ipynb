{
 "cells": [
  {
   "cell_type": "code",
   "execution_count": 202,
   "metadata": {
    "id": "Lv_8ciqcjVhL"
   },
   "outputs": [],
   "source": [
    "import pandas as pd\n",
    "import numpy as np\n",
    "from sklearn.preprocessing import OneHotEncoder\n",
    "from sklearn.model_selection import train_test_split, RandomizedSearchCV\n",
    "from sklearn.preprocessing import MinMaxScaler, RobustScaler, StandardScaler\n",
    "from sklearn.utils import resample\n",
    "import imblearn\n",
    "from imblearn.over_sampling import SMOTE\n",
    "from sklearn.linear_model import LogisticRegression\n",
    "from sklearn.svm import SVC\n",
    "from sklearn.tree import DecisionTreeClassifier\n",
    "from sklearn.ensemble import RandomForestClassifier\n",
    "from xgboost import XGBClassifier\n",
    "from sklearn.metrics import confusion_matrix, classification_report, accuracy_score, precision_score, recall_score, f1_score\n",
    "import warnings\n",
    "warnings.filterwarnings('ignore')"
   ]
  },
  {
   "cell_type": "markdown",
   "metadata": {
    "id": "veCll5vXNYXN"
   },
   "source": [
    "## Dataset"
   ]
  },
  {
   "cell_type": "code",
   "execution_count": 203,
   "metadata": {
    "colab": {
     "base_uri": "https://localhost:8080/",
     "height": 461
    },
    "id": "X7er3DJjm_Bh",
    "outputId": "28d172d2-1751-40c1-8cd0-f0c077cb9c97",
    "scrolled": true
   },
   "outputs": [
    {
     "data": {
      "text/html": [
       "<div>\n",
       "<style scoped>\n",
       "    .dataframe tbody tr th:only-of-type {\n",
       "        vertical-align: middle;\n",
       "    }\n",
       "\n",
       "    .dataframe tbody tr th {\n",
       "        vertical-align: top;\n",
       "    }\n",
       "\n",
       "    .dataframe thead th {\n",
       "        text-align: right;\n",
       "    }\n",
       "</style>\n",
       "<table border=\"1\" class=\"dataframe\">\n",
       "  <thead>\n",
       "    <tr style=\"text-align: right;\">\n",
       "      <th></th>\n",
       "      <th>Customer Lifetime Value</th>\n",
       "      <th>Response</th>\n",
       "      <th>Coverage</th>\n",
       "      <th>Education</th>\n",
       "      <th>Gender</th>\n",
       "      <th>Income</th>\n",
       "      <th>Monthly Premium Auto</th>\n",
       "      <th>Number of Policies</th>\n",
       "      <th>Total Claim Amount</th>\n",
       "      <th>Vehicle Size</th>\n",
       "      <th>...</th>\n",
       "      <th>Sales Channel_Agent</th>\n",
       "      <th>Sales Channel_Branch</th>\n",
       "      <th>Sales Channel_Call Center</th>\n",
       "      <th>Sales Channel_Web</th>\n",
       "      <th>Vehicle Class_Four-Door Car</th>\n",
       "      <th>Vehicle Class_Luxury Car</th>\n",
       "      <th>Vehicle Class_Luxury SUV</th>\n",
       "      <th>Vehicle Class_SUV</th>\n",
       "      <th>Vehicle Class_Sports Car</th>\n",
       "      <th>Vehicle Class_Two-Door Car</th>\n",
       "    </tr>\n",
       "    <tr>\n",
       "      <th>Customer</th>\n",
       "      <th></th>\n",
       "      <th></th>\n",
       "      <th></th>\n",
       "      <th></th>\n",
       "      <th></th>\n",
       "      <th></th>\n",
       "      <th></th>\n",
       "      <th></th>\n",
       "      <th></th>\n",
       "      <th></th>\n",
       "      <th></th>\n",
       "      <th></th>\n",
       "      <th></th>\n",
       "      <th></th>\n",
       "      <th></th>\n",
       "      <th></th>\n",
       "      <th></th>\n",
       "      <th></th>\n",
       "      <th></th>\n",
       "      <th></th>\n",
       "      <th></th>\n",
       "    </tr>\n",
       "  </thead>\n",
       "  <tbody>\n",
       "    <tr>\n",
       "      <th>BU79786</th>\n",
       "      <td>2763.519279</td>\n",
       "      <td>0</td>\n",
       "      <td>0</td>\n",
       "      <td>2</td>\n",
       "      <td>1</td>\n",
       "      <td>56274</td>\n",
       "      <td>69</td>\n",
       "      <td>1</td>\n",
       "      <td>384.811147</td>\n",
       "      <td>1</td>\n",
       "      <td>...</td>\n",
       "      <td>1</td>\n",
       "      <td>0</td>\n",
       "      <td>0</td>\n",
       "      <td>0</td>\n",
       "      <td>0</td>\n",
       "      <td>0</td>\n",
       "      <td>0</td>\n",
       "      <td>0</td>\n",
       "      <td>0</td>\n",
       "      <td>1</td>\n",
       "    </tr>\n",
       "    <tr>\n",
       "      <th>QZ44356</th>\n",
       "      <td>6979.535903</td>\n",
       "      <td>0</td>\n",
       "      <td>1</td>\n",
       "      <td>2</td>\n",
       "      <td>1</td>\n",
       "      <td>0</td>\n",
       "      <td>94</td>\n",
       "      <td>8</td>\n",
       "      <td>1131.464935</td>\n",
       "      <td>1</td>\n",
       "      <td>...</td>\n",
       "      <td>1</td>\n",
       "      <td>0</td>\n",
       "      <td>0</td>\n",
       "      <td>0</td>\n",
       "      <td>1</td>\n",
       "      <td>0</td>\n",
       "      <td>0</td>\n",
       "      <td>0</td>\n",
       "      <td>0</td>\n",
       "      <td>0</td>\n",
       "    </tr>\n",
       "    <tr>\n",
       "      <th>AI49188</th>\n",
       "      <td>12887.431650</td>\n",
       "      <td>0</td>\n",
       "      <td>2</td>\n",
       "      <td>2</td>\n",
       "      <td>1</td>\n",
       "      <td>48767</td>\n",
       "      <td>108</td>\n",
       "      <td>2</td>\n",
       "      <td>566.472247</td>\n",
       "      <td>1</td>\n",
       "      <td>...</td>\n",
       "      <td>1</td>\n",
       "      <td>0</td>\n",
       "      <td>0</td>\n",
       "      <td>0</td>\n",
       "      <td>0</td>\n",
       "      <td>0</td>\n",
       "      <td>0</td>\n",
       "      <td>0</td>\n",
       "      <td>0</td>\n",
       "      <td>1</td>\n",
       "    </tr>\n",
       "    <tr>\n",
       "      <th>WW63253</th>\n",
       "      <td>7645.861827</td>\n",
       "      <td>0</td>\n",
       "      <td>0</td>\n",
       "      <td>2</td>\n",
       "      <td>0</td>\n",
       "      <td>0</td>\n",
       "      <td>106</td>\n",
       "      <td>7</td>\n",
       "      <td>529.881344</td>\n",
       "      <td>1</td>\n",
       "      <td>...</td>\n",
       "      <td>0</td>\n",
       "      <td>0</td>\n",
       "      <td>1</td>\n",
       "      <td>0</td>\n",
       "      <td>0</td>\n",
       "      <td>0</td>\n",
       "      <td>0</td>\n",
       "      <td>1</td>\n",
       "      <td>0</td>\n",
       "      <td>0</td>\n",
       "    </tr>\n",
       "    <tr>\n",
       "      <th>HB64268</th>\n",
       "      <td>2813.692575</td>\n",
       "      <td>0</td>\n",
       "      <td>0</td>\n",
       "      <td>2</td>\n",
       "      <td>0</td>\n",
       "      <td>43836</td>\n",
       "      <td>73</td>\n",
       "      <td>1</td>\n",
       "      <td>138.130879</td>\n",
       "      <td>1</td>\n",
       "      <td>...</td>\n",
       "      <td>1</td>\n",
       "      <td>0</td>\n",
       "      <td>0</td>\n",
       "      <td>0</td>\n",
       "      <td>1</td>\n",
       "      <td>0</td>\n",
       "      <td>0</td>\n",
       "      <td>0</td>\n",
       "      <td>0</td>\n",
       "      <td>0</td>\n",
       "    </tr>\n",
       "  </tbody>\n",
       "</table>\n",
       "<p>5 rows × 49 columns</p>\n",
       "</div>"
      ],
      "text/plain": [
       "          Customer Lifetime Value  Response  Coverage  Education  Gender  \\\n",
       "Customer                                                                   \n",
       "BU79786               2763.519279         0         0          2       1   \n",
       "QZ44356               6979.535903         0         1          2       1   \n",
       "AI49188              12887.431650         0         2          2       1   \n",
       "WW63253               7645.861827         0         0          2       0   \n",
       "HB64268               2813.692575         0         0          2       0   \n",
       "\n",
       "          Income  Monthly Premium Auto  Number of Policies  \\\n",
       "Customer                                                     \n",
       "BU79786    56274                    69                   1   \n",
       "QZ44356        0                    94                   8   \n",
       "AI49188    48767                   108                   2   \n",
       "WW63253        0                   106                   7   \n",
       "HB64268    43836                    73                   1   \n",
       "\n",
       "          Total Claim Amount  Vehicle Size  ...  Sales Channel_Agent  \\\n",
       "Customer                                    ...                        \n",
       "BU79786           384.811147             1  ...                    1   \n",
       "QZ44356          1131.464935             1  ...                    1   \n",
       "AI49188           566.472247             1  ...                    1   \n",
       "WW63253           529.881344             1  ...                    0   \n",
       "HB64268           138.130879             1  ...                    1   \n",
       "\n",
       "          Sales Channel_Branch  Sales Channel_Call Center  Sales Channel_Web  \\\n",
       "Customer                                                                       \n",
       "BU79786                      0                          0                  0   \n",
       "QZ44356                      0                          0                  0   \n",
       "AI49188                      0                          0                  0   \n",
       "WW63253                      0                          1                  0   \n",
       "HB64268                      0                          0                  0   \n",
       "\n",
       "          Vehicle Class_Four-Door Car  Vehicle Class_Luxury Car  \\\n",
       "Customer                                                          \n",
       "BU79786                             0                         0   \n",
       "QZ44356                             1                         0   \n",
       "AI49188                             0                         0   \n",
       "WW63253                             0                         0   \n",
       "HB64268                             1                         0   \n",
       "\n",
       "          Vehicle Class_Luxury SUV  Vehicle Class_SUV  \\\n",
       "Customer                                                \n",
       "BU79786                          0                  0   \n",
       "QZ44356                          0                  0   \n",
       "AI49188                          0                  0   \n",
       "WW63253                          0                  1   \n",
       "HB64268                          0                  0   \n",
       "\n",
       "          Vehicle Class_Sports Car  Vehicle Class_Two-Door Car  \n",
       "Customer                                                        \n",
       "BU79786                          0                           1  \n",
       "QZ44356                          0                           0  \n",
       "AI49188                          0                           1  \n",
       "WW63253                          0                           0  \n",
       "HB64268                          0                           0  \n",
       "\n",
       "[5 rows x 49 columns]"
      ]
     },
     "execution_count": 203,
     "metadata": {},
     "output_type": "execute_result"
    }
   ],
   "source": [
    "df_processed = pd.read_csv(\"data_ml.csv\", index_col = 0)\n",
    "df_processed.head()"
   ]
  },
  {
   "cell_type": "markdown",
   "metadata": {
    "id": "9emzY1N4LEU8"
   },
   "source": [
    "# Splitting Data"
   ]
  },
  {
   "cell_type": "code",
   "execution_count": 204,
   "metadata": {
    "id": "8YZnNnkXLDzp"
   },
   "outputs": [],
   "source": [
    "x = df_processed.drop(columns = ['Response'] , axis = 1)\n",
    "y = df_processed['Response']"
   ]
  },
  {
   "cell_type": "code",
   "execution_count": 205,
   "metadata": {
    "id": "AwkYUTgFMCLU"
   },
   "outputs": [],
   "source": [
    "x_train, x_test, y_train, y_test = train_test_split(x, y, train_size=.8, stratify= y, random_state = 42)"
   ]
  },
  {
   "cell_type": "markdown",
   "metadata": {
    "id": "0Yj7ozxSMMmi"
   },
   "source": [
    "# Handling Imbalance Data"
   ]
  },
  {
   "cell_type": "code",
   "execution_count": 206,
   "metadata": {
    "colab": {
     "base_uri": "https://localhost:8080/"
    },
    "id": "i20dCbkRM9TK",
    "outputId": "de7742b5-6087-48b1-9f32-9529bcbf3939"
   },
   "outputs": [
    {
     "data": {
      "text/plain": [
       "0    6194\n",
       "1    1042\n",
       "Name: Response, dtype: int64"
      ]
     },
     "execution_count": 206,
     "metadata": {},
     "output_type": "execute_result"
    }
   ],
   "source": [
    "y_train.value_counts()"
   ]
  },
  {
   "cell_type": "markdown",
   "metadata": {
    "id": "SuwjIX1JMVta"
   },
   "source": [
    "#### Random Over Sampling"
   ]
  },
  {
   "cell_type": "code",
   "execution_count": 207,
   "metadata": {
    "colab": {
     "base_uri": "https://localhost:8080/"
    },
    "id": "X0bWeSkZMPhl",
    "outputId": "e9fdf446-fad4-4152-9197-8622ae1396b7"
   },
   "outputs": [
    {
     "data": {
      "text/plain": [
       "1    6194\n",
       "0    6194\n",
       "Name: Response, dtype: int64"
      ]
     },
     "execution_count": 207,
     "metadata": {},
     "output_type": "execute_result"
    }
   ],
   "source": [
    "df_train = pd.concat([x_train, y_train], axis=1)\n",
    "not_renewal = df_train[df_train['Response'] == 0]\n",
    "renewal = df_train[df_train['Response'] == 1]\n",
    "\n",
    "renewal_oversample = resample(renewal, replace=True, n_samples = len(not_renewal), random_state = 42)\n",
    "df_OverSampled = pd.concat([not_renewal, renewal_oversample])\n",
    "df_OverSampled['Response'].value_counts()"
   ]
  },
  {
   "cell_type": "code",
   "execution_count": 208,
   "metadata": {
    "id": "mzYilLaeN-jQ"
   },
   "outputs": [],
   "source": [
    "x_train_os = df_OverSampled.drop(columns = ['Response'])\n",
    "y_train_os = df_OverSampled['Response']"
   ]
  },
  {
   "cell_type": "markdown",
   "metadata": {
    "id": "CMSbi3WuOdhl"
   },
   "source": [
    "#### Smote"
   ]
  },
  {
   "cell_type": "code",
   "execution_count": 209,
   "metadata": {
    "colab": {
     "base_uri": "https://localhost:8080/"
    },
    "id": "UdXTHZtFOf1M",
    "outputId": "5f1355cf-ae55-43cf-bf4c-9d3ff0e99a54"
   },
   "outputs": [
    {
     "data": {
      "text/plain": [
       "1    6194\n",
       "0    6194\n",
       "Name: Response, dtype: int64"
      ]
     },
     "execution_count": 209,
     "metadata": {},
     "output_type": "execute_result"
    }
   ],
   "source": [
    "sm = SMOTE(random_state=42)\n",
    "x_train_sm, y_train_sm = sm.fit_sample(x_train, y_train)\n",
    "\n",
    "x = pd.DataFrame(data = x_train_sm, columns = x_train.columns)\n",
    "y = pd.DataFrame(data = y_train_sm, columns = ['Response'])\n",
    "df_smote = x.join(y)\n",
    "# df_smote = pd.concat([x_train_sm, y_train_sm], axis = 1)\n",
    "df_smote['Response'].value_counts()"
   ]
  },
  {
   "cell_type": "code",
   "execution_count": 210,
   "metadata": {},
   "outputs": [],
   "source": [
    "columns_continuous = ['Customer Lifetime Value', 'Income', 'Monthly Premium Auto', 'Number of Policies', 'Total Claim Amount']"
   ]
  },
  {
   "cell_type": "code",
   "execution_count": 211,
   "metadata": {},
   "outputs": [],
   "source": [
    "std_scale = StandardScaler()\n",
    "mm_scale = MinMaxScaler()\n",
    "rb_scale = RobustScaler()"
   ]
  },
  {
   "cell_type": "markdown",
   "metadata": {
    "id": "A2ABFHUaP5kn"
   },
   "source": [
    "# Tuning Model"
   ]
  },
  {
   "cell_type": "markdown",
   "metadata": {},
   "source": [
    "## SVM"
   ]
  },
  {
   "cell_type": "code",
   "execution_count": 233,
   "metadata": {},
   "outputs": [],
   "source": [
    "svm = SVC(max_iter = 1000)"
   ]
  },
  {
   "cell_type": "code",
   "execution_count": 234,
   "metadata": {},
   "outputs": [],
   "source": [
    "param_svm = {'C' : np.linspace(0.00001, 10, 1000),\n",
    "             'kernel' : ['linear', 'rbf'],\n",
    "             \"gamma\" : np.arange(0.0001, 100)}"
   ]
  },
  {
   "cell_type": "markdown",
   "metadata": {},
   "source": [
    "#### Random Over Sampling without Scaling"
   ]
  },
  {
   "cell_type": "code",
   "execution_count": 235,
   "metadata": {},
   "outputs": [
    {
     "name": "stdout",
     "output_type": "stream",
     "text": [
      "Fitting 3 folds for each of 300 candidates, totalling 900 fits\n"
     ]
    },
    {
     "name": "stderr",
     "output_type": "stream",
     "text": [
      "[Parallel(n_jobs=-1)]: Using backend LokyBackend with 4 concurrent workers.\n",
      "[Parallel(n_jobs=-1)]: Done  42 tasks      | elapsed:   35.8s\n",
      "[Parallel(n_jobs=-1)]: Done 192 tasks      | elapsed:  2.7min\n",
      "[Parallel(n_jobs=-1)]: Done 442 tasks      | elapsed:  6.1min\n",
      "[Parallel(n_jobs=-1)]: Done 792 tasks      | elapsed: 10.8min\n",
      "[Parallel(n_jobs=-1)]: Done 900 out of 900 | elapsed: 12.4min finished\n"
     ]
    },
    {
     "data": {
      "text/plain": [
       "RandomizedSearchCV(cv=3, estimator=SVC(max_iter=1000), n_iter=300, n_jobs=-1,\n",
       "                   param_distributions={'C': array([1.00000e-05, 1.00200e-02, 2.00300e-02, 3.00400e-02, 4.00500e-02,\n",
       "       5.00600e-02, 6.00700e-02, 7.00800e-02, 8.00900e-02, 9.01000e-02,\n",
       "       1.00110e-01, 1.10120e-01, 1.20130e-01, 1.30140e-01, 1.40150e-01,\n",
       "       1.50160e-01, 1.60170e-01, 1.70180e-01, 1.80190e-01, 1.90200e-01,\n",
       "       2.00...\n",
       "       7.50001e+01, 7.60001e+01, 7.70001e+01, 7.80001e+01, 7.90001e+01,\n",
       "       8.00001e+01, 8.10001e+01, 8.20001e+01, 8.30001e+01, 8.40001e+01,\n",
       "       8.50001e+01, 8.60001e+01, 8.70001e+01, 8.80001e+01, 8.90001e+01,\n",
       "       9.00001e+01, 9.10001e+01, 9.20001e+01, 9.30001e+01, 9.40001e+01,\n",
       "       9.50001e+01, 9.60001e+01, 9.70001e+01, 9.80001e+01, 9.90001e+01]),\n",
       "                                        'kernel': ['linear', 'rbf']},\n",
       "                   scoring='recall', verbose=1)"
      ]
     },
     "execution_count": 235,
     "metadata": {},
     "output_type": "execute_result"
    }
   ],
   "source": [
    "svm_os = RandomizedSearchCV(estimator = svm, param_distributions = param_svm, cv = 3, n_jobs = -1 , n_iter=300, verbose = 1, scoring = 'recall')\n",
    "svm_os.fit(x_train_os, y_train_os)"
   ]
  },
  {
   "cell_type": "code",
   "execution_count": 241,
   "metadata": {},
   "outputs": [
    {
     "data": {
      "text/plain": [
       "SVC(C=5.2752799999999995, gamma=1.0001, max_iter=1000)"
      ]
     },
     "execution_count": 241,
     "metadata": {},
     "output_type": "execute_result"
    }
   ],
   "source": [
    "svm_os_tuned = svm_os.best_estimator_\n",
    "pred_train_os = svm_os_tuned.predict(x_train_os)\n",
    "pred_test_os = svm_os_tuned.predict(x_test)\n",
    "svm_os_tuned"
   ]
  },
  {
   "cell_type": "code",
   "execution_count": 242,
   "metadata": {},
   "outputs": [],
   "source": [
    "svm_acc_tuned_train_os = accuracy_score(y_train_os, pred_train_os)\n",
    "svm_acc_tuned_test_os = accuracy_score(y_test, pred_test_os)\n",
    "svm_recall_tuned_train_os = recall_score(y_train_os, pred_train_os)\n",
    "svm_recall_tuned_test_os = recall_score(y_test, pred_test_os)\n",
    "svm_prec_tuned_train_os = precision_score(y_train_os, pred_train_os)\n",
    "svm_prec_tuned_test_os = precision_score(y_test, pred_test_os)\n",
    "svm_f1_tuned_train_os = f1_score(y_train_os, pred_train_os)\n",
    "svm_f1_tuned_test_os = f1_score(y_test, pred_test_os)"
   ]
  },
  {
   "cell_type": "code",
   "execution_count": 243,
   "metadata": {},
   "outputs": [
    {
     "data": {
      "text/html": [
       "<div>\n",
       "<style scoped>\n",
       "    .dataframe tbody tr th:only-of-type {\n",
       "        vertical-align: middle;\n",
       "    }\n",
       "\n",
       "    .dataframe tbody tr th {\n",
       "        vertical-align: top;\n",
       "    }\n",
       "\n",
       "    .dataframe thead th {\n",
       "        text-align: right;\n",
       "    }\n",
       "</style>\n",
       "<table border=\"1\" class=\"dataframe\">\n",
       "  <thead>\n",
       "    <tr style=\"text-align: right;\">\n",
       "      <th></th>\n",
       "      <th>Pred 1</th>\n",
       "      <th>Pred 0</th>\n",
       "    </tr>\n",
       "  </thead>\n",
       "  <tbody>\n",
       "    <tr>\n",
       "      <th>Akt 1</th>\n",
       "      <td>213</td>\n",
       "      <td>47</td>\n",
       "    </tr>\n",
       "    <tr>\n",
       "      <th>Akt 0</th>\n",
       "      <td>7</td>\n",
       "      <td>1542</td>\n",
       "    </tr>\n",
       "  </tbody>\n",
       "</table>\n",
       "</div>"
      ],
      "text/plain": [
       "       Pred 1  Pred 0\n",
       "Akt 1     213      47\n",
       "Akt 0       7    1542"
      ]
     },
     "execution_count": 243,
     "metadata": {},
     "output_type": "execute_result"
    }
   ],
   "source": [
    "cm_svm_tuned_os = confusion_matrix(y_test, pred_test_os, labels=[1, 0])\n",
    "cm_svm_tuned_os = pd.DataFrame(data=cm_svm_tuned_os, index=['Akt 1', 'Akt 0'], columns=['Pred 1', 'Pred 0'])\n",
    "cm_svm_tuned_os"
   ]
  },
  {
   "cell_type": "code",
   "execution_count": 244,
   "metadata": {},
   "outputs": [
    {
     "name": "stdout",
     "output_type": "stream",
     "text": [
      "              precision    recall  f1-score   support\n",
      "\n",
      "           0       0.97      1.00      0.98      1549\n",
      "           1       0.97      0.82      0.89       260\n",
      "\n",
      "    accuracy                           0.97      1809\n",
      "   macro avg       0.97      0.91      0.94      1809\n",
      "weighted avg       0.97      0.97      0.97      1809\n",
      "\n"
     ]
    }
   ],
   "source": [
    "print(classification_report(y_test, pred_test_os))"
   ]
  },
  {
   "cell_type": "code",
   "execution_count": 245,
   "metadata": {},
   "outputs": [],
   "source": [
    "tp_svm_os = cm_svm_tuned_os['Pred 1'][0]\n",
    "tn_svm_os = cm_svm_tuned_os['Pred 0'][1]\n",
    "fp_svm_os = cm_svm_tuned_os['Pred 1'][1]\n",
    "fn_svm_os = cm_svm_tuned_os['Pred 0'][0]"
   ]
  },
  {
   "cell_type": "markdown",
   "metadata": {},
   "source": [
    "#### Smote without Scaling"
   ]
  },
  {
   "cell_type": "code",
   "execution_count": 246,
   "metadata": {},
   "outputs": [
    {
     "name": "stdout",
     "output_type": "stream",
     "text": [
      "Fitting 3 folds for each of 300 candidates, totalling 900 fits\n"
     ]
    },
    {
     "name": "stderr",
     "output_type": "stream",
     "text": [
      "[Parallel(n_jobs=-1)]: Using backend LokyBackend with 4 concurrent workers.\n",
      "[Parallel(n_jobs=-1)]: Done  42 tasks      | elapsed:   39.6s\n",
      "[Parallel(n_jobs=-1)]: Done 192 tasks      | elapsed:  2.9min\n",
      "[Parallel(n_jobs=-1)]: Done 442 tasks      | elapsed:  6.7min\n",
      "[Parallel(n_jobs=-1)]: Done 792 tasks      | elapsed: 11.4min\n",
      "[Parallel(n_jobs=-1)]: Done 900 out of 900 | elapsed: 12.6min finished\n"
     ]
    },
    {
     "data": {
      "text/plain": [
       "RandomizedSearchCV(cv=3, estimator=SVC(max_iter=1000), n_iter=300, n_jobs=-1,\n",
       "                   param_distributions={'C': array([1.00000e-05, 1.00200e-02, 2.00300e-02, 3.00400e-02, 4.00500e-02,\n",
       "       5.00600e-02, 6.00700e-02, 7.00800e-02, 8.00900e-02, 9.01000e-02,\n",
       "       1.00110e-01, 1.10120e-01, 1.20130e-01, 1.30140e-01, 1.40150e-01,\n",
       "       1.50160e-01, 1.60170e-01, 1.70180e-01, 1.80190e-01, 1.90200e-01,\n",
       "       2.00...\n",
       "       7.50001e+01, 7.60001e+01, 7.70001e+01, 7.80001e+01, 7.90001e+01,\n",
       "       8.00001e+01, 8.10001e+01, 8.20001e+01, 8.30001e+01, 8.40001e+01,\n",
       "       8.50001e+01, 8.60001e+01, 8.70001e+01, 8.80001e+01, 8.90001e+01,\n",
       "       9.00001e+01, 9.10001e+01, 9.20001e+01, 9.30001e+01, 9.40001e+01,\n",
       "       9.50001e+01, 9.60001e+01, 9.70001e+01, 9.80001e+01, 9.90001e+01]),\n",
       "                                        'kernel': ['linear', 'rbf']},\n",
       "                   scoring='recall', verbose=1)"
      ]
     },
     "execution_count": 246,
     "metadata": {},
     "output_type": "execute_result"
    }
   ],
   "source": [
    "svm_sm = RandomizedSearchCV(estimator = svm, param_distributions = param_svm, cv = 3, n_jobs = -1 , n_iter=300, verbose = 1, scoring = 'recall')\n",
    "svm_sm.fit(x_train_sm, y_train_sm)"
   ]
  },
  {
   "cell_type": "code",
   "execution_count": 247,
   "metadata": {},
   "outputs": [
    {
     "data": {
      "text/plain": [
       "SVC(C=0.13014, gamma=88.0001, max_iter=1000)"
      ]
     },
     "execution_count": 247,
     "metadata": {},
     "output_type": "execute_result"
    }
   ],
   "source": [
    "svm_sm_tuned = svm_sm.best_estimator_\n",
    "pred_train_sm = svm_sm_tuned.predict(x_train_sm)\n",
    "pred_test_sm = svm_sm_tuned.predict(x_test)\n",
    "svm_sm_tuned"
   ]
  },
  {
   "cell_type": "code",
   "execution_count": 248,
   "metadata": {},
   "outputs": [],
   "source": [
    "svm_acc_tuned_train_sm = accuracy_score(y_train_sm, pred_train_sm)\n",
    "svm_acc_tuned_test_sm = accuracy_score(y_test, pred_test_sm)\n",
    "svm_recall_tuned_train_sm = recall_score(y_train_sm, pred_train_sm)\n",
    "svm_recall_tuned_test_sm = recall_score(y_test, pred_test_sm)\n",
    "svm_prec_tuned_train_sm = precision_score(y_train_sm, pred_train_sm)\n",
    "svm_prec_tuned_test_sm = precision_score(y_test, pred_test_sm)\n",
    "svm_f1_tuned_train_sm = f1_score(y_train_sm, pred_train_sm)\n",
    "svm_f1_tuned_test_sm = f1_score(y_test, pred_test_sm)"
   ]
  },
  {
   "cell_type": "code",
   "execution_count": 249,
   "metadata": {},
   "outputs": [
    {
     "data": {
      "text/html": [
       "<div>\n",
       "<style scoped>\n",
       "    .dataframe tbody tr th:only-of-type {\n",
       "        vertical-align: middle;\n",
       "    }\n",
       "\n",
       "    .dataframe tbody tr th {\n",
       "        vertical-align: top;\n",
       "    }\n",
       "\n",
       "    .dataframe thead th {\n",
       "        text-align: right;\n",
       "    }\n",
       "</style>\n",
       "<table border=\"1\" class=\"dataframe\">\n",
       "  <thead>\n",
       "    <tr style=\"text-align: right;\">\n",
       "      <th></th>\n",
       "      <th>Pred 1</th>\n",
       "      <th>Pred 0</th>\n",
       "    </tr>\n",
       "  </thead>\n",
       "  <tbody>\n",
       "    <tr>\n",
       "      <th>Akt 1</th>\n",
       "      <td>260</td>\n",
       "      <td>0</td>\n",
       "    </tr>\n",
       "    <tr>\n",
       "      <th>Akt 0</th>\n",
       "      <td>1549</td>\n",
       "      <td>0</td>\n",
       "    </tr>\n",
       "  </tbody>\n",
       "</table>\n",
       "</div>"
      ],
      "text/plain": [
       "       Pred 1  Pred 0\n",
       "Akt 1     260       0\n",
       "Akt 0    1549       0"
      ]
     },
     "execution_count": 249,
     "metadata": {},
     "output_type": "execute_result"
    }
   ],
   "source": [
    "cm_svm_tuned_sm = confusion_matrix(y_test, pred_test_sm, labels=[1, 0])\n",
    "cm_svm_tuned_sm = pd.DataFrame(data=cm_svm_tuned_sm, index=['Akt 1', 'Akt 0'], columns=['Pred 1', 'Pred 0'])\n",
    "cm_svm_tuned_sm"
   ]
  },
  {
   "cell_type": "code",
   "execution_count": 250,
   "metadata": {},
   "outputs": [
    {
     "name": "stdout",
     "output_type": "stream",
     "text": [
      "              precision    recall  f1-score   support\n",
      "\n",
      "           0       0.00      0.00      0.00      1549\n",
      "           1       0.14      1.00      0.25       260\n",
      "\n",
      "    accuracy                           0.14      1809\n",
      "   macro avg       0.07      0.50      0.13      1809\n",
      "weighted avg       0.02      0.14      0.04      1809\n",
      "\n"
     ]
    }
   ],
   "source": [
    "print(classification_report(y_test, pred_test_sm))"
   ]
  },
  {
   "cell_type": "code",
   "execution_count": 251,
   "metadata": {},
   "outputs": [],
   "source": [
    "tp_svm_sm = cm_svm_tuned_sm['Pred 1'][0]\n",
    "tn_svm_sm = cm_svm_tuned_sm['Pred 0'][1]\n",
    "fp_svm_sm = cm_svm_tuned_sm['Pred 1'][1]\n",
    "fn_svm_sm = cm_svm_tuned_sm['Pred 0'][0]"
   ]
  },
  {
   "cell_type": "markdown",
   "metadata": {},
   "source": [
    "#### Random Over Sampling with Standard Scaler"
   ]
  },
  {
   "cell_type": "code",
   "execution_count": 252,
   "metadata": {},
   "outputs": [
    {
     "name": "stdout",
     "output_type": "stream",
     "text": [
      "Fitting 3 folds for each of 300 candidates, totalling 900 fits\n"
     ]
    },
    {
     "name": "stderr",
     "output_type": "stream",
     "text": [
      "[Parallel(n_jobs=-1)]: Using backend LokyBackend with 4 concurrent workers.\n",
      "[Parallel(n_jobs=-1)]: Done  42 tasks      | elapsed:   28.2s\n",
      "[Parallel(n_jobs=-1)]: Done 192 tasks      | elapsed:  2.6min\n",
      "[Parallel(n_jobs=-1)]: Done 442 tasks      | elapsed:  6.0min\n",
      "[Parallel(n_jobs=-1)]: Done 792 tasks      | elapsed: 11.0min\n",
      "[Parallel(n_jobs=-1)]: Done 900 out of 900 | elapsed: 12.3min finished\n"
     ]
    },
    {
     "data": {
      "text/plain": [
       "RandomizedSearchCV(cv=3, estimator=SVC(max_iter=1000), n_iter=300, n_jobs=-1,\n",
       "                   param_distributions={'C': array([1.00000e-05, 1.00200e-02, 2.00300e-02, 3.00400e-02, 4.00500e-02,\n",
       "       5.00600e-02, 6.00700e-02, 7.00800e-02, 8.00900e-02, 9.01000e-02,\n",
       "       1.00110e-01, 1.10120e-01, 1.20130e-01, 1.30140e-01, 1.40150e-01,\n",
       "       1.50160e-01, 1.60170e-01, 1.70180e-01, 1.80190e-01, 1.90200e-01,\n",
       "       2.00...\n",
       "       7.50001e+01, 7.60001e+01, 7.70001e+01, 7.80001e+01, 7.90001e+01,\n",
       "       8.00001e+01, 8.10001e+01, 8.20001e+01, 8.30001e+01, 8.40001e+01,\n",
       "       8.50001e+01, 8.60001e+01, 8.70001e+01, 8.80001e+01, 8.90001e+01,\n",
       "       9.00001e+01, 9.10001e+01, 9.20001e+01, 9.30001e+01, 9.40001e+01,\n",
       "       9.50001e+01, 9.60001e+01, 9.70001e+01, 9.80001e+01, 9.90001e+01]),\n",
       "                                        'kernel': ['linear', 'rbf']},\n",
       "                   scoring='recall', verbose=1)"
      ]
     },
     "execution_count": 252,
     "metadata": {},
     "output_type": "execute_result"
    }
   ],
   "source": [
    "svm_os_std = RandomizedSearchCV(estimator = svm, param_distributions = param_svm, cv = 3, n_jobs = -1 , n_iter=300, verbose = 1, scoring = 'recall')\n",
    "x_train_os[columns_continuous] = std_scale.fit_transform(x_train_os[columns_continuous])\n",
    "svm_os_std.fit(x_train_os, y_train_os)"
   ]
  },
  {
   "cell_type": "code",
   "execution_count": 253,
   "metadata": {},
   "outputs": [
    {
     "data": {
      "text/plain": [
       "SVC(C=7.41742, gamma=1.0001, max_iter=1000)"
      ]
     },
     "execution_count": 253,
     "metadata": {},
     "output_type": "execute_result"
    }
   ],
   "source": [
    "svm_os_std_tuned = svm_os_std.best_estimator_\n",
    "pred_train_os_std = svm_os_std_tuned.predict(x_train_os)\n",
    "x_test[columns_continuous] = std_scale.fit_transform(x_test[columns_continuous])\n",
    "pred_test_os_std = svm_os_std_tuned.predict(x_test)\n",
    "svm_os_std_tuned"
   ]
  },
  {
   "cell_type": "code",
   "execution_count": 254,
   "metadata": {},
   "outputs": [],
   "source": [
    "svm_acc_tuned_train_os_std = accuracy_score(y_train_os, pred_train_os_std)\n",
    "svm_acc_tuned_test_os_std = accuracy_score(y_test, pred_test_os_std)\n",
    "svm_recall_tuned_train_os_std = recall_score(y_train_os, pred_train_os_std)\n",
    "svm_recall_tuned_test_os_std = recall_score(y_test, pred_test_os_std)\n",
    "svm_prec_tuned_train_os_std = precision_score(y_train_os, pred_train_os_std)\n",
    "svm_prec_tuned_test_os_std = precision_score(y_test, pred_test_os_std)\n",
    "svm_f1_tuned_train_os_std = f1_score(y_train_os, pred_train_os_std)\n",
    "svm_f1_tuned_test_os_std = f1_score(y_test, pred_test_os_std)"
   ]
  },
  {
   "cell_type": "code",
   "execution_count": 255,
   "metadata": {},
   "outputs": [
    {
     "data": {
      "text/html": [
       "<div>\n",
       "<style scoped>\n",
       "    .dataframe tbody tr th:only-of-type {\n",
       "        vertical-align: middle;\n",
       "    }\n",
       "\n",
       "    .dataframe tbody tr th {\n",
       "        vertical-align: top;\n",
       "    }\n",
       "\n",
       "    .dataframe thead th {\n",
       "        text-align: right;\n",
       "    }\n",
       "</style>\n",
       "<table border=\"1\" class=\"dataframe\">\n",
       "  <thead>\n",
       "    <tr style=\"text-align: right;\">\n",
       "      <th></th>\n",
       "      <th>Pred 1</th>\n",
       "      <th>Pred 0</th>\n",
       "    </tr>\n",
       "  </thead>\n",
       "  <tbody>\n",
       "    <tr>\n",
       "      <th>Akt 1</th>\n",
       "      <td>213</td>\n",
       "      <td>47</td>\n",
       "    </tr>\n",
       "    <tr>\n",
       "      <th>Akt 0</th>\n",
       "      <td>7</td>\n",
       "      <td>1542</td>\n",
       "    </tr>\n",
       "  </tbody>\n",
       "</table>\n",
       "</div>"
      ],
      "text/plain": [
       "       Pred 1  Pred 0\n",
       "Akt 1     213      47\n",
       "Akt 0       7    1542"
      ]
     },
     "execution_count": 255,
     "metadata": {},
     "output_type": "execute_result"
    }
   ],
   "source": [
    "cm_svm_tuned_os_std = confusion_matrix(y_test, pred_test_os_std, labels=[1, 0])\n",
    "cm_svm_tuned_os_std = pd.DataFrame(data=cm_svm_tuned_os_std, index=['Akt 1', 'Akt 0'], columns=['Pred 1', 'Pred 0'])\n",
    "cm_svm_tuned_os_std"
   ]
  },
  {
   "cell_type": "code",
   "execution_count": 256,
   "metadata": {},
   "outputs": [
    {
     "name": "stdout",
     "output_type": "stream",
     "text": [
      "              precision    recall  f1-score   support\n",
      "\n",
      "           0       0.97      1.00      0.98      1549\n",
      "           1       0.97      0.82      0.89       260\n",
      "\n",
      "    accuracy                           0.97      1809\n",
      "   macro avg       0.97      0.91      0.94      1809\n",
      "weighted avg       0.97      0.97      0.97      1809\n",
      "\n"
     ]
    }
   ],
   "source": [
    "print(classification_report(y_test, pred_test_os_std))"
   ]
  },
  {
   "cell_type": "code",
   "execution_count": 257,
   "metadata": {},
   "outputs": [],
   "source": [
    "tp_svm_os_std = cm_svm_tuned_os_std['Pred 1'][0]\n",
    "tn_svm_os_std = cm_svm_tuned_os_std['Pred 0'][1]\n",
    "fp_svm_os_std = cm_svm_tuned_os_std['Pred 1'][1]\n",
    "fn_svm_os_std = cm_svm_tuned_os_std['Pred 0'][0]"
   ]
  },
  {
   "cell_type": "markdown",
   "metadata": {},
   "source": [
    "#### Random Over Sampling with MinMax Scaler"
   ]
  },
  {
   "cell_type": "code",
   "execution_count": 258,
   "metadata": {},
   "outputs": [
    {
     "name": "stdout",
     "output_type": "stream",
     "text": [
      "Fitting 3 folds for each of 300 candidates, totalling 900 fits\n"
     ]
    },
    {
     "name": "stderr",
     "output_type": "stream",
     "text": [
      "[Parallel(n_jobs=-1)]: Using backend LokyBackend with 4 concurrent workers.\n",
      "[Parallel(n_jobs=-1)]: Done  42 tasks      | elapsed:   35.1s\n",
      "[Parallel(n_jobs=-1)]: Done 192 tasks      | elapsed:  2.8min\n",
      "[Parallel(n_jobs=-1)]: Done 442 tasks      | elapsed:  5.9min\n",
      "[Parallel(n_jobs=-1)]: Done 792 tasks      | elapsed: 10.6min\n",
      "[Parallel(n_jobs=-1)]: Done 900 out of 900 | elapsed: 12.1min finished\n"
     ]
    },
    {
     "data": {
      "text/plain": [
       "RandomizedSearchCV(cv=3, estimator=SVC(max_iter=1000), n_iter=300, n_jobs=-1,\n",
       "                   param_distributions={'C': array([1.00000e-05, 1.00200e-02, 2.00300e-02, 3.00400e-02, 4.00500e-02,\n",
       "       5.00600e-02, 6.00700e-02, 7.00800e-02, 8.00900e-02, 9.01000e-02,\n",
       "       1.00110e-01, 1.10120e-01, 1.20130e-01, 1.30140e-01, 1.40150e-01,\n",
       "       1.50160e-01, 1.60170e-01, 1.70180e-01, 1.80190e-01, 1.90200e-01,\n",
       "       2.00...\n",
       "       7.50001e+01, 7.60001e+01, 7.70001e+01, 7.80001e+01, 7.90001e+01,\n",
       "       8.00001e+01, 8.10001e+01, 8.20001e+01, 8.30001e+01, 8.40001e+01,\n",
       "       8.50001e+01, 8.60001e+01, 8.70001e+01, 8.80001e+01, 8.90001e+01,\n",
       "       9.00001e+01, 9.10001e+01, 9.20001e+01, 9.30001e+01, 9.40001e+01,\n",
       "       9.50001e+01, 9.60001e+01, 9.70001e+01, 9.80001e+01, 9.90001e+01]),\n",
       "                                        'kernel': ['linear', 'rbf']},\n",
       "                   scoring='recall', verbose=1)"
      ]
     },
     "execution_count": 258,
     "metadata": {},
     "output_type": "execute_result"
    }
   ],
   "source": [
    "svm_os_mm = RandomizedSearchCV(estimator = svm, param_distributions = param_svm, cv = 3, n_jobs = -1 , n_iter=300, verbose = 1, scoring = 'recall')\n",
    "x_train_os[columns_continuous] = mm_scale.fit_transform(x_train_os[columns_continuous])\n",
    "svm_os_mm.fit(x_train_os, y_train_os)"
   ]
  },
  {
   "cell_type": "code",
   "execution_count": 259,
   "metadata": {},
   "outputs": [
    {
     "data": {
      "text/plain": [
       "SVC(C=9.04905, gamma=1.0001, max_iter=1000)"
      ]
     },
     "execution_count": 259,
     "metadata": {},
     "output_type": "execute_result"
    }
   ],
   "source": [
    "svm_os_mm_tuned = svm_os_mm.best_estimator_\n",
    "pred_train_os_mm = svm_os_mm_tuned.predict(x_train_os)\n",
    "x_test[columns_continuous] = mm_scale.fit_transform(x_test[columns_continuous])\n",
    "pred_test_os_mm = svm_os_mm_tuned.predict(x_test)\n",
    "svm_os_mm_tuned"
   ]
  },
  {
   "cell_type": "code",
   "execution_count": 260,
   "metadata": {},
   "outputs": [],
   "source": [
    "svm_acc_tuned_train_os_mm = accuracy_score(y_train_os, pred_train_os_mm)\n",
    "svm_acc_tuned_test_os_mm = accuracy_score(y_test, pred_test_os_mm)\n",
    "svm_recall_tuned_train_os_mm = recall_score(y_train_os, pred_train_os_mm)\n",
    "svm_recall_tuned_test_os_mm = recall_score(y_test, pred_test_os_mm)\n",
    "svm_prec_tuned_train_os_mm = precision_score(y_train_os, pred_train_os_mm)\n",
    "svm_prec_tuned_test_os_mm = precision_score(y_test, pred_test_os_mm)\n",
    "svm_f1_tuned_train_os_mm = f1_score(y_train_os, pred_train_os_mm)\n",
    "svm_f1_tuned_test_os_mm = f1_score(y_test, pred_test_os_mm)"
   ]
  },
  {
   "cell_type": "code",
   "execution_count": 261,
   "metadata": {},
   "outputs": [
    {
     "data": {
      "text/html": [
       "<div>\n",
       "<style scoped>\n",
       "    .dataframe tbody tr th:only-of-type {\n",
       "        vertical-align: middle;\n",
       "    }\n",
       "\n",
       "    .dataframe tbody tr th {\n",
       "        vertical-align: top;\n",
       "    }\n",
       "\n",
       "    .dataframe thead th {\n",
       "        text-align: right;\n",
       "    }\n",
       "</style>\n",
       "<table border=\"1\" class=\"dataframe\">\n",
       "  <thead>\n",
       "    <tr style=\"text-align: right;\">\n",
       "      <th></th>\n",
       "      <th>Pred 1</th>\n",
       "      <th>Pred 0</th>\n",
       "    </tr>\n",
       "  </thead>\n",
       "  <tbody>\n",
       "    <tr>\n",
       "      <th>Akt 1</th>\n",
       "      <td>188</td>\n",
       "      <td>72</td>\n",
       "    </tr>\n",
       "    <tr>\n",
       "      <th>Akt 0</th>\n",
       "      <td>35</td>\n",
       "      <td>1514</td>\n",
       "    </tr>\n",
       "  </tbody>\n",
       "</table>\n",
       "</div>"
      ],
      "text/plain": [
       "       Pred 1  Pred 0\n",
       "Akt 1     188      72\n",
       "Akt 0      35    1514"
      ]
     },
     "execution_count": 261,
     "metadata": {},
     "output_type": "execute_result"
    }
   ],
   "source": [
    "cm_svm_tuned_os_mm = confusion_matrix(y_test, pred_test_os_mm, labels=[1, 0])\n",
    "cm_svm_tuned_os_mm = pd.DataFrame(data=cm_svm_tuned_os_mm, index=['Akt 1', 'Akt 0'], columns=['Pred 1', 'Pred 0'])\n",
    "cm_svm_tuned_os_mm"
   ]
  },
  {
   "cell_type": "code",
   "execution_count": 262,
   "metadata": {},
   "outputs": [
    {
     "name": "stdout",
     "output_type": "stream",
     "text": [
      "              precision    recall  f1-score   support\n",
      "\n",
      "           0       0.95      0.98      0.97      1549\n",
      "           1       0.84      0.72      0.78       260\n",
      "\n",
      "    accuracy                           0.94      1809\n",
      "   macro avg       0.90      0.85      0.87      1809\n",
      "weighted avg       0.94      0.94      0.94      1809\n",
      "\n"
     ]
    }
   ],
   "source": [
    "print(classification_report(y_test, pred_test_os_mm))"
   ]
  },
  {
   "cell_type": "code",
   "execution_count": 263,
   "metadata": {},
   "outputs": [],
   "source": [
    "tp_svm_os_mm = cm_svm_tuned_os_mm['Pred 1'][0]\n",
    "tn_svm_os_mm = cm_svm_tuned_os_mm['Pred 0'][1]\n",
    "fp_svm_os_mm = cm_svm_tuned_os_mm['Pred 1'][1]\n",
    "fn_svm_os_mm = cm_svm_tuned_os_mm['Pred 0'][0]"
   ]
  },
  {
   "cell_type": "markdown",
   "metadata": {},
   "source": [
    "#### Random Over Sampling with Robust Scaler"
   ]
  },
  {
   "cell_type": "code",
   "execution_count": 264,
   "metadata": {},
   "outputs": [
    {
     "name": "stdout",
     "output_type": "stream",
     "text": [
      "Fitting 3 folds for each of 300 candidates, totalling 900 fits\n"
     ]
    },
    {
     "name": "stderr",
     "output_type": "stream",
     "text": [
      "[Parallel(n_jobs=-1)]: Using backend LokyBackend with 4 concurrent workers.\n",
      "[Parallel(n_jobs=-1)]: Done  42 tasks      | elapsed:   39.6s\n",
      "[Parallel(n_jobs=-1)]: Done 192 tasks      | elapsed:  2.8min\n",
      "[Parallel(n_jobs=-1)]: Done 442 tasks      | elapsed:  7.0min\n",
      "[Parallel(n_jobs=-1)]: Done 792 tasks      | elapsed: 12.7min\n",
      "[Parallel(n_jobs=-1)]: Done 900 out of 900 | elapsed: 14.2min finished\n"
     ]
    },
    {
     "data": {
      "text/plain": [
       "RandomizedSearchCV(cv=3, estimator=SVC(max_iter=1000), n_iter=300, n_jobs=-1,\n",
       "                   param_distributions={'C': array([1.00000e-05, 1.00200e-02, 2.00300e-02, 3.00400e-02, 4.00500e-02,\n",
       "       5.00600e-02, 6.00700e-02, 7.00800e-02, 8.00900e-02, 9.01000e-02,\n",
       "       1.00110e-01, 1.10120e-01, 1.20130e-01, 1.30140e-01, 1.40150e-01,\n",
       "       1.50160e-01, 1.60170e-01, 1.70180e-01, 1.80190e-01, 1.90200e-01,\n",
       "       2.00...\n",
       "       7.50001e+01, 7.60001e+01, 7.70001e+01, 7.80001e+01, 7.90001e+01,\n",
       "       8.00001e+01, 8.10001e+01, 8.20001e+01, 8.30001e+01, 8.40001e+01,\n",
       "       8.50001e+01, 8.60001e+01, 8.70001e+01, 8.80001e+01, 8.90001e+01,\n",
       "       9.00001e+01, 9.10001e+01, 9.20001e+01, 9.30001e+01, 9.40001e+01,\n",
       "       9.50001e+01, 9.60001e+01, 9.70001e+01, 9.80001e+01, 9.90001e+01]),\n",
       "                                        'kernel': ['linear', 'rbf']},\n",
       "                   scoring='recall', verbose=1)"
      ]
     },
     "execution_count": 264,
     "metadata": {},
     "output_type": "execute_result"
    }
   ],
   "source": [
    "svm_os_rb = RandomizedSearchCV(estimator = svm, param_distributions = param_svm, cv = 3, n_jobs = -1 , n_iter=300, verbose = 1, scoring = 'recall')\n",
    "x_train_os[columns_continuous] = rb_scale.fit_transform(x_train_os[columns_continuous])\n",
    "svm_os_rb.fit(x_train_os, y_train_os)"
   ]
  },
  {
   "cell_type": "code",
   "execution_count": 265,
   "metadata": {},
   "outputs": [
    {
     "data": {
      "text/plain": [
       "SVC(C=4.3743799999999995, gamma=1.0001, max_iter=1000)"
      ]
     },
     "execution_count": 265,
     "metadata": {},
     "output_type": "execute_result"
    }
   ],
   "source": [
    "svm_os_rb_tuned = svm_os_rb.best_estimator_\n",
    "pred_train_os_rb = svm_os_rb_tuned.predict(x_train_os)\n",
    "x_test[columns_continuous] = rb_scale.fit_transform(x_test[columns_continuous])\n",
    "pred_test_os_rb = svm_os_rb_tuned.predict(x_test)\n",
    "svm_os_rb_tuned"
   ]
  },
  {
   "cell_type": "code",
   "execution_count": 266,
   "metadata": {},
   "outputs": [],
   "source": [
    "svm_acc_tuned_train_os_rb = accuracy_score(y_train_os, pred_train_os_rb)\n",
    "svm_acc_tuned_test_os_rb = accuracy_score(y_test, pred_test_os_rb)\n",
    "svm_recall_tuned_train_os_rb = recall_score(y_train_os, pred_train_os_rb)\n",
    "svm_recall_tuned_test_os_rb = recall_score(y_test, pred_test_os_rb)\n",
    "svm_prec_tuned_train_os_rb = precision_score(y_train_os, pred_train_os_rb)\n",
    "svm_prec_tuned_test_os_rb = precision_score(y_test, pred_test_os_rb)\n",
    "svm_f1_tuned_train_os_rb = f1_score(y_train_os, pred_train_os_rb)\n",
    "svm_f1_tuned_test_os_rb = f1_score(y_test, pred_test_os_rb)"
   ]
  },
  {
   "cell_type": "code",
   "execution_count": 267,
   "metadata": {},
   "outputs": [
    {
     "data": {
      "text/html": [
       "<div>\n",
       "<style scoped>\n",
       "    .dataframe tbody tr th:only-of-type {\n",
       "        vertical-align: middle;\n",
       "    }\n",
       "\n",
       "    .dataframe tbody tr th {\n",
       "        vertical-align: top;\n",
       "    }\n",
       "\n",
       "    .dataframe thead th {\n",
       "        text-align: right;\n",
       "    }\n",
       "</style>\n",
       "<table border=\"1\" class=\"dataframe\">\n",
       "  <thead>\n",
       "    <tr style=\"text-align: right;\">\n",
       "      <th></th>\n",
       "      <th>Pred 1</th>\n",
       "      <th>Pred 0</th>\n",
       "    </tr>\n",
       "  </thead>\n",
       "  <tbody>\n",
       "    <tr>\n",
       "      <th>Akt 1</th>\n",
       "      <td>210</td>\n",
       "      <td>50</td>\n",
       "    </tr>\n",
       "    <tr>\n",
       "      <th>Akt 0</th>\n",
       "      <td>10</td>\n",
       "      <td>1539</td>\n",
       "    </tr>\n",
       "  </tbody>\n",
       "</table>\n",
       "</div>"
      ],
      "text/plain": [
       "       Pred 1  Pred 0\n",
       "Akt 1     210      50\n",
       "Akt 0      10    1539"
      ]
     },
     "execution_count": 267,
     "metadata": {},
     "output_type": "execute_result"
    }
   ],
   "source": [
    "cm_svm_tuned_os_rb = confusion_matrix(y_test, pred_test_os_rb, labels=[1, 0])\n",
    "cm_svm_tuned_os_rb = pd.DataFrame(data=cm_svm_tuned_os_rb, index=['Akt 1', 'Akt 0'], columns=['Pred 1', 'Pred 0'])\n",
    "cm_svm_tuned_os_rb"
   ]
  },
  {
   "cell_type": "code",
   "execution_count": 268,
   "metadata": {},
   "outputs": [
    {
     "name": "stdout",
     "output_type": "stream",
     "text": [
      "              precision    recall  f1-score   support\n",
      "\n",
      "           0       0.97      0.99      0.98      1549\n",
      "           1       0.95      0.81      0.88       260\n",
      "\n",
      "    accuracy                           0.97      1809\n",
      "   macro avg       0.96      0.90      0.93      1809\n",
      "weighted avg       0.97      0.97      0.97      1809\n",
      "\n"
     ]
    }
   ],
   "source": [
    "print(classification_report(y_test, pred_test_os_rb))"
   ]
  },
  {
   "cell_type": "code",
   "execution_count": 269,
   "metadata": {},
   "outputs": [],
   "source": [
    "tp_svm_os_rb = cm_svm_tuned_os_rb['Pred 1'][0]\n",
    "tn_svm_os_rb = cm_svm_tuned_os_rb['Pred 0'][1]\n",
    "fp_svm_os_rb = cm_svm_tuned_os_rb['Pred 1'][1]\n",
    "fn_svm_os_rb = cm_svm_tuned_os_rb['Pred 0'][0]"
   ]
  },
  {
   "cell_type": "markdown",
   "metadata": {},
   "source": [
    "#### Smote with Standard Scaler"
   ]
  },
  {
   "cell_type": "code",
   "execution_count": 270,
   "metadata": {},
   "outputs": [
    {
     "name": "stdout",
     "output_type": "stream",
     "text": [
      "Fitting 3 folds for each of 300 candidates, totalling 900 fits\n"
     ]
    },
    {
     "name": "stderr",
     "output_type": "stream",
     "text": [
      "[Parallel(n_jobs=-1)]: Using backend LokyBackend with 4 concurrent workers.\n",
      "[Parallel(n_jobs=-1)]: Done  42 tasks      | elapsed:   34.2s\n",
      "[Parallel(n_jobs=-1)]: Done 192 tasks      | elapsed:  2.9min\n",
      "[Parallel(n_jobs=-1)]: Done 442 tasks      | elapsed:  6.4min\n",
      "[Parallel(n_jobs=-1)]: Done 792 tasks      | elapsed: 10.7min\n",
      "[Parallel(n_jobs=-1)]: Done 900 out of 900 | elapsed: 12.2min finished\n"
     ]
    },
    {
     "data": {
      "text/plain": [
       "RandomizedSearchCV(cv=3, estimator=SVC(max_iter=1000), n_iter=300, n_jobs=-1,\n",
       "                   param_distributions={'C': array([1.00000e-05, 1.00200e-02, 2.00300e-02, 3.00400e-02, 4.00500e-02,\n",
       "       5.00600e-02, 6.00700e-02, 7.00800e-02, 8.00900e-02, 9.01000e-02,\n",
       "       1.00110e-01, 1.10120e-01, 1.20130e-01, 1.30140e-01, 1.40150e-01,\n",
       "       1.50160e-01, 1.60170e-01, 1.70180e-01, 1.80190e-01, 1.90200e-01,\n",
       "       2.00...\n",
       "       7.50001e+01, 7.60001e+01, 7.70001e+01, 7.80001e+01, 7.90001e+01,\n",
       "       8.00001e+01, 8.10001e+01, 8.20001e+01, 8.30001e+01, 8.40001e+01,\n",
       "       8.50001e+01, 8.60001e+01, 8.70001e+01, 8.80001e+01, 8.90001e+01,\n",
       "       9.00001e+01, 9.10001e+01, 9.20001e+01, 9.30001e+01, 9.40001e+01,\n",
       "       9.50001e+01, 9.60001e+01, 9.70001e+01, 9.80001e+01, 9.90001e+01]),\n",
       "                                        'kernel': ['linear', 'rbf']},\n",
       "                   scoring='recall', verbose=1)"
      ]
     },
     "execution_count": 270,
     "metadata": {},
     "output_type": "execute_result"
    }
   ],
   "source": [
    "svm_sm_std = RandomizedSearchCV(estimator = svm, param_distributions = param_svm, cv = 3, n_jobs = -1 , n_iter=300, verbose = 1, scoring = 'recall')\n",
    "x_train_sm[columns_continuous] = std_scale.fit_transform(x_train_sm[columns_continuous])\n",
    "svm_sm_std.fit(x_train_sm, y_train_sm)"
   ]
  },
  {
   "cell_type": "code",
   "execution_count": 271,
   "metadata": {},
   "outputs": [
    {
     "data": {
      "text/plain": [
       "SVC(C=0.72073, gamma=45.0001, max_iter=1000)"
      ]
     },
     "execution_count": 271,
     "metadata": {},
     "output_type": "execute_result"
    }
   ],
   "source": [
    "svm_sm_std_tuned = svm_sm_std.best_estimator_\n",
    "pred_train_sm_std = svm_sm_std_tuned.predict(x_train_sm)\n",
    "x_test[columns_continuous] = std_scale.fit_transform(x_test[columns_continuous])\n",
    "pred_test_sm_std = svm_sm_std_tuned.predict(x_test)\n",
    "svm_sm_std_tuned"
   ]
  },
  {
   "cell_type": "code",
   "execution_count": 272,
   "metadata": {},
   "outputs": [],
   "source": [
    "svm_acc_tuned_train_sm_std = accuracy_score(y_train_sm, pred_train_sm_std)\n",
    "svm_acc_tuned_test_sm_std = accuracy_score(y_test, pred_test_sm_std)\n",
    "svm_recall_tuned_train_sm_std = recall_score(y_train_sm, pred_train_sm_std)\n",
    "svm_recall_tuned_test_sm_std = recall_score(y_test, pred_test_sm_std)\n",
    "svm_prec_tuned_train_sm_std = precision_score(y_train_sm, pred_train_sm_std)\n",
    "svm_prec_tuned_test_sm_std = precision_score(y_test, pred_test_sm_std)\n",
    "svm_f1_tuned_train_sm_std = f1_score(y_train_sm, pred_train_sm_std)\n",
    "svm_f1_tuned_test_sm_std = f1_score(y_test, pred_test_sm_std)"
   ]
  },
  {
   "cell_type": "code",
   "execution_count": 273,
   "metadata": {},
   "outputs": [
    {
     "data": {
      "text/html": [
       "<div>\n",
       "<style scoped>\n",
       "    .dataframe tbody tr th:only-of-type {\n",
       "        vertical-align: middle;\n",
       "    }\n",
       "\n",
       "    .dataframe tbody tr th {\n",
       "        vertical-align: top;\n",
       "    }\n",
       "\n",
       "    .dataframe thead th {\n",
       "        text-align: right;\n",
       "    }\n",
       "</style>\n",
       "<table border=\"1\" class=\"dataframe\">\n",
       "  <thead>\n",
       "    <tr style=\"text-align: right;\">\n",
       "      <th></th>\n",
       "      <th>Pred 1</th>\n",
       "      <th>Pred 0</th>\n",
       "    </tr>\n",
       "  </thead>\n",
       "  <tbody>\n",
       "    <tr>\n",
       "      <th>Akt 1</th>\n",
       "      <td>257</td>\n",
       "      <td>3</td>\n",
       "    </tr>\n",
       "    <tr>\n",
       "      <th>Akt 0</th>\n",
       "      <td>550</td>\n",
       "      <td>999</td>\n",
       "    </tr>\n",
       "  </tbody>\n",
       "</table>\n",
       "</div>"
      ],
      "text/plain": [
       "       Pred 1  Pred 0\n",
       "Akt 1     257       3\n",
       "Akt 0     550     999"
      ]
     },
     "execution_count": 273,
     "metadata": {},
     "output_type": "execute_result"
    }
   ],
   "source": [
    "cm_svm_tuned_sm_std = confusion_matrix(y_test, pred_test_sm_std, labels=[1, 0])\n",
    "cm_svm_tuned_sm_std = pd.DataFrame(data=cm_svm_tuned_sm_std, index=['Akt 1', 'Akt 0'], columns=['Pred 1', 'Pred 0'])\n",
    "cm_svm_tuned_sm_std"
   ]
  },
  {
   "cell_type": "code",
   "execution_count": 274,
   "metadata": {},
   "outputs": [
    {
     "name": "stdout",
     "output_type": "stream",
     "text": [
      "              precision    recall  f1-score   support\n",
      "\n",
      "           0       1.00      0.64      0.78      1549\n",
      "           1       0.32      0.99      0.48       260\n",
      "\n",
      "    accuracy                           0.69      1809\n",
      "   macro avg       0.66      0.82      0.63      1809\n",
      "weighted avg       0.90      0.69      0.74      1809\n",
      "\n"
     ]
    }
   ],
   "source": [
    "print(classification_report(y_test, pred_test_sm_std))"
   ]
  },
  {
   "cell_type": "code",
   "execution_count": 275,
   "metadata": {},
   "outputs": [],
   "source": [
    "tp_svm_sm_std = cm_svm_tuned_sm_std['Pred 1'][0]\n",
    "tn_svm_sm_std = cm_svm_tuned_sm_std['Pred 0'][1]\n",
    "fp_svm_sm_std = cm_svm_tuned_sm_std['Pred 1'][1]\n",
    "fn_svm_sm_std = cm_svm_tuned_sm_std['Pred 0'][0]"
   ]
  },
  {
   "cell_type": "markdown",
   "metadata": {},
   "source": [
    "#### Smote with MinMax Scaler"
   ]
  },
  {
   "cell_type": "code",
   "execution_count": 276,
   "metadata": {},
   "outputs": [
    {
     "name": "stdout",
     "output_type": "stream",
     "text": [
      "Fitting 3 folds for each of 300 candidates, totalling 900 fits\n"
     ]
    },
    {
     "name": "stderr",
     "output_type": "stream",
     "text": [
      "[Parallel(n_jobs=-1)]: Using backend LokyBackend with 4 concurrent workers.\n",
      "[Parallel(n_jobs=-1)]: Done  42 tasks      | elapsed:   38.6s\n",
      "[Parallel(n_jobs=-1)]: Done 192 tasks      | elapsed:  2.8min\n",
      "[Parallel(n_jobs=-1)]: Done 442 tasks      | elapsed:  6.2min\n",
      "[Parallel(n_jobs=-1)]: Done 792 tasks      | elapsed: 10.9min\n",
      "[Parallel(n_jobs=-1)]: Done 900 out of 900 | elapsed: 12.5min finished\n"
     ]
    },
    {
     "data": {
      "text/plain": [
       "RandomizedSearchCV(cv=3, estimator=SVC(max_iter=1000), n_iter=300, n_jobs=-1,\n",
       "                   param_distributions={'C': array([1.00000e-05, 1.00200e-02, 2.00300e-02, 3.00400e-02, 4.00500e-02,\n",
       "       5.00600e-02, 6.00700e-02, 7.00800e-02, 8.00900e-02, 9.01000e-02,\n",
       "       1.00110e-01, 1.10120e-01, 1.20130e-01, 1.30140e-01, 1.40150e-01,\n",
       "       1.50160e-01, 1.60170e-01, 1.70180e-01, 1.80190e-01, 1.90200e-01,\n",
       "       2.00...\n",
       "       7.50001e+01, 7.60001e+01, 7.70001e+01, 7.80001e+01, 7.90001e+01,\n",
       "       8.00001e+01, 8.10001e+01, 8.20001e+01, 8.30001e+01, 8.40001e+01,\n",
       "       8.50001e+01, 8.60001e+01, 8.70001e+01, 8.80001e+01, 8.90001e+01,\n",
       "       9.00001e+01, 9.10001e+01, 9.20001e+01, 9.30001e+01, 9.40001e+01,\n",
       "       9.50001e+01, 9.60001e+01, 9.70001e+01, 9.80001e+01, 9.90001e+01]),\n",
       "                                        'kernel': ['linear', 'rbf']},\n",
       "                   scoring='recall', verbose=1)"
      ]
     },
     "execution_count": 276,
     "metadata": {},
     "output_type": "execute_result"
    }
   ],
   "source": [
    "svm_sm_mm = RandomizedSearchCV(estimator = svm, param_distributions = param_svm, cv = 3, n_jobs = -1 , n_iter=300, verbose = 1, scoring = 'recall')\n",
    "x_train_sm[columns_continuous] = mm_scale.fit_transform(x_train_sm[columns_continuous])\n",
    "svm_sm_mm.fit(x_train_sm, y_train_sm)"
   ]
  },
  {
   "cell_type": "code",
   "execution_count": 277,
   "metadata": {},
   "outputs": [
    {
     "data": {
      "text/plain": [
       "SVC(C=1.3213300000000001, gamma=85.0001, max_iter=1000)"
      ]
     },
     "execution_count": 277,
     "metadata": {},
     "output_type": "execute_result"
    }
   ],
   "source": [
    "svm_sm_mm_tuned = svm_sm_mm.best_estimator_\n",
    "pred_train_sm_mm = svm_sm_mm_tuned.predict(x_train_sm)\n",
    "x_test[columns_continuous] = mm_scale.fit_transform(x_test[columns_continuous])\n",
    "pred_test_sm_mm = svm_sm_mm_tuned.predict(x_test)\n",
    "svm_sm_mm_tuned"
   ]
  },
  {
   "cell_type": "code",
   "execution_count": 278,
   "metadata": {},
   "outputs": [],
   "source": [
    "svm_acc_tuned_train_sm_mm = accuracy_score(y_train_sm, pred_train_sm_mm)\n",
    "svm_acc_tuned_test_sm_mm = accuracy_score(y_test, pred_test_sm_mm)\n",
    "svm_recall_tuned_train_sm_mm = recall_score(y_train_sm, pred_train_sm_mm)\n",
    "svm_recall_tuned_test_sm_mm = recall_score(y_test, pred_test_sm_mm)\n",
    "svm_prec_tuned_train_sm_mm = precision_score(y_train_sm, pred_train_sm_mm)\n",
    "svm_prec_tuned_test_sm_mm = precision_score(y_test, pred_test_sm_mm)\n",
    "svm_f1_tuned_train_sm_mm = f1_score(y_train_sm, pred_train_sm_mm)\n",
    "svm_f1_tuned_test_sm_mm = f1_score(y_test, pred_test_sm_mm)"
   ]
  },
  {
   "cell_type": "code",
   "execution_count": 279,
   "metadata": {},
   "outputs": [
    {
     "data": {
      "text/html": [
       "<div>\n",
       "<style scoped>\n",
       "    .dataframe tbody tr th:only-of-type {\n",
       "        vertical-align: middle;\n",
       "    }\n",
       "\n",
       "    .dataframe tbody tr th {\n",
       "        vertical-align: top;\n",
       "    }\n",
       "\n",
       "    .dataframe thead th {\n",
       "        text-align: right;\n",
       "    }\n",
       "</style>\n",
       "<table border=\"1\" class=\"dataframe\">\n",
       "  <thead>\n",
       "    <tr style=\"text-align: right;\">\n",
       "      <th></th>\n",
       "      <th>Pred 1</th>\n",
       "      <th>Pred 0</th>\n",
       "    </tr>\n",
       "  </thead>\n",
       "  <tbody>\n",
       "    <tr>\n",
       "      <th>Akt 1</th>\n",
       "      <td>260</td>\n",
       "      <td>0</td>\n",
       "    </tr>\n",
       "    <tr>\n",
       "      <th>Akt 0</th>\n",
       "      <td>1546</td>\n",
       "      <td>3</td>\n",
       "    </tr>\n",
       "  </tbody>\n",
       "</table>\n",
       "</div>"
      ],
      "text/plain": [
       "       Pred 1  Pred 0\n",
       "Akt 1     260       0\n",
       "Akt 0    1546       3"
      ]
     },
     "execution_count": 279,
     "metadata": {},
     "output_type": "execute_result"
    }
   ],
   "source": [
    "cm_svm_tuned_sm_mm = confusion_matrix(y_test, pred_test_sm_mm, labels=[1, 0])\n",
    "cm_svm_tuned_sm_mm = pd.DataFrame(data=cm_svm_tuned_sm_mm, index=['Akt 1', 'Akt 0'], columns=['Pred 1', 'Pred 0'])\n",
    "cm_svm_tuned_sm_mm"
   ]
  },
  {
   "cell_type": "code",
   "execution_count": 280,
   "metadata": {},
   "outputs": [
    {
     "name": "stdout",
     "output_type": "stream",
     "text": [
      "              precision    recall  f1-score   support\n",
      "\n",
      "           0       1.00      0.00      0.00      1549\n",
      "           1       0.14      1.00      0.25       260\n",
      "\n",
      "    accuracy                           0.15      1809\n",
      "   macro avg       0.57      0.50      0.13      1809\n",
      "weighted avg       0.88      0.15      0.04      1809\n",
      "\n"
     ]
    }
   ],
   "source": [
    "print(classification_report(y_test, pred_test_sm_mm))"
   ]
  },
  {
   "cell_type": "code",
   "execution_count": 281,
   "metadata": {},
   "outputs": [],
   "source": [
    "tp_svm_sm_mm = cm_svm_tuned_sm_mm['Pred 1'][0]\n",
    "tn_svm_sm_mm = cm_svm_tuned_sm_mm['Pred 0'][1]\n",
    "fp_svm_sm_mm = cm_svm_tuned_sm_mm['Pred 1'][1]\n",
    "fn_svm_sm_mm = cm_svm_tuned_sm_mm['Pred 0'][0]"
   ]
  },
  {
   "cell_type": "markdown",
   "metadata": {},
   "source": [
    "#### Smote with Robust Scaler"
   ]
  },
  {
   "cell_type": "code",
   "execution_count": 282,
   "metadata": {},
   "outputs": [
    {
     "name": "stdout",
     "output_type": "stream",
     "text": [
      "Fitting 3 folds for each of 300 candidates, totalling 900 fits\n"
     ]
    },
    {
     "name": "stderr",
     "output_type": "stream",
     "text": [
      "[Parallel(n_jobs=-1)]: Using backend LokyBackend with 4 concurrent workers.\n",
      "[Parallel(n_jobs=-1)]: Done  42 tasks      | elapsed:   32.8s\n",
      "[Parallel(n_jobs=-1)]: Done 192 tasks      | elapsed:  2.8min\n",
      "[Parallel(n_jobs=-1)]: Done 442 tasks      | elapsed:  6.1min\n",
      "[Parallel(n_jobs=-1)]: Done 792 tasks      | elapsed: 10.4min\n",
      "[Parallel(n_jobs=-1)]: Done 900 out of 900 | elapsed: 12.0min finished\n"
     ]
    },
    {
     "data": {
      "text/plain": [
       "RandomizedSearchCV(cv=3, estimator=SVC(max_iter=1000), n_iter=300, n_jobs=-1,\n",
       "                   param_distributions={'C': array([1.00000e-05, 1.00200e-02, 2.00300e-02, 3.00400e-02, 4.00500e-02,\n",
       "       5.00600e-02, 6.00700e-02, 7.00800e-02, 8.00900e-02, 9.01000e-02,\n",
       "       1.00110e-01, 1.10120e-01, 1.20130e-01, 1.30140e-01, 1.40150e-01,\n",
       "       1.50160e-01, 1.60170e-01, 1.70180e-01, 1.80190e-01, 1.90200e-01,\n",
       "       2.00...\n",
       "       7.50001e+01, 7.60001e+01, 7.70001e+01, 7.80001e+01, 7.90001e+01,\n",
       "       8.00001e+01, 8.10001e+01, 8.20001e+01, 8.30001e+01, 8.40001e+01,\n",
       "       8.50001e+01, 8.60001e+01, 8.70001e+01, 8.80001e+01, 8.90001e+01,\n",
       "       9.00001e+01, 9.10001e+01, 9.20001e+01, 9.30001e+01, 9.40001e+01,\n",
       "       9.50001e+01, 9.60001e+01, 9.70001e+01, 9.80001e+01, 9.90001e+01]),\n",
       "                                        'kernel': ['linear', 'rbf']},\n",
       "                   scoring='recall', verbose=1)"
      ]
     },
     "execution_count": 282,
     "metadata": {},
     "output_type": "execute_result"
    }
   ],
   "source": [
    "svm_sm_rb = RandomizedSearchCV(estimator = svm, param_distributions = param_svm, cv = 3, n_jobs = -1 , n_iter=300, verbose = 1, scoring = 'recall')\n",
    "x_train_sm[columns_continuous] = rb_scale.fit_transform(x_train_sm[columns_continuous])\n",
    "svm_sm_rb.fit(x_train_sm, y_train_sm)"
   ]
  },
  {
   "cell_type": "code",
   "execution_count": 283,
   "metadata": {},
   "outputs": [
    {
     "data": {
      "text/plain": [
       "SVC(C=0.22023, gamma=94.0001, max_iter=1000)"
      ]
     },
     "execution_count": 283,
     "metadata": {},
     "output_type": "execute_result"
    }
   ],
   "source": [
    "svm_sm_rb_tuned = svm_sm_rb.best_estimator_\n",
    "pred_train_sm_rb = svm_sm_rb_tuned.predict(x_train_sm)\n",
    "x_test[columns_continuous] = rb_scale.fit_transform(x_test[columns_continuous])\n",
    "pred_test_sm_rb = svm_sm_rb_tuned.predict(x_test)\n",
    "svm_sm_rb_tuned"
   ]
  },
  {
   "cell_type": "code",
   "execution_count": 284,
   "metadata": {},
   "outputs": [],
   "source": [
    "svm_acc_tuned_train_sm_rb = accuracy_score(y_train_sm, pred_train_sm_rb)\n",
    "svm_acc_tuned_test_sm_rb = accuracy_score(y_test, pred_test_sm_rb)\n",
    "svm_recall_tuned_train_sm_rb = recall_score(y_train_sm, pred_train_sm_rb)\n",
    "svm_recall_tuned_test_sm_rb = recall_score(y_test, pred_test_sm_rb)\n",
    "svm_prec_tuned_train_sm_rb = precision_score(y_train_sm, pred_train_sm_rb)\n",
    "svm_prec_tuned_test_sm_rb = precision_score(y_test, pred_test_sm_rb)\n",
    "svm_f1_tuned_train_sm_rb = f1_score(y_train_sm, pred_train_sm_rb)\n",
    "svm_f1_tuned_test_sm_rb = f1_score(y_test, pred_test_sm_rb)"
   ]
  },
  {
   "cell_type": "code",
   "execution_count": 285,
   "metadata": {},
   "outputs": [
    {
     "data": {
      "text/html": [
       "<div>\n",
       "<style scoped>\n",
       "    .dataframe tbody tr th:only-of-type {\n",
       "        vertical-align: middle;\n",
       "    }\n",
       "\n",
       "    .dataframe tbody tr th {\n",
       "        vertical-align: top;\n",
       "    }\n",
       "\n",
       "    .dataframe thead th {\n",
       "        text-align: right;\n",
       "    }\n",
       "</style>\n",
       "<table border=\"1\" class=\"dataframe\">\n",
       "  <thead>\n",
       "    <tr style=\"text-align: right;\">\n",
       "      <th></th>\n",
       "      <th>Pred 1</th>\n",
       "      <th>Pred 0</th>\n",
       "    </tr>\n",
       "  </thead>\n",
       "  <tbody>\n",
       "    <tr>\n",
       "      <th>Akt 1</th>\n",
       "      <td>255</td>\n",
       "      <td>5</td>\n",
       "    </tr>\n",
       "    <tr>\n",
       "      <th>Akt 0</th>\n",
       "      <td>666</td>\n",
       "      <td>883</td>\n",
       "    </tr>\n",
       "  </tbody>\n",
       "</table>\n",
       "</div>"
      ],
      "text/plain": [
       "       Pred 1  Pred 0\n",
       "Akt 1     255       5\n",
       "Akt 0     666     883"
      ]
     },
     "execution_count": 285,
     "metadata": {},
     "output_type": "execute_result"
    }
   ],
   "source": [
    "cm_svm_tuned_sm_rb = confusion_matrix(y_test, pred_test_sm_rb, labels=[1, 0])\n",
    "cm_svm_tuned_sm_rb = pd.DataFrame(data=cm_svm_tuned_sm_rb, index=['Akt 1', 'Akt 0'], columns=['Pred 1', 'Pred 0'])\n",
    "cm_svm_tuned_sm_rb"
   ]
  },
  {
   "cell_type": "code",
   "execution_count": 286,
   "metadata": {},
   "outputs": [
    {
     "name": "stdout",
     "output_type": "stream",
     "text": [
      "              precision    recall  f1-score   support\n",
      "\n",
      "           0       0.99      0.57      0.72      1549\n",
      "           1       0.28      0.98      0.43       260\n",
      "\n",
      "    accuracy                           0.63      1809\n",
      "   macro avg       0.64      0.78      0.58      1809\n",
      "weighted avg       0.89      0.63      0.68      1809\n",
      "\n"
     ]
    }
   ],
   "source": [
    "print(classification_report(y_test, pred_test_sm_rb))"
   ]
  },
  {
   "cell_type": "code",
   "execution_count": 287,
   "metadata": {},
   "outputs": [],
   "source": [
    "tp_svm_sm_rb = cm_svm_tuned_sm_rb['Pred 1'][0]\n",
    "tn_svm_sm_rb = cm_svm_tuned_sm_rb['Pred 0'][1]\n",
    "fp_svm_sm_rb = cm_svm_tuned_sm_rb['Pred 1'][1]\n",
    "fn_svm_sm_rb = cm_svm_tuned_sm_rb['Pred 0'][0]"
   ]
  },
  {
   "cell_type": "markdown",
   "metadata": {
    "id": "XfRTwLbGP872"
   },
   "source": [
    "## Logistic Regression"
   ]
  },
  {
   "cell_type": "code",
   "execution_count": 288,
   "metadata": {},
   "outputs": [],
   "source": [
    "logreg = LogisticRegression()"
   ]
  },
  {
   "cell_type": "code",
   "execution_count": 289,
   "metadata": {},
   "outputs": [],
   "source": [
    "param_logreg = {'C' : np.linspace(0.00001, 10, 1000),\n",
    "                'penalty' : ['l1', 'l2', 'elasticnet', None],\n",
    "                'class_weight': [None, 'weight'],\n",
    "                'fit_intercept' : [True, False]}"
   ]
  },
  {
   "cell_type": "markdown",
   "metadata": {
    "id": "kcTtXGLPyYZ3"
   },
   "source": [
    "#### Random Over Sampling without Scaling"
   ]
  },
  {
   "cell_type": "code",
   "execution_count": 290,
   "metadata": {
    "id": "MhVgT38_eXkD"
   },
   "outputs": [
    {
     "name": "stdout",
     "output_type": "stream",
     "text": [
      "Fitting 3 folds for each of 300 candidates, totalling 900 fits\n"
     ]
    },
    {
     "name": "stderr",
     "output_type": "stream",
     "text": [
      "[Parallel(n_jobs=-1)]: Using backend LokyBackend with 4 concurrent workers.\n",
      "[Parallel(n_jobs=-1)]: Done  42 tasks      | elapsed:    2.8s\n",
      "[Parallel(n_jobs=-1)]: Done 328 tasks      | elapsed:   15.1s\n",
      "[Parallel(n_jobs=-1)]: Done 828 tasks      | elapsed:   32.0s\n",
      "[Parallel(n_jobs=-1)]: Done 900 out of 900 | elapsed:   36.8s finished\n"
     ]
    },
    {
     "data": {
      "text/plain": [
       "RandomizedSearchCV(cv=3, estimator=LogisticRegression(), n_iter=300, n_jobs=-1,\n",
       "                   param_distributions={'C': array([1.00000e-05, 1.00200e-02, 2.00300e-02, 3.00400e-02, 4.00500e-02,\n",
       "       5.00600e-02, 6.00700e-02, 7.00800e-02, 8.00900e-02, 9.01000e-02,\n",
       "       1.00110e-01, 1.10120e-01, 1.20130e-01, 1.30140e-01, 1.40150e-01,\n",
       "       1.50160e-01, 1.60170e-01, 1.70180e-01, 1.80190e-01, 1.90200e-01,\n",
       "       2....\n",
       "       9.80981e+00, 9.81982e+00, 9.82983e+00, 9.83984e+00, 9.84985e+00,\n",
       "       9.85986e+00, 9.86987e+00, 9.87988e+00, 9.88989e+00, 9.89990e+00,\n",
       "       9.90991e+00, 9.91992e+00, 9.92993e+00, 9.93994e+00, 9.94995e+00,\n",
       "       9.95996e+00, 9.96997e+00, 9.97998e+00, 9.98999e+00, 1.00000e+01]),\n",
       "                                        'class_weight': [None, 'weight'],\n",
       "                                        'fit_intercept': [True, False],\n",
       "                                        'penalty': ['l1', 'l2', 'elasticnet',\n",
       "                                                    None]},\n",
       "                   scoring='recall', verbose=1)"
      ]
     },
     "execution_count": 290,
     "metadata": {},
     "output_type": "execute_result"
    }
   ],
   "source": [
    "logreg_os = RandomizedSearchCV(estimator = logreg, param_distributions = param_logreg, cv = 3, n_jobs = -1 , n_iter=300, verbose = 1, scoring = 'recall')\n",
    "logreg_os.fit(x_train_os, y_train_os)"
   ]
  },
  {
   "cell_type": "code",
   "execution_count": 291,
   "metadata": {},
   "outputs": [
    {
     "data": {
      "text/plain": [
       "LogisticRegression(C=0.20021)"
      ]
     },
     "execution_count": 291,
     "metadata": {},
     "output_type": "execute_result"
    }
   ],
   "source": [
    "logreg_os_tuned = logreg_os.best_estimator_\n",
    "pred_train_os = logreg_os_tuned.predict(x_train_os)\n",
    "pred_test_os = logreg_os_tuned.predict(x_test)\n",
    "logreg_os_tuned"
   ]
  },
  {
   "cell_type": "code",
   "execution_count": 292,
   "metadata": {
    "id": "2rufw1COyEB2"
   },
   "outputs": [],
   "source": [
    "logreg_acc_tuned_train_os = accuracy_score(y_train_os, pred_train_os)\n",
    "logreg_acc_tuned_test_os = accuracy_score(y_test, pred_test_os)\n",
    "logreg_recall_tuned_train_os = recall_score(y_train_os, pred_train_os)\n",
    "logreg_recall_tuned_test_os = recall_score(y_test, pred_test_os)\n",
    "logreg_prec_tuned_train_os = precision_score(y_train_os, pred_train_os)\n",
    "logreg_prec_tuned_test_os = precision_score(y_test, pred_test_os)\n",
    "logreg_f1_tuned_train_os = f1_score(y_train_os, pred_train_os)\n",
    "logreg_f1_tuned_test_os = f1_score(y_test, pred_test_os)"
   ]
  },
  {
   "cell_type": "code",
   "execution_count": 293,
   "metadata": {
    "colab": {
     "base_uri": "https://localhost:8080/",
     "height": 110
    },
    "id": "kbqgXsbze4Ge",
    "outputId": "ff647596-2097-409c-af88-a6936296d32c"
   },
   "outputs": [
    {
     "data": {
      "text/html": [
       "<div>\n",
       "<style scoped>\n",
       "    .dataframe tbody tr th:only-of-type {\n",
       "        vertical-align: middle;\n",
       "    }\n",
       "\n",
       "    .dataframe tbody tr th {\n",
       "        vertical-align: top;\n",
       "    }\n",
       "\n",
       "    .dataframe thead th {\n",
       "        text-align: right;\n",
       "    }\n",
       "</style>\n",
       "<table border=\"1\" class=\"dataframe\">\n",
       "  <thead>\n",
       "    <tr style=\"text-align: right;\">\n",
       "      <th></th>\n",
       "      <th>Pred 1</th>\n",
       "      <th>Pred 0</th>\n",
       "    </tr>\n",
       "  </thead>\n",
       "  <tbody>\n",
       "    <tr>\n",
       "      <th>Akt 1</th>\n",
       "      <td>191</td>\n",
       "      <td>69</td>\n",
       "    </tr>\n",
       "    <tr>\n",
       "      <th>Akt 0</th>\n",
       "      <td>456</td>\n",
       "      <td>1093</td>\n",
       "    </tr>\n",
       "  </tbody>\n",
       "</table>\n",
       "</div>"
      ],
      "text/plain": [
       "       Pred 1  Pred 0\n",
       "Akt 1     191      69\n",
       "Akt 0     456    1093"
      ]
     },
     "execution_count": 293,
     "metadata": {},
     "output_type": "execute_result"
    }
   ],
   "source": [
    "cm_logreg_tuned_os = confusion_matrix(y_test, pred_test_os, labels=[1, 0])\n",
    "cm_logreg_tuned_os = pd.DataFrame(data=cm_logreg_tuned_os, index=['Akt 1', 'Akt 0'], columns=['Pred 1', 'Pred 0'])\n",
    "cm_logreg_tuned_os"
   ]
  },
  {
   "cell_type": "code",
   "execution_count": 294,
   "metadata": {},
   "outputs": [
    {
     "name": "stdout",
     "output_type": "stream",
     "text": [
      "              precision    recall  f1-score   support\n",
      "\n",
      "           0       0.94      0.71      0.81      1549\n",
      "           1       0.30      0.73      0.42       260\n",
      "\n",
      "    accuracy                           0.71      1809\n",
      "   macro avg       0.62      0.72      0.61      1809\n",
      "weighted avg       0.85      0.71      0.75      1809\n",
      "\n"
     ]
    }
   ],
   "source": [
    "print(classification_report(y_test, pred_test_os))"
   ]
  },
  {
   "cell_type": "code",
   "execution_count": 295,
   "metadata": {},
   "outputs": [],
   "source": [
    "tp_logreg_os = cm_logreg_tuned_os['Pred 1'][0]\n",
    "tn_logreg_os = cm_logreg_tuned_os['Pred 0'][1]\n",
    "fp_logreg_os = cm_logreg_tuned_os['Pred 1'][1]\n",
    "fn_logreg_os = cm_logreg_tuned_os['Pred 0'][0]"
   ]
  },
  {
   "cell_type": "markdown",
   "metadata": {
    "id": "WNYSXEepyvNr"
   },
   "source": [
    "#### Smote Sampling without Scaling"
   ]
  },
  {
   "cell_type": "code",
   "execution_count": 296,
   "metadata": {},
   "outputs": [
    {
     "name": "stdout",
     "output_type": "stream",
     "text": [
      "Fitting 3 folds for each of 300 candidates, totalling 900 fits\n"
     ]
    },
    {
     "name": "stderr",
     "output_type": "stream",
     "text": [
      "[Parallel(n_jobs=-1)]: Using backend LokyBackend with 4 concurrent workers.\n",
      "[Parallel(n_jobs=-1)]: Done 128 tasks      | elapsed:    4.1s\n",
      "[Parallel(n_jobs=-1)]: Done 755 tasks      | elapsed:   21.8s\n",
      "[Parallel(n_jobs=-1)]: Done 900 out of 900 | elapsed:   27.8s finished\n"
     ]
    },
    {
     "data": {
      "text/plain": [
       "RandomizedSearchCV(cv=3, estimator=LogisticRegression(), n_iter=300, n_jobs=-1,\n",
       "                   param_distributions={'C': array([1.00000e-05, 1.00200e-02, 2.00300e-02, 3.00400e-02, 4.00500e-02,\n",
       "       5.00600e-02, 6.00700e-02, 7.00800e-02, 8.00900e-02, 9.01000e-02,\n",
       "       1.00110e-01, 1.10120e-01, 1.20130e-01, 1.30140e-01, 1.40150e-01,\n",
       "       1.50160e-01, 1.60170e-01, 1.70180e-01, 1.80190e-01, 1.90200e-01,\n",
       "       2....\n",
       "       9.80981e+00, 9.81982e+00, 9.82983e+00, 9.83984e+00, 9.84985e+00,\n",
       "       9.85986e+00, 9.86987e+00, 9.87988e+00, 9.88989e+00, 9.89990e+00,\n",
       "       9.90991e+00, 9.91992e+00, 9.92993e+00, 9.93994e+00, 9.94995e+00,\n",
       "       9.95996e+00, 9.96997e+00, 9.97998e+00, 9.98999e+00, 1.00000e+01]),\n",
       "                                        'class_weight': [None, 'weight'],\n",
       "                                        'fit_intercept': [True, False],\n",
       "                                        'penalty': ['l1', 'l2', 'elasticnet',\n",
       "                                                    None]},\n",
       "                   scoring='recall', verbose=1)"
      ]
     },
     "execution_count": 296,
     "metadata": {},
     "output_type": "execute_result"
    }
   ],
   "source": [
    "logreg_sm = RandomizedSearchCV(estimator = logreg, param_distributions = param_logreg, cv = 3, n_jobs = -1 , n_iter=300, verbose = 1, scoring = 'recall')\n",
    "logreg_sm.fit(x_train_sm, y_train_sm)"
   ]
  },
  {
   "cell_type": "code",
   "execution_count": 297,
   "metadata": {
    "id": "6-xViluxy2S6"
   },
   "outputs": [
    {
     "data": {
      "text/plain": [
       "LogisticRegression(C=0.6406499999999999, class_weight='weight')"
      ]
     },
     "execution_count": 297,
     "metadata": {},
     "output_type": "execute_result"
    }
   ],
   "source": [
    "logreg_sm_tuned = logreg_sm.best_estimator_\n",
    "pred_train_sm = logreg_sm_tuned.predict(x_train_sm)\n",
    "pred_test_sm = logreg_sm_tuned.predict(x_test)\n",
    "logreg_sm_tuned"
   ]
  },
  {
   "cell_type": "code",
   "execution_count": 298,
   "metadata": {
    "id": "s388Zy4azKFy"
   },
   "outputs": [],
   "source": [
    "logreg_acc_tuned_train_sm = accuracy_score(y_train_sm, pred_train_sm)\n",
    "logreg_acc_tuned_test_sm = accuracy_score(y_test, pred_test_sm)\n",
    "logreg_recall_tuned_train_sm = recall_score(y_train_sm, pred_train_sm)\n",
    "logreg_recall_tuned_test_sm = recall_score(y_test, pred_test_sm)\n",
    "logreg_prec_tuned_train_sm = precision_score(y_train_sm, pred_train_sm)\n",
    "logreg_prec_tuned_test_sm = precision_score(y_test, pred_test_sm)\n",
    "logreg_f1_tuned_train_sm = f1_score(y_train_sm, pred_train_sm)\n",
    "logreg_f1_tuned_test_sm = f1_score(y_test, pred_test_sm)"
   ]
  },
  {
   "cell_type": "code",
   "execution_count": 299,
   "metadata": {
    "colab": {
     "base_uri": "https://localhost:8080/",
     "height": 110
    },
    "id": "xOSZ3pqQzVtU",
    "outputId": "bce6b216-511b-4ea3-8d34-7be6a872b649"
   },
   "outputs": [
    {
     "data": {
      "text/html": [
       "<div>\n",
       "<style scoped>\n",
       "    .dataframe tbody tr th:only-of-type {\n",
       "        vertical-align: middle;\n",
       "    }\n",
       "\n",
       "    .dataframe tbody tr th {\n",
       "        vertical-align: top;\n",
       "    }\n",
       "\n",
       "    .dataframe thead th {\n",
       "        text-align: right;\n",
       "    }\n",
       "</style>\n",
       "<table border=\"1\" class=\"dataframe\">\n",
       "  <thead>\n",
       "    <tr style=\"text-align: right;\">\n",
       "      <th></th>\n",
       "      <th>Pred 1</th>\n",
       "      <th>Pred 0</th>\n",
       "    </tr>\n",
       "  </thead>\n",
       "  <tbody>\n",
       "    <tr>\n",
       "      <th>Akt 1</th>\n",
       "      <td>49</td>\n",
       "      <td>211</td>\n",
       "    </tr>\n",
       "    <tr>\n",
       "      <th>Akt 0</th>\n",
       "      <td>34</td>\n",
       "      <td>1515</td>\n",
       "    </tr>\n",
       "  </tbody>\n",
       "</table>\n",
       "</div>"
      ],
      "text/plain": [
       "       Pred 1  Pred 0\n",
       "Akt 1      49     211\n",
       "Akt 0      34    1515"
      ]
     },
     "execution_count": 299,
     "metadata": {},
     "output_type": "execute_result"
    }
   ],
   "source": [
    "cm_logreg_tuned_sm = confusion_matrix(y_test, pred_test_sm, labels=[1, 0])\n",
    "cm_logreg_tuned_sm = pd.DataFrame(data=cm_logreg_tuned_sm, index=['Akt 1', 'Akt 0'], columns=['Pred 1', 'Pred 0'])\n",
    "cm_logreg_tuned_sm"
   ]
  },
  {
   "cell_type": "code",
   "execution_count": 300,
   "metadata": {},
   "outputs": [
    {
     "name": "stdout",
     "output_type": "stream",
     "text": [
      "              precision    recall  f1-score   support\n",
      "\n",
      "           0       0.88      0.98      0.93      1549\n",
      "           1       0.59      0.19      0.29       260\n",
      "\n",
      "    accuracy                           0.86      1809\n",
      "   macro avg       0.73      0.58      0.61      1809\n",
      "weighted avg       0.84      0.86      0.83      1809\n",
      "\n"
     ]
    }
   ],
   "source": [
    "print(classification_report(y_test, pred_test_sm))"
   ]
  },
  {
   "cell_type": "code",
   "execution_count": 301,
   "metadata": {},
   "outputs": [],
   "source": [
    "tp_logreg_sm = cm_logreg_tuned_sm['Pred 1'][0]\n",
    "tn_logreg_sm = cm_logreg_tuned_sm['Pred 0'][1]\n",
    "fp_logreg_sm = cm_logreg_tuned_sm['Pred 1'][1]\n",
    "fn_logreg_sm = cm_logreg_tuned_sm['Pred 0'][0]"
   ]
  },
  {
   "cell_type": "markdown",
   "metadata": {
    "id": "7vKA3SRyIGZG"
   },
   "source": [
    "#### Standard Scaling with Random Over Sampling"
   ]
  },
  {
   "cell_type": "code",
   "execution_count": 302,
   "metadata": {
    "id": "MI5S9M17GiZL"
   },
   "outputs": [
    {
     "name": "stdout",
     "output_type": "stream",
     "text": [
      "Fitting 3 folds for each of 300 candidates, totalling 900 fits\n"
     ]
    },
    {
     "name": "stderr",
     "output_type": "stream",
     "text": [
      "[Parallel(n_jobs=-1)]: Using backend LokyBackend with 4 concurrent workers.\n",
      "[Parallel(n_jobs=-1)]: Done  76 tasks      | elapsed:    2.4s\n",
      "[Parallel(n_jobs=-1)]: Done 376 tasks      | elapsed:   12.1s\n",
      "[Parallel(n_jobs=-1)]: Done 900 out of 900 | elapsed:   28.9s finished\n"
     ]
    },
    {
     "data": {
      "text/plain": [
       "RandomizedSearchCV(cv=3, estimator=LogisticRegression(), n_iter=300, n_jobs=-1,\n",
       "                   param_distributions={'C': array([1.00000e-05, 1.00200e-02, 2.00300e-02, 3.00400e-02, 4.00500e-02,\n",
       "       5.00600e-02, 6.00700e-02, 7.00800e-02, 8.00900e-02, 9.01000e-02,\n",
       "       1.00110e-01, 1.10120e-01, 1.20130e-01, 1.30140e-01, 1.40150e-01,\n",
       "       1.50160e-01, 1.60170e-01, 1.70180e-01, 1.80190e-01, 1.90200e-01,\n",
       "       2....\n",
       "       9.80981e+00, 9.81982e+00, 9.82983e+00, 9.83984e+00, 9.84985e+00,\n",
       "       9.85986e+00, 9.86987e+00, 9.87988e+00, 9.88989e+00, 9.89990e+00,\n",
       "       9.90991e+00, 9.91992e+00, 9.92993e+00, 9.93994e+00, 9.94995e+00,\n",
       "       9.95996e+00, 9.96997e+00, 9.97998e+00, 9.98999e+00, 1.00000e+01]),\n",
       "                                        'class_weight': [None, 'weight'],\n",
       "                                        'fit_intercept': [True, False],\n",
       "                                        'penalty': ['l1', 'l2', 'elasticnet',\n",
       "                                                    None]},\n",
       "                   scoring='recall', verbose=1)"
      ]
     },
     "execution_count": 302,
     "metadata": {},
     "output_type": "execute_result"
    }
   ],
   "source": [
    "logreg_os_std = RandomizedSearchCV(estimator = logreg, param_distributions = param_logreg, cv = 3, n_jobs = -1 , n_iter=300, verbose = 1, scoring = 'recall')\n",
    "x_train_os[columns_continuous] = std_scale.fit_transform(x_train_os[columns_continuous])\n",
    "logreg_os_std.fit(x_train_os, y_train_os)"
   ]
  },
  {
   "cell_type": "code",
   "execution_count": 303,
   "metadata": {},
   "outputs": [
    {
     "data": {
      "text/plain": [
       "LogisticRegression(C=0.13014, fit_intercept=False)"
      ]
     },
     "execution_count": 303,
     "metadata": {},
     "output_type": "execute_result"
    }
   ],
   "source": [
    "logreg_os_std_tuned = logreg_os_std.best_estimator_\n",
    "pred_train_os_std = logreg_os_std_tuned.predict(x_train_os)\n",
    "x_test[columns_continuous] = std_scale.fit_transform(x_test[columns_continuous])\n",
    "pred_test_os_std = logreg_os_std_tuned.predict(x_test)\n",
    "logreg_os_std_tuned"
   ]
  },
  {
   "cell_type": "code",
   "execution_count": 304,
   "metadata": {
    "id": "e0IlJnw8Yp6f"
   },
   "outputs": [],
   "source": [
    "logreg_acc_tuned_train_os_std = accuracy_score(y_train_os, pred_train_os_std)\n",
    "logreg_acc_tuned_test_os_std = accuracy_score(y_test, pred_test_os_std)\n",
    "logreg_recall_tuned_train_os_std = recall_score(y_train_os, pred_train_os_std)\n",
    "logreg_recall_tuned_test_os_std = recall_score(y_test, pred_test_os_std)\n",
    "logreg_prec_tuned_train_os_std = precision_score(y_train_os, pred_train_os_std)\n",
    "logreg_prec_tuned_test_os_std = precision_score(y_test, pred_test_os_std)\n",
    "logreg_f1_tuned_train_os_std = f1_score(y_train_os, pred_train_os_std)\n",
    "logreg_f1_tuned_test_os_std = f1_score(y_test, pred_test_os_std)"
   ]
  },
  {
   "cell_type": "code",
   "execution_count": 305,
   "metadata": {
    "colab": {
     "base_uri": "https://localhost:8080/",
     "height": 110
    },
    "id": "QzD8vKCwamHC",
    "outputId": "9cffc245-cc4c-4c58-de7e-622b665c5d58"
   },
   "outputs": [
    {
     "data": {
      "text/html": [
       "<div>\n",
       "<style scoped>\n",
       "    .dataframe tbody tr th:only-of-type {\n",
       "        vertical-align: middle;\n",
       "    }\n",
       "\n",
       "    .dataframe tbody tr th {\n",
       "        vertical-align: top;\n",
       "    }\n",
       "\n",
       "    .dataframe thead th {\n",
       "        text-align: right;\n",
       "    }\n",
       "</style>\n",
       "<table border=\"1\" class=\"dataframe\">\n",
       "  <thead>\n",
       "    <tr style=\"text-align: right;\">\n",
       "      <th></th>\n",
       "      <th>Pred 1</th>\n",
       "      <th>Pred 0</th>\n",
       "    </tr>\n",
       "  </thead>\n",
       "  <tbody>\n",
       "    <tr>\n",
       "      <th>Akt 1</th>\n",
       "      <td>194</td>\n",
       "      <td>66</td>\n",
       "    </tr>\n",
       "    <tr>\n",
       "      <th>Akt 0</th>\n",
       "      <td>459</td>\n",
       "      <td>1090</td>\n",
       "    </tr>\n",
       "  </tbody>\n",
       "</table>\n",
       "</div>"
      ],
      "text/plain": [
       "       Pred 1  Pred 0\n",
       "Akt 1     194      66\n",
       "Akt 0     459    1090"
      ]
     },
     "execution_count": 305,
     "metadata": {},
     "output_type": "execute_result"
    }
   ],
   "source": [
    "cm_logreg_tuned_os_std = confusion_matrix(y_test, pred_test_os_std, labels=[1, 0])\n",
    "cm_logreg_tuned_os_std = pd.DataFrame(data=cm_logreg_tuned_os_std, index=['Akt 1', 'Akt 0'], columns=['Pred 1', 'Pred 0'])\n",
    "cm_logreg_tuned_os_std"
   ]
  },
  {
   "cell_type": "code",
   "execution_count": 306,
   "metadata": {},
   "outputs": [
    {
     "name": "stdout",
     "output_type": "stream",
     "text": [
      "              precision    recall  f1-score   support\n",
      "\n",
      "           0       0.94      0.70      0.81      1549\n",
      "           1       0.30      0.75      0.42       260\n",
      "\n",
      "    accuracy                           0.71      1809\n",
      "   macro avg       0.62      0.72      0.62      1809\n",
      "weighted avg       0.85      0.71      0.75      1809\n",
      "\n"
     ]
    }
   ],
   "source": [
    "print(classification_report(y_test, pred_test_os_std))"
   ]
  },
  {
   "cell_type": "code",
   "execution_count": 307,
   "metadata": {},
   "outputs": [],
   "source": [
    "tp_logreg_os_std = cm_logreg_tuned_os_std['Pred 1'][0]\n",
    "tn_logreg_os_std = cm_logreg_tuned_os_std['Pred 0'][1]\n",
    "fp_logreg_os_std = cm_logreg_tuned_os_std['Pred 1'][1]\n",
    "fn_logreg_os_std = cm_logreg_tuned_os_std['Pred 0'][0]"
   ]
  },
  {
   "cell_type": "markdown",
   "metadata": {
    "id": "Ypip9bAwnOyx"
   },
   "source": [
    "#### MinMax Scaling with Random Over Sampling"
   ]
  },
  {
   "cell_type": "code",
   "execution_count": 308,
   "metadata": {
    "id": "5leyNV5Tldxq"
   },
   "outputs": [
    {
     "name": "stdout",
     "output_type": "stream",
     "text": [
      "Fitting 3 folds for each of 300 candidates, totalling 900 fits\n"
     ]
    },
    {
     "name": "stderr",
     "output_type": "stream",
     "text": [
      "[Parallel(n_jobs=-1)]: Using backend LokyBackend with 4 concurrent workers.\n",
      "[Parallel(n_jobs=-1)]: Done  76 tasks      | elapsed:    3.5s\n",
      "[Parallel(n_jobs=-1)]: Done 376 tasks      | elapsed:   13.5s\n",
      "[Parallel(n_jobs=-1)]: Done 900 out of 900 | elapsed:   35.2s finished\n"
     ]
    },
    {
     "data": {
      "text/plain": [
       "RandomizedSearchCV(cv=3, estimator=LogisticRegression(), n_iter=300, n_jobs=-1,\n",
       "                   param_distributions={'C': array([1.00000e-05, 1.00200e-02, 2.00300e-02, 3.00400e-02, 4.00500e-02,\n",
       "       5.00600e-02, 6.00700e-02, 7.00800e-02, 8.00900e-02, 9.01000e-02,\n",
       "       1.00110e-01, 1.10120e-01, 1.20130e-01, 1.30140e-01, 1.40150e-01,\n",
       "       1.50160e-01, 1.60170e-01, 1.70180e-01, 1.80190e-01, 1.90200e-01,\n",
       "       2....\n",
       "       9.80981e+00, 9.81982e+00, 9.82983e+00, 9.83984e+00, 9.84985e+00,\n",
       "       9.85986e+00, 9.86987e+00, 9.87988e+00, 9.88989e+00, 9.89990e+00,\n",
       "       9.90991e+00, 9.91992e+00, 9.92993e+00, 9.93994e+00, 9.94995e+00,\n",
       "       9.95996e+00, 9.96997e+00, 9.97998e+00, 9.98999e+00, 1.00000e+01]),\n",
       "                                        'class_weight': [None, 'weight'],\n",
       "                                        'fit_intercept': [True, False],\n",
       "                                        'penalty': ['l1', 'l2', 'elasticnet',\n",
       "                                                    None]},\n",
       "                   scoring='recall', verbose=1)"
      ]
     },
     "execution_count": 308,
     "metadata": {},
     "output_type": "execute_result"
    }
   ],
   "source": [
    "logreg_os_mm = RandomizedSearchCV(estimator = logreg, param_distributions = param_logreg, cv = 3, n_jobs = -1 , n_iter=300, verbose = 1, scoring = 'recall')\n",
    "x_train_os[columns_continuous] = mm_scale.fit_transform(x_train_os[columns_continuous])\n",
    "logreg_os_mm.fit(x_train_os, y_train_os)"
   ]
  },
  {
   "cell_type": "code",
   "execution_count": 309,
   "metadata": {},
   "outputs": [
    {
     "data": {
      "text/plain": [
       "LogisticRegression(C=4.0740799999999995, fit_intercept=False)"
      ]
     },
     "execution_count": 309,
     "metadata": {},
     "output_type": "execute_result"
    }
   ],
   "source": [
    "logreg_os_mm_tuned = logreg_os_mm.best_estimator_\n",
    "pred_train_os_mm = logreg_os_mm_tuned.predict(x_train_os)\n",
    "x_test[columns_continuous] = mm_scale.fit_transform(x_test[columns_continuous])\n",
    "pred_test_os_mm = logreg_os_mm_tuned.predict(x_test)\n",
    "logreg_os_mm_tuned"
   ]
  },
  {
   "cell_type": "code",
   "execution_count": 310,
   "metadata": {
    "id": "M_TThASbnqBI"
   },
   "outputs": [],
   "source": [
    "logreg_acc_tuned_train_os_mm = accuracy_score(y_train_os, pred_train_os_mm)\n",
    "logreg_acc_tuned_test_os_mm = accuracy_score(y_test, pred_test_os_mm)\n",
    "logreg_recall_tuned_train_os_mm = recall_score(y_train_os, pred_train_os_mm)\n",
    "logreg_recall_tuned_test_os_mm = recall_score(y_test, pred_test_os_mm)\n",
    "logreg_prec_tuned_train_os_mm = precision_score(y_train_os, pred_train_os_mm)\n",
    "logreg_prec_tuned_test_os_mm = precision_score(y_test, pred_test_os_mm)\n",
    "logreg_f1_tuned_train_os_mm = f1_score(y_train_os, pred_train_os_mm)\n",
    "logreg_f1_tuned_test_os_mm = f1_score(y_test, pred_test_os_mm)"
   ]
  },
  {
   "cell_type": "code",
   "execution_count": 311,
   "metadata": {
    "colab": {
     "base_uri": "https://localhost:8080/",
     "height": 110
    },
    "id": "FDXaeQzVoH_Q",
    "outputId": "6ea2361c-3f0a-4cb6-dafc-fd27ebdcd0c4"
   },
   "outputs": [
    {
     "data": {
      "text/html": [
       "<div>\n",
       "<style scoped>\n",
       "    .dataframe tbody tr th:only-of-type {\n",
       "        vertical-align: middle;\n",
       "    }\n",
       "\n",
       "    .dataframe tbody tr th {\n",
       "        vertical-align: top;\n",
       "    }\n",
       "\n",
       "    .dataframe thead th {\n",
       "        text-align: right;\n",
       "    }\n",
       "</style>\n",
       "<table border=\"1\" class=\"dataframe\">\n",
       "  <thead>\n",
       "    <tr style=\"text-align: right;\">\n",
       "      <th></th>\n",
       "      <th>Pred 1</th>\n",
       "      <th>Pred 0</th>\n",
       "    </tr>\n",
       "  </thead>\n",
       "  <tbody>\n",
       "    <tr>\n",
       "      <th>Akt 1</th>\n",
       "      <td>183</td>\n",
       "      <td>77</td>\n",
       "    </tr>\n",
       "    <tr>\n",
       "      <th>Akt 0</th>\n",
       "      <td>423</td>\n",
       "      <td>1126</td>\n",
       "    </tr>\n",
       "  </tbody>\n",
       "</table>\n",
       "</div>"
      ],
      "text/plain": [
       "       Pred 1  Pred 0\n",
       "Akt 1     183      77\n",
       "Akt 0     423    1126"
      ]
     },
     "execution_count": 311,
     "metadata": {},
     "output_type": "execute_result"
    }
   ],
   "source": [
    "cm_logreg_tuned_os_mm = confusion_matrix(y_test, pred_test_os_mm, labels=[1, 0])\n",
    "cm_logreg_tuned_os_mm = pd.DataFrame(data=cm_logreg_tuned_os_mm, index=['Akt 1', 'Akt 0'], columns=['Pred 1', 'Pred 0'])\n",
    "cm_logreg_tuned_os_mm"
   ]
  },
  {
   "cell_type": "code",
   "execution_count": 312,
   "metadata": {},
   "outputs": [
    {
     "name": "stdout",
     "output_type": "stream",
     "text": [
      "              precision    recall  f1-score   support\n",
      "\n",
      "           0       0.94      0.73      0.82      1549\n",
      "           1       0.30      0.70      0.42       260\n",
      "\n",
      "    accuracy                           0.72      1809\n",
      "   macro avg       0.62      0.72      0.62      1809\n",
      "weighted avg       0.84      0.72      0.76      1809\n",
      "\n"
     ]
    }
   ],
   "source": [
    "print(classification_report(y_test, pred_test_os_mm))"
   ]
  },
  {
   "cell_type": "code",
   "execution_count": 313,
   "metadata": {},
   "outputs": [],
   "source": [
    "tp_logreg_os_mm = cm_logreg_tuned_os_mm['Pred 1'][0]\n",
    "tn_logreg_os_mm = cm_logreg_tuned_os_mm['Pred 0'][1]\n",
    "fp_logreg_os_mm = cm_logreg_tuned_os_mm['Pred 1'][1]\n",
    "fn_logreg_os_mm = cm_logreg_tuned_os_mm['Pred 0'][0]"
   ]
  },
  {
   "cell_type": "markdown",
   "metadata": {
    "id": "TfM9k0MWoebl"
   },
   "source": [
    "#### Robust Scaling with Random Over Sampling"
   ]
  },
  {
   "cell_type": "code",
   "execution_count": 314,
   "metadata": {
    "id": "dYdYjFDsoast"
   },
   "outputs": [
    {
     "name": "stdout",
     "output_type": "stream",
     "text": [
      "Fitting 3 folds for each of 300 candidates, totalling 900 fits\n"
     ]
    },
    {
     "name": "stderr",
     "output_type": "stream",
     "text": [
      "[Parallel(n_jobs=-1)]: Using backend LokyBackend with 4 concurrent workers.\n",
      "[Parallel(n_jobs=-1)]: Done 128 tasks      | elapsed:    2.7s\n",
      "[Parallel(n_jobs=-1)]: Done 728 tasks      | elapsed:   18.8s\n",
      "[Parallel(n_jobs=-1)]: Done 900 out of 900 | elapsed:   24.1s finished\n"
     ]
    },
    {
     "data": {
      "text/plain": [
       "RandomizedSearchCV(cv=3, estimator=LogisticRegression(), n_iter=300, n_jobs=-1,\n",
       "                   param_distributions={'C': array([1.00000e-05, 1.00200e-02, 2.00300e-02, 3.00400e-02, 4.00500e-02,\n",
       "       5.00600e-02, 6.00700e-02, 7.00800e-02, 8.00900e-02, 9.01000e-02,\n",
       "       1.00110e-01, 1.10120e-01, 1.20130e-01, 1.30140e-01, 1.40150e-01,\n",
       "       1.50160e-01, 1.60170e-01, 1.70180e-01, 1.80190e-01, 1.90200e-01,\n",
       "       2....\n",
       "       9.80981e+00, 9.81982e+00, 9.82983e+00, 9.83984e+00, 9.84985e+00,\n",
       "       9.85986e+00, 9.86987e+00, 9.87988e+00, 9.88989e+00, 9.89990e+00,\n",
       "       9.90991e+00, 9.91992e+00, 9.92993e+00, 9.93994e+00, 9.94995e+00,\n",
       "       9.95996e+00, 9.96997e+00, 9.97998e+00, 9.98999e+00, 1.00000e+01]),\n",
       "                                        'class_weight': [None, 'weight'],\n",
       "                                        'fit_intercept': [True, False],\n",
       "                                        'penalty': ['l1', 'l2', 'elasticnet',\n",
       "                                                    None]},\n",
       "                   scoring='recall', verbose=1)"
      ]
     },
     "execution_count": 314,
     "metadata": {},
     "output_type": "execute_result"
    }
   ],
   "source": [
    "logreg_os_rb = RandomizedSearchCV(estimator = logreg, param_distributions = param_logreg, cv = 3, n_jobs = -1 , n_iter=300, verbose = 1, scoring = 'recall')\n",
    "x_train_os[columns_continuous] = rb_scale.fit_transform(x_train_os[columns_continuous])\n",
    "logreg_os_rb.fit(x_train_os, y_train_os)"
   ]
  },
  {
   "cell_type": "code",
   "execution_count": 315,
   "metadata": {},
   "outputs": [
    {
     "data": {
      "text/plain": [
       "LogisticRegression(C=0.5505599999999999, fit_intercept=False)"
      ]
     },
     "execution_count": 315,
     "metadata": {},
     "output_type": "execute_result"
    }
   ],
   "source": [
    "logreg_os_rb_tuned = logreg_os_rb.best_estimator_\n",
    "pred_train_os_rb = logreg_os_rb_tuned.predict(x_train_os)\n",
    "x_test[columns_continuous] = rb_scale.fit_transform(x_test[columns_continuous])\n",
    "pred_test_os_rb = logreg_os_rb_tuned.predict(x_test)\n",
    "logreg_os_rb_tuned"
   ]
  },
  {
   "cell_type": "code",
   "execution_count": 316,
   "metadata": {
    "id": "9aCDdeXxow4n"
   },
   "outputs": [],
   "source": [
    "logreg_acc_tuned_train_os_rb = accuracy_score(y_train_os, pred_train_os_rb)\n",
    "logreg_acc_tuned_test_os_rb = accuracy_score(y_test, pred_test_os_rb)\n",
    "logreg_recall_tuned_train_os_rb = recall_score(y_train_os, pred_train_os_rb)\n",
    "logreg_recall_tuned_test_os_rb = recall_score(y_test, pred_test_os_rb)\n",
    "logreg_prec_tuned_train_os_rb = precision_score(y_train_os, pred_train_os_rb)\n",
    "logreg_prec_tuned_test_os_rb = precision_score(y_test, pred_test_os_rb)\n",
    "logreg_f1_tuned_train_os_rb = f1_score(y_train_os, pred_train_os_rb)\n",
    "logreg_f1_tuned_test_os_rb = f1_score(y_test, pred_test_os_rb)"
   ]
  },
  {
   "cell_type": "code",
   "execution_count": 317,
   "metadata": {
    "colab": {
     "base_uri": "https://localhost:8080/",
     "height": 110
    },
    "id": "VjJEx91uo8C9",
    "outputId": "32d0835b-02a9-40e4-874e-2d6d32399d0e"
   },
   "outputs": [
    {
     "data": {
      "text/html": [
       "<div>\n",
       "<style scoped>\n",
       "    .dataframe tbody tr th:only-of-type {\n",
       "        vertical-align: middle;\n",
       "    }\n",
       "\n",
       "    .dataframe tbody tr th {\n",
       "        vertical-align: top;\n",
       "    }\n",
       "\n",
       "    .dataframe thead th {\n",
       "        text-align: right;\n",
       "    }\n",
       "</style>\n",
       "<table border=\"1\" class=\"dataframe\">\n",
       "  <thead>\n",
       "    <tr style=\"text-align: right;\">\n",
       "      <th></th>\n",
       "      <th>Pred 1</th>\n",
       "      <th>Pred 0</th>\n",
       "    </tr>\n",
       "  </thead>\n",
       "  <tbody>\n",
       "    <tr>\n",
       "      <th>Akt 1</th>\n",
       "      <td>190</td>\n",
       "      <td>70</td>\n",
       "    </tr>\n",
       "    <tr>\n",
       "      <th>Akt 0</th>\n",
       "      <td>452</td>\n",
       "      <td>1097</td>\n",
       "    </tr>\n",
       "  </tbody>\n",
       "</table>\n",
       "</div>"
      ],
      "text/plain": [
       "       Pred 1  Pred 0\n",
       "Akt 1     190      70\n",
       "Akt 0     452    1097"
      ]
     },
     "execution_count": 317,
     "metadata": {},
     "output_type": "execute_result"
    }
   ],
   "source": [
    "cm_logreg_tuned_os_rb = confusion_matrix(y_test, pred_test_os_rb, labels=[1, 0])\n",
    "cm_logreg_tuned_os_rb = pd.DataFrame(data=cm_logreg_tuned_os_rb, index=['Akt 1', 'Akt 0'], columns=['Pred 1', 'Pred 0'])\n",
    "cm_logreg_tuned_os_rb"
   ]
  },
  {
   "cell_type": "code",
   "execution_count": 318,
   "metadata": {},
   "outputs": [
    {
     "name": "stdout",
     "output_type": "stream",
     "text": [
      "              precision    recall  f1-score   support\n",
      "\n",
      "           0       0.94      0.71      0.81      1549\n",
      "           1       0.30      0.73      0.42       260\n",
      "\n",
      "    accuracy                           0.71      1809\n",
      "   macro avg       0.62      0.72      0.61      1809\n",
      "weighted avg       0.85      0.71      0.75      1809\n",
      "\n"
     ]
    }
   ],
   "source": [
    "print(classification_report(y_test, pred_test_os_rb))"
   ]
  },
  {
   "cell_type": "code",
   "execution_count": 319,
   "metadata": {},
   "outputs": [],
   "source": [
    "tp_logreg_os_rb = cm_logreg_tuned_os_rb['Pred 1'][0]\n",
    "tn_logreg_os_rb = cm_logreg_tuned_os_rb['Pred 0'][1]\n",
    "fp_logreg_os_rb = cm_logreg_tuned_os_rb['Pred 1'][1]\n",
    "fn_logreg_os_rb = cm_logreg_tuned_os_rb['Pred 0'][0]"
   ]
  },
  {
   "cell_type": "markdown",
   "metadata": {
    "id": "-vEeoct9sjm6"
   },
   "source": [
    "#### Standard Scaling with Smote"
   ]
  },
  {
   "cell_type": "code",
   "execution_count": 320,
   "metadata": {
    "id": "E-ih8kpxq1Xw"
   },
   "outputs": [
    {
     "name": "stdout",
     "output_type": "stream",
     "text": [
      "Fitting 3 folds for each of 300 candidates, totalling 900 fits\n"
     ]
    },
    {
     "name": "stderr",
     "output_type": "stream",
     "text": [
      "[Parallel(n_jobs=-1)]: Using backend LokyBackend with 4 concurrent workers.\n",
      "[Parallel(n_jobs=-1)]: Done 128 tasks      | elapsed:    2.7s\n",
      "[Parallel(n_jobs=-1)]: Done 728 tasks      | elapsed:   21.4s\n",
      "[Parallel(n_jobs=-1)]: Done 893 out of 900 | elapsed:   25.2s remaining:    0.1s\n",
      "[Parallel(n_jobs=-1)]: Done 900 out of 900 | elapsed:   25.4s finished\n"
     ]
    },
    {
     "data": {
      "text/plain": [
       "RandomizedSearchCV(cv=3, estimator=LogisticRegression(), n_iter=300, n_jobs=-1,\n",
       "                   param_distributions={'C': array([1.00000e-05, 1.00200e-02, 2.00300e-02, 3.00400e-02, 4.00500e-02,\n",
       "       5.00600e-02, 6.00700e-02, 7.00800e-02, 8.00900e-02, 9.01000e-02,\n",
       "       1.00110e-01, 1.10120e-01, 1.20130e-01, 1.30140e-01, 1.40150e-01,\n",
       "       1.50160e-01, 1.60170e-01, 1.70180e-01, 1.80190e-01, 1.90200e-01,\n",
       "       2....\n",
       "       9.80981e+00, 9.81982e+00, 9.82983e+00, 9.83984e+00, 9.84985e+00,\n",
       "       9.85986e+00, 9.86987e+00, 9.87988e+00, 9.88989e+00, 9.89990e+00,\n",
       "       9.90991e+00, 9.91992e+00, 9.92993e+00, 9.93994e+00, 9.94995e+00,\n",
       "       9.95996e+00, 9.96997e+00, 9.97998e+00, 9.98999e+00, 1.00000e+01]),\n",
       "                                        'class_weight': [None, 'weight'],\n",
       "                                        'fit_intercept': [True, False],\n",
       "                                        'penalty': ['l1', 'l2', 'elasticnet',\n",
       "                                                    None]},\n",
       "                   scoring='recall', verbose=1)"
      ]
     },
     "execution_count": 320,
     "metadata": {},
     "output_type": "execute_result"
    }
   ],
   "source": [
    "logreg_sm_std = RandomizedSearchCV(estimator = logreg, param_distributions = param_logreg, cv = 3, n_jobs = -1 , n_iter=300, verbose = 1, scoring = 'recall')\n",
    "x_train_sm[columns_continuous] = std_scale.fit_transform(x_train_sm[columns_continuous])\n",
    "logreg_sm_std.fit(x_train_sm, y_train_sm)"
   ]
  },
  {
   "cell_type": "code",
   "execution_count": 321,
   "metadata": {},
   "outputs": [
    {
     "data": {
      "text/plain": [
       "LogisticRegression(C=5.3353399999999995, class_weight='weight')"
      ]
     },
     "execution_count": 321,
     "metadata": {},
     "output_type": "execute_result"
    }
   ],
   "source": [
    "logreg_sm_std_tuned = logreg_sm_std.best_estimator_\n",
    "pred_train_sm_std = logreg_sm_std_tuned.predict(x_train_sm)\n",
    "x_test[columns_continuous] = std_scale.fit_transform(x_test[columns_continuous])\n",
    "pred_test_sm_std = logreg_sm_std_tuned.predict(x_test)\n",
    "logreg_sm_std_tuned"
   ]
  },
  {
   "cell_type": "code",
   "execution_count": 322,
   "metadata": {
    "id": "aW8itP9vtIDu"
   },
   "outputs": [],
   "source": [
    "logreg_acc_tuned_train_sm_std = accuracy_score(y_train_sm, pred_train_sm_std)\n",
    "logreg_acc_tuned_test_sm_std = accuracy_score(y_test, pred_test_sm_std)\n",
    "logreg_recall_tuned_train_sm_std = recall_score(y_train_sm, pred_train_sm_std)\n",
    "logreg_recall_tuned_test_sm_std = recall_score(y_test, pred_test_sm_std)\n",
    "logreg_prec_tuned_train_sm_std = precision_score(y_train_sm, pred_train_sm_std)\n",
    "logreg_prec_tuned_test_sm_std = precision_score(y_test, pred_test_sm_std)\n",
    "logreg_f1_tuned_train_sm_std = f1_score(y_train_sm, pred_train_sm_std)\n",
    "logreg_f1_tuned_test_sm_std = f1_score(y_test, pred_test_sm_std)"
   ]
  },
  {
   "cell_type": "code",
   "execution_count": 323,
   "metadata": {
    "colab": {
     "base_uri": "https://localhost:8080/",
     "height": 110
    },
    "id": "fS7nTf7_tbtJ",
    "outputId": "6d48d119-418a-4689-883e-d963698815c9"
   },
   "outputs": [
    {
     "data": {
      "text/html": [
       "<div>\n",
       "<style scoped>\n",
       "    .dataframe tbody tr th:only-of-type {\n",
       "        vertical-align: middle;\n",
       "    }\n",
       "\n",
       "    .dataframe tbody tr th {\n",
       "        vertical-align: top;\n",
       "    }\n",
       "\n",
       "    .dataframe thead th {\n",
       "        text-align: right;\n",
       "    }\n",
       "</style>\n",
       "<table border=\"1\" class=\"dataframe\">\n",
       "  <thead>\n",
       "    <tr style=\"text-align: right;\">\n",
       "      <th></th>\n",
       "      <th>Pred 1</th>\n",
       "      <th>Pred 0</th>\n",
       "    </tr>\n",
       "  </thead>\n",
       "  <tbody>\n",
       "    <tr>\n",
       "      <th>Akt 1</th>\n",
       "      <td>50</td>\n",
       "      <td>210</td>\n",
       "    </tr>\n",
       "    <tr>\n",
       "      <th>Akt 0</th>\n",
       "      <td>34</td>\n",
       "      <td>1515</td>\n",
       "    </tr>\n",
       "  </tbody>\n",
       "</table>\n",
       "</div>"
      ],
      "text/plain": [
       "       Pred 1  Pred 0\n",
       "Akt 1      50     210\n",
       "Akt 0      34    1515"
      ]
     },
     "execution_count": 323,
     "metadata": {},
     "output_type": "execute_result"
    }
   ],
   "source": [
    "cm_logreg_tuned_sm_std = confusion_matrix(y_test, pred_test_sm_std, labels=[1, 0])\n",
    "cm_logreg_tuned_sm_std = pd.DataFrame(data=cm_logreg_tuned_sm_std, index=['Akt 1', 'Akt 0'], columns=['Pred 1', 'Pred 0'])\n",
    "cm_logreg_tuned_sm_std"
   ]
  },
  {
   "cell_type": "code",
   "execution_count": 324,
   "metadata": {},
   "outputs": [
    {
     "name": "stdout",
     "output_type": "stream",
     "text": [
      "              precision    recall  f1-score   support\n",
      "\n",
      "           0       0.88      0.98      0.93      1549\n",
      "           1       0.60      0.19      0.29       260\n",
      "\n",
      "    accuracy                           0.87      1809\n",
      "   macro avg       0.74      0.59      0.61      1809\n",
      "weighted avg       0.84      0.87      0.83      1809\n",
      "\n"
     ]
    }
   ],
   "source": [
    "print(classification_report(y_test, pred_test_sm_std))"
   ]
  },
  {
   "cell_type": "code",
   "execution_count": 325,
   "metadata": {},
   "outputs": [],
   "source": [
    "tp_logreg_sm_std = cm_logreg_tuned_sm_std['Pred 1'][0]\n",
    "tn_logreg_sm_std = cm_logreg_tuned_sm_std['Pred 0'][1]\n",
    "fp_logreg_sm_std = cm_logreg_tuned_sm_std['Pred 1'][1]\n",
    "fn_logreg_sm_std = cm_logreg_tuned_sm_std['Pred 0'][0]"
   ]
  },
  {
   "cell_type": "markdown",
   "metadata": {
    "id": "GTH6hxRptxmr"
   },
   "source": [
    "#### MinMax Scaling with Smote"
   ]
  },
  {
   "cell_type": "code",
   "execution_count": 326,
   "metadata": {
    "id": "cJb_jJOktkgT"
   },
   "outputs": [
    {
     "name": "stdout",
     "output_type": "stream",
     "text": [
      "Fitting 3 folds for each of 300 candidates, totalling 900 fits\n"
     ]
    },
    {
     "name": "stderr",
     "output_type": "stream",
     "text": [
      "[Parallel(n_jobs=-1)]: Using backend LokyBackend with 4 concurrent workers.\n",
      "[Parallel(n_jobs=-1)]: Done 128 tasks      | elapsed:    3.5s\n",
      "[Parallel(n_jobs=-1)]: Done 728 tasks      | elapsed:   20.2s\n",
      "[Parallel(n_jobs=-1)]: Done 900 out of 900 | elapsed:   26.7s finished\n"
     ]
    },
    {
     "data": {
      "text/plain": [
       "RandomizedSearchCV(cv=3, estimator=LogisticRegression(), n_iter=300, n_jobs=-1,\n",
       "                   param_distributions={'C': array([1.00000e-05, 1.00200e-02, 2.00300e-02, 3.00400e-02, 4.00500e-02,\n",
       "       5.00600e-02, 6.00700e-02, 7.00800e-02, 8.00900e-02, 9.01000e-02,\n",
       "       1.00110e-01, 1.10120e-01, 1.20130e-01, 1.30140e-01, 1.40150e-01,\n",
       "       1.50160e-01, 1.60170e-01, 1.70180e-01, 1.80190e-01, 1.90200e-01,\n",
       "       2....\n",
       "       9.80981e+00, 9.81982e+00, 9.82983e+00, 9.83984e+00, 9.84985e+00,\n",
       "       9.85986e+00, 9.86987e+00, 9.87988e+00, 9.88989e+00, 9.89990e+00,\n",
       "       9.90991e+00, 9.91992e+00, 9.92993e+00, 9.93994e+00, 9.94995e+00,\n",
       "       9.95996e+00, 9.96997e+00, 9.97998e+00, 9.98999e+00, 1.00000e+01]),\n",
       "                                        'class_weight': [None, 'weight'],\n",
       "                                        'fit_intercept': [True, False],\n",
       "                                        'penalty': ['l1', 'l2', 'elasticnet',\n",
       "                                                    None]},\n",
       "                   scoring='recall', verbose=1)"
      ]
     },
     "execution_count": 326,
     "metadata": {},
     "output_type": "execute_result"
    }
   ],
   "source": [
    "logreg_sm_mm = RandomizedSearchCV(estimator = logreg, param_distributions = param_logreg, cv = 3, n_jobs = -1 , n_iter=300, verbose = 1, scoring = 'recall')\n",
    "x_train_sm[columns_continuous] = mm_scale.fit_transform(x_train_sm[columns_continuous])\n",
    "logreg_sm_mm.fit(x_train_sm, y_train_sm)"
   ]
  },
  {
   "cell_type": "code",
   "execution_count": 327,
   "metadata": {},
   "outputs": [
    {
     "data": {
      "text/plain": [
       "LogisticRegression(C=0.05006)"
      ]
     },
     "execution_count": 327,
     "metadata": {},
     "output_type": "execute_result"
    }
   ],
   "source": [
    "logreg_sm_mm_tuned = logreg_sm_mm.best_estimator_\n",
    "pred_train_sm_mm = logreg_sm_mm_tuned.predict(x_train_sm)\n",
    "x_test[columns_continuous] = mm_scale.fit_transform(x_test[columns_continuous])\n",
    "pred_test_sm_mm = logreg_sm_mm_tuned.predict(x_test)\n",
    "logreg_sm_mm_tuned"
   ]
  },
  {
   "cell_type": "code",
   "execution_count": 328,
   "metadata": {
    "id": "4RFEOT6NuBhv"
   },
   "outputs": [],
   "source": [
    "logreg_acc_tuned_train_sm_mm = accuracy_score(y_train_sm, pred_train_sm_mm)\n",
    "logreg_acc_tuned_test_sm_mm = accuracy_score(y_test, pred_test_sm_mm)\n",
    "logreg_recall_tuned_train_sm_mm = recall_score(y_train_sm, pred_train_sm_mm)\n",
    "logreg_recall_tuned_test_sm_mm = recall_score(y_test, pred_test_sm_mm)\n",
    "logreg_prec_tuned_train_sm_mm = precision_score(y_train_sm, pred_train_sm_mm)\n",
    "logreg_prec_tuned_test_sm_mm = precision_score(y_test, pred_test_sm_mm)\n",
    "logreg_f1_tuned_train_sm_mm = f1_score(y_train_sm, pred_train_sm_mm)\n",
    "logreg_f1_tuned_test_sm_mm = f1_score(y_test, pred_test_sm_mm)"
   ]
  },
  {
   "cell_type": "code",
   "execution_count": 329,
   "metadata": {
    "colab": {
     "base_uri": "https://localhost:8080/",
     "height": 110
    },
    "id": "3e9hYPkYub6W",
    "outputId": "8bd53708-3e33-40e1-a2a3-cdcb82836edc"
   },
   "outputs": [
    {
     "data": {
      "text/html": [
       "<div>\n",
       "<style scoped>\n",
       "    .dataframe tbody tr th:only-of-type {\n",
       "        vertical-align: middle;\n",
       "    }\n",
       "\n",
       "    .dataframe tbody tr th {\n",
       "        vertical-align: top;\n",
       "    }\n",
       "\n",
       "    .dataframe thead th {\n",
       "        text-align: right;\n",
       "    }\n",
       "</style>\n",
       "<table border=\"1\" class=\"dataframe\">\n",
       "  <thead>\n",
       "    <tr style=\"text-align: right;\">\n",
       "      <th></th>\n",
       "      <th>Pred 1</th>\n",
       "      <th>Pred 0</th>\n",
       "    </tr>\n",
       "  </thead>\n",
       "  <tbody>\n",
       "    <tr>\n",
       "      <th>Akt 1</th>\n",
       "      <td>68</td>\n",
       "      <td>192</td>\n",
       "    </tr>\n",
       "    <tr>\n",
       "      <th>Akt 0</th>\n",
       "      <td>69</td>\n",
       "      <td>1480</td>\n",
       "    </tr>\n",
       "  </tbody>\n",
       "</table>\n",
       "</div>"
      ],
      "text/plain": [
       "       Pred 1  Pred 0\n",
       "Akt 1      68     192\n",
       "Akt 0      69    1480"
      ]
     },
     "execution_count": 329,
     "metadata": {},
     "output_type": "execute_result"
    }
   ],
   "source": [
    "cm_logreg_tuned_sm_mm = confusion_matrix(y_test, pred_test_sm_mm, labels=[1, 0])\n",
    "cm_logreg_tuned_sm_mm = pd.DataFrame(data=cm_logreg_tuned_sm_mm, index=['Akt 1', 'Akt 0'], columns=['Pred 1', 'Pred 0'])\n",
    "cm_logreg_tuned_sm_mm"
   ]
  },
  {
   "cell_type": "code",
   "execution_count": 330,
   "metadata": {},
   "outputs": [
    {
     "name": "stdout",
     "output_type": "stream",
     "text": [
      "              precision    recall  f1-score   support\n",
      "\n",
      "           0       0.89      0.96      0.92      1549\n",
      "           1       0.50      0.26      0.34       260\n",
      "\n",
      "    accuracy                           0.86      1809\n",
      "   macro avg       0.69      0.61      0.63      1809\n",
      "weighted avg       0.83      0.86      0.84      1809\n",
      "\n"
     ]
    }
   ],
   "source": [
    "print(classification_report(y_test, pred_test_sm_mm))"
   ]
  },
  {
   "cell_type": "code",
   "execution_count": 331,
   "metadata": {},
   "outputs": [],
   "source": [
    "tp_logreg_sm_mm = cm_logreg_tuned_sm_mm['Pred 1'][0]\n",
    "tn_logreg_sm_mm = cm_logreg_tuned_sm_mm['Pred 0'][1]\n",
    "fp_logreg_sm_mm = cm_logreg_tuned_sm_mm['Pred 1'][1]\n",
    "fn_logreg_sm_mm = cm_logreg_tuned_sm_mm['Pred 0'][0]"
   ]
  },
  {
   "cell_type": "markdown",
   "metadata": {
    "id": "5db8l9RXu0xf"
   },
   "source": [
    "#### Robust Scaling with Smote"
   ]
  },
  {
   "cell_type": "code",
   "execution_count": 332,
   "metadata": {
    "id": "7TUz3cbrujOy"
   },
   "outputs": [
    {
     "name": "stdout",
     "output_type": "stream",
     "text": [
      "Fitting 3 folds for each of 300 candidates, totalling 900 fits\n"
     ]
    },
    {
     "name": "stderr",
     "output_type": "stream",
     "text": [
      "[Parallel(n_jobs=-1)]: Using backend LokyBackend with 4 concurrent workers.\n",
      "[Parallel(n_jobs=-1)]: Done 128 tasks      | elapsed:    4.6s\n",
      "[Parallel(n_jobs=-1)]: Done 728 tasks      | elapsed:   22.6s\n",
      "[Parallel(n_jobs=-1)]: Done 900 out of 900 | elapsed:   27.8s finished\n"
     ]
    },
    {
     "data": {
      "text/plain": [
       "RandomizedSearchCV(cv=3, estimator=LogisticRegression(), n_iter=300, n_jobs=-1,\n",
       "                   param_distributions={'C': array([1.00000e-05, 1.00200e-02, 2.00300e-02, 3.00400e-02, 4.00500e-02,\n",
       "       5.00600e-02, 6.00700e-02, 7.00800e-02, 8.00900e-02, 9.01000e-02,\n",
       "       1.00110e-01, 1.10120e-01, 1.20130e-01, 1.30140e-01, 1.40150e-01,\n",
       "       1.50160e-01, 1.60170e-01, 1.70180e-01, 1.80190e-01, 1.90200e-01,\n",
       "       2....\n",
       "       9.80981e+00, 9.81982e+00, 9.82983e+00, 9.83984e+00, 9.84985e+00,\n",
       "       9.85986e+00, 9.86987e+00, 9.87988e+00, 9.88989e+00, 9.89990e+00,\n",
       "       9.90991e+00, 9.91992e+00, 9.92993e+00, 9.93994e+00, 9.94995e+00,\n",
       "       9.95996e+00, 9.96997e+00, 9.97998e+00, 9.98999e+00, 1.00000e+01]),\n",
       "                                        'class_weight': [None, 'weight'],\n",
       "                                        'fit_intercept': [True, False],\n",
       "                                        'penalty': ['l1', 'l2', 'elasticnet',\n",
       "                                                    None]},\n",
       "                   scoring='recall', verbose=1)"
      ]
     },
     "execution_count": 332,
     "metadata": {},
     "output_type": "execute_result"
    }
   ],
   "source": [
    "logreg_sm_rb = RandomizedSearchCV(estimator = logreg, param_distributions = param_logreg, cv = 3, n_jobs = -1 , n_iter=300, verbose = 1, scoring = 'recall')\n",
    "x_train_sm[columns_continuous] = rb_scale.fit_transform(x_train_sm[columns_continuous])\n",
    "logreg_sm_rb.fit(x_train_sm, y_train_sm)"
   ]
  },
  {
   "cell_type": "code",
   "execution_count": 333,
   "metadata": {},
   "outputs": [
    {
     "data": {
      "text/plain": [
       "LogisticRegression(C=2.15216)"
      ]
     },
     "execution_count": 333,
     "metadata": {},
     "output_type": "execute_result"
    }
   ],
   "source": [
    "logreg_sm_rb_tuned = logreg_sm_rb.best_estimator_\n",
    "pred_train_sm_rb = logreg_sm_rb_tuned.predict(x_train_sm)\n",
    "x_test[columns_continuous] = rb_scale.fit_transform(x_test[columns_continuous])\n",
    "pred_test_sm_rb = logreg_sm_rb_tuned.predict(x_test)\n",
    "logreg_sm_rb_tuned"
   ]
  },
  {
   "cell_type": "code",
   "execution_count": 334,
   "metadata": {
    "id": "YFFI65T9vEP1"
   },
   "outputs": [],
   "source": [
    "logreg_acc_tuned_train_sm_rb = accuracy_score(y_train_sm, pred_train_sm_rb)\n",
    "logreg_acc_tuned_test_sm_rb = accuracy_score(y_test, pred_test_sm_rb)\n",
    "logreg_recall_tuned_train_sm_rb = recall_score(y_train_sm, pred_train_sm_rb)\n",
    "logreg_recall_tuned_test_sm_rb = recall_score(y_test, pred_test_sm_rb)\n",
    "logreg_prec_tuned_train_sm_rb = precision_score(y_train_sm, pred_train_sm_rb)\n",
    "logreg_prec_tuned_test_sm_rb = precision_score(y_test, pred_test_sm_rb)\n",
    "logreg_f1_tuned_train_sm_rb = f1_score(y_train_sm, pred_train_sm_rb)\n",
    "logreg_f1_tuned_test_sm_rb = f1_score(y_test, pred_test_sm_rb)"
   ]
  },
  {
   "cell_type": "code",
   "execution_count": 335,
   "metadata": {
    "colab": {
     "base_uri": "https://localhost:8080/",
     "height": 110
    },
    "id": "p5W8n4ejvY1U",
    "outputId": "aa86b1ae-4ed5-436e-b6f1-40f2798f1040"
   },
   "outputs": [
    {
     "data": {
      "text/html": [
       "<div>\n",
       "<style scoped>\n",
       "    .dataframe tbody tr th:only-of-type {\n",
       "        vertical-align: middle;\n",
       "    }\n",
       "\n",
       "    .dataframe tbody tr th {\n",
       "        vertical-align: top;\n",
       "    }\n",
       "\n",
       "    .dataframe thead th {\n",
       "        text-align: right;\n",
       "    }\n",
       "</style>\n",
       "<table border=\"1\" class=\"dataframe\">\n",
       "  <thead>\n",
       "    <tr style=\"text-align: right;\">\n",
       "      <th></th>\n",
       "      <th>Pred 1</th>\n",
       "      <th>Pred 0</th>\n",
       "    </tr>\n",
       "  </thead>\n",
       "  <tbody>\n",
       "    <tr>\n",
       "      <th>Akt 1</th>\n",
       "      <td>49</td>\n",
       "      <td>211</td>\n",
       "    </tr>\n",
       "    <tr>\n",
       "      <th>Akt 0</th>\n",
       "      <td>29</td>\n",
       "      <td>1520</td>\n",
       "    </tr>\n",
       "  </tbody>\n",
       "</table>\n",
       "</div>"
      ],
      "text/plain": [
       "       Pred 1  Pred 0\n",
       "Akt 1      49     211\n",
       "Akt 0      29    1520"
      ]
     },
     "execution_count": 335,
     "metadata": {},
     "output_type": "execute_result"
    }
   ],
   "source": [
    "cm_logreg_tuned_sm_rb = confusion_matrix(y_test, pred_test_sm_rb, labels=[1, 0])\n",
    "cm_logreg_tuned_sm_rb = pd.DataFrame(data=cm_logreg_tuned_sm_rb, index=['Akt 1', 'Akt 0'], columns=['Pred 1', 'Pred 0'])\n",
    "cm_logreg_tuned_sm_rb"
   ]
  },
  {
   "cell_type": "code",
   "execution_count": 336,
   "metadata": {},
   "outputs": [
    {
     "name": "stdout",
     "output_type": "stream",
     "text": [
      "              precision    recall  f1-score   support\n",
      "\n",
      "           0       0.88      0.98      0.93      1549\n",
      "           1       0.63      0.19      0.29       260\n",
      "\n",
      "    accuracy                           0.87      1809\n",
      "   macro avg       0.75      0.58      0.61      1809\n",
      "weighted avg       0.84      0.87      0.84      1809\n",
      "\n"
     ]
    }
   ],
   "source": [
    "print(classification_report(y_test, pred_test_sm_rb))"
   ]
  },
  {
   "cell_type": "code",
   "execution_count": 337,
   "metadata": {},
   "outputs": [],
   "source": [
    "tp_logreg_sm_rb = cm_logreg_tuned_sm_rb['Pred 1'][0]\n",
    "tn_logreg_sm_rb = cm_logreg_tuned_sm_rb['Pred 0'][1]\n",
    "fp_logreg_sm_rb = cm_logreg_tuned_sm_rb['Pred 1'][1]\n",
    "fn_logreg_sm_rb = cm_logreg_tuned_sm_rb['Pred 0'][0]"
   ]
  },
  {
   "cell_type": "markdown",
   "metadata": {
    "id": "3h5MNZXa2u_4"
   },
   "source": [
    "### Evaluation For Logistic Regression and Support Vector Classifier"
   ]
  },
  {
   "cell_type": "code",
   "execution_count": 338,
   "metadata": {
    "id": "yjRXgKyI224M"
   },
   "outputs": [],
   "source": [
    "distance_tuned = {\n",
    "    \"SVM_OS_Train\": [svm_acc_tuned_train_os, svm_recall_tuned_train_os, svm_prec_tuned_train_os, svm_f1_tuned_train_os],\n",
    "    \"SVM_OS_Test\" : [svm_acc_tuned_test_os, svm_recall_tuned_test_os, svm_prec_tuned_test_os, svm_f1_tuned_test_os],\n",
    "    \"SVM_SM_Train\": [svm_acc_tuned_train_sm, svm_recall_tuned_train_sm, svm_prec_tuned_train_sm, svm_f1_tuned_train_sm],\n",
    "    \"SVM_SM_Test\" : [svm_acc_tuned_test_sm, svm_recall_tuned_test_sm, svm_prec_tuned_test_sm, svm_f1_tuned_test_sm],\n",
    "    \"Logreg_OS_Train\": [logreg_acc_tuned_train_os, logreg_recall_tuned_train_os, logreg_prec_tuned_train_os, logreg_f1_tuned_train_os],\n",
    "    \"Logreg_OS_Test\" : [logreg_acc_tuned_test_os, logreg_recall_tuned_test_os, logreg_prec_tuned_test_os, logreg_f1_tuned_test_os],\n",
    "    \"Logreg_SM_Train\": [logreg_acc_tuned_train_sm, logreg_recall_tuned_train_sm, logreg_prec_tuned_train_sm, logreg_f1_tuned_train_sm],\n",
    "    \"Logreg_SM_Test\" : [logreg_acc_tuned_test_sm, logreg_recall_tuned_test_sm, logreg_prec_tuned_test_sm, logreg_f1_tuned_test_sm]\n",
    "    }\n",
    "tuned_matrix = pd.DataFrame(data = distance_tuned, index = ['Accuracy', 'Recall', 'Precision', 'F1 Score'])\n",
    "\n",
    "dictance_tuned_os = {\n",
    "    \"SVM Standard_OS_Train\": [svm_acc_tuned_train_os_std, svm_recall_tuned_train_os_std, svm_prec_tuned_train_os_std, svm_f1_tuned_train_os_std],\n",
    "    \"SVM Standard_OS_Test\" : [svm_acc_tuned_test_os_std, svm_recall_tuned_test_os_std, svm_prec_tuned_test_os_std, svm_f1_tuned_test_os_std],\n",
    "    \"SVM MinMax_OS_Train\": [svm_acc_tuned_train_os_mm, svm_recall_tuned_train_os_mm, svm_prec_tuned_train_os_mm, svm_f1_tuned_train_os_mm],\n",
    "    \"SVM MinMax_OS_Test\" : [svm_acc_tuned_test_os_mm, svm_recall_tuned_test_os_mm, svm_prec_tuned_test_os_mm, svm_f1_tuned_test_os_mm],\n",
    "    \"SVM Robust_OS_Train\": [svm_acc_tuned_train_os_rb, svm_recall_tuned_train_os_rb, svm_prec_tuned_train_os_rb, svm_f1_tuned_train_os_rb],\n",
    "    \"SVM Robust_OS_Test\" : [svm_acc_tuned_test_os_rb, svm_recall_tuned_test_os_rb, svm_prec_tuned_test_os_rb, svm_f1_tuned_test_os_rb],\n",
    "    \"Logreg Standard_OS_Train\": [logreg_acc_tuned_train_os_std, logreg_recall_tuned_train_os_std, logreg_prec_tuned_train_os_std, logreg_f1_tuned_train_os_std],\n",
    "    \"Logreg Standard_OS_Test\" : [logreg_acc_tuned_test_os_std, logreg_recall_tuned_test_os_std, logreg_prec_tuned_test_os_std, logreg_f1_tuned_test_os_std],\n",
    "    \"Logreg MinMax_OS_Train\": [logreg_acc_tuned_train_os_mm, logreg_recall_tuned_train_os_mm, logreg_prec_tuned_train_os_mm, logreg_f1_tuned_train_os_mm],\n",
    "    \"Logreg MinMax_OS_Test\" : [logreg_acc_tuned_test_os_mm, logreg_recall_tuned_test_os_mm, logreg_prec_tuned_test_os_mm, logreg_f1_tuned_test_os_mm],\n",
    "    \"Logreg Robust_OS_Train\": [logreg_acc_tuned_train_os_rb, logreg_recall_tuned_train_os_rb, logreg_prec_tuned_train_os_rb, logreg_f1_tuned_train_os_rb],\n",
    "    \"Logreg Robust_OS_Test\" : [logreg_acc_tuned_test_os_rb, logreg_recall_tuned_test_os_rb, logreg_prec_tuned_test_os_rb, logreg_f1_tuned_test_os_rb]\n",
    "    }\n",
    "distance_tuned_os_matrix = pd.DataFrame(data = dictance_tuned_os, index = ['Accuracy', 'Recall', 'Precision', 'F1 Score'])\n",
    "\n",
    "distance_tuned_sm = {\n",
    "    \"SVM Standard_SM_Train\": [svm_acc_tuned_train_sm_std, svm_recall_tuned_train_sm_std, svm_prec_tuned_train_sm_std, svm_f1_tuned_train_sm_std],\n",
    "    \"SVM Standard_SM_Test\" : [svm_acc_tuned_test_sm_std, svm_recall_tuned_test_sm_std, svm_prec_tuned_test_sm_std, svm_f1_tuned_test_sm_std],\n",
    "    \"SVM MinMax_SM_Train\": [svm_acc_tuned_train_sm_mm, svm_recall_tuned_train_sm_mm, svm_prec_tuned_train_sm_mm, svm_f1_tuned_train_sm_mm],\n",
    "    \"SVM MinMax_SM_Test\" : [svm_acc_tuned_test_sm_mm, svm_recall_tuned_test_sm_mm, svm_prec_tuned_test_sm_mm, svm_f1_tuned_test_sm_mm],\n",
    "    \"SVM Robust_SM_Train\": [svm_acc_tuned_train_sm_rb, svm_recall_tuned_train_sm_rb, svm_prec_tuned_train_sm_rb, svm_f1_tuned_train_sm_rb],\n",
    "    \"SVM Robust_SM_Test\" : [svm_acc_tuned_test_sm_rb, svm_recall_tuned_test_sm_rb, svm_prec_tuned_test_sm_rb, svm_f1_tuned_test_sm_rb],\n",
    "    \"Logreg Standard_SM_Train\": [logreg_acc_tuned_train_sm_std, logreg_recall_tuned_train_sm_std, logreg_prec_tuned_train_sm_std, logreg_f1_tuned_train_sm_std],\n",
    "    \"Logreg Standard_SM_Test\" : [logreg_acc_tuned_test_sm_std, logreg_recall_tuned_test_sm_std, logreg_prec_tuned_test_sm_std, logreg_f1_tuned_test_sm_std],\n",
    "    \"Logreg MinMax_SM_Train\": [logreg_acc_tuned_train_sm_mm, logreg_recall_tuned_train_sm_mm, logreg_prec_tuned_train_sm_mm, logreg_f1_tuned_train_sm_mm],\n",
    "    \"Logreg MinMax_SM_Test\" : [logreg_acc_tuned_test_sm_mm, logreg_recall_tuned_test_sm_mm, logreg_prec_tuned_test_sm_mm, logreg_f1_tuned_test_sm_mm],\n",
    "    \"Logreg Robust_SM_Train\": [logreg_acc_tuned_train_sm_rb, logreg_recall_tuned_train_sm_rb, logreg_prec_tuned_train_sm_rb, logreg_f1_tuned_train_sm_rb],\n",
    "    \"Logreg Robust_SM_Test\" : [logreg_acc_tuned_test_sm_rb, logreg_recall_tuned_test_sm_rb, logreg_prec_tuned_test_sm_rb, logreg_f1_tuned_test_sm_rb]\n",
    "    }\n",
    "distance_tuned_sm_matrix = pd.DataFrame(data = distance_tuned_sm, index = ['Accuracy', 'Recall', 'Precision', 'F1 Score'])"
   ]
  },
  {
   "cell_type": "code",
   "execution_count": 339,
   "metadata": {
    "colab": {
     "base_uri": "https://localhost:8080/",
     "height": 141
    },
    "id": "ddEppG_4vf7P",
    "outputId": "c8ffef20-b6f1-4ccc-b8dd-6f85bb8f4e22"
   },
   "outputs": [
    {
     "data": {
      "text/html": [
       "<div>\n",
       "<style scoped>\n",
       "    .dataframe tbody tr th:only-of-type {\n",
       "        vertical-align: middle;\n",
       "    }\n",
       "\n",
       "    .dataframe tbody tr th {\n",
       "        vertical-align: top;\n",
       "    }\n",
       "\n",
       "    .dataframe thead th {\n",
       "        text-align: right;\n",
       "    }\n",
       "</style>\n",
       "<table border=\"1\" class=\"dataframe\">\n",
       "  <thead>\n",
       "    <tr style=\"text-align: right;\">\n",
       "      <th></th>\n",
       "      <th>SVM_OS_Train</th>\n",
       "      <th>SVM_OS_Test</th>\n",
       "      <th>SVM_SM_Train</th>\n",
       "      <th>SVM_SM_Test</th>\n",
       "      <th>Logreg_OS_Train</th>\n",
       "      <th>Logreg_OS_Test</th>\n",
       "      <th>Logreg_SM_Train</th>\n",
       "      <th>Logreg_SM_Test</th>\n",
       "    </tr>\n",
       "  </thead>\n",
       "  <tbody>\n",
       "    <tr>\n",
       "      <th>Accuracy</th>\n",
       "      <td>0.999919</td>\n",
       "      <td>0.970149</td>\n",
       "      <td>0.580723</td>\n",
       "      <td>0.143726</td>\n",
       "      <td>0.741201</td>\n",
       "      <td>0.709784</td>\n",
       "      <td>0.908056</td>\n",
       "      <td>0.864566</td>\n",
       "    </tr>\n",
       "    <tr>\n",
       "      <th>Recall</th>\n",
       "      <td>1.000000</td>\n",
       "      <td>0.819231</td>\n",
       "      <td>1.000000</td>\n",
       "      <td>1.000000</td>\n",
       "      <td>0.780917</td>\n",
       "      <td>0.734615</td>\n",
       "      <td>0.835325</td>\n",
       "      <td>0.188462</td>\n",
       "    </tr>\n",
       "    <tr>\n",
       "      <th>Precision</th>\n",
       "      <td>0.999839</td>\n",
       "      <td>0.968182</td>\n",
       "      <td>0.543906</td>\n",
       "      <td>0.143726</td>\n",
       "      <td>0.723452</td>\n",
       "      <td>0.295209</td>\n",
       "      <td>0.977517</td>\n",
       "      <td>0.590361</td>\n",
       "    </tr>\n",
       "    <tr>\n",
       "      <th>F1 Score</th>\n",
       "      <td>0.999919</td>\n",
       "      <td>0.887500</td>\n",
       "      <td>0.704584</td>\n",
       "      <td>0.251329</td>\n",
       "      <td>0.751087</td>\n",
       "      <td>0.421169</td>\n",
       "      <td>0.900844</td>\n",
       "      <td>0.285714</td>\n",
       "    </tr>\n",
       "  </tbody>\n",
       "</table>\n",
       "</div>"
      ],
      "text/plain": [
       "           SVM_OS_Train  SVM_OS_Test  SVM_SM_Train  SVM_SM_Test  \\\n",
       "Accuracy       0.999919     0.970149      0.580723     0.143726   \n",
       "Recall         1.000000     0.819231      1.000000     1.000000   \n",
       "Precision      0.999839     0.968182      0.543906     0.143726   \n",
       "F1 Score       0.999919     0.887500      0.704584     0.251329   \n",
       "\n",
       "           Logreg_OS_Train  Logreg_OS_Test  Logreg_SM_Train  Logreg_SM_Test  \n",
       "Accuracy          0.741201        0.709784         0.908056        0.864566  \n",
       "Recall            0.780917        0.734615         0.835325        0.188462  \n",
       "Precision         0.723452        0.295209         0.977517        0.590361  \n",
       "F1 Score          0.751087        0.421169         0.900844        0.285714  "
      ]
     },
     "execution_count": 339,
     "metadata": {},
     "output_type": "execute_result"
    }
   ],
   "source": [
    "tuned_matrix"
   ]
  },
  {
   "cell_type": "code",
   "execution_count": 340,
   "metadata": {
    "colab": {
     "base_uri": "https://localhost:8080/",
     "height": 141
    },
    "id": "F1Cpf49Pvndf",
    "outputId": "3f194a08-2de0-4b84-abb4-3339f11ac008",
    "scrolled": true
   },
   "outputs": [
    {
     "data": {
      "text/html": [
       "<div>\n",
       "<style scoped>\n",
       "    .dataframe tbody tr th:only-of-type {\n",
       "        vertical-align: middle;\n",
       "    }\n",
       "\n",
       "    .dataframe tbody tr th {\n",
       "        vertical-align: top;\n",
       "    }\n",
       "\n",
       "    .dataframe thead th {\n",
       "        text-align: right;\n",
       "    }\n",
       "</style>\n",
       "<table border=\"1\" class=\"dataframe\">\n",
       "  <thead>\n",
       "    <tr style=\"text-align: right;\">\n",
       "      <th></th>\n",
       "      <th>SVM Standard_OS_Train</th>\n",
       "      <th>SVM Standard_OS_Test</th>\n",
       "      <th>SVM MinMax_OS_Train</th>\n",
       "      <th>SVM MinMax_OS_Test</th>\n",
       "      <th>SVM Robust_OS_Train</th>\n",
       "      <th>SVM Robust_OS_Test</th>\n",
       "      <th>Logreg Standard_OS_Train</th>\n",
       "      <th>Logreg Standard_OS_Test</th>\n",
       "      <th>Logreg MinMax_OS_Train</th>\n",
       "      <th>Logreg MinMax_OS_Test</th>\n",
       "      <th>Logreg Robust_OS_Train</th>\n",
       "      <th>Logreg Robust_OS_Test</th>\n",
       "    </tr>\n",
       "  </thead>\n",
       "  <tbody>\n",
       "    <tr>\n",
       "      <th>Accuracy</th>\n",
       "      <td>0.999919</td>\n",
       "      <td>0.970149</td>\n",
       "      <td>0.999516</td>\n",
       "      <td>0.940851</td>\n",
       "      <td>0.999919</td>\n",
       "      <td>0.966833</td>\n",
       "      <td>0.742816</td>\n",
       "      <td>0.709784</td>\n",
       "      <td>0.742816</td>\n",
       "      <td>0.723604</td>\n",
       "      <td>0.742896</td>\n",
       "      <td>0.711443</td>\n",
       "    </tr>\n",
       "    <tr>\n",
       "      <th>Recall</th>\n",
       "      <td>1.000000</td>\n",
       "      <td>0.819231</td>\n",
       "      <td>1.000000</td>\n",
       "      <td>0.723077</td>\n",
       "      <td>1.000000</td>\n",
       "      <td>0.807692</td>\n",
       "      <td>0.784630</td>\n",
       "      <td>0.746154</td>\n",
       "      <td>0.785115</td>\n",
       "      <td>0.703846</td>\n",
       "      <td>0.784630</td>\n",
       "      <td>0.730769</td>\n",
       "    </tr>\n",
       "    <tr>\n",
       "      <th>Precision</th>\n",
       "      <td>0.999839</td>\n",
       "      <td>0.968182</td>\n",
       "      <td>0.999032</td>\n",
       "      <td>0.843049</td>\n",
       "      <td>0.999839</td>\n",
       "      <td>0.954545</td>\n",
       "      <td>0.724076</td>\n",
       "      <td>0.297090</td>\n",
       "      <td>0.723876</td>\n",
       "      <td>0.301980</td>\n",
       "      <td>0.724184</td>\n",
       "      <td>0.295950</td>\n",
       "    </tr>\n",
       "    <tr>\n",
       "      <th>F1 Score</th>\n",
       "      <td>0.999919</td>\n",
       "      <td>0.887500</td>\n",
       "      <td>0.999516</td>\n",
       "      <td>0.778468</td>\n",
       "      <td>0.999919</td>\n",
       "      <td>0.875000</td>\n",
       "      <td>0.753138</td>\n",
       "      <td>0.424973</td>\n",
       "      <td>0.753253</td>\n",
       "      <td>0.422633</td>\n",
       "      <td>0.753196</td>\n",
       "      <td>0.421286</td>\n",
       "    </tr>\n",
       "  </tbody>\n",
       "</table>\n",
       "</div>"
      ],
      "text/plain": [
       "           SVM Standard_OS_Train  SVM Standard_OS_Test  SVM MinMax_OS_Train  \\\n",
       "Accuracy                0.999919              0.970149             0.999516   \n",
       "Recall                  1.000000              0.819231             1.000000   \n",
       "Precision               0.999839              0.968182             0.999032   \n",
       "F1 Score                0.999919              0.887500             0.999516   \n",
       "\n",
       "           SVM MinMax_OS_Test  SVM Robust_OS_Train  SVM Robust_OS_Test  \\\n",
       "Accuracy             0.940851             0.999919            0.966833   \n",
       "Recall               0.723077             1.000000            0.807692   \n",
       "Precision            0.843049             0.999839            0.954545   \n",
       "F1 Score             0.778468             0.999919            0.875000   \n",
       "\n",
       "           Logreg Standard_OS_Train  Logreg Standard_OS_Test  \\\n",
       "Accuracy                   0.742816                 0.709784   \n",
       "Recall                     0.784630                 0.746154   \n",
       "Precision                  0.724076                 0.297090   \n",
       "F1 Score                   0.753138                 0.424973   \n",
       "\n",
       "           Logreg MinMax_OS_Train  Logreg MinMax_OS_Test  \\\n",
       "Accuracy                 0.742816               0.723604   \n",
       "Recall                   0.785115               0.703846   \n",
       "Precision                0.723876               0.301980   \n",
       "F1 Score                 0.753253               0.422633   \n",
       "\n",
       "           Logreg Robust_OS_Train  Logreg Robust_OS_Test  \n",
       "Accuracy                 0.742896               0.711443  \n",
       "Recall                   0.784630               0.730769  \n",
       "Precision                0.724184               0.295950  \n",
       "F1 Score                 0.753196               0.421286  "
      ]
     },
     "execution_count": 340,
     "metadata": {},
     "output_type": "execute_result"
    }
   ],
   "source": [
    "distance_tuned_os_matrix"
   ]
  },
  {
   "cell_type": "code",
   "execution_count": 341,
   "metadata": {
    "colab": {
     "base_uri": "https://localhost:8080/",
     "height": 141
    },
    "id": "XNL_wRqW36dJ",
    "outputId": "c12f1350-a96c-4f13-b50a-7fd838981285"
   },
   "outputs": [
    {
     "data": {
      "text/html": [
       "<div>\n",
       "<style scoped>\n",
       "    .dataframe tbody tr th:only-of-type {\n",
       "        vertical-align: middle;\n",
       "    }\n",
       "\n",
       "    .dataframe tbody tr th {\n",
       "        vertical-align: top;\n",
       "    }\n",
       "\n",
       "    .dataframe thead th {\n",
       "        text-align: right;\n",
       "    }\n",
       "</style>\n",
       "<table border=\"1\" class=\"dataframe\">\n",
       "  <thead>\n",
       "    <tr style=\"text-align: right;\">\n",
       "      <th></th>\n",
       "      <th>SVM Standard_SM_Train</th>\n",
       "      <th>SVM Standard_SM_Test</th>\n",
       "      <th>SVM MinMax_SM_Train</th>\n",
       "      <th>SVM MinMax_SM_Test</th>\n",
       "      <th>SVM Robust_SM_Train</th>\n",
       "      <th>SVM Robust_SM_Test</th>\n",
       "      <th>Logreg Standard_SM_Train</th>\n",
       "      <th>Logreg Standard_SM_Test</th>\n",
       "      <th>Logreg MinMax_SM_Train</th>\n",
       "      <th>Logreg MinMax_SM_Test</th>\n",
       "      <th>Logreg Robust_SM_Train</th>\n",
       "      <th>Logreg Robust_SM_Test</th>\n",
       "    </tr>\n",
       "  </thead>\n",
       "  <tbody>\n",
       "    <tr>\n",
       "      <th>Accuracy</th>\n",
       "      <td>0.852680</td>\n",
       "      <td>0.694306</td>\n",
       "      <td>0.582661</td>\n",
       "      <td>0.145384</td>\n",
       "      <td>0.824104</td>\n",
       "      <td>0.629077</td>\n",
       "      <td>0.909267</td>\n",
       "      <td>0.865119</td>\n",
       "      <td>0.901275</td>\n",
       "      <td>0.855721</td>\n",
       "      <td>0.908621</td>\n",
       "      <td>0.867330</td>\n",
       "    </tr>\n",
       "    <tr>\n",
       "      <th>Recall</th>\n",
       "      <td>0.999354</td>\n",
       "      <td>0.988462</td>\n",
       "      <td>1.000000</td>\n",
       "      <td>1.000000</td>\n",
       "      <td>0.999354</td>\n",
       "      <td>0.980769</td>\n",
       "      <td>0.836132</td>\n",
       "      <td>0.192308</td>\n",
       "      <td>0.839845</td>\n",
       "      <td>0.261538</td>\n",
       "      <td>0.835647</td>\n",
       "      <td>0.188462</td>\n",
       "    </tr>\n",
       "    <tr>\n",
       "      <th>Precision</th>\n",
       "      <td>0.772688</td>\n",
       "      <td>0.318463</td>\n",
       "      <td>0.545055</td>\n",
       "      <td>0.143965</td>\n",
       "      <td>0.739988</td>\n",
       "      <td>0.276873</td>\n",
       "      <td>0.979387</td>\n",
       "      <td>0.595238</td>\n",
       "      <td>0.957482</td>\n",
       "      <td>0.496350</td>\n",
       "      <td>0.978450</td>\n",
       "      <td>0.628205</td>\n",
       "    </tr>\n",
       "    <tr>\n",
       "      <th>F1 Score</th>\n",
       "      <td>0.871524</td>\n",
       "      <td>0.481724</td>\n",
       "      <td>0.705547</td>\n",
       "      <td>0.251694</td>\n",
       "      <td>0.850333</td>\n",
       "      <td>0.431837</td>\n",
       "      <td>0.902108</td>\n",
       "      <td>0.290698</td>\n",
       "      <td>0.894814</td>\n",
       "      <td>0.342569</td>\n",
       "      <td>0.901428</td>\n",
       "      <td>0.289941</td>\n",
       "    </tr>\n",
       "  </tbody>\n",
       "</table>\n",
       "</div>"
      ],
      "text/plain": [
       "           SVM Standard_SM_Train  SVM Standard_SM_Test  SVM MinMax_SM_Train  \\\n",
       "Accuracy                0.852680              0.694306             0.582661   \n",
       "Recall                  0.999354              0.988462             1.000000   \n",
       "Precision               0.772688              0.318463             0.545055   \n",
       "F1 Score                0.871524              0.481724             0.705547   \n",
       "\n",
       "           SVM MinMax_SM_Test  SVM Robust_SM_Train  SVM Robust_SM_Test  \\\n",
       "Accuracy             0.145384             0.824104            0.629077   \n",
       "Recall               1.000000             0.999354            0.980769   \n",
       "Precision            0.143965             0.739988            0.276873   \n",
       "F1 Score             0.251694             0.850333            0.431837   \n",
       "\n",
       "           Logreg Standard_SM_Train  Logreg Standard_SM_Test  \\\n",
       "Accuracy                   0.909267                 0.865119   \n",
       "Recall                     0.836132                 0.192308   \n",
       "Precision                  0.979387                 0.595238   \n",
       "F1 Score                   0.902108                 0.290698   \n",
       "\n",
       "           Logreg MinMax_SM_Train  Logreg MinMax_SM_Test  \\\n",
       "Accuracy                 0.901275               0.855721   \n",
       "Recall                   0.839845               0.261538   \n",
       "Precision                0.957482               0.496350   \n",
       "F1 Score                 0.894814               0.342569   \n",
       "\n",
       "           Logreg Robust_SM_Train  Logreg Robust_SM_Test  \n",
       "Accuracy                 0.908621               0.867330  \n",
       "Recall                   0.835647               0.188462  \n",
       "Precision                0.978450               0.628205  \n",
       "F1 Score                 0.901428               0.289941  "
      ]
     },
     "execution_count": 341,
     "metadata": {},
     "output_type": "execute_result"
    }
   ],
   "source": [
    "distance_tuned_sm_matrix"
   ]
  },
  {
   "cell_type": "markdown",
   "metadata": {
    "id": "VI1092yjKtNt"
   },
   "source": [
    "## Decision Tree"
   ]
  },
  {
   "cell_type": "code",
   "execution_count": 342,
   "metadata": {},
   "outputs": [],
   "source": [
    "decision_tree = DecisionTreeClassifier()"
   ]
  },
  {
   "cell_type": "code",
   "execution_count": 343,
   "metadata": {},
   "outputs": [],
   "source": [
    "param_dt =  {\"criterion\" : ['gini', 'entropy'],\n",
    "             \"max_depth\": [None, 2, 3, 4, 5, 6, 7, 8, 9, 10, 11, 12, 13, 14, 15, 16, 17, 18, 19, 20, 21, 22, 23, 24, 25, 26, 27, 28, 29, 30, 31, 32, 33, 34, 35, 36, 37, 38, 39, 40, 41, 42, 43, 44, 45, 46, 47, 48, 49, 50], \n",
    "             \"min_samples_split\": [2, 3, 4, 5, 6, 7, 8, 9, 10, 11, 12, 13, 14, 15, 16, 17, 18, 19, 20, 21, 22, 23, 24, 25, 26, 27, 28, 29, 30, 31, 32, 33, 34, 35, 36, 37, 38, 39, 40, 41, 42, 43, 44, 45, 46, 47, 48, 49, 50],\n",
    "             \"min_samples_leaf\":[1, 2, 3, 4, 5, 6, 7, 8, 9, 10, 11, 12, 13, 14, 15, 16, 17, 18, 19, 20, 21, 22, 23, 24, 25, 26, 27, 28, 29, 30, 31, 32, 33, 34, 35, 36, 37, 38, 39, 40, 41, 42, 43, 44, 45, 46, 47, 48, 49, 50], \n",
    "             \"max_features\" : ['auto', 'sqrt', 'log2']}"
   ]
  },
  {
   "cell_type": "markdown",
   "metadata": {
    "id": "L3ZeYf-gMS6A"
   },
   "source": [
    "### Random Over Sampling"
   ]
  },
  {
   "cell_type": "code",
   "execution_count": 344,
   "metadata": {
    "id": "53ZE2_HcK0U5"
   },
   "outputs": [
    {
     "name": "stdout",
     "output_type": "stream",
     "text": [
      "Fitting 3 folds for each of 300 candidates, totalling 900 fits\n"
     ]
    },
    {
     "name": "stderr",
     "output_type": "stream",
     "text": [
      "[Parallel(n_jobs=-1)]: Using backend LokyBackend with 4 concurrent workers.\n",
      "[Parallel(n_jobs=-1)]: Done  52 tasks      | elapsed:    1.4s\n",
      "[Parallel(n_jobs=-1)]: Done 352 tasks      | elapsed:    8.5s\n",
      "[Parallel(n_jobs=-1)]: Done 852 tasks      | elapsed:   19.9s\n",
      "[Parallel(n_jobs=-1)]: Done 900 out of 900 | elapsed:   20.9s finished\n"
     ]
    },
    {
     "data": {
      "text/plain": [
       "RandomizedSearchCV(cv=3, estimator=DecisionTreeClassifier(), n_iter=300,\n",
       "                   n_jobs=-1,\n",
       "                   param_distributions={'criterion': ['gini', 'entropy'],\n",
       "                                        'max_depth': [None, 2, 3, 4, 5, 6, 7, 8,\n",
       "                                                      9, 10, 11, 12, 13, 14, 15,\n",
       "                                                      16, 17, 18, 19, 20, 21,\n",
       "                                                      22, 23, 24, 25, 26, 27,\n",
       "                                                      28, 29, 30, ...],\n",
       "                                        'max_features': ['auto', 'sqrt',\n",
       "                                                         'log2'],\n",
       "                                        'min_samples_leaf': [1, 2, 3, 4, 5, 6,\n",
       "                                                             7, 8, 9, 10, 11,\n",
       "                                                             12, 13, 14, 15, 16,\n",
       "                                                             17, 18, 19, 20, 21,\n",
       "                                                             22, 23, 24, 25, 26,\n",
       "                                                             27, 28, 29, 30, ...],\n",
       "                                        'min_samples_split': [2, 3, 4, 5, 6, 7,\n",
       "                                                              8, 9, 10, 11, 12,\n",
       "                                                              13, 14, 15, 16,\n",
       "                                                              17, 18, 19, 20,\n",
       "                                                              21, 22, 23, 24,\n",
       "                                                              25, 26, 27, 28,\n",
       "                                                              29, 30, 31, ...]},\n",
       "                   scoring='recall', verbose=1)"
      ]
     },
     "execution_count": 344,
     "metadata": {},
     "output_type": "execute_result"
    }
   ],
   "source": [
    "dt_os = RandomizedSearchCV(estimator = decision_tree, param_distributions = param_dt, cv = 3, n_jobs = -1 , n_iter=300, verbose = 1, scoring = 'recall')\n",
    "dt_os.fit(x_train_os, y_train_os)"
   ]
  },
  {
   "cell_type": "code",
   "execution_count": 345,
   "metadata": {},
   "outputs": [
    {
     "data": {
      "text/plain": [
       "DecisionTreeClassifier(criterion='entropy', max_depth=31, max_features='auto',\n",
       "                       min_samples_leaf=3, min_samples_split=6)"
      ]
     },
     "execution_count": 345,
     "metadata": {},
     "output_type": "execute_result"
    }
   ],
   "source": [
    "dt_tuned_os = dt_os.best_estimator_\n",
    "pred_train_os = dt_tuned_os.predict(x_train_os)\n",
    "pred_test_os = dt_tuned_os.predict(x_test)\n",
    "dt_tuned_os"
   ]
  },
  {
   "cell_type": "code",
   "execution_count": 346,
   "metadata": {
    "id": "wcBzmHgsMCvh"
   },
   "outputs": [],
   "source": [
    "dt_acc_tuned_train_os = accuracy_score(y_train_os, pred_train_os)\n",
    "dt_acc_tuned_test_os = accuracy_score(y_test, pred_test_os)\n",
    "dt_recall_tuned_train_os = recall_score(y_train_os, pred_train_os)\n",
    "dt_recall_tuned_test_os = recall_score(y_test, pred_test_os)\n",
    "dt_prec_tuned_train_os = precision_score(y_train_os, pred_train_os)\n",
    "dt_prec_tuned_test_os = precision_score(y_test, pred_test_os)\n",
    "dt_f1_tuned_train_os = f1_score(y_train_os, pred_train_os)\n",
    "dt_f1_tuned_test_os = f1_score(y_test, pred_test_os)"
   ]
  },
  {
   "cell_type": "code",
   "execution_count": 347,
   "metadata": {
    "colab": {
     "base_uri": "https://localhost:8080/",
     "height": 110
    },
    "id": "h1oxahW6MH9x",
    "outputId": "55b32918-7896-44c3-cde1-5a97c8398093"
   },
   "outputs": [
    {
     "data": {
      "text/html": [
       "<div>\n",
       "<style scoped>\n",
       "    .dataframe tbody tr th:only-of-type {\n",
       "        vertical-align: middle;\n",
       "    }\n",
       "\n",
       "    .dataframe tbody tr th {\n",
       "        vertical-align: top;\n",
       "    }\n",
       "\n",
       "    .dataframe thead th {\n",
       "        text-align: right;\n",
       "    }\n",
       "</style>\n",
       "<table border=\"1\" class=\"dataframe\">\n",
       "  <thead>\n",
       "    <tr style=\"text-align: right;\">\n",
       "      <th></th>\n",
       "      <th>Pred 1</th>\n",
       "      <th>Pred 0</th>\n",
       "    </tr>\n",
       "  </thead>\n",
       "  <tbody>\n",
       "    <tr>\n",
       "      <th>Akt 1</th>\n",
       "      <td>172</td>\n",
       "      <td>88</td>\n",
       "    </tr>\n",
       "    <tr>\n",
       "      <th>Akt 0</th>\n",
       "      <td>137</td>\n",
       "      <td>1412</td>\n",
       "    </tr>\n",
       "  </tbody>\n",
       "</table>\n",
       "</div>"
      ],
      "text/plain": [
       "       Pred 1  Pred 0\n",
       "Akt 1     172      88\n",
       "Akt 0     137    1412"
      ]
     },
     "execution_count": 347,
     "metadata": {},
     "output_type": "execute_result"
    }
   ],
   "source": [
    "cm_dt_tuned_os = confusion_matrix(y_test, pred_test_os, labels=[1, 0])\n",
    "cm_dt_tuned_os = pd.DataFrame(data=cm_dt_tuned_os, index=['Akt 1', 'Akt 0'], columns=['Pred 1', 'Pred 0'])\n",
    "cm_dt_tuned_os"
   ]
  },
  {
   "cell_type": "code",
   "execution_count": 348,
   "metadata": {},
   "outputs": [
    {
     "name": "stdout",
     "output_type": "stream",
     "text": [
      "              precision    recall  f1-score   support\n",
      "\n",
      "           0       0.94      0.91      0.93      1549\n",
      "           1       0.56      0.66      0.60       260\n",
      "\n",
      "    accuracy                           0.88      1809\n",
      "   macro avg       0.75      0.79      0.77      1809\n",
      "weighted avg       0.89      0.88      0.88      1809\n",
      "\n"
     ]
    }
   ],
   "source": [
    "print(classification_report(y_test, pred_test_os))"
   ]
  },
  {
   "cell_type": "code",
   "execution_count": 349,
   "metadata": {},
   "outputs": [],
   "source": [
    "tp_dt_os = cm_dt_tuned_os['Pred 1'][0]\n",
    "tn_dt_os = cm_dt_tuned_os['Pred 0'][1]\n",
    "fp_dt_os = cm_dt_tuned_os['Pred 1'][1]\n",
    "fn_dt_os = cm_dt_tuned_os['Pred 0'][0]"
   ]
  },
  {
   "cell_type": "markdown",
   "metadata": {
    "id": "PTmULUgjeg-E"
   },
   "source": [
    "### Smote"
   ]
  },
  {
   "cell_type": "code",
   "execution_count": 350,
   "metadata": {
    "id": "3K0grtLUei-6"
   },
   "outputs": [
    {
     "name": "stdout",
     "output_type": "stream",
     "text": [
      "Fitting 3 folds for each of 300 candidates, totalling 900 fits\n"
     ]
    },
    {
     "name": "stderr",
     "output_type": "stream",
     "text": [
      "[Parallel(n_jobs=-1)]: Using backend LokyBackend with 4 concurrent workers.\n",
      "[Parallel(n_jobs=-1)]: Done  76 tasks      | elapsed:    1.5s\n",
      "[Parallel(n_jobs=-1)]: Done 376 tasks      | elapsed:    8.0s\n",
      "[Parallel(n_jobs=-1)]: Done 876 tasks      | elapsed:   17.9s\n",
      "[Parallel(n_jobs=-1)]: Done 900 out of 900 | elapsed:   18.4s finished\n"
     ]
    },
    {
     "data": {
      "text/plain": [
       "RandomizedSearchCV(cv=3, estimator=DecisionTreeClassifier(), n_iter=300,\n",
       "                   n_jobs=-1,\n",
       "                   param_distributions={'criterion': ['gini', 'entropy'],\n",
       "                                        'max_depth': [None, 2, 3, 4, 5, 6, 7, 8,\n",
       "                                                      9, 10, 11, 12, 13, 14, 15,\n",
       "                                                      16, 17, 18, 19, 20, 21,\n",
       "                                                      22, 23, 24, 25, 26, 27,\n",
       "                                                      28, 29, 30, ...],\n",
       "                                        'max_features': ['auto', 'sqrt',\n",
       "                                                         'log2'],\n",
       "                                        'min_samples_leaf': [1, 2, 3, 4, 5, 6,\n",
       "                                                             7, 8, 9, 10, 11,\n",
       "                                                             12, 13, 14, 15, 16,\n",
       "                                                             17, 18, 19, 20, 21,\n",
       "                                                             22, 23, 24, 25, 26,\n",
       "                                                             27, 28, 29, 30, ...],\n",
       "                                        'min_samples_split': [2, 3, 4, 5, 6, 7,\n",
       "                                                              8, 9, 10, 11, 12,\n",
       "                                                              13, 14, 15, 16,\n",
       "                                                              17, 18, 19, 20,\n",
       "                                                              21, 22, 23, 24,\n",
       "                                                              25, 26, 27, 28,\n",
       "                                                              29, 30, 31, ...]},\n",
       "                   scoring='recall', verbose=1)"
      ]
     },
     "execution_count": 350,
     "metadata": {},
     "output_type": "execute_result"
    }
   ],
   "source": [
    "dt_sm = RandomizedSearchCV(estimator = decision_tree, param_distributions = param_dt, cv = 3, n_jobs = -1 , n_iter=300, verbose = 1, scoring = 'recall')\n",
    "dt_sm.fit(x_train_sm, y_train_sm)"
   ]
  },
  {
   "cell_type": "code",
   "execution_count": 351,
   "metadata": {},
   "outputs": [
    {
     "data": {
      "text/plain": [
       "DecisionTreeClassifier(criterion='entropy', max_depth=2, max_features='sqrt',\n",
       "                       min_samples_leaf=25, min_samples_split=19)"
      ]
     },
     "execution_count": 351,
     "metadata": {},
     "output_type": "execute_result"
    }
   ],
   "source": [
    "dt_tuned_sm = dt_sm.best_estimator_\n",
    "pred_train_sm = dt_tuned_sm.predict(x_train_sm)\n",
    "pred_test_sm = dt_tuned_sm.predict(x_test)\n",
    "dt_tuned_sm"
   ]
  },
  {
   "cell_type": "code",
   "execution_count": 352,
   "metadata": {
    "id": "W1w28afRexFE"
   },
   "outputs": [],
   "source": [
    "dt_acc_tuned_train_sm = accuracy_score(y_train_sm, pred_train_sm)\n",
    "dt_acc_tuned_test_sm = accuracy_score(y_test, pred_test_sm)\n",
    "dt_recall_tuned_train_sm = recall_score(y_train_sm, pred_train_sm)\n",
    "dt_recall_tuned_test_sm = recall_score(y_test, pred_test_sm)\n",
    "dt_prec_tuned_train_sm = precision_score(y_train_sm, pred_train_sm)\n",
    "dt_prec_tuned_test_sm = precision_score(y_test, pred_test_sm)\n",
    "dt_f1_tuned_train_sm = f1_score(y_train_sm, pred_train_sm)\n",
    "dt_f1_tuned_test_sm = f1_score(y_test, pred_test_sm)"
   ]
  },
  {
   "cell_type": "code",
   "execution_count": 353,
   "metadata": {
    "colab": {
     "base_uri": "https://localhost:8080/",
     "height": 110
    },
    "id": "CCiO8imTe_20",
    "outputId": "071b8df1-13d0-4ca8-b92d-d80584c72d57"
   },
   "outputs": [
    {
     "data": {
      "text/html": [
       "<div>\n",
       "<style scoped>\n",
       "    .dataframe tbody tr th:only-of-type {\n",
       "        vertical-align: middle;\n",
       "    }\n",
       "\n",
       "    .dataframe tbody tr th {\n",
       "        vertical-align: top;\n",
       "    }\n",
       "\n",
       "    .dataframe thead th {\n",
       "        text-align: right;\n",
       "    }\n",
       "</style>\n",
       "<table border=\"1\" class=\"dataframe\">\n",
       "  <thead>\n",
       "    <tr style=\"text-align: right;\">\n",
       "      <th></th>\n",
       "      <th>Pred 1</th>\n",
       "      <th>Pred 0</th>\n",
       "    </tr>\n",
       "  </thead>\n",
       "  <tbody>\n",
       "    <tr>\n",
       "      <th>Akt 1</th>\n",
       "      <td>118</td>\n",
       "      <td>142</td>\n",
       "    </tr>\n",
       "    <tr>\n",
       "      <th>Akt 0</th>\n",
       "      <td>375</td>\n",
       "      <td>1174</td>\n",
       "    </tr>\n",
       "  </tbody>\n",
       "</table>\n",
       "</div>"
      ],
      "text/plain": [
       "       Pred 1  Pred 0\n",
       "Akt 1     118     142\n",
       "Akt 0     375    1174"
      ]
     },
     "execution_count": 353,
     "metadata": {},
     "output_type": "execute_result"
    }
   ],
   "source": [
    "cm_dt_tuned_sm = confusion_matrix(y_test, pred_test_sm, labels=[1, 0])\n",
    "cm_dt_tuned_sm = pd.DataFrame(data=cm_dt_tuned_sm, index=['Akt 1', 'Akt 0'], columns=['Pred 1', 'Pred 0'])\n",
    "cm_dt_tuned_sm"
   ]
  },
  {
   "cell_type": "code",
   "execution_count": 354,
   "metadata": {},
   "outputs": [
    {
     "name": "stdout",
     "output_type": "stream",
     "text": [
      "              precision    recall  f1-score   support\n",
      "\n",
      "           0       0.89      0.76      0.82      1549\n",
      "           1       0.24      0.45      0.31       260\n",
      "\n",
      "    accuracy                           0.71      1809\n",
      "   macro avg       0.57      0.61      0.57      1809\n",
      "weighted avg       0.80      0.71      0.75      1809\n",
      "\n"
     ]
    }
   ],
   "source": [
    "print(classification_report(y_test, pred_test_sm))"
   ]
  },
  {
   "cell_type": "code",
   "execution_count": 355,
   "metadata": {},
   "outputs": [],
   "source": [
    "tp_dt_sm = cm_dt_tuned_sm['Pred 1'][0]\n",
    "tn_dt_sm = cm_dt_tuned_sm['Pred 0'][1]\n",
    "fp_dt_sm = cm_dt_tuned_sm['Pred 1'][1]\n",
    "fn_dt_sm = cm_dt_tuned_sm['Pred 0'][0]"
   ]
  },
  {
   "cell_type": "markdown",
   "metadata": {
    "id": "k4gmSwwRFMZw"
   },
   "source": [
    "## Random Forest"
   ]
  },
  {
   "cell_type": "code",
   "execution_count": 395,
   "metadata": {},
   "outputs": [],
   "source": [
    "random_forest = RandomForestClassifier()"
   ]
  },
  {
   "cell_type": "code",
   "execution_count": 396,
   "metadata": {},
   "outputs": [],
   "source": [
    "param_rf =  {\"n_estimators\":np.arange(100, 2000),\n",
    "             \"criterion\" : ['gini', 'entropy'],\n",
    "             \"max_depth\": [None, 2, 3, 4, 5, 6, 7, 8, 9, 10, 11, 12, 13, 14, 15, 16, 17, 18, 19, 20, 21, 22, 23, 24, 25, 26, 27, 28, 29, 30, 31, 32, 33, 34, 35, 36, 37, 38, 39, 40, 41, 42, 43, 44, 45, 46, 47, 48, 49, 50], \n",
    "             \"min_samples_split\": [2, 3, 4, 5, 6, 7, 8, 9, 10, 11, 12, 13, 14, 15, 16, 17, 18, 19, 20, 21, 22, 23, 24, 25, 26, 27, 28, 29, 30, 31, 32, 33, 34, 35, 36, 37, 38, 39, 40, 41, 42, 43, 44, 45, 46, 47, 48, 49, 50],\n",
    "             \"min_samples_leaf\":[1, 2, 3, 4, 5, 6, 7, 8, 9, 10, 11, 12, 13, 14, 15, 16, 17, 18, 19, 20, 21, 22, 23, 24, 25, 26, 27, 28, 29, 30, 31, 32, 33, 34, 35, 36, 37, 38, 39, 40, 41, 42, 43, 44, 45, 46, 47, 48, 49, 50], \n",
    "             \"max_features\" : ['auto', 'sqrt', 'log2']}"
   ]
  },
  {
   "cell_type": "markdown",
   "metadata": {
    "id": "g5TX7jSNFXzz"
   },
   "source": [
    "### Random Over Sampling"
   ]
  },
  {
   "cell_type": "code",
   "execution_count": 397,
   "metadata": {
    "id": "edYkr7oHE4zX"
   },
   "outputs": [
    {
     "name": "stdout",
     "output_type": "stream",
     "text": [
      "Fitting 3 folds for each of 300 candidates, totalling 900 fits\n"
     ]
    },
    {
     "name": "stderr",
     "output_type": "stream",
     "text": [
      "[Parallel(n_jobs=-1)]: Using backend LokyBackend with 4 concurrent workers.\n",
      "[Parallel(n_jobs=-1)]: Done  42 tasks      | elapsed:  4.1min\n",
      "[Parallel(n_jobs=-1)]: Done 192 tasks      | elapsed: 15.2min\n",
      "[Parallel(n_jobs=-1)]: Done 442 tasks      | elapsed: 33.4min\n",
      "[Parallel(n_jobs=-1)]: Done 792 tasks      | elapsed: 60.5min\n",
      "[Parallel(n_jobs=-1)]: Done 900 out of 900 | elapsed: 68.0min finished\n"
     ]
    },
    {
     "data": {
      "text/plain": [
       "RandomizedSearchCV(cv=3, estimator=RandomForestClassifier(), n_iter=300,\n",
       "                   n_jobs=-1,\n",
       "                   param_distributions={'criterion': ['gini', 'entropy'],\n",
       "                                        'max_depth': [None, 2, 3, 4, 5, 6, 7, 8,\n",
       "                                                      9, 10, 11, 12, 13, 14, 15,\n",
       "                                                      16, 17, 18, 19, 20, 21,\n",
       "                                                      22, 23, 24, 25, 26, 27,\n",
       "                                                      28, 29, 30, ...],\n",
       "                                        'max_features': ['auto', 'sqrt',\n",
       "                                                         'log2'],\n",
       "                                        'min_samples_leaf': [1, 2, 3, 4, 5, 6,\n",
       "                                                             7, 8, 9, 10, 11,\n",
       "                                                             12, 13, 14, 15, 16,\n",
       "                                                             17, 18, 19, 20, 21,\n",
       "                                                             22, 23, 24, 25, 26,\n",
       "                                                             27, 28, 29, 30, ...],\n",
       "                                        'min_samples_split': [2, 3, 4, 5, 6, 7,\n",
       "                                                              8, 9, 10, 11, 12,\n",
       "                                                              13, 14, 15, 16,\n",
       "                                                              17, 18, 19, 20,\n",
       "                                                              21, 22, 23, 24,\n",
       "                                                              25, 26, 27, 28,\n",
       "                                                              29, 30, 31, ...],\n",
       "                                        'n_estimators': array([ 100,  101,  102, ..., 1997, 1998, 1999])},\n",
       "                   scoring='recall', verbose=1)"
      ]
     },
     "execution_count": 397,
     "metadata": {},
     "output_type": "execute_result"
    }
   ],
   "source": [
    "rf_os = RandomizedSearchCV(estimator = random_forest, param_distributions = param_rf, cv = 3, n_jobs = -1 , n_iter=300, verbose = 1, scoring = 'recall')\n",
    "rf_os.fit(x_train_os, y_train_os)"
   ]
  },
  {
   "cell_type": "code",
   "execution_count": 398,
   "metadata": {},
   "outputs": [
    {
     "data": {
      "text/plain": [
       "RandomForestClassifier(criterion='entropy', max_features='log2',\n",
       "                       min_samples_leaf=4, n_estimators=256)"
      ]
     },
     "execution_count": 398,
     "metadata": {},
     "output_type": "execute_result"
    }
   ],
   "source": [
    "rf_tuned_os = rf_os.best_estimator_\n",
    "pred_train_os = rf_tuned_os.predict(x_train_os)\n",
    "pred_test_os = rf_tuned_os.predict(x_test)\n",
    "rf_tuned_os"
   ]
  },
  {
   "cell_type": "code",
   "execution_count": 399,
   "metadata": {
    "id": "FzJB4zMKHHYB"
   },
   "outputs": [],
   "source": [
    "rf_acc_tuned_train_os = accuracy_score(y_train_os, pred_train_os)\n",
    "rf_acc_tuned_test_os = accuracy_score(y_test, pred_test_os)\n",
    "rf_recall_tuned_train_os = recall_score(y_train_os, pred_train_os)\n",
    "rf_recall_tuned_test_os = recall_score(y_test, pred_test_os)\n",
    "rf_prec_tuned_train_os = precision_score(y_train_os, pred_train_os)\n",
    "rf_prec_tuned_test_os = precision_score(y_test, pred_test_os)\n",
    "rf_f1_tuned_train_os = f1_score(y_train_os, pred_train_os)\n",
    "rf_f1_tuned_test_os = f1_score(y_test, pred_test_os)"
   ]
  },
  {
   "cell_type": "code",
   "execution_count": 400,
   "metadata": {
    "colab": {
     "base_uri": "https://localhost:8080/",
     "height": 110
    },
    "id": "SY90tjG3HRox",
    "outputId": "9812c647-5b9e-44a8-cb15-5cd65c586ac0"
   },
   "outputs": [
    {
     "data": {
      "text/html": [
       "<div>\n",
       "<style scoped>\n",
       "    .dataframe tbody tr th:only-of-type {\n",
       "        vertical-align: middle;\n",
       "    }\n",
       "\n",
       "    .dataframe tbody tr th {\n",
       "        vertical-align: top;\n",
       "    }\n",
       "\n",
       "    .dataframe thead th {\n",
       "        text-align: right;\n",
       "    }\n",
       "</style>\n",
       "<table border=\"1\" class=\"dataframe\">\n",
       "  <thead>\n",
       "    <tr style=\"text-align: right;\">\n",
       "      <th></th>\n",
       "      <th>Pred 1</th>\n",
       "      <th>Pred 0</th>\n",
       "    </tr>\n",
       "  </thead>\n",
       "  <tbody>\n",
       "    <tr>\n",
       "      <th>Akt 1</th>\n",
       "      <td>224</td>\n",
       "      <td>36</td>\n",
       "    </tr>\n",
       "    <tr>\n",
       "      <th>Akt 0</th>\n",
       "      <td>22</td>\n",
       "      <td>1527</td>\n",
       "    </tr>\n",
       "  </tbody>\n",
       "</table>\n",
       "</div>"
      ],
      "text/plain": [
       "       Pred 1  Pred 0\n",
       "Akt 1     224      36\n",
       "Akt 0      22    1527"
      ]
     },
     "execution_count": 400,
     "metadata": {},
     "output_type": "execute_result"
    }
   ],
   "source": [
    "cm_rf_tuned_os = confusion_matrix(y_test, pred_test_os, labels=[1, 0])\n",
    "cm_rf_tuned_os = pd.DataFrame(data=cm_rf_tuned_os, index=['Akt 1', 'Akt 0'], columns=['Pred 1', 'Pred 0'])\n",
    "cm_rf_tuned_os"
   ]
  },
  {
   "cell_type": "code",
   "execution_count": 401,
   "metadata": {},
   "outputs": [
    {
     "name": "stdout",
     "output_type": "stream",
     "text": [
      "              precision    recall  f1-score   support\n",
      "\n",
      "           0       0.98      0.99      0.98      1549\n",
      "           1       0.91      0.86      0.89       260\n",
      "\n",
      "    accuracy                           0.97      1809\n",
      "   macro avg       0.94      0.92      0.93      1809\n",
      "weighted avg       0.97      0.97      0.97      1809\n",
      "\n"
     ]
    }
   ],
   "source": [
    "print(classification_report(y_test, pred_test_os))"
   ]
  },
  {
   "cell_type": "code",
   "execution_count": 402,
   "metadata": {},
   "outputs": [],
   "source": [
    "tp_rf_os = cm_rf_tuned_os['Pred 1'][0]\n",
    "tn_rf_os = cm_rf_tuned_os['Pred 0'][1]\n",
    "fp_rf_os = cm_rf_tuned_os['Pred 1'][1]\n",
    "fn_rf_os = cm_rf_tuned_os['Pred 0'][0]"
   ]
  },
  {
   "cell_type": "markdown",
   "metadata": {
    "id": "XosiHszUfUoL"
   },
   "source": [
    "### Smote"
   ]
  },
  {
   "cell_type": "code",
   "execution_count": 403,
   "metadata": {
    "id": "_1-d-TnifV0m"
   },
   "outputs": [
    {
     "name": "stdout",
     "output_type": "stream",
     "text": [
      "Fitting 3 folds for each of 300 candidates, totalling 900 fits\n"
     ]
    },
    {
     "name": "stderr",
     "output_type": "stream",
     "text": [
      "[Parallel(n_jobs=-1)]: Using backend LokyBackend with 4 concurrent workers.\n",
      "[Parallel(n_jobs=-1)]: Done  42 tasks      | elapsed:  3.7min\n",
      "[Parallel(n_jobs=-1)]: Done 192 tasks      | elapsed: 15.7min\n",
      "[Parallel(n_jobs=-1)]: Done 442 tasks      | elapsed: 36.7min\n",
      "[Parallel(n_jobs=-1)]: Done 792 tasks      | elapsed: 67.5min\n",
      "[Parallel(n_jobs=-1)]: Done 900 out of 900 | elapsed: 76.9min finished\n"
     ]
    },
    {
     "data": {
      "text/plain": [
       "RandomizedSearchCV(cv=3, estimator=RandomForestClassifier(), n_iter=300,\n",
       "                   n_jobs=-1,\n",
       "                   param_distributions={'criterion': ['gini', 'entropy'],\n",
       "                                        'max_depth': [None, 2, 3, 4, 5, 6, 7, 8,\n",
       "                                                      9, 10, 11, 12, 13, 14, 15,\n",
       "                                                      16, 17, 18, 19, 20, 21,\n",
       "                                                      22, 23, 24, 25, 26, 27,\n",
       "                                                      28, 29, 30, ...],\n",
       "                                        'max_features': ['auto', 'sqrt',\n",
       "                                                         'log2'],\n",
       "                                        'min_samples_leaf': [1, 2, 3, 4, 5, 6,\n",
       "                                                             7, 8, 9, 10, 11,\n",
       "                                                             12, 13, 14, 15, 16,\n",
       "                                                             17, 18, 19, 20, 21,\n",
       "                                                             22, 23, 24, 25, 26,\n",
       "                                                             27, 28, 29, 30, ...],\n",
       "                                        'min_samples_split': [2, 3, 4, 5, 6, 7,\n",
       "                                                              8, 9, 10, 11, 12,\n",
       "                                                              13, 14, 15, 16,\n",
       "                                                              17, 18, 19, 20,\n",
       "                                                              21, 22, 23, 24,\n",
       "                                                              25, 26, 27, 28,\n",
       "                                                              29, 30, 31, ...],\n",
       "                                        'n_estimators': array([ 100,  101,  102, ..., 1997, 1998, 1999])},\n",
       "                   scoring='recall', verbose=1)"
      ]
     },
     "execution_count": 403,
     "metadata": {},
     "output_type": "execute_result"
    }
   ],
   "source": [
    "rf_sm = RandomizedSearchCV(estimator = random_forest, param_distributions = param_rf, cv = 3, n_jobs = -1 , n_iter=300, verbose = 1, scoring = 'recall')\n",
    "rf_sm.fit(x_train_sm, y_train_sm)"
   ]
  },
  {
   "cell_type": "code",
   "execution_count": 404,
   "metadata": {},
   "outputs": [
    {
     "data": {
      "text/plain": [
       "RandomForestClassifier(criterion='entropy', max_depth=25, max_features='log2',\n",
       "                       min_samples_leaf=3, min_samples_split=14,\n",
       "                       n_estimators=1167)"
      ]
     },
     "execution_count": 404,
     "metadata": {},
     "output_type": "execute_result"
    }
   ],
   "source": [
    "rf_tuned_sm = rf_sm.best_estimator_\n",
    "pred_train_sm = rf_tuned_sm.predict(x_train_sm)\n",
    "pred_test_sm = rf_tuned_sm.predict(x_test)\n",
    "rf_tuned_sm"
   ]
  },
  {
   "cell_type": "code",
   "execution_count": 405,
   "metadata": {
    "id": "oJcykPsrfcBV"
   },
   "outputs": [],
   "source": [
    "rf_acc_tuned_train_sm = accuracy_score(y_train_sm, pred_train_sm)\n",
    "rf_acc_tuned_test_sm = accuracy_score(y_test, pred_test_sm)\n",
    "rf_recall_tuned_train_sm = recall_score(y_train_sm, pred_train_sm)\n",
    "rf_recall_tuned_test_sm = recall_score(y_test, pred_test_sm)\n",
    "rf_prec_tuned_train_sm = precision_score(y_train_sm, pred_train_sm)\n",
    "rf_prec_tuned_test_sm = precision_score(y_test, pred_test_sm)\n",
    "rf_f1_tuned_train_sm = f1_score(y_train_sm, pred_train_sm)\n",
    "rf_f1_tuned_test_sm = f1_score(y_test, pred_test_sm)"
   ]
  },
  {
   "cell_type": "code",
   "execution_count": 406,
   "metadata": {
    "colab": {
     "base_uri": "https://localhost:8080/",
     "height": 110
    },
    "id": "bq5oVum-fueT",
    "outputId": "b740a1b1-5b5d-4b00-d43f-e8f3cc163e68"
   },
   "outputs": [
    {
     "data": {
      "text/html": [
       "<div>\n",
       "<style scoped>\n",
       "    .dataframe tbody tr th:only-of-type {\n",
       "        vertical-align: middle;\n",
       "    }\n",
       "\n",
       "    .dataframe tbody tr th {\n",
       "        vertical-align: top;\n",
       "    }\n",
       "\n",
       "    .dataframe thead th {\n",
       "        text-align: right;\n",
       "    }\n",
       "</style>\n",
       "<table border=\"1\" class=\"dataframe\">\n",
       "  <thead>\n",
       "    <tr style=\"text-align: right;\">\n",
       "      <th></th>\n",
       "      <th>Pred 1</th>\n",
       "      <th>Pred 0</th>\n",
       "    </tr>\n",
       "  </thead>\n",
       "  <tbody>\n",
       "    <tr>\n",
       "      <th>Akt 1</th>\n",
       "      <td>79</td>\n",
       "      <td>181</td>\n",
       "    </tr>\n",
       "    <tr>\n",
       "      <th>Akt 0</th>\n",
       "      <td>24</td>\n",
       "      <td>1525</td>\n",
       "    </tr>\n",
       "  </tbody>\n",
       "</table>\n",
       "</div>"
      ],
      "text/plain": [
       "       Pred 1  Pred 0\n",
       "Akt 1      79     181\n",
       "Akt 0      24    1525"
      ]
     },
     "execution_count": 406,
     "metadata": {},
     "output_type": "execute_result"
    }
   ],
   "source": [
    "cm_rf_tuned_sm = confusion_matrix(y_test, pred_test_sm, labels=[1, 0])\n",
    "cm_rf_tuned_sm = pd.DataFrame(data=cm_rf_tuned_sm, index=['Akt 1', 'Akt 0'], columns=['Pred 1', 'Pred 0'])\n",
    "cm_rf_tuned_sm"
   ]
  },
  {
   "cell_type": "code",
   "execution_count": 407,
   "metadata": {},
   "outputs": [
    {
     "name": "stdout",
     "output_type": "stream",
     "text": [
      "              precision    recall  f1-score   support\n",
      "\n",
      "           0       0.89      0.98      0.94      1549\n",
      "           1       0.77      0.30      0.44       260\n",
      "\n",
      "    accuracy                           0.89      1809\n",
      "   macro avg       0.83      0.64      0.69      1809\n",
      "weighted avg       0.88      0.89      0.86      1809\n",
      "\n"
     ]
    }
   ],
   "source": [
    "print(classification_report(y_test, pred_test_sm))"
   ]
  },
  {
   "cell_type": "code",
   "execution_count": 408,
   "metadata": {},
   "outputs": [],
   "source": [
    "tp_rf_sm = cm_rf_tuned_sm['Pred 1'][0]\n",
    "tn_rf_sm = cm_rf_tuned_sm['Pred 0'][1]\n",
    "fp_rf_sm = cm_rf_tuned_sm['Pred 1'][1]\n",
    "fn_rf_sm = cm_rf_tuned_sm['Pred 0'][0]"
   ]
  },
  {
   "cell_type": "markdown",
   "metadata": {
    "id": "XguosidogXFU"
   },
   "source": [
    "## Evaluation Matrix For Decision Tree and Random Forest"
   ]
  },
  {
   "cell_type": "code",
   "execution_count": 437,
   "metadata": {
    "id": "PTvHNsTwgSa7"
   },
   "outputs": [],
   "source": [
    "tuned_os = {\n",
    "    \"DT OS Train\": [dt_acc_tuned_train_os, dt_recall_tuned_train_os, dt_prec_tuned_train_os, dt_f1_tuned_train_os],\n",
    "    \"DT OS Test\" : [dt_acc_tuned_test_os, dt_recall_tuned_test_os, dt_prec_tuned_test_os, dt_f1_tuned_test_os],\n",
    "    \"RF OS Train\": [rf_acc_tuned_train_os, rf_recall_tuned_train_os, rf_prec_tuned_train_os, rf_f1_tuned_train_os],\n",
    "    \"RF OS Test\" : [rf_acc_tuned_test_os, rf_recall_tuned_test_os, rf_prec_tuned_test_os, rf_f1_tuned_test_os]}\n",
    "\n",
    "tuned_os_matrix = pd.DataFrame(data = tuned_os, index = ['Accuracy', 'Recall', 'Precision', 'F1 Score'])\n",
    "\n",
    "tuned_sm = {\n",
    "    \"DT SM Train\": [dt_acc_tuned_train_sm, dt_recall_tuned_train_sm, dt_prec_tuned_train_sm, dt_f1_tuned_train_sm],\n",
    "    \"DT SM Test\" : [dt_acc_tuned_test_sm, dt_recall_tuned_test_sm, dt_prec_tuned_test_sm, dt_f1_tuned_test_sm],\n",
    "    \"RF SM Train\": [rf_acc_tuned_train_sm, rf_recall_tuned_train_sm, rf_prec_tuned_train_sm, rf_f1_tuned_train_sm],\n",
    "    \"RF SM Test\" : [rf_acc_tuned_test_sm, rf_recall_tuned_test_sm, rf_prec_tuned_test_sm, rf_f1_tuned_test_sm]}\n",
    "\n",
    "tuned_sm_matrix = pd.DataFrame(data = tuned_sm, index = ['Accuracy', 'Recall', 'Precision', 'F1 Score'])\n"
   ]
  },
  {
   "cell_type": "code",
   "execution_count": 438,
   "metadata": {},
   "outputs": [
    {
     "data": {
      "text/html": [
       "<div>\n",
       "<style scoped>\n",
       "    .dataframe tbody tr th:only-of-type {\n",
       "        vertical-align: middle;\n",
       "    }\n",
       "\n",
       "    .dataframe tbody tr th {\n",
       "        vertical-align: top;\n",
       "    }\n",
       "\n",
       "    .dataframe thead th {\n",
       "        text-align: right;\n",
       "    }\n",
       "</style>\n",
       "<table border=\"1\" class=\"dataframe\">\n",
       "  <thead>\n",
       "    <tr style=\"text-align: right;\">\n",
       "      <th></th>\n",
       "      <th>DT OS Train</th>\n",
       "      <th>DT OS Test</th>\n",
       "      <th>RF OS Train</th>\n",
       "      <th>RF OS Test</th>\n",
       "    </tr>\n",
       "  </thead>\n",
       "  <tbody>\n",
       "    <tr>\n",
       "      <th>Accuracy</th>\n",
       "      <td>0.976832</td>\n",
       "      <td>0.875622</td>\n",
       "      <td>0.996690</td>\n",
       "      <td>0.967938</td>\n",
       "    </tr>\n",
       "    <tr>\n",
       "      <th>Recall</th>\n",
       "      <td>0.998386</td>\n",
       "      <td>0.661538</td>\n",
       "      <td>0.999677</td>\n",
       "      <td>0.861538</td>\n",
       "    </tr>\n",
       "    <tr>\n",
       "      <th>Precision</th>\n",
       "      <td>0.957127</td>\n",
       "      <td>0.556634</td>\n",
       "      <td>0.993741</td>\n",
       "      <td>0.910569</td>\n",
       "    </tr>\n",
       "    <tr>\n",
       "      <th>F1 Score</th>\n",
       "      <td>0.977321</td>\n",
       "      <td>0.604569</td>\n",
       "      <td>0.996700</td>\n",
       "      <td>0.885375</td>\n",
       "    </tr>\n",
       "  </tbody>\n",
       "</table>\n",
       "</div>"
      ],
      "text/plain": [
       "           DT OS Train  DT OS Test  RF OS Train  RF OS Test\n",
       "Accuracy      0.976832    0.875622     0.996690    0.967938\n",
       "Recall        0.998386    0.661538     0.999677    0.861538\n",
       "Precision     0.957127    0.556634     0.993741    0.910569\n",
       "F1 Score      0.977321    0.604569     0.996700    0.885375"
      ]
     },
     "execution_count": 438,
     "metadata": {},
     "output_type": "execute_result"
    }
   ],
   "source": [
    "tuned_os_matrix"
   ]
  },
  {
   "cell_type": "code",
   "execution_count": 439,
   "metadata": {},
   "outputs": [
    {
     "data": {
      "text/html": [
       "<div>\n",
       "<style scoped>\n",
       "    .dataframe tbody tr th:only-of-type {\n",
       "        vertical-align: middle;\n",
       "    }\n",
       "\n",
       "    .dataframe tbody tr th {\n",
       "        vertical-align: top;\n",
       "    }\n",
       "\n",
       "    .dataframe thead th {\n",
       "        text-align: right;\n",
       "    }\n",
       "</style>\n",
       "<table border=\"1\" class=\"dataframe\">\n",
       "  <thead>\n",
       "    <tr style=\"text-align: right;\">\n",
       "      <th></th>\n",
       "      <th>DT SM Train</th>\n",
       "      <th>DT SM Test</th>\n",
       "      <th>RF SM Train</th>\n",
       "      <th>RF SM Test</th>\n",
       "    </tr>\n",
       "  </thead>\n",
       "  <tbody>\n",
       "    <tr>\n",
       "      <th>Accuracy</th>\n",
       "      <td>0.602922</td>\n",
       "      <td>0.714207</td>\n",
       "      <td>0.979173</td>\n",
       "      <td>0.886678</td>\n",
       "    </tr>\n",
       "    <tr>\n",
       "      <th>Recall</th>\n",
       "      <td>0.433484</td>\n",
       "      <td>0.453846</td>\n",
       "      <td>0.964320</td>\n",
       "      <td>0.303846</td>\n",
       "    </tr>\n",
       "    <tr>\n",
       "      <th>Precision</th>\n",
       "      <td>0.655678</td>\n",
       "      <td>0.239351</td>\n",
       "      <td>0.993844</td>\n",
       "      <td>0.766990</td>\n",
       "    </tr>\n",
       "    <tr>\n",
       "      <th>F1 Score</th>\n",
       "      <td>0.521917</td>\n",
       "      <td>0.313413</td>\n",
       "      <td>0.978859</td>\n",
       "      <td>0.435262</td>\n",
       "    </tr>\n",
       "  </tbody>\n",
       "</table>\n",
       "</div>"
      ],
      "text/plain": [
       "           DT SM Train  DT SM Test  RF SM Train  RF SM Test\n",
       "Accuracy      0.602922    0.714207     0.979173    0.886678\n",
       "Recall        0.433484    0.453846     0.964320    0.303846\n",
       "Precision     0.655678    0.239351     0.993844    0.766990\n",
       "F1 Score      0.521917    0.313413     0.978859    0.435262"
      ]
     },
     "execution_count": 439,
     "metadata": {},
     "output_type": "execute_result"
    }
   ],
   "source": [
    "tuned_sm_matrix"
   ]
  },
  {
   "cell_type": "code",
   "execution_count": 441,
   "metadata": {},
   "outputs": [
    {
     "data": {
      "text/html": [
       "<div>\n",
       "<style scoped>\n",
       "    .dataframe tbody tr th:only-of-type {\n",
       "        vertical-align: middle;\n",
       "    }\n",
       "\n",
       "    .dataframe tbody tr th {\n",
       "        vertical-align: top;\n",
       "    }\n",
       "\n",
       "    .dataframe thead th {\n",
       "        text-align: right;\n",
       "    }\n",
       "</style>\n",
       "<table border=\"1\" class=\"dataframe\">\n",
       "  <thead>\n",
       "    <tr style=\"text-align: right;\">\n",
       "      <th></th>\n",
       "      <th>True Positive</th>\n",
       "      <th>True Negative</th>\n",
       "      <th>False Positive</th>\n",
       "      <th>False Negative</th>\n",
       "    </tr>\n",
       "  </thead>\n",
       "  <tbody>\n",
       "    <tr>\n",
       "      <th>SVM SM</th>\n",
       "      <td>260</td>\n",
       "      <td>0</td>\n",
       "      <td>1549</td>\n",
       "      <td>0</td>\n",
       "    </tr>\n",
       "    <tr>\n",
       "      <th>SVM SM MinMax</th>\n",
       "      <td>260</td>\n",
       "      <td>3</td>\n",
       "      <td>1546</td>\n",
       "      <td>0</td>\n",
       "    </tr>\n",
       "    <tr>\n",
       "      <th>SVM SM Standard</th>\n",
       "      <td>257</td>\n",
       "      <td>999</td>\n",
       "      <td>550</td>\n",
       "      <td>3</td>\n",
       "    </tr>\n",
       "    <tr>\n",
       "      <th>SVM SM Robust</th>\n",
       "      <td>255</td>\n",
       "      <td>883</td>\n",
       "      <td>666</td>\n",
       "      <td>5</td>\n",
       "    </tr>\n",
       "    <tr>\n",
       "      <th>Random Forest OS</th>\n",
       "      <td>224</td>\n",
       "      <td>1527</td>\n",
       "      <td>22</td>\n",
       "      <td>36</td>\n",
       "    </tr>\n",
       "    <tr>\n",
       "      <th>SVM OS</th>\n",
       "      <td>213</td>\n",
       "      <td>1542</td>\n",
       "      <td>7</td>\n",
       "      <td>47</td>\n",
       "    </tr>\n",
       "    <tr>\n",
       "      <th>SVM OS Standard</th>\n",
       "      <td>213</td>\n",
       "      <td>1542</td>\n",
       "      <td>7</td>\n",
       "      <td>47</td>\n",
       "    </tr>\n",
       "    <tr>\n",
       "      <th>SVM OS Robust</th>\n",
       "      <td>210</td>\n",
       "      <td>1539</td>\n",
       "      <td>10</td>\n",
       "      <td>50</td>\n",
       "    </tr>\n",
       "    <tr>\n",
       "      <th>Logreg OS Standard</th>\n",
       "      <td>194</td>\n",
       "      <td>1090</td>\n",
       "      <td>459</td>\n",
       "      <td>66</td>\n",
       "    </tr>\n",
       "    <tr>\n",
       "      <th>LogReg OS</th>\n",
       "      <td>191</td>\n",
       "      <td>1093</td>\n",
       "      <td>456</td>\n",
       "      <td>69</td>\n",
       "    </tr>\n",
       "    <tr>\n",
       "      <th>Logreg OS Robust</th>\n",
       "      <td>190</td>\n",
       "      <td>1097</td>\n",
       "      <td>452</td>\n",
       "      <td>70</td>\n",
       "    </tr>\n",
       "    <tr>\n",
       "      <th>SVM OS MinMax</th>\n",
       "      <td>188</td>\n",
       "      <td>1514</td>\n",
       "      <td>35</td>\n",
       "      <td>72</td>\n",
       "    </tr>\n",
       "    <tr>\n",
       "      <th>Logreg OS MinMax</th>\n",
       "      <td>183</td>\n",
       "      <td>1126</td>\n",
       "      <td>423</td>\n",
       "      <td>77</td>\n",
       "    </tr>\n",
       "    <tr>\n",
       "      <th>Decision Tree OS</th>\n",
       "      <td>172</td>\n",
       "      <td>1412</td>\n",
       "      <td>137</td>\n",
       "      <td>88</td>\n",
       "    </tr>\n",
       "    <tr>\n",
       "      <th>Decision Tree SM</th>\n",
       "      <td>118</td>\n",
       "      <td>1174</td>\n",
       "      <td>375</td>\n",
       "      <td>142</td>\n",
       "    </tr>\n",
       "    <tr>\n",
       "      <th>Random Forest SM</th>\n",
       "      <td>79</td>\n",
       "      <td>1525</td>\n",
       "      <td>24</td>\n",
       "      <td>181</td>\n",
       "    </tr>\n",
       "    <tr>\n",
       "      <th>Logreg SM MinMax</th>\n",
       "      <td>68</td>\n",
       "      <td>1480</td>\n",
       "      <td>69</td>\n",
       "      <td>192</td>\n",
       "    </tr>\n",
       "    <tr>\n",
       "      <th>Logreg SM Standard</th>\n",
       "      <td>50</td>\n",
       "      <td>1515</td>\n",
       "      <td>34</td>\n",
       "      <td>210</td>\n",
       "    </tr>\n",
       "    <tr>\n",
       "      <th>LogReg SM</th>\n",
       "      <td>49</td>\n",
       "      <td>1515</td>\n",
       "      <td>34</td>\n",
       "      <td>211</td>\n",
       "    </tr>\n",
       "    <tr>\n",
       "      <th>Logreg SM Robust</th>\n",
       "      <td>49</td>\n",
       "      <td>1520</td>\n",
       "      <td>29</td>\n",
       "      <td>211</td>\n",
       "    </tr>\n",
       "  </tbody>\n",
       "</table>\n",
       "</div>"
      ],
      "text/plain": [
       "                    True Positive  True Negative  False Positive  \\\n",
       "SVM SM                        260              0            1549   \n",
       "SVM SM MinMax                 260              3            1546   \n",
       "SVM SM Standard               257            999             550   \n",
       "SVM SM Robust                 255            883             666   \n",
       "Random Forest OS              224           1527              22   \n",
       "SVM OS                        213           1542               7   \n",
       "SVM OS Standard               213           1542               7   \n",
       "SVM OS Robust                 210           1539              10   \n",
       "Logreg OS Standard            194           1090             459   \n",
       "LogReg OS                     191           1093             456   \n",
       "Logreg OS Robust              190           1097             452   \n",
       "SVM OS MinMax                 188           1514              35   \n",
       "Logreg OS MinMax              183           1126             423   \n",
       "Decision Tree OS              172           1412             137   \n",
       "Decision Tree SM              118           1174             375   \n",
       "Random Forest SM               79           1525              24   \n",
       "Logreg SM MinMax               68           1480              69   \n",
       "Logreg SM Standard             50           1515              34   \n",
       "LogReg SM                      49           1515              34   \n",
       "Logreg SM Robust               49           1520              29   \n",
       "\n",
       "                    False Negative  \n",
       "SVM SM                           0  \n",
       "SVM SM MinMax                    0  \n",
       "SVM SM Standard                  3  \n",
       "SVM SM Robust                    5  \n",
       "Random Forest OS                36  \n",
       "SVM OS                          47  \n",
       "SVM OS Standard                 47  \n",
       "SVM OS Robust                   50  \n",
       "Logreg OS Standard              66  \n",
       "LogReg OS                       69  \n",
       "Logreg OS Robust                70  \n",
       "SVM OS MinMax                   72  \n",
       "Logreg OS MinMax                77  \n",
       "Decision Tree OS                88  \n",
       "Decision Tree SM               142  \n",
       "Random Forest SM               181  \n",
       "Logreg SM MinMax               192  \n",
       "Logreg SM Standard             210  \n",
       "LogReg SM                      211  \n",
       "Logreg SM Robust               211  "
      ]
     },
     "execution_count": 441,
     "metadata": {},
     "output_type": "execute_result"
    }
   ],
   "source": [
    "cm = {\n",
    "    \"True Positive\" : [tp_svm_os, tp_svm_os_std, tp_svm_os_mm, tp_svm_os_rb, \n",
    "                       tp_svm_sm, tp_svm_sm_std, tp_svm_sm_mm, tp_svm_sm_rb,\n",
    "                       tp_logreg_os, tp_logreg_os_std, tp_logreg_os_mm, tp_logreg_os_rb, \n",
    "                       tp_logreg_sm, tp_logreg_sm_std, tp_logreg_sm_mm, tp_logreg_sm_rb,\n",
    "                       tp_dt_os, tp_dt_sm, tp_rf_os, tp_rf_sm],\n",
    "    \n",
    "    \"True Negative\" : [tn_svm_os, tn_svm_os_std, tn_svm_os_mm, tn_svm_os_rb, \n",
    "                       tn_svm_sm, tn_svm_sm_std, tn_svm_sm_mm, tn_svm_sm_rb,\n",
    "                       tn_logreg_os, tn_logreg_os_std, tn_logreg_os_mm, tn_logreg_os_rb, \n",
    "                       tn_logreg_sm, tn_logreg_sm_std, tn_logreg_sm_mm, tn_logreg_sm_rb,\n",
    "                       tn_dt_os, tn_dt_sm, tn_rf_os, tn_rf_sm],\n",
    "    \n",
    "    \"False Positive\": [fp_svm_os, fp_svm_os_std, fp_svm_os_mm, fp_svm_os_rb, \n",
    "                       fp_svm_sm, fp_svm_sm_std, fp_svm_sm_mm, fp_svm_sm_rb,\n",
    "                       fp_logreg_os, fp_logreg_os_std, fp_logreg_os_mm, fp_logreg_os_rb, \n",
    "                       fp_logreg_sm, fp_logreg_sm_std, fp_logreg_sm_mm, fp_logreg_sm_rb,\n",
    "                       fp_dt_os, fp_dt_sm, fp_rf_os, fp_rf_sm],\n",
    "    \n",
    "    \"False Negative\": [fn_svm_os, fn_svm_os_std, fn_svm_os_mm, fn_svm_os_rb, \n",
    "                       fn_svm_sm, fn_svm_sm_std, fn_svm_sm_mm, fn_svm_sm_rb,\n",
    "                       fn_logreg_os, fn_logreg_os_std, fn_logreg_os_mm, fn_logreg_os_rb, \n",
    "                       fn_logreg_sm, fn_logreg_sm_std, fn_logreg_sm_mm, fn_logreg_sm_rb,\n",
    "                       fn_dt_os, fn_dt_sm, fn_rf_os, fn_rf_sm]\n",
    "}\n",
    "    \n",
    "cm_matrix = pd.DataFrame(data = cm, index = ['SVM OS', 'SVM OS Standard', 'SVM OS MinMax', 'SVM OS Robust',\n",
    "                                             'SVM SM', 'SVM SM Standard', 'SVM SM MinMax', 'SVM SM Robust',\n",
    "                                             'LogReg OS', 'Logreg OS Standard', 'Logreg OS MinMax', 'Logreg OS Robust',\n",
    "                                             'LogReg SM', 'Logreg SM Standard', 'Logreg SM MinMax', 'Logreg SM Robust',\n",
    "                                             'Decision Tree OS', 'Decision Tree SM', 'Random Forest OS', 'Random Forest SM'])\n",
    "cm_matrix.sort_values('False Negative')\n",
    "#Random Forest With Random Over Sampling and No Scaling"
   ]
  },
  {
   "cell_type": "code",
   "execution_count": 393,
   "metadata": {},
   "outputs": [],
   "source": [
    "import joblib"
   ]
  },
  {
   "cell_type": "code",
   "execution_count": 442,
   "metadata": {
    "scrolled": true
   },
   "outputs": [
    {
     "data": {
      "text/plain": [
       "['Random Forest with Random Over Sampling']"
      ]
     },
     "execution_count": 442,
     "metadata": {},
     "output_type": "execute_result"
    }
   ],
   "source": [
    "import joblib\n",
    "joblib.dump(rf_os, 'Random Forest with Random Over Sampling')"
   ]
  },
  {
   "cell_type": "code",
   "execution_count": 445,
   "metadata": {},
   "outputs": [
    {
     "data": {
      "text/plain": [
       "array([[0.37953631, 0.62046369]])"
      ]
     },
     "execution_count": 445,
     "metadata": {},
     "output_type": "execute_result"
    }
   ],
   "source": [
    "x = rf_os.predict_proba([[3826, 0, 2, 1, 25000, 54, 2, 5200, 2, 0, 1, 0, 0, 0, 0, 0, 0, 1, 0, 0, 1, 0, 0, 1, 0, 0, 0, 0, 0, 0, 1, 0, 0, 0, 0, 1, 0, 0, 1, 0, 0, 0, 0, 0, 0, 1, 0, 0]])\n",
    "x"
   ]
  },
  {
   "cell_type": "code",
   "execution_count": 446,
   "metadata": {},
   "outputs": [
    {
     "data": {
      "text/plain": [
       "array([1], dtype=int64)"
      ]
     },
     "execution_count": 446,
     "metadata": {},
     "output_type": "execute_result"
    }
   ],
   "source": [
    "y = rf_os.predict([[3826, 0, 2, 1, 25000, 54, 2, 5200, 2, 0, 1, 0, 0, 0, 0, 0, 0, 1, 0, 0, 1, 0, 0, 1, 0, 0, 0, 0, 0, 0, 1, 0, 0, 0, 0, 1, 0, 0, 1, 0, 0, 0, 0, 0, 0, 1, 0, 0]])\n",
    "y"
   ]
  }
 ],
 "metadata": {
  "accelerator": "GPU",
  "colab": {
   "collapsed_sections": [],
   "name": "machine learning",
   "provenance": []
  },
  "kernelspec": {
   "display_name": "Python 3",
   "language": "python",
   "name": "python3"
  },
  "language_info": {
   "codemirror_mode": {
    "name": "ipython",
    "version": 3
   },
   "file_extension": ".py",
   "mimetype": "text/x-python",
   "name": "python",
   "nbconvert_exporter": "python",
   "pygments_lexer": "ipython3",
   "version": "3.8.3"
  }
 },
 "nbformat": 4,
 "nbformat_minor": 1
}
