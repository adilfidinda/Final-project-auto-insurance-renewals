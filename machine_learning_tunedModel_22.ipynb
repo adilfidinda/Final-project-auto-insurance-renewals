{
 "cells": [
  {
   "cell_type": "code",
   "execution_count": 2,
   "metadata": {
    "id": "Lv_8ciqcjVhL"
   },
   "outputs": [],
   "source": [
    "import pandas as pd\n",
    "import numpy as np\n",
    "from sklearn.preprocessing import OneHotEncoder\n",
    "from sklearn.model_selection import train_test_split, RandomizedSearchCV, GridSearchCV\n",
    "from sklearn.preprocessing import MinMaxScaler, RobustScaler, StandardScaler\n",
    "from sklearn.utils import resample\n",
    "import imblearn\n",
    "from imblearn.over_sampling import SMOTE\n",
    "from sklearn.linear_model import LogisticRegression\n",
    "from sklearn.svm import SVC\n",
    "from sklearn.tree import DecisionTreeClassifier\n",
    "from sklearn.ensemble import RandomForestClassifier\n",
    "from xgboost import XGBClassifier\n",
    "from sklearn.metrics import confusion_matrix, classification_report, accuracy_score, precision_score, recall_score, f1_score\n",
    "import warnings\n",
    "warnings.filterwarnings('ignore')"
   ]
  },
  {
   "cell_type": "markdown",
   "metadata": {
    "id": "veCll5vXNYXN"
   },
   "source": [
    "## Dataset"
   ]
  },
  {
   "cell_type": "code",
   "execution_count": 3,
   "metadata": {
    "colab": {
     "base_uri": "https://localhost:8080/",
     "height": 461
    },
    "id": "X7er3DJjm_Bh",
    "outputId": "28d172d2-1751-40c1-8cd0-f0c077cb9c97",
    "scrolled": true
   },
   "outputs": [
    {
     "data": {
      "text/html": [
       "<div>\n",
       "<style scoped>\n",
       "    .dataframe tbody tr th:only-of-type {\n",
       "        vertical-align: middle;\n",
       "    }\n",
       "\n",
       "    .dataframe tbody tr th {\n",
       "        vertical-align: top;\n",
       "    }\n",
       "\n",
       "    .dataframe thead th {\n",
       "        text-align: right;\n",
       "    }\n",
       "</style>\n",
       "<table border=\"1\" class=\"dataframe\">\n",
       "  <thead>\n",
       "    <tr style=\"text-align: right;\">\n",
       "      <th></th>\n",
       "      <th>Customer Lifetime Value</th>\n",
       "      <th>Response</th>\n",
       "      <th>Coverage</th>\n",
       "      <th>Education</th>\n",
       "      <th>Gender</th>\n",
       "      <th>Income</th>\n",
       "      <th>Monthly Premium Auto</th>\n",
       "      <th>Number of Policies</th>\n",
       "      <th>Total Claim Amount</th>\n",
       "      <th>Vehicle Size</th>\n",
       "      <th>...</th>\n",
       "      <th>Sales Channel_Agent</th>\n",
       "      <th>Sales Channel_Branch</th>\n",
       "      <th>Sales Channel_Call Center</th>\n",
       "      <th>Sales Channel_Web</th>\n",
       "      <th>Vehicle Class_Four-Door Car</th>\n",
       "      <th>Vehicle Class_Luxury Car</th>\n",
       "      <th>Vehicle Class_Luxury SUV</th>\n",
       "      <th>Vehicle Class_SUV</th>\n",
       "      <th>Vehicle Class_Sports Car</th>\n",
       "      <th>Vehicle Class_Two-Door Car</th>\n",
       "    </tr>\n",
       "    <tr>\n",
       "      <th>Customer</th>\n",
       "      <th></th>\n",
       "      <th></th>\n",
       "      <th></th>\n",
       "      <th></th>\n",
       "      <th></th>\n",
       "      <th></th>\n",
       "      <th></th>\n",
       "      <th></th>\n",
       "      <th></th>\n",
       "      <th></th>\n",
       "      <th></th>\n",
       "      <th></th>\n",
       "      <th></th>\n",
       "      <th></th>\n",
       "      <th></th>\n",
       "      <th></th>\n",
       "      <th></th>\n",
       "      <th></th>\n",
       "      <th></th>\n",
       "      <th></th>\n",
       "      <th></th>\n",
       "    </tr>\n",
       "  </thead>\n",
       "  <tbody>\n",
       "    <tr>\n",
       "      <th>BU79786</th>\n",
       "      <td>2763.519279</td>\n",
       "      <td>0</td>\n",
       "      <td>0</td>\n",
       "      <td>2</td>\n",
       "      <td>1</td>\n",
       "      <td>56274</td>\n",
       "      <td>69</td>\n",
       "      <td>1</td>\n",
       "      <td>384.811147</td>\n",
       "      <td>1</td>\n",
       "      <td>...</td>\n",
       "      <td>1</td>\n",
       "      <td>0</td>\n",
       "      <td>0</td>\n",
       "      <td>0</td>\n",
       "      <td>0</td>\n",
       "      <td>0</td>\n",
       "      <td>0</td>\n",
       "      <td>0</td>\n",
       "      <td>0</td>\n",
       "      <td>1</td>\n",
       "    </tr>\n",
       "    <tr>\n",
       "      <th>QZ44356</th>\n",
       "      <td>6979.535903</td>\n",
       "      <td>0</td>\n",
       "      <td>1</td>\n",
       "      <td>2</td>\n",
       "      <td>1</td>\n",
       "      <td>0</td>\n",
       "      <td>94</td>\n",
       "      <td>8</td>\n",
       "      <td>1131.464935</td>\n",
       "      <td>1</td>\n",
       "      <td>...</td>\n",
       "      <td>1</td>\n",
       "      <td>0</td>\n",
       "      <td>0</td>\n",
       "      <td>0</td>\n",
       "      <td>1</td>\n",
       "      <td>0</td>\n",
       "      <td>0</td>\n",
       "      <td>0</td>\n",
       "      <td>0</td>\n",
       "      <td>0</td>\n",
       "    </tr>\n",
       "    <tr>\n",
       "      <th>AI49188</th>\n",
       "      <td>12887.431650</td>\n",
       "      <td>0</td>\n",
       "      <td>2</td>\n",
       "      <td>2</td>\n",
       "      <td>1</td>\n",
       "      <td>48767</td>\n",
       "      <td>108</td>\n",
       "      <td>2</td>\n",
       "      <td>566.472247</td>\n",
       "      <td>1</td>\n",
       "      <td>...</td>\n",
       "      <td>1</td>\n",
       "      <td>0</td>\n",
       "      <td>0</td>\n",
       "      <td>0</td>\n",
       "      <td>0</td>\n",
       "      <td>0</td>\n",
       "      <td>0</td>\n",
       "      <td>0</td>\n",
       "      <td>0</td>\n",
       "      <td>1</td>\n",
       "    </tr>\n",
       "    <tr>\n",
       "      <th>WW63253</th>\n",
       "      <td>7645.861827</td>\n",
       "      <td>0</td>\n",
       "      <td>0</td>\n",
       "      <td>2</td>\n",
       "      <td>0</td>\n",
       "      <td>0</td>\n",
       "      <td>106</td>\n",
       "      <td>7</td>\n",
       "      <td>529.881344</td>\n",
       "      <td>1</td>\n",
       "      <td>...</td>\n",
       "      <td>0</td>\n",
       "      <td>0</td>\n",
       "      <td>1</td>\n",
       "      <td>0</td>\n",
       "      <td>0</td>\n",
       "      <td>0</td>\n",
       "      <td>0</td>\n",
       "      <td>1</td>\n",
       "      <td>0</td>\n",
       "      <td>0</td>\n",
       "    </tr>\n",
       "    <tr>\n",
       "      <th>HB64268</th>\n",
       "      <td>2813.692575</td>\n",
       "      <td>0</td>\n",
       "      <td>0</td>\n",
       "      <td>2</td>\n",
       "      <td>0</td>\n",
       "      <td>43836</td>\n",
       "      <td>73</td>\n",
       "      <td>1</td>\n",
       "      <td>138.130879</td>\n",
       "      <td>1</td>\n",
       "      <td>...</td>\n",
       "      <td>1</td>\n",
       "      <td>0</td>\n",
       "      <td>0</td>\n",
       "      <td>0</td>\n",
       "      <td>1</td>\n",
       "      <td>0</td>\n",
       "      <td>0</td>\n",
       "      <td>0</td>\n",
       "      <td>0</td>\n",
       "      <td>0</td>\n",
       "    </tr>\n",
       "  </tbody>\n",
       "</table>\n",
       "<p>5 rows × 49 columns</p>\n",
       "</div>"
      ],
      "text/plain": [
       "          Customer Lifetime Value  Response  Coverage  Education  Gender  \\\n",
       "Customer                                                                   \n",
       "BU79786               2763.519279         0         0          2       1   \n",
       "QZ44356               6979.535903         0         1          2       1   \n",
       "AI49188              12887.431650         0         2          2       1   \n",
       "WW63253               7645.861827         0         0          2       0   \n",
       "HB64268               2813.692575         0         0          2       0   \n",
       "\n",
       "          Income  Monthly Premium Auto  Number of Policies  \\\n",
       "Customer                                                     \n",
       "BU79786    56274                    69                   1   \n",
       "QZ44356        0                    94                   8   \n",
       "AI49188    48767                   108                   2   \n",
       "WW63253        0                   106                   7   \n",
       "HB64268    43836                    73                   1   \n",
       "\n",
       "          Total Claim Amount  Vehicle Size  ...  Sales Channel_Agent  \\\n",
       "Customer                                    ...                        \n",
       "BU79786           384.811147             1  ...                    1   \n",
       "QZ44356          1131.464935             1  ...                    1   \n",
       "AI49188           566.472247             1  ...                    1   \n",
       "WW63253           529.881344             1  ...                    0   \n",
       "HB64268           138.130879             1  ...                    1   \n",
       "\n",
       "          Sales Channel_Branch  Sales Channel_Call Center  Sales Channel_Web  \\\n",
       "Customer                                                                       \n",
       "BU79786                      0                          0                  0   \n",
       "QZ44356                      0                          0                  0   \n",
       "AI49188                      0                          0                  0   \n",
       "WW63253                      0                          1                  0   \n",
       "HB64268                      0                          0                  0   \n",
       "\n",
       "          Vehicle Class_Four-Door Car  Vehicle Class_Luxury Car  \\\n",
       "Customer                                                          \n",
       "BU79786                             0                         0   \n",
       "QZ44356                             1                         0   \n",
       "AI49188                             0                         0   \n",
       "WW63253                             0                         0   \n",
       "HB64268                             1                         0   \n",
       "\n",
       "          Vehicle Class_Luxury SUV  Vehicle Class_SUV  \\\n",
       "Customer                                                \n",
       "BU79786                          0                  0   \n",
       "QZ44356                          0                  0   \n",
       "AI49188                          0                  0   \n",
       "WW63253                          0                  1   \n",
       "HB64268                          0                  0   \n",
       "\n",
       "          Vehicle Class_Sports Car  Vehicle Class_Two-Door Car  \n",
       "Customer                                                        \n",
       "BU79786                          0                           1  \n",
       "QZ44356                          0                           0  \n",
       "AI49188                          0                           1  \n",
       "WW63253                          0                           0  \n",
       "HB64268                          0                           0  \n",
       "\n",
       "[5 rows x 49 columns]"
      ]
     },
     "execution_count": 3,
     "metadata": {},
     "output_type": "execute_result"
    }
   ],
   "source": [
    "df_processed = pd.read_csv(\"data_ml.csv\", index_col = 0)\n",
    "df_processed.head()"
   ]
  },
  {
   "cell_type": "code",
   "execution_count": 144,
   "metadata": {},
   "outputs": [
    {
     "data": {
      "text/plain": [
       "Index(['Customer Lifetime Value', 'Response', 'Coverage', 'Education',\n",
       "       'Gender', 'Income', 'Monthly Premium Auto', 'Number of Policies',\n",
       "       'Total Claim Amount', 'Vehicle Size', 'State_Arizona',\n",
       "       'State_California', 'State_Nevada', 'State_Oregon', 'State_Washington',\n",
       "       'EmploymentStatus_Disabled', 'EmploymentStatus_Employed',\n",
       "       'EmploymentStatus_Medical Leave', 'EmploymentStatus_Retired',\n",
       "       'EmploymentStatus_Unemployed', 'Location Code_Rural',\n",
       "       'Location Code_Suburban', 'Location Code_Urban',\n",
       "       'Marital Status_Divorced', 'Marital Status_Married',\n",
       "       'Marital Status_Single', 'Policy_Corporate L1', 'Policy_Corporate L2',\n",
       "       'Policy_Corporate L3', 'Policy_Personal L1', 'Policy_Personal L2',\n",
       "       'Policy_Personal L3', 'Policy_Special L1', 'Policy_Special L2',\n",
       "       'Policy_Special L3', 'Renew Offer Type_Offer1',\n",
       "       'Renew Offer Type_Offer2', 'Renew Offer Type_Offer3',\n",
       "       'Renew Offer Type_Offer4', 'Sales Channel_Agent',\n",
       "       'Sales Channel_Branch', 'Sales Channel_Call Center',\n",
       "       'Sales Channel_Web', 'Vehicle Class_Four-Door Car',\n",
       "       'Vehicle Class_Luxury Car', 'Vehicle Class_Luxury SUV',\n",
       "       'Vehicle Class_SUV', 'Vehicle Class_Sports Car',\n",
       "       'Vehicle Class_Two-Door Car'],\n",
       "      dtype='object')"
      ]
     },
     "execution_count": 144,
     "metadata": {},
     "output_type": "execute_result"
    }
   ],
   "source": [
    "df_processed.columns"
   ]
  },
  {
   "cell_type": "markdown",
   "metadata": {
    "id": "9emzY1N4LEU8"
   },
   "source": [
    "# Splitting Data"
   ]
  },
  {
   "cell_type": "code",
   "execution_count": 4,
   "metadata": {
    "id": "8YZnNnkXLDzp"
   },
   "outputs": [],
   "source": [
    "x = df_processed.drop(columns = ['Response'] , axis = 1)\n",
    "y = df_processed['Response']"
   ]
  },
  {
   "cell_type": "code",
   "execution_count": 5,
   "metadata": {
    "id": "AwkYUTgFMCLU"
   },
   "outputs": [],
   "source": [
    "x_train, x_test, y_train, y_test = train_test_split(x, y, train_size=.8, stratify= y, random_state = 42)"
   ]
  },
  {
   "cell_type": "markdown",
   "metadata": {
    "id": "0Yj7ozxSMMmi"
   },
   "source": [
    "# Handling Imbalance Data"
   ]
  },
  {
   "cell_type": "code",
   "execution_count": 6,
   "metadata": {
    "colab": {
     "base_uri": "https://localhost:8080/"
    },
    "id": "i20dCbkRM9TK",
    "outputId": "de7742b5-6087-48b1-9f32-9529bcbf3939"
   },
   "outputs": [
    {
     "data": {
      "text/plain": [
       "0    6194\n",
       "1    1042\n",
       "Name: Response, dtype: int64"
      ]
     },
     "execution_count": 6,
     "metadata": {},
     "output_type": "execute_result"
    }
   ],
   "source": [
    "y_train.value_counts()"
   ]
  },
  {
   "cell_type": "markdown",
   "metadata": {
    "id": "SuwjIX1JMVta"
   },
   "source": [
    "#### Random Over Sampling"
   ]
  },
  {
   "cell_type": "code",
   "execution_count": 7,
   "metadata": {
    "colab": {
     "base_uri": "https://localhost:8080/"
    },
    "id": "X0bWeSkZMPhl",
    "outputId": "e9fdf446-fad4-4152-9197-8622ae1396b7"
   },
   "outputs": [
    {
     "data": {
      "text/plain": [
       "1    6194\n",
       "0    6194\n",
       "Name: Response, dtype: int64"
      ]
     },
     "execution_count": 7,
     "metadata": {},
     "output_type": "execute_result"
    }
   ],
   "source": [
    "df_train = pd.concat([x_train, y_train], axis=1)\n",
    "not_renewal = df_train[df_train['Response'] == 0]\n",
    "renewal = df_train[df_train['Response'] == 1]\n",
    "\n",
    "renewal_oversample = resample(renewal, replace=True, n_samples = len(not_renewal), random_state = 42)\n",
    "df_OverSampled = pd.concat([not_renewal, renewal_oversample])\n",
    "df_OverSampled['Response'].value_counts()"
   ]
  },
  {
   "cell_type": "code",
   "execution_count": 8,
   "metadata": {
    "id": "mzYilLaeN-jQ"
   },
   "outputs": [],
   "source": [
    "x_train_os = df_OverSampled.drop(columns = ['Response'])\n",
    "y_train_os = df_OverSampled['Response']"
   ]
  },
  {
   "cell_type": "markdown",
   "metadata": {
    "id": "CMSbi3WuOdhl"
   },
   "source": [
    "#### Smote"
   ]
  },
  {
   "cell_type": "code",
   "execution_count": 9,
   "metadata": {
    "colab": {
     "base_uri": "https://localhost:8080/"
    },
    "id": "UdXTHZtFOf1M",
    "outputId": "5f1355cf-ae55-43cf-bf4c-9d3ff0e99a54"
   },
   "outputs": [
    {
     "data": {
      "text/plain": [
       "1    6194\n",
       "0    6194\n",
       "Name: Response, dtype: int64"
      ]
     },
     "execution_count": 9,
     "metadata": {},
     "output_type": "execute_result"
    }
   ],
   "source": [
    "sm = SMOTE(random_state=42)\n",
    "x_train_sm, y_train_sm = sm.fit_sample(x_train, y_train)\n",
    "\n",
    "x = pd.DataFrame(data = x_train_sm, columns = x_train.columns)\n",
    "y = pd.DataFrame(data = y_train_sm, columns = ['Response'])\n",
    "df_smote = x.join(y)\n",
    "# df_smote = pd.concat([x_train_sm, y_train_sm], axis = 1)\n",
    "df_smote['Response'].value_counts()"
   ]
  },
  {
   "cell_type": "code",
   "execution_count": 10,
   "metadata": {},
   "outputs": [],
   "source": [
    "columns_continuous = ['Customer Lifetime Value', 'Income', 'Monthly Premium Auto', 'Number of Policies', 'Total Claim Amount']"
   ]
  },
  {
   "cell_type": "code",
   "execution_count": 11,
   "metadata": {},
   "outputs": [],
   "source": [
    "std_scale = StandardScaler()\n",
    "mm_scale = MinMaxScaler()\n",
    "rb_scale = RobustScaler()"
   ]
  },
  {
   "cell_type": "markdown",
   "metadata": {
    "id": "A2ABFHUaP5kn"
   },
   "source": [
    "# Tuning Model"
   ]
  },
  {
   "cell_type": "markdown",
   "metadata": {},
   "source": [
    "## SVM"
   ]
  },
  {
   "cell_type": "code",
   "execution_count": 12,
   "metadata": {},
   "outputs": [],
   "source": [
    "svm = SVC(max_iter = 300)"
   ]
  },
  {
   "cell_type": "code",
   "execution_count": 13,
   "metadata": {},
   "outputs": [],
   "source": [
    "param_svm = {'C' : np.arange(0.1, 10),\n",
    "             'kernel' : ['linear', 'rbf'],\n",
    "             \"gamma\" : np.arange(0.01, 10)}"
   ]
  },
  {
   "cell_type": "markdown",
   "metadata": {},
   "source": [
    "#### Random Over Sampling without Scaling"
   ]
  },
  {
   "cell_type": "code",
   "execution_count": 14,
   "metadata": {},
   "outputs": [
    {
     "name": "stdout",
     "output_type": "stream",
     "text": [
      "Fitting 3 folds for each of 200 candidates, totalling 600 fits\n"
     ]
    },
    {
     "name": "stderr",
     "output_type": "stream",
     "text": [
      "[Parallel(n_jobs=-1)]: Using backend LokyBackend with 4 concurrent workers.\n",
      "[Parallel(n_jobs=-1)]: Done  42 tasks      | elapsed:   16.1s\n",
      "[Parallel(n_jobs=-1)]: Done 192 tasks      | elapsed:   58.3s\n",
      "[Parallel(n_jobs=-1)]: Done 442 tasks      | elapsed:  2.1min\n",
      "[Parallel(n_jobs=-1)]: Done 600 out of 600 | elapsed:  2.8min finished\n"
     ]
    },
    {
     "data": {
      "text/plain": [
       "RandomizedSearchCV(cv=3, estimator=SVC(max_iter=300), n_iter=300, n_jobs=-1,\n",
       "                   param_distributions={'C': array([0.1, 1.1, 2.1, 3.1, 4.1, 5.1, 6.1, 7.1, 8.1, 9.1]),\n",
       "                                        'gamma': array([0.01, 1.01, 2.01, 3.01, 4.01, 5.01, 6.01, 7.01, 8.01, 9.01]),\n",
       "                                        'kernel': ['linear', 'rbf']},\n",
       "                   scoring='recall', verbose=1)"
      ]
     },
     "execution_count": 14,
     "metadata": {},
     "output_type": "execute_result"
    }
   ],
   "source": [
    "svm_os = RandomizedSearchCV(estimator = svm, param_distributions = param_svm, cv = 3, n_jobs = -1 , n_iter=300, verbose = 1, scoring = 'recall')\n",
    "svm_os.fit(x_train_os, y_train_os)"
   ]
  },
  {
   "cell_type": "code",
   "execution_count": 15,
   "metadata": {},
   "outputs": [
    {
     "data": {
      "text/plain": [
       "SVC(C=0.1, gamma=0.01, max_iter=300)"
      ]
     },
     "execution_count": 15,
     "metadata": {},
     "output_type": "execute_result"
    }
   ],
   "source": [
    "svm_os_tuned = svm_os.best_estimator_\n",
    "pred_train_os = svm_os_tuned.predict(x_train_os)\n",
    "pred_test_os = svm_os_tuned.predict(x_test)\n",
    "svm_os_tuned"
   ]
  },
  {
   "cell_type": "code",
   "execution_count": 16,
   "metadata": {},
   "outputs": [],
   "source": [
    "svm_acc_tuned_train_os = accuracy_score(y_train_os, pred_train_os)\n",
    "svm_acc_tuned_test_os = accuracy_score(y_test, pred_test_os)\n",
    "svm_recall_tuned_train_os = recall_score(y_train_os, pred_train_os)\n",
    "svm_recall_tuned_test_os = recall_score(y_test, pred_test_os)\n",
    "svm_prec_tuned_train_os = precision_score(y_train_os, pred_train_os)\n",
    "svm_prec_tuned_test_os = precision_score(y_test, pred_test_os)\n",
    "svm_f1_tuned_train_os = f1_score(y_train_os, pred_train_os)\n",
    "svm_f1_tuned_test_os = f1_score(y_test, pred_test_os)"
   ]
  },
  {
   "cell_type": "code",
   "execution_count": 17,
   "metadata": {},
   "outputs": [
    {
     "data": {
      "text/html": [
       "<div>\n",
       "<style scoped>\n",
       "    .dataframe tbody tr th:only-of-type {\n",
       "        vertical-align: middle;\n",
       "    }\n",
       "\n",
       "    .dataframe tbody tr th {\n",
       "        vertical-align: top;\n",
       "    }\n",
       "\n",
       "    .dataframe thead th {\n",
       "        text-align: right;\n",
       "    }\n",
       "</style>\n",
       "<table border=\"1\" class=\"dataframe\">\n",
       "  <thead>\n",
       "    <tr style=\"text-align: right;\">\n",
       "      <th></th>\n",
       "      <th>Pred 1</th>\n",
       "      <th>Pred 0</th>\n",
       "    </tr>\n",
       "  </thead>\n",
       "  <tbody>\n",
       "    <tr>\n",
       "      <th>Akt 1</th>\n",
       "      <td>260</td>\n",
       "      <td>0</td>\n",
       "    </tr>\n",
       "    <tr>\n",
       "      <th>Akt 0</th>\n",
       "      <td>1</td>\n",
       "      <td>1548</td>\n",
       "    </tr>\n",
       "  </tbody>\n",
       "</table>\n",
       "</div>"
      ],
      "text/plain": [
       "       Pred 1  Pred 0\n",
       "Akt 1     260       0\n",
       "Akt 0       1    1548"
      ]
     },
     "execution_count": 17,
     "metadata": {},
     "output_type": "execute_result"
    }
   ],
   "source": [
    "cm_svm_tuned_os = confusion_matrix(y_test, pred_test_os, labels=[1, 0])\n",
    "cm_svm_tuned_os = pd.DataFrame(data=cm_svm_tuned_os, index=['Akt 1', 'Akt 0'], columns=['Pred 1', 'Pred 0'])\n",
    "cm_svm_tuned_os"
   ]
  },
  {
   "cell_type": "code",
   "execution_count": 18,
   "metadata": {},
   "outputs": [],
   "source": [
    "tp_svm_os = cm_svm_tuned_os['Pred 1'][0]\n",
    "tn_svm_os = cm_svm_tuned_os['Pred 0'][1]\n",
    "fp_svm_os = cm_svm_tuned_os['Pred 1'][1]\n",
    "fn_svm_os = cm_svm_tuned_os['Pred 0'][0]"
   ]
  },
  {
   "cell_type": "markdown",
   "metadata": {},
   "source": [
    "#### Smote without Scaling"
   ]
  },
  {
   "cell_type": "code",
   "execution_count": 19,
   "metadata": {},
   "outputs": [
    {
     "name": "stdout",
     "output_type": "stream",
     "text": [
      "Fitting 3 folds for each of 200 candidates, totalling 600 fits\n"
     ]
    },
    {
     "name": "stderr",
     "output_type": "stream",
     "text": [
      "[Parallel(n_jobs=-1)]: Using backend LokyBackend with 4 concurrent workers.\n",
      "[Parallel(n_jobs=-1)]: Done  50 tasks      | elapsed:   12.6s\n",
      "[Parallel(n_jobs=-1)]: Done 200 tasks      | elapsed:   52.0s\n",
      "[Parallel(n_jobs=-1)]: Done 450 tasks      | elapsed:  1.9min\n",
      "[Parallel(n_jobs=-1)]: Done 600 out of 600 | elapsed:  2.6min finished\n"
     ]
    },
    {
     "data": {
      "text/plain": [
       "RandomizedSearchCV(cv=3, estimator=SVC(max_iter=300), n_iter=300, n_jobs=-1,\n",
       "                   param_distributions={'C': array([0.1, 1.1, 2.1, 3.1, 4.1, 5.1, 6.1, 7.1, 8.1, 9.1]),\n",
       "                                        'gamma': array([0.01, 1.01, 2.01, 3.01, 4.01, 5.01, 6.01, 7.01, 8.01, 9.01]),\n",
       "                                        'kernel': ['linear', 'rbf']},\n",
       "                   scoring='recall', verbose=1)"
      ]
     },
     "execution_count": 19,
     "metadata": {},
     "output_type": "execute_result"
    }
   ],
   "source": [
    "svm_sm = RandomizedSearchCV(estimator = svm, param_distributions = param_svm, cv = 3, n_jobs = -1 , n_iter=300, verbose = 1, scoring = 'recall')\n",
    "svm_sm.fit(x_train_sm, y_train_sm)"
   ]
  },
  {
   "cell_type": "code",
   "execution_count": 20,
   "metadata": {},
   "outputs": [
    {
     "data": {
      "text/plain": [
       "SVC(C=0.1, gamma=1.01, max_iter=300)"
      ]
     },
     "execution_count": 20,
     "metadata": {},
     "output_type": "execute_result"
    }
   ],
   "source": [
    "svm_sm_tuned = svm_sm.best_estimator_\n",
    "pred_train_sm = svm_sm_tuned.predict(x_train_sm)\n",
    "pred_test_sm = svm_sm_tuned.predict(x_test)\n",
    "svm_sm_tuned"
   ]
  },
  {
   "cell_type": "code",
   "execution_count": 21,
   "metadata": {},
   "outputs": [],
   "source": [
    "svm_acc_tuned_train_sm = accuracy_score(y_train_sm, pred_train_sm)\n",
    "svm_acc_tuned_test_sm = accuracy_score(y_test, pred_test_sm)\n",
    "svm_recall_tuned_train_sm = recall_score(y_train_sm, pred_train_sm)\n",
    "svm_recall_tuned_test_sm = recall_score(y_test, pred_test_sm)\n",
    "svm_prec_tuned_train_sm = precision_score(y_train_sm, pred_train_sm)\n",
    "svm_prec_tuned_test_sm = precision_score(y_test, pred_test_sm)\n",
    "svm_f1_tuned_train_sm = f1_score(y_train_sm, pred_train_sm)\n",
    "svm_f1_tuned_test_sm = f1_score(y_test, pred_test_sm)"
   ]
  },
  {
   "cell_type": "code",
   "execution_count": 22,
   "metadata": {},
   "outputs": [
    {
     "data": {
      "text/html": [
       "<div>\n",
       "<style scoped>\n",
       "    .dataframe tbody tr th:only-of-type {\n",
       "        vertical-align: middle;\n",
       "    }\n",
       "\n",
       "    .dataframe tbody tr th {\n",
       "        vertical-align: top;\n",
       "    }\n",
       "\n",
       "    .dataframe thead th {\n",
       "        text-align: right;\n",
       "    }\n",
       "</style>\n",
       "<table border=\"1\" class=\"dataframe\">\n",
       "  <thead>\n",
       "    <tr style=\"text-align: right;\">\n",
       "      <th></th>\n",
       "      <th>Pred 1</th>\n",
       "      <th>Pred 0</th>\n",
       "    </tr>\n",
       "  </thead>\n",
       "  <tbody>\n",
       "    <tr>\n",
       "      <th>Akt 1</th>\n",
       "      <td>260</td>\n",
       "      <td>0</td>\n",
       "    </tr>\n",
       "    <tr>\n",
       "      <th>Akt 0</th>\n",
       "      <td>1526</td>\n",
       "      <td>23</td>\n",
       "    </tr>\n",
       "  </tbody>\n",
       "</table>\n",
       "</div>"
      ],
      "text/plain": [
       "       Pred 1  Pred 0\n",
       "Akt 1     260       0\n",
       "Akt 0    1526      23"
      ]
     },
     "execution_count": 22,
     "metadata": {},
     "output_type": "execute_result"
    }
   ],
   "source": [
    "cm_svm_tuned_sm = confusion_matrix(y_test, pred_test_sm, labels=[1, 0])\n",
    "cm_svm_tuned_sm = pd.DataFrame(data=cm_svm_tuned_sm, index=['Akt 1', 'Akt 0'], columns=['Pred 1', 'Pred 0'])\n",
    "cm_svm_tuned_sm"
   ]
  },
  {
   "cell_type": "code",
   "execution_count": 23,
   "metadata": {},
   "outputs": [],
   "source": [
    "tp_svm_sm = cm_svm_tuned_sm['Pred 1'][0]\n",
    "tn_svm_sm = cm_svm_tuned_sm['Pred 0'][1]\n",
    "fp_svm_sm = cm_svm_tuned_sm['Pred 1'][1]\n",
    "fn_svm_sm = cm_svm_tuned_sm['Pred 0'][0]"
   ]
  },
  {
   "cell_type": "markdown",
   "metadata": {},
   "source": [
    "#### Random Over Sampling with Standard Scaler"
   ]
  },
  {
   "cell_type": "code",
   "execution_count": 24,
   "metadata": {},
   "outputs": [
    {
     "name": "stdout",
     "output_type": "stream",
     "text": [
      "Fitting 3 folds for each of 200 candidates, totalling 600 fits\n"
     ]
    },
    {
     "name": "stderr",
     "output_type": "stream",
     "text": [
      "[Parallel(n_jobs=-1)]: Using backend LokyBackend with 4 concurrent workers.\n",
      "[Parallel(n_jobs=-1)]: Done  42 tasks      | elapsed:   13.1s\n",
      "[Parallel(n_jobs=-1)]: Done 192 tasks      | elapsed:   49.5s\n",
      "[Parallel(n_jobs=-1)]: Done 442 tasks      | elapsed:  1.8min\n",
      "[Parallel(n_jobs=-1)]: Done 600 out of 600 | elapsed:  2.4min finished\n"
     ]
    },
    {
     "data": {
      "text/plain": [
       "RandomizedSearchCV(cv=3, estimator=SVC(max_iter=300), n_iter=300, n_jobs=-1,\n",
       "                   param_distributions={'C': array([0.1, 1.1, 2.1, 3.1, 4.1, 5.1, 6.1, 7.1, 8.1, 9.1]),\n",
       "                                        'gamma': array([0.01, 1.01, 2.01, 3.01, 4.01, 5.01, 6.01, 7.01, 8.01, 9.01]),\n",
       "                                        'kernel': ['linear', 'rbf']},\n",
       "                   scoring='recall', verbose=1)"
      ]
     },
     "execution_count": 24,
     "metadata": {},
     "output_type": "execute_result"
    }
   ],
   "source": [
    "svm_os_std = RandomizedSearchCV(estimator = svm, param_distributions = param_svm, cv = 3, n_jobs = -1 , n_iter=300, verbose = 1, scoring = 'recall')\n",
    "x_train_os[columns_continuous] = std_scale.fit_transform(x_train_os[columns_continuous])\n",
    "svm_os_std.fit(x_train_os, y_train_os)"
   ]
  },
  {
   "cell_type": "code",
   "execution_count": 25,
   "metadata": {},
   "outputs": [
    {
     "data": {
      "text/plain": [
       "SVC(C=0.1, gamma=8.01, max_iter=300)"
      ]
     },
     "execution_count": 25,
     "metadata": {},
     "output_type": "execute_result"
    }
   ],
   "source": [
    "svm_os_std_tuned = svm_os_std.best_estimator_\n",
    "pred_train_os_std = svm_os_std_tuned.predict(x_train_os)\n",
    "x_test[columns_continuous] = std_scale.fit_transform(x_test[columns_continuous])\n",
    "pred_test_os_std = svm_os_std_tuned.predict(x_test)\n",
    "svm_os_std_tuned"
   ]
  },
  {
   "cell_type": "code",
   "execution_count": 26,
   "metadata": {},
   "outputs": [],
   "source": [
    "svm_acc_tuned_train_os_std = accuracy_score(y_train_os, pred_train_os_std)\n",
    "svm_acc_tuned_test_os_std = accuracy_score(y_test, pred_test_os_std)\n",
    "svm_recall_tuned_train_os_std = recall_score(y_train_os, pred_train_os_std)\n",
    "svm_recall_tuned_test_os_std = recall_score(y_test, pred_test_os_std)\n",
    "svm_prec_tuned_train_os_std = precision_score(y_train_os, pred_train_os_std)\n",
    "svm_prec_tuned_test_os_std = precision_score(y_test, pred_test_os_std)\n",
    "svm_f1_tuned_train_os_std = f1_score(y_train_os, pred_train_os_std)\n",
    "svm_f1_tuned_test_os_std = f1_score(y_test, pred_test_os_std)"
   ]
  },
  {
   "cell_type": "code",
   "execution_count": 27,
   "metadata": {},
   "outputs": [
    {
     "data": {
      "text/html": [
       "<div>\n",
       "<style scoped>\n",
       "    .dataframe tbody tr th:only-of-type {\n",
       "        vertical-align: middle;\n",
       "    }\n",
       "\n",
       "    .dataframe tbody tr th {\n",
       "        vertical-align: top;\n",
       "    }\n",
       "\n",
       "    .dataframe thead th {\n",
       "        text-align: right;\n",
       "    }\n",
       "</style>\n",
       "<table border=\"1\" class=\"dataframe\">\n",
       "  <thead>\n",
       "    <tr style=\"text-align: right;\">\n",
       "      <th></th>\n",
       "      <th>Pred 1</th>\n",
       "      <th>Pred 0</th>\n",
       "    </tr>\n",
       "  </thead>\n",
       "  <tbody>\n",
       "    <tr>\n",
       "      <th>Akt 1</th>\n",
       "      <td>243</td>\n",
       "      <td>17</td>\n",
       "    </tr>\n",
       "    <tr>\n",
       "      <th>Akt 0</th>\n",
       "      <td>48</td>\n",
       "      <td>1501</td>\n",
       "    </tr>\n",
       "  </tbody>\n",
       "</table>\n",
       "</div>"
      ],
      "text/plain": [
       "       Pred 1  Pred 0\n",
       "Akt 1     243      17\n",
       "Akt 0      48    1501"
      ]
     },
     "execution_count": 27,
     "metadata": {},
     "output_type": "execute_result"
    }
   ],
   "source": [
    "cm_svm_tuned_os_std = confusion_matrix(y_test, pred_test_os_std, labels=[1, 0])\n",
    "cm_svm_tuned_os_std = pd.DataFrame(data=cm_svm_tuned_os_std, index=['Akt 1', 'Akt 0'], columns=['Pred 1', 'Pred 0'])\n",
    "cm_svm_tuned_os_std"
   ]
  },
  {
   "cell_type": "code",
   "execution_count": 28,
   "metadata": {},
   "outputs": [],
   "source": [
    "tp_svm_os_std = cm_svm_tuned_os_std['Pred 1'][0]\n",
    "tn_svm_os_std = cm_svm_tuned_os_std['Pred 0'][1]\n",
    "fp_svm_os_std = cm_svm_tuned_os_std['Pred 1'][1]\n",
    "fn_svm_os_std = cm_svm_tuned_os_std['Pred 0'][0]"
   ]
  },
  {
   "cell_type": "markdown",
   "metadata": {},
   "source": [
    "#### Random Over Sampling with MinMax Scaler"
   ]
  },
  {
   "cell_type": "code",
   "execution_count": 29,
   "metadata": {},
   "outputs": [
    {
     "name": "stdout",
     "output_type": "stream",
     "text": [
      "Fitting 3 folds for each of 200 candidates, totalling 600 fits\n"
     ]
    },
    {
     "name": "stderr",
     "output_type": "stream",
     "text": [
      "[Parallel(n_jobs=-1)]: Using backend LokyBackend with 4 concurrent workers.\n",
      "[Parallel(n_jobs=-1)]: Done  42 tasks      | elapsed:   11.1s\n",
      "[Parallel(n_jobs=-1)]: Done 192 tasks      | elapsed:   47.2s\n",
      "[Parallel(n_jobs=-1)]: Done 442 tasks      | elapsed:  1.8min\n",
      "[Parallel(n_jobs=-1)]: Done 600 out of 600 | elapsed:  2.4min finished\n"
     ]
    },
    {
     "data": {
      "text/plain": [
       "RandomizedSearchCV(cv=3, estimator=SVC(max_iter=300), n_iter=300, n_jobs=-1,\n",
       "                   param_distributions={'C': array([0.1, 1.1, 2.1, 3.1, 4.1, 5.1, 6.1, 7.1, 8.1, 9.1]),\n",
       "                                        'gamma': array([0.01, 1.01, 2.01, 3.01, 4.01, 5.01, 6.01, 7.01, 8.01, 9.01]),\n",
       "                                        'kernel': ['linear', 'rbf']},\n",
       "                   scoring='recall', verbose=1)"
      ]
     },
     "execution_count": 29,
     "metadata": {},
     "output_type": "execute_result"
    }
   ],
   "source": [
    "svm_os_mm = RandomizedSearchCV(estimator = svm, param_distributions = param_svm, cv = 3, n_jobs = -1 , n_iter=300, verbose = 1, scoring = 'recall')\n",
    "x_train_os[columns_continuous] = mm_scale.fit_transform(x_train_os[columns_continuous])\n",
    "svm_os_mm.fit(x_train_os, y_train_os)"
   ]
  },
  {
   "cell_type": "code",
   "execution_count": 30,
   "metadata": {},
   "outputs": [
    {
     "data": {
      "text/plain": [
       "SVC(C=1.1, gamma=5.01, max_iter=300)"
      ]
     },
     "execution_count": 30,
     "metadata": {},
     "output_type": "execute_result"
    }
   ],
   "source": [
    "svm_os_mm_tuned = svm_os_mm.best_estimator_\n",
    "pred_train_os_mm = svm_os_mm_tuned.predict(x_train_os)\n",
    "x_test[columns_continuous] = mm_scale.fit_transform(x_test[columns_continuous])\n",
    "pred_test_os_mm = svm_os_mm_tuned.predict(x_test)\n",
    "svm_os_mm_tuned"
   ]
  },
  {
   "cell_type": "code",
   "execution_count": 31,
   "metadata": {},
   "outputs": [],
   "source": [
    "svm_acc_tuned_train_os_mm = accuracy_score(y_train_os, pred_train_os_mm)\n",
    "svm_acc_tuned_test_os_mm = accuracy_score(y_test, pred_test_os_mm)\n",
    "svm_recall_tuned_train_os_mm = recall_score(y_train_os, pred_train_os_mm)\n",
    "svm_recall_tuned_test_os_mm = recall_score(y_test, pred_test_os_mm)\n",
    "svm_prec_tuned_train_os_mm = precision_score(y_train_os, pred_train_os_mm)\n",
    "svm_prec_tuned_test_os_mm = precision_score(y_test, pred_test_os_mm)\n",
    "svm_f1_tuned_train_os_mm = f1_score(y_train_os, pred_train_os_mm)\n",
    "svm_f1_tuned_test_os_mm = f1_score(y_test, pred_test_os_mm)"
   ]
  },
  {
   "cell_type": "code",
   "execution_count": 32,
   "metadata": {},
   "outputs": [
    {
     "data": {
      "text/html": [
       "<div>\n",
       "<style scoped>\n",
       "    .dataframe tbody tr th:only-of-type {\n",
       "        vertical-align: middle;\n",
       "    }\n",
       "\n",
       "    .dataframe tbody tr th {\n",
       "        vertical-align: top;\n",
       "    }\n",
       "\n",
       "    .dataframe thead th {\n",
       "        text-align: right;\n",
       "    }\n",
       "</style>\n",
       "<table border=\"1\" class=\"dataframe\">\n",
       "  <thead>\n",
       "    <tr style=\"text-align: right;\">\n",
       "      <th></th>\n",
       "      <th>Pred 1</th>\n",
       "      <th>Pred 0</th>\n",
       "    </tr>\n",
       "  </thead>\n",
       "  <tbody>\n",
       "    <tr>\n",
       "      <th>Akt 1</th>\n",
       "      <td>256</td>\n",
       "      <td>4</td>\n",
       "    </tr>\n",
       "    <tr>\n",
       "      <th>Akt 0</th>\n",
       "      <td>1544</td>\n",
       "      <td>5</td>\n",
       "    </tr>\n",
       "  </tbody>\n",
       "</table>\n",
       "</div>"
      ],
      "text/plain": [
       "       Pred 1  Pred 0\n",
       "Akt 1     256       4\n",
       "Akt 0    1544       5"
      ]
     },
     "execution_count": 32,
     "metadata": {},
     "output_type": "execute_result"
    }
   ],
   "source": [
    "cm_svm_tuned_os_mm = confusion_matrix(y_test, pred_test_os_mm, labels=[1, 0])\n",
    "cm_svm_tuned_os_mm = pd.DataFrame(data=cm_svm_tuned_os_mm, index=['Akt 1', 'Akt 0'], columns=['Pred 1', 'Pred 0'])\n",
    "cm_svm_tuned_os_mm"
   ]
  },
  {
   "cell_type": "code",
   "execution_count": 33,
   "metadata": {},
   "outputs": [],
   "source": [
    "tp_svm_os_mm = cm_svm_tuned_os_mm['Pred 1'][0]\n",
    "tn_svm_os_mm = cm_svm_tuned_os_mm['Pred 0'][1]\n",
    "fp_svm_os_mm = cm_svm_tuned_os_mm['Pred 1'][1]\n",
    "fn_svm_os_mm = cm_svm_tuned_os_mm['Pred 0'][0]"
   ]
  },
  {
   "cell_type": "markdown",
   "metadata": {},
   "source": [
    "#### Random Over Sampling with Robust Scaler"
   ]
  },
  {
   "cell_type": "code",
   "execution_count": 34,
   "metadata": {},
   "outputs": [
    {
     "name": "stdout",
     "output_type": "stream",
     "text": [
      "Fitting 3 folds for each of 200 candidates, totalling 600 fits\n"
     ]
    },
    {
     "name": "stderr",
     "output_type": "stream",
     "text": [
      "[Parallel(n_jobs=-1)]: Using backend LokyBackend with 4 concurrent workers.\n",
      "[Parallel(n_jobs=-1)]: Done  42 tasks      | elapsed:   11.2s\n",
      "[Parallel(n_jobs=-1)]: Done 192 tasks      | elapsed:   45.7s\n",
      "[Parallel(n_jobs=-1)]: Done 442 tasks      | elapsed:  1.7min\n",
      "[Parallel(n_jobs=-1)]: Done 600 out of 600 | elapsed:  2.3min finished\n"
     ]
    },
    {
     "data": {
      "text/plain": [
       "RandomizedSearchCV(cv=3, estimator=SVC(max_iter=300), n_iter=300, n_jobs=-1,\n",
       "                   param_distributions={'C': array([0.1, 1.1, 2.1, 3.1, 4.1, 5.1, 6.1, 7.1, 8.1, 9.1]),\n",
       "                                        'gamma': array([0.01, 1.01, 2.01, 3.01, 4.01, 5.01, 6.01, 7.01, 8.01, 9.01]),\n",
       "                                        'kernel': ['linear', 'rbf']},\n",
       "                   scoring='recall', verbose=1)"
      ]
     },
     "execution_count": 34,
     "metadata": {},
     "output_type": "execute_result"
    }
   ],
   "source": [
    "svm_os_rb = RandomizedSearchCV(estimator = svm, param_distributions = param_svm, cv = 3, n_jobs = -1 , n_iter=300, verbose = 1, scoring = 'recall')\n",
    "x_train_os[columns_continuous] = rb_scale.fit_transform(x_train_os[columns_continuous])\n",
    "svm_os_rb.fit(x_train_os, y_train_os)"
   ]
  },
  {
   "cell_type": "code",
   "execution_count": 35,
   "metadata": {},
   "outputs": [
    {
     "data": {
      "text/plain": [
       "SVC(C=0.1, gamma=5.01, max_iter=300)"
      ]
     },
     "execution_count": 35,
     "metadata": {},
     "output_type": "execute_result"
    }
   ],
   "source": [
    "svm_os_rb_tuned = svm_os_rb.best_estimator_\n",
    "pred_train_os_rb = svm_os_rb_tuned.predict(x_train_os)\n",
    "x_test[columns_continuous] = rb_scale.fit_transform(x_test[columns_continuous])\n",
    "pred_test_os_rb = svm_os_rb_tuned.predict(x_test)\n",
    "svm_os_rb_tuned"
   ]
  },
  {
   "cell_type": "code",
   "execution_count": 36,
   "metadata": {},
   "outputs": [],
   "source": [
    "svm_acc_tuned_train_os_rb = accuracy_score(y_train_os, pred_train_os_rb)\n",
    "svm_acc_tuned_test_os_rb = accuracy_score(y_test, pred_test_os_rb)\n",
    "svm_recall_tuned_train_os_rb = recall_score(y_train_os, pred_train_os_rb)\n",
    "svm_recall_tuned_test_os_rb = recall_score(y_test, pred_test_os_rb)\n",
    "svm_prec_tuned_train_os_rb = precision_score(y_train_os, pred_train_os_rb)\n",
    "svm_prec_tuned_test_os_rb = precision_score(y_test, pred_test_os_rb)\n",
    "svm_f1_tuned_train_os_rb = f1_score(y_train_os, pred_train_os_rb)\n",
    "svm_f1_tuned_test_os_rb = f1_score(y_test, pred_test_os_rb)"
   ]
  },
  {
   "cell_type": "code",
   "execution_count": 37,
   "metadata": {},
   "outputs": [
    {
     "data": {
      "text/html": [
       "<div>\n",
       "<style scoped>\n",
       "    .dataframe tbody tr th:only-of-type {\n",
       "        vertical-align: middle;\n",
       "    }\n",
       "\n",
       "    .dataframe tbody tr th {\n",
       "        vertical-align: top;\n",
       "    }\n",
       "\n",
       "    .dataframe thead th {\n",
       "        text-align: right;\n",
       "    }\n",
       "</style>\n",
       "<table border=\"1\" class=\"dataframe\">\n",
       "  <thead>\n",
       "    <tr style=\"text-align: right;\">\n",
       "      <th></th>\n",
       "      <th>Pred 1</th>\n",
       "      <th>Pred 0</th>\n",
       "    </tr>\n",
       "  </thead>\n",
       "  <tbody>\n",
       "    <tr>\n",
       "      <th>Akt 1</th>\n",
       "      <td>243</td>\n",
       "      <td>17</td>\n",
       "    </tr>\n",
       "    <tr>\n",
       "      <th>Akt 0</th>\n",
       "      <td>63</td>\n",
       "      <td>1486</td>\n",
       "    </tr>\n",
       "  </tbody>\n",
       "</table>\n",
       "</div>"
      ],
      "text/plain": [
       "       Pred 1  Pred 0\n",
       "Akt 1     243      17\n",
       "Akt 0      63    1486"
      ]
     },
     "execution_count": 37,
     "metadata": {},
     "output_type": "execute_result"
    }
   ],
   "source": [
    "cm_svm_tuned_os_rb = confusion_matrix(y_test, pred_test_os_rb, labels=[1, 0])\n",
    "cm_svm_tuned_os_rb = pd.DataFrame(data=cm_svm_tuned_os_rb, index=['Akt 1', 'Akt 0'], columns=['Pred 1', 'Pred 0'])\n",
    "cm_svm_tuned_os_rb"
   ]
  },
  {
   "cell_type": "code",
   "execution_count": 38,
   "metadata": {},
   "outputs": [],
   "source": [
    "tp_svm_os_rb = cm_svm_tuned_os_rb['Pred 1'][0]\n",
    "tn_svm_os_rb = cm_svm_tuned_os_rb['Pred 0'][1]\n",
    "fp_svm_os_rb = cm_svm_tuned_os_rb['Pred 1'][1]\n",
    "fn_svm_os_rb = cm_svm_tuned_os_rb['Pred 0'][0]"
   ]
  },
  {
   "cell_type": "markdown",
   "metadata": {},
   "source": [
    "#### Smote with Standard Scaler"
   ]
  },
  {
   "cell_type": "code",
   "execution_count": 39,
   "metadata": {},
   "outputs": [
    {
     "name": "stdout",
     "output_type": "stream",
     "text": [
      "Fitting 3 folds for each of 200 candidates, totalling 600 fits\n"
     ]
    },
    {
     "name": "stderr",
     "output_type": "stream",
     "text": [
      "[Parallel(n_jobs=-1)]: Using backend LokyBackend with 4 concurrent workers.\n",
      "[Parallel(n_jobs=-1)]: Done  42 tasks      | elapsed:   11.3s\n",
      "[Parallel(n_jobs=-1)]: Done 192 tasks      | elapsed:   46.3s\n",
      "[Parallel(n_jobs=-1)]: Done 442 tasks      | elapsed:  1.7min\n",
      "[Parallel(n_jobs=-1)]: Done 600 out of 600 | elapsed:  2.3min finished\n"
     ]
    },
    {
     "data": {
      "text/plain": [
       "RandomizedSearchCV(cv=3, estimator=SVC(max_iter=300), n_iter=300, n_jobs=-1,\n",
       "                   param_distributions={'C': array([0.1, 1.1, 2.1, 3.1, 4.1, 5.1, 6.1, 7.1, 8.1, 9.1]),\n",
       "                                        'gamma': array([0.01, 1.01, 2.01, 3.01, 4.01, 5.01, 6.01, 7.01, 8.01, 9.01]),\n",
       "                                        'kernel': ['linear', 'rbf']},\n",
       "                   scoring='recall', verbose=1)"
      ]
     },
     "execution_count": 39,
     "metadata": {},
     "output_type": "execute_result"
    }
   ],
   "source": [
    "svm_sm_std = RandomizedSearchCV(estimator = svm, param_distributions = param_svm, cv = 3, n_jobs = -1 , n_iter=300, verbose = 1, scoring = 'recall')\n",
    "x_train_sm[columns_continuous] = std_scale.fit_transform(x_train_sm[columns_continuous])\n",
    "svm_sm_std.fit(x_train_sm, y_train_sm)"
   ]
  },
  {
   "cell_type": "code",
   "execution_count": 40,
   "metadata": {},
   "outputs": [
    {
     "data": {
      "text/plain": [
       "SVC(C=0.1, gamma=8.01, max_iter=300)"
      ]
     },
     "execution_count": 40,
     "metadata": {},
     "output_type": "execute_result"
    }
   ],
   "source": [
    "svm_sm_std_tuned = svm_sm_std.best_estimator_\n",
    "pred_train_sm_std = svm_sm_std_tuned.predict(x_train_sm)\n",
    "x_test[columns_continuous] = std_scale.fit_transform(x_test[columns_continuous])\n",
    "pred_test_sm_std = svm_sm_std_tuned.predict(x_test)\n",
    "svm_sm_std_tuned"
   ]
  },
  {
   "cell_type": "code",
   "execution_count": 41,
   "metadata": {},
   "outputs": [],
   "source": [
    "svm_acc_tuned_train_sm_std = accuracy_score(y_train_sm, pred_train_sm_std)\n",
    "svm_acc_tuned_test_sm_std = accuracy_score(y_test, pred_test_sm_std)\n",
    "svm_recall_tuned_train_sm_std = recall_score(y_train_sm, pred_train_sm_std)\n",
    "svm_recall_tuned_test_sm_std = recall_score(y_test, pred_test_sm_std)\n",
    "svm_prec_tuned_train_sm_std = precision_score(y_train_sm, pred_train_sm_std)\n",
    "svm_prec_tuned_test_sm_std = precision_score(y_test, pred_test_sm_std)\n",
    "svm_f1_tuned_train_sm_std = f1_score(y_train_sm, pred_train_sm_std)\n",
    "svm_f1_tuned_test_sm_std = f1_score(y_test, pred_test_sm_std)"
   ]
  },
  {
   "cell_type": "code",
   "execution_count": 42,
   "metadata": {},
   "outputs": [
    {
     "data": {
      "text/html": [
       "<div>\n",
       "<style scoped>\n",
       "    .dataframe tbody tr th:only-of-type {\n",
       "        vertical-align: middle;\n",
       "    }\n",
       "\n",
       "    .dataframe tbody tr th {\n",
       "        vertical-align: top;\n",
       "    }\n",
       "\n",
       "    .dataframe thead th {\n",
       "        text-align: right;\n",
       "    }\n",
       "</style>\n",
       "<table border=\"1\" class=\"dataframe\">\n",
       "  <thead>\n",
       "    <tr style=\"text-align: right;\">\n",
       "      <th></th>\n",
       "      <th>Pred 1</th>\n",
       "      <th>Pred 0</th>\n",
       "    </tr>\n",
       "  </thead>\n",
       "  <tbody>\n",
       "    <tr>\n",
       "      <th>Akt 1</th>\n",
       "      <td>242</td>\n",
       "      <td>18</td>\n",
       "    </tr>\n",
       "    <tr>\n",
       "      <th>Akt 0</th>\n",
       "      <td>658</td>\n",
       "      <td>891</td>\n",
       "    </tr>\n",
       "  </tbody>\n",
       "</table>\n",
       "</div>"
      ],
      "text/plain": [
       "       Pred 1  Pred 0\n",
       "Akt 1     242      18\n",
       "Akt 0     658     891"
      ]
     },
     "execution_count": 42,
     "metadata": {},
     "output_type": "execute_result"
    }
   ],
   "source": [
    "cm_svm_tuned_sm_std = confusion_matrix(y_test, pred_test_sm_std, labels=[1, 0])\n",
    "cm_svm_tuned_sm_std = pd.DataFrame(data=cm_svm_tuned_sm_std, index=['Akt 1', 'Akt 0'], columns=['Pred 1', 'Pred 0'])\n",
    "cm_svm_tuned_sm_std"
   ]
  },
  {
   "cell_type": "code",
   "execution_count": 43,
   "metadata": {},
   "outputs": [],
   "source": [
    "tp_svm_sm_std = cm_svm_tuned_sm_std['Pred 1'][0]\n",
    "tn_svm_sm_std = cm_svm_tuned_sm_std['Pred 0'][1]\n",
    "fp_svm_sm_std = cm_svm_tuned_sm_std['Pred 1'][1]\n",
    "fn_svm_sm_std = cm_svm_tuned_sm_std['Pred 0'][0]"
   ]
  },
  {
   "cell_type": "markdown",
   "metadata": {},
   "source": [
    "#### Smote with MinMax Scaler"
   ]
  },
  {
   "cell_type": "code",
   "execution_count": 44,
   "metadata": {},
   "outputs": [
    {
     "name": "stdout",
     "output_type": "stream",
     "text": [
      "Fitting 3 folds for each of 200 candidates, totalling 600 fits\n"
     ]
    },
    {
     "name": "stderr",
     "output_type": "stream",
     "text": [
      "[Parallel(n_jobs=-1)]: Using backend LokyBackend with 4 concurrent workers.\n",
      "[Parallel(n_jobs=-1)]: Done  42 tasks      | elapsed:   11.2s\n",
      "[Parallel(n_jobs=-1)]: Done 192 tasks      | elapsed:   46.6s\n",
      "[Parallel(n_jobs=-1)]: Done 442 tasks      | elapsed:  1.7min\n",
      "[Parallel(n_jobs=-1)]: Done 600 out of 600 | elapsed:  2.4min finished\n"
     ]
    },
    {
     "data": {
      "text/plain": [
       "RandomizedSearchCV(cv=3, estimator=SVC(max_iter=300), n_iter=300, n_jobs=-1,\n",
       "                   param_distributions={'C': array([0.1, 1.1, 2.1, 3.1, 4.1, 5.1, 6.1, 7.1, 8.1, 9.1]),\n",
       "                                        'gamma': array([0.01, 1.01, 2.01, 3.01, 4.01, 5.01, 6.01, 7.01, 8.01, 9.01]),\n",
       "                                        'kernel': ['linear', 'rbf']},\n",
       "                   scoring='recall', verbose=1)"
      ]
     },
     "execution_count": 44,
     "metadata": {},
     "output_type": "execute_result"
    }
   ],
   "source": [
    "svm_sm_mm = RandomizedSearchCV(estimator = svm, param_distributions = param_svm, cv = 3, n_jobs = -1 , n_iter=300, verbose = 1, scoring = 'recall')\n",
    "x_train_sm[columns_continuous] = mm_scale.fit_transform(x_train_sm[columns_continuous])\n",
    "svm_sm_mm.fit(x_train_sm, y_train_sm)"
   ]
  },
  {
   "cell_type": "code",
   "execution_count": 45,
   "metadata": {},
   "outputs": [
    {
     "data": {
      "text/plain": [
       "SVC(C=1.1, gamma=7.01, max_iter=300)"
      ]
     },
     "execution_count": 45,
     "metadata": {},
     "output_type": "execute_result"
    }
   ],
   "source": [
    "svm_sm_mm_tuned = svm_sm_mm.best_estimator_\n",
    "pred_train_sm_mm = svm_sm_mm_tuned.predict(x_train_sm)\n",
    "x_test[columns_continuous] = mm_scale.fit_transform(x_test[columns_continuous])\n",
    "pred_test_sm_mm = svm_sm_mm_tuned.predict(x_test)\n",
    "svm_sm_mm_tuned"
   ]
  },
  {
   "cell_type": "code",
   "execution_count": 46,
   "metadata": {},
   "outputs": [],
   "source": [
    "svm_acc_tuned_train_sm_mm = accuracy_score(y_train_sm, pred_train_sm_mm)\n",
    "svm_acc_tuned_test_sm_mm = accuracy_score(y_test, pred_test_sm_mm)\n",
    "svm_recall_tuned_train_sm_mm = recall_score(y_train_sm, pred_train_sm_mm)\n",
    "svm_recall_tuned_test_sm_mm = recall_score(y_test, pred_test_sm_mm)\n",
    "svm_prec_tuned_train_sm_mm = precision_score(y_train_sm, pred_train_sm_mm)\n",
    "svm_prec_tuned_test_sm_mm = precision_score(y_test, pred_test_sm_mm)\n",
    "svm_f1_tuned_train_sm_mm = f1_score(y_train_sm, pred_train_sm_mm)\n",
    "svm_f1_tuned_test_sm_mm = f1_score(y_test, pred_test_sm_mm)"
   ]
  },
  {
   "cell_type": "code",
   "execution_count": 47,
   "metadata": {},
   "outputs": [
    {
     "data": {
      "text/html": [
       "<div>\n",
       "<style scoped>\n",
       "    .dataframe tbody tr th:only-of-type {\n",
       "        vertical-align: middle;\n",
       "    }\n",
       "\n",
       "    .dataframe tbody tr th {\n",
       "        vertical-align: top;\n",
       "    }\n",
       "\n",
       "    .dataframe thead th {\n",
       "        text-align: right;\n",
       "    }\n",
       "</style>\n",
       "<table border=\"1\" class=\"dataframe\">\n",
       "  <thead>\n",
       "    <tr style=\"text-align: right;\">\n",
       "      <th></th>\n",
       "      <th>Pred 1</th>\n",
       "      <th>Pred 0</th>\n",
       "    </tr>\n",
       "  </thead>\n",
       "  <tbody>\n",
       "    <tr>\n",
       "      <th>Akt 1</th>\n",
       "      <td>258</td>\n",
       "      <td>2</td>\n",
       "    </tr>\n",
       "    <tr>\n",
       "      <th>Akt 0</th>\n",
       "      <td>1544</td>\n",
       "      <td>5</td>\n",
       "    </tr>\n",
       "  </tbody>\n",
       "</table>\n",
       "</div>"
      ],
      "text/plain": [
       "       Pred 1  Pred 0\n",
       "Akt 1     258       2\n",
       "Akt 0    1544       5"
      ]
     },
     "execution_count": 47,
     "metadata": {},
     "output_type": "execute_result"
    }
   ],
   "source": [
    "cm_svm_tuned_sm_mm = confusion_matrix(y_test, pred_test_sm_mm, labels=[1, 0])\n",
    "cm_svm_tuned_sm_mm = pd.DataFrame(data=cm_svm_tuned_sm_mm, index=['Akt 1', 'Akt 0'], columns=['Pred 1', 'Pred 0'])\n",
    "cm_svm_tuned_sm_mm"
   ]
  },
  {
   "cell_type": "code",
   "execution_count": 48,
   "metadata": {},
   "outputs": [],
   "source": [
    "tp_svm_sm_mm = cm_svm_tuned_sm_mm['Pred 1'][0]\n",
    "tn_svm_sm_mm = cm_svm_tuned_sm_mm['Pred 0'][1]\n",
    "fp_svm_sm_mm = cm_svm_tuned_sm_mm['Pred 1'][1]\n",
    "fn_svm_sm_mm = cm_svm_tuned_sm_mm['Pred 0'][0]"
   ]
  },
  {
   "cell_type": "markdown",
   "metadata": {},
   "source": [
    "#### Smote with Robust Scaler"
   ]
  },
  {
   "cell_type": "code",
   "execution_count": 49,
   "metadata": {},
   "outputs": [
    {
     "name": "stdout",
     "output_type": "stream",
     "text": [
      "Fitting 3 folds for each of 200 candidates, totalling 600 fits\n"
     ]
    },
    {
     "name": "stderr",
     "output_type": "stream",
     "text": [
      "[Parallel(n_jobs=-1)]: Using backend LokyBackend with 4 concurrent workers.\n",
      "[Parallel(n_jobs=-1)]: Done  42 tasks      | elapsed:   12.1s\n",
      "[Parallel(n_jobs=-1)]: Done 192 tasks      | elapsed:   46.6s\n",
      "[Parallel(n_jobs=-1)]: Done 442 tasks      | elapsed:  1.7min\n",
      "[Parallel(n_jobs=-1)]: Done 600 out of 600 | elapsed:  2.3min finished\n"
     ]
    },
    {
     "data": {
      "text/plain": [
       "RandomizedSearchCV(cv=3, estimator=SVC(max_iter=300), n_iter=300, n_jobs=-1,\n",
       "                   param_distributions={'C': array([0.1, 1.1, 2.1, 3.1, 4.1, 5.1, 6.1, 7.1, 8.1, 9.1]),\n",
       "                                        'gamma': array([0.01, 1.01, 2.01, 3.01, 4.01, 5.01, 6.01, 7.01, 8.01, 9.01]),\n",
       "                                        'kernel': ['linear', 'rbf']},\n",
       "                   scoring='recall', verbose=1)"
      ]
     },
     "execution_count": 49,
     "metadata": {},
     "output_type": "execute_result"
    }
   ],
   "source": [
    "svm_sm_rb = RandomizedSearchCV(estimator = svm, param_distributions = param_svm, cv = 3, n_jobs = -1 , n_iter=300, verbose = 1, scoring = 'recall')\n",
    "x_train_sm[columns_continuous] = rb_scale.fit_transform(x_train_sm[columns_continuous])\n",
    "svm_sm_rb.fit(x_train_sm, y_train_sm)"
   ]
  },
  {
   "cell_type": "code",
   "execution_count": 50,
   "metadata": {},
   "outputs": [
    {
     "data": {
      "text/plain": [
       "SVC(C=1.1, gamma=1.01, max_iter=300)"
      ]
     },
     "execution_count": 50,
     "metadata": {},
     "output_type": "execute_result"
    }
   ],
   "source": [
    "svm_sm_rb_tuned = svm_sm_rb.best_estimator_\n",
    "pred_train_sm_rb = svm_sm_rb_tuned.predict(x_train_sm)\n",
    "x_test[columns_continuous] = rb_scale.fit_transform(x_test[columns_continuous])\n",
    "pred_test_sm_rb = svm_sm_rb_tuned.predict(x_test)\n",
    "svm_sm_rb_tuned"
   ]
  },
  {
   "cell_type": "code",
   "execution_count": 51,
   "metadata": {},
   "outputs": [],
   "source": [
    "svm_acc_tuned_train_sm_rb = accuracy_score(y_train_sm, pred_train_sm_rb)\n",
    "svm_acc_tuned_test_sm_rb = accuracy_score(y_test, pred_test_sm_rb)\n",
    "svm_recall_tuned_train_sm_rb = recall_score(y_train_sm, pred_train_sm_rb)\n",
    "svm_recall_tuned_test_sm_rb = recall_score(y_test, pred_test_sm_rb)\n",
    "svm_prec_tuned_train_sm_rb = precision_score(y_train_sm, pred_train_sm_rb)\n",
    "svm_prec_tuned_test_sm_rb = precision_score(y_test, pred_test_sm_rb)\n",
    "svm_f1_tuned_train_sm_rb = f1_score(y_train_sm, pred_train_sm_rb)\n",
    "svm_f1_tuned_test_sm_rb = f1_score(y_test, pred_test_sm_rb)"
   ]
  },
  {
   "cell_type": "code",
   "execution_count": 52,
   "metadata": {},
   "outputs": [
    {
     "data": {
      "text/html": [
       "<div>\n",
       "<style scoped>\n",
       "    .dataframe tbody tr th:only-of-type {\n",
       "        vertical-align: middle;\n",
       "    }\n",
       "\n",
       "    .dataframe tbody tr th {\n",
       "        vertical-align: top;\n",
       "    }\n",
       "\n",
       "    .dataframe thead th {\n",
       "        text-align: right;\n",
       "    }\n",
       "</style>\n",
       "<table border=\"1\" class=\"dataframe\">\n",
       "  <thead>\n",
       "    <tr style=\"text-align: right;\">\n",
       "      <th></th>\n",
       "      <th>Pred 1</th>\n",
       "      <th>Pred 0</th>\n",
       "    </tr>\n",
       "  </thead>\n",
       "  <tbody>\n",
       "    <tr>\n",
       "      <th>Akt 1</th>\n",
       "      <td>249</td>\n",
       "      <td>11</td>\n",
       "    </tr>\n",
       "    <tr>\n",
       "      <th>Akt 0</th>\n",
       "      <td>959</td>\n",
       "      <td>590</td>\n",
       "    </tr>\n",
       "  </tbody>\n",
       "</table>\n",
       "</div>"
      ],
      "text/plain": [
       "       Pred 1  Pred 0\n",
       "Akt 1     249      11\n",
       "Akt 0     959     590"
      ]
     },
     "execution_count": 52,
     "metadata": {},
     "output_type": "execute_result"
    }
   ],
   "source": [
    "cm_svm_tuned_sm_rb = confusion_matrix(y_test, pred_test_sm_rb, labels=[1, 0])\n",
    "cm_svm_tuned_sm_rb = pd.DataFrame(data=cm_svm_tuned_sm_rb, index=['Akt 1', 'Akt 0'], columns=['Pred 1', 'Pred 0'])\n",
    "cm_svm_tuned_sm_rb"
   ]
  },
  {
   "cell_type": "code",
   "execution_count": 53,
   "metadata": {},
   "outputs": [],
   "source": [
    "tp_svm_sm_rb = cm_svm_tuned_sm_rb['Pred 1'][0]\n",
    "tn_svm_sm_rb = cm_svm_tuned_sm_rb['Pred 0'][1]\n",
    "fp_svm_sm_rb = cm_svm_tuned_sm_rb['Pred 1'][1]\n",
    "fn_svm_sm_rb = cm_svm_tuned_sm_rb['Pred 0'][0]"
   ]
  },
  {
   "cell_type": "markdown",
   "metadata": {
    "id": "XfRTwLbGP872"
   },
   "source": [
    "## Logistic Regression"
   ]
  },
  {
   "cell_type": "code",
   "execution_count": 54,
   "metadata": {},
   "outputs": [],
   "source": [
    "logreg = LogisticRegression()"
   ]
  },
  {
   "cell_type": "code",
   "execution_count": 55,
   "metadata": {},
   "outputs": [],
   "source": [
    "param_logreg = {'C' : np.arange(0.0001, 100),\n",
    "                'penalty' : ['l1', 'l2', 'elasticnet', None],\n",
    "                'class_weight': [None, 'weight'],\n",
    "                'fit_intercept' : [True, False]}"
   ]
  },
  {
   "cell_type": "markdown",
   "metadata": {
    "id": "kcTtXGLPyYZ3"
   },
   "source": [
    "#### Random Over Sampling without Scaling"
   ]
  },
  {
   "cell_type": "code",
   "execution_count": 56,
   "metadata": {
    "id": "MhVgT38_eXkD"
   },
   "outputs": [
    {
     "name": "stdout",
     "output_type": "stream",
     "text": [
      "Fitting 3 folds for each of 300 candidates, totalling 900 fits\n"
     ]
    },
    {
     "name": "stderr",
     "output_type": "stream",
     "text": [
      "[Parallel(n_jobs=-1)]: Using backend LokyBackend with 4 concurrent workers.\n",
      "[Parallel(n_jobs=-1)]: Done  76 tasks      | elapsed:    3.2s\n",
      "[Parallel(n_jobs=-1)]: Done 484 tasks      | elapsed:   17.5s\n",
      "[Parallel(n_jobs=-1)]: Done 900 out of 900 | elapsed:   30.7s finished\n"
     ]
    },
    {
     "data": {
      "text/plain": [
       "RandomizedSearchCV(cv=3, estimator=LogisticRegression(), n_iter=300, n_jobs=-1,\n",
       "                   param_distributions={'C': array([1.00000e-04, 1.00010e+00, 2.00010e+00, 3.00010e+00, 4.00010e+00,\n",
       "       5.00010e+00, 6.00010e+00, 7.00010e+00, 8.00010e+00, 9.00010e+00,\n",
       "       1.00001e+01, 1.10001e+01, 1.20001e+01, 1.30001e+01, 1.40001e+01,\n",
       "       1.50001e+01, 1.60001e+01, 1.70001e+01, 1.80001e+01, 1.90001e+01,\n",
       "       2....\n",
       "       8.00001e+01, 8.10001e+01, 8.20001e+01, 8.30001e+01, 8.40001e+01,\n",
       "       8.50001e+01, 8.60001e+01, 8.70001e+01, 8.80001e+01, 8.90001e+01,\n",
       "       9.00001e+01, 9.10001e+01, 9.20001e+01, 9.30001e+01, 9.40001e+01,\n",
       "       9.50001e+01, 9.60001e+01, 9.70001e+01, 9.80001e+01, 9.90001e+01]),\n",
       "                                        'class_weight': [None, 'weight'],\n",
       "                                        'fit_intercept': [True, False],\n",
       "                                        'penalty': ['l1', 'l2', 'elasticnet',\n",
       "                                                    None]},\n",
       "                   scoring='recall', verbose=1)"
      ]
     },
     "execution_count": 56,
     "metadata": {},
     "output_type": "execute_result"
    }
   ],
   "source": [
    "logreg_os = RandomizedSearchCV(estimator = logreg, param_distributions = param_logreg, cv = 3, n_jobs = -1 , n_iter=300, verbose = 1, scoring = 'recall')\n",
    "logreg_os.fit(x_train_os, y_train_os)"
   ]
  },
  {
   "cell_type": "code",
   "execution_count": 57,
   "metadata": {},
   "outputs": [
    {
     "data": {
      "text/plain": [
       "LogisticRegression(C=9.0001, class_weight='weight')"
      ]
     },
     "execution_count": 57,
     "metadata": {},
     "output_type": "execute_result"
    }
   ],
   "source": [
    "logreg_os_tuned = logreg_os.best_estimator_\n",
    "pred_train_os = logreg_os_tuned.predict(x_train_os)\n",
    "pred_test_os = logreg_os_tuned.predict(x_test)\n",
    "logreg_os_tuned"
   ]
  },
  {
   "cell_type": "code",
   "execution_count": 58,
   "metadata": {
    "id": "2rufw1COyEB2"
   },
   "outputs": [],
   "source": [
    "logreg_acc_tuned_train_os = accuracy_score(y_train_os, pred_train_os)\n",
    "logreg_acc_tuned_test_os = accuracy_score(y_test, pred_test_os)\n",
    "logreg_recall_tuned_train_os = recall_score(y_train_os, pred_train_os)\n",
    "logreg_recall_tuned_test_os = recall_score(y_test, pred_test_os)\n",
    "logreg_prec_tuned_train_os = precision_score(y_train_os, pred_train_os)\n",
    "logreg_prec_tuned_test_os = precision_score(y_test, pred_test_os)\n",
    "logreg_f1_tuned_train_os = f1_score(y_train_os, pred_train_os)\n",
    "logreg_f1_tuned_test_os = f1_score(y_test, pred_test_os)"
   ]
  },
  {
   "cell_type": "code",
   "execution_count": 59,
   "metadata": {
    "colab": {
     "base_uri": "https://localhost:8080/",
     "height": 110
    },
    "id": "kbqgXsbze4Ge",
    "outputId": "ff647596-2097-409c-af88-a6936296d32c"
   },
   "outputs": [
    {
     "data": {
      "text/html": [
       "<div>\n",
       "<style scoped>\n",
       "    .dataframe tbody tr th:only-of-type {\n",
       "        vertical-align: middle;\n",
       "    }\n",
       "\n",
       "    .dataframe tbody tr th {\n",
       "        vertical-align: top;\n",
       "    }\n",
       "\n",
       "    .dataframe thead th {\n",
       "        text-align: right;\n",
       "    }\n",
       "</style>\n",
       "<table border=\"1\" class=\"dataframe\">\n",
       "  <thead>\n",
       "    <tr style=\"text-align: right;\">\n",
       "      <th></th>\n",
       "      <th>Pred 1</th>\n",
       "      <th>Pred 0</th>\n",
       "    </tr>\n",
       "  </thead>\n",
       "  <tbody>\n",
       "    <tr>\n",
       "      <th>Akt 1</th>\n",
       "      <td>190</td>\n",
       "      <td>70</td>\n",
       "    </tr>\n",
       "    <tr>\n",
       "      <th>Akt 0</th>\n",
       "      <td>452</td>\n",
       "      <td>1097</td>\n",
       "    </tr>\n",
       "  </tbody>\n",
       "</table>\n",
       "</div>"
      ],
      "text/plain": [
       "       Pred 1  Pred 0\n",
       "Akt 1     190      70\n",
       "Akt 0     452    1097"
      ]
     },
     "execution_count": 59,
     "metadata": {},
     "output_type": "execute_result"
    }
   ],
   "source": [
    "cm_logreg_tuned_os = confusion_matrix(y_test, pred_test_os, labels=[1, 0])\n",
    "cm_logreg_tuned_os = pd.DataFrame(data=cm_logreg_tuned_os, index=['Akt 1', 'Akt 0'], columns=['Pred 1', 'Pred 0'])\n",
    "cm_logreg_tuned_os"
   ]
  },
  {
   "cell_type": "code",
   "execution_count": 60,
   "metadata": {},
   "outputs": [],
   "source": [
    "tp_logreg_os = cm_logreg_tuned_os['Pred 1'][0]\n",
    "tn_logreg_os = cm_logreg_tuned_os['Pred 0'][1]\n",
    "fp_logreg_os = cm_logreg_tuned_os['Pred 1'][1]\n",
    "fn_logreg_os = cm_logreg_tuned_os['Pred 0'][0]"
   ]
  },
  {
   "cell_type": "markdown",
   "metadata": {
    "id": "WNYSXEepyvNr"
   },
   "source": [
    "#### Smote Sampling without Scaling"
   ]
  },
  {
   "cell_type": "code",
   "execution_count": 61,
   "metadata": {},
   "outputs": [
    {
     "name": "stdout",
     "output_type": "stream",
     "text": [
      "Fitting 3 folds for each of 300 candidates, totalling 900 fits\n"
     ]
    },
    {
     "name": "stderr",
     "output_type": "stream",
     "text": [
      "[Parallel(n_jobs=-1)]: Using backend LokyBackend with 4 concurrent workers.\n",
      "[Parallel(n_jobs=-1)]: Done 128 tasks      | elapsed:    3.9s\n",
      "[Parallel(n_jobs=-1)]: Done 632 tasks      | elapsed:   21.4s\n",
      "[Parallel(n_jobs=-1)]: Done 893 out of 900 | elapsed:   28.9s remaining:    0.1s\n",
      "[Parallel(n_jobs=-1)]: Done 900 out of 900 | elapsed:   29.7s finished\n"
     ]
    },
    {
     "data": {
      "text/plain": [
       "RandomizedSearchCV(cv=3, estimator=LogisticRegression(), n_iter=300, n_jobs=-1,\n",
       "                   param_distributions={'C': array([1.00000e-04, 1.00010e+00, 2.00010e+00, 3.00010e+00, 4.00010e+00,\n",
       "       5.00010e+00, 6.00010e+00, 7.00010e+00, 8.00010e+00, 9.00010e+00,\n",
       "       1.00001e+01, 1.10001e+01, 1.20001e+01, 1.30001e+01, 1.40001e+01,\n",
       "       1.50001e+01, 1.60001e+01, 1.70001e+01, 1.80001e+01, 1.90001e+01,\n",
       "       2....\n",
       "       8.00001e+01, 8.10001e+01, 8.20001e+01, 8.30001e+01, 8.40001e+01,\n",
       "       8.50001e+01, 8.60001e+01, 8.70001e+01, 8.80001e+01, 8.90001e+01,\n",
       "       9.00001e+01, 9.10001e+01, 9.20001e+01, 9.30001e+01, 9.40001e+01,\n",
       "       9.50001e+01, 9.60001e+01, 9.70001e+01, 9.80001e+01, 9.90001e+01]),\n",
       "                                        'class_weight': [None, 'weight'],\n",
       "                                        'fit_intercept': [True, False],\n",
       "                                        'penalty': ['l1', 'l2', 'elasticnet',\n",
       "                                                    None]},\n",
       "                   scoring='recall', verbose=1)"
      ]
     },
     "execution_count": 61,
     "metadata": {},
     "output_type": "execute_result"
    }
   ],
   "source": [
    "logreg_sm = RandomizedSearchCV(estimator = logreg, param_distributions = param_logreg, cv = 3, n_jobs = -1 , n_iter=300, verbose = 1, scoring = 'recall')\n",
    "logreg_sm.fit(x_train_sm, y_train_sm)"
   ]
  },
  {
   "cell_type": "code",
   "execution_count": 62,
   "metadata": {
    "id": "6-xViluxy2S6"
   },
   "outputs": [
    {
     "data": {
      "text/plain": [
       "LogisticRegression(C=34.0001)"
      ]
     },
     "execution_count": 62,
     "metadata": {},
     "output_type": "execute_result"
    }
   ],
   "source": [
    "logreg_sm_tuned = logreg_sm.best_estimator_\n",
    "pred_train_sm = logreg_sm_tuned.predict(x_train_sm)\n",
    "pred_test_sm = logreg_sm_tuned.predict(x_test)\n",
    "logreg_sm_tuned"
   ]
  },
  {
   "cell_type": "code",
   "execution_count": 63,
   "metadata": {
    "id": "s388Zy4azKFy"
   },
   "outputs": [],
   "source": [
    "logreg_acc_tuned_train_sm = accuracy_score(y_train_sm, pred_train_sm)\n",
    "logreg_acc_tuned_test_sm = accuracy_score(y_test, pred_test_sm)\n",
    "logreg_recall_tuned_train_sm = recall_score(y_train_sm, pred_train_sm)\n",
    "logreg_recall_tuned_test_sm = recall_score(y_test, pred_test_sm)\n",
    "logreg_prec_tuned_train_sm = precision_score(y_train_sm, pred_train_sm)\n",
    "logreg_prec_tuned_test_sm = precision_score(y_test, pred_test_sm)\n",
    "logreg_f1_tuned_train_sm = f1_score(y_train_sm, pred_train_sm)\n",
    "logreg_f1_tuned_test_sm = f1_score(y_test, pred_test_sm)"
   ]
  },
  {
   "cell_type": "code",
   "execution_count": 64,
   "metadata": {
    "colab": {
     "base_uri": "https://localhost:8080/",
     "height": 110
    },
    "id": "xOSZ3pqQzVtU",
    "outputId": "bce6b216-511b-4ea3-8d34-7be6a872b649"
   },
   "outputs": [
    {
     "data": {
      "text/html": [
       "<div>\n",
       "<style scoped>\n",
       "    .dataframe tbody tr th:only-of-type {\n",
       "        vertical-align: middle;\n",
       "    }\n",
       "\n",
       "    .dataframe tbody tr th {\n",
       "        vertical-align: top;\n",
       "    }\n",
       "\n",
       "    .dataframe thead th {\n",
       "        text-align: right;\n",
       "    }\n",
       "</style>\n",
       "<table border=\"1\" class=\"dataframe\">\n",
       "  <thead>\n",
       "    <tr style=\"text-align: right;\">\n",
       "      <th></th>\n",
       "      <th>Pred 1</th>\n",
       "      <th>Pred 0</th>\n",
       "    </tr>\n",
       "  </thead>\n",
       "  <tbody>\n",
       "    <tr>\n",
       "      <th>Akt 1</th>\n",
       "      <td>48</td>\n",
       "      <td>212</td>\n",
       "    </tr>\n",
       "    <tr>\n",
       "      <th>Akt 0</th>\n",
       "      <td>29</td>\n",
       "      <td>1520</td>\n",
       "    </tr>\n",
       "  </tbody>\n",
       "</table>\n",
       "</div>"
      ],
      "text/plain": [
       "       Pred 1  Pred 0\n",
       "Akt 1      48     212\n",
       "Akt 0      29    1520"
      ]
     },
     "execution_count": 64,
     "metadata": {},
     "output_type": "execute_result"
    }
   ],
   "source": [
    "cm_logreg_tuned_sm = confusion_matrix(y_test, pred_test_sm, labels=[1, 0])\n",
    "cm_logreg_tuned_sm = pd.DataFrame(data=cm_logreg_tuned_sm, index=['Akt 1', 'Akt 0'], columns=['Pred 1', 'Pred 0'])\n",
    "cm_logreg_tuned_sm"
   ]
  },
  {
   "cell_type": "code",
   "execution_count": 65,
   "metadata": {},
   "outputs": [],
   "source": [
    "tp_logreg_sm = cm_logreg_tuned_sm['Pred 1'][0]\n",
    "tn_logreg_sm = cm_logreg_tuned_sm['Pred 0'][1]\n",
    "fp_logreg_sm = cm_logreg_tuned_sm['Pred 1'][1]\n",
    "fn_logreg_sm = cm_logreg_tuned_sm['Pred 0'][0]"
   ]
  },
  {
   "cell_type": "markdown",
   "metadata": {
    "id": "7vKA3SRyIGZG"
   },
   "source": [
    "#### Standard Scaling with Random Over Sampling"
   ]
  },
  {
   "cell_type": "code",
   "execution_count": 66,
   "metadata": {
    "id": "MI5S9M17GiZL"
   },
   "outputs": [
    {
     "name": "stdout",
     "output_type": "stream",
     "text": [
      "Fitting 3 folds for each of 300 candidates, totalling 900 fits\n"
     ]
    },
    {
     "name": "stderr",
     "output_type": "stream",
     "text": [
      "[Parallel(n_jobs=-1)]: Using backend LokyBackend with 4 concurrent workers.\n",
      "[Parallel(n_jobs=-1)]: Done 193 tasks      | elapsed:    5.5s\n",
      "[Parallel(n_jobs=-1)]: Done 648 tasks      | elapsed:   20.8s\n",
      "[Parallel(n_jobs=-1)]: Done 893 out of 900 | elapsed:   27.4s remaining:    0.1s\n",
      "[Parallel(n_jobs=-1)]: Done 900 out of 900 | elapsed:   27.9s finished\n"
     ]
    },
    {
     "data": {
      "text/plain": [
       "RandomizedSearchCV(cv=3, estimator=LogisticRegression(), n_iter=300, n_jobs=-1,\n",
       "                   param_distributions={'C': array([1.00000e-04, 1.00010e+00, 2.00010e+00, 3.00010e+00, 4.00010e+00,\n",
       "       5.00010e+00, 6.00010e+00, 7.00010e+00, 8.00010e+00, 9.00010e+00,\n",
       "       1.00001e+01, 1.10001e+01, 1.20001e+01, 1.30001e+01, 1.40001e+01,\n",
       "       1.50001e+01, 1.60001e+01, 1.70001e+01, 1.80001e+01, 1.90001e+01,\n",
       "       2....\n",
       "       8.00001e+01, 8.10001e+01, 8.20001e+01, 8.30001e+01, 8.40001e+01,\n",
       "       8.50001e+01, 8.60001e+01, 8.70001e+01, 8.80001e+01, 8.90001e+01,\n",
       "       9.00001e+01, 9.10001e+01, 9.20001e+01, 9.30001e+01, 9.40001e+01,\n",
       "       9.50001e+01, 9.60001e+01, 9.70001e+01, 9.80001e+01, 9.90001e+01]),\n",
       "                                        'class_weight': [None, 'weight'],\n",
       "                                        'fit_intercept': [True, False],\n",
       "                                        'penalty': ['l1', 'l2', 'elasticnet',\n",
       "                                                    None]},\n",
       "                   scoring='recall', verbose=1)"
      ]
     },
     "execution_count": 66,
     "metadata": {},
     "output_type": "execute_result"
    }
   ],
   "source": [
    "logreg_os_std = RandomizedSearchCV(estimator = logreg, param_distributions = param_logreg, cv = 3, n_jobs = -1 , n_iter=300, verbose = 1, scoring = 'recall')\n",
    "x_train_os[columns_continuous] = std_scale.fit_transform(x_train_os[columns_continuous])\n",
    "logreg_os_std.fit(x_train_os, y_train_os)"
   ]
  },
  {
   "cell_type": "code",
   "execution_count": 67,
   "metadata": {},
   "outputs": [
    {
     "data": {
      "text/plain": [
       "LogisticRegression(C=1.0001)"
      ]
     },
     "execution_count": 67,
     "metadata": {},
     "output_type": "execute_result"
    }
   ],
   "source": [
    "logreg_os_std_tuned = logreg_os_std.best_estimator_\n",
    "pred_train_os_std = logreg_os_std_tuned.predict(x_train_os)\n",
    "x_test[columns_continuous] = std_scale.fit_transform(x_test[columns_continuous])\n",
    "pred_test_os_std = logreg_os_std_tuned.predict(x_test)\n",
    "logreg_os_std_tuned"
   ]
  },
  {
   "cell_type": "code",
   "execution_count": 68,
   "metadata": {
    "id": "e0IlJnw8Yp6f"
   },
   "outputs": [],
   "source": [
    "logreg_acc_tuned_train_os_std = accuracy_score(y_train_os, pred_train_os_std)\n",
    "logreg_acc_tuned_test_os_std = accuracy_score(y_test, pred_test_os_std)\n",
    "logreg_recall_tuned_train_os_std = recall_score(y_train_os, pred_train_os_std)\n",
    "logreg_recall_tuned_test_os_std = recall_score(y_test, pred_test_os_std)\n",
    "logreg_prec_tuned_train_os_std = precision_score(y_train_os, pred_train_os_std)\n",
    "logreg_prec_tuned_test_os_std = precision_score(y_test, pred_test_os_std)\n",
    "logreg_f1_tuned_train_os_std = f1_score(y_train_os, pred_train_os_std)\n",
    "logreg_f1_tuned_test_os_std = f1_score(y_test, pred_test_os_std)"
   ]
  },
  {
   "cell_type": "code",
   "execution_count": 69,
   "metadata": {
    "colab": {
     "base_uri": "https://localhost:8080/",
     "height": 110
    },
    "id": "QzD8vKCwamHC",
    "outputId": "9cffc245-cc4c-4c58-de7e-622b665c5d58"
   },
   "outputs": [
    {
     "data": {
      "text/html": [
       "<div>\n",
       "<style scoped>\n",
       "    .dataframe tbody tr th:only-of-type {\n",
       "        vertical-align: middle;\n",
       "    }\n",
       "\n",
       "    .dataframe tbody tr th {\n",
       "        vertical-align: top;\n",
       "    }\n",
       "\n",
       "    .dataframe thead th {\n",
       "        text-align: right;\n",
       "    }\n",
       "</style>\n",
       "<table border=\"1\" class=\"dataframe\">\n",
       "  <thead>\n",
       "    <tr style=\"text-align: right;\">\n",
       "      <th></th>\n",
       "      <th>Pred 1</th>\n",
       "      <th>Pred 0</th>\n",
       "    </tr>\n",
       "  </thead>\n",
       "  <tbody>\n",
       "    <tr>\n",
       "      <th>Akt 1</th>\n",
       "      <td>194</td>\n",
       "      <td>66</td>\n",
       "    </tr>\n",
       "    <tr>\n",
       "      <th>Akt 0</th>\n",
       "      <td>457</td>\n",
       "      <td>1092</td>\n",
       "    </tr>\n",
       "  </tbody>\n",
       "</table>\n",
       "</div>"
      ],
      "text/plain": [
       "       Pred 1  Pred 0\n",
       "Akt 1     194      66\n",
       "Akt 0     457    1092"
      ]
     },
     "execution_count": 69,
     "metadata": {},
     "output_type": "execute_result"
    }
   ],
   "source": [
    "cm_logreg_tuned_os_std = confusion_matrix(y_test, pred_test_os_std, labels=[1, 0])\n",
    "cm_logreg_tuned_os_std = pd.DataFrame(data=cm_logreg_tuned_os_std, index=['Akt 1', 'Akt 0'], columns=['Pred 1', 'Pred 0'])\n",
    "cm_logreg_tuned_os_std"
   ]
  },
  {
   "cell_type": "code",
   "execution_count": 70,
   "metadata": {},
   "outputs": [],
   "source": [
    "tp_logreg_os_std = cm_logreg_tuned_os_std['Pred 1'][0]\n",
    "tn_logreg_os_std = cm_logreg_tuned_os_std['Pred 0'][1]\n",
    "fp_logreg_os_std = cm_logreg_tuned_os_std['Pred 1'][1]\n",
    "fn_logreg_os_std = cm_logreg_tuned_os_std['Pred 0'][0]"
   ]
  },
  {
   "cell_type": "markdown",
   "metadata": {
    "id": "Ypip9bAwnOyx"
   },
   "source": [
    "#### MinMax Scaling with Random Over Sampling"
   ]
  },
  {
   "cell_type": "code",
   "execution_count": 71,
   "metadata": {
    "id": "5leyNV5Tldxq"
   },
   "outputs": [
    {
     "name": "stdout",
     "output_type": "stream",
     "text": [
      "Fitting 3 folds for each of 300 candidates, totalling 900 fits\n"
     ]
    },
    {
     "name": "stderr",
     "output_type": "stream",
     "text": [
      "[Parallel(n_jobs=-1)]: Using backend LokyBackend with 4 concurrent workers.\n",
      "[Parallel(n_jobs=-1)]: Done  76 tasks      | elapsed:    2.4s\n",
      "[Parallel(n_jobs=-1)]: Done 376 tasks      | elapsed:   13.3s\n",
      "[Parallel(n_jobs=-1)]: Done 900 out of 900 | elapsed:   31.2s finished\n"
     ]
    },
    {
     "data": {
      "text/plain": [
       "RandomizedSearchCV(cv=3, estimator=LogisticRegression(), n_iter=300, n_jobs=-1,\n",
       "                   param_distributions={'C': array([1.00000e-04, 1.00010e+00, 2.00010e+00, 3.00010e+00, 4.00010e+00,\n",
       "       5.00010e+00, 6.00010e+00, 7.00010e+00, 8.00010e+00, 9.00010e+00,\n",
       "       1.00001e+01, 1.10001e+01, 1.20001e+01, 1.30001e+01, 1.40001e+01,\n",
       "       1.50001e+01, 1.60001e+01, 1.70001e+01, 1.80001e+01, 1.90001e+01,\n",
       "       2....\n",
       "       8.00001e+01, 8.10001e+01, 8.20001e+01, 8.30001e+01, 8.40001e+01,\n",
       "       8.50001e+01, 8.60001e+01, 8.70001e+01, 8.80001e+01, 8.90001e+01,\n",
       "       9.00001e+01, 9.10001e+01, 9.20001e+01, 9.30001e+01, 9.40001e+01,\n",
       "       9.50001e+01, 9.60001e+01, 9.70001e+01, 9.80001e+01, 9.90001e+01]),\n",
       "                                        'class_weight': [None, 'weight'],\n",
       "                                        'fit_intercept': [True, False],\n",
       "                                        'penalty': ['l1', 'l2', 'elasticnet',\n",
       "                                                    None]},\n",
       "                   scoring='recall', verbose=1)"
      ]
     },
     "execution_count": 71,
     "metadata": {},
     "output_type": "execute_result"
    }
   ],
   "source": [
    "logreg_os_mm = RandomizedSearchCV(estimator = logreg, param_distributions = param_logreg, cv = 3, n_jobs = -1 , n_iter=300, verbose = 1, scoring = 'recall')\n",
    "x_train_os[columns_continuous] = mm_scale.fit_transform(x_train_os[columns_continuous])\n",
    "logreg_os_mm.fit(x_train_os, y_train_os)"
   ]
  },
  {
   "cell_type": "code",
   "execution_count": 72,
   "metadata": {},
   "outputs": [
    {
     "data": {
      "text/plain": [
       "LogisticRegression(C=6.0001)"
      ]
     },
     "execution_count": 72,
     "metadata": {},
     "output_type": "execute_result"
    }
   ],
   "source": [
    "logreg_os_mm_tuned = logreg_os_mm.best_estimator_\n",
    "pred_train_os_mm = logreg_os_mm_tuned.predict(x_train_os)\n",
    "x_test[columns_continuous] = mm_scale.fit_transform(x_test[columns_continuous])\n",
    "pred_test_os_mm = logreg_os_mm_tuned.predict(x_test)\n",
    "logreg_os_mm_tuned"
   ]
  },
  {
   "cell_type": "code",
   "execution_count": 73,
   "metadata": {
    "id": "M_TThASbnqBI"
   },
   "outputs": [],
   "source": [
    "logreg_acc_tuned_train_os_mm = accuracy_score(y_train_os, pred_train_os_mm)\n",
    "logreg_acc_tuned_test_os_mm = accuracy_score(y_test, pred_test_os_mm)\n",
    "logreg_recall_tuned_train_os_mm = recall_score(y_train_os, pred_train_os_mm)\n",
    "logreg_recall_tuned_test_os_mm = recall_score(y_test, pred_test_os_mm)\n",
    "logreg_prec_tuned_train_os_mm = precision_score(y_train_os, pred_train_os_mm)\n",
    "logreg_prec_tuned_test_os_mm = precision_score(y_test, pred_test_os_mm)\n",
    "logreg_f1_tuned_train_os_mm = f1_score(y_train_os, pred_train_os_mm)\n",
    "logreg_f1_tuned_test_os_mm = f1_score(y_test, pred_test_os_mm)"
   ]
  },
  {
   "cell_type": "code",
   "execution_count": 74,
   "metadata": {
    "colab": {
     "base_uri": "https://localhost:8080/",
     "height": 110
    },
    "id": "FDXaeQzVoH_Q",
    "outputId": "6ea2361c-3f0a-4cb6-dafc-fd27ebdcd0c4"
   },
   "outputs": [
    {
     "data": {
      "text/html": [
       "<div>\n",
       "<style scoped>\n",
       "    .dataframe tbody tr th:only-of-type {\n",
       "        vertical-align: middle;\n",
       "    }\n",
       "\n",
       "    .dataframe tbody tr th {\n",
       "        vertical-align: top;\n",
       "    }\n",
       "\n",
       "    .dataframe thead th {\n",
       "        text-align: right;\n",
       "    }\n",
       "</style>\n",
       "<table border=\"1\" class=\"dataframe\">\n",
       "  <thead>\n",
       "    <tr style=\"text-align: right;\">\n",
       "      <th></th>\n",
       "      <th>Pred 1</th>\n",
       "      <th>Pred 0</th>\n",
       "    </tr>\n",
       "  </thead>\n",
       "  <tbody>\n",
       "    <tr>\n",
       "      <th>Akt 1</th>\n",
       "      <td>183</td>\n",
       "      <td>77</td>\n",
       "    </tr>\n",
       "    <tr>\n",
       "      <th>Akt 0</th>\n",
       "      <td>422</td>\n",
       "      <td>1127</td>\n",
       "    </tr>\n",
       "  </tbody>\n",
       "</table>\n",
       "</div>"
      ],
      "text/plain": [
       "       Pred 1  Pred 0\n",
       "Akt 1     183      77\n",
       "Akt 0     422    1127"
      ]
     },
     "execution_count": 74,
     "metadata": {},
     "output_type": "execute_result"
    }
   ],
   "source": [
    "cm_logreg_tuned_os_mm = confusion_matrix(y_test, pred_test_os_mm, labels=[1, 0])\n",
    "cm_logreg_tuned_os_mm = pd.DataFrame(data=cm_logreg_tuned_os_mm, index=['Akt 1', 'Akt 0'], columns=['Pred 1', 'Pred 0'])\n",
    "cm_logreg_tuned_os_mm"
   ]
  },
  {
   "cell_type": "code",
   "execution_count": 75,
   "metadata": {},
   "outputs": [],
   "source": [
    "tp_logreg_os_mm = cm_logreg_tuned_os_mm['Pred 1'][0]\n",
    "tn_logreg_os_mm = cm_logreg_tuned_os_mm['Pred 0'][1]\n",
    "fp_logreg_os_mm = cm_logreg_tuned_os_mm['Pred 1'][1]\n",
    "fn_logreg_os_mm = cm_logreg_tuned_os_mm['Pred 0'][0]"
   ]
  },
  {
   "cell_type": "markdown",
   "metadata": {
    "id": "TfM9k0MWoebl"
   },
   "source": [
    "#### Robust Scaling with Random Over Sampling"
   ]
  },
  {
   "cell_type": "code",
   "execution_count": 76,
   "metadata": {
    "id": "dYdYjFDsoast"
   },
   "outputs": [
    {
     "name": "stdout",
     "output_type": "stream",
     "text": [
      "Fitting 3 folds for each of 300 candidates, totalling 900 fits\n"
     ]
    },
    {
     "name": "stderr",
     "output_type": "stream",
     "text": [
      "[Parallel(n_jobs=-1)]: Using backend LokyBackend with 4 concurrent workers.\n",
      "[Parallel(n_jobs=-1)]: Done 200 tasks      | elapsed:    4.5s\n",
      "[Parallel(n_jobs=-1)]: Done 564 tasks      | elapsed:   15.1s\n",
      "[Parallel(n_jobs=-1)]: Done 900 out of 900 | elapsed:   29.2s finished\n"
     ]
    },
    {
     "data": {
      "text/plain": [
       "RandomizedSearchCV(cv=3, estimator=LogisticRegression(), n_iter=300, n_jobs=-1,\n",
       "                   param_distributions={'C': array([1.00000e-04, 1.00010e+00, 2.00010e+00, 3.00010e+00, 4.00010e+00,\n",
       "       5.00010e+00, 6.00010e+00, 7.00010e+00, 8.00010e+00, 9.00010e+00,\n",
       "       1.00001e+01, 1.10001e+01, 1.20001e+01, 1.30001e+01, 1.40001e+01,\n",
       "       1.50001e+01, 1.60001e+01, 1.70001e+01, 1.80001e+01, 1.90001e+01,\n",
       "       2....\n",
       "       8.00001e+01, 8.10001e+01, 8.20001e+01, 8.30001e+01, 8.40001e+01,\n",
       "       8.50001e+01, 8.60001e+01, 8.70001e+01, 8.80001e+01, 8.90001e+01,\n",
       "       9.00001e+01, 9.10001e+01, 9.20001e+01, 9.30001e+01, 9.40001e+01,\n",
       "       9.50001e+01, 9.60001e+01, 9.70001e+01, 9.80001e+01, 9.90001e+01]),\n",
       "                                        'class_weight': [None, 'weight'],\n",
       "                                        'fit_intercept': [True, False],\n",
       "                                        'penalty': ['l1', 'l2', 'elasticnet',\n",
       "                                                    None]},\n",
       "                   scoring='recall', verbose=1)"
      ]
     },
     "execution_count": 76,
     "metadata": {},
     "output_type": "execute_result"
    }
   ],
   "source": [
    "logreg_os_rb = RandomizedSearchCV(estimator = logreg, param_distributions = param_logreg, cv = 3, n_jobs = -1 , n_iter=300, verbose = 1, scoring = 'recall')\n",
    "x_train_os[columns_continuous] = rb_scale.fit_transform(x_train_os[columns_continuous])\n",
    "logreg_os_rb.fit(x_train_os, y_train_os)"
   ]
  },
  {
   "cell_type": "code",
   "execution_count": 77,
   "metadata": {},
   "outputs": [
    {
     "data": {
      "text/plain": [
       "LogisticRegression(C=0.0001, fit_intercept=False)"
      ]
     },
     "execution_count": 77,
     "metadata": {},
     "output_type": "execute_result"
    }
   ],
   "source": [
    "logreg_os_rb_tuned = logreg_os_rb.best_estimator_\n",
    "pred_train_os_rb = logreg_os_rb_tuned.predict(x_train_os)\n",
    "x_test[columns_continuous] = rb_scale.fit_transform(x_test[columns_continuous])\n",
    "pred_test_os_rb = logreg_os_rb_tuned.predict(x_test)\n",
    "logreg_os_rb_tuned"
   ]
  },
  {
   "cell_type": "code",
   "execution_count": 78,
   "metadata": {
    "id": "9aCDdeXxow4n"
   },
   "outputs": [],
   "source": [
    "logreg_acc_tuned_train_os_rb = accuracy_score(y_train_os, pred_train_os_rb)\n",
    "logreg_acc_tuned_test_os_rb = accuracy_score(y_test, pred_test_os_rb)\n",
    "logreg_recall_tuned_train_os_rb = recall_score(y_train_os, pred_train_os_rb)\n",
    "logreg_recall_tuned_test_os_rb = recall_score(y_test, pred_test_os_rb)\n",
    "logreg_prec_tuned_train_os_rb = precision_score(y_train_os, pred_train_os_rb)\n",
    "logreg_prec_tuned_test_os_rb = precision_score(y_test, pred_test_os_rb)\n",
    "logreg_f1_tuned_train_os_rb = f1_score(y_train_os, pred_train_os_rb)\n",
    "logreg_f1_tuned_test_os_rb = f1_score(y_test, pred_test_os_rb)"
   ]
  },
  {
   "cell_type": "code",
   "execution_count": 79,
   "metadata": {
    "colab": {
     "base_uri": "https://localhost:8080/",
     "height": 110
    },
    "id": "VjJEx91uo8C9",
    "outputId": "32d0835b-02a9-40e4-874e-2d6d32399d0e"
   },
   "outputs": [
    {
     "data": {
      "text/html": [
       "<div>\n",
       "<style scoped>\n",
       "    .dataframe tbody tr th:only-of-type {\n",
       "        vertical-align: middle;\n",
       "    }\n",
       "\n",
       "    .dataframe tbody tr th {\n",
       "        vertical-align: top;\n",
       "    }\n",
       "\n",
       "    .dataframe thead th {\n",
       "        text-align: right;\n",
       "    }\n",
       "</style>\n",
       "<table border=\"1\" class=\"dataframe\">\n",
       "  <thead>\n",
       "    <tr style=\"text-align: right;\">\n",
       "      <th></th>\n",
       "      <th>Pred 1</th>\n",
       "      <th>Pred 0</th>\n",
       "    </tr>\n",
       "  </thead>\n",
       "  <tbody>\n",
       "    <tr>\n",
       "      <th>Akt 1</th>\n",
       "      <td>213</td>\n",
       "      <td>47</td>\n",
       "    </tr>\n",
       "    <tr>\n",
       "      <th>Akt 0</th>\n",
       "      <td>740</td>\n",
       "      <td>809</td>\n",
       "    </tr>\n",
       "  </tbody>\n",
       "</table>\n",
       "</div>"
      ],
      "text/plain": [
       "       Pred 1  Pred 0\n",
       "Akt 1     213      47\n",
       "Akt 0     740     809"
      ]
     },
     "execution_count": 79,
     "metadata": {},
     "output_type": "execute_result"
    }
   ],
   "source": [
    "cm_logreg_tuned_os_rb = confusion_matrix(y_test, pred_test_os_rb, labels=[1, 0])\n",
    "cm_logreg_tuned_os_rb = pd.DataFrame(data=cm_logreg_tuned_os_rb, index=['Akt 1', 'Akt 0'], columns=['Pred 1', 'Pred 0'])\n",
    "cm_logreg_tuned_os_rb"
   ]
  },
  {
   "cell_type": "code",
   "execution_count": 80,
   "metadata": {},
   "outputs": [],
   "source": [
    "tp_logreg_os_rb = cm_logreg_tuned_os_rb['Pred 1'][0]\n",
    "tn_logreg_os_rb = cm_logreg_tuned_os_rb['Pred 0'][1]\n",
    "fp_logreg_os_rb = cm_logreg_tuned_os_rb['Pred 1'][1]\n",
    "fn_logreg_os_rb = cm_logreg_tuned_os_rb['Pred 0'][0]"
   ]
  },
  {
   "cell_type": "markdown",
   "metadata": {
    "id": "-vEeoct9sjm6"
   },
   "source": [
    "#### Standard Scaling with Smote"
   ]
  },
  {
   "cell_type": "code",
   "execution_count": 81,
   "metadata": {
    "id": "E-ih8kpxq1Xw"
   },
   "outputs": [
    {
     "name": "stdout",
     "output_type": "stream",
     "text": [
      "Fitting 3 folds for each of 300 candidates, totalling 900 fits\n"
     ]
    },
    {
     "name": "stderr",
     "output_type": "stream",
     "text": [
      "[Parallel(n_jobs=-1)]: Using backend LokyBackend with 4 concurrent workers.\n",
      "[Parallel(n_jobs=-1)]: Done  48 tasks      | elapsed:    2.2s\n",
      "[Parallel(n_jobs=-1)]: Done 644 tasks      | elapsed:   18.3s\n",
      "[Parallel(n_jobs=-1)]: Done 900 out of 900 | elapsed:   24.9s finished\n"
     ]
    },
    {
     "data": {
      "text/plain": [
       "RandomizedSearchCV(cv=3, estimator=LogisticRegression(), n_iter=300, n_jobs=-1,\n",
       "                   param_distributions={'C': array([1.00000e-04, 1.00010e+00, 2.00010e+00, 3.00010e+00, 4.00010e+00,\n",
       "       5.00010e+00, 6.00010e+00, 7.00010e+00, 8.00010e+00, 9.00010e+00,\n",
       "       1.00001e+01, 1.10001e+01, 1.20001e+01, 1.30001e+01, 1.40001e+01,\n",
       "       1.50001e+01, 1.60001e+01, 1.70001e+01, 1.80001e+01, 1.90001e+01,\n",
       "       2....\n",
       "       8.00001e+01, 8.10001e+01, 8.20001e+01, 8.30001e+01, 8.40001e+01,\n",
       "       8.50001e+01, 8.60001e+01, 8.70001e+01, 8.80001e+01, 8.90001e+01,\n",
       "       9.00001e+01, 9.10001e+01, 9.20001e+01, 9.30001e+01, 9.40001e+01,\n",
       "       9.50001e+01, 9.60001e+01, 9.70001e+01, 9.80001e+01, 9.90001e+01]),\n",
       "                                        'class_weight': [None, 'weight'],\n",
       "                                        'fit_intercept': [True, False],\n",
       "                                        'penalty': ['l1', 'l2', 'elasticnet',\n",
       "                                                    None]},\n",
       "                   scoring='recall', verbose=1)"
      ]
     },
     "execution_count": 81,
     "metadata": {},
     "output_type": "execute_result"
    }
   ],
   "source": [
    "logreg_sm_std = RandomizedSearchCV(estimator = logreg, param_distributions = param_logreg, cv = 3, n_jobs = -1 , n_iter=300, verbose = 1, scoring = 'recall')\n",
    "x_train_sm[columns_continuous] = std_scale.fit_transform(x_train_sm[columns_continuous])\n",
    "logreg_sm_std.fit(x_train_sm, y_train_sm)"
   ]
  },
  {
   "cell_type": "code",
   "execution_count": 82,
   "metadata": {},
   "outputs": [
    {
     "data": {
      "text/plain": [
       "LogisticRegression(C=59.0001, class_weight='weight')"
      ]
     },
     "execution_count": 82,
     "metadata": {},
     "output_type": "execute_result"
    }
   ],
   "source": [
    "logreg_sm_std_tuned = logreg_sm_std.best_estimator_\n",
    "pred_train_sm_std = logreg_sm_std_tuned.predict(x_train_sm)\n",
    "x_test[columns_continuous] = std_scale.fit_transform(x_test[columns_continuous])\n",
    "pred_test_sm_std = logreg_sm_std_tuned.predict(x_test)\n",
    "logreg_sm_std_tuned"
   ]
  },
  {
   "cell_type": "code",
   "execution_count": 83,
   "metadata": {
    "id": "aW8itP9vtIDu"
   },
   "outputs": [],
   "source": [
    "logreg_acc_tuned_train_sm_std = accuracy_score(y_train_sm, pred_train_sm_std)\n",
    "logreg_acc_tuned_test_sm_std = accuracy_score(y_test, pred_test_sm_std)\n",
    "logreg_recall_tuned_train_sm_std = recall_score(y_train_sm, pred_train_sm_std)\n",
    "logreg_recall_tuned_test_sm_std = recall_score(y_test, pred_test_sm_std)\n",
    "logreg_prec_tuned_train_sm_std = precision_score(y_train_sm, pred_train_sm_std)\n",
    "logreg_prec_tuned_test_sm_std = precision_score(y_test, pred_test_sm_std)\n",
    "logreg_f1_tuned_train_sm_std = f1_score(y_train_sm, pred_train_sm_std)\n",
    "logreg_f1_tuned_test_sm_std = f1_score(y_test, pred_test_sm_std)"
   ]
  },
  {
   "cell_type": "code",
   "execution_count": 84,
   "metadata": {
    "colab": {
     "base_uri": "https://localhost:8080/",
     "height": 110
    },
    "id": "fS7nTf7_tbtJ",
    "outputId": "6d48d119-418a-4689-883e-d963698815c9"
   },
   "outputs": [
    {
     "data": {
      "text/html": [
       "<div>\n",
       "<style scoped>\n",
       "    .dataframe tbody tr th:only-of-type {\n",
       "        vertical-align: middle;\n",
       "    }\n",
       "\n",
       "    .dataframe tbody tr th {\n",
       "        vertical-align: top;\n",
       "    }\n",
       "\n",
       "    .dataframe thead th {\n",
       "        text-align: right;\n",
       "    }\n",
       "</style>\n",
       "<table border=\"1\" class=\"dataframe\">\n",
       "  <thead>\n",
       "    <tr style=\"text-align: right;\">\n",
       "      <th></th>\n",
       "      <th>Pred 1</th>\n",
       "      <th>Pred 0</th>\n",
       "    </tr>\n",
       "  </thead>\n",
       "  <tbody>\n",
       "    <tr>\n",
       "      <th>Akt 1</th>\n",
       "      <td>52</td>\n",
       "      <td>208</td>\n",
       "    </tr>\n",
       "    <tr>\n",
       "      <th>Akt 0</th>\n",
       "      <td>33</td>\n",
       "      <td>1516</td>\n",
       "    </tr>\n",
       "  </tbody>\n",
       "</table>\n",
       "</div>"
      ],
      "text/plain": [
       "       Pred 1  Pred 0\n",
       "Akt 1      52     208\n",
       "Akt 0      33    1516"
      ]
     },
     "execution_count": 84,
     "metadata": {},
     "output_type": "execute_result"
    }
   ],
   "source": [
    "cm_logreg_tuned_sm_std = confusion_matrix(y_test, pred_test_sm_std, labels=[1, 0])\n",
    "cm_logreg_tuned_sm_std = pd.DataFrame(data=cm_logreg_tuned_sm_std, index=['Akt 1', 'Akt 0'], columns=['Pred 1', 'Pred 0'])\n",
    "cm_logreg_tuned_sm_std"
   ]
  },
  {
   "cell_type": "code",
   "execution_count": 85,
   "metadata": {},
   "outputs": [],
   "source": [
    "tp_logreg_sm_std = cm_logreg_tuned_sm_std['Pred 1'][0]\n",
    "tn_logreg_sm_std = cm_logreg_tuned_sm_std['Pred 0'][1]\n",
    "fp_logreg_sm_std = cm_logreg_tuned_sm_std['Pred 1'][1]\n",
    "fn_logreg_sm_std = cm_logreg_tuned_sm_std['Pred 0'][0]"
   ]
  },
  {
   "cell_type": "markdown",
   "metadata": {
    "id": "GTH6hxRptxmr"
   },
   "source": [
    "#### MinMax Scaling with Smote"
   ]
  },
  {
   "cell_type": "code",
   "execution_count": 86,
   "metadata": {
    "id": "cJb_jJOktkgT"
   },
   "outputs": [
    {
     "name": "stdout",
     "output_type": "stream",
     "text": [
      "Fitting 3 folds for each of 300 candidates, totalling 900 fits\n"
     ]
    },
    {
     "name": "stderr",
     "output_type": "stream",
     "text": [
      "[Parallel(n_jobs=-1)]: Using backend LokyBackend with 4 concurrent workers.\n",
      "[Parallel(n_jobs=-1)]: Done 172 tasks      | elapsed:    5.0s\n",
      "[Parallel(n_jobs=-1)]: Done 472 tasks      | elapsed:   14.3s\n",
      "[Parallel(n_jobs=-1)]: Done 900 out of 900 | elapsed:   27.6s finished\n"
     ]
    },
    {
     "data": {
      "text/plain": [
       "RandomizedSearchCV(cv=3, estimator=LogisticRegression(), n_iter=300, n_jobs=-1,\n",
       "                   param_distributions={'C': array([1.00000e-04, 1.00010e+00, 2.00010e+00, 3.00010e+00, 4.00010e+00,\n",
       "       5.00010e+00, 6.00010e+00, 7.00010e+00, 8.00010e+00, 9.00010e+00,\n",
       "       1.00001e+01, 1.10001e+01, 1.20001e+01, 1.30001e+01, 1.40001e+01,\n",
       "       1.50001e+01, 1.60001e+01, 1.70001e+01, 1.80001e+01, 1.90001e+01,\n",
       "       2....\n",
       "       8.00001e+01, 8.10001e+01, 8.20001e+01, 8.30001e+01, 8.40001e+01,\n",
       "       8.50001e+01, 8.60001e+01, 8.70001e+01, 8.80001e+01, 8.90001e+01,\n",
       "       9.00001e+01, 9.10001e+01, 9.20001e+01, 9.30001e+01, 9.40001e+01,\n",
       "       9.50001e+01, 9.60001e+01, 9.70001e+01, 9.80001e+01, 9.90001e+01]),\n",
       "                                        'class_weight': [None, 'weight'],\n",
       "                                        'fit_intercept': [True, False],\n",
       "                                        'penalty': ['l1', 'l2', 'elasticnet',\n",
       "                                                    None]},\n",
       "                   scoring='recall', verbose=1)"
      ]
     },
     "execution_count": 86,
     "metadata": {},
     "output_type": "execute_result"
    }
   ],
   "source": [
    "logreg_sm_mm = RandomizedSearchCV(estimator = logreg, param_distributions = param_logreg, cv = 3, n_jobs = -1 , n_iter=300, verbose = 1, scoring = 'recall')\n",
    "x_train_sm[columns_continuous] = mm_scale.fit_transform(x_train_sm[columns_continuous])\n",
    "logreg_sm_mm.fit(x_train_sm, y_train_sm)"
   ]
  },
  {
   "cell_type": "code",
   "execution_count": 87,
   "metadata": {},
   "outputs": [
    {
     "data": {
      "text/plain": [
       "LogisticRegression(C=91.0001, class_weight='weight')"
      ]
     },
     "execution_count": 87,
     "metadata": {},
     "output_type": "execute_result"
    }
   ],
   "source": [
    "logreg_sm_mm_tuned = logreg_sm_mm.best_estimator_\n",
    "pred_train_sm_mm = logreg_sm_mm_tuned.predict(x_train_sm)\n",
    "x_test[columns_continuous] = mm_scale.fit_transform(x_test[columns_continuous])\n",
    "pred_test_sm_mm = logreg_sm_mm_tuned.predict(x_test)\n",
    "logreg_sm_mm_tuned"
   ]
  },
  {
   "cell_type": "code",
   "execution_count": 88,
   "metadata": {
    "id": "4RFEOT6NuBhv"
   },
   "outputs": [],
   "source": [
    "logreg_acc_tuned_train_sm_mm = accuracy_score(y_train_sm, pred_train_sm_mm)\n",
    "logreg_acc_tuned_test_sm_mm = accuracy_score(y_test, pred_test_sm_mm)\n",
    "logreg_recall_tuned_train_sm_mm = recall_score(y_train_sm, pred_train_sm_mm)\n",
    "logreg_recall_tuned_test_sm_mm = recall_score(y_test, pred_test_sm_mm)\n",
    "logreg_prec_tuned_train_sm_mm = precision_score(y_train_sm, pred_train_sm_mm)\n",
    "logreg_prec_tuned_test_sm_mm = precision_score(y_test, pred_test_sm_mm)\n",
    "logreg_f1_tuned_train_sm_mm = f1_score(y_train_sm, pred_train_sm_mm)\n",
    "logreg_f1_tuned_test_sm_mm = f1_score(y_test, pred_test_sm_mm)"
   ]
  },
  {
   "cell_type": "code",
   "execution_count": 89,
   "metadata": {
    "colab": {
     "base_uri": "https://localhost:8080/",
     "height": 110
    },
    "id": "3e9hYPkYub6W",
    "outputId": "8bd53708-3e33-40e1-a2a3-cdcb82836edc"
   },
   "outputs": [
    {
     "data": {
      "text/html": [
       "<div>\n",
       "<style scoped>\n",
       "    .dataframe tbody tr th:only-of-type {\n",
       "        vertical-align: middle;\n",
       "    }\n",
       "\n",
       "    .dataframe tbody tr th {\n",
       "        vertical-align: top;\n",
       "    }\n",
       "\n",
       "    .dataframe thead th {\n",
       "        text-align: right;\n",
       "    }\n",
       "</style>\n",
       "<table border=\"1\" class=\"dataframe\">\n",
       "  <thead>\n",
       "    <tr style=\"text-align: right;\">\n",
       "      <th></th>\n",
       "      <th>Pred 1</th>\n",
       "      <th>Pred 0</th>\n",
       "    </tr>\n",
       "  </thead>\n",
       "  <tbody>\n",
       "    <tr>\n",
       "      <th>Akt 1</th>\n",
       "      <td>46</td>\n",
       "      <td>214</td>\n",
       "    </tr>\n",
       "    <tr>\n",
       "      <th>Akt 0</th>\n",
       "      <td>24</td>\n",
       "      <td>1525</td>\n",
       "    </tr>\n",
       "  </tbody>\n",
       "</table>\n",
       "</div>"
      ],
      "text/plain": [
       "       Pred 1  Pred 0\n",
       "Akt 1      46     214\n",
       "Akt 0      24    1525"
      ]
     },
     "execution_count": 89,
     "metadata": {},
     "output_type": "execute_result"
    }
   ],
   "source": [
    "cm_logreg_tuned_sm_mm = confusion_matrix(y_test, pred_test_sm_mm, labels=[1, 0])\n",
    "cm_logreg_tuned_sm_mm = pd.DataFrame(data=cm_logreg_tuned_sm_mm, index=['Akt 1', 'Akt 0'], columns=['Pred 1', 'Pred 0'])\n",
    "cm_logreg_tuned_sm_mm"
   ]
  },
  {
   "cell_type": "code",
   "execution_count": 90,
   "metadata": {},
   "outputs": [],
   "source": [
    "tp_logreg_sm_mm = cm_logreg_tuned_sm_mm['Pred 1'][0]\n",
    "tn_logreg_sm_mm = cm_logreg_tuned_sm_mm['Pred 0'][1]\n",
    "fp_logreg_sm_mm = cm_logreg_tuned_sm_mm['Pred 1'][1]\n",
    "fn_logreg_sm_mm = cm_logreg_tuned_sm_mm['Pred 0'][0]"
   ]
  },
  {
   "cell_type": "markdown",
   "metadata": {
    "id": "5db8l9RXu0xf"
   },
   "source": [
    "#### Robust Scaling with Smote"
   ]
  },
  {
   "cell_type": "code",
   "execution_count": 91,
   "metadata": {
    "id": "7TUz3cbrujOy"
   },
   "outputs": [
    {
     "name": "stdout",
     "output_type": "stream",
     "text": [
      "Fitting 3 folds for each of 300 candidates, totalling 900 fits\n"
     ]
    },
    {
     "name": "stderr",
     "output_type": "stream",
     "text": [
      "[Parallel(n_jobs=-1)]: Using backend LokyBackend with 4 concurrent workers.\n",
      "[Parallel(n_jobs=-1)]: Done 128 tasks      | elapsed:    5.7s\n",
      "[Parallel(n_jobs=-1)]: Done 728 tasks      | elapsed:   23.5s\n",
      "[Parallel(n_jobs=-1)]: Done 900 out of 900 | elapsed:   28.8s finished\n"
     ]
    },
    {
     "data": {
      "text/plain": [
       "RandomizedSearchCV(cv=3, estimator=LogisticRegression(), n_iter=300, n_jobs=-1,\n",
       "                   param_distributions={'C': array([1.00000e-04, 1.00010e+00, 2.00010e+00, 3.00010e+00, 4.00010e+00,\n",
       "       5.00010e+00, 6.00010e+00, 7.00010e+00, 8.00010e+00, 9.00010e+00,\n",
       "       1.00001e+01, 1.10001e+01, 1.20001e+01, 1.30001e+01, 1.40001e+01,\n",
       "       1.50001e+01, 1.60001e+01, 1.70001e+01, 1.80001e+01, 1.90001e+01,\n",
       "       2....\n",
       "       8.00001e+01, 8.10001e+01, 8.20001e+01, 8.30001e+01, 8.40001e+01,\n",
       "       8.50001e+01, 8.60001e+01, 8.70001e+01, 8.80001e+01, 8.90001e+01,\n",
       "       9.00001e+01, 9.10001e+01, 9.20001e+01, 9.30001e+01, 9.40001e+01,\n",
       "       9.50001e+01, 9.60001e+01, 9.70001e+01, 9.80001e+01, 9.90001e+01]),\n",
       "                                        'class_weight': [None, 'weight'],\n",
       "                                        'fit_intercept': [True, False],\n",
       "                                        'penalty': ['l1', 'l2', 'elasticnet',\n",
       "                                                    None]},\n",
       "                   scoring='recall', verbose=1)"
      ]
     },
     "execution_count": 91,
     "metadata": {},
     "output_type": "execute_result"
    }
   ],
   "source": [
    "logreg_sm_rb = RandomizedSearchCV(estimator = logreg, param_distributions = param_logreg, cv = 3, n_jobs = -1 , n_iter=300, verbose = 1, scoring = 'recall')\n",
    "x_train_sm[columns_continuous] = rb_scale.fit_transform(x_train_sm[columns_continuous])\n",
    "logreg_sm_rb.fit(x_train_sm, y_train_sm)"
   ]
  },
  {
   "cell_type": "code",
   "execution_count": 92,
   "metadata": {},
   "outputs": [
    {
     "data": {
      "text/plain": [
       "LogisticRegression(C=62.0001, class_weight='weight')"
      ]
     },
     "execution_count": 92,
     "metadata": {},
     "output_type": "execute_result"
    }
   ],
   "source": [
    "logreg_sm_rb_tuned = logreg_sm_rb.best_estimator_\n",
    "pred_train_sm_rb = logreg_sm_rb_tuned.predict(x_train_sm)\n",
    "x_test[columns_continuous] = rb_scale.fit_transform(x_test[columns_continuous])\n",
    "pred_test_sm_rb = logreg_sm_rb_tuned.predict(x_test)\n",
    "logreg_sm_rb_tuned"
   ]
  },
  {
   "cell_type": "code",
   "execution_count": 93,
   "metadata": {
    "id": "YFFI65T9vEP1"
   },
   "outputs": [],
   "source": [
    "logreg_acc_tuned_train_sm_rb = accuracy_score(y_train_sm, pred_train_sm_rb)\n",
    "logreg_acc_tuned_test_sm_rb = accuracy_score(y_test, pred_test_sm_rb)\n",
    "logreg_recall_tuned_train_sm_rb = recall_score(y_train_sm, pred_train_sm_rb)\n",
    "logreg_recall_tuned_test_sm_rb = recall_score(y_test, pred_test_sm_rb)\n",
    "logreg_prec_tuned_train_sm_rb = precision_score(y_train_sm, pred_train_sm_rb)\n",
    "logreg_prec_tuned_test_sm_rb = precision_score(y_test, pred_test_sm_rb)\n",
    "logreg_f1_tuned_train_sm_rb = f1_score(y_train_sm, pred_train_sm_rb)\n",
    "logreg_f1_tuned_test_sm_rb = f1_score(y_test, pred_test_sm_rb)"
   ]
  },
  {
   "cell_type": "code",
   "execution_count": 94,
   "metadata": {
    "colab": {
     "base_uri": "https://localhost:8080/",
     "height": 110
    },
    "id": "p5W8n4ejvY1U",
    "outputId": "aa86b1ae-4ed5-436e-b6f1-40f2798f1040"
   },
   "outputs": [
    {
     "data": {
      "text/html": [
       "<div>\n",
       "<style scoped>\n",
       "    .dataframe tbody tr th:only-of-type {\n",
       "        vertical-align: middle;\n",
       "    }\n",
       "\n",
       "    .dataframe tbody tr th {\n",
       "        vertical-align: top;\n",
       "    }\n",
       "\n",
       "    .dataframe thead th {\n",
       "        text-align: right;\n",
       "    }\n",
       "</style>\n",
       "<table border=\"1\" class=\"dataframe\">\n",
       "  <thead>\n",
       "    <tr style=\"text-align: right;\">\n",
       "      <th></th>\n",
       "      <th>Pred 1</th>\n",
       "      <th>Pred 0</th>\n",
       "    </tr>\n",
       "  </thead>\n",
       "  <tbody>\n",
       "    <tr>\n",
       "      <th>Akt 1</th>\n",
       "      <td>47</td>\n",
       "      <td>213</td>\n",
       "    </tr>\n",
       "    <tr>\n",
       "      <th>Akt 0</th>\n",
       "      <td>28</td>\n",
       "      <td>1521</td>\n",
       "    </tr>\n",
       "  </tbody>\n",
       "</table>\n",
       "</div>"
      ],
      "text/plain": [
       "       Pred 1  Pred 0\n",
       "Akt 1      47     213\n",
       "Akt 0      28    1521"
      ]
     },
     "execution_count": 94,
     "metadata": {},
     "output_type": "execute_result"
    }
   ],
   "source": [
    "cm_logreg_tuned_sm_rb = confusion_matrix(y_test, pred_test_sm_rb, labels=[1, 0])\n",
    "cm_logreg_tuned_sm_rb = pd.DataFrame(data=cm_logreg_tuned_sm_rb, index=['Akt 1', 'Akt 0'], columns=['Pred 1', 'Pred 0'])\n",
    "cm_logreg_tuned_sm_rb"
   ]
  },
  {
   "cell_type": "code",
   "execution_count": 95,
   "metadata": {},
   "outputs": [],
   "source": [
    "tp_logreg_sm_rb = cm_logreg_tuned_sm_rb['Pred 1'][0]\n",
    "tn_logreg_sm_rb = cm_logreg_tuned_sm_rb['Pred 0'][1]\n",
    "fp_logreg_sm_rb = cm_logreg_tuned_sm_rb['Pred 1'][1]\n",
    "fn_logreg_sm_rb = cm_logreg_tuned_sm_rb['Pred 0'][0]"
   ]
  },
  {
   "cell_type": "markdown",
   "metadata": {
    "id": "3h5MNZXa2u_4"
   },
   "source": [
    "### Evaluation For Logistic Regression"
   ]
  },
  {
   "cell_type": "code",
   "execution_count": 96,
   "metadata": {
    "id": "yjRXgKyI224M"
   },
   "outputs": [],
   "source": [
    "distance_tuned = {\n",
    "    \"SVM_OS_Train\": [svm_acc_tuned_train_os, svm_recall_tuned_train_os, svm_prec_tuned_train_os, svm_f1_tuned_train_os],\n",
    "    \"SVM_OS_Test\" : [svm_acc_tuned_test_os, svm_recall_tuned_test_os, svm_prec_tuned_test_os, svm_f1_tuned_test_os],\n",
    "    \"SVM_SM_Train\": [svm_acc_tuned_train_sm, svm_recall_tuned_train_sm, svm_prec_tuned_train_sm, svm_f1_tuned_train_sm],\n",
    "    \"SVM_SM_Test\" : [svm_acc_tuned_test_sm, svm_recall_tuned_test_sm, svm_prec_tuned_test_sm, svm_f1_tuned_test_sm],\n",
    "    \"Logreg_OS_Train\": [logreg_acc_tuned_train_os, logreg_recall_tuned_train_os, logreg_prec_tuned_train_os, logreg_f1_tuned_train_os],\n",
    "    \"Logreg_OS_Test\" : [logreg_acc_tuned_test_os, logreg_recall_tuned_test_os, logreg_prec_tuned_test_os, logreg_f1_tuned_test_os],\n",
    "    \"Logreg_SM_Train\": [logreg_acc_tuned_train_sm, logreg_recall_tuned_train_sm, logreg_prec_tuned_train_sm, logreg_f1_tuned_train_sm],\n",
    "    \"Logreg_SM_Test\" : [logreg_acc_tuned_test_sm, logreg_recall_tuned_test_sm, logreg_prec_tuned_test_sm, logreg_f1_tuned_test_sm]\n",
    "    }\n",
    "tuned_matrix = pd.DataFrame(data = distance_tuned, index = ['Accuracy', 'Recall', 'Precision', 'F1 Score'])\n",
    "\n",
    "dictance_tuned_os = {\n",
    "    \"SVM Standard_OS_Train\": [svm_acc_tuned_train_os_std, svm_recall_tuned_train_os_std, svm_prec_tuned_train_os_std, svm_f1_tuned_train_os_std],\n",
    "    \"SVM Standard_OS_Test\" : [svm_acc_tuned_test_os_std, svm_recall_tuned_test_os_std, svm_prec_tuned_test_os_std, svm_f1_tuned_test_os_std],\n",
    "    \"SVM MinMax_OS_Train\": [svm_acc_tuned_train_os_mm, svm_recall_tuned_train_os_mm, svm_prec_tuned_train_os_mm, svm_f1_tuned_train_os_mm],\n",
    "    \"SVM MinMax_OS_Test\" : [svm_acc_tuned_test_os_mm, svm_recall_tuned_test_os_mm, svm_prec_tuned_test_os_mm, svm_f1_tuned_test_os_mm],\n",
    "    \"SVM Robust_OS_Train\": [svm_acc_tuned_train_os_rb, svm_recall_tuned_train_os_rb, svm_prec_tuned_train_os_rb, svm_f1_tuned_train_os_rb],\n",
    "    \"SVM Robust_OS_Test\" : [svm_acc_tuned_test_os_rb, svm_recall_tuned_test_os_rb, svm_prec_tuned_test_os_rb, svm_f1_tuned_test_os_rb],\n",
    "    \"Logreg Standard_OS_Train\": [logreg_acc_tuned_train_os_std, logreg_recall_tuned_train_os_std, logreg_prec_tuned_train_os_std, logreg_f1_tuned_train_os_std],\n",
    "    \"Logreg Standard_OS_Test\" : [logreg_acc_tuned_test_os_std, logreg_recall_tuned_test_os_std, logreg_prec_tuned_test_os_std, logreg_f1_tuned_test_os_std],\n",
    "    \"Logreg MinMax_OS_Train\": [logreg_acc_tuned_train_os_mm, logreg_recall_tuned_train_os_mm, logreg_prec_tuned_train_os_mm, logreg_f1_tuned_train_os_mm],\n",
    "    \"Logreg MinMax_OS_Test\" : [logreg_acc_tuned_test_os_mm, logreg_recall_tuned_test_os_mm, logreg_prec_tuned_test_os_mm, logreg_f1_tuned_test_os_mm],\n",
    "    \"Logreg Robust_OS_Train\": [logreg_acc_tuned_train_os_rb, logreg_recall_tuned_train_os_rb, logreg_prec_tuned_train_os_rb, logreg_f1_tuned_train_os_rb],\n",
    "    \"Logreg Robust_OS_Test\" : [logreg_acc_tuned_test_os_rb, logreg_recall_tuned_test_os_rb, logreg_prec_tuned_test_os_rb, logreg_f1_tuned_test_os_rb]\n",
    "    }\n",
    "distance_tuned_os_matrix = pd.DataFrame(data = dictance_tuned_os, index = ['Accuracy', 'Recall', 'Precision', 'F1 Score'])\n",
    "\n",
    "distance_tuned_sm = {\n",
    "    \"SVM Standard_SM_Train\": [svm_acc_tuned_train_sm_std, svm_recall_tuned_train_sm_std, svm_prec_tuned_train_sm_std, svm_f1_tuned_train_sm_std],\n",
    "    \"SVM Standard_SM_Test\" : [svm_acc_tuned_test_sm_std, svm_recall_tuned_test_sm_std, svm_prec_tuned_test_sm_std, svm_f1_tuned_test_sm_std],\n",
    "    \"SVM MinMax_SM_Train\": [svm_acc_tuned_train_sm_mm, svm_recall_tuned_train_sm_mm, svm_prec_tuned_train_sm_mm, svm_f1_tuned_train_sm_mm],\n",
    "    \"SVM MinMax_SM_Test\" : [svm_acc_tuned_test_sm_mm, svm_recall_tuned_test_sm_mm, svm_prec_tuned_test_sm_mm, svm_f1_tuned_test_sm_mm],\n",
    "    \"SVM Robust_SM_Train\": [svm_acc_tuned_train_sm_rb, svm_recall_tuned_train_sm_rb, svm_prec_tuned_train_sm_rb, svm_f1_tuned_train_sm_rb],\n",
    "    \"SVM Robust_SM_Test\" : [svm_acc_tuned_test_sm_rb, svm_recall_tuned_test_sm_rb, svm_prec_tuned_test_sm_rb, svm_f1_tuned_test_sm_rb],\n",
    "    \"Logreg Standard_SM_Train\": [logreg_acc_tuned_train_sm_std, logreg_recall_tuned_train_sm_std, logreg_prec_tuned_train_sm_std, logreg_f1_tuned_train_sm_std],\n",
    "    \"Logreg Standard_SM_Test\" : [logreg_acc_tuned_test_sm_std, logreg_recall_tuned_test_sm_std, logreg_prec_tuned_test_sm_std, logreg_f1_tuned_test_sm_std],\n",
    "    \"Logreg MinMax_SM_Train\": [logreg_acc_tuned_train_sm_mm, logreg_recall_tuned_train_sm_mm, logreg_prec_tuned_train_sm_mm, logreg_f1_tuned_train_sm_mm],\n",
    "    \"Logreg MinMax_SM_Test\" : [logreg_acc_tuned_test_sm_mm, logreg_recall_tuned_test_sm_mm, logreg_prec_tuned_test_sm_mm, logreg_f1_tuned_test_sm_mm],\n",
    "    \"Logreg Robust_SM_Train\": [logreg_acc_tuned_train_sm_rb, logreg_recall_tuned_train_sm_rb, logreg_prec_tuned_train_sm_rb, logreg_f1_tuned_train_sm_rb],\n",
    "    \"Logreg Robust_SM_Test\" : [logreg_acc_tuned_test_sm_rb, logreg_recall_tuned_test_sm_rb, logreg_prec_tuned_test_sm_rb, logreg_f1_tuned_test_sm_rb]\n",
    "    }\n",
    "distance_tuned_sm_matrix = pd.DataFrame(data = distance_tuned_sm, index = ['Accuracy', 'Recall', 'Precision', 'F1 Score'])"
   ]
  },
  {
   "cell_type": "code",
   "execution_count": 97,
   "metadata": {
    "colab": {
     "base_uri": "https://localhost:8080/",
     "height": 141
    },
    "id": "ddEppG_4vf7P",
    "outputId": "c8ffef20-b6f1-4ccc-b8dd-6f85bb8f4e22"
   },
   "outputs": [
    {
     "data": {
      "text/html": [
       "<div>\n",
       "<style scoped>\n",
       "    .dataframe tbody tr th:only-of-type {\n",
       "        vertical-align: middle;\n",
       "    }\n",
       "\n",
       "    .dataframe tbody tr th {\n",
       "        vertical-align: top;\n",
       "    }\n",
       "\n",
       "    .dataframe thead th {\n",
       "        text-align: right;\n",
       "    }\n",
       "</style>\n",
       "<table border=\"1\" class=\"dataframe\">\n",
       "  <thead>\n",
       "    <tr style=\"text-align: right;\">\n",
       "      <th></th>\n",
       "      <th>SVM_OS_Train</th>\n",
       "      <th>SVM_OS_Test</th>\n",
       "      <th>SVM_SM_Train</th>\n",
       "      <th>SVM_SM_Test</th>\n",
       "      <th>Logreg_OS_Train</th>\n",
       "      <th>Logreg_OS_Test</th>\n",
       "      <th>Logreg_SM_Train</th>\n",
       "      <th>Logreg_SM_Test</th>\n",
       "    </tr>\n",
       "  </thead>\n",
       "  <tbody>\n",
       "    <tr>\n",
       "      <th>Accuracy</th>\n",
       "      <td>0.999839</td>\n",
       "      <td>0.999447</td>\n",
       "      <td>0.531078</td>\n",
       "      <td>0.156440</td>\n",
       "      <td>0.742170</td>\n",
       "      <td>0.711443</td>\n",
       "      <td>0.909832</td>\n",
       "      <td>0.866777</td>\n",
       "    </tr>\n",
       "    <tr>\n",
       "      <th>Recall</th>\n",
       "      <td>1.000000</td>\n",
       "      <td>1.000000</td>\n",
       "      <td>1.000000</td>\n",
       "      <td>1.000000</td>\n",
       "      <td>0.783662</td>\n",
       "      <td>0.730769</td>\n",
       "      <td>0.836939</td>\n",
       "      <td>0.184615</td>\n",
       "    </tr>\n",
       "    <tr>\n",
       "      <th>Precision</th>\n",
       "      <td>0.999677</td>\n",
       "      <td>0.996169</td>\n",
       "      <td>0.516038</td>\n",
       "      <td>0.145577</td>\n",
       "      <td>0.723614</td>\n",
       "      <td>0.295950</td>\n",
       "      <td>0.979777</td>\n",
       "      <td>0.623377</td>\n",
       "    </tr>\n",
       "    <tr>\n",
       "      <th>F1 Score</th>\n",
       "      <td>0.999839</td>\n",
       "      <td>0.998081</td>\n",
       "      <td>0.680772</td>\n",
       "      <td>0.254154</td>\n",
       "      <td>0.752441</td>\n",
       "      <td>0.421286</td>\n",
       "      <td>0.902743</td>\n",
       "      <td>0.284866</td>\n",
       "    </tr>\n",
       "  </tbody>\n",
       "</table>\n",
       "</div>"
      ],
      "text/plain": [
       "           SVM_OS_Train  SVM_OS_Test  SVM_SM_Train  SVM_SM_Test  \\\n",
       "Accuracy       0.999839     0.999447      0.531078     0.156440   \n",
       "Recall         1.000000     1.000000      1.000000     1.000000   \n",
       "Precision      0.999677     0.996169      0.516038     0.145577   \n",
       "F1 Score       0.999839     0.998081      0.680772     0.254154   \n",
       "\n",
       "           Logreg_OS_Train  Logreg_OS_Test  Logreg_SM_Train  Logreg_SM_Test  \n",
       "Accuracy          0.742170        0.711443         0.909832        0.866777  \n",
       "Recall            0.783662        0.730769         0.836939        0.184615  \n",
       "Precision         0.723614        0.295950         0.979777        0.623377  \n",
       "F1 Score          0.752441        0.421286         0.902743        0.284866  "
      ]
     },
     "execution_count": 97,
     "metadata": {},
     "output_type": "execute_result"
    }
   ],
   "source": [
    "tuned_matrix"
   ]
  },
  {
   "cell_type": "code",
   "execution_count": 98,
   "metadata": {
    "colab": {
     "base_uri": "https://localhost:8080/",
     "height": 141
    },
    "id": "F1Cpf49Pvndf",
    "outputId": "3f194a08-2de0-4b84-abb4-3339f11ac008"
   },
   "outputs": [
    {
     "data": {
      "text/html": [
       "<div>\n",
       "<style scoped>\n",
       "    .dataframe tbody tr th:only-of-type {\n",
       "        vertical-align: middle;\n",
       "    }\n",
       "\n",
       "    .dataframe tbody tr th {\n",
       "        vertical-align: top;\n",
       "    }\n",
       "\n",
       "    .dataframe thead th {\n",
       "        text-align: right;\n",
       "    }\n",
       "</style>\n",
       "<table border=\"1\" class=\"dataframe\">\n",
       "  <thead>\n",
       "    <tr style=\"text-align: right;\">\n",
       "      <th></th>\n",
       "      <th>SVM Standard_OS_Train</th>\n",
       "      <th>SVM Standard_OS_Test</th>\n",
       "      <th>SVM MinMax_OS_Train</th>\n",
       "      <th>SVM MinMax_OS_Test</th>\n",
       "      <th>SVM Robust_OS_Train</th>\n",
       "      <th>SVM Robust_OS_Test</th>\n",
       "      <th>Logreg Standard_OS_Train</th>\n",
       "      <th>Logreg Standard_OS_Test</th>\n",
       "      <th>Logreg MinMax_OS_Train</th>\n",
       "      <th>Logreg MinMax_OS_Test</th>\n",
       "      <th>Logreg Robust_OS_Train</th>\n",
       "      <th>Logreg Robust_OS_Test</th>\n",
       "    </tr>\n",
       "  </thead>\n",
       "  <tbody>\n",
       "    <tr>\n",
       "      <th>Accuracy</th>\n",
       "      <td>1.0</td>\n",
       "      <td>0.964069</td>\n",
       "      <td>0.525509</td>\n",
       "      <td>0.144279</td>\n",
       "      <td>1.0</td>\n",
       "      <td>0.955777</td>\n",
       "      <td>0.742573</td>\n",
       "      <td>0.710890</td>\n",
       "      <td>0.742735</td>\n",
       "      <td>0.724157</td>\n",
       "      <td>0.694866</td>\n",
       "      <td>0.564953</td>\n",
       "    </tr>\n",
       "    <tr>\n",
       "      <th>Recall</th>\n",
       "      <td>1.0</td>\n",
       "      <td>0.934615</td>\n",
       "      <td>1.000000</td>\n",
       "      <td>0.984615</td>\n",
       "      <td>1.0</td>\n",
       "      <td>0.934615</td>\n",
       "      <td>0.783662</td>\n",
       "      <td>0.746154</td>\n",
       "      <td>0.785115</td>\n",
       "      <td>0.703846</td>\n",
       "      <td>0.828705</td>\n",
       "      <td>0.819231</td>\n",
       "    </tr>\n",
       "    <tr>\n",
       "      <th>Precision</th>\n",
       "      <td>1.0</td>\n",
       "      <td>0.835052</td>\n",
       "      <td>0.513088</td>\n",
       "      <td>0.142222</td>\n",
       "      <td>1.0</td>\n",
       "      <td>0.794118</td>\n",
       "      <td>0.724153</td>\n",
       "      <td>0.298003</td>\n",
       "      <td>0.723768</td>\n",
       "      <td>0.302479</td>\n",
       "      <td>0.653719</td>\n",
       "      <td>0.223505</td>\n",
       "    </tr>\n",
       "    <tr>\n",
       "      <th>F1 Score</th>\n",
       "      <td>1.0</td>\n",
       "      <td>0.882033</td>\n",
       "      <td>0.678200</td>\n",
       "      <td>0.248544</td>\n",
       "      <td>1.0</td>\n",
       "      <td>0.858657</td>\n",
       "      <td>0.752733</td>\n",
       "      <td>0.425906</td>\n",
       "      <td>0.753194</td>\n",
       "      <td>0.423121</td>\n",
       "      <td>0.730884</td>\n",
       "      <td>0.351195</td>\n",
       "    </tr>\n",
       "  </tbody>\n",
       "</table>\n",
       "</div>"
      ],
      "text/plain": [
       "           SVM Standard_OS_Train  SVM Standard_OS_Test  SVM MinMax_OS_Train  \\\n",
       "Accuracy                     1.0              0.964069             0.525509   \n",
       "Recall                       1.0              0.934615             1.000000   \n",
       "Precision                    1.0              0.835052             0.513088   \n",
       "F1 Score                     1.0              0.882033             0.678200   \n",
       "\n",
       "           SVM MinMax_OS_Test  SVM Robust_OS_Train  SVM Robust_OS_Test  \\\n",
       "Accuracy             0.144279                  1.0            0.955777   \n",
       "Recall               0.984615                  1.0            0.934615   \n",
       "Precision            0.142222                  1.0            0.794118   \n",
       "F1 Score             0.248544                  1.0            0.858657   \n",
       "\n",
       "           Logreg Standard_OS_Train  Logreg Standard_OS_Test  \\\n",
       "Accuracy                   0.742573                 0.710890   \n",
       "Recall                     0.783662                 0.746154   \n",
       "Precision                  0.724153                 0.298003   \n",
       "F1 Score                   0.752733                 0.425906   \n",
       "\n",
       "           Logreg MinMax_OS_Train  Logreg MinMax_OS_Test  \\\n",
       "Accuracy                 0.742735               0.724157   \n",
       "Recall                   0.785115               0.703846   \n",
       "Precision                0.723768               0.302479   \n",
       "F1 Score                 0.753194               0.423121   \n",
       "\n",
       "           Logreg Robust_OS_Train  Logreg Robust_OS_Test  \n",
       "Accuracy                 0.694866               0.564953  \n",
       "Recall                   0.828705               0.819231  \n",
       "Precision                0.653719               0.223505  \n",
       "F1 Score                 0.730884               0.351195  "
      ]
     },
     "execution_count": 98,
     "metadata": {},
     "output_type": "execute_result"
    }
   ],
   "source": [
    "distance_tuned_os_matrix"
   ]
  },
  {
   "cell_type": "code",
   "execution_count": 99,
   "metadata": {
    "colab": {
     "base_uri": "https://localhost:8080/",
     "height": 141
    },
    "id": "XNL_wRqW36dJ",
    "outputId": "c12f1350-a96c-4f13-b50a-7fd838981285"
   },
   "outputs": [
    {
     "data": {
      "text/html": [
       "<div>\n",
       "<style scoped>\n",
       "    .dataframe tbody tr th:only-of-type {\n",
       "        vertical-align: middle;\n",
       "    }\n",
       "\n",
       "    .dataframe tbody tr th {\n",
       "        vertical-align: top;\n",
       "    }\n",
       "\n",
       "    .dataframe thead th {\n",
       "        text-align: right;\n",
       "    }\n",
       "</style>\n",
       "<table border=\"1\" class=\"dataframe\">\n",
       "  <thead>\n",
       "    <tr style=\"text-align: right;\">\n",
       "      <th></th>\n",
       "      <th>SVM Standard_SM_Train</th>\n",
       "      <th>SVM Standard_SM_Test</th>\n",
       "      <th>SVM MinMax_SM_Train</th>\n",
       "      <th>SVM MinMax_SM_Test</th>\n",
       "      <th>SVM Robust_SM_Train</th>\n",
       "      <th>SVM Robust_SM_Test</th>\n",
       "      <th>Logreg Standard_SM_Train</th>\n",
       "      <th>Logreg Standard_SM_Test</th>\n",
       "      <th>Logreg MinMax_SM_Train</th>\n",
       "      <th>Logreg MinMax_SM_Test</th>\n",
       "      <th>Logreg Robust_SM_Train</th>\n",
       "      <th>Logreg Robust_SM_Test</th>\n",
       "    </tr>\n",
       "  </thead>\n",
       "  <tbody>\n",
       "    <tr>\n",
       "      <th>Accuracy</th>\n",
       "      <td>0.796416</td>\n",
       "      <td>0.626313</td>\n",
       "      <td>0.525912</td>\n",
       "      <td>0.145384</td>\n",
       "      <td>0.712625</td>\n",
       "      <td>0.463792</td>\n",
       "      <td>0.908783</td>\n",
       "      <td>0.866777</td>\n",
       "      <td>0.909832</td>\n",
       "      <td>0.868436</td>\n",
       "      <td>0.909106</td>\n",
       "      <td>0.866777</td>\n",
       "    </tr>\n",
       "    <tr>\n",
       "      <th>Recall</th>\n",
       "      <td>0.992251</td>\n",
       "      <td>0.930769</td>\n",
       "      <td>1.000000</td>\n",
       "      <td>0.992308</td>\n",
       "      <td>1.000000</td>\n",
       "      <td>0.957692</td>\n",
       "      <td>0.835325</td>\n",
       "      <td>0.200000</td>\n",
       "      <td>0.837100</td>\n",
       "      <td>0.176923</td>\n",
       "      <td>0.836293</td>\n",
       "      <td>0.180769</td>\n",
       "    </tr>\n",
       "    <tr>\n",
       "      <th>Precision</th>\n",
       "      <td>0.712993</td>\n",
       "      <td>0.268889</td>\n",
       "      <td>0.513301</td>\n",
       "      <td>0.143174</td>\n",
       "      <td>0.635022</td>\n",
       "      <td>0.206126</td>\n",
       "      <td>0.979182</td>\n",
       "      <td>0.611765</td>\n",
       "      <td>0.979596</td>\n",
       "      <td>0.657143</td>\n",
       "      <td>0.978836</td>\n",
       "      <td>0.626667</td>\n",
       "    </tr>\n",
       "    <tr>\n",
       "      <th>F1 Score</th>\n",
       "      <td>0.829756</td>\n",
       "      <td>0.417241</td>\n",
       "      <td>0.678386</td>\n",
       "      <td>0.250242</td>\n",
       "      <td>0.776775</td>\n",
       "      <td>0.339237</td>\n",
       "      <td>0.901551</td>\n",
       "      <td>0.301449</td>\n",
       "      <td>0.902760</td>\n",
       "      <td>0.278788</td>\n",
       "      <td>0.901968</td>\n",
       "      <td>0.280597</td>\n",
       "    </tr>\n",
       "  </tbody>\n",
       "</table>\n",
       "</div>"
      ],
      "text/plain": [
       "           SVM Standard_SM_Train  SVM Standard_SM_Test  SVM MinMax_SM_Train  \\\n",
       "Accuracy                0.796416              0.626313             0.525912   \n",
       "Recall                  0.992251              0.930769             1.000000   \n",
       "Precision               0.712993              0.268889             0.513301   \n",
       "F1 Score                0.829756              0.417241             0.678386   \n",
       "\n",
       "           SVM MinMax_SM_Test  SVM Robust_SM_Train  SVM Robust_SM_Test  \\\n",
       "Accuracy             0.145384             0.712625            0.463792   \n",
       "Recall               0.992308             1.000000            0.957692   \n",
       "Precision            0.143174             0.635022            0.206126   \n",
       "F1 Score             0.250242             0.776775            0.339237   \n",
       "\n",
       "           Logreg Standard_SM_Train  Logreg Standard_SM_Test  \\\n",
       "Accuracy                   0.908783                 0.866777   \n",
       "Recall                     0.835325                 0.200000   \n",
       "Precision                  0.979182                 0.611765   \n",
       "F1 Score                   0.901551                 0.301449   \n",
       "\n",
       "           Logreg MinMax_SM_Train  Logreg MinMax_SM_Test  \\\n",
       "Accuracy                 0.909832               0.868436   \n",
       "Recall                   0.837100               0.176923   \n",
       "Precision                0.979596               0.657143   \n",
       "F1 Score                 0.902760               0.278788   \n",
       "\n",
       "           Logreg Robust_SM_Train  Logreg Robust_SM_Test  \n",
       "Accuracy                 0.909106               0.866777  \n",
       "Recall                   0.836293               0.180769  \n",
       "Precision                0.978836               0.626667  \n",
       "F1 Score                 0.901968               0.280597  "
      ]
     },
     "execution_count": 99,
     "metadata": {},
     "output_type": "execute_result"
    }
   ],
   "source": [
    "distance_tuned_sm_matrix"
   ]
  },
  {
   "cell_type": "markdown",
   "metadata": {
    "id": "VI1092yjKtNt"
   },
   "source": [
    "## Decision Tree"
   ]
  },
  {
   "cell_type": "code",
   "execution_count": 100,
   "metadata": {},
   "outputs": [],
   "source": [
    "decision_tree = DecisionTreeClassifier()"
   ]
  },
  {
   "cell_type": "code",
   "execution_count": 101,
   "metadata": {},
   "outputs": [],
   "source": [
    "param_dt =  {\"criterion\" : ['gini', 'entropy'],\n",
    "             \"max_depth\": [None, np.arange(2,50)], \n",
    "             \"min_samples_split\": [2, 5, 10, 15, 20, 25, 30, 35, 40, 45, 50],\n",
    "             \"min_samples_leaf\": [1,2, 3, 4, 5, 6, 7, 8, 9, 10], \n",
    "             \"max_features\" : ['auto', 'sqrt', 'log2'],\n",
    "             \"min_impurity_decrease\" : [0, 1, 2, 3, 4, 5]}"
   ]
  },
  {
   "cell_type": "markdown",
   "metadata": {
    "id": "L3ZeYf-gMS6A"
   },
   "source": [
    "### Random Over Sampling"
   ]
  },
  {
   "cell_type": "code",
   "execution_count": 102,
   "metadata": {
    "id": "53ZE2_HcK0U5"
   },
   "outputs": [
    {
     "name": "stdout",
     "output_type": "stream",
     "text": [
      "Fitting 3 folds for each of 300 candidates, totalling 900 fits\n"
     ]
    },
    {
     "name": "stderr",
     "output_type": "stream",
     "text": [
      "[Parallel(n_jobs=-1)]: Using backend LokyBackend with 4 concurrent workers.\n",
      "[Parallel(n_jobs=-1)]: Done  80 tasks      | elapsed:    1.6s\n",
      "[Parallel(n_jobs=-1)]: Done 680 tasks      | elapsed:   11.1s\n",
      "[Parallel(n_jobs=-1)]: Done 900 out of 900 | elapsed:   14.7s finished\n"
     ]
    },
    {
     "data": {
      "text/plain": [
       "RandomizedSearchCV(cv=3, estimator=DecisionTreeClassifier(), n_iter=300,\n",
       "                   n_jobs=-1,\n",
       "                   param_distributions={'criterion': ['gini', 'entropy'],\n",
       "                                        'max_depth': [None,\n",
       "                                                      array([ 2,  3,  4,  5,  6,  7,  8,  9, 10, 11, 12, 13, 14, 15, 16, 17, 18,\n",
       "       19, 20, 21, 22, 23, 24, 25, 26, 27, 28, 29, 30, 31, 32, 33, 34, 35,\n",
       "       36, 37, 38, 39, 40, 41, 42, 43, 44, 45, 46, 47, 48, 49])],\n",
       "                                        'max_features': ['auto', 'sqrt',\n",
       "                                                         'log2'],\n",
       "                                        'min_impurity_decrease': [0, 1, 2, 3, 4,\n",
       "                                                                  5],\n",
       "                                        'min_samples_leaf': [1, 2, 3, 4, 5, 6,\n",
       "                                                             7, 8, 9, 10],\n",
       "                                        'min_samples_split': [2, 5, 10, 15, 20,\n",
       "                                                              25, 30, 35, 40,\n",
       "                                                              45, 50]},\n",
       "                   scoring='recall', verbose=1)"
      ]
     },
     "execution_count": 102,
     "metadata": {},
     "output_type": "execute_result"
    }
   ],
   "source": [
    "dt_os = RandomizedSearchCV(estimator = decision_tree, param_distributions = param_dt, cv = 3, n_jobs = -1 , n_iter=300, verbose = 1, scoring = 'recall')\n",
    "dt_os.fit(x_train_os, y_train_os)"
   ]
  },
  {
   "cell_type": "code",
   "execution_count": 103,
   "metadata": {},
   "outputs": [
    {
     "data": {
      "text/plain": [
       "DecisionTreeClassifier(criterion='entropy', max_features='log2',\n",
       "                       min_impurity_decrease=0)"
      ]
     },
     "execution_count": 103,
     "metadata": {},
     "output_type": "execute_result"
    }
   ],
   "source": [
    "dt_tuned_os = dt_os.best_estimator_\n",
    "pred_train_os = dt_tuned_os.predict(x_train_os)\n",
    "pred_test_os = dt_tuned_os.predict(x_test)\n",
    "dt_tuned_os"
   ]
  },
  {
   "cell_type": "code",
   "execution_count": 104,
   "metadata": {
    "id": "wcBzmHgsMCvh"
   },
   "outputs": [],
   "source": [
    "dt_acc_tuned_train_os = accuracy_score(y_train_os, pred_train_os)\n",
    "dt_acc_tuned_test_os = accuracy_score(y_test, pred_test_os)\n",
    "dt_recall_tuned_train_os = recall_score(y_train_os, pred_train_os)\n",
    "dt_recall_tuned_test_os = recall_score(y_test, pred_test_os)\n",
    "dt_prec_tuned_train_os = precision_score(y_train_os, pred_train_os)\n",
    "dt_prec_tuned_test_os = precision_score(y_test, pred_test_os)\n",
    "dt_f1_tuned_train_os = f1_score(y_train_os, pred_train_os)\n",
    "dt_f1_tuned_test_os = f1_score(y_test, pred_test_os)"
   ]
  },
  {
   "cell_type": "code",
   "execution_count": 105,
   "metadata": {
    "colab": {
     "base_uri": "https://localhost:8080/",
     "height": 110
    },
    "id": "h1oxahW6MH9x",
    "outputId": "55b32918-7896-44c3-cde1-5a97c8398093"
   },
   "outputs": [
    {
     "data": {
      "text/html": [
       "<div>\n",
       "<style scoped>\n",
       "    .dataframe tbody tr th:only-of-type {\n",
       "        vertical-align: middle;\n",
       "    }\n",
       "\n",
       "    .dataframe tbody tr th {\n",
       "        vertical-align: top;\n",
       "    }\n",
       "\n",
       "    .dataframe thead th {\n",
       "        text-align: right;\n",
       "    }\n",
       "</style>\n",
       "<table border=\"1\" class=\"dataframe\">\n",
       "  <thead>\n",
       "    <tr style=\"text-align: right;\">\n",
       "      <th></th>\n",
       "      <th>Pred 1</th>\n",
       "      <th>Pred 0</th>\n",
       "    </tr>\n",
       "  </thead>\n",
       "  <tbody>\n",
       "    <tr>\n",
       "      <th>Akt 1</th>\n",
       "      <td>158</td>\n",
       "      <td>102</td>\n",
       "    </tr>\n",
       "    <tr>\n",
       "      <th>Akt 0</th>\n",
       "      <td>83</td>\n",
       "      <td>1466</td>\n",
       "    </tr>\n",
       "  </tbody>\n",
       "</table>\n",
       "</div>"
      ],
      "text/plain": [
       "       Pred 1  Pred 0\n",
       "Akt 1     158     102\n",
       "Akt 0      83    1466"
      ]
     },
     "execution_count": 105,
     "metadata": {},
     "output_type": "execute_result"
    }
   ],
   "source": [
    "cm_dt_tuned_os = confusion_matrix(y_test, pred_test_os, labels=[1, 0])\n",
    "cm_dt_tuned_os = pd.DataFrame(data=cm_dt_tuned_os, index=['Akt 1', 'Akt 0'], columns=['Pred 1', 'Pred 0'])\n",
    "cm_dt_tuned_os"
   ]
  },
  {
   "cell_type": "code",
   "execution_count": 106,
   "metadata": {},
   "outputs": [],
   "source": [
    "tp_dt_os = cm_dt_tuned_os['Pred 1'][0]\n",
    "tn_dt_os = cm_dt_tuned_os['Pred 0'][1]\n",
    "fp_dt_os = cm_dt_tuned_os['Pred 1'][1]\n",
    "fn_dt_os = cm_dt_tuned_os['Pred 0'][0]"
   ]
  },
  {
   "cell_type": "markdown",
   "metadata": {
    "id": "PTmULUgjeg-E"
   },
   "source": [
    "### Smote"
   ]
  },
  {
   "cell_type": "code",
   "execution_count": 107,
   "metadata": {
    "id": "3K0grtLUei-6"
   },
   "outputs": [
    {
     "name": "stdout",
     "output_type": "stream",
     "text": [
      "Fitting 3 folds for each of 300 candidates, totalling 900 fits\n"
     ]
    },
    {
     "name": "stderr",
     "output_type": "stream",
     "text": [
      "[Parallel(n_jobs=-1)]: Using backend LokyBackend with 4 concurrent workers.\n",
      "[Parallel(n_jobs=-1)]: Done 128 tasks      | elapsed:    1.9s\n",
      "[Parallel(n_jobs=-1)]: Done 728 tasks      | elapsed:   10.9s\n",
      "[Parallel(n_jobs=-1)]: Done 900 out of 900 | elapsed:   13.3s finished\n"
     ]
    },
    {
     "data": {
      "text/plain": [
       "RandomizedSearchCV(cv=3, estimator=DecisionTreeClassifier(), n_iter=300,\n",
       "                   n_jobs=-1,\n",
       "                   param_distributions={'criterion': ['gini', 'entropy'],\n",
       "                                        'max_depth': [None,\n",
       "                                                      array([ 2,  3,  4,  5,  6,  7,  8,  9, 10, 11, 12, 13, 14, 15, 16, 17, 18,\n",
       "       19, 20, 21, 22, 23, 24, 25, 26, 27, 28, 29, 30, 31, 32, 33, 34, 35,\n",
       "       36, 37, 38, 39, 40, 41, 42, 43, 44, 45, 46, 47, 48, 49])],\n",
       "                                        'max_features': ['auto', 'sqrt',\n",
       "                                                         'log2'],\n",
       "                                        'min_impurity_decrease': [0, 1, 2, 3, 4,\n",
       "                                                                  5],\n",
       "                                        'min_samples_leaf': [1, 2, 3, 4, 5, 6,\n",
       "                                                             7, 8, 9, 10],\n",
       "                                        'min_samples_split': [2, 5, 10, 15, 20,\n",
       "                                                              25, 30, 35, 40,\n",
       "                                                              45, 50]},\n",
       "                   scoring='recall', verbose=1)"
      ]
     },
     "execution_count": 107,
     "metadata": {},
     "output_type": "execute_result"
    }
   ],
   "source": [
    "dt_sm = RandomizedSearchCV(estimator = decision_tree, param_distributions = param_dt, cv = 3, n_jobs = -1 , n_iter=300, verbose = 1, scoring = 'recall')\n",
    "dt_sm.fit(x_train_sm, y_train_sm)"
   ]
  },
  {
   "cell_type": "code",
   "execution_count": 108,
   "metadata": {},
   "outputs": [
    {
     "data": {
      "text/plain": [
       "DecisionTreeClassifier(max_features='auto', min_impurity_decrease=0,\n",
       "                       min_samples_leaf=3)"
      ]
     },
     "execution_count": 108,
     "metadata": {},
     "output_type": "execute_result"
    }
   ],
   "source": [
    "dt_tuned_sm = dt_sm.best_estimator_\n",
    "pred_train_os = dt_tuned_sm.predict(x_train_os)\n",
    "pred_test_os = dt_tuned_sm.predict(x_test)\n",
    "dt_tuned_sm"
   ]
  },
  {
   "cell_type": "code",
   "execution_count": 109,
   "metadata": {
    "id": "W1w28afRexFE"
   },
   "outputs": [],
   "source": [
    "dt_acc_tuned_train_sm = accuracy_score(y_train_sm, pred_train_sm)\n",
    "dt_acc_tuned_test_sm = accuracy_score(y_test, pred_test_sm)\n",
    "dt_recall_tuned_train_sm = recall_score(y_train_sm, pred_train_sm)\n",
    "dt_recall_tuned_test_sm = recall_score(y_test, pred_test_sm)\n",
    "dt_prec_tuned_train_sm = precision_score(y_train_sm, pred_train_sm)\n",
    "dt_prec_tuned_test_sm = precision_score(y_test, pred_test_sm)\n",
    "dt_f1_tuned_train_sm = f1_score(y_train_sm, pred_train_sm)\n",
    "dt_f1_tuned_test_sm = f1_score(y_test, pred_test_sm)"
   ]
  },
  {
   "cell_type": "code",
   "execution_count": 110,
   "metadata": {
    "colab": {
     "base_uri": "https://localhost:8080/",
     "height": 110
    },
    "id": "CCiO8imTe_20",
    "outputId": "071b8df1-13d0-4ca8-b92d-d80584c72d57"
   },
   "outputs": [
    {
     "data": {
      "text/html": [
       "<div>\n",
       "<style scoped>\n",
       "    .dataframe tbody tr th:only-of-type {\n",
       "        vertical-align: middle;\n",
       "    }\n",
       "\n",
       "    .dataframe tbody tr th {\n",
       "        vertical-align: top;\n",
       "    }\n",
       "\n",
       "    .dataframe thead th {\n",
       "        text-align: right;\n",
       "    }\n",
       "</style>\n",
       "<table border=\"1\" class=\"dataframe\">\n",
       "  <thead>\n",
       "    <tr style=\"text-align: right;\">\n",
       "      <th></th>\n",
       "      <th>Pred 1</th>\n",
       "      <th>Pred 0</th>\n",
       "    </tr>\n",
       "  </thead>\n",
       "  <tbody>\n",
       "    <tr>\n",
       "      <th>Akt 1</th>\n",
       "      <td>48</td>\n",
       "      <td>212</td>\n",
       "    </tr>\n",
       "    <tr>\n",
       "      <th>Akt 0</th>\n",
       "      <td>29</td>\n",
       "      <td>1520</td>\n",
       "    </tr>\n",
       "  </tbody>\n",
       "</table>\n",
       "</div>"
      ],
      "text/plain": [
       "       Pred 1  Pred 0\n",
       "Akt 1      48     212\n",
       "Akt 0      29    1520"
      ]
     },
     "execution_count": 110,
     "metadata": {},
     "output_type": "execute_result"
    }
   ],
   "source": [
    "cm_dt_tuned_sm = confusion_matrix(y_test, pred_test_sm, labels=[1, 0])\n",
    "cm_dt_tuned_sm = pd.DataFrame(data=cm_dt_tuned_sm, index=['Akt 1', 'Akt 0'], columns=['Pred 1', 'Pred 0'])\n",
    "cm_dt_tuned_sm"
   ]
  },
  {
   "cell_type": "code",
   "execution_count": 111,
   "metadata": {},
   "outputs": [],
   "source": [
    "tp_dt_sm = cm_dt_tuned_sm['Pred 1'][0]\n",
    "tn_dt_sm = cm_dt_tuned_sm['Pred 0'][1]\n",
    "fp_dt_sm = cm_dt_tuned_sm['Pred 1'][1]\n",
    "fn_dt_sm = cm_dt_tuned_sm['Pred 0'][0]"
   ]
  },
  {
   "cell_type": "markdown",
   "metadata": {
    "id": "k4gmSwwRFMZw"
   },
   "source": [
    "## Random Forest"
   ]
  },
  {
   "cell_type": "code",
   "execution_count": 112,
   "metadata": {},
   "outputs": [],
   "source": [
    "random_forest = RandomForestClassifier()"
   ]
  },
  {
   "cell_type": "code",
   "execution_count": 113,
   "metadata": {},
   "outputs": [],
   "source": [
    "param_rf =  {\"n_estimators\":np.arange(100, 1000),\n",
    "             \"criterion\" : ['gini', 'entropy'],\n",
    "             \"max_depth\": [None, np.arange(2, 20)], \n",
    "             \"min_samples_split\": np.arange(2, 19),\n",
    "             \"min_samples_leaf\": [1,2, 3, 4, 5], \n",
    "             \"max_features\" : ['auto', 'sqrt', 'log2'],\n",
    "             \"min_impurity_decrease\" : [0, 1, 2, 3, 4, 5]}"
   ]
  },
  {
   "cell_type": "markdown",
   "metadata": {
    "id": "g5TX7jSNFXzz"
   },
   "source": [
    "### Random Over Sampling"
   ]
  },
  {
   "cell_type": "code",
   "execution_count": 114,
   "metadata": {
    "id": "edYkr7oHE4zX"
   },
   "outputs": [
    {
     "name": "stdout",
     "output_type": "stream",
     "text": [
      "Fitting 3 folds for each of 300 candidates, totalling 900 fits\n"
     ]
    },
    {
     "name": "stderr",
     "output_type": "stream",
     "text": [
      "[Parallel(n_jobs=-1)]: Using backend LokyBackend with 4 concurrent workers.\n",
      "[Parallel(n_jobs=-1)]: Done  42 tasks      | elapsed:   36.1s\n",
      "[Parallel(n_jobs=-1)]: Done 192 tasks      | elapsed:  2.8min\n",
      "[Parallel(n_jobs=-1)]: Done 442 tasks      | elapsed:  5.1min\n",
      "[Parallel(n_jobs=-1)]: Done 792 tasks      | elapsed:  9.0min\n",
      "[Parallel(n_jobs=-1)]: Done 900 out of 900 | elapsed: 10.5min finished\n"
     ]
    },
    {
     "data": {
      "text/plain": [
       "RandomizedSearchCV(cv=3, estimator=RandomForestClassifier(), n_iter=300,\n",
       "                   n_jobs=-1,\n",
       "                   param_distributions={'criterion': ['gini', 'entropy'],\n",
       "                                        'max_depth': [None,\n",
       "                                                      array([ 2,  3,  4,  5,  6,  7,  8,  9, 10, 11, 12, 13, 14, 15, 16, 17, 18,\n",
       "       19])],\n",
       "                                        'max_features': ['auto', 'sqrt',\n",
       "                                                         'log2'],\n",
       "                                        'min_impurity_decrease': [0, 1, 2, 3, 4,\n",
       "                                                                  5],\n",
       "                                        'min_samples_leaf': [1, 2, 3, 4, 5],\n",
       "                                        'min_samples_split': array([ 2,  3,  4,  5,  6,...\n",
       "       919, 920, 921, 922, 923, 924, 925, 926, 927, 928, 929, 930, 931,\n",
       "       932, 933, 934, 935, 936, 937, 938, 939, 940, 941, 942, 943, 944,\n",
       "       945, 946, 947, 948, 949, 950, 951, 952, 953, 954, 955, 956, 957,\n",
       "       958, 959, 960, 961, 962, 963, 964, 965, 966, 967, 968, 969, 970,\n",
       "       971, 972, 973, 974, 975, 976, 977, 978, 979, 980, 981, 982, 983,\n",
       "       984, 985, 986, 987, 988, 989, 990, 991, 992, 993, 994, 995, 996,\n",
       "       997, 998, 999])},\n",
       "                   scoring='recall', verbose=1)"
      ]
     },
     "execution_count": 114,
     "metadata": {},
     "output_type": "execute_result"
    }
   ],
   "source": [
    "rf_os = RandomizedSearchCV(estimator = random_forest, param_distributions = param_rf, cv = 3, n_jobs = -1 , n_iter=300, verbose = 1, scoring = 'recall')\n",
    "rf_os.fit(x_train_os, y_train_os)"
   ]
  },
  {
   "cell_type": "code",
   "execution_count": 115,
   "metadata": {},
   "outputs": [
    {
     "data": {
      "text/plain": [
       "RandomForestClassifier(criterion='entropy', max_features='sqrt',\n",
       "                       min_impurity_decrease=3, min_samples_leaf=4,\n",
       "                       min_samples_split=6, n_estimators=449)"
      ]
     },
     "execution_count": 115,
     "metadata": {},
     "output_type": "execute_result"
    }
   ],
   "source": [
    "rf_tuned_os = rf_os.best_estimator_\n",
    "pred_train_os = rf_tuned_os.predict(x_train_os)\n",
    "pred_test_os = rf_tuned_os.predict(x_test)\n",
    "rf_tuned_os"
   ]
  },
  {
   "cell_type": "code",
   "execution_count": 116,
   "metadata": {
    "id": "FzJB4zMKHHYB"
   },
   "outputs": [],
   "source": [
    "rf_acc_tuned_train_os = accuracy_score(y_train_os, pred_train_os)\n",
    "rf_acc_tuned_test_os = accuracy_score(y_test, pred_test_os)\n",
    "rf_recall_tuned_train_os = recall_score(y_train_os, pred_train_os)\n",
    "rf_recall_tuned_test_os = recall_score(y_test, pred_test_os)\n",
    "rf_prec_tuned_train_os = precision_score(y_train_os, pred_train_os)\n",
    "rf_prec_tuned_test_os = precision_score(y_test, pred_test_os)\n",
    "rf_f1_tuned_train_os = f1_score(y_train_os, pred_train_os)\n",
    "rf_f1_tuned_test_os = f1_score(y_test, pred_test_os)"
   ]
  },
  {
   "cell_type": "code",
   "execution_count": 117,
   "metadata": {
    "colab": {
     "base_uri": "https://localhost:8080/",
     "height": 110
    },
    "id": "SY90tjG3HRox",
    "outputId": "9812c647-5b9e-44a8-cb15-5cd65c586ac0"
   },
   "outputs": [
    {
     "data": {
      "text/html": [
       "<div>\n",
       "<style scoped>\n",
       "    .dataframe tbody tr th:only-of-type {\n",
       "        vertical-align: middle;\n",
       "    }\n",
       "\n",
       "    .dataframe tbody tr th {\n",
       "        vertical-align: top;\n",
       "    }\n",
       "\n",
       "    .dataframe thead th {\n",
       "        text-align: right;\n",
       "    }\n",
       "</style>\n",
       "<table border=\"1\" class=\"dataframe\">\n",
       "  <thead>\n",
       "    <tr style=\"text-align: right;\">\n",
       "      <th></th>\n",
       "      <th>Pred 1</th>\n",
       "      <th>Pred 0</th>\n",
       "    </tr>\n",
       "  </thead>\n",
       "  <tbody>\n",
       "    <tr>\n",
       "      <th>Akt 1</th>\n",
       "      <td>0</td>\n",
       "      <td>260</td>\n",
       "    </tr>\n",
       "    <tr>\n",
       "      <th>Akt 0</th>\n",
       "      <td>0</td>\n",
       "      <td>1549</td>\n",
       "    </tr>\n",
       "  </tbody>\n",
       "</table>\n",
       "</div>"
      ],
      "text/plain": [
       "       Pred 1  Pred 0\n",
       "Akt 1       0     260\n",
       "Akt 0       0    1549"
      ]
     },
     "execution_count": 117,
     "metadata": {},
     "output_type": "execute_result"
    }
   ],
   "source": [
    "cm_rf_tuned_os = confusion_matrix(y_test, pred_test_os, labels=[1, 0])\n",
    "cm_rf_tuned_os = pd.DataFrame(data=cm_rf_tuned_os, index=['Akt 1', 'Akt 0'], columns=['Pred 1', 'Pred 0'])\n",
    "cm_rf_tuned_os"
   ]
  },
  {
   "cell_type": "code",
   "execution_count": 118,
   "metadata": {},
   "outputs": [],
   "source": [
    "tp_rf_os = cm_rf_tuned_os['Pred 1'][0]\n",
    "tn_rf_os = cm_rf_tuned_os['Pred 0'][1]\n",
    "fp_rf_os = cm_rf_tuned_os['Pred 1'][1]\n",
    "fn_rf_os = cm_rf_tuned_os['Pred 0'][0]"
   ]
  },
  {
   "cell_type": "markdown",
   "metadata": {
    "id": "XosiHszUfUoL"
   },
   "source": [
    "### Smote"
   ]
  },
  {
   "cell_type": "code",
   "execution_count": 119,
   "metadata": {
    "id": "_1-d-TnifV0m"
   },
   "outputs": [
    {
     "name": "stdout",
     "output_type": "stream",
     "text": [
      "Fitting 3 folds for each of 300 candidates, totalling 900 fits\n"
     ]
    },
    {
     "name": "stderr",
     "output_type": "stream",
     "text": [
      "[Parallel(n_jobs=-1)]: Using backend LokyBackend with 4 concurrent workers.\n",
      "[Parallel(n_jobs=-1)]: Done  42 tasks      | elapsed:   35.9s\n",
      "[Parallel(n_jobs=-1)]: Done 192 tasks      | elapsed:  1.9min\n",
      "[Parallel(n_jobs=-1)]: Done 442 tasks      | elapsed:  5.9min\n",
      "[Parallel(n_jobs=-1)]: Done 792 tasks      | elapsed: 10.4min\n",
      "[Parallel(n_jobs=-1)]: Done 900 out of 900 | elapsed: 12.2min finished\n"
     ]
    },
    {
     "data": {
      "text/plain": [
       "RandomizedSearchCV(cv=3, estimator=RandomForestClassifier(), n_iter=300,\n",
       "                   n_jobs=-1,\n",
       "                   param_distributions={'criterion': ['gini', 'entropy'],\n",
       "                                        'max_depth': [None,\n",
       "                                                      array([ 2,  3,  4,  5,  6,  7,  8,  9, 10, 11, 12, 13, 14, 15, 16, 17, 18,\n",
       "       19])],\n",
       "                                        'max_features': ['auto', 'sqrt',\n",
       "                                                         'log2'],\n",
       "                                        'min_impurity_decrease': [0, 1, 2, 3, 4,\n",
       "                                                                  5],\n",
       "                                        'min_samples_leaf': [1, 2, 3, 4, 5],\n",
       "                                        'min_samples_split': array([ 2,  3,  4,  5,  6,...\n",
       "       919, 920, 921, 922, 923, 924, 925, 926, 927, 928, 929, 930, 931,\n",
       "       932, 933, 934, 935, 936, 937, 938, 939, 940, 941, 942, 943, 944,\n",
       "       945, 946, 947, 948, 949, 950, 951, 952, 953, 954, 955, 956, 957,\n",
       "       958, 959, 960, 961, 962, 963, 964, 965, 966, 967, 968, 969, 970,\n",
       "       971, 972, 973, 974, 975, 976, 977, 978, 979, 980, 981, 982, 983,\n",
       "       984, 985, 986, 987, 988, 989, 990, 991, 992, 993, 994, 995, 996,\n",
       "       997, 998, 999])},\n",
       "                   scoring='recall', verbose=1)"
      ]
     },
     "execution_count": 119,
     "metadata": {},
     "output_type": "execute_result"
    }
   ],
   "source": [
    "rf_sm = RandomizedSearchCV(estimator = random_forest, param_distributions = param_rf, cv = 3, n_jobs = -1 , n_iter=300, verbose = 1, scoring = 'recall')\n",
    "rf_sm.fit(x_train_sm, y_train_sm)"
   ]
  },
  {
   "cell_type": "code",
   "execution_count": 122,
   "metadata": {},
   "outputs": [
    {
     "data": {
      "text/plain": [
       "RandomForestClassifier(criterion='entropy', max_features='log2',\n",
       "                       min_impurity_decrease=1, min_samples_split=15,\n",
       "                       n_estimators=113)"
      ]
     },
     "execution_count": 122,
     "metadata": {},
     "output_type": "execute_result"
    }
   ],
   "source": [
    "rf_tuned_sm = rf_sm.best_estimator_\n",
    "pred_train_sm = rf_tuned_sm.predict(x_train_sm)\n",
    "pred_test_sm = rf_tuned_sm.predict(x_test)\n",
    "rf_tuned_sm"
   ]
  },
  {
   "cell_type": "code",
   "execution_count": 123,
   "metadata": {
    "id": "oJcykPsrfcBV"
   },
   "outputs": [],
   "source": [
    "rf_acc_tuned_train_sm = accuracy_score(y_train_sm, pred_train_sm)\n",
    "rf_acc_tuned_test_sm = accuracy_score(y_test, pred_test_sm)\n",
    "rf_recall_tuned_train_sm = recall_score(y_train_sm, pred_train_sm)\n",
    "rf_recall_tuned_test_sm = recall_score(y_test, pred_test_sm)\n",
    "rf_prec_tuned_train_sm = precision_score(y_train_sm, pred_train_sm)\n",
    "rf_prec_tuned_test_sm = precision_score(y_test, pred_test_sm)\n",
    "rf_f1_tuned_train_sm = f1_score(y_train_sm, pred_train_sm)\n",
    "rf_f1_tuned_test_sm = f1_score(y_test, pred_test_sm)"
   ]
  },
  {
   "cell_type": "code",
   "execution_count": 124,
   "metadata": {
    "colab": {
     "base_uri": "https://localhost:8080/",
     "height": 110
    },
    "id": "bq5oVum-fueT",
    "outputId": "b740a1b1-5b5d-4b00-d43f-e8f3cc163e68"
   },
   "outputs": [
    {
     "data": {
      "text/html": [
       "<div>\n",
       "<style scoped>\n",
       "    .dataframe tbody tr th:only-of-type {\n",
       "        vertical-align: middle;\n",
       "    }\n",
       "\n",
       "    .dataframe tbody tr th {\n",
       "        vertical-align: top;\n",
       "    }\n",
       "\n",
       "    .dataframe thead th {\n",
       "        text-align: right;\n",
       "    }\n",
       "</style>\n",
       "<table border=\"1\" class=\"dataframe\">\n",
       "  <thead>\n",
       "    <tr style=\"text-align: right;\">\n",
       "      <th></th>\n",
       "      <th>Pred 1</th>\n",
       "      <th>Pred 0</th>\n",
       "    </tr>\n",
       "  </thead>\n",
       "  <tbody>\n",
       "    <tr>\n",
       "      <th>Akt 1</th>\n",
       "      <td>260</td>\n",
       "      <td>0</td>\n",
       "    </tr>\n",
       "    <tr>\n",
       "      <th>Akt 0</th>\n",
       "      <td>1549</td>\n",
       "      <td>0</td>\n",
       "    </tr>\n",
       "  </tbody>\n",
       "</table>\n",
       "</div>"
      ],
      "text/plain": [
       "       Pred 1  Pred 0\n",
       "Akt 1     260       0\n",
       "Akt 0    1549       0"
      ]
     },
     "execution_count": 124,
     "metadata": {},
     "output_type": "execute_result"
    }
   ],
   "source": [
    "cm_rf_tuned_sm = confusion_matrix(y_test, pred_test_sm, labels=[1, 0])\n",
    "cm_rf_tuned_sm = pd.DataFrame(data=cm_rf_tuned_sm, index=['Akt 1', 'Akt 0'], columns=['Pred 1', 'Pred 0'])\n",
    "cm_rf_tuned_sm"
   ]
  },
  {
   "cell_type": "code",
   "execution_count": 125,
   "metadata": {},
   "outputs": [],
   "source": [
    "tp_rf_sm = cm_rf_tuned_sm['Pred 1'][0]\n",
    "tn_rf_sm = cm_rf_tuned_sm['Pred 0'][1]\n",
    "fp_rf_sm = cm_rf_tuned_sm['Pred 1'][1]\n",
    "fn_rf_sm = cm_rf_tuned_sm['Pred 0'][0]"
   ]
  },
  {
   "cell_type": "markdown",
   "metadata": {
    "id": "MlBbwjN4Myr2"
   },
   "source": [
    "## XGBoost"
   ]
  },
  {
   "cell_type": "code",
   "execution_count": 127,
   "metadata": {},
   "outputs": [],
   "source": [
    "xgb = XGBClassifier()"
   ]
  },
  {
   "cell_type": "code",
   "execution_count": 128,
   "metadata": {},
   "outputs": [],
   "source": [
    "param_xgb =  {\"n_estimators\" : np.arange(100, 200),\n",
    "              \"learning_rate\" : np.arange(0.0001, 10),\n",
    "              \"max_depth\": [None, np.arange(2,50)],\n",
    "              \"colsample_bytree\" : [None, .1, .2, .3, .4, .5, .6, .7, .8],\n",
    "              \"subsample\": [None, .1, .2, .3, .4, .5, .6, .7, .8],\n",
    "              \"min_samples_split\": [2, 5, 10, 15, 20, 25, 30, 35, 40, 45, 50],\n",
    "              \"min_samples_leaf\": [1, 2, 3, 4, 5, 6, 7, 8, 9, 10], \n",
    "              \"min_impurity_decrease\" : [0, 1, 2, 3, 4, 5]}"
   ]
  },
  {
   "cell_type": "markdown",
   "metadata": {
    "id": "4oBwYY3uM4J1"
   },
   "source": [
    "### Random Over Sampling"
   ]
  },
  {
   "cell_type": "code",
   "execution_count": 129,
   "metadata": {
    "id": "p0XnaKmOJ8zg"
   },
   "outputs": [
    {
     "name": "stdout",
     "output_type": "stream",
     "text": [
      "Fitting 3 folds for each of 300 candidates, totalling 900 fits\n"
     ]
    },
    {
     "name": "stderr",
     "output_type": "stream",
     "text": [
      "[Parallel(n_jobs=-1)]: Using backend LokyBackend with 4 concurrent workers.\n",
      "[Parallel(n_jobs=-1)]: Done  42 tasks      | elapsed:   23.1s\n",
      "[Parallel(n_jobs=-1)]: Done 192 tasks      | elapsed:  1.1min\n",
      "[Parallel(n_jobs=-1)]: Done 442 tasks      | elapsed:  2.6min\n",
      "[Parallel(n_jobs=-1)]: Done 792 tasks      | elapsed:  4.5min\n",
      "[Parallel(n_jobs=-1)]: Done 900 out of 900 | elapsed:  4.9min finished\n"
     ]
    },
    {
     "name": "stdout",
     "output_type": "stream",
     "text": [
      "[14:23:31] WARNING: C:\\Users\\Administrator\\workspace\\xgboost-win64_release_1.2.0\\src\\learner.cc:516: \n",
      "Parameters: { min_impurity_decrease, min_samples_leaf, min_samples_split } might not be used.\n",
      "\n",
      "  This may not be accurate due to some parameters are only used in language bindings but\n",
      "  passed down to XGBoost core.  Or some parameters are not used but slip through this\n",
      "  verification. Please open an issue if you find above cases.\n",
      "\n",
      "\n"
     ]
    },
    {
     "data": {
      "text/plain": [
       "RandomizedSearchCV(cv=3,\n",
       "                   estimator=XGBClassifier(base_score=None, booster=None,\n",
       "                                           colsample_bylevel=None,\n",
       "                                           colsample_bynode=None,\n",
       "                                           colsample_bytree=None, gamma=None,\n",
       "                                           gpu_id=None, importance_type='gain',\n",
       "                                           interaction_constraints=None,\n",
       "                                           learning_rate=None,\n",
       "                                           max_delta_step=None, max_depth=None,\n",
       "                                           min_child_weight=None, missing=nan,\n",
       "                                           monotone_constraints=None,\n",
       "                                           n_estimators=100,...\n",
       "       126, 127, 128, 129, 130, 131, 132, 133, 134, 135, 136, 137, 138,\n",
       "       139, 140, 141, 142, 143, 144, 145, 146, 147, 148, 149, 150, 151,\n",
       "       152, 153, 154, 155, 156, 157, 158, 159, 160, 161, 162, 163, 164,\n",
       "       165, 166, 167, 168, 169, 170, 171, 172, 173, 174, 175, 176, 177,\n",
       "       178, 179, 180, 181, 182, 183, 184, 185, 186, 187, 188, 189, 190,\n",
       "       191, 192, 193, 194, 195, 196, 197, 198, 199]),\n",
       "                                        'subsample': [None, 0.1, 0.2, 0.3, 0.4,\n",
       "                                                      0.5, 0.6, 0.7, 0.8]},\n",
       "                   scoring='recall', verbose=1)"
      ]
     },
     "execution_count": 129,
     "metadata": {},
     "output_type": "execute_result"
    }
   ],
   "source": [
    "xgb_os = RandomizedSearchCV(estimator = xgb, param_distributions = param_xgb, cv = 3, n_jobs = -1 , n_iter=300, verbose = 1, scoring = 'recall')\n",
    "xgb_os.fit(x_train_os, y_train_os)"
   ]
  },
  {
   "cell_type": "code",
   "execution_count": 130,
   "metadata": {},
   "outputs": [
    {
     "data": {
      "text/plain": [
       "XGBClassifier(base_score=0.5, booster='gbtree', colsample_bylevel=1,\n",
       "              colsample_bynode=1, colsample_bytree=0.7, gamma=0, gpu_id=-1,\n",
       "              importance_type='gain', interaction_constraints='',\n",
       "              learning_rate=1.0001, max_delta_step=0, max_depth=6,\n",
       "              min_child_weight=1, min_impurity_decrease=3, min_samples_leaf=2,\n",
       "              min_samples_split=50, missing=nan, monotone_constraints='()',\n",
       "              n_estimators=183, n_jobs=0, num_parallel_tree=1, random_state=0,\n",
       "              reg_alpha=0, reg_lambda=1, scale_pos_weight=1, subsample=1,\n",
       "              tree_method='exact', validate_parameters=1, verbosity=None)"
      ]
     },
     "execution_count": 130,
     "metadata": {},
     "output_type": "execute_result"
    }
   ],
   "source": [
    "xgb_tuned_os = xgb_os.best_estimator_\n",
    "pred_train_os = xgb_tuned_os.predict(x_train_os)\n",
    "pred_test_os = xgb_tuned_os.predict(x_test)\n",
    "xgb_tuned_os"
   ]
  },
  {
   "cell_type": "code",
   "execution_count": 131,
   "metadata": {
    "id": "BQwpVhPrNpK7"
   },
   "outputs": [],
   "source": [
    "xgb_acc_tuned_train_os = accuracy_score(y_train_os, pred_train_os)\n",
    "xgb_acc_tuned_test_os = accuracy_score(y_test, pred_test_os)\n",
    "xgb_recall_tuned_train_os = recall_score(y_train_os, pred_train_os)\n",
    "xgb_recall_tuned_test_os = recall_score(y_test, pred_test_os)\n",
    "xgb_prec_tuned_train_os = precision_score(y_train_os, pred_train_os)\n",
    "xgb_prec_tuned_test_os = precision_score(y_test, pred_test_os)\n",
    "xgb_f1_tuned_train_os = f1_score(y_train_os, pred_train_os)\n",
    "xgb_f1_tuned_test_os = f1_score(y_test, pred_test_os)"
   ]
  },
  {
   "cell_type": "code",
   "execution_count": 132,
   "metadata": {
    "colab": {
     "base_uri": "https://localhost:8080/",
     "height": 110
    },
    "id": "3rVuHPGkNxxP",
    "outputId": "e85ce5d9-a168-4155-b5c4-4932dbd10288"
   },
   "outputs": [
    {
     "data": {
      "text/html": [
       "<div>\n",
       "<style scoped>\n",
       "    .dataframe tbody tr th:only-of-type {\n",
       "        vertical-align: middle;\n",
       "    }\n",
       "\n",
       "    .dataframe tbody tr th {\n",
       "        vertical-align: top;\n",
       "    }\n",
       "\n",
       "    .dataframe thead th {\n",
       "        text-align: right;\n",
       "    }\n",
       "</style>\n",
       "<table border=\"1\" class=\"dataframe\">\n",
       "  <thead>\n",
       "    <tr style=\"text-align: right;\">\n",
       "      <th></th>\n",
       "      <th>Pred 1</th>\n",
       "      <th>Pred 0</th>\n",
       "    </tr>\n",
       "  </thead>\n",
       "  <tbody>\n",
       "    <tr>\n",
       "      <th>Akt 1</th>\n",
       "      <td>140</td>\n",
       "      <td>120</td>\n",
       "    </tr>\n",
       "    <tr>\n",
       "      <th>Akt 0</th>\n",
       "      <td>27</td>\n",
       "      <td>1522</td>\n",
       "    </tr>\n",
       "  </tbody>\n",
       "</table>\n",
       "</div>"
      ],
      "text/plain": [
       "       Pred 1  Pred 0\n",
       "Akt 1     140     120\n",
       "Akt 0      27    1522"
      ]
     },
     "execution_count": 132,
     "metadata": {},
     "output_type": "execute_result"
    }
   ],
   "source": [
    "cm_xgb_tuned_os = confusion_matrix(y_test, pred_test_os, labels=[1, 0])\n",
    "cm_xgb_tuned_os = pd.DataFrame(data=cm_xgb_tuned_os, index=['Akt 1', 'Akt 0'], columns=['Pred 1', 'Pred 0'])\n",
    "cm_xgb_tuned_os"
   ]
  },
  {
   "cell_type": "code",
   "execution_count": 133,
   "metadata": {},
   "outputs": [],
   "source": [
    "tp_xgb_os = cm_xgb_tuned_os['Pred 1'][0]\n",
    "tn_xgb_os = cm_xgb_tuned_os['Pred 0'][1]\n",
    "fp_xgb_os = cm_xgb_tuned_os['Pred 1'][1]\n",
    "fn_xgb_os = cm_xgb_tuned_os['Pred 0'][0]"
   ]
  },
  {
   "cell_type": "markdown",
   "metadata": {
    "id": "7x0Nj2-if3Gb"
   },
   "source": [
    "### Smote"
   ]
  },
  {
   "cell_type": "code",
   "execution_count": 134,
   "metadata": {
    "colab": {
     "base_uri": "https://localhost:8080/",
     "height": 640
    },
    "id": "wWbyCGWRf4Zs",
    "outputId": "648be3e8-3389-4c5c-8f35-1d91645d5bc7"
   },
   "outputs": [
    {
     "name": "stdout",
     "output_type": "stream",
     "text": [
      "Fitting 3 folds for each of 300 candidates, totalling 900 fits\n"
     ]
    },
    {
     "name": "stderr",
     "output_type": "stream",
     "text": [
      "[Parallel(n_jobs=-1)]: Using backend LokyBackend with 4 concurrent workers.\n",
      "[Parallel(n_jobs=-1)]: Done  42 tasks      | elapsed:    6.2s\n",
      "[Parallel(n_jobs=-1)]: Done 192 tasks      | elapsed:   48.4s\n",
      "[Parallel(n_jobs=-1)]: Done 442 tasks      | elapsed:  2.5min\n",
      "[Parallel(n_jobs=-1)]: Done 792 tasks      | elapsed:  4.8min\n",
      "[Parallel(n_jobs=-1)]: Done 900 out of 900 | elapsed:  6.0min finished\n"
     ]
    },
    {
     "name": "stdout",
     "output_type": "stream",
     "text": [
      "[14:30:02] WARNING: C:\\Users\\Administrator\\workspace\\xgboost-win64_release_1.2.0\\src\\learner.cc:516: \n",
      "Parameters: { min_impurity_decrease, min_samples_leaf, min_samples_split } might not be used.\n",
      "\n",
      "  This may not be accurate due to some parameters are only used in language bindings but\n",
      "  passed down to XGBoost core.  Or some parameters are not used but slip through this\n",
      "  verification. Please open an issue if you find above cases.\n",
      "\n",
      "\n"
     ]
    },
    {
     "data": {
      "text/plain": [
       "RandomizedSearchCV(cv=3,\n",
       "                   estimator=XGBClassifier(base_score=None, booster=None,\n",
       "                                           colsample_bylevel=None,\n",
       "                                           colsample_bynode=None,\n",
       "                                           colsample_bytree=None, gamma=None,\n",
       "                                           gpu_id=None, importance_type='gain',\n",
       "                                           interaction_constraints=None,\n",
       "                                           learning_rate=None,\n",
       "                                           max_delta_step=None, max_depth=None,\n",
       "                                           min_child_weight=None, missing=nan,\n",
       "                                           monotone_constraints=None,\n",
       "                                           n_estimators=100,...\n",
       "       126, 127, 128, 129, 130, 131, 132, 133, 134, 135, 136, 137, 138,\n",
       "       139, 140, 141, 142, 143, 144, 145, 146, 147, 148, 149, 150, 151,\n",
       "       152, 153, 154, 155, 156, 157, 158, 159, 160, 161, 162, 163, 164,\n",
       "       165, 166, 167, 168, 169, 170, 171, 172, 173, 174, 175, 176, 177,\n",
       "       178, 179, 180, 181, 182, 183, 184, 185, 186, 187, 188, 189, 190,\n",
       "       191, 192, 193, 194, 195, 196, 197, 198, 199]),\n",
       "                                        'subsample': [None, 0.1, 0.2, 0.3, 0.4,\n",
       "                                                      0.5, 0.6, 0.7, 0.8]},\n",
       "                   scoring='recall', verbose=1)"
      ]
     },
     "execution_count": 134,
     "metadata": {},
     "output_type": "execute_result"
    }
   ],
   "source": [
    "xgb_sm = RandomizedSearchCV(estimator = xgb, param_distributions = param_xgb, cv = 3, n_jobs = -1 , n_iter=300, verbose = 1, scoring = 'recall')\n",
    "xgb_sm.fit(x_train_sm, y_train_sm)"
   ]
  },
  {
   "cell_type": "code",
   "execution_count": 135,
   "metadata": {},
   "outputs": [
    {
     "data": {
      "text/plain": [
       "XGBClassifier(base_score=0.5, booster='gbtree', colsample_bylevel=1,\n",
       "              colsample_bynode=1, colsample_bytree=0.3, gamma=0, gpu_id=-1,\n",
       "              importance_type='gain', interaction_constraints='',\n",
       "              learning_rate=5.0001, max_delta_step=0, max_depth=6,\n",
       "              min_child_weight=1, min_impurity_decrease=2, min_samples_leaf=7,\n",
       "              min_samples_split=30, missing=nan, monotone_constraints='()',\n",
       "              n_estimators=179, n_jobs=0, num_parallel_tree=1, random_state=0,\n",
       "              reg_alpha=0, reg_lambda=1, scale_pos_weight=1, subsample=0.8,\n",
       "              tree_method='exact', validate_parameters=1, verbosity=None)"
      ]
     },
     "execution_count": 135,
     "metadata": {},
     "output_type": "execute_result"
    }
   ],
   "source": [
    "xgb_tuned_sm = xgb_sm.best_estimator_\n",
    "pred_train_sm = xgb_tuned_sm.predict(x_train_sm)\n",
    "pred_test_sm = xgb_tuned_sm.predict(x_test)\n",
    "xgb_tuned_sm"
   ]
  },
  {
   "cell_type": "code",
   "execution_count": 136,
   "metadata": {
    "id": "G46VRBA9gBL2"
   },
   "outputs": [],
   "source": [
    "xgb_acc_tuned_train_sm = accuracy_score(y_train_sm, pred_train_sm)\n",
    "xgb_acc_tuned_test_sm = accuracy_score(y_test, pred_test_sm)\n",
    "xgb_recall_tuned_train_sm = recall_score(y_train_sm, pred_train_sm)\n",
    "xgb_recall_tuned_test_sm = recall_score(y_test, pred_test_sm)\n",
    "xgb_prec_tuned_train_sm = precision_score(y_train_sm, pred_train_sm)\n",
    "xgb_prec_tuned_test_sm = precision_score(y_test, pred_test_sm)\n",
    "xgb_f1_tuned_train_sm = f1_score(y_train_sm, pred_train_sm)\n",
    "xgb_f1_tuned_test_sm = f1_score(y_test, pred_test_sm)"
   ]
  },
  {
   "cell_type": "code",
   "execution_count": 137,
   "metadata": {
    "id": "SrFkHPp0gNY1"
   },
   "outputs": [
    {
     "data": {
      "text/html": [
       "<div>\n",
       "<style scoped>\n",
       "    .dataframe tbody tr th:only-of-type {\n",
       "        vertical-align: middle;\n",
       "    }\n",
       "\n",
       "    .dataframe tbody tr th {\n",
       "        vertical-align: top;\n",
       "    }\n",
       "\n",
       "    .dataframe thead th {\n",
       "        text-align: right;\n",
       "    }\n",
       "</style>\n",
       "<table border=\"1\" class=\"dataframe\">\n",
       "  <thead>\n",
       "    <tr style=\"text-align: right;\">\n",
       "      <th></th>\n",
       "      <th>Pred 1</th>\n",
       "      <th>Pred 0</th>\n",
       "    </tr>\n",
       "  </thead>\n",
       "  <tbody>\n",
       "    <tr>\n",
       "      <th>Akt 1</th>\n",
       "      <td>260</td>\n",
       "      <td>0</td>\n",
       "    </tr>\n",
       "    <tr>\n",
       "      <th>Akt 0</th>\n",
       "      <td>1549</td>\n",
       "      <td>0</td>\n",
       "    </tr>\n",
       "  </tbody>\n",
       "</table>\n",
       "</div>"
      ],
      "text/plain": [
       "       Pred 1  Pred 0\n",
       "Akt 1     260       0\n",
       "Akt 0    1549       0"
      ]
     },
     "execution_count": 137,
     "metadata": {},
     "output_type": "execute_result"
    }
   ],
   "source": [
    "cm_xgb_tuned_sm = confusion_matrix(y_test, pred_test_sm, labels=[1, 0])\n",
    "cm_xgb_tuned_sm = pd.DataFrame(data=cm_xgb_tuned_sm, index=['Akt 1', 'Akt 0'], columns=['Pred 1', 'Pred 0'])\n",
    "cm_xgb_tuned_sm"
   ]
  },
  {
   "cell_type": "code",
   "execution_count": 138,
   "metadata": {},
   "outputs": [],
   "source": [
    "tp_xgb_sm = cm_xgb_tuned_sm['Pred 1'][0]\n",
    "tn_xgb_sm = cm_xgb_tuned_sm['Pred 0'][1]\n",
    "fp_xgb_sm = cm_xgb_tuned_sm['Pred 1'][1]\n",
    "fn_xgb_sm = cm_xgb_tuned_sm['Pred 0'][0]"
   ]
  },
  {
   "cell_type": "markdown",
   "metadata": {
    "id": "XguosidogXFU"
   },
   "source": [
    "## Evaluation Matrix For DT, RF, XGB"
   ]
  },
  {
   "cell_type": "code",
   "execution_count": 139,
   "metadata": {
    "id": "PTvHNsTwgSa7"
   },
   "outputs": [],
   "source": [
    "tuned_os = {\n",
    "    \"DT OS Train\": [dt_acc_tuned_train_os, dt_recall_tuned_train_os, dt_prec_tuned_train_os, dt_f1_tuned_train_os],\n",
    "    \"DT OS Test\" : [dt_acc_tuned_test_os, dt_recall_tuned_test_os, dt_prec_tuned_test_os, dt_f1_tuned_test_os],\n",
    "    \"RF OS Train\": [rf_acc_tuned_train_os, rf_recall_tuned_train_os, rf_prec_tuned_train_os, rf_f1_tuned_train_os],\n",
    "    \"RF OS Test\" : [rf_acc_tuned_test_os, rf_recall_tuned_test_os, rf_prec_tuned_test_os, rf_f1_tuned_test_os],\n",
    "    \"XGB OS Train\": [xgb_acc_tuned_train_os, xgb_recall_tuned_train_os, xgb_prec_tuned_train_os, xgb_f1_tuned_train_os],\n",
    "    \"XGB OS Test\" : [xgb_acc_tuned_test_os, xgb_recall_tuned_test_os, xgb_prec_tuned_test_os, xgb_f1_tuned_test_os]}\n",
    "\n",
    "tuned_os_matrix = pd.DataFrame(data = tuned_os, index = ['Accuracy', 'Recall', 'Precision', 'F1 Score'])\n",
    "\n",
    "tuned_sm = {\n",
    "    \"DT SM Train\": [dt_acc_tuned_train_sm, dt_recall_tuned_train_sm, dt_prec_tuned_train_sm, dt_f1_tuned_train_sm],\n",
    "    \"DT SM Test\" : [dt_acc_tuned_test_sm, dt_recall_tuned_test_sm, dt_prec_tuned_test_sm, dt_f1_tuned_test_sm],\n",
    "    \"RF SM Train\": [rf_acc_tuned_train_sm, rf_recall_tuned_train_sm, rf_prec_tuned_train_sm, rf_f1_tuned_train_sm],\n",
    "    \"RF SM Test\" : [rf_acc_tuned_test_sm, rf_recall_tuned_test_sm, rf_prec_tuned_test_sm, rf_f1_tuned_test_sm],\n",
    "    \"XGB SM Train\": [xgb_acc_tuned_train_sm, xgb_recall_tuned_train_sm, xgb_prec_tuned_train_sm, xgb_f1_tuned_train_sm],\n",
    "    \"XGB SM Test\" : [xgb_acc_tuned_test_sm, xgb_recall_tuned_test_sm, xgb_prec_tuned_test_sm, xgb_f1_tuned_test_sm]}\n",
    "\n",
    "tuned_sm_matrix = pd.DataFrame(data = tuned_sm, index = ['Accuracy', 'Recall', 'Precision', 'F1 Score'])\n"
   ]
  },
  {
   "cell_type": "code",
   "execution_count": 140,
   "metadata": {},
   "outputs": [
    {
     "data": {
      "text/html": [
       "<div>\n",
       "<style scoped>\n",
       "    .dataframe tbody tr th:only-of-type {\n",
       "        vertical-align: middle;\n",
       "    }\n",
       "\n",
       "    .dataframe tbody tr th {\n",
       "        vertical-align: top;\n",
       "    }\n",
       "\n",
       "    .dataframe thead th {\n",
       "        text-align: right;\n",
       "    }\n",
       "</style>\n",
       "<table border=\"1\" class=\"dataframe\">\n",
       "  <thead>\n",
       "    <tr style=\"text-align: right;\">\n",
       "      <th></th>\n",
       "      <th>DT OS Train</th>\n",
       "      <th>DT OS Test</th>\n",
       "      <th>RF OS Train</th>\n",
       "      <th>RF OS Test</th>\n",
       "      <th>XGB OS Train</th>\n",
       "      <th>XGB OS Test</th>\n",
       "    </tr>\n",
       "  </thead>\n",
       "  <tbody>\n",
       "    <tr>\n",
       "      <th>Accuracy</th>\n",
       "      <td>1.0</td>\n",
       "      <td>0.897734</td>\n",
       "      <td>0.5</td>\n",
       "      <td>0.856274</td>\n",
       "      <td>1.0</td>\n",
       "      <td>0.918740</td>\n",
       "    </tr>\n",
       "    <tr>\n",
       "      <th>Recall</th>\n",
       "      <td>1.0</td>\n",
       "      <td>0.607692</td>\n",
       "      <td>0.0</td>\n",
       "      <td>0.000000</td>\n",
       "      <td>1.0</td>\n",
       "      <td>0.538462</td>\n",
       "    </tr>\n",
       "    <tr>\n",
       "      <th>Precision</th>\n",
       "      <td>1.0</td>\n",
       "      <td>0.655602</td>\n",
       "      <td>0.0</td>\n",
       "      <td>0.000000</td>\n",
       "      <td>1.0</td>\n",
       "      <td>0.838323</td>\n",
       "    </tr>\n",
       "    <tr>\n",
       "      <th>F1 Score</th>\n",
       "      <td>1.0</td>\n",
       "      <td>0.630739</td>\n",
       "      <td>0.0</td>\n",
       "      <td>0.000000</td>\n",
       "      <td>1.0</td>\n",
       "      <td>0.655738</td>\n",
       "    </tr>\n",
       "  </tbody>\n",
       "</table>\n",
       "</div>"
      ],
      "text/plain": [
       "           DT OS Train  DT OS Test  RF OS Train  RF OS Test  XGB OS Train  \\\n",
       "Accuracy           1.0    0.897734          0.5    0.856274           1.0   \n",
       "Recall             1.0    0.607692          0.0    0.000000           1.0   \n",
       "Precision          1.0    0.655602          0.0    0.000000           1.0   \n",
       "F1 Score           1.0    0.630739          0.0    0.000000           1.0   \n",
       "\n",
       "           XGB OS Test  \n",
       "Accuracy      0.918740  \n",
       "Recall        0.538462  \n",
       "Precision     0.838323  \n",
       "F1 Score      0.655738  "
      ]
     },
     "execution_count": 140,
     "metadata": {},
     "output_type": "execute_result"
    }
   ],
   "source": [
    "tuned_os_matrix"
   ]
  },
  {
   "cell_type": "code",
   "execution_count": 141,
   "metadata": {},
   "outputs": [
    {
     "data": {
      "text/html": [
       "<div>\n",
       "<style scoped>\n",
       "    .dataframe tbody tr th:only-of-type {\n",
       "        vertical-align: middle;\n",
       "    }\n",
       "\n",
       "    .dataframe tbody tr th {\n",
       "        vertical-align: top;\n",
       "    }\n",
       "\n",
       "    .dataframe thead th {\n",
       "        text-align: right;\n",
       "    }\n",
       "</style>\n",
       "<table border=\"1\" class=\"dataframe\">\n",
       "  <thead>\n",
       "    <tr style=\"text-align: right;\">\n",
       "      <th></th>\n",
       "      <th>DT SM Train</th>\n",
       "      <th>DT SM Test</th>\n",
       "      <th>RF SM Train</th>\n",
       "      <th>RF SM Test</th>\n",
       "      <th>XGB SM Train</th>\n",
       "      <th>XGB SM Test</th>\n",
       "    </tr>\n",
       "  </thead>\n",
       "  <tbody>\n",
       "    <tr>\n",
       "      <th>Accuracy</th>\n",
       "      <td>0.909832</td>\n",
       "      <td>0.866777</td>\n",
       "      <td>0.500000</td>\n",
       "      <td>0.143726</td>\n",
       "      <td>0.500000</td>\n",
       "      <td>0.143726</td>\n",
       "    </tr>\n",
       "    <tr>\n",
       "      <th>Recall</th>\n",
       "      <td>0.836939</td>\n",
       "      <td>0.184615</td>\n",
       "      <td>1.000000</td>\n",
       "      <td>1.000000</td>\n",
       "      <td>1.000000</td>\n",
       "      <td>1.000000</td>\n",
       "    </tr>\n",
       "    <tr>\n",
       "      <th>Precision</th>\n",
       "      <td>0.979777</td>\n",
       "      <td>0.623377</td>\n",
       "      <td>0.500000</td>\n",
       "      <td>0.143726</td>\n",
       "      <td>0.500000</td>\n",
       "      <td>0.143726</td>\n",
       "    </tr>\n",
       "    <tr>\n",
       "      <th>F1 Score</th>\n",
       "      <td>0.902743</td>\n",
       "      <td>0.284866</td>\n",
       "      <td>0.666667</td>\n",
       "      <td>0.251329</td>\n",
       "      <td>0.666667</td>\n",
       "      <td>0.251329</td>\n",
       "    </tr>\n",
       "  </tbody>\n",
       "</table>\n",
       "</div>"
      ],
      "text/plain": [
       "           DT SM Train  DT SM Test  RF SM Train  RF SM Test  XGB SM Train  \\\n",
       "Accuracy      0.909832    0.866777     0.500000    0.143726      0.500000   \n",
       "Recall        0.836939    0.184615     1.000000    1.000000      1.000000   \n",
       "Precision     0.979777    0.623377     0.500000    0.143726      0.500000   \n",
       "F1 Score      0.902743    0.284866     0.666667    0.251329      0.666667   \n",
       "\n",
       "           XGB SM Test  \n",
       "Accuracy      0.143726  \n",
       "Recall        1.000000  \n",
       "Precision     0.143726  \n",
       "F1 Score      0.251329  "
      ]
     },
     "execution_count": 141,
     "metadata": {},
     "output_type": "execute_result"
    }
   ],
   "source": [
    "tuned_sm_matrix"
   ]
  },
  {
   "cell_type": "code",
   "execution_count": 143,
   "metadata": {},
   "outputs": [
    {
     "data": {
      "text/html": [
       "<div>\n",
       "<style scoped>\n",
       "    .dataframe tbody tr th:only-of-type {\n",
       "        vertical-align: middle;\n",
       "    }\n",
       "\n",
       "    .dataframe tbody tr th {\n",
       "        vertical-align: top;\n",
       "    }\n",
       "\n",
       "    .dataframe thead th {\n",
       "        text-align: right;\n",
       "    }\n",
       "</style>\n",
       "<table border=\"1\" class=\"dataframe\">\n",
       "  <thead>\n",
       "    <tr style=\"text-align: right;\">\n",
       "      <th></th>\n",
       "      <th>True Positive</th>\n",
       "      <th>True Negative</th>\n",
       "      <th>False Positive</th>\n",
       "      <th>False Negative</th>\n",
       "    </tr>\n",
       "  </thead>\n",
       "  <tbody>\n",
       "    <tr>\n",
       "      <th>SVM OS</th>\n",
       "      <td>260</td>\n",
       "      <td>1548</td>\n",
       "      <td>1</td>\n",
       "      <td>0</td>\n",
       "    </tr>\n",
       "    <tr>\n",
       "      <th>Random Forest SM</th>\n",
       "      <td>260</td>\n",
       "      <td>0</td>\n",
       "      <td>1549</td>\n",
       "      <td>0</td>\n",
       "    </tr>\n",
       "    <tr>\n",
       "      <th>SVM SM</th>\n",
       "      <td>260</td>\n",
       "      <td>23</td>\n",
       "      <td>1526</td>\n",
       "      <td>0</td>\n",
       "    </tr>\n",
       "    <tr>\n",
       "      <th>XGBoost SM</th>\n",
       "      <td>260</td>\n",
       "      <td>0</td>\n",
       "      <td>1549</td>\n",
       "      <td>0</td>\n",
       "    </tr>\n",
       "    <tr>\n",
       "      <th>Logreg SM MinMax</th>\n",
       "      <td>258</td>\n",
       "      <td>5</td>\n",
       "      <td>1544</td>\n",
       "      <td>2</td>\n",
       "    </tr>\n",
       "    <tr>\n",
       "      <th>Logreg OS MinMax</th>\n",
       "      <td>256</td>\n",
       "      <td>5</td>\n",
       "      <td>1544</td>\n",
       "      <td>4</td>\n",
       "    </tr>\n",
       "    <tr>\n",
       "      <th>Logreg SM Robust</th>\n",
       "      <td>249</td>\n",
       "      <td>590</td>\n",
       "      <td>959</td>\n",
       "      <td>11</td>\n",
       "    </tr>\n",
       "    <tr>\n",
       "      <th>Logreg OS Standard</th>\n",
       "      <td>243</td>\n",
       "      <td>1501</td>\n",
       "      <td>48</td>\n",
       "      <td>17</td>\n",
       "    </tr>\n",
       "    <tr>\n",
       "      <th>Logreg OS Robust</th>\n",
       "      <td>243</td>\n",
       "      <td>1486</td>\n",
       "      <td>63</td>\n",
       "      <td>17</td>\n",
       "    </tr>\n",
       "    <tr>\n",
       "      <th>Logreg SM Standard</th>\n",
       "      <td>242</td>\n",
       "      <td>891</td>\n",
       "      <td>658</td>\n",
       "      <td>18</td>\n",
       "    </tr>\n",
       "    <tr>\n",
       "      <th>Logreg OS Robust</th>\n",
       "      <td>213</td>\n",
       "      <td>809</td>\n",
       "      <td>740</td>\n",
       "      <td>47</td>\n",
       "    </tr>\n",
       "    <tr>\n",
       "      <th>Logreg OS Standard</th>\n",
       "      <td>194</td>\n",
       "      <td>1092</td>\n",
       "      <td>457</td>\n",
       "      <td>66</td>\n",
       "    </tr>\n",
       "    <tr>\n",
       "      <th>LogReg OS</th>\n",
       "      <td>190</td>\n",
       "      <td>1097</td>\n",
       "      <td>452</td>\n",
       "      <td>70</td>\n",
       "    </tr>\n",
       "    <tr>\n",
       "      <th>Logreg OS MinMax</th>\n",
       "      <td>183</td>\n",
       "      <td>1127</td>\n",
       "      <td>422</td>\n",
       "      <td>77</td>\n",
       "    </tr>\n",
       "    <tr>\n",
       "      <th>Decision Tree OS</th>\n",
       "      <td>158</td>\n",
       "      <td>1466</td>\n",
       "      <td>83</td>\n",
       "      <td>102</td>\n",
       "    </tr>\n",
       "    <tr>\n",
       "      <th>XGBoost OS</th>\n",
       "      <td>140</td>\n",
       "      <td>1522</td>\n",
       "      <td>27</td>\n",
       "      <td>120</td>\n",
       "    </tr>\n",
       "    <tr>\n",
       "      <th>Logreg SM Standard</th>\n",
       "      <td>52</td>\n",
       "      <td>1516</td>\n",
       "      <td>33</td>\n",
       "      <td>208</td>\n",
       "    </tr>\n",
       "    <tr>\n",
       "      <th>Decision Tree SM</th>\n",
       "      <td>48</td>\n",
       "      <td>1520</td>\n",
       "      <td>29</td>\n",
       "      <td>212</td>\n",
       "    </tr>\n",
       "    <tr>\n",
       "      <th>LogReg SM</th>\n",
       "      <td>48</td>\n",
       "      <td>1520</td>\n",
       "      <td>29</td>\n",
       "      <td>212</td>\n",
       "    </tr>\n",
       "    <tr>\n",
       "      <th>Logreg SM Robust</th>\n",
       "      <td>47</td>\n",
       "      <td>1521</td>\n",
       "      <td>28</td>\n",
       "      <td>213</td>\n",
       "    </tr>\n",
       "    <tr>\n",
       "      <th>Logreg SM MinMax</th>\n",
       "      <td>46</td>\n",
       "      <td>1525</td>\n",
       "      <td>24</td>\n",
       "      <td>214</td>\n",
       "    </tr>\n",
       "    <tr>\n",
       "      <th>Random Forest OS</th>\n",
       "      <td>0</td>\n",
       "      <td>1549</td>\n",
       "      <td>0</td>\n",
       "      <td>260</td>\n",
       "    </tr>\n",
       "  </tbody>\n",
       "</table>\n",
       "</div>"
      ],
      "text/plain": [
       "                    True Positive  True Negative  False Positive  \\\n",
       "SVM OS                        260           1548               1   \n",
       "Random Forest SM              260              0            1549   \n",
       "SVM SM                        260             23            1526   \n",
       "XGBoost SM                    260              0            1549   \n",
       "Logreg SM MinMax              258              5            1544   \n",
       "Logreg OS MinMax              256              5            1544   \n",
       "Logreg SM Robust              249            590             959   \n",
       "Logreg OS Standard            243           1501              48   \n",
       "Logreg OS Robust              243           1486              63   \n",
       "Logreg SM Standard            242            891             658   \n",
       "Logreg OS Robust              213            809             740   \n",
       "Logreg OS Standard            194           1092             457   \n",
       "LogReg OS                     190           1097             452   \n",
       "Logreg OS MinMax              183           1127             422   \n",
       "Decision Tree OS              158           1466              83   \n",
       "XGBoost OS                    140           1522              27   \n",
       "Logreg SM Standard             52           1516              33   \n",
       "Decision Tree SM               48           1520              29   \n",
       "LogReg SM                      48           1520              29   \n",
       "Logreg SM Robust               47           1521              28   \n",
       "Logreg SM MinMax               46           1525              24   \n",
       "Random Forest OS                0           1549               0   \n",
       "\n",
       "                    False Negative  \n",
       "SVM OS                           0  \n",
       "Random Forest SM                 0  \n",
       "SVM SM                           0  \n",
       "XGBoost SM                       0  \n",
       "Logreg SM MinMax                 2  \n",
       "Logreg OS MinMax                 4  \n",
       "Logreg SM Robust                11  \n",
       "Logreg OS Standard              17  \n",
       "Logreg OS Robust                17  \n",
       "Logreg SM Standard              18  \n",
       "Logreg OS Robust                47  \n",
       "Logreg OS Standard              66  \n",
       "LogReg OS                       70  \n",
       "Logreg OS MinMax                77  \n",
       "Decision Tree OS               102  \n",
       "XGBoost OS                     120  \n",
       "Logreg SM Standard             208  \n",
       "Decision Tree SM               212  \n",
       "LogReg SM                      212  \n",
       "Logreg SM Robust               213  \n",
       "Logreg SM MinMax               214  \n",
       "Random Forest OS               260  "
      ]
     },
     "execution_count": 143,
     "metadata": {},
     "output_type": "execute_result"
    }
   ],
   "source": [
    "cm = {\n",
    "    \"True Positive\" : [tp_svm_os, tp_svm_os_std, tp_svm_os_mm, tp_svm_os_rb, \n",
    "                       tp_svm_sm, tp_svm_sm_std, tp_svm_sm_mm, tp_svm_sm_rb,\n",
    "                       tp_logreg_os, tp_logreg_os_std, tp_logreg_os_mm, tp_logreg_os_rb, \n",
    "                       tp_logreg_sm, tp_logreg_sm_std, tp_logreg_sm_mm, tp_logreg_sm_rb,\n",
    "                       tp_dt_os, tp_dt_sm, tp_rf_os, tp_rf_sm, tp_xgb_os, tp_xgb_sm],\n",
    "    \n",
    "    \"True Negative\" : [tn_svm_os, tn_svm_os_std, tn_svm_os_mm, tn_svm_os_rb, \n",
    "                       tn_svm_sm, tn_svm_sm_std, tn_svm_sm_mm, tn_svm_sm_rb,\n",
    "                       tn_logreg_os, tn_logreg_os_std, tn_logreg_os_mm, tn_logreg_os_rb, \n",
    "                       tn_logreg_sm, tn_logreg_sm_std, tn_logreg_sm_mm, tn_logreg_sm_rb,\n",
    "                       tn_dt_os, tn_dt_sm, tn_rf_os, tn_rf_sm, tn_xgb_os, tn_xgb_sm],\n",
    "    \n",
    "    \"False Positive\": [fp_svm_os, fp_svm_os_std, fp_svm_os_mm, fp_svm_os_rb, \n",
    "                       fp_svm_sm, fp_svm_sm_std, fp_svm_sm_mm, fp_svm_sm_rb,\n",
    "                       fp_logreg_os, fp_logreg_os_std, fp_logreg_os_mm, fp_logreg_os_rb, \n",
    "                       fp_logreg_sm, fp_logreg_sm_std, fp_logreg_sm_mm, fp_logreg_sm_rb,\n",
    "                       fp_dt_os, fp_dt_sm, fp_rf_os, fp_rf_sm, fp_xgb_os, fp_xgb_sm],\n",
    "    \n",
    "    \"False Negative\": [fn_svm_os, fn_svm_os_std, fn_svm_os_mm, fn_svm_os_rb, \n",
    "                       fn_svm_sm, fn_svm_sm_std, fn_svm_sm_mm, fn_svm_sm_rb,\n",
    "                       fn_logreg_os, fn_logreg_os_std, fn_logreg_os_mm, fn_logreg_os_rb, \n",
    "                       fn_logreg_sm, fn_logreg_sm_std, fn_logreg_sm_mm, fn_logreg_sm_rb,\n",
    "                       fn_dt_os, fn_dt_sm, fn_rf_os, fn_rf_sm, fn_xgb_os, fn_xgb_sm]\n",
    "}\n",
    "    \n",
    "cm_matrix = pd.DataFrame(data = cm, index = ['SVM OS', 'Logreg OS Standard', 'Logreg OS MinMax', 'Logreg OS Robust',\n",
    "                                             'SVM SM', 'Logreg SM Standard', 'Logreg SM MinMax', 'Logreg SM Robust',\n",
    "                                             'LogReg OS', 'Logreg OS Standard', 'Logreg OS MinMax', 'Logreg OS Robust',\n",
    "                                             'LogReg SM', 'Logreg SM Standard', 'Logreg SM MinMax', 'Logreg SM Robust',\n",
    "                                             'Decision Tree OS', 'Decision Tree SM', \n",
    "                                             'Random Forest OS', 'Random Forest SM',\n",
    "                                             'XGBoost OS', 'XGBoost SM'])\n",
    "cm_matrix.sort_values('False Negative')\n",
    "#Random Forest With Random Over Sampling and No Scaling"
   ]
  }
 ],
 "metadata": {
  "accelerator": "GPU",
  "colab": {
   "collapsed_sections": [],
   "name": "machine learning",
   "provenance": []
  },
  "kernelspec": {
   "display_name": "Python 3",
   "language": "python",
   "name": "python3"
  },
  "language_info": {
   "codemirror_mode": {
    "name": "ipython",
    "version": 3
   },
   "file_extension": ".py",
   "mimetype": "text/x-python",
   "name": "python",
   "nbconvert_exporter": "python",
   "pygments_lexer": "ipython3",
   "version": "3.8.3"
  }
 },
 "nbformat": 4,
 "nbformat_minor": 1
}
