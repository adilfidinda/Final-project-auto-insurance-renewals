{
 "cells": [
  {
   "cell_type": "code",
   "execution_count": 90,
   "metadata": {
    "id": "Lv_8ciqcjVhL"
   },
   "outputs": [],
   "source": [
    "import pandas as pd\n",
    "import numpy as np\n",
    "from sklearn.preprocessing import OneHotEncoder\n",
    "from sklearn.model_selection import train_test_split, RandomizedSearchCV, GridSearchCV\n",
    "from sklearn.preprocessing import MinMaxScaler, RobustScaler, StandardScaler\n",
    "from sklearn.utils import resample\n",
    "import imblearn\n",
    "from imblearn.over_sampling import SMOTE\n",
    "from sklearn.linear_model import LogisticRegression\n",
    "from sklearn.svm import SVC\n",
    "from sklearn.tree import DecisionTreeClassifier\n",
    "from sklearn.ensemble import RandomForestClassifier\n",
    "from xgboost import XGBClassifier\n",
    "from sklearn.metrics import confusion_matrix, classification_report, accuracy_score, precision_score, recall_score, f1_score\n",
    "import warnings\n",
    "warnings.filterwarnings('ignore')"
   ]
  },
  {
   "cell_type": "markdown",
   "metadata": {
    "id": "veCll5vXNYXN"
   },
   "source": [
    "## Dataset"
   ]
  },
  {
   "cell_type": "code",
   "execution_count": 91,
   "metadata": {
    "colab": {
     "base_uri": "https://localhost:8080/",
     "height": 461
    },
    "id": "X7er3DJjm_Bh",
    "outputId": "28d172d2-1751-40c1-8cd0-f0c077cb9c97"
   },
   "outputs": [
    {
     "data": {
      "text/html": [
       "<div>\n",
       "<style scoped>\n",
       "    .dataframe tbody tr th:only-of-type {\n",
       "        vertical-align: middle;\n",
       "    }\n",
       "\n",
       "    .dataframe tbody tr th {\n",
       "        vertical-align: top;\n",
       "    }\n",
       "\n",
       "    .dataframe thead th {\n",
       "        text-align: right;\n",
       "    }\n",
       "</style>\n",
       "<table border=\"1\" class=\"dataframe\">\n",
       "  <thead>\n",
       "    <tr style=\"text-align: right;\">\n",
       "      <th></th>\n",
       "      <th>State</th>\n",
       "      <th>Customer Lifetime Value</th>\n",
       "      <th>Response</th>\n",
       "      <th>Coverage</th>\n",
       "      <th>Education</th>\n",
       "      <th>Effective To Date</th>\n",
       "      <th>EmploymentStatus</th>\n",
       "      <th>Gender</th>\n",
       "      <th>Income</th>\n",
       "      <th>Location Code</th>\n",
       "      <th>...</th>\n",
       "      <th>Renew Offer Type</th>\n",
       "      <th>Sales Channel</th>\n",
       "      <th>Total Claim Amount</th>\n",
       "      <th>Vehicle Class</th>\n",
       "      <th>Vehicle Size</th>\n",
       "      <th>Income_group</th>\n",
       "      <th>Claim_group</th>\n",
       "      <th>clv_group</th>\n",
       "      <th>premi_group</th>\n",
       "      <th>numpolicy_group</th>\n",
       "    </tr>\n",
       "    <tr>\n",
       "      <th>Customer</th>\n",
       "      <th></th>\n",
       "      <th></th>\n",
       "      <th></th>\n",
       "      <th></th>\n",
       "      <th></th>\n",
       "      <th></th>\n",
       "      <th></th>\n",
       "      <th></th>\n",
       "      <th></th>\n",
       "      <th></th>\n",
       "      <th></th>\n",
       "      <th></th>\n",
       "      <th></th>\n",
       "      <th></th>\n",
       "      <th></th>\n",
       "      <th></th>\n",
       "      <th></th>\n",
       "      <th></th>\n",
       "      <th></th>\n",
       "      <th></th>\n",
       "      <th></th>\n",
       "    </tr>\n",
       "  </thead>\n",
       "  <tbody>\n",
       "    <tr>\n",
       "      <th>BU79786</th>\n",
       "      <td>Washington</td>\n",
       "      <td>2763.519279</td>\n",
       "      <td>No</td>\n",
       "      <td>Basic</td>\n",
       "      <td>Bachelor</td>\n",
       "      <td>2011-02-24</td>\n",
       "      <td>Employed</td>\n",
       "      <td>F</td>\n",
       "      <td>56274</td>\n",
       "      <td>Suburban</td>\n",
       "      <td>...</td>\n",
       "      <td>Offer1</td>\n",
       "      <td>Agent</td>\n",
       "      <td>384.811147</td>\n",
       "      <td>Two-Door Car</td>\n",
       "      <td>Medsize</td>\n",
       "      <td>High Income</td>\n",
       "      <td>up to 400</td>\n",
       "      <td>up to 6.000</td>\n",
       "      <td>0 - 85 dollar</td>\n",
       "      <td>Low</td>\n",
       "    </tr>\n",
       "    <tr>\n",
       "      <th>QZ44356</th>\n",
       "      <td>Arizona</td>\n",
       "      <td>6979.535903</td>\n",
       "      <td>No</td>\n",
       "      <td>Extended</td>\n",
       "      <td>Bachelor</td>\n",
       "      <td>2011-01-31</td>\n",
       "      <td>Unemployed</td>\n",
       "      <td>F</td>\n",
       "      <td>0</td>\n",
       "      <td>Suburban</td>\n",
       "      <td>...</td>\n",
       "      <td>Offer3</td>\n",
       "      <td>Agent</td>\n",
       "      <td>1131.464935</td>\n",
       "      <td>Four-Door Car</td>\n",
       "      <td>Medsize</td>\n",
       "      <td>Low Income</td>\n",
       "      <td>up to 1500</td>\n",
       "      <td>up to 30.000</td>\n",
       "      <td>85 - 150 dollar</td>\n",
       "      <td>High</td>\n",
       "    </tr>\n",
       "    <tr>\n",
       "      <th>AI49188</th>\n",
       "      <td>Nevada</td>\n",
       "      <td>12887.431650</td>\n",
       "      <td>No</td>\n",
       "      <td>Premium</td>\n",
       "      <td>Bachelor</td>\n",
       "      <td>2011-02-19</td>\n",
       "      <td>Employed</td>\n",
       "      <td>F</td>\n",
       "      <td>48767</td>\n",
       "      <td>Suburban</td>\n",
       "      <td>...</td>\n",
       "      <td>Offer1</td>\n",
       "      <td>Agent</td>\n",
       "      <td>566.472247</td>\n",
       "      <td>Two-Door Car</td>\n",
       "      <td>Medsize</td>\n",
       "      <td>Medium Income</td>\n",
       "      <td>up to 1500</td>\n",
       "      <td>up to 30.000</td>\n",
       "      <td>85 - 150 dollar</td>\n",
       "      <td>Low</td>\n",
       "    </tr>\n",
       "    <tr>\n",
       "      <th>WW63253</th>\n",
       "      <td>California</td>\n",
       "      <td>7645.861827</td>\n",
       "      <td>No</td>\n",
       "      <td>Basic</td>\n",
       "      <td>Bachelor</td>\n",
       "      <td>2011-01-20</td>\n",
       "      <td>Unemployed</td>\n",
       "      <td>M</td>\n",
       "      <td>0</td>\n",
       "      <td>Suburban</td>\n",
       "      <td>...</td>\n",
       "      <td>Offer1</td>\n",
       "      <td>Call Center</td>\n",
       "      <td>529.881344</td>\n",
       "      <td>SUV</td>\n",
       "      <td>Medsize</td>\n",
       "      <td>Low Income</td>\n",
       "      <td>up to 1500</td>\n",
       "      <td>up to 30.000</td>\n",
       "      <td>85 - 150 dollar</td>\n",
       "      <td>High</td>\n",
       "    </tr>\n",
       "    <tr>\n",
       "      <th>HB64268</th>\n",
       "      <td>Washington</td>\n",
       "      <td>2813.692575</td>\n",
       "      <td>No</td>\n",
       "      <td>Basic</td>\n",
       "      <td>Bachelor</td>\n",
       "      <td>2011-02-03</td>\n",
       "      <td>Employed</td>\n",
       "      <td>M</td>\n",
       "      <td>43836</td>\n",
       "      <td>Rural</td>\n",
       "      <td>...</td>\n",
       "      <td>Offer1</td>\n",
       "      <td>Agent</td>\n",
       "      <td>138.130879</td>\n",
       "      <td>Four-Door Car</td>\n",
       "      <td>Medsize</td>\n",
       "      <td>Medium Income</td>\n",
       "      <td>up to 400</td>\n",
       "      <td>up to 6.000</td>\n",
       "      <td>0 - 85 dollar</td>\n",
       "      <td>Low</td>\n",
       "    </tr>\n",
       "  </tbody>\n",
       "</table>\n",
       "<p>5 rows × 28 columns</p>\n",
       "</div>"
      ],
      "text/plain": [
       "               State  Customer Lifetime Value Response  Coverage Education  \\\n",
       "Customer                                                                     \n",
       "BU79786   Washington              2763.519279       No     Basic  Bachelor   \n",
       "QZ44356      Arizona              6979.535903       No  Extended  Bachelor   \n",
       "AI49188       Nevada             12887.431650       No   Premium  Bachelor   \n",
       "WW63253   California              7645.861827       No     Basic  Bachelor   \n",
       "HB64268   Washington              2813.692575       No     Basic  Bachelor   \n",
       "\n",
       "         Effective To Date EmploymentStatus Gender  Income Location Code  ...  \\\n",
       "Customer                                                                  ...   \n",
       "BU79786         2011-02-24         Employed      F   56274      Suburban  ...   \n",
       "QZ44356         2011-01-31       Unemployed      F       0      Suburban  ...   \n",
       "AI49188         2011-02-19         Employed      F   48767      Suburban  ...   \n",
       "WW63253         2011-01-20       Unemployed      M       0      Suburban  ...   \n",
       "HB64268         2011-02-03         Employed      M   43836         Rural  ...   \n",
       "\n",
       "         Renew Offer Type  Sales Channel  Total Claim Amount  Vehicle Class  \\\n",
       "Customer                                                                      \n",
       "BU79786            Offer1          Agent          384.811147   Two-Door Car   \n",
       "QZ44356            Offer3          Agent         1131.464935  Four-Door Car   \n",
       "AI49188            Offer1          Agent          566.472247   Two-Door Car   \n",
       "WW63253            Offer1    Call Center          529.881344            SUV   \n",
       "HB64268            Offer1          Agent          138.130879  Four-Door Car   \n",
       "\n",
       "          Vehicle Size   Income_group Claim_group     clv_group  \\\n",
       "Customer                                                          \n",
       "BU79786        Medsize    High Income  up to 400    up to 6.000   \n",
       "QZ44356        Medsize     Low Income  up to 1500  up to 30.000   \n",
       "AI49188        Medsize  Medium Income  up to 1500  up to 30.000   \n",
       "WW63253        Medsize     Low Income  up to 1500  up to 30.000   \n",
       "HB64268        Medsize  Medium Income  up to 400    up to 6.000   \n",
       "\n",
       "              premi_group numpolicy_group  \n",
       "Customer                                   \n",
       "BU79786     0 - 85 dollar             Low  \n",
       "QZ44356   85 - 150 dollar            High  \n",
       "AI49188   85 - 150 dollar             Low  \n",
       "WW63253   85 - 150 dollar            High  \n",
       "HB64268     0 - 85 dollar             Low  \n",
       "\n",
       "[5 rows x 28 columns]"
      ]
     },
     "execution_count": 91,
     "metadata": {},
     "output_type": "execute_result"
    }
   ],
   "source": [
    "df = pd.read_csv(\"data_clean.csv\", index_col = 0)\n",
    "df.head()"
   ]
  },
  {
   "cell_type": "code",
   "execution_count": 92,
   "metadata": {
    "colab": {
     "base_uri": "https://localhost:8080/"
    },
    "id": "xJlnFFomnBwf",
    "outputId": "ef38c8d1-545f-4e2b-ad66-79d7b71a7c87"
   },
   "outputs": [
    {
     "data": {
      "text/plain": [
       "No     7743\n",
       "Yes    1302\n",
       "Name: Response, dtype: int64"
      ]
     },
     "execution_count": 92,
     "metadata": {},
     "output_type": "execute_result"
    }
   ],
   "source": [
    "df['Response'].value_counts()"
   ]
  },
  {
   "cell_type": "code",
   "execution_count": 93,
   "metadata": {
    "id": "bQ1lxU7u7lmT"
   },
   "outputs": [],
   "source": [
    "df.drop(['Policy Type', 'Income_group', 'Claim_group', 'clv_group', 'premi_group', 'Effective To Date', 'Number of Open Complaints', 'Months Since Last Claim', 'Months Since Policy Inception', 'numpolicy_group'], axis = 1, inplace = True)"
   ]
  },
  {
   "cell_type": "markdown",
   "metadata": {
    "id": "RVyPhc_C6kds"
   },
   "source": [
    "# Encoding"
   ]
  },
  {
   "cell_type": "code",
   "execution_count": 94,
   "metadata": {
    "id": "huycWgUJ6j2R"
   },
   "outputs": [],
   "source": [
    "#Label Encoding\n",
    "df['Gender'] = df['Gender'].map({'M' : 0, 'F' : 1})\n",
    "df['Coverage'] = df['Coverage'].map({'Basic' : 0, 'Extended' : 1, 'Premium' : 2})\n",
    "df['Education'] = df['Education'].map({'High School or Below' : 0, 'College' : 1, 'Bachelor' : 2, 'Master' : 3, 'Doctor' : 4})\n",
    "df['Vehicle Size'] = df['Vehicle Size'].map({'Small' : 0, 'Medsize' : 1, 'Large' : 2})\n",
    "df['Response'] = df['Response'].map({'No' : 0, 'Yes' : 1})"
   ]
  },
  {
   "cell_type": "code",
   "execution_count": 95,
   "metadata": {
    "colab": {
     "base_uri": "https://localhost:8080/",
     "height": 461
    },
    "id": "0GJU83CXEO2k",
    "outputId": "de319246-6fec-43bc-8c65-10e2e11da6c6"
   },
   "outputs": [
    {
     "data": {
      "text/html": [
       "<div>\n",
       "<style scoped>\n",
       "    .dataframe tbody tr th:only-of-type {\n",
       "        vertical-align: middle;\n",
       "    }\n",
       "\n",
       "    .dataframe tbody tr th {\n",
       "        vertical-align: top;\n",
       "    }\n",
       "\n",
       "    .dataframe thead th {\n",
       "        text-align: right;\n",
       "    }\n",
       "</style>\n",
       "<table border=\"1\" class=\"dataframe\">\n",
       "  <thead>\n",
       "    <tr style=\"text-align: right;\">\n",
       "      <th></th>\n",
       "      <th>State</th>\n",
       "      <th>Customer Lifetime Value</th>\n",
       "      <th>Response</th>\n",
       "      <th>Coverage</th>\n",
       "      <th>Education</th>\n",
       "      <th>EmploymentStatus</th>\n",
       "      <th>Gender</th>\n",
       "      <th>Income</th>\n",
       "      <th>Location Code</th>\n",
       "      <th>Marital Status</th>\n",
       "      <th>Monthly Premium Auto</th>\n",
       "      <th>Number of Policies</th>\n",
       "      <th>Policy</th>\n",
       "      <th>Renew Offer Type</th>\n",
       "      <th>Sales Channel</th>\n",
       "      <th>Total Claim Amount</th>\n",
       "      <th>Vehicle Class</th>\n",
       "      <th>Vehicle Size</th>\n",
       "    </tr>\n",
       "    <tr>\n",
       "      <th>Customer</th>\n",
       "      <th></th>\n",
       "      <th></th>\n",
       "      <th></th>\n",
       "      <th></th>\n",
       "      <th></th>\n",
       "      <th></th>\n",
       "      <th></th>\n",
       "      <th></th>\n",
       "      <th></th>\n",
       "      <th></th>\n",
       "      <th></th>\n",
       "      <th></th>\n",
       "      <th></th>\n",
       "      <th></th>\n",
       "      <th></th>\n",
       "      <th></th>\n",
       "      <th></th>\n",
       "      <th></th>\n",
       "    </tr>\n",
       "  </thead>\n",
       "  <tbody>\n",
       "    <tr>\n",
       "      <th>BU79786</th>\n",
       "      <td>Washington</td>\n",
       "      <td>2763.519279</td>\n",
       "      <td>0</td>\n",
       "      <td>0</td>\n",
       "      <td>2</td>\n",
       "      <td>Employed</td>\n",
       "      <td>1</td>\n",
       "      <td>56274</td>\n",
       "      <td>Suburban</td>\n",
       "      <td>Married</td>\n",
       "      <td>69</td>\n",
       "      <td>1</td>\n",
       "      <td>Corporate L3</td>\n",
       "      <td>Offer1</td>\n",
       "      <td>Agent</td>\n",
       "      <td>384.811147</td>\n",
       "      <td>Two-Door Car</td>\n",
       "      <td>1</td>\n",
       "    </tr>\n",
       "    <tr>\n",
       "      <th>QZ44356</th>\n",
       "      <td>Arizona</td>\n",
       "      <td>6979.535903</td>\n",
       "      <td>0</td>\n",
       "      <td>1</td>\n",
       "      <td>2</td>\n",
       "      <td>Unemployed</td>\n",
       "      <td>1</td>\n",
       "      <td>0</td>\n",
       "      <td>Suburban</td>\n",
       "      <td>Single</td>\n",
       "      <td>94</td>\n",
       "      <td>8</td>\n",
       "      <td>Personal L3</td>\n",
       "      <td>Offer3</td>\n",
       "      <td>Agent</td>\n",
       "      <td>1131.464935</td>\n",
       "      <td>Four-Door Car</td>\n",
       "      <td>1</td>\n",
       "    </tr>\n",
       "    <tr>\n",
       "      <th>AI49188</th>\n",
       "      <td>Nevada</td>\n",
       "      <td>12887.431650</td>\n",
       "      <td>0</td>\n",
       "      <td>2</td>\n",
       "      <td>2</td>\n",
       "      <td>Employed</td>\n",
       "      <td>1</td>\n",
       "      <td>48767</td>\n",
       "      <td>Suburban</td>\n",
       "      <td>Married</td>\n",
       "      <td>108</td>\n",
       "      <td>2</td>\n",
       "      <td>Personal L3</td>\n",
       "      <td>Offer1</td>\n",
       "      <td>Agent</td>\n",
       "      <td>566.472247</td>\n",
       "      <td>Two-Door Car</td>\n",
       "      <td>1</td>\n",
       "    </tr>\n",
       "    <tr>\n",
       "      <th>WW63253</th>\n",
       "      <td>California</td>\n",
       "      <td>7645.861827</td>\n",
       "      <td>0</td>\n",
       "      <td>0</td>\n",
       "      <td>2</td>\n",
       "      <td>Unemployed</td>\n",
       "      <td>0</td>\n",
       "      <td>0</td>\n",
       "      <td>Suburban</td>\n",
       "      <td>Married</td>\n",
       "      <td>106</td>\n",
       "      <td>7</td>\n",
       "      <td>Corporate L2</td>\n",
       "      <td>Offer1</td>\n",
       "      <td>Call Center</td>\n",
       "      <td>529.881344</td>\n",
       "      <td>SUV</td>\n",
       "      <td>1</td>\n",
       "    </tr>\n",
       "    <tr>\n",
       "      <th>HB64268</th>\n",
       "      <td>Washington</td>\n",
       "      <td>2813.692575</td>\n",
       "      <td>0</td>\n",
       "      <td>0</td>\n",
       "      <td>2</td>\n",
       "      <td>Employed</td>\n",
       "      <td>0</td>\n",
       "      <td>43836</td>\n",
       "      <td>Rural</td>\n",
       "      <td>Single</td>\n",
       "      <td>73</td>\n",
       "      <td>1</td>\n",
       "      <td>Personal L1</td>\n",
       "      <td>Offer1</td>\n",
       "      <td>Agent</td>\n",
       "      <td>138.130879</td>\n",
       "      <td>Four-Door Car</td>\n",
       "      <td>1</td>\n",
       "    </tr>\n",
       "  </tbody>\n",
       "</table>\n",
       "</div>"
      ],
      "text/plain": [
       "               State  Customer Lifetime Value  Response  Coverage  Education  \\\n",
       "Customer                                                                       \n",
       "BU79786   Washington              2763.519279         0         0          2   \n",
       "QZ44356      Arizona              6979.535903         0         1          2   \n",
       "AI49188       Nevada             12887.431650         0         2          2   \n",
       "WW63253   California              7645.861827         0         0          2   \n",
       "HB64268   Washington              2813.692575         0         0          2   \n",
       "\n",
       "         EmploymentStatus  Gender  Income Location Code Marital Status  \\\n",
       "Customer                                                                 \n",
       "BU79786          Employed       1   56274      Suburban        Married   \n",
       "QZ44356        Unemployed       1       0      Suburban         Single   \n",
       "AI49188          Employed       1   48767      Suburban        Married   \n",
       "WW63253        Unemployed       0       0      Suburban        Married   \n",
       "HB64268          Employed       0   43836         Rural         Single   \n",
       "\n",
       "          Monthly Premium Auto  Number of Policies        Policy  \\\n",
       "Customer                                                           \n",
       "BU79786                     69                   1  Corporate L3   \n",
       "QZ44356                     94                   8   Personal L3   \n",
       "AI49188                    108                   2   Personal L3   \n",
       "WW63253                    106                   7  Corporate L2   \n",
       "HB64268                     73                   1   Personal L1   \n",
       "\n",
       "         Renew Offer Type Sales Channel  Total Claim Amount  Vehicle Class  \\\n",
       "Customer                                                                     \n",
       "BU79786            Offer1         Agent          384.811147   Two-Door Car   \n",
       "QZ44356            Offer3         Agent         1131.464935  Four-Door Car   \n",
       "AI49188            Offer1         Agent          566.472247   Two-Door Car   \n",
       "WW63253            Offer1   Call Center          529.881344            SUV   \n",
       "HB64268            Offer1         Agent          138.130879  Four-Door Car   \n",
       "\n",
       "          Vehicle Size  \n",
       "Customer                \n",
       "BU79786              1  \n",
       "QZ44356              1  \n",
       "AI49188              1  \n",
       "WW63253              1  \n",
       "HB64268              1  "
      ]
     },
     "execution_count": 95,
     "metadata": {},
     "output_type": "execute_result"
    }
   ],
   "source": [
    "df.head()"
   ]
  },
  {
   "cell_type": "code",
   "execution_count": 96,
   "metadata": {
    "id": "a986E1p1DGbh"
   },
   "outputs": [],
   "source": [
    "to_encode = ['State', 'EmploymentStatus', 'Location Code', 'Marital Status', 'Policy', 'Renew Offer Type', 'Sales Channel', 'Vehicle Class']\n",
    "df_processed = pd.get_dummies(df, prefix_sep=\"_\", columns=to_encode)"
   ]
  },
  {
   "cell_type": "code",
   "execution_count": 97,
   "metadata": {
    "colab": {
     "base_uri": "https://localhost:8080/",
     "height": 518
    },
    "id": "edbpbfw2A0TG",
    "outputId": "ab1a619a-0c8b-49dd-adfe-f24e3062f0e1"
   },
   "outputs": [
    {
     "data": {
      "text/html": [
       "<div>\n",
       "<style scoped>\n",
       "    .dataframe tbody tr th:only-of-type {\n",
       "        vertical-align: middle;\n",
       "    }\n",
       "\n",
       "    .dataframe tbody tr th {\n",
       "        vertical-align: top;\n",
       "    }\n",
       "\n",
       "    .dataframe thead th {\n",
       "        text-align: right;\n",
       "    }\n",
       "</style>\n",
       "<table border=\"1\" class=\"dataframe\">\n",
       "  <thead>\n",
       "    <tr style=\"text-align: right;\">\n",
       "      <th></th>\n",
       "      <th>Customer Lifetime Value</th>\n",
       "      <th>Response</th>\n",
       "      <th>Coverage</th>\n",
       "      <th>Education</th>\n",
       "      <th>Gender</th>\n",
       "      <th>Income</th>\n",
       "      <th>Monthly Premium Auto</th>\n",
       "      <th>Number of Policies</th>\n",
       "      <th>Total Claim Amount</th>\n",
       "      <th>Vehicle Size</th>\n",
       "      <th>...</th>\n",
       "      <th>Sales Channel_Agent</th>\n",
       "      <th>Sales Channel_Branch</th>\n",
       "      <th>Sales Channel_Call Center</th>\n",
       "      <th>Sales Channel_Web</th>\n",
       "      <th>Vehicle Class_Four-Door Car</th>\n",
       "      <th>Vehicle Class_Luxury Car</th>\n",
       "      <th>Vehicle Class_Luxury SUV</th>\n",
       "      <th>Vehicle Class_SUV</th>\n",
       "      <th>Vehicle Class_Sports Car</th>\n",
       "      <th>Vehicle Class_Two-Door Car</th>\n",
       "    </tr>\n",
       "    <tr>\n",
       "      <th>Customer</th>\n",
       "      <th></th>\n",
       "      <th></th>\n",
       "      <th></th>\n",
       "      <th></th>\n",
       "      <th></th>\n",
       "      <th></th>\n",
       "      <th></th>\n",
       "      <th></th>\n",
       "      <th></th>\n",
       "      <th></th>\n",
       "      <th></th>\n",
       "      <th></th>\n",
       "      <th></th>\n",
       "      <th></th>\n",
       "      <th></th>\n",
       "      <th></th>\n",
       "      <th></th>\n",
       "      <th></th>\n",
       "      <th></th>\n",
       "      <th></th>\n",
       "      <th></th>\n",
       "    </tr>\n",
       "  </thead>\n",
       "  <tbody>\n",
       "    <tr>\n",
       "      <th>BU79786</th>\n",
       "      <td>2763.519279</td>\n",
       "      <td>0</td>\n",
       "      <td>0</td>\n",
       "      <td>2</td>\n",
       "      <td>1</td>\n",
       "      <td>56274</td>\n",
       "      <td>69</td>\n",
       "      <td>1</td>\n",
       "      <td>384.811147</td>\n",
       "      <td>1</td>\n",
       "      <td>...</td>\n",
       "      <td>1</td>\n",
       "      <td>0</td>\n",
       "      <td>0</td>\n",
       "      <td>0</td>\n",
       "      <td>0</td>\n",
       "      <td>0</td>\n",
       "      <td>0</td>\n",
       "      <td>0</td>\n",
       "      <td>0</td>\n",
       "      <td>1</td>\n",
       "    </tr>\n",
       "    <tr>\n",
       "      <th>QZ44356</th>\n",
       "      <td>6979.535903</td>\n",
       "      <td>0</td>\n",
       "      <td>1</td>\n",
       "      <td>2</td>\n",
       "      <td>1</td>\n",
       "      <td>0</td>\n",
       "      <td>94</td>\n",
       "      <td>8</td>\n",
       "      <td>1131.464935</td>\n",
       "      <td>1</td>\n",
       "      <td>...</td>\n",
       "      <td>1</td>\n",
       "      <td>0</td>\n",
       "      <td>0</td>\n",
       "      <td>0</td>\n",
       "      <td>1</td>\n",
       "      <td>0</td>\n",
       "      <td>0</td>\n",
       "      <td>0</td>\n",
       "      <td>0</td>\n",
       "      <td>0</td>\n",
       "    </tr>\n",
       "    <tr>\n",
       "      <th>AI49188</th>\n",
       "      <td>12887.431650</td>\n",
       "      <td>0</td>\n",
       "      <td>2</td>\n",
       "      <td>2</td>\n",
       "      <td>1</td>\n",
       "      <td>48767</td>\n",
       "      <td>108</td>\n",
       "      <td>2</td>\n",
       "      <td>566.472247</td>\n",
       "      <td>1</td>\n",
       "      <td>...</td>\n",
       "      <td>1</td>\n",
       "      <td>0</td>\n",
       "      <td>0</td>\n",
       "      <td>0</td>\n",
       "      <td>0</td>\n",
       "      <td>0</td>\n",
       "      <td>0</td>\n",
       "      <td>0</td>\n",
       "      <td>0</td>\n",
       "      <td>1</td>\n",
       "    </tr>\n",
       "    <tr>\n",
       "      <th>WW63253</th>\n",
       "      <td>7645.861827</td>\n",
       "      <td>0</td>\n",
       "      <td>0</td>\n",
       "      <td>2</td>\n",
       "      <td>0</td>\n",
       "      <td>0</td>\n",
       "      <td>106</td>\n",
       "      <td>7</td>\n",
       "      <td>529.881344</td>\n",
       "      <td>1</td>\n",
       "      <td>...</td>\n",
       "      <td>0</td>\n",
       "      <td>0</td>\n",
       "      <td>1</td>\n",
       "      <td>0</td>\n",
       "      <td>0</td>\n",
       "      <td>0</td>\n",
       "      <td>0</td>\n",
       "      <td>1</td>\n",
       "      <td>0</td>\n",
       "      <td>0</td>\n",
       "    </tr>\n",
       "    <tr>\n",
       "      <th>HB64268</th>\n",
       "      <td>2813.692575</td>\n",
       "      <td>0</td>\n",
       "      <td>0</td>\n",
       "      <td>2</td>\n",
       "      <td>0</td>\n",
       "      <td>43836</td>\n",
       "      <td>73</td>\n",
       "      <td>1</td>\n",
       "      <td>138.130879</td>\n",
       "      <td>1</td>\n",
       "      <td>...</td>\n",
       "      <td>1</td>\n",
       "      <td>0</td>\n",
       "      <td>0</td>\n",
       "      <td>0</td>\n",
       "      <td>1</td>\n",
       "      <td>0</td>\n",
       "      <td>0</td>\n",
       "      <td>0</td>\n",
       "      <td>0</td>\n",
       "      <td>0</td>\n",
       "    </tr>\n",
       "    <tr>\n",
       "      <th>...</th>\n",
       "      <td>...</td>\n",
       "      <td>...</td>\n",
       "      <td>...</td>\n",
       "      <td>...</td>\n",
       "      <td>...</td>\n",
       "      <td>...</td>\n",
       "      <td>...</td>\n",
       "      <td>...</td>\n",
       "      <td>...</td>\n",
       "      <td>...</td>\n",
       "      <td>...</td>\n",
       "      <td>...</td>\n",
       "      <td>...</td>\n",
       "      <td>...</td>\n",
       "      <td>...</td>\n",
       "      <td>...</td>\n",
       "      <td>...</td>\n",
       "      <td>...</td>\n",
       "      <td>...</td>\n",
       "      <td>...</td>\n",
       "      <td>...</td>\n",
       "    </tr>\n",
       "    <tr>\n",
       "      <th>LA72316</th>\n",
       "      <td>23405.987980</td>\n",
       "      <td>0</td>\n",
       "      <td>0</td>\n",
       "      <td>2</td>\n",
       "      <td>0</td>\n",
       "      <td>71941</td>\n",
       "      <td>73</td>\n",
       "      <td>2</td>\n",
       "      <td>198.234764</td>\n",
       "      <td>1</td>\n",
       "      <td>...</td>\n",
       "      <td>0</td>\n",
       "      <td>0</td>\n",
       "      <td>0</td>\n",
       "      <td>1</td>\n",
       "      <td>1</td>\n",
       "      <td>0</td>\n",
       "      <td>0</td>\n",
       "      <td>0</td>\n",
       "      <td>0</td>\n",
       "      <td>0</td>\n",
       "    </tr>\n",
       "    <tr>\n",
       "      <th>PK87824</th>\n",
       "      <td>3096.511217</td>\n",
       "      <td>1</td>\n",
       "      <td>1</td>\n",
       "      <td>1</td>\n",
       "      <td>1</td>\n",
       "      <td>21604</td>\n",
       "      <td>79</td>\n",
       "      <td>1</td>\n",
       "      <td>379.200000</td>\n",
       "      <td>1</td>\n",
       "      <td>...</td>\n",
       "      <td>0</td>\n",
       "      <td>1</td>\n",
       "      <td>0</td>\n",
       "      <td>0</td>\n",
       "      <td>1</td>\n",
       "      <td>0</td>\n",
       "      <td>0</td>\n",
       "      <td>0</td>\n",
       "      <td>0</td>\n",
       "      <td>0</td>\n",
       "    </tr>\n",
       "    <tr>\n",
       "      <th>TD14365</th>\n",
       "      <td>8163.890428</td>\n",
       "      <td>0</td>\n",
       "      <td>1</td>\n",
       "      <td>2</td>\n",
       "      <td>0</td>\n",
       "      <td>0</td>\n",
       "      <td>85</td>\n",
       "      <td>2</td>\n",
       "      <td>790.784983</td>\n",
       "      <td>1</td>\n",
       "      <td>...</td>\n",
       "      <td>0</td>\n",
       "      <td>1</td>\n",
       "      <td>0</td>\n",
       "      <td>0</td>\n",
       "      <td>1</td>\n",
       "      <td>0</td>\n",
       "      <td>0</td>\n",
       "      <td>0</td>\n",
       "      <td>0</td>\n",
       "      <td>0</td>\n",
       "    </tr>\n",
       "    <tr>\n",
       "      <th>UP19263</th>\n",
       "      <td>7524.442436</td>\n",
       "      <td>0</td>\n",
       "      <td>1</td>\n",
       "      <td>1</td>\n",
       "      <td>0</td>\n",
       "      <td>21941</td>\n",
       "      <td>96</td>\n",
       "      <td>3</td>\n",
       "      <td>691.200000</td>\n",
       "      <td>2</td>\n",
       "      <td>...</td>\n",
       "      <td>0</td>\n",
       "      <td>1</td>\n",
       "      <td>0</td>\n",
       "      <td>0</td>\n",
       "      <td>1</td>\n",
       "      <td>0</td>\n",
       "      <td>0</td>\n",
       "      <td>0</td>\n",
       "      <td>0</td>\n",
       "      <td>0</td>\n",
       "    </tr>\n",
       "    <tr>\n",
       "      <th>Y167826</th>\n",
       "      <td>2611.836866</td>\n",
       "      <td>0</td>\n",
       "      <td>1</td>\n",
       "      <td>1</td>\n",
       "      <td>0</td>\n",
       "      <td>0</td>\n",
       "      <td>77</td>\n",
       "      <td>1</td>\n",
       "      <td>369.600000</td>\n",
       "      <td>1</td>\n",
       "      <td>...</td>\n",
       "      <td>0</td>\n",
       "      <td>0</td>\n",
       "      <td>1</td>\n",
       "      <td>0</td>\n",
       "      <td>0</td>\n",
       "      <td>0</td>\n",
       "      <td>0</td>\n",
       "      <td>0</td>\n",
       "      <td>0</td>\n",
       "      <td>1</td>\n",
       "    </tr>\n",
       "  </tbody>\n",
       "</table>\n",
       "<p>9045 rows × 49 columns</p>\n",
       "</div>"
      ],
      "text/plain": [
       "          Customer Lifetime Value  Response  Coverage  Education  Gender  \\\n",
       "Customer                                                                   \n",
       "BU79786               2763.519279         0         0          2       1   \n",
       "QZ44356               6979.535903         0         1          2       1   \n",
       "AI49188              12887.431650         0         2          2       1   \n",
       "WW63253               7645.861827         0         0          2       0   \n",
       "HB64268               2813.692575         0         0          2       0   \n",
       "...                           ...       ...       ...        ...     ...   \n",
       "LA72316              23405.987980         0         0          2       0   \n",
       "PK87824               3096.511217         1         1          1       1   \n",
       "TD14365               8163.890428         0         1          2       0   \n",
       "UP19263               7524.442436         0         1          1       0   \n",
       "Y167826               2611.836866         0         1          1       0   \n",
       "\n",
       "          Income  Monthly Premium Auto  Number of Policies  \\\n",
       "Customer                                                     \n",
       "BU79786    56274                    69                   1   \n",
       "QZ44356        0                    94                   8   \n",
       "AI49188    48767                   108                   2   \n",
       "WW63253        0                   106                   7   \n",
       "HB64268    43836                    73                   1   \n",
       "...          ...                   ...                 ...   \n",
       "LA72316    71941                    73                   2   \n",
       "PK87824    21604                    79                   1   \n",
       "TD14365        0                    85                   2   \n",
       "UP19263    21941                    96                   3   \n",
       "Y167826        0                    77                   1   \n",
       "\n",
       "          Total Claim Amount  Vehicle Size  ...  Sales Channel_Agent  \\\n",
       "Customer                                    ...                        \n",
       "BU79786           384.811147             1  ...                    1   \n",
       "QZ44356          1131.464935             1  ...                    1   \n",
       "AI49188           566.472247             1  ...                    1   \n",
       "WW63253           529.881344             1  ...                    0   \n",
       "HB64268           138.130879             1  ...                    1   \n",
       "...                      ...           ...  ...                  ...   \n",
       "LA72316           198.234764             1  ...                    0   \n",
       "PK87824           379.200000             1  ...                    0   \n",
       "TD14365           790.784983             1  ...                    0   \n",
       "UP19263           691.200000             2  ...                    0   \n",
       "Y167826           369.600000             1  ...                    0   \n",
       "\n",
       "          Sales Channel_Branch  Sales Channel_Call Center  Sales Channel_Web  \\\n",
       "Customer                                                                       \n",
       "BU79786                      0                          0                  0   \n",
       "QZ44356                      0                          0                  0   \n",
       "AI49188                      0                          0                  0   \n",
       "WW63253                      0                          1                  0   \n",
       "HB64268                      0                          0                  0   \n",
       "...                        ...                        ...                ...   \n",
       "LA72316                      0                          0                  1   \n",
       "PK87824                      1                          0                  0   \n",
       "TD14365                      1                          0                  0   \n",
       "UP19263                      1                          0                  0   \n",
       "Y167826                      0                          1                  0   \n",
       "\n",
       "          Vehicle Class_Four-Door Car  Vehicle Class_Luxury Car  \\\n",
       "Customer                                                          \n",
       "BU79786                             0                         0   \n",
       "QZ44356                             1                         0   \n",
       "AI49188                             0                         0   \n",
       "WW63253                             0                         0   \n",
       "HB64268                             1                         0   \n",
       "...                               ...                       ...   \n",
       "LA72316                             1                         0   \n",
       "PK87824                             1                         0   \n",
       "TD14365                             1                         0   \n",
       "UP19263                             1                         0   \n",
       "Y167826                             0                         0   \n",
       "\n",
       "          Vehicle Class_Luxury SUV  Vehicle Class_SUV  \\\n",
       "Customer                                                \n",
       "BU79786                          0                  0   \n",
       "QZ44356                          0                  0   \n",
       "AI49188                          0                  0   \n",
       "WW63253                          0                  1   \n",
       "HB64268                          0                  0   \n",
       "...                            ...                ...   \n",
       "LA72316                          0                  0   \n",
       "PK87824                          0                  0   \n",
       "TD14365                          0                  0   \n",
       "UP19263                          0                  0   \n",
       "Y167826                          0                  0   \n",
       "\n",
       "          Vehicle Class_Sports Car  Vehicle Class_Two-Door Car  \n",
       "Customer                                                        \n",
       "BU79786                          0                           1  \n",
       "QZ44356                          0                           0  \n",
       "AI49188                          0                           1  \n",
       "WW63253                          0                           0  \n",
       "HB64268                          0                           0  \n",
       "...                            ...                         ...  \n",
       "LA72316                          0                           0  \n",
       "PK87824                          0                           0  \n",
       "TD14365                          0                           0  \n",
       "UP19263                          0                           0  \n",
       "Y167826                          0                           1  \n",
       "\n",
       "[9045 rows x 49 columns]"
      ]
     },
     "execution_count": 97,
     "metadata": {},
     "output_type": "execute_result"
    }
   ],
   "source": [
    "df_processed"
   ]
  },
  {
   "cell_type": "markdown",
   "metadata": {
    "id": "97gnBMe9IBQC"
   },
   "source": [
    "# Correlation"
   ]
  },
  {
   "cell_type": "code",
   "execution_count": 98,
   "metadata": {
    "colab": {
     "base_uri": "https://localhost:8080/"
    },
    "id": "ojhEwgkhBXMT",
    "outputId": "6fab0faa-a1b6-4724-8502-1fbe557b4afa"
   },
   "outputs": [
    {
     "data": {
      "text/plain": [
       "EmploymentStatus_Retired          0.296120\n",
       "Renew Offer Type_Offer2           0.177755\n",
       "Location Code_Suburban            0.115491\n",
       "Marital Status_Divorced           0.113316\n",
       "Sales Channel_Agent               0.110324\n",
       "Vehicle Size                      0.054557\n",
       "Renew Offer Type_Offer1           0.036612\n",
       "Vehicle Class_Sports Car          0.028910\n",
       "Vehicle Class_SUV                 0.024932\n",
       "Education                         0.024286\n",
       "Policy_Special L3                 0.024070\n",
       "EmploymentStatus_Medical Leave    0.023834\n",
       "EmploymentStatus_Disabled         0.021110\n",
       "Total Claim Amount                0.013910\n",
       "Income                            0.012729\n",
       "Monthly Premium Auto              0.009987\n",
       "Policy_Special L1                 0.009249\n",
       "Policy_Corporate L3               0.008236\n",
       "Vehicle Class_Luxury SUV          0.008182\n",
       "Policy_Personal L1                0.006516\n",
       "State_Oregon                      0.003027\n",
       "State_California                  0.002574\n",
       "Policy_Corporate L2               0.001922\n",
       "Policy_Personal L2               -0.000006\n",
       "State_Arizona                    -0.000562\n",
       "Coverage                         -0.001455\n",
       "State_Nevada                     -0.001777\n",
       "Policy_Corporate L1              -0.005030\n",
       "Gender                           -0.005047\n",
       "State_Washington                 -0.006535\n",
       "Vehicle Class_Two-Door Car       -0.007812\n",
       "Customer Lifetime Value          -0.009614\n",
       "Policy_Special L2                -0.010257\n",
       "Policy_Personal L3               -0.014022\n",
       "Vehicle Class_Four-Door Car      -0.021588\n",
       "Number of Policies               -0.022617\n",
       "Vehicle Class_Luxury Car         -0.027140\n",
       "Sales Channel_Web                -0.029028\n",
       "EmploymentStatus_Employed        -0.038010\n",
       "Marital Status_Married           -0.040264\n",
       "Marital Status_Single            -0.046312\n",
       "Sales Channel_Branch             -0.050860\n",
       "Sales Channel_Call Center        -0.051926\n",
       "Location Code_Rural              -0.069913\n",
       "Location Code_Urban              -0.074387\n",
       "EmploymentStatus_Unemployed      -0.097332\n",
       "Renew Offer Type_Offer4          -0.145547\n",
       "Renew Offer Type_Offer3          -0.151069\n",
       "Name: Response, dtype: float64"
      ]
     },
     "execution_count": 98,
     "metadata": {},
     "output_type": "execute_result"
    }
   ],
   "source": [
    "cor = df_processed.corr()\n",
    "cor['Response'].sort_values(ascending = False)[1:]"
   ]
  },
  {
   "cell_type": "code",
   "execution_count": 99,
   "metadata": {},
   "outputs": [],
   "source": [
    "df_processed.to_csv('data_ml.csv')"
   ]
  },
  {
   "cell_type": "markdown",
   "metadata": {
    "id": "9emzY1N4LEU8"
   },
   "source": [
    "# Splitting Data"
   ]
  },
  {
   "cell_type": "code",
   "execution_count": 100,
   "metadata": {
    "id": "8YZnNnkXLDzp"
   },
   "outputs": [],
   "source": [
    "x = df_processed.drop(columns = ['Response'] , axis = 1)\n",
    "y = df_processed['Response']"
   ]
  },
  {
   "cell_type": "code",
   "execution_count": 101,
   "metadata": {
    "id": "AwkYUTgFMCLU"
   },
   "outputs": [],
   "source": [
    "x_train, x_test, y_train, y_test = train_test_split(x, y, train_size=.8, stratify= y, random_state = 42)"
   ]
  },
  {
   "cell_type": "markdown",
   "metadata": {
    "id": "0Yj7ozxSMMmi"
   },
   "source": [
    "# Handling Imbalance Data"
   ]
  },
  {
   "cell_type": "code",
   "execution_count": 102,
   "metadata": {
    "colab": {
     "base_uri": "https://localhost:8080/"
    },
    "id": "i20dCbkRM9TK",
    "outputId": "de7742b5-6087-48b1-9f32-9529bcbf3939"
   },
   "outputs": [
    {
     "data": {
      "text/plain": [
       "0    6194\n",
       "1    1042\n",
       "Name: Response, dtype: int64"
      ]
     },
     "execution_count": 102,
     "metadata": {},
     "output_type": "execute_result"
    }
   ],
   "source": [
    "y_train.value_counts()"
   ]
  },
  {
   "cell_type": "markdown",
   "metadata": {
    "id": "SuwjIX1JMVta"
   },
   "source": [
    "#### Random Over Sampling"
   ]
  },
  {
   "cell_type": "code",
   "execution_count": 103,
   "metadata": {
    "colab": {
     "base_uri": "https://localhost:8080/"
    },
    "id": "X0bWeSkZMPhl",
    "outputId": "e9fdf446-fad4-4152-9197-8622ae1396b7"
   },
   "outputs": [
    {
     "data": {
      "text/plain": [
       "1    6194\n",
       "0    6194\n",
       "Name: Response, dtype: int64"
      ]
     },
     "execution_count": 103,
     "metadata": {},
     "output_type": "execute_result"
    }
   ],
   "source": [
    "df_train = pd.concat([x_train, y_train], axis=1)\n",
    "not_renewal = df_train[df_train['Response'] == 0]\n",
    "renewal = df_train[df_train['Response'] == 1]\n",
    "\n",
    "renewal_oversample = resample(renewal, replace=True, n_samples = len(not_renewal), random_state = 42)\n",
    "df_OverSampled = pd.concat([not_renewal, renewal_oversample])\n",
    "df_OverSampled['Response'].value_counts()"
   ]
  },
  {
   "cell_type": "code",
   "execution_count": 104,
   "metadata": {
    "id": "mzYilLaeN-jQ"
   },
   "outputs": [],
   "source": [
    "x_train_os = df_OverSampled.drop(columns = ['Response'])\n",
    "y_train_os = df_OverSampled['Response']"
   ]
  },
  {
   "cell_type": "markdown",
   "metadata": {
    "id": "CMSbi3WuOdhl"
   },
   "source": [
    "#### Smote"
   ]
  },
  {
   "cell_type": "code",
   "execution_count": 105,
   "metadata": {
    "colab": {
     "base_uri": "https://localhost:8080/"
    },
    "id": "UdXTHZtFOf1M",
    "outputId": "5f1355cf-ae55-43cf-bf4c-9d3ff0e99a54"
   },
   "outputs": [
    {
     "data": {
      "text/plain": [
       "1    6194\n",
       "0    6194\n",
       "Name: Response, dtype: int64"
      ]
     },
     "execution_count": 105,
     "metadata": {},
     "output_type": "execute_result"
    }
   ],
   "source": [
    "sm = SMOTE(random_state=42)\n",
    "x_train_sm, y_train_sm = sm.fit_sample(x_train, y_train)\n",
    "x = pd.DataFrame(data = x_train_sm, columns = x_train.columns)\n",
    "y = pd.DataFrame(data = y_train_sm, columns = ['Response'])\n",
    "df_smote = x.join(y)\n",
    "# df_smote = pd.concat([x_train_sm, y_train_sm], axis = 1)\n",
    "df_smote['Response'].value_counts()"
   ]
  },
  {
   "cell_type": "code",
   "execution_count": 106,
   "metadata": {},
   "outputs": [],
   "source": [
    "columns_continuous = ['Customer Lifetime Value', 'Income', 'Monthly Premium Auto', 'Number of Policies', 'Total Claim Amount']"
   ]
  },
  {
   "cell_type": "markdown",
   "metadata": {
    "id": "A2ABFHUaP5kn"
   },
   "source": [
    "# Base Model"
   ]
  },
  {
   "cell_type": "markdown",
   "metadata": {},
   "source": [
    "## SVM"
   ]
  },
  {
   "cell_type": "markdown",
   "metadata": {},
   "source": [
    "#### Random Over Sampling without Scaling"
   ]
  },
  {
   "cell_type": "code",
   "execution_count": 107,
   "metadata": {},
   "outputs": [
    {
     "data": {
      "text/plain": [
       "SVC()"
      ]
     },
     "execution_count": 107,
     "metadata": {},
     "output_type": "execute_result"
    }
   ],
   "source": [
    "svm = SVC()\n",
    "svm.fit(x_train_os, y_train_os)"
   ]
  },
  {
   "cell_type": "code",
   "execution_count": 108,
   "metadata": {},
   "outputs": [],
   "source": [
    "pred_train_os = svm.predict(x_train_os)\n",
    "pred_test_os = svm.predict(x_test)"
   ]
  },
  {
   "cell_type": "code",
   "execution_count": 109,
   "metadata": {},
   "outputs": [],
   "source": [
    "svm_acc_base_train_os = accuracy_score(y_train_os, pred_train_os)\n",
    "svm_acc_base_test_os = accuracy_score(y_test, pred_test_os)\n",
    "svm_recall_base_train_os = recall_score(y_train_os, pred_train_os)\n",
    "svm_recall_base_test_os = recall_score(y_test, pred_test_os)\n",
    "svm_prec_base_train_os = precision_score(y_train_os, pred_train_os)\n",
    "svm_prec_base_test_os = precision_score(y_test, pred_test_os)\n",
    "svm_f1_base_train_os = f1_score(y_train_os, pred_train_os)\n",
    "svm_f1_base_test_os = f1_score(y_test, pred_test_os)"
   ]
  },
  {
   "cell_type": "code",
   "execution_count": 110,
   "metadata": {},
   "outputs": [
    {
     "data": {
      "text/html": [
       "<div>\n",
       "<style scoped>\n",
       "    .dataframe tbody tr th:only-of-type {\n",
       "        vertical-align: middle;\n",
       "    }\n",
       "\n",
       "    .dataframe tbody tr th {\n",
       "        vertical-align: top;\n",
       "    }\n",
       "\n",
       "    .dataframe thead th {\n",
       "        text-align: right;\n",
       "    }\n",
       "</style>\n",
       "<table border=\"1\" class=\"dataframe\">\n",
       "  <thead>\n",
       "    <tr style=\"text-align: right;\">\n",
       "      <th></th>\n",
       "      <th>Pred 1</th>\n",
       "      <th>Pred 0</th>\n",
       "    </tr>\n",
       "  </thead>\n",
       "  <tbody>\n",
       "    <tr>\n",
       "      <th>Akt 1</th>\n",
       "      <td>183</td>\n",
       "      <td>77</td>\n",
       "    </tr>\n",
       "    <tr>\n",
       "      <th>Akt 0</th>\n",
       "      <td>891</td>\n",
       "      <td>658</td>\n",
       "    </tr>\n",
       "  </tbody>\n",
       "</table>\n",
       "</div>"
      ],
      "text/plain": [
       "       Pred 1  Pred 0\n",
       "Akt 1     183      77\n",
       "Akt 0     891     658"
      ]
     },
     "execution_count": 110,
     "metadata": {},
     "output_type": "execute_result"
    }
   ],
   "source": [
    "cm_svm_base_os = confusion_matrix(y_test, pred_test_os, labels=[1, 0])\n",
    "cm_svm_base_os = pd.DataFrame(data=cm_svm_base_os, index=['Akt 1', 'Akt 0'], columns=['Pred 1', 'Pred 0'])\n",
    "cm_svm_base_os"
   ]
  },
  {
   "cell_type": "code",
   "execution_count": 111,
   "metadata": {},
   "outputs": [],
   "source": [
    "tp_svm_os = cm_svm_base_os['Pred 1'][0]\n",
    "tn_svm_os = cm_svm_base_os['Pred 0'][1]\n",
    "fp_svm_os = cm_svm_base_os['Pred 1'][1]\n",
    "fn_svm_os = cm_svm_base_os['Pred 0'][0]"
   ]
  },
  {
   "cell_type": "markdown",
   "metadata": {},
   "source": [
    "#### Smote without Scaling"
   ]
  },
  {
   "cell_type": "code",
   "execution_count": 112,
   "metadata": {},
   "outputs": [
    {
     "data": {
      "text/plain": [
       "SVC()"
      ]
     },
     "execution_count": 112,
     "metadata": {},
     "output_type": "execute_result"
    }
   ],
   "source": [
    "svm.fit(x_train_sm, y_train_sm)"
   ]
  },
  {
   "cell_type": "code",
   "execution_count": 113,
   "metadata": {},
   "outputs": [],
   "source": [
    "pred_train_sm = svm.predict(x_train_sm)\n",
    "pred_test_sm = svm.predict(x_test)"
   ]
  },
  {
   "cell_type": "code",
   "execution_count": 114,
   "metadata": {},
   "outputs": [],
   "source": [
    "svm_acc_base_train_sm = accuracy_score(y_train_sm, pred_train_sm)\n",
    "svm_acc_base_test_sm = accuracy_score(y_test, pred_test_sm)\n",
    "svm_recall_base_train_sm = recall_score(y_train_sm, pred_train_sm)\n",
    "svm_recall_base_test_sm = recall_score(y_test, pred_test_sm)\n",
    "svm_prec_base_train_sm = precision_score(y_train_sm, pred_train_sm)\n",
    "svm_prec_base_test_sm = precision_score(y_test, pred_test_sm)\n",
    "svm_f1_base_train_sm = f1_score(y_train_sm, pred_train_sm)\n",
    "svm_f1_base_test_sm = f1_score(y_test, pred_test_sm)"
   ]
  },
  {
   "cell_type": "code",
   "execution_count": 115,
   "metadata": {},
   "outputs": [
    {
     "data": {
      "text/html": [
       "<div>\n",
       "<style scoped>\n",
       "    .dataframe tbody tr th:only-of-type {\n",
       "        vertical-align: middle;\n",
       "    }\n",
       "\n",
       "    .dataframe tbody tr th {\n",
       "        vertical-align: top;\n",
       "    }\n",
       "\n",
       "    .dataframe thead th {\n",
       "        text-align: right;\n",
       "    }\n",
       "</style>\n",
       "<table border=\"1\" class=\"dataframe\">\n",
       "  <thead>\n",
       "    <tr style=\"text-align: right;\">\n",
       "      <th></th>\n",
       "      <th>Pred 1</th>\n",
       "      <th>Pred 0</th>\n",
       "    </tr>\n",
       "  </thead>\n",
       "  <tbody>\n",
       "    <tr>\n",
       "      <th>Akt 1</th>\n",
       "      <td>182</td>\n",
       "      <td>78</td>\n",
       "    </tr>\n",
       "    <tr>\n",
       "      <th>Akt 0</th>\n",
       "      <td>881</td>\n",
       "      <td>668</td>\n",
       "    </tr>\n",
       "  </tbody>\n",
       "</table>\n",
       "</div>"
      ],
      "text/plain": [
       "       Pred 1  Pred 0\n",
       "Akt 1     182      78\n",
       "Akt 0     881     668"
      ]
     },
     "execution_count": 115,
     "metadata": {},
     "output_type": "execute_result"
    }
   ],
   "source": [
    "cm_svm_base_sm = confusion_matrix(y_test, pred_test_sm, labels=[1, 0])\n",
    "cm_svm_base_sm = pd.DataFrame(data=cm_svm_base_sm, index=['Akt 1', 'Akt 0'], columns=['Pred 1', 'Pred 0'])\n",
    "cm_svm_base_sm"
   ]
  },
  {
   "cell_type": "code",
   "execution_count": 116,
   "metadata": {},
   "outputs": [],
   "source": [
    "tp_svm_sm = cm_svm_base_sm['Pred 1'][0]\n",
    "tn_svm_sm = cm_svm_base_sm['Pred 0'][1]\n",
    "fp_svm_sm = cm_svm_base_sm['Pred 1'][1]\n",
    "fn_svm_sm = cm_svm_base_sm['Pred 0'][0]"
   ]
  },
  {
   "cell_type": "markdown",
   "metadata": {},
   "source": [
    "#### Random Over Sampling with Standard Scaler"
   ]
  },
  {
   "cell_type": "code",
   "execution_count": 117,
   "metadata": {},
   "outputs": [],
   "source": [
    "std_scale = StandardScaler()\n",
    "x_train_os[columns_continuous] = std_scale.fit_transform(x_train_os[columns_continuous])\n",
    "svm.fit(x_train_os, y_train_os)\n",
    "\n",
    "pred_train_os_std = svm.predict(x_train_os)\n",
    "x_test[columns_continuous] = std_scale.fit_transform(x_test[columns_continuous])\n",
    "pred_test_os_std = svm.predict(x_test)"
   ]
  },
  {
   "cell_type": "code",
   "execution_count": 118,
   "metadata": {},
   "outputs": [],
   "source": [
    "svm_acc_base_train_os_std = accuracy_score(y_train_os, pred_train_os_std)\n",
    "svm_acc_base_test_os_std = accuracy_score(y_test, pred_test_os_std)\n",
    "svm_recall_base_train_os_std = recall_score(y_train_os, pred_train_os_std)\n",
    "svm_recall_base_test_os_std = recall_score(y_test, pred_test_os_std)\n",
    "svm_prec_base_train_os_std = precision_score(y_train_os, pred_train_os_std)\n",
    "svm_prec_base_test_os_std = precision_score(y_test, pred_test_os_std)\n",
    "svm_f1_base_train_os_std = f1_score(y_train_os, pred_train_os_std)\n",
    "svm_f1_base_test_os_std = f1_score(y_test, pred_test_os_std)"
   ]
  },
  {
   "cell_type": "code",
   "execution_count": 119,
   "metadata": {},
   "outputs": [
    {
     "data": {
      "text/html": [
       "<div>\n",
       "<style scoped>\n",
       "    .dataframe tbody tr th:only-of-type {\n",
       "        vertical-align: middle;\n",
       "    }\n",
       "\n",
       "    .dataframe tbody tr th {\n",
       "        vertical-align: top;\n",
       "    }\n",
       "\n",
       "    .dataframe thead th {\n",
       "        text-align: right;\n",
       "    }\n",
       "</style>\n",
       "<table border=\"1\" class=\"dataframe\">\n",
       "  <thead>\n",
       "    <tr style=\"text-align: right;\">\n",
       "      <th></th>\n",
       "      <th>Pred 1</th>\n",
       "      <th>Pred 0</th>\n",
       "    </tr>\n",
       "  </thead>\n",
       "  <tbody>\n",
       "    <tr>\n",
       "      <th>Akt 1</th>\n",
       "      <td>240</td>\n",
       "      <td>20</td>\n",
       "    </tr>\n",
       "    <tr>\n",
       "      <th>Akt 0</th>\n",
       "      <td>205</td>\n",
       "      <td>1344</td>\n",
       "    </tr>\n",
       "  </tbody>\n",
       "</table>\n",
       "</div>"
      ],
      "text/plain": [
       "       Pred 1  Pred 0\n",
       "Akt 1     240      20\n",
       "Akt 0     205    1344"
      ]
     },
     "execution_count": 119,
     "metadata": {},
     "output_type": "execute_result"
    }
   ],
   "source": [
    "cm_svm_base_os_std = confusion_matrix(y_test, pred_test_os_std, labels=[1, 0])\n",
    "cm_svm_base_os_std = pd.DataFrame(data=cm_svm_base_os_std, index=['Akt 1', 'Akt 0'], columns=['Pred 1', 'Pred 0'])\n",
    "cm_svm_base_os_std"
   ]
  },
  {
   "cell_type": "code",
   "execution_count": 120,
   "metadata": {},
   "outputs": [],
   "source": [
    "tp_svm_os_std = cm_svm_base_os_std['Pred 1'][0]\n",
    "tn_svm_os_std = cm_svm_base_os_std['Pred 0'][1]\n",
    "fp_svm_os_std = cm_svm_base_os_std['Pred 1'][1]\n",
    "fn_svm_os_std = cm_svm_base_os_std['Pred 0'][0]"
   ]
  },
  {
   "cell_type": "markdown",
   "metadata": {},
   "source": [
    "#### Random Over Sampling with MinMax Scaler"
   ]
  },
  {
   "cell_type": "code",
   "execution_count": 121,
   "metadata": {},
   "outputs": [],
   "source": [
    "mm_scale = MinMaxScaler()\n",
    "x_train_os[columns_continuous] = mm_scale.fit_transform(x_train_os[columns_continuous])\n",
    "svm.fit(x_train_os, y_train_os)\n",
    "\n",
    "pred_train_os_mm = svm.predict(x_train_os)\n",
    "x_test[columns_continuous] = mm_scale.fit_transform(x_test[columns_continuous])\n",
    "pred_test_os_mm = svm.predict(x_test)"
   ]
  },
  {
   "cell_type": "code",
   "execution_count": 122,
   "metadata": {},
   "outputs": [],
   "source": [
    "svm_acc_base_train_os_mm = accuracy_score(y_train_os, pred_train_os_mm)\n",
    "svm_acc_base_test_os_mm = accuracy_score(y_test, pred_test_os_mm)\n",
    "svm_recall_base_train_os_mm = recall_score(y_train_os, pred_train_os_mm)\n",
    "svm_recall_base_test_os_mm = recall_score(y_test, pred_test_os_mm)\n",
    "svm_prec_base_train_os_mm = precision_score(y_train_os, pred_train_os_mm)\n",
    "svm_prec_base_test_os_mm = precision_score(y_test, pred_test_os_mm)\n",
    "svm_f1_base_train_os_mm = f1_score(y_train_os, pred_train_os_mm)\n",
    "svm_f1_base_test_os_mm = f1_score(y_test, pred_test_os_mm)"
   ]
  },
  {
   "cell_type": "code",
   "execution_count": 123,
   "metadata": {},
   "outputs": [
    {
     "data": {
      "text/html": [
       "<div>\n",
       "<style scoped>\n",
       "    .dataframe tbody tr th:only-of-type {\n",
       "        vertical-align: middle;\n",
       "    }\n",
       "\n",
       "    .dataframe tbody tr th {\n",
       "        vertical-align: top;\n",
       "    }\n",
       "\n",
       "    .dataframe thead th {\n",
       "        text-align: right;\n",
       "    }\n",
       "</style>\n",
       "<table border=\"1\" class=\"dataframe\">\n",
       "  <thead>\n",
       "    <tr style=\"text-align: right;\">\n",
       "      <th></th>\n",
       "      <th>Pred 1</th>\n",
       "      <th>Pred 0</th>\n",
       "    </tr>\n",
       "  </thead>\n",
       "  <tbody>\n",
       "    <tr>\n",
       "      <th>Akt 1</th>\n",
       "      <td>238</td>\n",
       "      <td>22</td>\n",
       "    </tr>\n",
       "    <tr>\n",
       "      <th>Akt 0</th>\n",
       "      <td>242</td>\n",
       "      <td>1307</td>\n",
       "    </tr>\n",
       "  </tbody>\n",
       "</table>\n",
       "</div>"
      ],
      "text/plain": [
       "       Pred 1  Pred 0\n",
       "Akt 1     238      22\n",
       "Akt 0     242    1307"
      ]
     },
     "execution_count": 123,
     "metadata": {},
     "output_type": "execute_result"
    }
   ],
   "source": [
    "cm_svm_base_os_mm = confusion_matrix(y_test, pred_test_os_mm, labels=[1, 0])\n",
    "cm_svm_base_os_mm = pd.DataFrame(data=cm_svm_base_os_mm, index=['Akt 1', 'Akt 0'], columns=['Pred 1', 'Pred 0'])\n",
    "cm_svm_base_os_mm"
   ]
  },
  {
   "cell_type": "code",
   "execution_count": 124,
   "metadata": {},
   "outputs": [],
   "source": [
    "tp_svm_os_mm = cm_svm_base_os_mm['Pred 1'][0]\n",
    "tn_svm_os_mm = cm_svm_base_os_mm['Pred 0'][1]\n",
    "fp_svm_os_mm = cm_svm_base_os_mm['Pred 1'][1]\n",
    "fn_svm_os_mm = cm_svm_base_os_mm['Pred 0'][0]"
   ]
  },
  {
   "cell_type": "markdown",
   "metadata": {},
   "source": [
    "#### Random Over Sampling with Robust Scaler"
   ]
  },
  {
   "cell_type": "code",
   "execution_count": 125,
   "metadata": {},
   "outputs": [],
   "source": [
    "rb_scale = RobustScaler()\n",
    "x_train_os[columns_continuous] = rb_scale.fit_transform(x_train_os[columns_continuous])\n",
    "svm.fit(x_train_os, y_train_os)\n",
    "\n",
    "pred_train_os_rb = svm.predict(x_train_os)\n",
    "x_test[columns_continuous] = rb_scale.fit_transform(x_test[columns_continuous])\n",
    "pred_test_os_rb = svm.predict(x_test)"
   ]
  },
  {
   "cell_type": "code",
   "execution_count": 126,
   "metadata": {},
   "outputs": [],
   "source": [
    "svm_acc_base_train_os_rb = accuracy_score(y_train_os, pred_train_os_rb)\n",
    "svm_acc_base_test_os_rb = accuracy_score(y_test, pred_test_os_rb)\n",
    "svm_recall_base_train_os_rb = recall_score(y_train_os, pred_train_os_rb)\n",
    "svm_recall_base_test_os_rb = recall_score(y_test, pred_test_os_rb)\n",
    "svm_prec_base_train_os_rb = precision_score(y_train_os, pred_train_os_rb)\n",
    "svm_prec_base_test_os_rb = precision_score(y_test, pred_test_os_rb)\n",
    "svm_f1_base_train_os_rb = f1_score(y_train_os, pred_train_os_rb)\n",
    "svm_f1_base_test_os_rb = f1_score(y_test, pred_test_os_rb)"
   ]
  },
  {
   "cell_type": "code",
   "execution_count": 127,
   "metadata": {},
   "outputs": [
    {
     "data": {
      "text/html": [
       "<div>\n",
       "<style scoped>\n",
       "    .dataframe tbody tr th:only-of-type {\n",
       "        vertical-align: middle;\n",
       "    }\n",
       "\n",
       "    .dataframe tbody tr th {\n",
       "        vertical-align: top;\n",
       "    }\n",
       "\n",
       "    .dataframe thead th {\n",
       "        text-align: right;\n",
       "    }\n",
       "</style>\n",
       "<table border=\"1\" class=\"dataframe\">\n",
       "  <thead>\n",
       "    <tr style=\"text-align: right;\">\n",
       "      <th></th>\n",
       "      <th>Pred 1</th>\n",
       "      <th>Pred 0</th>\n",
       "    </tr>\n",
       "  </thead>\n",
       "  <tbody>\n",
       "    <tr>\n",
       "      <th>Akt 1</th>\n",
       "      <td>240</td>\n",
       "      <td>20</td>\n",
       "    </tr>\n",
       "    <tr>\n",
       "      <th>Akt 0</th>\n",
       "      <td>207</td>\n",
       "      <td>1342</td>\n",
       "    </tr>\n",
       "  </tbody>\n",
       "</table>\n",
       "</div>"
      ],
      "text/plain": [
       "       Pred 1  Pred 0\n",
       "Akt 1     240      20\n",
       "Akt 0     207    1342"
      ]
     },
     "execution_count": 127,
     "metadata": {},
     "output_type": "execute_result"
    }
   ],
   "source": [
    "cm_svm_base_os_rb = confusion_matrix(y_test, pred_test_os_rb, labels=[1, 0])\n",
    "cm_svm_base_os_rb = pd.DataFrame(data=cm_svm_base_os_rb, index=['Akt 1', 'Akt 0'], columns=['Pred 1', 'Pred 0'])\n",
    "cm_svm_base_os_rb"
   ]
  },
  {
   "cell_type": "code",
   "execution_count": 128,
   "metadata": {},
   "outputs": [],
   "source": [
    "tp_svm_os_rb = cm_svm_base_os_rb['Pred 1'][0]\n",
    "tn_svm_os_rb = cm_svm_base_os_rb['Pred 0'][1]\n",
    "fp_svm_os_rb = cm_svm_base_os_rb['Pred 1'][1]\n",
    "fn_svm_os_rb = cm_svm_base_os_rb['Pred 0'][0]"
   ]
  },
  {
   "cell_type": "markdown",
   "metadata": {},
   "source": [
    "#### Smote with Standard Scaler"
   ]
  },
  {
   "cell_type": "code",
   "execution_count": 129,
   "metadata": {},
   "outputs": [],
   "source": [
    "x[columns_continuous] = std_scale.fit_transform(x[columns_continuous])\n",
    "svm.fit(x_train_sm, y_train_sm)\n",
    "\n",
    "pred_train_sm_std = svm.predict(x_train_sm)\n",
    "x_test[columns_continuous] = std_scale.fit_transform(x_test[columns_continuous])\n",
    "pred_test_sm_std = svm.predict(x_test)"
   ]
  },
  {
   "cell_type": "code",
   "execution_count": 130,
   "metadata": {},
   "outputs": [],
   "source": [
    "svm_acc_base_train_sm_std = accuracy_score(y_train_sm, pred_train_sm_std)\n",
    "svm_acc_base_test_sm_std = accuracy_score(y_test, pred_test_sm_std)\n",
    "svm_recall_base_train_sm_std = recall_score(y_train_sm, pred_train_sm_std)\n",
    "svm_recall_base_test_sm_std = recall_score(y_test, pred_test_sm_std)\n",
    "svm_prec_base_train_sm_std = precision_score(y_train_sm, pred_train_sm_std)\n",
    "svm_prec_base_test_sm_std = precision_score(y_test, pred_test_sm_std)\n",
    "svm_f1_base_train_sm_std = f1_score(y_train_sm, pred_train_sm_std)\n",
    "svm_f1_base_test_sm_std = f1_score(y_test, pred_test_sm_std)"
   ]
  },
  {
   "cell_type": "code",
   "execution_count": 131,
   "metadata": {},
   "outputs": [
    {
     "data": {
      "text/html": [
       "<div>\n",
       "<style scoped>\n",
       "    .dataframe tbody tr th:only-of-type {\n",
       "        vertical-align: middle;\n",
       "    }\n",
       "\n",
       "    .dataframe tbody tr th {\n",
       "        vertical-align: top;\n",
       "    }\n",
       "\n",
       "    .dataframe thead th {\n",
       "        text-align: right;\n",
       "    }\n",
       "</style>\n",
       "<table border=\"1\" class=\"dataframe\">\n",
       "  <thead>\n",
       "    <tr style=\"text-align: right;\">\n",
       "      <th></th>\n",
       "      <th>Pred 1</th>\n",
       "      <th>Pred 0</th>\n",
       "    </tr>\n",
       "  </thead>\n",
       "  <tbody>\n",
       "    <tr>\n",
       "      <th>Akt 1</th>\n",
       "      <td>84</td>\n",
       "      <td>176</td>\n",
       "    </tr>\n",
       "    <tr>\n",
       "      <th>Akt 0</th>\n",
       "      <td>16</td>\n",
       "      <td>1533</td>\n",
       "    </tr>\n",
       "  </tbody>\n",
       "</table>\n",
       "</div>"
      ],
      "text/plain": [
       "       Pred 1  Pred 0\n",
       "Akt 1      84     176\n",
       "Akt 0      16    1533"
      ]
     },
     "execution_count": 131,
     "metadata": {},
     "output_type": "execute_result"
    }
   ],
   "source": [
    "cm_svm_base_sm_std = confusion_matrix(y_test, pred_test_sm_std, labels=[1, 0])\n",
    "cm_svm_base_sm_std = pd.DataFrame(data=cm_svm_base_sm_std, index=['Akt 1', 'Akt 0'], columns=['Pred 1', 'Pred 0'])\n",
    "cm_svm_base_sm_std"
   ]
  },
  {
   "cell_type": "code",
   "execution_count": 132,
   "metadata": {},
   "outputs": [],
   "source": [
    "tp_svm_sm_std = cm_svm_base_sm_std['Pred 1'][0]\n",
    "tn_svm_sm_std = cm_svm_base_sm_std['Pred 0'][1]\n",
    "fp_svm_sm_std = cm_svm_base_sm_std['Pred 1'][1]\n",
    "fn_svm_sm_std = cm_svm_base_sm_std['Pred 0'][0]"
   ]
  },
  {
   "cell_type": "markdown",
   "metadata": {},
   "source": [
    "#### Smote with MinMax Scaler"
   ]
  },
  {
   "cell_type": "code",
   "execution_count": 133,
   "metadata": {},
   "outputs": [],
   "source": [
    "mm_scale = MinMaxScaler()\n",
    "x[columns_continuous] = mm_scale.fit_transform(x[columns_continuous])\n",
    "svm.fit(x_train_sm, y_train_sm)\n",
    "\n",
    "pred_train_sm_mm = svm.predict(x_train_sm)\n",
    "x_test[columns_continuous] = mm_scale.fit_transform(x_test[columns_continuous])\n",
    "pred_test_sm_mm = svm.predict(x_test)"
   ]
  },
  {
   "cell_type": "code",
   "execution_count": 134,
   "metadata": {},
   "outputs": [],
   "source": [
    "svm_acc_base_train_sm_mm = accuracy_score(y_train_sm, pred_train_sm_mm)\n",
    "svm_acc_base_test_sm_mm = accuracy_score(y_test, pred_test_sm_mm)\n",
    "svm_recall_base_train_sm_mm = recall_score(y_train_sm, pred_train_sm_mm)\n",
    "svm_recall_base_test_sm_mm = recall_score(y_test, pred_test_sm_mm)\n",
    "svm_prec_base_train_sm_mm = precision_score(y_train_sm, pred_train_sm_mm)\n",
    "svm_prec_base_test_sm_mm = precision_score(y_test, pred_test_sm_mm)\n",
    "svm_f1_base_train_sm_mm = f1_score(y_train_sm, pred_train_sm_mm)\n",
    "svm_f1_base_test_sm_mm = f1_score(y_test, pred_test_sm_mm)"
   ]
  },
  {
   "cell_type": "code",
   "execution_count": 135,
   "metadata": {},
   "outputs": [
    {
     "data": {
      "text/html": [
       "<div>\n",
       "<style scoped>\n",
       "    .dataframe tbody tr th:only-of-type {\n",
       "        vertical-align: middle;\n",
       "    }\n",
       "\n",
       "    .dataframe tbody tr th {\n",
       "        vertical-align: top;\n",
       "    }\n",
       "\n",
       "    .dataframe thead th {\n",
       "        text-align: right;\n",
       "    }\n",
       "</style>\n",
       "<table border=\"1\" class=\"dataframe\">\n",
       "  <thead>\n",
       "    <tr style=\"text-align: right;\">\n",
       "      <th></th>\n",
       "      <th>Pred 1</th>\n",
       "      <th>Pred 0</th>\n",
       "    </tr>\n",
       "  </thead>\n",
       "  <tbody>\n",
       "    <tr>\n",
       "      <th>Akt 1</th>\n",
       "      <td>50</td>\n",
       "      <td>210</td>\n",
       "    </tr>\n",
       "    <tr>\n",
       "      <th>Akt 0</th>\n",
       "      <td>22</td>\n",
       "      <td>1527</td>\n",
       "    </tr>\n",
       "  </tbody>\n",
       "</table>\n",
       "</div>"
      ],
      "text/plain": [
       "       Pred 1  Pred 0\n",
       "Akt 1      50     210\n",
       "Akt 0      22    1527"
      ]
     },
     "execution_count": 135,
     "metadata": {},
     "output_type": "execute_result"
    }
   ],
   "source": [
    "cm_svm_base_sm_mm = confusion_matrix(y_test, pred_test_sm_mm, labels=[1, 0])\n",
    "cm_svm_base_sm_mm = pd.DataFrame(data=cm_svm_base_sm_mm, index=['Akt 1', 'Akt 0'], columns=['Pred 1', 'Pred 0'])\n",
    "cm_svm_base_sm_mm"
   ]
  },
  {
   "cell_type": "code",
   "execution_count": 136,
   "metadata": {},
   "outputs": [],
   "source": [
    "tp_svm_sm_mm = cm_svm_base_sm_mm['Pred 1'][0]\n",
    "tn_svm_sm_mm = cm_svm_base_sm_mm['Pred 0'][1]\n",
    "fp_svm_sm_mm = cm_svm_base_sm_mm['Pred 1'][1]\n",
    "fn_svm_sm_mm = cm_svm_base_sm_mm['Pred 0'][0]"
   ]
  },
  {
   "cell_type": "markdown",
   "metadata": {},
   "source": [
    "#### Smote with Robust Scaler"
   ]
  },
  {
   "cell_type": "code",
   "execution_count": 137,
   "metadata": {},
   "outputs": [],
   "source": [
    "rb_scale = RobustScaler()\n",
    "x[columns_continuous] = rb_scale.fit_transform(x[columns_continuous])\n",
    "svm.fit(x_train_sm, y_train_sm)\n",
    "\n",
    "pred_train_sm_rb = svm.predict(x_train_sm)\n",
    "x_test[columns_continuous] = rb_scale.fit_transform(x_test[columns_continuous])\n",
    "pred_test_sm_rb = svm.predict(x_test)"
   ]
  },
  {
   "cell_type": "code",
   "execution_count": 138,
   "metadata": {},
   "outputs": [],
   "source": [
    "svm_acc_base_train_sm_rb = accuracy_score(y_train_sm, pred_train_sm_rb)\n",
    "svm_acc_base_test_sm_rb = accuracy_score(y_test, pred_test_sm_rb)\n",
    "svm_recall_base_train_sm_rb = recall_score(y_train_sm, pred_train_sm_rb)\n",
    "svm_recall_base_test_sm_rb = recall_score(y_test, pred_test_sm_rb)\n",
    "svm_prec_base_train_sm_rb = precision_score(y_train_sm, pred_train_sm_rb)\n",
    "svm_prec_base_test_sm_rb = precision_score(y_test, pred_test_sm_rb)\n",
    "svm_f1_base_train_sm_rb = f1_score(y_train_sm, pred_train_sm_rb)\n",
    "svm_f1_base_test_sm_rb = f1_score(y_test, pred_test_sm_rb)"
   ]
  },
  {
   "cell_type": "code",
   "execution_count": 139,
   "metadata": {},
   "outputs": [
    {
     "data": {
      "text/html": [
       "<div>\n",
       "<style scoped>\n",
       "    .dataframe tbody tr th:only-of-type {\n",
       "        vertical-align: middle;\n",
       "    }\n",
       "\n",
       "    .dataframe tbody tr th {\n",
       "        vertical-align: top;\n",
       "    }\n",
       "\n",
       "    .dataframe thead th {\n",
       "        text-align: right;\n",
       "    }\n",
       "</style>\n",
       "<table border=\"1\" class=\"dataframe\">\n",
       "  <thead>\n",
       "    <tr style=\"text-align: right;\">\n",
       "      <th></th>\n",
       "      <th>Pred 1</th>\n",
       "      <th>Pred 0</th>\n",
       "    </tr>\n",
       "  </thead>\n",
       "  <tbody>\n",
       "    <tr>\n",
       "      <th>Akt 1</th>\n",
       "      <td>69</td>\n",
       "      <td>191</td>\n",
       "    </tr>\n",
       "    <tr>\n",
       "      <th>Akt 0</th>\n",
       "      <td>12</td>\n",
       "      <td>1537</td>\n",
       "    </tr>\n",
       "  </tbody>\n",
       "</table>\n",
       "</div>"
      ],
      "text/plain": [
       "       Pred 1  Pred 0\n",
       "Akt 1      69     191\n",
       "Akt 0      12    1537"
      ]
     },
     "execution_count": 139,
     "metadata": {},
     "output_type": "execute_result"
    }
   ],
   "source": [
    "cm_svm_base_sm_rb = confusion_matrix(y_test, pred_test_sm_rb, labels=[1, 0])\n",
    "cm_svm_base_sm_rb = pd.DataFrame(data=cm_svm_base_sm_rb, index=['Akt 1', 'Akt 0'], columns=['Pred 1', 'Pred 0'])\n",
    "cm_svm_base_sm_rb"
   ]
  },
  {
   "cell_type": "code",
   "execution_count": 140,
   "metadata": {},
   "outputs": [],
   "source": [
    "tp_svm_sm_rb = cm_svm_base_sm_rb['Pred 1'][0]\n",
    "tn_svm_sm_rb = cm_svm_base_sm_rb['Pred 0'][1]\n",
    "fp_svm_sm_rb = cm_svm_base_sm_rb['Pred 1'][1]\n",
    "fn_svm_sm_rb = cm_svm_base_sm_rb['Pred 0'][0]"
   ]
  },
  {
   "cell_type": "markdown",
   "metadata": {
    "id": "XfRTwLbGP872"
   },
   "source": [
    "## Logistic Regression"
   ]
  },
  {
   "cell_type": "markdown",
   "metadata": {
    "id": "kcTtXGLPyYZ3"
   },
   "source": [
    "#### Random Over Sampling without Scaling"
   ]
  },
  {
   "cell_type": "code",
   "execution_count": 141,
   "metadata": {
    "id": "MhVgT38_eXkD"
   },
   "outputs": [],
   "source": [
    "logreg = LogisticRegression()\n",
    "logreg.fit(x_train_os, y_train_os)\n",
    "pred_train_os = logreg.predict(x_train_os)\n",
    "pred_test_os = logreg.predict(x_test)"
   ]
  },
  {
   "cell_type": "code",
   "execution_count": 142,
   "metadata": {
    "id": "2rufw1COyEB2"
   },
   "outputs": [],
   "source": [
    "logreg_acc_base_train_os = accuracy_score(y_train_os, pred_train_os)\n",
    "logreg_acc_base_test_os = accuracy_score(y_test, pred_test_os)\n",
    "logreg_recall_base_train_os = recall_score(y_train_os, pred_train_os)\n",
    "logreg_recall_base_test_os = recall_score(y_test, pred_test_os)\n",
    "logreg_prec_base_train_os = precision_score(y_train_os, pred_train_os)\n",
    "logreg_prec_base_test_os = precision_score(y_test, pred_test_os)\n",
    "logreg_f1_base_train_os = f1_score(y_train_os, pred_train_os)\n",
    "logreg_f1_base_test_os = f1_score(y_test, pred_test_os)"
   ]
  },
  {
   "cell_type": "code",
   "execution_count": 143,
   "metadata": {
    "colab": {
     "base_uri": "https://localhost:8080/",
     "height": 110
    },
    "id": "kbqgXsbze4Ge",
    "outputId": "ff647596-2097-409c-af88-a6936296d32c"
   },
   "outputs": [
    {
     "data": {
      "text/html": [
       "<div>\n",
       "<style scoped>\n",
       "    .dataframe tbody tr th:only-of-type {\n",
       "        vertical-align: middle;\n",
       "    }\n",
       "\n",
       "    .dataframe tbody tr th {\n",
       "        vertical-align: top;\n",
       "    }\n",
       "\n",
       "    .dataframe thead th {\n",
       "        text-align: right;\n",
       "    }\n",
       "</style>\n",
       "<table border=\"1\" class=\"dataframe\">\n",
       "  <thead>\n",
       "    <tr style=\"text-align: right;\">\n",
       "      <th></th>\n",
       "      <th>Pred 1</th>\n",
       "      <th>Pred 0</th>\n",
       "    </tr>\n",
       "  </thead>\n",
       "  <tbody>\n",
       "    <tr>\n",
       "      <th>Akt 1</th>\n",
       "      <td>191</td>\n",
       "      <td>69</td>\n",
       "    </tr>\n",
       "    <tr>\n",
       "      <th>Akt 0</th>\n",
       "      <td>454</td>\n",
       "      <td>1095</td>\n",
       "    </tr>\n",
       "  </tbody>\n",
       "</table>\n",
       "</div>"
      ],
      "text/plain": [
       "       Pred 1  Pred 0\n",
       "Akt 1     191      69\n",
       "Akt 0     454    1095"
      ]
     },
     "execution_count": 143,
     "metadata": {},
     "output_type": "execute_result"
    }
   ],
   "source": [
    "cm_logreg_base_os = confusion_matrix(y_test, pred_test_os, labels=[1, 0])\n",
    "cm_logreg_base_os = pd.DataFrame(data=cm_logreg_base_os, index=['Akt 1', 'Akt 0'], columns=['Pred 1', 'Pred 0'])\n",
    "cm_logreg_base_os"
   ]
  },
  {
   "cell_type": "code",
   "execution_count": 144,
   "metadata": {},
   "outputs": [],
   "source": [
    "tp_logreg_os = cm_logreg_base_os['Pred 1'][0]\n",
    "tn_logreg_os = cm_logreg_base_os['Pred 0'][1]\n",
    "fp_logreg_os = cm_logreg_base_os['Pred 1'][1]\n",
    "fn_logreg_os = cm_logreg_base_os['Pred 0'][0]"
   ]
  },
  {
   "cell_type": "markdown",
   "metadata": {
    "id": "WNYSXEepyvNr"
   },
   "source": [
    "#### Smote Sampling without Scaling"
   ]
  },
  {
   "cell_type": "code",
   "execution_count": 145,
   "metadata": {
    "id": "6-xViluxy2S6"
   },
   "outputs": [],
   "source": [
    "logreg.fit(x_train_sm, y_train_sm)\n",
    "pred_train_sm = logreg.predict(x_train_sm)\n",
    "pred_test_sm = logreg.predict(x_test)"
   ]
  },
  {
   "cell_type": "code",
   "execution_count": 146,
   "metadata": {
    "id": "s388Zy4azKFy"
   },
   "outputs": [],
   "source": [
    "logreg_acc_base_train_sm = accuracy_score(y_train_sm, pred_train_sm)\n",
    "logreg_acc_base_test_sm = accuracy_score(y_test, pred_test_sm)\n",
    "logreg_recall_base_train_sm = recall_score(y_train_sm, pred_train_sm)\n",
    "logreg_recall_base_test_sm = recall_score(y_test, pred_test_sm)\n",
    "logreg_prec_base_train_sm = precision_score(y_train_sm, pred_train_sm)\n",
    "logreg_prec_base_test_sm = precision_score(y_test, pred_test_sm)\n",
    "logreg_f1_base_train_sm = f1_score(y_train_sm, pred_train_sm)\n",
    "logreg_f1_base_test_sm = f1_score(y_test, pred_test_sm)"
   ]
  },
  {
   "cell_type": "code",
   "execution_count": 147,
   "metadata": {
    "colab": {
     "base_uri": "https://localhost:8080/",
     "height": 110
    },
    "id": "xOSZ3pqQzVtU",
    "outputId": "bce6b216-511b-4ea3-8d34-7be6a872b649"
   },
   "outputs": [
    {
     "data": {
      "text/html": [
       "<div>\n",
       "<style scoped>\n",
       "    .dataframe tbody tr th:only-of-type {\n",
       "        vertical-align: middle;\n",
       "    }\n",
       "\n",
       "    .dataframe tbody tr th {\n",
       "        vertical-align: top;\n",
       "    }\n",
       "\n",
       "    .dataframe thead th {\n",
       "        text-align: right;\n",
       "    }\n",
       "</style>\n",
       "<table border=\"1\" class=\"dataframe\">\n",
       "  <thead>\n",
       "    <tr style=\"text-align: right;\">\n",
       "      <th></th>\n",
       "      <th>Pred 1</th>\n",
       "      <th>Pred 0</th>\n",
       "    </tr>\n",
       "  </thead>\n",
       "  <tbody>\n",
       "    <tr>\n",
       "      <th>Akt 1</th>\n",
       "      <td>45</td>\n",
       "      <td>215</td>\n",
       "    </tr>\n",
       "    <tr>\n",
       "      <th>Akt 0</th>\n",
       "      <td>21</td>\n",
       "      <td>1528</td>\n",
       "    </tr>\n",
       "  </tbody>\n",
       "</table>\n",
       "</div>"
      ],
      "text/plain": [
       "       Pred 1  Pred 0\n",
       "Akt 1      45     215\n",
       "Akt 0      21    1528"
      ]
     },
     "execution_count": 147,
     "metadata": {},
     "output_type": "execute_result"
    }
   ],
   "source": [
    "cm_logreg_base_sm = confusion_matrix(y_test, pred_test_sm, labels=[1, 0])\n",
    "cm_logreg_base_sm = pd.DataFrame(data=cm_logreg_base_sm, index=['Akt 1', 'Akt 0'], columns=['Pred 1', 'Pred 0'])\n",
    "cm_logreg_base_sm"
   ]
  },
  {
   "cell_type": "code",
   "execution_count": 148,
   "metadata": {},
   "outputs": [],
   "source": [
    "tp_logreg_sm = cm_logreg_base_sm['Pred 1'][0]\n",
    "tn_logreg_sm = cm_logreg_base_sm['Pred 0'][1]\n",
    "fp_logreg_sm = cm_logreg_base_sm['Pred 1'][1]\n",
    "fn_logreg_sm = cm_logreg_base_sm['Pred 0'][0]"
   ]
  },
  {
   "cell_type": "markdown",
   "metadata": {
    "id": "7vKA3SRyIGZG"
   },
   "source": [
    "#### Standard Scaling with Random Over Sampling"
   ]
  },
  {
   "cell_type": "code",
   "execution_count": 149,
   "metadata": {
    "id": "MI5S9M17GiZL"
   },
   "outputs": [],
   "source": [
    "std_scale = StandardScaler()\n",
    "x_train_os[columns_continuous] = std_scale.fit_transform(x_train_os[columns_continuous])\n",
    "logreg.fit(x_train_os, y_train_os)\n",
    "\n",
    "pred_train_os_std = logreg.predict(x_train_os)\n",
    "x_test[columns_continuous] = std_scale.fit_transform(x_test[columns_continuous])\n",
    "pred_test_os_std = logreg.predict(x_test)"
   ]
  },
  {
   "cell_type": "code",
   "execution_count": 150,
   "metadata": {
    "id": "e0IlJnw8Yp6f"
   },
   "outputs": [],
   "source": [
    "logreg_acc_base_train_os_std = accuracy_score(y_train_os, pred_train_os_std)\n",
    "logreg_acc_base_test_os_std = accuracy_score(y_test, pred_test_os_std)\n",
    "logreg_recall_base_train_os_std = recall_score(y_train_os, pred_train_os_std)\n",
    "logreg_recall_base_test_os_std = recall_score(y_test, pred_test_os_std)\n",
    "logreg_prec_base_train_os_std = precision_score(y_train_os, pred_train_os_std)\n",
    "logreg_prec_base_test_os_std = precision_score(y_test, pred_test_os_std)\n",
    "logreg_f1_base_train_os_std = f1_score(y_train_os, pred_train_os_std)\n",
    "logreg_f1_base_test_os_std = f1_score(y_test, pred_test_os_std)"
   ]
  },
  {
   "cell_type": "code",
   "execution_count": 151,
   "metadata": {
    "colab": {
     "base_uri": "https://localhost:8080/",
     "height": 110
    },
    "id": "QzD8vKCwamHC",
    "outputId": "9cffc245-cc4c-4c58-de7e-622b665c5d58"
   },
   "outputs": [
    {
     "data": {
      "text/html": [
       "<div>\n",
       "<style scoped>\n",
       "    .dataframe tbody tr th:only-of-type {\n",
       "        vertical-align: middle;\n",
       "    }\n",
       "\n",
       "    .dataframe tbody tr th {\n",
       "        vertical-align: top;\n",
       "    }\n",
       "\n",
       "    .dataframe thead th {\n",
       "        text-align: right;\n",
       "    }\n",
       "</style>\n",
       "<table border=\"1\" class=\"dataframe\">\n",
       "  <thead>\n",
       "    <tr style=\"text-align: right;\">\n",
       "      <th></th>\n",
       "      <th>Pred 1</th>\n",
       "      <th>Pred 0</th>\n",
       "    </tr>\n",
       "  </thead>\n",
       "  <tbody>\n",
       "    <tr>\n",
       "      <th>Akt 1</th>\n",
       "      <td>194</td>\n",
       "      <td>66</td>\n",
       "    </tr>\n",
       "    <tr>\n",
       "      <th>Akt 0</th>\n",
       "      <td>459</td>\n",
       "      <td>1090</td>\n",
       "    </tr>\n",
       "  </tbody>\n",
       "</table>\n",
       "</div>"
      ],
      "text/plain": [
       "       Pred 1  Pred 0\n",
       "Akt 1     194      66\n",
       "Akt 0     459    1090"
      ]
     },
     "execution_count": 151,
     "metadata": {},
     "output_type": "execute_result"
    }
   ],
   "source": [
    "cm_logreg_base_os_std = confusion_matrix(y_test, pred_test_os_std, labels=[1, 0])\n",
    "cm_logreg_base_os_std = pd.DataFrame(data=cm_logreg_base_os_std, index=['Akt 1', 'Akt 0'], columns=['Pred 1', 'Pred 0'])\n",
    "cm_logreg_base_os_std"
   ]
  },
  {
   "cell_type": "code",
   "execution_count": 152,
   "metadata": {},
   "outputs": [],
   "source": [
    "tp_logreg_os_std = cm_logreg_base_os_std['Pred 1'][0]\n",
    "tn_logreg_os_std = cm_logreg_base_os_std['Pred 0'][1]\n",
    "fp_logreg_os_std = cm_logreg_base_os_std['Pred 1'][1]\n",
    "fn_logreg_os_std = cm_logreg_base_os_std['Pred 0'][0]"
   ]
  },
  {
   "cell_type": "markdown",
   "metadata": {
    "id": "Ypip9bAwnOyx"
   },
   "source": [
    "#### MinMax Scaling with Random Over Sampling"
   ]
  },
  {
   "cell_type": "code",
   "execution_count": 153,
   "metadata": {
    "id": "5leyNV5Tldxq"
   },
   "outputs": [],
   "source": [
    "mm_scale = MinMaxScaler()\n",
    "x_train_os[columns_continuous] = mm_scale.fit_transform(x_train_os[columns_continuous])\n",
    "logreg.fit(x_train_os, y_train_os)\n",
    "\n",
    "pred_train_os_mm = logreg.predict(x_train_os)\n",
    "x_test[columns_continuous] = mm_scale.fit_transform(x_test[columns_continuous])\n",
    "pred_test_os_mm = logreg.predict(x_test)"
   ]
  },
  {
   "cell_type": "code",
   "execution_count": 154,
   "metadata": {
    "id": "M_TThASbnqBI"
   },
   "outputs": [],
   "source": [
    "logreg_acc_base_train_os_mm = accuracy_score(y_train_os, pred_train_os_mm)\n",
    "logreg_acc_base_test_os_mm = accuracy_score(y_test, pred_test_os_mm)\n",
    "logreg_recall_base_train_os_mm = recall_score(y_train_os, pred_train_os_mm)\n",
    "logreg_recall_base_test_os_mm = recall_score(y_test, pred_test_os_mm)\n",
    "logreg_prec_base_train_os_mm = precision_score(y_train_os, pred_train_os_mm)\n",
    "logreg_prec_base_test_os_mm = precision_score(y_test, pred_test_os_mm)\n",
    "logreg_f1_base_train_os_mm = f1_score(y_train_os, pred_train_os_mm)\n",
    "logreg_f1_base_test_os_mm = f1_score(y_test, pred_test_os_mm)"
   ]
  },
  {
   "cell_type": "code",
   "execution_count": 155,
   "metadata": {
    "colab": {
     "base_uri": "https://localhost:8080/",
     "height": 110
    },
    "id": "FDXaeQzVoH_Q",
    "outputId": "6ea2361c-3f0a-4cb6-dafc-fd27ebdcd0c4"
   },
   "outputs": [
    {
     "data": {
      "text/html": [
       "<div>\n",
       "<style scoped>\n",
       "    .dataframe tbody tr th:only-of-type {\n",
       "        vertical-align: middle;\n",
       "    }\n",
       "\n",
       "    .dataframe tbody tr th {\n",
       "        vertical-align: top;\n",
       "    }\n",
       "\n",
       "    .dataframe thead th {\n",
       "        text-align: right;\n",
       "    }\n",
       "</style>\n",
       "<table border=\"1\" class=\"dataframe\">\n",
       "  <thead>\n",
       "    <tr style=\"text-align: right;\">\n",
       "      <th></th>\n",
       "      <th>Pred 1</th>\n",
       "      <th>Pred 0</th>\n",
       "    </tr>\n",
       "  </thead>\n",
       "  <tbody>\n",
       "    <tr>\n",
       "      <th>Akt 1</th>\n",
       "      <td>184</td>\n",
       "      <td>76</td>\n",
       "    </tr>\n",
       "    <tr>\n",
       "      <th>Akt 0</th>\n",
       "      <td>425</td>\n",
       "      <td>1124</td>\n",
       "    </tr>\n",
       "  </tbody>\n",
       "</table>\n",
       "</div>"
      ],
      "text/plain": [
       "       Pred 1  Pred 0\n",
       "Akt 1     184      76\n",
       "Akt 0     425    1124"
      ]
     },
     "execution_count": 155,
     "metadata": {},
     "output_type": "execute_result"
    }
   ],
   "source": [
    "cm_logreg_base_os_mm = confusion_matrix(y_test, pred_test_os_mm, labels=[1, 0])\n",
    "cm_logreg_base_os_mm = pd.DataFrame(data=cm_logreg_base_os_mm, index=['Akt 1', 'Akt 0'], columns=['Pred 1', 'Pred 0'])\n",
    "cm_logreg_base_os_mm"
   ]
  },
  {
   "cell_type": "code",
   "execution_count": 156,
   "metadata": {},
   "outputs": [],
   "source": [
    "tp_logreg_os_mm = cm_logreg_base_os_mm['Pred 1'][0]\n",
    "tn_logreg_os_mm = cm_logreg_base_os_mm['Pred 0'][1]\n",
    "fp_logreg_os_mm = cm_logreg_base_os_mm['Pred 1'][1]\n",
    "fn_logreg_os_mm = cm_logreg_base_os_mm['Pred 0'][0]"
   ]
  },
  {
   "cell_type": "markdown",
   "metadata": {
    "id": "TfM9k0MWoebl"
   },
   "source": [
    "#### Robust Scaling with Random Over Sampling"
   ]
  },
  {
   "cell_type": "code",
   "execution_count": 157,
   "metadata": {
    "id": "dYdYjFDsoast"
   },
   "outputs": [],
   "source": [
    "rb_scale = RobustScaler()\n",
    "x_train_os[columns_continuous] = rb_scale.fit_transform(x_train_os[columns_continuous])\n",
    "logreg.fit(x_train_os, y_train_os)\n",
    "\n",
    "pred_train_os_rb = logreg.predict(x_train_os)\n",
    "x_test[columns_continuous] = rb_scale.fit_transform(x_test[columns_continuous])\n",
    "pred_test_os_rb = logreg.predict(x_test)"
   ]
  },
  {
   "cell_type": "code",
   "execution_count": 158,
   "metadata": {
    "id": "9aCDdeXxow4n"
   },
   "outputs": [],
   "source": [
    "logreg_acc_base_train_os_rb = accuracy_score(y_train_os, pred_train_os_rb)\n",
    "logreg_acc_base_test_os_rb = accuracy_score(y_test, pred_test_os_rb)\n",
    "logreg_recall_base_train_os_rb = recall_score(y_train_os, pred_train_os_rb)\n",
    "logreg_recall_base_test_os_rb = recall_score(y_test, pred_test_os_rb)\n",
    "logreg_prec_base_train_os_rb = precision_score(y_train_os, pred_train_os_rb)\n",
    "logreg_prec_base_test_os_rb = precision_score(y_test, pred_test_os_rb)\n",
    "logreg_f1_base_train_os_rb = f1_score(y_train_os, pred_train_os_rb)\n",
    "logreg_f1_base_test_os_rb = f1_score(y_test, pred_test_os_rb)"
   ]
  },
  {
   "cell_type": "code",
   "execution_count": 159,
   "metadata": {
    "colab": {
     "base_uri": "https://localhost:8080/",
     "height": 110
    },
    "id": "VjJEx91uo8C9",
    "outputId": "32d0835b-02a9-40e4-874e-2d6d32399d0e"
   },
   "outputs": [
    {
     "data": {
      "text/html": [
       "<div>\n",
       "<style scoped>\n",
       "    .dataframe tbody tr th:only-of-type {\n",
       "        vertical-align: middle;\n",
       "    }\n",
       "\n",
       "    .dataframe tbody tr th {\n",
       "        vertical-align: top;\n",
       "    }\n",
       "\n",
       "    .dataframe thead th {\n",
       "        text-align: right;\n",
       "    }\n",
       "</style>\n",
       "<table border=\"1\" class=\"dataframe\">\n",
       "  <thead>\n",
       "    <tr style=\"text-align: right;\">\n",
       "      <th></th>\n",
       "      <th>Pred 1</th>\n",
       "      <th>Pred 0</th>\n",
       "    </tr>\n",
       "  </thead>\n",
       "  <tbody>\n",
       "    <tr>\n",
       "      <th>Akt 1</th>\n",
       "      <td>191</td>\n",
       "      <td>69</td>\n",
       "    </tr>\n",
       "    <tr>\n",
       "      <th>Akt 0</th>\n",
       "      <td>454</td>\n",
       "      <td>1095</td>\n",
       "    </tr>\n",
       "  </tbody>\n",
       "</table>\n",
       "</div>"
      ],
      "text/plain": [
       "       Pred 1  Pred 0\n",
       "Akt 1     191      69\n",
       "Akt 0     454    1095"
      ]
     },
     "execution_count": 159,
     "metadata": {},
     "output_type": "execute_result"
    }
   ],
   "source": [
    "cm_logreg_base_os_rb = confusion_matrix(y_test, pred_test_os_rb, labels=[1, 0])\n",
    "cm_logreg_base_os_rb = pd.DataFrame(data=cm_logreg_base_os_rb, index=['Akt 1', 'Akt 0'], columns=['Pred 1', 'Pred 0'])\n",
    "cm_logreg_base_os_rb"
   ]
  },
  {
   "cell_type": "code",
   "execution_count": 160,
   "metadata": {},
   "outputs": [],
   "source": [
    "tp_logreg_os_rb = cm_logreg_base_os_rb['Pred 1'][0]\n",
    "tn_logreg_os_rb = cm_logreg_base_os_rb['Pred 0'][1]\n",
    "fp_logreg_os_rb = cm_logreg_base_os_rb['Pred 1'][1]\n",
    "fn_logreg_os_rb = cm_logreg_base_os_rb['Pred 0'][0]"
   ]
  },
  {
   "cell_type": "markdown",
   "metadata": {
    "id": "-vEeoct9sjm6"
   },
   "source": [
    "#### Standard Scaling with Smote"
   ]
  },
  {
   "cell_type": "code",
   "execution_count": 161,
   "metadata": {
    "id": "E-ih8kpxq1Xw"
   },
   "outputs": [],
   "source": [
    "x[columns_continuous] = std_scale.fit_transform(x[columns_continuous])\n",
    "logreg.fit(x_train_sm, y_train_sm)\n",
    "\n",
    "pred_train_sm_std = logreg.predict(x_train_sm)\n",
    "x_test[columns_continuous] = std_scale.fit_transform(x_test[columns_continuous])\n",
    "pred_test_sm_std = logreg.predict(x_test)"
   ]
  },
  {
   "cell_type": "code",
   "execution_count": 162,
   "metadata": {
    "id": "aW8itP9vtIDu"
   },
   "outputs": [],
   "source": [
    "logreg_acc_base_train_sm_std = accuracy_score(y_train_sm, pred_train_sm_std)\n",
    "logreg_acc_base_test_sm_std = accuracy_score(y_test, pred_test_sm_std)\n",
    "logreg_recall_base_train_sm_std = recall_score(y_train_sm, pred_train_sm_std)\n",
    "logreg_recall_base_test_sm_std = recall_score(y_test, pred_test_sm_std)\n",
    "logreg_prec_base_train_sm_std = precision_score(y_train_sm, pred_train_sm_std)\n",
    "logreg_prec_base_test_sm_std = precision_score(y_test, pred_test_sm_std)\n",
    "logreg_f1_base_train_sm_std = f1_score(y_train_sm, pred_train_sm_std)\n",
    "logreg_f1_base_test_sm_std = f1_score(y_test, pred_test_sm_std)"
   ]
  },
  {
   "cell_type": "code",
   "execution_count": 163,
   "metadata": {
    "colab": {
     "base_uri": "https://localhost:8080/",
     "height": 110
    },
    "id": "fS7nTf7_tbtJ",
    "outputId": "6d48d119-418a-4689-883e-d963698815c9"
   },
   "outputs": [
    {
     "data": {
      "text/html": [
       "<div>\n",
       "<style scoped>\n",
       "    .dataframe tbody tr th:only-of-type {\n",
       "        vertical-align: middle;\n",
       "    }\n",
       "\n",
       "    .dataframe tbody tr th {\n",
       "        vertical-align: top;\n",
       "    }\n",
       "\n",
       "    .dataframe thead th {\n",
       "        text-align: right;\n",
       "    }\n",
       "</style>\n",
       "<table border=\"1\" class=\"dataframe\">\n",
       "  <thead>\n",
       "    <tr style=\"text-align: right;\">\n",
       "      <th></th>\n",
       "      <th>Pred 1</th>\n",
       "      <th>Pred 0</th>\n",
       "    </tr>\n",
       "  </thead>\n",
       "  <tbody>\n",
       "    <tr>\n",
       "      <th>Akt 1</th>\n",
       "      <td>52</td>\n",
       "      <td>208</td>\n",
       "    </tr>\n",
       "    <tr>\n",
       "      <th>Akt 0</th>\n",
       "      <td>35</td>\n",
       "      <td>1514</td>\n",
       "    </tr>\n",
       "  </tbody>\n",
       "</table>\n",
       "</div>"
      ],
      "text/plain": [
       "       Pred 1  Pred 0\n",
       "Akt 1      52     208\n",
       "Akt 0      35    1514"
      ]
     },
     "execution_count": 163,
     "metadata": {},
     "output_type": "execute_result"
    }
   ],
   "source": [
    "cm_logreg_base_sm_std = confusion_matrix(y_test, pred_test_sm_std, labels=[1, 0])\n",
    "cm_logreg_base_sm_std = pd.DataFrame(data=cm_logreg_base_sm_std, index=['Akt 1', 'Akt 0'], columns=['Pred 1', 'Pred 0'])\n",
    "cm_logreg_base_sm_std"
   ]
  },
  {
   "cell_type": "code",
   "execution_count": 164,
   "metadata": {},
   "outputs": [],
   "source": [
    "tp_logreg_sm_std = cm_logreg_base_sm_std['Pred 1'][0]\n",
    "tn_logreg_sm_std = cm_logreg_base_sm_std['Pred 0'][1]\n",
    "fp_logreg_sm_std = cm_logreg_base_sm_std['Pred 1'][1]\n",
    "fn_logreg_sm_std = cm_logreg_base_sm_std['Pred 0'][0]"
   ]
  },
  {
   "cell_type": "markdown",
   "metadata": {
    "id": "GTH6hxRptxmr"
   },
   "source": [
    "#### MinMax Scaling with Smote"
   ]
  },
  {
   "cell_type": "code",
   "execution_count": 165,
   "metadata": {
    "id": "cJb_jJOktkgT"
   },
   "outputs": [],
   "source": [
    "mm_scale = MinMaxScaler()\n",
    "x[columns_continuous] = mm_scale.fit_transform(x[columns_continuous])\n",
    "logreg.fit(x_train_sm, y_train_sm)\n",
    "\n",
    "pred_train_sm_mm = logreg.predict(x_train_sm)\n",
    "x_test[columns_continuous] = mm_scale.fit_transform(x_test[columns_continuous])\n",
    "pred_test_sm_mm = logreg.predict(x_test)"
   ]
  },
  {
   "cell_type": "code",
   "execution_count": 166,
   "metadata": {
    "id": "4RFEOT6NuBhv"
   },
   "outputs": [],
   "source": [
    "logreg_acc_base_train_sm_mm = accuracy_score(y_train_sm, pred_train_sm_mm)\n",
    "logreg_acc_base_test_sm_mm = accuracy_score(y_test, pred_test_sm_mm)\n",
    "logreg_recall_base_train_sm_mm = recall_score(y_train_sm, pred_train_sm_mm)\n",
    "logreg_recall_base_test_sm_mm = recall_score(y_test, pred_test_sm_mm)\n",
    "logreg_prec_base_train_sm_mm = precision_score(y_train_sm, pred_train_sm_mm)\n",
    "logreg_prec_base_test_sm_mm = precision_score(y_test, pred_test_sm_mm)\n",
    "logreg_f1_base_train_sm_mm = f1_score(y_train_sm, pred_train_sm_mm)\n",
    "logreg_f1_base_test_sm_mm = f1_score(y_test, pred_test_sm_mm)"
   ]
  },
  {
   "cell_type": "code",
   "execution_count": 167,
   "metadata": {
    "colab": {
     "base_uri": "https://localhost:8080/",
     "height": 110
    },
    "id": "3e9hYPkYub6W",
    "outputId": "8bd53708-3e33-40e1-a2a3-cdcb82836edc"
   },
   "outputs": [
    {
     "data": {
      "text/html": [
       "<div>\n",
       "<style scoped>\n",
       "    .dataframe tbody tr th:only-of-type {\n",
       "        vertical-align: middle;\n",
       "    }\n",
       "\n",
       "    .dataframe tbody tr th {\n",
       "        vertical-align: top;\n",
       "    }\n",
       "\n",
       "    .dataframe thead th {\n",
       "        text-align: right;\n",
       "    }\n",
       "</style>\n",
       "<table border=\"1\" class=\"dataframe\">\n",
       "  <thead>\n",
       "    <tr style=\"text-align: right;\">\n",
       "      <th></th>\n",
       "      <th>Pred 1</th>\n",
       "      <th>Pred 0</th>\n",
       "    </tr>\n",
       "  </thead>\n",
       "  <tbody>\n",
       "    <tr>\n",
       "      <th>Akt 1</th>\n",
       "      <td>54</td>\n",
       "      <td>206</td>\n",
       "    </tr>\n",
       "    <tr>\n",
       "      <th>Akt 0</th>\n",
       "      <td>40</td>\n",
       "      <td>1509</td>\n",
       "    </tr>\n",
       "  </tbody>\n",
       "</table>\n",
       "</div>"
      ],
      "text/plain": [
       "       Pred 1  Pred 0\n",
       "Akt 1      54     206\n",
       "Akt 0      40    1509"
      ]
     },
     "execution_count": 167,
     "metadata": {},
     "output_type": "execute_result"
    }
   ],
   "source": [
    "cm_logreg_base_sm_mm = confusion_matrix(y_test, pred_test_sm_mm, labels=[1, 0])\n",
    "cm_logreg_base_sm_mm = pd.DataFrame(data=cm_logreg_base_sm_mm, index=['Akt 1', 'Akt 0'], columns=['Pred 1', 'Pred 0'])\n",
    "cm_logreg_base_sm_mm"
   ]
  },
  {
   "cell_type": "code",
   "execution_count": 168,
   "metadata": {},
   "outputs": [],
   "source": [
    "tp_logreg_sm_mm = cm_logreg_base_sm_mm['Pred 1'][0]\n",
    "tn_logreg_sm_mm = cm_logreg_base_sm_mm['Pred 0'][1]\n",
    "fp_logreg_sm_mm = cm_logreg_base_sm_mm['Pred 1'][1]\n",
    "fn_logreg_sm_mm = cm_logreg_base_sm_mm['Pred 0'][0]"
   ]
  },
  {
   "cell_type": "markdown",
   "metadata": {
    "id": "5db8l9RXu0xf"
   },
   "source": [
    "#### Robust Scaling with Smote"
   ]
  },
  {
   "cell_type": "code",
   "execution_count": 169,
   "metadata": {
    "id": "7TUz3cbrujOy"
   },
   "outputs": [],
   "source": [
    "rb_scale = RobustScaler()\n",
    "x[columns_continuous] = rb_scale.fit_transform(x[columns_continuous])\n",
    "logreg.fit(x_train_sm, y_train_sm)\n",
    "\n",
    "pred_train_sm_rb = logreg.predict(x_train_sm)\n",
    "x_test[columns_continuous] = rb_scale.fit_transform(x_test[columns_continuous])\n",
    "pred_test_sm_rb = logreg.predict(x_test)"
   ]
  },
  {
   "cell_type": "code",
   "execution_count": 170,
   "metadata": {
    "id": "YFFI65T9vEP1"
   },
   "outputs": [],
   "source": [
    "logreg_acc_base_train_sm_rb = accuracy_score(y_train_sm, pred_train_sm_rb)\n",
    "logreg_acc_base_test_sm_rb = accuracy_score(y_test, pred_test_sm_rb)\n",
    "logreg_recall_base_train_sm_rb = recall_score(y_train_sm, pred_train_sm_rb)\n",
    "logreg_recall_base_test_sm_rb = recall_score(y_test, pred_test_sm_rb)\n",
    "logreg_prec_base_train_sm_rb = precision_score(y_train_sm, pred_train_sm_rb)\n",
    "logreg_prec_base_test_sm_rb = precision_score(y_test, pred_test_sm_rb)\n",
    "logreg_f1_base_train_sm_rb = f1_score(y_train_sm, pred_train_sm_rb)\n",
    "logreg_f1_base_test_sm_rb = f1_score(y_test, pred_test_sm_rb)"
   ]
  },
  {
   "cell_type": "code",
   "execution_count": 171,
   "metadata": {
    "colab": {
     "base_uri": "https://localhost:8080/",
     "height": 110
    },
    "id": "p5W8n4ejvY1U",
    "outputId": "aa86b1ae-4ed5-436e-b6f1-40f2798f1040"
   },
   "outputs": [
    {
     "data": {
      "text/html": [
       "<div>\n",
       "<style scoped>\n",
       "    .dataframe tbody tr th:only-of-type {\n",
       "        vertical-align: middle;\n",
       "    }\n",
       "\n",
       "    .dataframe tbody tr th {\n",
       "        vertical-align: top;\n",
       "    }\n",
       "\n",
       "    .dataframe thead th {\n",
       "        text-align: right;\n",
       "    }\n",
       "</style>\n",
       "<table border=\"1\" class=\"dataframe\">\n",
       "  <thead>\n",
       "    <tr style=\"text-align: right;\">\n",
       "      <th></th>\n",
       "      <th>Pred 1</th>\n",
       "      <th>Pred 0</th>\n",
       "    </tr>\n",
       "  </thead>\n",
       "  <tbody>\n",
       "    <tr>\n",
       "      <th>Akt 1</th>\n",
       "      <td>45</td>\n",
       "      <td>215</td>\n",
       "    </tr>\n",
       "    <tr>\n",
       "      <th>Akt 0</th>\n",
       "      <td>21</td>\n",
       "      <td>1528</td>\n",
       "    </tr>\n",
       "  </tbody>\n",
       "</table>\n",
       "</div>"
      ],
      "text/plain": [
       "       Pred 1  Pred 0\n",
       "Akt 1      45     215\n",
       "Akt 0      21    1528"
      ]
     },
     "execution_count": 171,
     "metadata": {},
     "output_type": "execute_result"
    }
   ],
   "source": [
    "cm_logreg_base_sm_rb = confusion_matrix(y_test, pred_test_sm_rb, labels=[1, 0])\n",
    "cm_logreg_base_sm_rb = pd.DataFrame(data=cm_logreg_base_sm_rb, index=['Akt 1', 'Akt 0'], columns=['Pred 1', 'Pred 0'])\n",
    "cm_logreg_base_sm_rb"
   ]
  },
  {
   "cell_type": "code",
   "execution_count": 172,
   "metadata": {},
   "outputs": [],
   "source": [
    "tp_logreg_sm_rb = cm_logreg_base_sm_rb['Pred 1'][0]\n",
    "tn_logreg_sm_rb = cm_logreg_base_sm_rb['Pred 0'][1]\n",
    "fp_logreg_sm_rb = cm_logreg_base_sm_rb['Pred 1'][1]\n",
    "fn_logreg_sm_rb = cm_logreg_base_sm_rb['Pred 0'][0]"
   ]
  },
  {
   "cell_type": "markdown",
   "metadata": {
    "id": "3h5MNZXa2u_4"
   },
   "source": [
    "### Evaluation For SVM and Logistic Regression"
   ]
  },
  {
   "cell_type": "code",
   "execution_count": 173,
   "metadata": {
    "id": "yjRXgKyI224M"
   },
   "outputs": [],
   "source": [
    "distance_base = {\n",
    "    \"SVM_OS_Train\": [svm_acc_base_train_os, svm_recall_base_train_os, svm_prec_base_train_os, svm_f1_base_train_os],\n",
    "    \"SVM_OS_Test\" : [svm_acc_base_test_os, svm_recall_base_test_os, svm_prec_base_test_os, svm_f1_base_test_os],\n",
    "    \"SVM_SM_Train\": [svm_acc_base_train_sm, svm_recall_base_train_sm, svm_prec_base_train_sm, svm_f1_base_train_sm],\n",
    "    \"SVM_SM_Test\" : [svm_acc_base_test_sm, svm_recall_base_test_sm, svm_prec_base_test_sm, svm_f1_base_test_sm],\n",
    "    \"Logreg_OS_Train\": [logreg_acc_base_train_os, logreg_recall_base_train_os, logreg_prec_base_train_os, logreg_f1_base_train_os],\n",
    "    \"Logreg_OS_Test\" : [logreg_acc_base_test_os, logreg_recall_base_test_os, logreg_prec_base_test_os, logreg_f1_base_test_os],\n",
    "    \"Logreg_SM_Train\": [logreg_acc_base_train_sm, logreg_recall_base_train_sm, logreg_prec_base_train_sm, logreg_f1_base_train_sm],\n",
    "    \"Logreg_SM_Test\" : [logreg_acc_base_test_sm, logreg_recall_base_test_sm, logreg_prec_base_test_sm, logreg_f1_base_test_sm]\n",
    "    }\n",
    "base_matrix = pd.DataFrame(data = distance_base, index = ['Accuracy', 'Recall', 'Precision', 'F1 Score'])\n",
    "\n",
    "dictance_base_os = {\n",
    "    \"SVM Standard_OS_Train\": [svm_acc_base_train_os_std, svm_recall_base_train_os_std, svm_prec_base_train_os_std, svm_f1_base_train_os_std],\n",
    "    \"SVM Standard_OS_Test\" : [svm_acc_base_test_os_std, svm_recall_base_test_os_std, svm_prec_base_test_os_std, svm_f1_base_test_os_std],\n",
    "    \"SVM MinMax_OS_Train\": [svm_acc_base_train_os_mm, svm_recall_base_train_os_mm, svm_prec_base_train_os_mm, svm_f1_base_train_os_mm],\n",
    "    \"SVM MinMax_OS_Test\" : [svm_acc_base_test_os_mm, svm_recall_base_test_os_mm, svm_prec_base_test_os_mm, svm_f1_base_test_os_mm],\n",
    "    \"SVM Robust_OS_Train\": [svm_acc_base_train_os_rb, svm_recall_base_train_os_rb, svm_prec_base_train_os_rb, svm_f1_base_train_os_rb],\n",
    "    \"SVM Robust_OS_Test\" : [svm_acc_base_test_os_rb, svm_recall_base_test_os_rb, svm_prec_base_test_os_rb, svm_f1_base_test_os_rb],\n",
    "    \"Logreg Standard_OS_Train\": [logreg_acc_base_train_os_std, logreg_recall_base_train_os_std, logreg_prec_base_train_os_std, logreg_f1_base_train_os_std],\n",
    "    \"Logreg Standard_OS_Test\" : [logreg_acc_base_test_os_std, logreg_recall_base_test_os_std, logreg_prec_base_test_os_std, logreg_f1_base_test_os_std],\n",
    "    \"Logreg MinMax_OS_Train\": [logreg_acc_base_train_os_mm, logreg_recall_base_train_os_mm, logreg_prec_base_train_os_mm, logreg_f1_base_train_os_mm],\n",
    "    \"Logreg MinMax_OS_Test\" : [logreg_acc_base_test_os_mm, logreg_recall_base_test_os_mm, logreg_prec_base_test_os_mm, logreg_f1_base_test_os_mm],\n",
    "    \"Logreg Robust_OS_Train\": [logreg_acc_base_train_os_rb, logreg_recall_base_train_os_rb, logreg_prec_base_train_os_rb, logreg_f1_base_train_os_rb],\n",
    "    \"Logreg Robust_OS_Test\" : [logreg_acc_base_test_os_rb, logreg_recall_base_test_os_rb, logreg_prec_base_test_os_rb, logreg_f1_base_test_os_rb]\n",
    "    }\n",
    "distance_base_os_matrix = pd.DataFrame(data = dictance_base_os, index = ['Accuracy', 'Recall', 'Precision', 'F1 Score'])\n",
    "\n",
    "distance_base_sm = {\n",
    "    \"SVM Standard_SM_Train\": [svm_acc_base_train_sm_std, svm_recall_base_train_sm_std, svm_prec_base_train_sm_std, svm_f1_base_train_sm_std],\n",
    "    \"SVM Standard_SM_Test\" : [svm_acc_base_test_sm_std, svm_recall_base_test_sm_std, svm_prec_base_test_sm_std, svm_f1_base_test_sm_std],\n",
    "    \"SVM MinMax_SM_Train\": [svm_acc_base_train_sm_mm, svm_recall_base_train_sm_mm, svm_prec_base_train_sm_mm, svm_f1_base_train_sm_mm],\n",
    "    \"SVM MinMax_SM_Test\" : [svm_acc_base_test_sm_mm, svm_recall_base_test_sm_mm, svm_prec_base_test_sm_mm, svm_f1_base_test_sm_mm],\n",
    "    \"SVM Robust_SM_Train\": [svm_acc_base_train_sm_rb, svm_recall_base_train_sm_rb, svm_prec_base_train_sm_rb, svm_f1_base_train_sm_rb],\n",
    "    \"SVM Robust_SM_Test\" : [svm_acc_base_test_sm_rb, svm_recall_base_test_sm_rb, svm_prec_base_test_sm_rb, svm_f1_base_test_sm_rb],\n",
    "    \"Logreg Standard_SM_Train\": [logreg_acc_base_train_sm_std, logreg_recall_base_train_sm_std, logreg_prec_base_train_sm_std, logreg_f1_base_train_sm_std],\n",
    "    \"Logreg Standard_SM_Test\" : [logreg_acc_base_test_sm_std, logreg_recall_base_test_sm_std, logreg_prec_base_test_sm_std, logreg_f1_base_test_sm_std],\n",
    "    \"Logreg MinMax_SM_Train\": [logreg_acc_base_train_sm_mm, logreg_recall_base_train_sm_mm, logreg_prec_base_train_sm_mm, logreg_f1_base_train_sm_mm],\n",
    "    \"Logreg MinMax_SM_Test\" : [logreg_acc_base_test_sm_mm, logreg_recall_base_test_sm_mm, logreg_prec_base_test_sm_mm, logreg_f1_base_test_sm_mm],\n",
    "    \"Logreg Robust_SM_Train\": [logreg_acc_base_train_sm_rb, logreg_recall_base_train_sm_rb, logreg_prec_base_train_sm_rb, logreg_f1_base_train_sm_rb],\n",
    "    \"Logreg Robust_SM_Test\" : [logreg_acc_base_test_sm_rb, logreg_recall_base_test_sm_rb, logreg_prec_base_test_sm_rb, logreg_f1_base_test_sm_rb]\n",
    "    }\n",
    "distance_base_sm_matrix = pd.DataFrame(data = distance_base_sm, index = ['Accuracy', 'Recall', 'Precision', 'F1 Score'])"
   ]
  },
  {
   "cell_type": "code",
   "execution_count": 174,
   "metadata": {
    "colab": {
     "base_uri": "https://localhost:8080/",
     "height": 141
    },
    "id": "ddEppG_4vf7P",
    "outputId": "c8ffef20-b6f1-4ccc-b8dd-6f85bb8f4e22"
   },
   "outputs": [
    {
     "data": {
      "text/html": [
       "<div>\n",
       "<style scoped>\n",
       "    .dataframe tbody tr th:only-of-type {\n",
       "        vertical-align: middle;\n",
       "    }\n",
       "\n",
       "    .dataframe tbody tr th {\n",
       "        vertical-align: top;\n",
       "    }\n",
       "\n",
       "    .dataframe thead th {\n",
       "        text-align: right;\n",
       "    }\n",
       "</style>\n",
       "<table border=\"1\" class=\"dataframe\">\n",
       "  <thead>\n",
       "    <tr style=\"text-align: right;\">\n",
       "      <th></th>\n",
       "      <th>SVM_OS_Train</th>\n",
       "      <th>SVM_OS_Test</th>\n",
       "      <th>SVM_SM_Train</th>\n",
       "      <th>SVM_SM_Test</th>\n",
       "      <th>Logreg_OS_Train</th>\n",
       "      <th>Logreg_OS_Test</th>\n",
       "      <th>Logreg_SM_Train</th>\n",
       "      <th>Logreg_SM_Test</th>\n",
       "    </tr>\n",
       "  </thead>\n",
       "  <tbody>\n",
       "    <tr>\n",
       "      <th>Accuracy</th>\n",
       "      <td>0.578140</td>\n",
       "      <td>0.464898</td>\n",
       "      <td>0.581208</td>\n",
       "      <td>0.469873</td>\n",
       "      <td>0.742412</td>\n",
       "      <td>0.710890</td>\n",
       "      <td>0.908621</td>\n",
       "      <td>0.869541</td>\n",
       "    </tr>\n",
       "    <tr>\n",
       "      <th>Recall</th>\n",
       "      <td>0.734743</td>\n",
       "      <td>0.703846</td>\n",
       "      <td>0.731837</td>\n",
       "      <td>0.700000</td>\n",
       "      <td>0.783662</td>\n",
       "      <td>0.734615</td>\n",
       "      <td>0.836132</td>\n",
       "      <td>0.173077</td>\n",
       "    </tr>\n",
       "    <tr>\n",
       "      <th>Precision</th>\n",
       "      <td>0.559503</td>\n",
       "      <td>0.170391</td>\n",
       "      <td>0.562407</td>\n",
       "      <td>0.171214</td>\n",
       "      <td>0.723937</td>\n",
       "      <td>0.296124</td>\n",
       "      <td>0.977908</td>\n",
       "      <td>0.681818</td>\n",
       "    </tr>\n",
       "    <tr>\n",
       "      <th>F1 Score</th>\n",
       "      <td>0.635260</td>\n",
       "      <td>0.274363</td>\n",
       "      <td>0.636032</td>\n",
       "      <td>0.275132</td>\n",
       "      <td>0.752616</td>\n",
       "      <td>0.422099</td>\n",
       "      <td>0.901480</td>\n",
       "      <td>0.276074</td>\n",
       "    </tr>\n",
       "  </tbody>\n",
       "</table>\n",
       "</div>"
      ],
      "text/plain": [
       "           SVM_OS_Train  SVM_OS_Test  SVM_SM_Train  SVM_SM_Test  \\\n",
       "Accuracy       0.578140     0.464898      0.581208     0.469873   \n",
       "Recall         0.734743     0.703846      0.731837     0.700000   \n",
       "Precision      0.559503     0.170391      0.562407     0.171214   \n",
       "F1 Score       0.635260     0.274363      0.636032     0.275132   \n",
       "\n",
       "           Logreg_OS_Train  Logreg_OS_Test  Logreg_SM_Train  Logreg_SM_Test  \n",
       "Accuracy          0.742412        0.710890         0.908621        0.869541  \n",
       "Recall            0.783662        0.734615         0.836132        0.173077  \n",
       "Precision         0.723937        0.296124         0.977908        0.681818  \n",
       "F1 Score          0.752616        0.422099         0.901480        0.276074  "
      ]
     },
     "execution_count": 174,
     "metadata": {},
     "output_type": "execute_result"
    }
   ],
   "source": [
    "base_matrix"
   ]
  },
  {
   "cell_type": "code",
   "execution_count": 175,
   "metadata": {
    "colab": {
     "base_uri": "https://localhost:8080/",
     "height": 141
    },
    "id": "F1Cpf49Pvndf",
    "outputId": "3f194a08-2de0-4b84-abb4-3339f11ac008"
   },
   "outputs": [
    {
     "data": {
      "text/html": [
       "<div>\n",
       "<style scoped>\n",
       "    .dataframe tbody tr th:only-of-type {\n",
       "        vertical-align: middle;\n",
       "    }\n",
       "\n",
       "    .dataframe tbody tr th {\n",
       "        vertical-align: top;\n",
       "    }\n",
       "\n",
       "    .dataframe thead th {\n",
       "        text-align: right;\n",
       "    }\n",
       "</style>\n",
       "<table border=\"1\" class=\"dataframe\">\n",
       "  <thead>\n",
       "    <tr style=\"text-align: right;\">\n",
       "      <th></th>\n",
       "      <th>SVM Standard_OS_Train</th>\n",
       "      <th>SVM Standard_OS_Test</th>\n",
       "      <th>SVM MinMax_OS_Train</th>\n",
       "      <th>SVM MinMax_OS_Test</th>\n",
       "      <th>SVM Robust_OS_Train</th>\n",
       "      <th>SVM Robust_OS_Test</th>\n",
       "      <th>Logreg Standard_OS_Train</th>\n",
       "      <th>Logreg Standard_OS_Test</th>\n",
       "      <th>Logreg MinMax_OS_Train</th>\n",
       "      <th>Logreg MinMax_OS_Test</th>\n",
       "      <th>Logreg Robust_OS_Train</th>\n",
       "      <th>Logreg Robust_OS_Test</th>\n",
       "    </tr>\n",
       "  </thead>\n",
       "  <tbody>\n",
       "    <tr>\n",
       "      <th>Accuracy</th>\n",
       "      <td>0.938327</td>\n",
       "      <td>0.875622</td>\n",
       "      <td>0.920972</td>\n",
       "      <td>0.854063</td>\n",
       "      <td>0.936794</td>\n",
       "      <td>0.874516</td>\n",
       "      <td>0.741928</td>\n",
       "      <td>0.709784</td>\n",
       "      <td>0.743219</td>\n",
       "      <td>0.723051</td>\n",
       "      <td>0.741766</td>\n",
       "      <td>0.710890</td>\n",
       "    </tr>\n",
       "    <tr>\n",
       "      <th>Recall</th>\n",
       "      <td>0.982241</td>\n",
       "      <td>0.923077</td>\n",
       "      <td>0.973846</td>\n",
       "      <td>0.915385</td>\n",
       "      <td>0.980949</td>\n",
       "      <td>0.923077</td>\n",
       "      <td>0.782531</td>\n",
       "      <td>0.746154</td>\n",
       "      <td>0.785438</td>\n",
       "      <td>0.707692</td>\n",
       "      <td>0.782531</td>\n",
       "      <td>0.734615</td>\n",
       "    </tr>\n",
       "    <tr>\n",
       "      <th>Precision</th>\n",
       "      <td>0.902939</td>\n",
       "      <td>0.539326</td>\n",
       "      <td>0.880713</td>\n",
       "      <td>0.495833</td>\n",
       "      <td>0.901350</td>\n",
       "      <td>0.536913</td>\n",
       "      <td>0.723757</td>\n",
       "      <td>0.297090</td>\n",
       "      <td>0.724282</td>\n",
       "      <td>0.302135</td>\n",
       "      <td>0.723541</td>\n",
       "      <td>0.296124</td>\n",
       "    </tr>\n",
       "    <tr>\n",
       "      <th>F1 Score</th>\n",
       "      <td>0.940922</td>\n",
       "      <td>0.680851</td>\n",
       "      <td>0.924941</td>\n",
       "      <td>0.643243</td>\n",
       "      <td>0.939467</td>\n",
       "      <td>0.678925</td>\n",
       "      <td>0.751998</td>\n",
       "      <td>0.424973</td>\n",
       "      <td>0.753621</td>\n",
       "      <td>0.423475</td>\n",
       "      <td>0.751881</td>\n",
       "      <td>0.422099</td>\n",
       "    </tr>\n",
       "  </tbody>\n",
       "</table>\n",
       "</div>"
      ],
      "text/plain": [
       "           SVM Standard_OS_Train  SVM Standard_OS_Test  SVM MinMax_OS_Train  \\\n",
       "Accuracy                0.938327              0.875622             0.920972   \n",
       "Recall                  0.982241              0.923077             0.973846   \n",
       "Precision               0.902939              0.539326             0.880713   \n",
       "F1 Score                0.940922              0.680851             0.924941   \n",
       "\n",
       "           SVM MinMax_OS_Test  SVM Robust_OS_Train  SVM Robust_OS_Test  \\\n",
       "Accuracy             0.854063             0.936794            0.874516   \n",
       "Recall               0.915385             0.980949            0.923077   \n",
       "Precision            0.495833             0.901350            0.536913   \n",
       "F1 Score             0.643243             0.939467            0.678925   \n",
       "\n",
       "           Logreg Standard_OS_Train  Logreg Standard_OS_Test  \\\n",
       "Accuracy                   0.741928                 0.709784   \n",
       "Recall                     0.782531                 0.746154   \n",
       "Precision                  0.723757                 0.297090   \n",
       "F1 Score                   0.751998                 0.424973   \n",
       "\n",
       "           Logreg MinMax_OS_Train  Logreg MinMax_OS_Test  \\\n",
       "Accuracy                 0.743219               0.723051   \n",
       "Recall                   0.785438               0.707692   \n",
       "Precision                0.724282               0.302135   \n",
       "F1 Score                 0.753621               0.423475   \n",
       "\n",
       "           Logreg Robust_OS_Train  Logreg Robust_OS_Test  \n",
       "Accuracy                 0.741766               0.710890  \n",
       "Recall                   0.782531               0.734615  \n",
       "Precision                0.723541               0.296124  \n",
       "F1 Score                 0.751881               0.422099  "
      ]
     },
     "execution_count": 175,
     "metadata": {},
     "output_type": "execute_result"
    }
   ],
   "source": [
    "distance_base_os_matrix\n",
    "#SVM Robust OS"
   ]
  },
  {
   "cell_type": "code",
   "execution_count": 176,
   "metadata": {
    "colab": {
     "base_uri": "https://localhost:8080/",
     "height": 141
    },
    "id": "XNL_wRqW36dJ",
    "outputId": "c12f1350-a96c-4f13-b50a-7fd838981285"
   },
   "outputs": [
    {
     "data": {
      "text/html": [
       "<div>\n",
       "<style scoped>\n",
       "    .dataframe tbody tr th:only-of-type {\n",
       "        vertical-align: middle;\n",
       "    }\n",
       "\n",
       "    .dataframe tbody tr th {\n",
       "        vertical-align: top;\n",
       "    }\n",
       "\n",
       "    .dataframe thead th {\n",
       "        text-align: right;\n",
       "    }\n",
       "</style>\n",
       "<table border=\"1\" class=\"dataframe\">\n",
       "  <thead>\n",
       "    <tr style=\"text-align: right;\">\n",
       "      <th></th>\n",
       "      <th>SVM Standard_SM_Train</th>\n",
       "      <th>SVM Standard_SM_Test</th>\n",
       "      <th>SVM MinMax_SM_Train</th>\n",
       "      <th>SVM MinMax_SM_Test</th>\n",
       "      <th>SVM Robust_SM_Train</th>\n",
       "      <th>SVM Robust_SM_Test</th>\n",
       "      <th>Logreg Standard_SM_Train</th>\n",
       "      <th>Logreg Standard_SM_Test</th>\n",
       "      <th>Logreg MinMax_SM_Train</th>\n",
       "      <th>Logreg MinMax_SM_Test</th>\n",
       "      <th>Logreg Robust_SM_Train</th>\n",
       "      <th>Logreg Robust_SM_Test</th>\n",
       "    </tr>\n",
       "  </thead>\n",
       "  <tbody>\n",
       "    <tr>\n",
       "      <th>Accuracy</th>\n",
       "      <td>0.951405</td>\n",
       "      <td>0.893864</td>\n",
       "      <td>0.951405</td>\n",
       "      <td>0.871752</td>\n",
       "      <td>0.951405</td>\n",
       "      <td>0.887783</td>\n",
       "      <td>0.908621</td>\n",
       "      <td>0.865672</td>\n",
       "      <td>0.908621</td>\n",
       "      <td>0.864013</td>\n",
       "      <td>0.908621</td>\n",
       "      <td>0.869541</td>\n",
       "    </tr>\n",
       "    <tr>\n",
       "      <th>Recall</th>\n",
       "      <td>0.910720</td>\n",
       "      <td>0.323077</td>\n",
       "      <td>0.910720</td>\n",
       "      <td>0.192308</td>\n",
       "      <td>0.910720</td>\n",
       "      <td>0.265385</td>\n",
       "      <td>0.836132</td>\n",
       "      <td>0.200000</td>\n",
       "      <td>0.836132</td>\n",
       "      <td>0.207692</td>\n",
       "      <td>0.836132</td>\n",
       "      <td>0.173077</td>\n",
       "    </tr>\n",
       "    <tr>\n",
       "      <th>Precision</th>\n",
       "      <td>0.991388</td>\n",
       "      <td>0.840000</td>\n",
       "      <td>0.991388</td>\n",
       "      <td>0.694444</td>\n",
       "      <td>0.991388</td>\n",
       "      <td>0.851852</td>\n",
       "      <td>0.977908</td>\n",
       "      <td>0.597701</td>\n",
       "      <td>0.977908</td>\n",
       "      <td>0.574468</td>\n",
       "      <td>0.977908</td>\n",
       "      <td>0.681818</td>\n",
       "    </tr>\n",
       "    <tr>\n",
       "      <th>F1 Score</th>\n",
       "      <td>0.949344</td>\n",
       "      <td>0.466667</td>\n",
       "      <td>0.949344</td>\n",
       "      <td>0.301205</td>\n",
       "      <td>0.949344</td>\n",
       "      <td>0.404692</td>\n",
       "      <td>0.901480</td>\n",
       "      <td>0.299712</td>\n",
       "      <td>0.901480</td>\n",
       "      <td>0.305085</td>\n",
       "      <td>0.901480</td>\n",
       "      <td>0.276074</td>\n",
       "    </tr>\n",
       "  </tbody>\n",
       "</table>\n",
       "</div>"
      ],
      "text/plain": [
       "           SVM Standard_SM_Train  SVM Standard_SM_Test  SVM MinMax_SM_Train  \\\n",
       "Accuracy                0.951405              0.893864             0.951405   \n",
       "Recall                  0.910720              0.323077             0.910720   \n",
       "Precision               0.991388              0.840000             0.991388   \n",
       "F1 Score                0.949344              0.466667             0.949344   \n",
       "\n",
       "           SVM MinMax_SM_Test  SVM Robust_SM_Train  SVM Robust_SM_Test  \\\n",
       "Accuracy             0.871752             0.951405            0.887783   \n",
       "Recall               0.192308             0.910720            0.265385   \n",
       "Precision            0.694444             0.991388            0.851852   \n",
       "F1 Score             0.301205             0.949344            0.404692   \n",
       "\n",
       "           Logreg Standard_SM_Train  Logreg Standard_SM_Test  \\\n",
       "Accuracy                   0.908621                 0.865672   \n",
       "Recall                     0.836132                 0.200000   \n",
       "Precision                  0.977908                 0.597701   \n",
       "F1 Score                   0.901480                 0.299712   \n",
       "\n",
       "           Logreg MinMax_SM_Train  Logreg MinMax_SM_Test  \\\n",
       "Accuracy                 0.908621               0.864013   \n",
       "Recall                   0.836132               0.207692   \n",
       "Precision                0.977908               0.574468   \n",
       "F1 Score                 0.901480               0.305085   \n",
       "\n",
       "           Logreg Robust_SM_Train  Logreg Robust_SM_Test  \n",
       "Accuracy                 0.908621               0.869541  \n",
       "Recall                   0.836132               0.173077  \n",
       "Precision                0.977908               0.681818  \n",
       "F1 Score                 0.901480               0.276074  "
      ]
     },
     "execution_count": 176,
     "metadata": {},
     "output_type": "execute_result"
    }
   ],
   "source": [
    "distance_base_sm_matrix"
   ]
  },
  {
   "cell_type": "markdown",
   "metadata": {
    "id": "VI1092yjKtNt"
   },
   "source": [
    "## Decision Tree"
   ]
  },
  {
   "cell_type": "markdown",
   "metadata": {
    "id": "L3ZeYf-gMS6A"
   },
   "source": [
    "### Random Over Sampling"
   ]
  },
  {
   "cell_type": "code",
   "execution_count": 177,
   "metadata": {
    "id": "53ZE2_HcK0U5"
   },
   "outputs": [],
   "source": [
    "decision_tree = DecisionTreeClassifier()\n",
    "decision_tree.fit(x_train_os, y_train_os)\n",
    "pred_train_os = decision_tree.predict(x_train_os)\n",
    "pred_test_os = decision_tree.predict(x_test)"
   ]
  },
  {
   "cell_type": "code",
   "execution_count": 178,
   "metadata": {
    "id": "wcBzmHgsMCvh"
   },
   "outputs": [],
   "source": [
    "dt_acc_base_train_os = accuracy_score(y_train_os, pred_train_os)\n",
    "dt_acc_base_test_os = accuracy_score(y_test, pred_test_os)\n",
    "dt_recall_base_train_os = recall_score(y_train_os, pred_train_os)\n",
    "dt_recall_base_test_os = recall_score(y_test, pred_test_os)\n",
    "dt_prec_base_train_os = precision_score(y_train_os, pred_train_os)\n",
    "dt_prec_base_test_os = precision_score(y_test, pred_test_os)\n",
    "dt_f1_base_train_os = f1_score(y_train_os, pred_train_os)\n",
    "dt_f1_base_test_os = f1_score(y_test, pred_test_os)"
   ]
  },
  {
   "cell_type": "code",
   "execution_count": 179,
   "metadata": {
    "colab": {
     "base_uri": "https://localhost:8080/",
     "height": 110
    },
    "id": "h1oxahW6MH9x",
    "outputId": "55b32918-7896-44c3-cde1-5a97c8398093"
   },
   "outputs": [
    {
     "data": {
      "text/html": [
       "<div>\n",
       "<style scoped>\n",
       "    .dataframe tbody tr th:only-of-type {\n",
       "        vertical-align: middle;\n",
       "    }\n",
       "\n",
       "    .dataframe tbody tr th {\n",
       "        vertical-align: top;\n",
       "    }\n",
       "\n",
       "    .dataframe thead th {\n",
       "        text-align: right;\n",
       "    }\n",
       "</style>\n",
       "<table border=\"1\" class=\"dataframe\">\n",
       "  <thead>\n",
       "    <tr style=\"text-align: right;\">\n",
       "      <th></th>\n",
       "      <th>Pred 1</th>\n",
       "      <th>Pred 0</th>\n",
       "    </tr>\n",
       "  </thead>\n",
       "  <tbody>\n",
       "    <tr>\n",
       "      <th>Akt 1</th>\n",
       "      <td>131</td>\n",
       "      <td>129</td>\n",
       "    </tr>\n",
       "    <tr>\n",
       "      <th>Akt 0</th>\n",
       "      <td>50</td>\n",
       "      <td>1499</td>\n",
       "    </tr>\n",
       "  </tbody>\n",
       "</table>\n",
       "</div>"
      ],
      "text/plain": [
       "       Pred 1  Pred 0\n",
       "Akt 1     131     129\n",
       "Akt 0      50    1499"
      ]
     },
     "execution_count": 179,
     "metadata": {},
     "output_type": "execute_result"
    }
   ],
   "source": [
    "cm_dt_base_os = confusion_matrix(y_test, pred_test_os, labels=[1, 0])\n",
    "cm_dt_base_os = pd.DataFrame(data=cm_dt_base_os, index=['Akt 1', 'Akt 0'], columns=['Pred 1', 'Pred 0'])\n",
    "cm_dt_base_os"
   ]
  },
  {
   "cell_type": "code",
   "execution_count": 180,
   "metadata": {},
   "outputs": [],
   "source": [
    "tp_dt_os = cm_dt_base_os['Pred 1'][0]\n",
    "tn_dt_os = cm_dt_base_os['Pred 0'][1]\n",
    "fp_dt_os = cm_dt_base_os['Pred 1'][1]\n",
    "fn_dt_os = cm_dt_base_os['Pred 0'][0]"
   ]
  },
  {
   "cell_type": "markdown",
   "metadata": {
    "id": "PTmULUgjeg-E"
   },
   "source": [
    "### Smote"
   ]
  },
  {
   "cell_type": "code",
   "execution_count": 181,
   "metadata": {
    "id": "3K0grtLUei-6"
   },
   "outputs": [],
   "source": [
    "decision_tree.fit(x_train_sm, y_train_sm)\n",
    "pred_train_sm = decision_tree.predict(x_train_sm)\n",
    "pred_test_sm = decision_tree.predict(x_test)"
   ]
  },
  {
   "cell_type": "code",
   "execution_count": 182,
   "metadata": {
    "id": "W1w28afRexFE"
   },
   "outputs": [],
   "source": [
    "dt_acc_base_train_sm = accuracy_score(y_train_sm, pred_train_sm)\n",
    "dt_acc_base_test_sm = accuracy_score(y_test, pred_test_sm)\n",
    "dt_recall_base_train_sm = recall_score(y_train_sm, pred_train_sm)\n",
    "dt_recall_base_test_sm = recall_score(y_test, pred_test_sm)\n",
    "dt_prec_base_train_sm = precision_score(y_train_sm, pred_train_sm)\n",
    "dt_prec_base_test_sm = precision_score(y_test, pred_test_sm)\n",
    "dt_f1_base_train_sm = f1_score(y_train_sm, pred_train_sm)\n",
    "dt_f1_base_test_sm = f1_score(y_test, pred_test_sm)"
   ]
  },
  {
   "cell_type": "code",
   "execution_count": 183,
   "metadata": {
    "colab": {
     "base_uri": "https://localhost:8080/",
     "height": 110
    },
    "id": "CCiO8imTe_20",
    "outputId": "071b8df1-13d0-4ca8-b92d-d80584c72d57"
   },
   "outputs": [
    {
     "data": {
      "text/html": [
       "<div>\n",
       "<style scoped>\n",
       "    .dataframe tbody tr th:only-of-type {\n",
       "        vertical-align: middle;\n",
       "    }\n",
       "\n",
       "    .dataframe tbody tr th {\n",
       "        vertical-align: top;\n",
       "    }\n",
       "\n",
       "    .dataframe thead th {\n",
       "        text-align: right;\n",
       "    }\n",
       "</style>\n",
       "<table border=\"1\" class=\"dataframe\">\n",
       "  <thead>\n",
       "    <tr style=\"text-align: right;\">\n",
       "      <th></th>\n",
       "      <th>Pred 1</th>\n",
       "      <th>Pred 0</th>\n",
       "    </tr>\n",
       "  </thead>\n",
       "  <tbody>\n",
       "    <tr>\n",
       "      <th>Akt 1</th>\n",
       "      <td>61</td>\n",
       "      <td>199</td>\n",
       "    </tr>\n",
       "    <tr>\n",
       "      <th>Akt 0</th>\n",
       "      <td>182</td>\n",
       "      <td>1367</td>\n",
       "    </tr>\n",
       "  </tbody>\n",
       "</table>\n",
       "</div>"
      ],
      "text/plain": [
       "       Pred 1  Pred 0\n",
       "Akt 1      61     199\n",
       "Akt 0     182    1367"
      ]
     },
     "execution_count": 183,
     "metadata": {},
     "output_type": "execute_result"
    }
   ],
   "source": [
    "cm_dt_base_sm = confusion_matrix(y_test, pred_test_sm, labels=[1, 0])\n",
    "cm_dt_base_sm = pd.DataFrame(data=cm_dt_base_sm, index=['Akt 1', 'Akt 0'], columns=['Pred 1', 'Pred 0'])\n",
    "cm_dt_base_sm"
   ]
  },
  {
   "cell_type": "code",
   "execution_count": 184,
   "metadata": {},
   "outputs": [],
   "source": [
    "tp_dt_sm = cm_dt_base_sm['Pred 1'][0]\n",
    "tn_dt_sm = cm_dt_base_sm['Pred 0'][1]\n",
    "fp_dt_sm = cm_dt_base_sm['Pred 1'][1]\n",
    "fn_dt_sm = cm_dt_base_sm['Pred 0'][0]"
   ]
  },
  {
   "cell_type": "markdown",
   "metadata": {
    "id": "k4gmSwwRFMZw"
   },
   "source": [
    "## Random Forest"
   ]
  },
  {
   "cell_type": "markdown",
   "metadata": {
    "id": "g5TX7jSNFXzz"
   },
   "source": [
    "### Random Over Sampling"
   ]
  },
  {
   "cell_type": "code",
   "execution_count": 185,
   "metadata": {
    "id": "edYkr7oHE4zX"
   },
   "outputs": [],
   "source": [
    "random_forest = RandomForestClassifier()\n",
    "random_forest.fit(x_train_os, y_train_os)\n",
    "pred_train_os = random_forest.predict(x_train_os)\n",
    "pred_test_os = random_forest.predict(x_test)"
   ]
  },
  {
   "cell_type": "code",
   "execution_count": 186,
   "metadata": {
    "id": "FzJB4zMKHHYB"
   },
   "outputs": [],
   "source": [
    "rf_acc_base_train_os = accuracy_score(y_train_os, pred_train_os)\n",
    "rf_acc_base_test_os = accuracy_score(y_test, pred_test_os)\n",
    "rf_recall_base_train_os = recall_score(y_train_os, pred_train_os)\n",
    "rf_recall_base_test_os = recall_score(y_test, pred_test_os)\n",
    "rf_prec_base_train_os = precision_score(y_train_os, pred_train_os)\n",
    "rf_prec_base_test_os = precision_score(y_test, pred_test_os)\n",
    "rf_f1_base_train_os = f1_score(y_train_os, pred_train_os)\n",
    "rf_f1_base_test_os = f1_score(y_test, pred_test_os)"
   ]
  },
  {
   "cell_type": "code",
   "execution_count": 187,
   "metadata": {
    "colab": {
     "base_uri": "https://localhost:8080/",
     "height": 110
    },
    "id": "SY90tjG3HRox",
    "outputId": "9812c647-5b9e-44a8-cb15-5cd65c586ac0"
   },
   "outputs": [
    {
     "data": {
      "text/html": [
       "<div>\n",
       "<style scoped>\n",
       "    .dataframe tbody tr th:only-of-type {\n",
       "        vertical-align: middle;\n",
       "    }\n",
       "\n",
       "    .dataframe tbody tr th {\n",
       "        vertical-align: top;\n",
       "    }\n",
       "\n",
       "    .dataframe thead th {\n",
       "        text-align: right;\n",
       "    }\n",
       "</style>\n",
       "<table border=\"1\" class=\"dataframe\">\n",
       "  <thead>\n",
       "    <tr style=\"text-align: right;\">\n",
       "      <th></th>\n",
       "      <th>Pred 1</th>\n",
       "      <th>Pred 0</th>\n",
       "    </tr>\n",
       "  </thead>\n",
       "  <tbody>\n",
       "    <tr>\n",
       "      <th>Akt 1</th>\n",
       "      <td>203</td>\n",
       "      <td>57</td>\n",
       "    </tr>\n",
       "    <tr>\n",
       "      <th>Akt 0</th>\n",
       "      <td>7</td>\n",
       "      <td>1542</td>\n",
       "    </tr>\n",
       "  </tbody>\n",
       "</table>\n",
       "</div>"
      ],
      "text/plain": [
       "       Pred 1  Pred 0\n",
       "Akt 1     203      57\n",
       "Akt 0       7    1542"
      ]
     },
     "execution_count": 187,
     "metadata": {},
     "output_type": "execute_result"
    }
   ],
   "source": [
    "cm_rf_base_os = confusion_matrix(y_test, pred_test_os, labels=[1, 0])\n",
    "cm_rf_base_os = pd.DataFrame(data=cm_rf_base_os, index=['Akt 1', 'Akt 0'], columns=['Pred 1', 'Pred 0'])\n",
    "cm_rf_base_os"
   ]
  },
  {
   "cell_type": "code",
   "execution_count": 188,
   "metadata": {},
   "outputs": [],
   "source": [
    "tp_rf_os = cm_rf_base_os['Pred 1'][0]\n",
    "tn_rf_os = cm_rf_base_os['Pred 0'][1]\n",
    "fp_rf_os = cm_rf_base_os['Pred 1'][1]\n",
    "fn_rf_os = cm_rf_base_os['Pred 0'][0]"
   ]
  },
  {
   "cell_type": "markdown",
   "metadata": {
    "id": "XosiHszUfUoL"
   },
   "source": [
    "### Smote"
   ]
  },
  {
   "cell_type": "code",
   "execution_count": 189,
   "metadata": {
    "id": "_1-d-TnifV0m"
   },
   "outputs": [],
   "source": [
    "random_forest.fit(x_train_sm, y_train_sm)\n",
    "pred_train_sm = random_forest.predict(x_train_sm)\n",
    "pred_test_sm = random_forest.predict(x_test)"
   ]
  },
  {
   "cell_type": "code",
   "execution_count": 190,
   "metadata": {
    "id": "oJcykPsrfcBV"
   },
   "outputs": [],
   "source": [
    "rf_acc_base_train_sm = accuracy_score(y_train_sm, pred_train_sm)\n",
    "rf_acc_base_test_sm = accuracy_score(y_test, pred_test_sm)\n",
    "rf_recall_base_train_sm = recall_score(y_train_sm, pred_train_sm)\n",
    "rf_recall_base_test_sm = recall_score(y_test, pred_test_sm)\n",
    "rf_prec_base_train_sm = precision_score(y_train_sm, pred_train_sm)\n",
    "rf_prec_base_test_sm = precision_score(y_test, pred_test_sm)\n",
    "rf_f1_base_train_sm = f1_score(y_train_sm, pred_train_sm)\n",
    "rf_f1_base_test_sm = f1_score(y_test, pred_test_sm)"
   ]
  },
  {
   "cell_type": "code",
   "execution_count": 191,
   "metadata": {
    "colab": {
     "base_uri": "https://localhost:8080/",
     "height": 110
    },
    "id": "bq5oVum-fueT",
    "outputId": "b740a1b1-5b5d-4b00-d43f-e8f3cc163e68"
   },
   "outputs": [
    {
     "data": {
      "text/html": [
       "<div>\n",
       "<style scoped>\n",
       "    .dataframe tbody tr th:only-of-type {\n",
       "        vertical-align: middle;\n",
       "    }\n",
       "\n",
       "    .dataframe tbody tr th {\n",
       "        vertical-align: top;\n",
       "    }\n",
       "\n",
       "    .dataframe thead th {\n",
       "        text-align: right;\n",
       "    }\n",
       "</style>\n",
       "<table border=\"1\" class=\"dataframe\">\n",
       "  <thead>\n",
       "    <tr style=\"text-align: right;\">\n",
       "      <th></th>\n",
       "      <th>Pred 1</th>\n",
       "      <th>Pred 0</th>\n",
       "    </tr>\n",
       "  </thead>\n",
       "  <tbody>\n",
       "    <tr>\n",
       "      <th>Akt 1</th>\n",
       "      <td>57</td>\n",
       "      <td>203</td>\n",
       "    </tr>\n",
       "    <tr>\n",
       "      <th>Akt 0</th>\n",
       "      <td>17</td>\n",
       "      <td>1532</td>\n",
       "    </tr>\n",
       "  </tbody>\n",
       "</table>\n",
       "</div>"
      ],
      "text/plain": [
       "       Pred 1  Pred 0\n",
       "Akt 1      57     203\n",
       "Akt 0      17    1532"
      ]
     },
     "execution_count": 191,
     "metadata": {},
     "output_type": "execute_result"
    }
   ],
   "source": [
    "cm_rf_base_sm = confusion_matrix(y_test, pred_test_sm, labels=[1, 0])\n",
    "cm_rf_base_sm = pd.DataFrame(data=cm_rf_base_sm, index=['Akt 1', 'Akt 0'], columns=['Pred 1', 'Pred 0'])\n",
    "cm_rf_base_sm"
   ]
  },
  {
   "cell_type": "code",
   "execution_count": 192,
   "metadata": {},
   "outputs": [],
   "source": [
    "tp_rf_sm = cm_rf_base_sm['Pred 1'][0]\n",
    "tn_rf_sm = cm_rf_base_sm['Pred 0'][1]\n",
    "fp_rf_sm = cm_rf_base_sm['Pred 1'][1]\n",
    "fn_rf_sm = cm_rf_base_sm['Pred 0'][0]"
   ]
  },
  {
   "cell_type": "markdown",
   "metadata": {
    "id": "MlBbwjN4Myr2"
   },
   "source": [
    "## XGBoost"
   ]
  },
  {
   "cell_type": "markdown",
   "metadata": {
    "id": "4oBwYY3uM4J1"
   },
   "source": [
    "### Random Over Sampling"
   ]
  },
  {
   "cell_type": "code",
   "execution_count": 193,
   "metadata": {
    "id": "p0XnaKmOJ8zg"
   },
   "outputs": [],
   "source": [
    "xgb = XGBClassifier()\n",
    "xgb.fit(x_train_os, y_train_os)\n",
    "pred_train_os = xgb.predict(x_train_os)\n",
    "pred_test_os = xgb.predict(x_test)"
   ]
  },
  {
   "cell_type": "code",
   "execution_count": 194,
   "metadata": {
    "id": "BQwpVhPrNpK7"
   },
   "outputs": [],
   "source": [
    "xgb_acc_base_train_os = accuracy_score(y_train_os, pred_train_os)\n",
    "xgb_acc_base_test_os = accuracy_score(y_test, pred_test_os)\n",
    "xgb_recall_base_train_os = recall_score(y_train_os, pred_train_os)\n",
    "xgb_recall_base_test_os = recall_score(y_test, pred_test_os)\n",
    "xgb_prec_base_train_os = precision_score(y_train_os, pred_train_os)\n",
    "xgb_prec_base_test_os = precision_score(y_test, pred_test_os)\n",
    "xgb_f1_base_train_os = f1_score(y_train_os, pred_train_os)\n",
    "xgb_f1_base_test_os = f1_score(y_test, pred_test_os)"
   ]
  },
  {
   "cell_type": "code",
   "execution_count": 195,
   "metadata": {
    "colab": {
     "base_uri": "https://localhost:8080/",
     "height": 110
    },
    "id": "3rVuHPGkNxxP",
    "outputId": "e85ce5d9-a168-4155-b5c4-4932dbd10288"
   },
   "outputs": [
    {
     "data": {
      "text/html": [
       "<div>\n",
       "<style scoped>\n",
       "    .dataframe tbody tr th:only-of-type {\n",
       "        vertical-align: middle;\n",
       "    }\n",
       "\n",
       "    .dataframe tbody tr th {\n",
       "        vertical-align: top;\n",
       "    }\n",
       "\n",
       "    .dataframe thead th {\n",
       "        text-align: right;\n",
       "    }\n",
       "</style>\n",
       "<table border=\"1\" class=\"dataframe\">\n",
       "  <thead>\n",
       "    <tr style=\"text-align: right;\">\n",
       "      <th></th>\n",
       "      <th>Pred 1</th>\n",
       "      <th>Pred 0</th>\n",
       "    </tr>\n",
       "  </thead>\n",
       "  <tbody>\n",
       "    <tr>\n",
       "      <th>Akt 1</th>\n",
       "      <td>153</td>\n",
       "      <td>107</td>\n",
       "    </tr>\n",
       "    <tr>\n",
       "      <th>Akt 0</th>\n",
       "      <td>32</td>\n",
       "      <td>1517</td>\n",
       "    </tr>\n",
       "  </tbody>\n",
       "</table>\n",
       "</div>"
      ],
      "text/plain": [
       "       Pred 1  Pred 0\n",
       "Akt 1     153     107\n",
       "Akt 0      32    1517"
      ]
     },
     "execution_count": 195,
     "metadata": {},
     "output_type": "execute_result"
    }
   ],
   "source": [
    "cm_xgb_base_os = confusion_matrix(y_test, pred_test_os, labels=[1, 0])\n",
    "cm_xgb_base_os = pd.DataFrame(data=cm_xgb_base_os, index=['Akt 1', 'Akt 0'], columns=['Pred 1', 'Pred 0'])\n",
    "cm_xgb_base_os"
   ]
  },
  {
   "cell_type": "code",
   "execution_count": 196,
   "metadata": {},
   "outputs": [],
   "source": [
    "tp_xgb_os = cm_xgb_base_os['Pred 1'][0]\n",
    "tn_xgb_os = cm_xgb_base_os['Pred 0'][1]\n",
    "fp_xgb_os = cm_xgb_base_os['Pred 1'][1]\n",
    "fn_xgb_os = cm_xgb_base_os['Pred 0'][0]"
   ]
  },
  {
   "cell_type": "markdown",
   "metadata": {
    "id": "7x0Nj2-if3Gb"
   },
   "source": [
    "### Smote"
   ]
  },
  {
   "cell_type": "code",
   "execution_count": 197,
   "metadata": {
    "colab": {
     "base_uri": "https://localhost:8080/",
     "height": 640
    },
    "id": "wWbyCGWRf4Zs",
    "outputId": "648be3e8-3389-4c5c-8f35-1d91645d5bc7"
   },
   "outputs": [],
   "source": [
    "xgb.fit(x_train_sm, y_train_sm)\n",
    "pred_train_sm = xgb.predict(x_train_sm)\n",
    "pred_test_sm = xgb.predict(x_test)"
   ]
  },
  {
   "cell_type": "code",
   "execution_count": 198,
   "metadata": {
    "id": "G46VRBA9gBL2"
   },
   "outputs": [],
   "source": [
    "xgb_acc_base_train_sm = accuracy_score(y_train_sm, pred_train_sm)\n",
    "xgb_acc_base_test_sm = accuracy_score(y_test, pred_test_sm)\n",
    "xgb_recall_base_train_sm = recall_score(y_train_sm, pred_train_sm)\n",
    "xgb_recall_base_test_sm = recall_score(y_test, pred_test_sm)\n",
    "xgb_prec_base_train_sm = precision_score(y_train_sm, pred_train_sm)\n",
    "xgb_prec_base_test_sm = precision_score(y_test, pred_test_sm)\n",
    "xgb_f1_base_train_sm = f1_score(y_train_sm, pred_train_sm)\n",
    "xgb_f1_base_test_sm = f1_score(y_test, pred_test_sm)"
   ]
  },
  {
   "cell_type": "code",
   "execution_count": 199,
   "metadata": {
    "id": "SrFkHPp0gNY1"
   },
   "outputs": [
    {
     "data": {
      "text/html": [
       "<div>\n",
       "<style scoped>\n",
       "    .dataframe tbody tr th:only-of-type {\n",
       "        vertical-align: middle;\n",
       "    }\n",
       "\n",
       "    .dataframe tbody tr th {\n",
       "        vertical-align: top;\n",
       "    }\n",
       "\n",
       "    .dataframe thead th {\n",
       "        text-align: right;\n",
       "    }\n",
       "</style>\n",
       "<table border=\"1\" class=\"dataframe\">\n",
       "  <thead>\n",
       "    <tr style=\"text-align: right;\">\n",
       "      <th></th>\n",
       "      <th>Pred 1</th>\n",
       "      <th>Pred 0</th>\n",
       "    </tr>\n",
       "  </thead>\n",
       "  <tbody>\n",
       "    <tr>\n",
       "      <th>Akt 1</th>\n",
       "      <td>44</td>\n",
       "      <td>216</td>\n",
       "    </tr>\n",
       "    <tr>\n",
       "      <th>Akt 0</th>\n",
       "      <td>27</td>\n",
       "      <td>1522</td>\n",
       "    </tr>\n",
       "  </tbody>\n",
       "</table>\n",
       "</div>"
      ],
      "text/plain": [
       "       Pred 1  Pred 0\n",
       "Akt 1      44     216\n",
       "Akt 0      27    1522"
      ]
     },
     "execution_count": 199,
     "metadata": {},
     "output_type": "execute_result"
    }
   ],
   "source": [
    "cm_xgb_base_sm = confusion_matrix(y_test, pred_test_sm, labels=[1, 0])\n",
    "cm_xgb_base_sm = pd.DataFrame(data=cm_xgb_base_sm, index=['Akt 1', 'Akt 0'], columns=['Pred 1', 'Pred 0'])\n",
    "cm_xgb_base_sm"
   ]
  },
  {
   "cell_type": "code",
   "execution_count": 200,
   "metadata": {},
   "outputs": [],
   "source": [
    "tp_xgb_sm = cm_xgb_base_sm['Pred 1'][0]\n",
    "tn_xgb_sm = cm_xgb_base_sm['Pred 0'][1]\n",
    "fp_xgb_sm = cm_xgb_base_sm['Pred 1'][1]\n",
    "fn_xgb_sm = cm_xgb_base_sm['Pred 0'][0]"
   ]
  },
  {
   "cell_type": "markdown",
   "metadata": {
    "id": "XguosidogXFU"
   },
   "source": [
    "## Evaluation Matrix For DT, RF, XGB"
   ]
  },
  {
   "cell_type": "code",
   "execution_count": 201,
   "metadata": {
    "id": "PTvHNsTwgSa7"
   },
   "outputs": [],
   "source": [
    "base_os = {\n",
    "    \"DT_OS_Train\": [dt_acc_base_train_os, dt_recall_base_train_os, dt_prec_base_train_os, dt_f1_base_train_os],\n",
    "    \"DT_OS_Test\" : [dt_acc_base_test_os, dt_recall_base_test_os, dt_prec_base_test_os, dt_f1_base_test_os],\n",
    "    \"RF_OS_Train\": [rf_acc_base_train_os, rf_recall_base_train_os, rf_prec_base_train_os, rf_f1_base_train_os],\n",
    "    \"RF_OS_Test\" : [rf_acc_base_test_os, rf_recall_base_test_os, rf_prec_base_test_os, rf_f1_base_test_os],\n",
    "    \"XGB_OS_Train\": [xgb_acc_base_train_os, xgb_recall_base_train_os, xgb_prec_base_train_os, xgb_f1_base_train_os],\n",
    "    \"XGB_OS_Test\" : [xgb_acc_base_test_os, xgb_recall_base_test_os, xgb_prec_base_test_os, xgb_f1_base_test_os]\n",
    "    }\n",
    "base_os_matrix = pd.DataFrame(data = base_os, index = ['Accuracy', 'Recall', 'Precision', 'F1 Score'])\n",
    "\n",
    "base_sm = {\n",
    "    \"DT_SM_Train\": [dt_acc_base_train_sm, dt_recall_base_train_sm, dt_prec_base_train_sm, dt_f1_base_train_sm],\n",
    "    \"DT_SM_Test\" : [dt_acc_base_test_sm, dt_recall_base_test_sm, dt_prec_base_test_sm, dt_f1_base_test_sm],\n",
    "    \"RF_SM_Train\": [rf_acc_base_train_sm, rf_recall_base_train_sm, rf_prec_base_train_sm, rf_f1_base_train_sm],\n",
    "    \"RF_SM_Test\" : [rf_acc_base_test_sm, rf_recall_base_test_sm, rf_prec_base_test_sm, rf_f1_base_test_sm],\n",
    "    \"XGB_SM_Train\": [xgb_acc_base_train_sm, xgb_recall_base_train_sm, xgb_prec_base_train_sm, xgb_f1_base_train_sm],\n",
    "    \"XGB_SM_Test\" : [xgb_acc_base_test_sm, xgb_recall_base_test_sm, xgb_prec_base_test_sm, xgb_f1_base_test_sm]\n",
    "    }\n",
    "base_sm_matrix = pd.DataFrame(data = base_sm, index = ['Accuracy', 'Recall', 'Precision', 'F1 Score'])"
   ]
  },
  {
   "cell_type": "code",
   "execution_count": 202,
   "metadata": {},
   "outputs": [
    {
     "data": {
      "text/html": [
       "<div>\n",
       "<style scoped>\n",
       "    .dataframe tbody tr th:only-of-type {\n",
       "        vertical-align: middle;\n",
       "    }\n",
       "\n",
       "    .dataframe tbody tr th {\n",
       "        vertical-align: top;\n",
       "    }\n",
       "\n",
       "    .dataframe thead th {\n",
       "        text-align: right;\n",
       "    }\n",
       "</style>\n",
       "<table border=\"1\" class=\"dataframe\">\n",
       "  <thead>\n",
       "    <tr style=\"text-align: right;\">\n",
       "      <th></th>\n",
       "      <th>Accuracy</th>\n",
       "      <th>Precision</th>\n",
       "      <th>Recall</th>\n",
       "      <th>F1 Score</th>\n",
       "    </tr>\n",
       "  </thead>\n",
       "  <tbody>\n",
       "    <tr>\n",
       "      <th>Decision Tree Train OS</th>\n",
       "      <td>1.000000</td>\n",
       "      <td>1.000000</td>\n",
       "      <td>1.000000</td>\n",
       "      <td>1.000000</td>\n",
       "    </tr>\n",
       "    <tr>\n",
       "      <th>Decision Tree Test OS</th>\n",
       "      <td>0.901050</td>\n",
       "      <td>0.723757</td>\n",
       "      <td>0.503846</td>\n",
       "      <td>0.594104</td>\n",
       "    </tr>\n",
       "    <tr>\n",
       "      <th>Random Forest Train OS</th>\n",
       "      <td>1.000000</td>\n",
       "      <td>1.000000</td>\n",
       "      <td>1.000000</td>\n",
       "      <td>1.000000</td>\n",
       "    </tr>\n",
       "    <tr>\n",
       "      <th>Random Forest Test OS</th>\n",
       "      <td>0.964621</td>\n",
       "      <td>0.966667</td>\n",
       "      <td>0.780769</td>\n",
       "      <td>0.863830</td>\n",
       "    </tr>\n",
       "    <tr>\n",
       "      <th>XGBoost Train OS</th>\n",
       "      <td>0.999112</td>\n",
       "      <td>0.998227</td>\n",
       "      <td>1.000000</td>\n",
       "      <td>0.999113</td>\n",
       "    </tr>\n",
       "    <tr>\n",
       "      <th>XGBoost Test OS</th>\n",
       "      <td>0.923162</td>\n",
       "      <td>0.827027</td>\n",
       "      <td>0.588462</td>\n",
       "      <td>0.687640</td>\n",
       "    </tr>\n",
       "    <tr>\n",
       "      <th>Decision Tree Train SM</th>\n",
       "      <td>1.000000</td>\n",
       "      <td>1.000000</td>\n",
       "      <td>1.000000</td>\n",
       "      <td>1.000000</td>\n",
       "    </tr>\n",
       "    <tr>\n",
       "      <th>Decision Tree Test SM</th>\n",
       "      <td>0.789386</td>\n",
       "      <td>0.251029</td>\n",
       "      <td>0.234615</td>\n",
       "      <td>0.242545</td>\n",
       "    </tr>\n",
       "    <tr>\n",
       "      <th>Random Forest Train SM</th>\n",
       "      <td>1.000000</td>\n",
       "      <td>1.000000</td>\n",
       "      <td>1.000000</td>\n",
       "      <td>1.000000</td>\n",
       "    </tr>\n",
       "    <tr>\n",
       "      <th>Random Forest Test SM</th>\n",
       "      <td>0.878386</td>\n",
       "      <td>0.770270</td>\n",
       "      <td>0.219231</td>\n",
       "      <td>0.341317</td>\n",
       "    </tr>\n",
       "    <tr>\n",
       "      <th>XGBoost Train SM</th>\n",
       "      <td>0.999758</td>\n",
       "      <td>1.000000</td>\n",
       "      <td>0.999516</td>\n",
       "      <td>0.999758</td>\n",
       "    </tr>\n",
       "    <tr>\n",
       "      <th>XGBoost Test SM</th>\n",
       "      <td>0.865672</td>\n",
       "      <td>0.619718</td>\n",
       "      <td>0.169231</td>\n",
       "      <td>0.265861</td>\n",
       "    </tr>\n",
       "  </tbody>\n",
       "</table>\n",
       "</div>"
      ],
      "text/plain": [
       "                        Accuracy  Precision    Recall  F1 Score\n",
       "Decision Tree Train OS  1.000000   1.000000  1.000000  1.000000\n",
       "Decision Tree Test OS   0.901050   0.723757  0.503846  0.594104\n",
       "Random Forest Train OS  1.000000   1.000000  1.000000  1.000000\n",
       "Random Forest Test OS   0.964621   0.966667  0.780769  0.863830\n",
       "XGBoost Train OS        0.999112   0.998227  1.000000  0.999113\n",
       "XGBoost Test OS         0.923162   0.827027  0.588462  0.687640\n",
       "Decision Tree Train SM  1.000000   1.000000  1.000000  1.000000\n",
       "Decision Tree Test SM   0.789386   0.251029  0.234615  0.242545\n",
       "Random Forest Train SM  1.000000   1.000000  1.000000  1.000000\n",
       "Random Forest Test SM   0.878386   0.770270  0.219231  0.341317\n",
       "XGBoost Train SM        0.999758   1.000000  0.999516  0.999758\n",
       "XGBoost Test SM         0.865672   0.619718  0.169231  0.265861"
      ]
     },
     "execution_count": 202,
     "metadata": {},
     "output_type": "execute_result"
    }
   ],
   "source": [
    "summary = {\n",
    "    \"Accuracy\" : [dt_acc_base_train_os, dt_acc_base_test_os, \n",
    "                  rf_acc_base_train_os, rf_acc_base_test_os,\n",
    "                  xgb_acc_base_train_os, xgb_acc_base_test_os,\n",
    "                  dt_acc_base_train_sm, dt_acc_base_test_sm,\n",
    "                  rf_acc_base_train_sm, rf_acc_base_test_sm, \n",
    "                  xgb_acc_base_train_sm, xgb_acc_base_test_sm],\n",
    "    \n",
    "    \"Precision\" : [dt_prec_base_train_os, dt_prec_base_test_os,\n",
    "                   rf_prec_base_train_os, rf_prec_base_test_os,\n",
    "                   xgb_prec_base_train_os, xgb_prec_base_test_os,\n",
    "                   dt_prec_base_train_sm, dt_prec_base_test_sm,\n",
    "                   rf_prec_base_train_sm, rf_prec_base_test_sm,\n",
    "                   xgb_prec_base_train_sm, xgb_prec_base_test_sm],\n",
    "    \n",
    "    \"Recall\": [dt_recall_base_train_os, dt_recall_base_test_os,\n",
    "               rf_recall_base_train_os, rf_recall_base_test_os, \n",
    "               xgb_recall_base_train_os, xgb_recall_base_test_os,\n",
    "               dt_recall_base_train_sm, dt_recall_base_test_sm,\n",
    "               rf_recall_base_train_sm, rf_recall_base_test_sm, \n",
    "               xgb_recall_base_train_sm, xgb_recall_base_test_sm],\n",
    "    \n",
    "    \"F1 Score\": [dt_f1_base_train_os, dt_f1_base_test_os, \n",
    "                 rf_f1_base_train_os, rf_f1_base_test_os,\n",
    "                 xgb_f1_base_train_os, xgb_f1_base_test_os,\n",
    "                 dt_f1_base_train_sm, dt_f1_base_test_sm, \n",
    "                 rf_f1_base_train_sm, rf_f1_base_test_sm,\n",
    "                 xgb_f1_base_train_sm, xgb_f1_base_test_sm]}\n",
    "    \n",
    "sum_matrix = pd.DataFrame(data = summary, index = ['Decision Tree Train OS', 'Decision Tree Test OS',\n",
    "                                                   'Random Forest Train OS', 'Random Forest Test OS',\n",
    "                                                   'XGBoost Train OS', 'XGBoost Test OS', \n",
    "                                                   'Decision Tree Train SM', 'Decision Tree Test SM',\n",
    "                                                   'Random Forest Train SM', 'Random Forest Test SM',\n",
    "                                                   'XGBoost Train SM', 'XGBoost Test SM'])\n",
    "# sum_matrix.sort_values('F1 Score', ascending = False)\n",
    "sum_matrix"
   ]
  },
  {
   "cell_type": "code",
   "execution_count": 203,
   "metadata": {},
   "outputs": [
    {
     "data": {
      "text/html": [
       "<div>\n",
       "<style scoped>\n",
       "    .dataframe tbody tr th:only-of-type {\n",
       "        vertical-align: middle;\n",
       "    }\n",
       "\n",
       "    .dataframe tbody tr th {\n",
       "        vertical-align: top;\n",
       "    }\n",
       "\n",
       "    .dataframe thead th {\n",
       "        text-align: right;\n",
       "    }\n",
       "</style>\n",
       "<table border=\"1\" class=\"dataframe\">\n",
       "  <thead>\n",
       "    <tr style=\"text-align: right;\">\n",
       "      <th></th>\n",
       "      <th>DT_OS_Train</th>\n",
       "      <th>DT_OS_Test</th>\n",
       "      <th>RF_OS_Train</th>\n",
       "      <th>RF_OS_Test</th>\n",
       "      <th>XGB_OS_Train</th>\n",
       "      <th>XGB_OS_Test</th>\n",
       "    </tr>\n",
       "  </thead>\n",
       "  <tbody>\n",
       "    <tr>\n",
       "      <th>Accuracy</th>\n",
       "      <td>1.0</td>\n",
       "      <td>0.901050</td>\n",
       "      <td>1.0</td>\n",
       "      <td>0.964621</td>\n",
       "      <td>0.999112</td>\n",
       "      <td>0.923162</td>\n",
       "    </tr>\n",
       "    <tr>\n",
       "      <th>Recall</th>\n",
       "      <td>1.0</td>\n",
       "      <td>0.503846</td>\n",
       "      <td>1.0</td>\n",
       "      <td>0.780769</td>\n",
       "      <td>1.000000</td>\n",
       "      <td>0.588462</td>\n",
       "    </tr>\n",
       "    <tr>\n",
       "      <th>Precision</th>\n",
       "      <td>1.0</td>\n",
       "      <td>0.723757</td>\n",
       "      <td>1.0</td>\n",
       "      <td>0.966667</td>\n",
       "      <td>0.998227</td>\n",
       "      <td>0.827027</td>\n",
       "    </tr>\n",
       "    <tr>\n",
       "      <th>F1 Score</th>\n",
       "      <td>1.0</td>\n",
       "      <td>0.594104</td>\n",
       "      <td>1.0</td>\n",
       "      <td>0.863830</td>\n",
       "      <td>0.999113</td>\n",
       "      <td>0.687640</td>\n",
       "    </tr>\n",
       "  </tbody>\n",
       "</table>\n",
       "</div>"
      ],
      "text/plain": [
       "           DT_OS_Train  DT_OS_Test  RF_OS_Train  RF_OS_Test  XGB_OS_Train  \\\n",
       "Accuracy           1.0    0.901050          1.0    0.964621      0.999112   \n",
       "Recall             1.0    0.503846          1.0    0.780769      1.000000   \n",
       "Precision          1.0    0.723757          1.0    0.966667      0.998227   \n",
       "F1 Score           1.0    0.594104          1.0    0.863830      0.999113   \n",
       "\n",
       "           XGB_OS_Test  \n",
       "Accuracy      0.923162  \n",
       "Recall        0.588462  \n",
       "Precision     0.827027  \n",
       "F1 Score      0.687640  "
      ]
     },
     "execution_count": 203,
     "metadata": {},
     "output_type": "execute_result"
    }
   ],
   "source": [
    "base_os_matrix\n",
    "#XGB with Random Over Sampling"
   ]
  },
  {
   "cell_type": "code",
   "execution_count": 204,
   "metadata": {},
   "outputs": [
    {
     "data": {
      "text/html": [
       "<div>\n",
       "<style scoped>\n",
       "    .dataframe tbody tr th:only-of-type {\n",
       "        vertical-align: middle;\n",
       "    }\n",
       "\n",
       "    .dataframe tbody tr th {\n",
       "        vertical-align: top;\n",
       "    }\n",
       "\n",
       "    .dataframe thead th {\n",
       "        text-align: right;\n",
       "    }\n",
       "</style>\n",
       "<table border=\"1\" class=\"dataframe\">\n",
       "  <thead>\n",
       "    <tr style=\"text-align: right;\">\n",
       "      <th></th>\n",
       "      <th>DT_SM_Train</th>\n",
       "      <th>DT_SM_Test</th>\n",
       "      <th>RF_SM_Train</th>\n",
       "      <th>RF_SM_Test</th>\n",
       "      <th>XGB_SM_Train</th>\n",
       "      <th>XGB_SM_Test</th>\n",
       "    </tr>\n",
       "  </thead>\n",
       "  <tbody>\n",
       "    <tr>\n",
       "      <th>Accuracy</th>\n",
       "      <td>1.0</td>\n",
       "      <td>0.789386</td>\n",
       "      <td>1.0</td>\n",
       "      <td>0.878386</td>\n",
       "      <td>0.999758</td>\n",
       "      <td>0.865672</td>\n",
       "    </tr>\n",
       "    <tr>\n",
       "      <th>Recall</th>\n",
       "      <td>1.0</td>\n",
       "      <td>0.234615</td>\n",
       "      <td>1.0</td>\n",
       "      <td>0.219231</td>\n",
       "      <td>0.999516</td>\n",
       "      <td>0.169231</td>\n",
       "    </tr>\n",
       "    <tr>\n",
       "      <th>Precision</th>\n",
       "      <td>1.0</td>\n",
       "      <td>0.251029</td>\n",
       "      <td>1.0</td>\n",
       "      <td>0.770270</td>\n",
       "      <td>1.000000</td>\n",
       "      <td>0.619718</td>\n",
       "    </tr>\n",
       "    <tr>\n",
       "      <th>F1 Score</th>\n",
       "      <td>1.0</td>\n",
       "      <td>0.242545</td>\n",
       "      <td>1.0</td>\n",
       "      <td>0.341317</td>\n",
       "      <td>0.999758</td>\n",
       "      <td>0.265861</td>\n",
       "    </tr>\n",
       "  </tbody>\n",
       "</table>\n",
       "</div>"
      ],
      "text/plain": [
       "           DT_SM_Train  DT_SM_Test  RF_SM_Train  RF_SM_Test  XGB_SM_Train  \\\n",
       "Accuracy           1.0    0.789386          1.0    0.878386      0.999758   \n",
       "Recall             1.0    0.234615          1.0    0.219231      0.999516   \n",
       "Precision          1.0    0.251029          1.0    0.770270      1.000000   \n",
       "F1 Score           1.0    0.242545          1.0    0.341317      0.999758   \n",
       "\n",
       "           XGB_SM_Test  \n",
       "Accuracy      0.865672  \n",
       "Recall        0.169231  \n",
       "Precision     0.619718  \n",
       "F1 Score      0.265861  "
      ]
     },
     "execution_count": 204,
     "metadata": {},
     "output_type": "execute_result"
    }
   ],
   "source": [
    "base_sm_matrix"
   ]
  },
  {
   "cell_type": "code",
   "execution_count": 205,
   "metadata": {},
   "outputs": [
    {
     "data": {
      "text/html": [
       "<div>\n",
       "<style scoped>\n",
       "    .dataframe tbody tr th:only-of-type {\n",
       "        vertical-align: middle;\n",
       "    }\n",
       "\n",
       "    .dataframe tbody tr th {\n",
       "        vertical-align: top;\n",
       "    }\n",
       "\n",
       "    .dataframe thead th {\n",
       "        text-align: right;\n",
       "    }\n",
       "</style>\n",
       "<table border=\"1\" class=\"dataframe\">\n",
       "  <thead>\n",
       "    <tr style=\"text-align: right;\">\n",
       "      <th></th>\n",
       "      <th>True Positive</th>\n",
       "      <th>True Negative</th>\n",
       "      <th>False Positive</th>\n",
       "      <th>False Negative</th>\n",
       "    </tr>\n",
       "  </thead>\n",
       "  <tbody>\n",
       "    <tr>\n",
       "      <th>SVM OS Standard</th>\n",
       "      <td>240</td>\n",
       "      <td>1344</td>\n",
       "      <td>205</td>\n",
       "      <td>20</td>\n",
       "    </tr>\n",
       "    <tr>\n",
       "      <th>SVM OS Robust</th>\n",
       "      <td>240</td>\n",
       "      <td>1342</td>\n",
       "      <td>207</td>\n",
       "      <td>20</td>\n",
       "    </tr>\n",
       "    <tr>\n",
       "      <th>SVM OS MinMax</th>\n",
       "      <td>238</td>\n",
       "      <td>1307</td>\n",
       "      <td>242</td>\n",
       "      <td>22</td>\n",
       "    </tr>\n",
       "    <tr>\n",
       "      <th>Random Forest OS</th>\n",
       "      <td>203</td>\n",
       "      <td>1542</td>\n",
       "      <td>7</td>\n",
       "      <td>57</td>\n",
       "    </tr>\n",
       "    <tr>\n",
       "      <th>Logreg OS Standard</th>\n",
       "      <td>194</td>\n",
       "      <td>1090</td>\n",
       "      <td>459</td>\n",
       "      <td>66</td>\n",
       "    </tr>\n",
       "    <tr>\n",
       "      <th>Logreg OS Robust</th>\n",
       "      <td>191</td>\n",
       "      <td>1095</td>\n",
       "      <td>454</td>\n",
       "      <td>69</td>\n",
       "    </tr>\n",
       "    <tr>\n",
       "      <th>LogReg OS</th>\n",
       "      <td>191</td>\n",
       "      <td>1095</td>\n",
       "      <td>454</td>\n",
       "      <td>69</td>\n",
       "    </tr>\n",
       "    <tr>\n",
       "      <th>Logreg OS MinMax</th>\n",
       "      <td>184</td>\n",
       "      <td>1124</td>\n",
       "      <td>425</td>\n",
       "      <td>76</td>\n",
       "    </tr>\n",
       "    <tr>\n",
       "      <th>SVM OS</th>\n",
       "      <td>183</td>\n",
       "      <td>658</td>\n",
       "      <td>891</td>\n",
       "      <td>77</td>\n",
       "    </tr>\n",
       "    <tr>\n",
       "      <th>SVM SM</th>\n",
       "      <td>182</td>\n",
       "      <td>668</td>\n",
       "      <td>881</td>\n",
       "      <td>78</td>\n",
       "    </tr>\n",
       "    <tr>\n",
       "      <th>XGBoost OS</th>\n",
       "      <td>153</td>\n",
       "      <td>1517</td>\n",
       "      <td>32</td>\n",
       "      <td>107</td>\n",
       "    </tr>\n",
       "    <tr>\n",
       "      <th>Decision Tree OS</th>\n",
       "      <td>131</td>\n",
       "      <td>1499</td>\n",
       "      <td>50</td>\n",
       "      <td>129</td>\n",
       "    </tr>\n",
       "    <tr>\n",
       "      <th>SVM SM Standard</th>\n",
       "      <td>84</td>\n",
       "      <td>1533</td>\n",
       "      <td>16</td>\n",
       "      <td>176</td>\n",
       "    </tr>\n",
       "    <tr>\n",
       "      <th>SVM SM Robust</th>\n",
       "      <td>69</td>\n",
       "      <td>1537</td>\n",
       "      <td>12</td>\n",
       "      <td>191</td>\n",
       "    </tr>\n",
       "    <tr>\n",
       "      <th>Decision Tree SM</th>\n",
       "      <td>61</td>\n",
       "      <td>1367</td>\n",
       "      <td>182</td>\n",
       "      <td>199</td>\n",
       "    </tr>\n",
       "    <tr>\n",
       "      <th>Random Forest SM</th>\n",
       "      <td>57</td>\n",
       "      <td>1532</td>\n",
       "      <td>17</td>\n",
       "      <td>203</td>\n",
       "    </tr>\n",
       "    <tr>\n",
       "      <th>Logreg SM MinMax</th>\n",
       "      <td>54</td>\n",
       "      <td>1509</td>\n",
       "      <td>40</td>\n",
       "      <td>206</td>\n",
       "    </tr>\n",
       "    <tr>\n",
       "      <th>Logreg SM Standard</th>\n",
       "      <td>52</td>\n",
       "      <td>1514</td>\n",
       "      <td>35</td>\n",
       "      <td>208</td>\n",
       "    </tr>\n",
       "    <tr>\n",
       "      <th>SVM SM MinMax</th>\n",
       "      <td>50</td>\n",
       "      <td>1527</td>\n",
       "      <td>22</td>\n",
       "      <td>210</td>\n",
       "    </tr>\n",
       "    <tr>\n",
       "      <th>LogReg SM</th>\n",
       "      <td>45</td>\n",
       "      <td>1528</td>\n",
       "      <td>21</td>\n",
       "      <td>215</td>\n",
       "    </tr>\n",
       "    <tr>\n",
       "      <th>Logreg SM Robust</th>\n",
       "      <td>45</td>\n",
       "      <td>1528</td>\n",
       "      <td>21</td>\n",
       "      <td>215</td>\n",
       "    </tr>\n",
       "    <tr>\n",
       "      <th>XGBoost SM</th>\n",
       "      <td>44</td>\n",
       "      <td>1522</td>\n",
       "      <td>27</td>\n",
       "      <td>216</td>\n",
       "    </tr>\n",
       "  </tbody>\n",
       "</table>\n",
       "</div>"
      ],
      "text/plain": [
       "                    True Positive  True Negative  False Positive  \\\n",
       "SVM OS Standard               240           1344             205   \n",
       "SVM OS Robust                 240           1342             207   \n",
       "SVM OS MinMax                 238           1307             242   \n",
       "Random Forest OS              203           1542               7   \n",
       "Logreg OS Standard            194           1090             459   \n",
       "Logreg OS Robust              191           1095             454   \n",
       "LogReg OS                     191           1095             454   \n",
       "Logreg OS MinMax              184           1124             425   \n",
       "SVM OS                        183            658             891   \n",
       "SVM SM                        182            668             881   \n",
       "XGBoost OS                    153           1517              32   \n",
       "Decision Tree OS              131           1499              50   \n",
       "SVM SM Standard                84           1533              16   \n",
       "SVM SM Robust                  69           1537              12   \n",
       "Decision Tree SM               61           1367             182   \n",
       "Random Forest SM               57           1532              17   \n",
       "Logreg SM MinMax               54           1509              40   \n",
       "Logreg SM Standard             52           1514              35   \n",
       "SVM SM MinMax                  50           1527              22   \n",
       "LogReg SM                      45           1528              21   \n",
       "Logreg SM Robust               45           1528              21   \n",
       "XGBoost SM                     44           1522              27   \n",
       "\n",
       "                    False Negative  \n",
       "SVM OS Standard                 20  \n",
       "SVM OS Robust                   20  \n",
       "SVM OS MinMax                   22  \n",
       "Random Forest OS                57  \n",
       "Logreg OS Standard              66  \n",
       "Logreg OS Robust                69  \n",
       "LogReg OS                       69  \n",
       "Logreg OS MinMax                76  \n",
       "SVM OS                          77  \n",
       "SVM SM                          78  \n",
       "XGBoost OS                     107  \n",
       "Decision Tree OS               129  \n",
       "SVM SM Standard                176  \n",
       "SVM SM Robust                  191  \n",
       "Decision Tree SM               199  \n",
       "Random Forest SM               203  \n",
       "Logreg SM MinMax               206  \n",
       "Logreg SM Standard             208  \n",
       "SVM SM MinMax                  210  \n",
       "LogReg SM                      215  \n",
       "Logreg SM Robust               215  \n",
       "XGBoost SM                     216  "
      ]
     },
     "execution_count": 205,
     "metadata": {},
     "output_type": "execute_result"
    }
   ],
   "source": [
    "cm = {\n",
    "    \"True Positive\" : [tp_svm_os, tp_svm_os_std, tp_svm_os_mm, tp_svm_os_rb, \n",
    "                       tp_svm_sm, tp_svm_sm_std, tp_svm_sm_mm, tp_svm_sm_rb,\n",
    "                       tp_logreg_os, tp_logreg_os_std, tp_logreg_os_mm, tp_logreg_os_rb, \n",
    "                       tp_logreg_sm, tp_logreg_sm_std, tp_logreg_sm_mm, tp_logreg_sm_rb,\n",
    "                       tp_dt_os, tp_dt_sm, tp_rf_os, tp_rf_sm, tp_xgb_os, tp_xgb_sm],\n",
    "    \n",
    "    \"True Negative\" : [tn_svm_os, tn_svm_os_std, tn_svm_os_mm, tn_svm_os_rb, \n",
    "                       tn_svm_sm, tn_svm_sm_std, tn_svm_sm_mm, tn_svm_sm_rb,\n",
    "                       tn_logreg_os, tn_logreg_os_std, tn_logreg_os_mm, tn_logreg_os_rb, \n",
    "                       tn_logreg_sm, tn_logreg_sm_std, tn_logreg_sm_mm, tn_logreg_sm_rb,\n",
    "                       tn_dt_os, tn_dt_sm, tn_rf_os, tn_rf_sm, tn_xgb_os, tn_xgb_sm],\n",
    "    \n",
    "    \"False Positive\": [fp_svm_os, fp_svm_os_std, fp_svm_os_mm, fp_svm_os_rb, \n",
    "                       fp_svm_sm, fp_svm_sm_std, fp_svm_sm_mm, fp_svm_sm_rb,\n",
    "                       fp_logreg_os, fp_logreg_os_std, fp_logreg_os_mm, fp_logreg_os_rb, \n",
    "                       fp_logreg_sm, fp_logreg_sm_std, fp_logreg_sm_mm, fp_logreg_sm_rb,\n",
    "                       fp_dt_os, fp_dt_sm, fp_rf_os, fp_rf_sm, fp_xgb_os, fp_xgb_sm],\n",
    "    \n",
    "    \"False Negative\": [fn_svm_os, fn_svm_os_std, fn_svm_os_mm, fn_svm_os_rb, \n",
    "                       fn_svm_sm, fn_svm_sm_std, fn_svm_sm_mm, fn_svm_sm_rb,\n",
    "                       fn_logreg_os, fn_logreg_os_std, fn_logreg_os_mm, fn_logreg_os_rb, \n",
    "                       fn_logreg_sm, fn_logreg_sm_std, fn_logreg_sm_mm, fn_logreg_sm_rb,\n",
    "                       fn_dt_os, fn_dt_sm, fn_rf_os, fn_rf_sm, fn_xgb_os, fn_xgb_sm]\n",
    "}\n",
    "    \n",
    "cm_matrix = pd.DataFrame(data = cm, index = ['SVM OS', 'SVM OS Standard', 'SVM OS MinMax', 'SVM OS Robust',\n",
    "                                             'SVM SM', 'SVM SM Standard', 'SVM SM MinMax', 'SVM SM Robust',\n",
    "                                             'LogReg OS', 'Logreg OS Standard', 'Logreg OS MinMax', 'Logreg OS Robust',\n",
    "                                             'LogReg SM', 'Logreg SM Standard', 'Logreg SM MinMax', 'Logreg SM Robust',\n",
    "                                             'Decision Tree OS', 'Decision Tree SM', \n",
    "                                             'Random Forest OS', 'Random Forest SM',\n",
    "                                             'XGBoost OS', 'XGBoost SM'])\n",
    "cm_matrix.sort_values('False Negative')\n",
    "#SVM with Random Over Sampling and Standard Scaling"
   ]
  }
 ],
 "metadata": {
  "accelerator": "GPU",
  "colab": {
   "collapsed_sections": [],
   "name": "machine learning",
   "provenance": []
  },
  "kernelspec": {
   "display_name": "Python 3",
   "language": "python",
   "name": "python3"
  },
  "language_info": {
   "codemirror_mode": {
    "name": "ipython",
    "version": 3
   },
   "file_extension": ".py",
   "mimetype": "text/x-python",
   "name": "python",
   "nbconvert_exporter": "python",
   "pygments_lexer": "ipython3",
   "version": "3.8.3"
  }
 },
 "nbformat": 4,
 "nbformat_minor": 1
}
